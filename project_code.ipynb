{
  "nbformat": 4,
  "nbformat_minor": 0,
  "metadata": {
    "colab": {
      "name": "project_code.ipynb",
      "provenance": [],
      "collapsed_sections": [],
      "toc_visible": true,
      "authorship_tag": "ABX9TyPgoUW5bBupVLgndqLa0lMe",
      "include_colab_link": true
    },
    "kernelspec": {
      "name": "python3",
      "display_name": "Python 3"
    }
  },
  "cells": [
    {
      "cell_type": "markdown",
      "metadata": {
        "id": "view-in-github",
        "colab_type": "text"
      },
      "source": [
        "<a href=\"https://colab.research.google.com/github/Andreaierardi/SocialNetworkAnalysis-project/blob/main/project_code.ipynb\" target=\"_parent\"><img src=\"https://colab.research.google.com/assets/colab-badge.svg\" alt=\"Open In Colab\"/></a>"
      ]
    },
    {
      "cell_type": "markdown",
      "metadata": {
        "id": "emEG98GnrQo6"
      },
      "source": [
        "# **Social Network Analysis Project**\n",
        "\n",
        "> ## **University of Milan** - **DataScience and Economics**\n",
        "\n",
        "<br>\n",
        "\n",
        "#### Author : **Andrea Ierardi**\n",
        "\n",
        "<br>\n",
        "\n",
        "\n",
        "---\n",
        "\n"
      ]
    },
    {
      "cell_type": "markdown",
      "metadata": {
        "id": "7dDSzSi-p7f8"
      },
      "source": [
        "\r\n",
        " <br>\r\n",
        "\r\n",
        "\r\n",
        "\r\n",
        "\r\n"
      ]
    },
    {
      "cell_type": "markdown",
      "metadata": {
        "id": "D_1SNIKKje5V"
      },
      "source": [
        "## Dataset\r\n",
        "### Description\r\n",
        "\r\n",
        "Data collected about Facebook pages (November 2017). These datasets represent blue verified Facebook page networks of different categories. Nodes represent the pages and edges are mutual likes among them.\r\n",
        "\r\n",
        "\r\n",
        "\r\n",
        "\r\n",
        "\r\n"
      ]
    },
    {
      "cell_type": "markdown",
      "metadata": {
        "id": "-EnzyahlphFf"
      },
      "source": [
        "\r\n",
        " <br>\r\n",
        "\r\n",
        "\r\n",
        "\r\n",
        "\r\n"
      ]
    },
    {
      "cell_type": "code",
      "metadata": {
        "id": "YKVanDJn21rf"
      },
      "source": [
        "import pandas as pd\n",
        "nodes = pd.read_csv('https://raw.githubusercontent.com/Andreaierardi/SocialNetworkAnalysis-project/main/dataset/fb-pages-food.csv',sep=\";\")\n",
        "\n",
        "edges = pd.read_csv('https://raw.githubusercontent.com/Andreaierardi/SocialNetworkAnalysis-project/main/dataset/fb-pages-food.edges')\n"
      ],
      "execution_count": null,
      "outputs": []
    },
    {
      "cell_type": "code",
      "metadata": {
        "id": "wdH8yTmE3XG0",
        "colab": {
          "base_uri": "https://localhost:8080/",
          "height": 424
        },
        "outputId": "e7edf1ea-80e5-4781-a99e-4d6dcc97fa20"
      },
      "source": [
        "edges"
      ],
      "execution_count": null,
      "outputs": [
        {
          "output_type": "execute_result",
          "data": {
            "text/html": [
              "<div>\n",
              "<style scoped>\n",
              "    .dataframe tbody tr th:only-of-type {\n",
              "        vertical-align: middle;\n",
              "    }\n",
              "\n",
              "    .dataframe tbody tr th {\n",
              "        vertical-align: top;\n",
              "    }\n",
              "\n",
              "    .dataframe thead th {\n",
              "        text-align: right;\n",
              "    }\n",
              "</style>\n",
              "<table border=\"1\" class=\"dataframe\">\n",
              "  <thead>\n",
              "    <tr style=\"text-align: right;\">\n",
              "      <th></th>\n",
              "      <th>source</th>\n",
              "      <th>target</th>\n",
              "    </tr>\n",
              "  </thead>\n",
              "  <tbody>\n",
              "    <tr>\n",
              "      <th>0</th>\n",
              "      <td>0</td>\n",
              "      <td>276</td>\n",
              "    </tr>\n",
              "    <tr>\n",
              "      <th>1</th>\n",
              "      <td>0</td>\n",
              "      <td>58</td>\n",
              "    </tr>\n",
              "    <tr>\n",
              "      <th>2</th>\n",
              "      <td>0</td>\n",
              "      <td>132</td>\n",
              "    </tr>\n",
              "    <tr>\n",
              "      <th>3</th>\n",
              "      <td>0</td>\n",
              "      <td>603</td>\n",
              "    </tr>\n",
              "    <tr>\n",
              "      <th>4</th>\n",
              "      <td>0</td>\n",
              "      <td>398</td>\n",
              "    </tr>\n",
              "    <tr>\n",
              "      <th>...</th>\n",
              "      <td>...</td>\n",
              "      <td>...</td>\n",
              "    </tr>\n",
              "    <tr>\n",
              "      <th>2097</th>\n",
              "      <td>597</td>\n",
              "      <td>611</td>\n",
              "    </tr>\n",
              "    <tr>\n",
              "      <th>2098</th>\n",
              "      <td>601</td>\n",
              "      <td>603</td>\n",
              "    </tr>\n",
              "    <tr>\n",
              "      <th>2099</th>\n",
              "      <td>601</td>\n",
              "      <td>616</td>\n",
              "    </tr>\n",
              "    <tr>\n",
              "      <th>2100</th>\n",
              "      <td>603</td>\n",
              "      <td>616</td>\n",
              "    </tr>\n",
              "    <tr>\n",
              "      <th>2101</th>\n",
              "      <td>311</td>\n",
              "      <td>613</td>\n",
              "    </tr>\n",
              "  </tbody>\n",
              "</table>\n",
              "<p>2102 rows × 2 columns</p>\n",
              "</div>"
            ],
            "text/plain": [
              "      source  target\n",
              "0          0     276\n",
              "1          0      58\n",
              "2          0     132\n",
              "3          0     603\n",
              "4          0     398\n",
              "...      ...     ...\n",
              "2097     597     611\n",
              "2098     601     603\n",
              "2099     601     616\n",
              "2100     603     616\n",
              "2101     311     613\n",
              "\n",
              "[2102 rows x 2 columns]"
            ]
          },
          "metadata": {
            "tags": []
          },
          "execution_count": 608
        }
      ]
    },
    {
      "cell_type": "code",
      "metadata": {
        "colab": {
          "base_uri": "https://localhost:8080/",
          "height": 424
        },
        "id": "oLNCmyPNI9hM",
        "outputId": "f21c2f61-fda9-47ca-cfc5-82765b8a9a43"
      },
      "source": [
        "nodes"
      ],
      "execution_count": null,
      "outputs": [
        {
          "output_type": "execute_result",
          "data": {
            "text/html": [
              "<div>\n",
              "<style scoped>\n",
              "    .dataframe tbody tr th:only-of-type {\n",
              "        vertical-align: middle;\n",
              "    }\n",
              "\n",
              "    .dataframe tbody tr th {\n",
              "        vertical-align: top;\n",
              "    }\n",
              "\n",
              "    .dataframe thead th {\n",
              "        text-align: right;\n",
              "    }\n",
              "</style>\n",
              "<table border=\"1\" class=\"dataframe\">\n",
              "  <thead>\n",
              "    <tr style=\"text-align: right;\">\n",
              "      <th></th>\n",
              "      <th>name</th>\n",
              "      <th>id</th>\n",
              "    </tr>\n",
              "  </thead>\n",
              "  <tbody>\n",
              "    <tr>\n",
              "      <th>0</th>\n",
              "      <td>Josh Marks</td>\n",
              "      <td>386</td>\n",
              "    </tr>\n",
              "    <tr>\n",
              "      <th>1</th>\n",
              "      <td>Blue Ribbon Restaurants</td>\n",
              "      <td>473</td>\n",
              "    </tr>\n",
              "    <tr>\n",
              "      <th>2</th>\n",
              "      <td>Pat Neely</td>\n",
              "      <td>1</td>\n",
              "    </tr>\n",
              "    <tr>\n",
              "      <th>3</th>\n",
              "      <td>La Griglia</td>\n",
              "      <td>542</td>\n",
              "    </tr>\n",
              "    <tr>\n",
              "      <th>4</th>\n",
              "      <td>Jose Garces</td>\n",
              "      <td>189</td>\n",
              "    </tr>\n",
              "    <tr>\n",
              "      <th>...</th>\n",
              "      <td>...</td>\n",
              "      <td>...</td>\n",
              "    </tr>\n",
              "    <tr>\n",
              "      <th>615</th>\n",
              "      <td>Jumia Food</td>\n",
              "      <td>163</td>\n",
              "    </tr>\n",
              "    <tr>\n",
              "      <th>616</th>\n",
              "      <td>Luke Thomas</td>\n",
              "      <td>381</td>\n",
              "    </tr>\n",
              "    <tr>\n",
              "      <th>617</th>\n",
              "      <td>Clodagh McKenna</td>\n",
              "      <td>140</td>\n",
              "    </tr>\n",
              "    <tr>\n",
              "      <th>618</th>\n",
              "      <td>Chef Michelle Bernstein</td>\n",
              "      <td>157</td>\n",
              "    </tr>\n",
              "    <tr>\n",
              "      <th>619</th>\n",
              "      <td>SORTEDfood</td>\n",
              "      <td>114</td>\n",
              "    </tr>\n",
              "  </tbody>\n",
              "</table>\n",
              "<p>620 rows × 2 columns</p>\n",
              "</div>"
            ],
            "text/plain": [
              "                        name   id\n",
              "0                 Josh Marks  386\n",
              "1    Blue Ribbon Restaurants  473\n",
              "2                  Pat Neely    1\n",
              "3                 La Griglia  542\n",
              "4                Jose Garces  189\n",
              "..                       ...  ...\n",
              "615               Jumia Food  163\n",
              "616              Luke Thomas  381\n",
              "617          Clodagh McKenna  140\n",
              "618  Chef Michelle Bernstein  157\n",
              "619               SORTEDfood  114\n",
              "\n",
              "[620 rows x 2 columns]"
            ]
          },
          "metadata": {
            "tags": []
          },
          "execution_count": 609
        }
      ]
    },
    {
      "cell_type": "code",
      "metadata": {
        "id": "rWB-XdMBJEx2"
      },
      "source": [
        "from collections import Counter # Counter counts the number of occurrences of each item\r\n",
        "from itertools import tee, count\r\n",
        "def uniquify(seq, suffs = count(1)):\r\n",
        "    \"\"\"Make all the items unique by adding a suffix (1, 2, etc).\r\n",
        "\r\n",
        "    `seq` is mutable sequence of strings.\r\n",
        "    `suffs` is an optional alternative suffix iterable.\r\n",
        "    \"\"\"\r\n",
        "    not_unique = [k for k,v in Counter(seq).items() if v>1] # so we have: ['name', 'zip']\r\n",
        "    # suffix generator dict - e.g., {'name': <my_gen>, 'zip': <my_gen>}\r\n",
        "    suff_gens = dict(zip(not_unique, tee(suffs, len(not_unique))))  \r\n",
        "    for idx,s in enumerate(seq):\r\n",
        "        try:\r\n",
        "            suffix = str(next(suff_gens[s]))\r\n",
        "        except KeyError:\r\n",
        "            # s was unique\r\n",
        "            continue\r\n",
        "        else:\r\n",
        "            seq[idx] += suffix\r\n",
        "    "
      ],
      "execution_count": null,
      "outputs": []
    },
    {
      "cell_type": "code",
      "metadata": {
        "colab": {
          "base_uri": "https://localhost:8080/"
        },
        "id": "rUoGw9ldJR8S",
        "outputId": "2eea2a99-5afa-40f6-ee49-26f6ea9d3aea"
      },
      "source": [
        "names = list(nodes.name)\r\n",
        "uniquify(names, (f'_{x!s}' for x in range(1, 100)))\r\n",
        "names[0:10]"
      ],
      "execution_count": null,
      "outputs": [
        {
          "output_type": "execute_result",
          "data": {
            "text/plain": [
              "['Josh Marks',\n",
              " 'Blue Ribbon Restaurants',\n",
              " 'Pat Neely',\n",
              " 'La Griglia',\n",
              " 'Jose Garces',\n",
              " 'Zac Kara',\n",
              " 'Big Fish Seafood Bistro_1',\n",
              " 'Tom Aikens',\n",
              " 'The Habit Burger Grill',\n",
              " 'Chef Sheldon Simeon']"
            ]
          },
          "metadata": {
            "tags": []
          },
          "execution_count": 611
        }
      ]
    },
    {
      "cell_type": "code",
      "metadata": {
        "colab": {
          "base_uri": "https://localhost:8080/"
        },
        "id": "UMZPXM7NK_7V",
        "outputId": "89ee6643-9840-4b5e-c311-f34745900fa9"
      },
      "source": [
        "# Find the name of the column by index\r\n",
        "n = nodes.columns[0]\r\n",
        "\r\n",
        "# Drop that column\r\n",
        "nodes.drop(n, axis = 1, inplace = True)\r\n",
        "\r\n",
        "# Put whatever series you want in its place\r\n",
        "nodes[n] = names\r\n",
        "\r\n",
        "list(nodes.name)[0:20]"
      ],
      "execution_count": null,
      "outputs": [
        {
          "output_type": "execute_result",
          "data": {
            "text/plain": [
              "['Josh Marks',\n",
              " 'Blue Ribbon Restaurants',\n",
              " 'Pat Neely',\n",
              " 'La Griglia',\n",
              " 'Jose Garces',\n",
              " 'Zac Kara',\n",
              " 'Big Fish Seafood Bistro_1',\n",
              " 'Tom Aikens',\n",
              " 'The Habit Burger Grill',\n",
              " 'Chef Sheldon Simeon',\n",
              " 'Ochikeron',\n",
              " 'Taco Bell Cyprus',\n",
              " 'Christophe Michalak',\n",
              " \"Peohe's\",\n",
              " 'Destino Ibiza',\n",
              " 'KFC_1',\n",
              " 'Chef Shirley Chung',\n",
              " 'Doug Adams',\n",
              " 'משה שגב / Moshe Segev',\n",
              " 'Angel Leon Gonzalez']"
            ]
          },
          "metadata": {
            "tags": []
          },
          "execution_count": 612
        }
      ]
    },
    {
      "cell_type": "code",
      "metadata": {
        "id": "V433kxvejlcg"
      },
      "source": [
        "# Nodes as dictionary\n",
        "nodes_dict = {}\n",
        "for (n, id) in zip(nodes[\"name\"],nodes[\"id\"]):\n",
        " # print(n, \"+\", id)\n",
        "  nodes_dict[id] = n"
      ],
      "execution_count": null,
      "outputs": []
    },
    {
      "cell_type": "code",
      "metadata": {
        "colab": {
          "base_uri": "https://localhost:8080/"
        },
        "id": "dMT4PI9vHk_L",
        "outputId": "b42fd93f-4bda-4fe0-c7bc-2b2cee5e4810"
      },
      "source": [
        "list(nodes_dict.values())[0:20]"
      ],
      "execution_count": null,
      "outputs": [
        {
          "output_type": "execute_result",
          "data": {
            "text/plain": [
              "['Josh Marks',\n",
              " 'Blue Ribbon Restaurants',\n",
              " 'Pat Neely',\n",
              " 'La Griglia',\n",
              " 'Jose Garces',\n",
              " 'Zac Kara',\n",
              " 'Big Fish Seafood Bistro_1',\n",
              " 'Tom Aikens',\n",
              " 'The Habit Burger Grill',\n",
              " 'Chef Sheldon Simeon',\n",
              " 'Ochikeron',\n",
              " 'Taco Bell Cyprus',\n",
              " 'Christophe Michalak',\n",
              " \"Peohe's\",\n",
              " 'Destino Ibiza',\n",
              " 'KFC_1',\n",
              " 'Chef Shirley Chung',\n",
              " 'Doug Adams',\n",
              " 'משה שגב / Moshe Segev',\n",
              " 'Angel Leon Gonzalez']"
            ]
          },
          "metadata": {
            "tags": []
          },
          "execution_count": 614
        }
      ]
    },
    {
      "cell_type": "markdown",
      "metadata": {
        "id": "Hukazbol5IQq"
      },
      "source": [
        "\r\n",
        " <br>\r\n",
        "\r\n",
        "\r\n",
        "\r\n"
      ]
    },
    {
      "cell_type": "markdown",
      "metadata": {
        "id": "KvT9Qpmg4nvI"
      },
      "source": [
        "## Network Building\r\n",
        "\r\n"
      ]
    },
    {
      "cell_type": "code",
      "metadata": {
        "id": "Zn5pk5DSlpTX"
      },
      "source": [
        "import networkx as nx\n",
        "from statsmodels.distributions.empirical_distribution import ECDF\n",
        "import numpy as np\n",
        "import matplotlib.pyplot as plt"
      ],
      "execution_count": null,
      "outputs": []
    },
    {
      "cell_type": "code",
      "metadata": {
        "id": "k9RHnVXFme7a"
      },
      "source": [
        "G = nx.Graph()\n",
        "\n",
        "for e in edges.values.tolist():\n",
        "  G.add_edge(e[0],e[1])"
      ],
      "execution_count": null,
      "outputs": []
    },
    {
      "cell_type": "code",
      "metadata": {
        "id": "0Nzgzmp-kN_d"
      },
      "source": [
        "H = nx.relabel_nodes(G, nodes_dict)\n",
        "len(sorted(H))\n",
        "\n",
        "G = H"
      ],
      "execution_count": null,
      "outputs": []
    },
    {
      "cell_type": "code",
      "metadata": {
        "colab": {
          "base_uri": "https://localhost:8080/"
        },
        "id": "_75ZAAB6nDDX",
        "outputId": "249bb9e2-f6e5-41d3-8d86-4a37b0001ebe"
      },
      "source": [
        "print('Number of nodes: {} - Number of links:{}'.format(G.order(),G.size()))\n"
      ],
      "execution_count": null,
      "outputs": [
        {
          "output_type": "stream",
          "text": [
            "Number of nodes: 620 - Number of links:2102\n"
          ],
          "name": "stdout"
        }
      ]
    },
    {
      "cell_type": "code",
      "metadata": {
        "id": "jtD8RPj-m65g",
        "colab": {
          "base_uri": "https://localhost:8080/",
          "height": 248
        },
        "outputId": "60a62e48-8f40-42ef-84f1-ad788e064977"
      },
      "source": [
        "# draw the graph\r\n",
        "pos = nx.spring_layout(G)\r\n",
        "\r\n",
        "nx.draw_networkx_nodes(G, pos, node_size=20, label = names)\r\n",
        "nx.draw_networkx_edges(G, pos, alpha=0.5)\r\n",
        "plt.show()\r\n"
      ],
      "execution_count": 681,
      "outputs": [
        {
          "output_type": "display_data",
          "data": {
            "image/png": "[encoded data removed]",
            "text/plain": [
              "<Figure size 432x288 with 1 Axes>"
            ]
          },
          "metadata": {
            "tags": []
          }
        }
      ]
    },
    {
      "cell_type": "code",
      "metadata": {
        "id": "opsEWUQ7ps2s",
        "outputId": "44c24a5d-e285-46af-dc0a-84320e500663",
        "colab": {
          "base_uri": "https://localhost:8080/",
          "height": 248
        }
      },
      "source": [
        "import warnings\r\n",
        "warnings.filterwarnings(\"ignore\", category=RuntimeWarning)\r\n",
        "\r\n",
        "# draw the graph with labels\r\n",
        "pos = nx.spring_layout(G)\r\n",
        "\r\n",
        "nx.draw_networkx_nodes(G, pos, node_size=20, label = names)\r\n",
        "nx.draw_networkx_edges(G, pos, alpha=0.5)\r\n",
        "nx.draw_networkx_labels(G,pos,font_size=3,font_color='r')\r\n",
        "plt.show()"
      ],
      "execution_count": 684,
      "outputs": [
        {
          "output_type": "display_data",
          "data": {
            "image/png": "[encoded data removed]",
            "text/plain": [
              "<Figure size 432x288 with 1 Axes>"
            ]
          },
          "metadata": {
            "tags": []
          }
        }
      ]
    },
    {
      "cell_type": "markdown",
      "metadata": {
        "id": "gUSnmQuY5ROb"
      },
      "source": [
        "\r\n",
        " <br>"
      ]
    },
    {
      "cell_type": "markdown",
      "metadata": {
        "id": "AYiLXy-R4wKP"
      },
      "source": [
        "# Degree Analysis"
      ]
    },
    {
      "cell_type": "code",
      "metadata": {
        "id": "XkY4Lqom-jIe",
        "colab": {
          "base_uri": "https://localhost:8080/"
        },
        "outputId": "ca9f7310-bd8a-4916-ad88-f43d3be805bf"
      },
      "source": [
        "list(G.nodes())[0:20]"
      ],
      "execution_count": null,
      "outputs": [
        {
          "output_type": "execute_result",
          "data": {
            "text/plain": [
              "['Lee Anne Wong',\n",
              " 'KFC_3',\n",
              " 'Chef Jamie Gwen',\n",
              " 'Madison Cowan',\n",
              " 'Elizabeth Karmel',\n",
              " 'KFC_22',\n",
              " 'KFC_8',\n",
              " 'Pat Neely',\n",
              " 'Logan Junior Chef',\n",
              " 'Robin Miller',\n",
              " 'Ben Sargent & Dr. Klaw',\n",
              " 'Bobby Flay',\n",
              " 'Chuck Hughes',\n",
              " 'Chef Carlo Cracco',\n",
              " 'Pasqualino Barbasso',\n",
              " 'Alessandro Borghese',\n",
              " 'Chef Hirohiko Shoda',\n",
              " 'Alain Ducasse',\n",
              " 'Christian Bau',\n",
              " 'Andy Luotto']"
            ]
          },
          "metadata": {
            "tags": []
          },
          "execution_count": 620
        }
      ]
    },
    {
      "cell_type": "code",
      "metadata": {
        "colab": {
          "base_uri": "https://localhost:8080/"
        },
        "id": "1fSQkejDn22I",
        "outputId": "f4b76faf-47a1-4b78-ec90-c3bb0a1e2d0e"
      },
      "source": [
        "density = nx.density(G)\n",
        "print('Density: {}'.format(density))"
      ],
      "execution_count": null,
      "outputs": [
        {
          "output_type": "stream",
          "text": [
            "Density: 0.0109541925061233\n"
          ],
          "name": "stdout"
        }
      ]
    },
    {
      "cell_type": "code",
      "metadata": {
        "id": "M0mcsMoApMPw"
      },
      "source": [
        ""
      ],
      "execution_count": null,
      "outputs": []
    },
    {
      "cell_type": "code",
      "metadata": {
        "id": "JIXsj69-pShl",
        "colab": {
          "base_uri": "https://localhost:8080/"
        },
        "outputId": "87f28199-c9ba-476a-a9b0-0be803dcecb3"
      },
      "source": [
        "degree = list(dict(G.degree()).values())\n",
        "degree[0:20]"
      ],
      "execution_count": null,
      "outputs": [
        {
          "output_type": "execute_result",
          "data": {
            "text/plain": [
              "[6, 11, 15, 2, 27, 9, 17, 2, 134, 47, 3, 31, 11, 10, 7, 10, 7, 19, 7, 3]"
            ]
          },
          "metadata": {
            "tags": []
          },
          "execution_count": 622
        }
      ]
    },
    {
      "cell_type": "code",
      "metadata": {
        "colab": {
          "base_uri": "https://localhost:8080/"
        },
        "id": "zsvqwpCEpUEF",
        "outputId": "da4c2561-0a0a-412f-d83d-800c0a4a0d64"
      },
      "source": [
        "print('Standard deviation: {}'.format(np.std(degree)))\n",
        "print('Mean: {}'.format(np.mean(degree)))\n",
        "print('Median: {}'.format(np.median(degree)))\n",
        "print('Min: {}'.format(np.min(degree)))\n",
        "print('Max: {}'.format(np.max(degree)))\n",
        "\n",
        "\n",
        "print(\"Assortativity coefficient: \" + str(nx.degree_assortativity_coefficient(G)))"
      ],
      "execution_count": null,
      "outputs": [
        {
          "output_type": "stream",
          "text": [
            "Standard deviation: 9.46914920573866\n",
            "Mean: 6.780645161290322\n",
            "Median: 4.0\n",
            "Min: 1\n",
            "Max: 134\n",
            "Assortativity coefficient: -0.028203795222469928\n"
          ],
          "name": "stdout"
        }
      ]
    },
    {
      "cell_type": "markdown",
      "metadata": {
        "id": "XntfvpBl51EN"
      },
      "source": [
        "\r\n",
        " <br>"
      ]
    },
    {
      "cell_type": "markdown",
      "metadata": {
        "id": "ELEr1yqD5veE"
      },
      "source": [
        "### ECDF"
      ]
    },
    {
      "cell_type": "code",
      "metadata": {
        "colab": {
          "base_uri": "https://localhost:8080/",
          "height": 307
        },
        "id": "t6f32IbipWuq",
        "outputId": "67915e8b-1a12-4f7f-ad52-74ade0c730e1"
      },
      "source": [
        "# ECDF linear scale\n",
        "cdf = ECDF(degree)\n",
        "x = np.unique(degree)\n",
        "y = cdf(x)\n",
        "fig_cdf = plt.figure(figsize=(8,4))\n",
        "axes = fig_cdf.gca()\n",
        "axes.plot(x,y,marker='o',ms=6, linestyle='None')\n",
        "axes.set_xlabel('Degree',size=20)\n",
        "axes.set_ylabel('ECDF Food', size = 20)"
      ],
      "execution_count": null,
      "outputs": [
        {
          "output_type": "execute_result",
          "data": {
            "text/plain": [
              "Text(0, 0.5, 'ECDF Food')"
            ]
          },
          "metadata": {
            "tags": []
          },
          "execution_count": 624
        },
        {
          "output_type": "display_data",
          "data": {
            "image/png": "[encoded data removed]",
            "text/plain": [
              "<Figure size 576x288 with 1 Axes>"
            ]
          },
          "metadata": {
            "tags": [],
            "needs_background": "light"
          }
        }
      ]
    },
    {
      "cell_type": "code",
      "metadata": {
        "colab": {
          "base_uri": "https://localhost:8080/",
          "height": 311
        },
        "id": "85VdeXRZpbv6",
        "outputId": "ecd82d23-72dd-4917-e991-7b8b01d32d19"
      },
      "source": [
        "\n",
        "# ECDF loglog scale\n",
        "cdf = ECDF(degree)\n",
        "x = np.unique(degree)\n",
        "y = cdf(x)\n",
        "fig_cdf = plt.figure(figsize=(8,4))\n",
        "axes = fig_cdf.gca()\n",
        "axes.loglog(x,y,marker='o',ms=8, linestyle='--')\n",
        "axes.set_xlabel('Degree',size=20)\n",
        "axes.set_ylabel('ECDF Food', size = 20)\n"
      ],
      "execution_count": null,
      "outputs": [
        {
          "output_type": "execute_result",
          "data": {
            "text/plain": [
              "Text(0, 0.5, 'ECDF Food')"
            ]
          },
          "metadata": {
            "tags": []
          },
          "execution_count": 625
        },
        {
          "output_type": "display_data",
          "data": {
            "image/png": "[encoded data removed]",
            "text/plain": [
              "<Figure size 576x288 with 1 Axes>"
            ]
          },
          "metadata": {
            "tags": [],
            "needs_background": "light"
          }
        }
      ]
    },
    {
      "cell_type": "code",
      "metadata": {
        "colab": {
          "base_uri": "https://localhost:8080/",
          "height": 314
        },
        "id": "s9tOUCWqpivi",
        "outputId": "e52945f5-1ad8-46e4-b027-ce0e1b71ea52"
      },
      "source": [
        "# ECCDF\n",
        "cdf = ECDF(degree)\n",
        "x = np.unique(degree)\n",
        "y = cdf(x)\n",
        "fig_cdf = plt.figure(figsize=(8,4))\n",
        "axes = fig_cdf.gca()\n",
        "axes.loglog(x,1-y,marker='o',ms=8, linestyle='--')\n",
        "axes.set_xlabel('Degree',size=20)\n",
        "axes.set_ylabel('ECCDF FOOD', size = 20)"
      ],
      "execution_count": null,
      "outputs": [
        {
          "output_type": "execute_result",
          "data": {
            "text/plain": [
              "Text(0, 0.5, 'ECCDF FOOD')"
            ]
          },
          "metadata": {
            "tags": []
          },
          "execution_count": 626
        },
        {
          "output_type": "display_data",
          "data": {
            "image/png": "[encoded data removed]",
            "text/plain": [
              "<Figure size 576x288 with 1 Axes>"
            ]
          },
          "metadata": {
            "tags": [],
            "needs_background": "light"
          }
        }
      ]
    },
    {
      "cell_type": "code",
      "metadata": {
        "id": "-NY41H7IppF7"
      },
      "source": [
        "p = density\n",
        "random_graph = nx.fast_gnp_random_graph(G.order(),p)\n"
      ],
      "execution_count": null,
      "outputs": []
    },
    {
      "cell_type": "code",
      "metadata": {
        "colab": {
          "base_uri": "https://localhost:8080/"
        },
        "id": "TOi6WvTwpvpZ",
        "outputId": "78321984-4979-4c01-e173-9b4eebaed14c"
      },
      "source": [
        "print('Number of nodes: {}'.format(random_graph.order()))\n",
        "print('Number of links: {}'.format(random_graph.size()))"
      ],
      "execution_count": null,
      "outputs": [
        {
          "output_type": "stream",
          "text": [
            "Number of nodes: 620\n",
            "Number of links: 2095\n"
          ],
          "name": "stdout"
        }
      ]
    },
    {
      "cell_type": "code",
      "metadata": {
        "id": "FCiK8TUYpz0W",
        "colab": {
          "base_uri": "https://localhost:8080/"
        },
        "outputId": "73461093-ad04-4955-efa0-81344bc06eab"
      },
      "source": [
        "random_degree = list(dict(random_graph.degree()).values())\n",
        "print('Random Net Standard deviation: {}'.format(np.std(random_degree)))\n",
        "print('Random Net Mean: {}'.format(np.mean(random_degree)))\n",
        "print('Random Net Median: {}'.format(np.median(random_degree)))\n",
        "print('Random Net Min: {}'.format(np.min(random_degree)))\n",
        "print('Random Net Max: {}'.format(np.max(random_degree)))"
      ],
      "execution_count": null,
      "outputs": [
        {
          "output_type": "stream",
          "text": [
            "Random Net Standard deviation: 2.5933257005987618\n",
            "Random Net Mean: 6.758064516129032\n",
            "Random Net Median: 7.0\n",
            "Random Net Min: 0\n",
            "Random Net Max: 15\n"
          ],
          "name": "stdout"
        }
      ]
    },
    {
      "cell_type": "code",
      "metadata": {
        "colab": {
          "base_uri": "https://localhost:8080/",
          "height": 311
        },
        "id": "ZLzauKksp2IU",
        "outputId": "4903243f-21d1-4470-c817-c1aee6e35dd8"
      },
      "source": [
        "cdf = ECDF(degree)\n",
        "x = np.unique(degree)\n",
        "y = cdf(x)\n",
        "\n",
        "cdf_random = ECDF(random_degree)\n",
        "x_random = np.unique(random_degree)\n",
        "y_random = cdf_random(x_random)\n",
        "\n",
        "fig_cdf_fb = plt.figure(figsize=(8,4))\n",
        "axes = fig_cdf_fb.gca()\n",
        "axes.set_xscale('log')\n",
        "axes.set_yscale('log')\n",
        "axes.loglog(x,1-y,marker='o',ms=8, linestyle='--')\n",
        "axes.loglog(x_random,1-y_random,marker='+',ms=10, linestyle='--')\n",
        "axes.set_xlabel('Degree',size=20)\n",
        "axes.set_ylabel('ECCDF', size = 20)"
      ],
      "execution_count": null,
      "outputs": [
        {
          "output_type": "execute_result",
          "data": {
            "text/plain": [
              "Text(0, 0.5, 'ECCDF')"
            ]
          },
          "metadata": {
            "tags": []
          },
          "execution_count": 630
        },
        {
          "output_type": "display_data",
          "data": {
            "image/png": "[encoded data removed]",
            "text/plain": [
              "<Figure size 576x288 with 1 Axes>"
            ]
          },
          "metadata": {
            "tags": [],
            "needs_background": "light"
          }
        }
      ]
    },
    {
      "cell_type": "markdown",
      "metadata": {
        "id": "KAqS4YcCGaLK"
      },
      "source": [
        "\r\n",
        " <br>"
      ]
    },
    {
      "cell_type": "markdown",
      "metadata": {
        "id": "x8IZWFFHpq9o"
      },
      "source": [
        "## HUBS"
      ]
    },
    {
      "cell_type": "code",
      "metadata": {
        "colab": {
          "base_uri": "https://localhost:8080/"
        },
        "id": "Sg72v5vSp6tB",
        "outputId": "9237d278-81a9-45c5-9f61-75184723a9df"
      },
      "source": [
        "percentile_99 = np.percentile(degree,99)\n",
        "print(percentile_99)"
      ],
      "execution_count": null,
      "outputs": [
        {
          "output_type": "stream",
          "text": [
            "47.0\n"
          ],
          "name": "stdout"
        }
      ]
    },
    {
      "cell_type": "code",
      "metadata": {
        "id": "stn61tlep9e6"
      },
      "source": [
        "hub_nodi = [k for k,v in dict(G.degree()).items() if v>= percentile_99]\n"
      ],
      "execution_count": null,
      "outputs": []
    },
    {
      "cell_type": "code",
      "metadata": {
        "colab": {
          "base_uri": "https://localhost:8080/"
        },
        "id": "OsfcPT35qCB_",
        "outputId": "b0c0ed5d-dfe9-4762-b598-d0000f8c57f6"
      },
      "source": [
        "print(len(hub_nodi))\n",
        "print(list(hub_nodi))"
      ],
      "execution_count": null,
      "outputs": [
        {
          "output_type": "stream",
          "text": [
            "8\n",
            "['Logan Junior Chef', 'Robin Miller', 'Scott Conant', \"McDonald's_6\", 'Eric Ripert', 'Alex Guarnaschelli', 'David Chang', 'Chef Daniel Boulud']\n"
          ],
          "name": "stdout"
        }
      ]
    },
    {
      "cell_type": "code",
      "metadata": {
        "colab": {
          "base_uri": "https://localhost:8080/"
        },
        "id": "ZZDQ7UGBqIqX",
        "outputId": "9aaee0b3-37e8-4b07-ac66-400a404c6762"
      },
      "source": [
        "print(list(nx.isolates(G)))\n"
      ],
      "execution_count": null,
      "outputs": [
        {
          "output_type": "stream",
          "text": [
            "[]\n"
          ],
          "name": "stdout"
        }
      ]
    },
    {
      "cell_type": "code",
      "metadata": {
        "id": "h0PqsuaPhait",
        "colab": {
          "base_uri": "https://localhost:8080/",
          "height": 248
        },
        "outputId": "3cdb38b4-3c63-4a70-855d-5b94d4081606"
      },
      "source": [
        "# draw the graph\r\n",
        "pos = nx.spring_layout(G)\r\n",
        "# color the nodes according to their partition\r\n",
        "color_map = []\r\n",
        "size_map = []\r\n",
        "node_index ={}\r\n",
        "for i in range(0, len(names)):\r\n",
        "    if not (names[i] in hub_nodi) :\r\n",
        "        color_map.append('lightblue')\r\n",
        "        size_map.append(20)\r\n",
        "    else: \r\n",
        "        color_map.append('blue')\r\n",
        "        size_map.append(150)\r\n",
        "        node_index[names[i]] = names[i]\r\n",
        "nx.draw_networkx_nodes(G, pos, node_size=size_map\r\n",
        "                       , node_color=color_map)\r\n",
        "nx.draw_networkx_edges(G, pos, alpha=0.5)\r\n",
        "nx.draw_networkx_labels(G,labels=node_index,pos = pos,font_size=8,font_color='r')\r\n",
        "\r\n",
        "plt.show()"
      ],
      "execution_count": 721,
      "outputs": [
        {
          "output_type": "display_data",
          "data": {
            "image/png": "[encoded data removed]",
            "text/plain": [
              "<Figure size 432x288 with 1 Axes>"
            ]
          },
          "metadata": {
            "tags": []
          }
        }
      ]
    },
    {
      "cell_type": "markdown",
      "metadata": {
        "id": "bYCwbh5GGYoH"
      },
      "source": [
        "\r\n",
        " <br>"
      ]
    },
    {
      "cell_type": "markdown",
      "metadata": {
        "id": "nsHzYEcBp8Cz"
      },
      "source": [
        "## Connectivity"
      ]
    },
    {
      "cell_type": "code",
      "metadata": {
        "colab": {
          "base_uri": "https://localhost:8080/"
        },
        "id": "uctAbGqKqVSl",
        "outputId": "d1d2aae4-a2d7-48f8-c4ae-d7b680669741"
      },
      "source": [
        "print(nx.is_connected(G))\n",
        "print(nx.number_connected_components(G))"
      ],
      "execution_count": null,
      "outputs": [
        {
          "output_type": "stream",
          "text": [
            "True\n",
            "1\n"
          ],
          "name": "stdout"
        }
      ]
    },
    {
      "cell_type": "code",
      "metadata": {
        "id": "Ys-22v4sqYmZ"
      },
      "source": [
        ""
      ],
      "execution_count": null,
      "outputs": []
    },
    {
      "cell_type": "code",
      "metadata": {
        "id": "C_uqHiEZPZEb",
        "colab": {
          "base_uri": "https://localhost:8080/"
        },
        "outputId": "1f3b5c58-5523-4bf4-ab2a-015a8e4ff40e"
      },
      "source": [
        "nx.number_connected_components(G)"
      ],
      "execution_count": null,
      "outputs": [
        {
          "output_type": "execute_result",
          "data": {
            "text/plain": [
              "1"
            ]
          },
          "metadata": {
            "tags": []
          },
          "execution_count": 638
        }
      ]
    },
    {
      "cell_type": "code",
      "metadata": {
        "id": "1wX3cRDduXZe"
      },
      "source": [
        "#dir(G)"
      ],
      "execution_count": null,
      "outputs": []
    },
    {
      "cell_type": "code",
      "metadata": {
        "id": "b2_O0YjSZMjR",
        "colab": {
          "base_uri": "https://localhost:8080/"
        },
        "outputId": "9df045fd-f3f1-4821-e44d-abcc4e82ec9b"
      },
      "source": [
        "len(nx.triangles(G))"
      ],
      "execution_count": null,
      "outputs": [
        {
          "output_type": "execute_result",
          "data": {
            "text/plain": [
              "620"
            ]
          },
          "metadata": {
            "tags": []
          },
          "execution_count": 668
        }
      ]
    },
    {
      "cell_type": "markdown",
      "metadata": {
        "id": "SdgfcGZXEI_y"
      },
      "source": [
        "\r\n",
        " <br>"
      ]
    },
    {
      "cell_type": "markdown",
      "metadata": {
        "id": "eMHDFzK2D3Ku"
      },
      "source": [
        "## Clusters"
      ]
    },
    {
      "cell_type": "code",
      "metadata": {
        "id": "UyQ4ciEkaPvh",
        "colab": {
          "base_uri": "https://localhost:8080/"
        },
        "outputId": "5669af25-eccd-46de-a485-8ab0f4a27307"
      },
      "source": [
        "clusters = nx.average_clustering(G)\n",
        "clusters"
      ],
      "execution_count": null,
      "outputs": [
        {
          "output_type": "execute_result",
          "data": {
            "text/plain": [
              "0.3308970263553271"
            ]
          },
          "metadata": {
            "tags": []
          },
          "execution_count": 642
        }
      ]
    },
    {
      "cell_type": "code",
      "metadata": {
        "id": "yLPXd0lx9tTC",
        "colab": {
          "base_uri": "https://localhost:8080/"
        },
        "outputId": "39a43773-dd0d-4ff2-835e-784cc8b37e8d"
      },
      "source": [
        "type(clusters)"
      ],
      "execution_count": null,
      "outputs": [
        {
          "output_type": "execute_result",
          "data": {
            "text/plain": [
              "float"
            ]
          },
          "metadata": {
            "tags": []
          },
          "execution_count": 643
        }
      ]
    },
    {
      "cell_type": "code",
      "metadata": {
        "id": "C5-1q7SaDtE0"
      },
      "source": [
        ""
      ],
      "execution_count": null,
      "outputs": []
    },
    {
      "cell_type": "code",
      "metadata": {
        "id": "hiPVa4vwZXaP",
        "colab": {
          "base_uri": "https://localhost:8080/"
        },
        "outputId": "01166460-130b-462e-b74e-cac3f788805b"
      },
      "source": [
        "nx.transitivity(G)\n"
      ],
      "execution_count": null,
      "outputs": [
        {
          "output_type": "execute_result",
          "data": {
            "text/plain": [
              "0.22264084150905228"
            ]
          },
          "metadata": {
            "tags": []
          },
          "execution_count": 644
        }
      ]
    },
    {
      "cell_type": "code",
      "metadata": {
        "colab": {
          "base_uri": "https://localhost:8080/"
        },
        "id": "FPI3sqAdEbFh",
        "outputId": "8ebb4712-3721-4d62-b669-636c5e416ab2"
      },
      "source": [
        "local_cluster = nx.clustering(G)\r\n",
        "sorted(local_cluster.items(), key=lambda item: item[1], reverse= True)[0:20]\r\n"
      ],
      "execution_count": null,
      "outputs": [
        {
          "output_type": "execute_result",
          "data": {
            "text/plain": [
              "[('Pat Neely', 1.0),\n",
              " ('Ben Sargent & Dr. Klaw', 1.0),\n",
              " ('Jumia Food_6', 1.0),\n",
              " (\"Chili's México\", 1.0),\n",
              " ('Taco Bell El Salvador', 1.0),\n",
              " ('KFC_17', 1.0),\n",
              " (\"Domino's Pizza_11\", 1.0),\n",
              " ('Delverde_1', 1.0),\n",
              " ('Delverde_3', 1.0),\n",
              " (\"Nando's_12\", 1.0),\n",
              " (\"Nando's_8\", 1.0),\n",
              " (\"McDonald's Deutschland Karriere\", 1.0),\n",
              " (\"McDonald's_37\", 1.0),\n",
              " (\"McDonald's_8\", 1.0),\n",
              " (\"McDonald's_11\", 1.0),\n",
              " ('Valentin Neraudeau', 1.0),\n",
              " ('Chef Aaron McCargo Jr', 1.0),\n",
              " ('Al Brown New Zealand Chef', 1.0),\n",
              " ('Princi', 1.0),\n",
              " ('ad hoc & addendum', 1.0)]"
            ]
          },
          "metadata": {
            "tags": []
          },
          "execution_count": 645
        }
      ]
    },
    {
      "cell_type": "code",
      "metadata": {
        "colab": {
          "base_uri": "https://localhost:8080/"
        },
        "id": "CcbtpU04EjyJ",
        "outputId": "450af68d-263d-48c6-e5ab-0966ab5ebf88"
      },
      "source": [
        "triangle = nx.triangles(G)\r\n",
        "list(triangle.items())[0:20]"
      ],
      "execution_count": null,
      "outputs": [
        {
          "output_type": "execute_result",
          "data": {
            "text/plain": [
              "[('Lee Anne Wong', 4),\n",
              " ('KFC_3', 13),\n",
              " ('Chef Jamie Gwen', 36),\n",
              " ('Madison Cowan', 0),\n",
              " ('Elizabeth Karmel', 88),\n",
              " ('KFC_22', 15),\n",
              " ('KFC_8', 25),\n",
              " ('Pat Neely', 1),\n",
              " ('Logan Junior Chef', 461),\n",
              " ('Robin Miller', 166),\n",
              " ('Ben Sargent & Dr. Klaw', 3),\n",
              " ('Bobby Flay', 94),\n",
              " ('Chuck Hughes', 11),\n",
              " ('Chef Carlo Cracco', 10),\n",
              " ('Pasqualino Barbasso', 6),\n",
              " ('Alessandro Borghese', 15),\n",
              " ('Chef Hirohiko Shoda', 3),\n",
              " ('Alain Ducasse', 28),\n",
              " ('Christian Bau', 6),\n",
              " ('Andy Luotto', 2)]"
            ]
          },
          "metadata": {
            "tags": []
          },
          "execution_count": 646
        }
      ]
    },
    {
      "cell_type": "markdown",
      "metadata": {
        "id": "5KNFNIWLDt7z"
      },
      "source": [
        "\r\n",
        " <br>"
      ]
    },
    {
      "cell_type": "markdown",
      "metadata": {
        "id": "5GtY7sh6DuFl"
      },
      "source": [
        "## Centrality\r\n",
        "\r\n"
      ]
    },
    {
      "cell_type": "code",
      "metadata": {
        "id": "F3mhnNFPgPhh"
      },
      "source": [
        "deg_centr = nx.degree_centrality(G)\r\n"
      ],
      "execution_count": null,
      "outputs": []
    },
    {
      "cell_type": "code",
      "metadata": {
        "id": "R8x--vrLCPLa"
      },
      "source": [
        "eigen = nx.eigenvector_centrality(G)\r\n",
        "#eigen"
      ],
      "execution_count": null,
      "outputs": []
    },
    {
      "cell_type": "code",
      "metadata": {
        "id": "ZXafFd7cjc9_"
      },
      "source": [
        "pagerank = nx.pagerank(G)\r\n",
        "#pagerank"
      ],
      "execution_count": null,
      "outputs": []
    },
    {
      "cell_type": "code",
      "metadata": {
        "id": "y3QaV4BvDc-p"
      },
      "source": [
        "betweenesCentrality = nx.betweenness_centrality(G)\r\n",
        "#betweenesCentrality"
      ],
      "execution_count": null,
      "outputs": []
    },
    {
      "cell_type": "code",
      "metadata": {
        "id": "wkLyZWZZDldG"
      },
      "source": [
        ""
      ],
      "execution_count": null,
      "outputs": []
    },
    {
      "cell_type": "markdown",
      "metadata": {
        "id": "1VmuowQtE_jJ"
      },
      "source": [
        "\r\n",
        " <br>"
      ]
    },
    {
      "cell_type": "markdown",
      "metadata": {
        "id": "K9YtqVmfFAjk"
      },
      "source": [
        "## Communities\r\n"
      ]
    },
    {
      "cell_type": "code",
      "metadata": {
        "colab": {
          "base_uri": "https://localhost:8080/"
        },
        "id": "Rs36FKE2FAAz",
        "outputId": "45292f3a-c7c5-4d55-a8c1-2c43ac19f465"
      },
      "source": [
        "import networkx.algorithms.community as nx_comm\r\n",
        "\r\n",
        "import community as community_louvain\r\n",
        "import matplotlib.cm as cm\r\n",
        "import matplotlib.pyplot as plt\r\n",
        "import networkx as nx\r\n",
        "\r\n",
        "list_community_sets_greedy = list(nx_comm.greedy_modularity_communities(G))\r\n",
        "print(list_community_sets_greedy[0:20])"
      ],
      "execution_count": null,
      "outputs": [
        {
          "output_type": "stream",
          "text": [
            "[frozenset({'Chef Sue Zemanick', 'Guga Rocha', 'Magnum_2', 'Chef Kiran Jethwa', 'Melissa King', 'Jehangir', 'The Tuscan Gun', 'José Andrés', \"Dunkin' Donuts_9\", 'Chef Charlie Palmer', 'Red Robin Gourmet Burgers', 'Marcus Samuelsson', 'Johnny Iuzzini', 'Virginia Willis', 'Camille Becerra', 'Blue Ribbon Restaurants', 'Chef Robert Irvine', 'Kirti Bhoutika', 'Dining with Flynn', 'Michel Nischan', 'Chef Rick Tramonto', 'Hugh Acheson', 'Dean Sheremet', 'Five Guys_1', 'Tim Love', 'Michael Lomonaco', 'Josh Elkin', 'Nyesha Arrington', 'Tom Aikens', 'Douglas Keane', 'Martín Berasategui', 'Fabio Viviani', 'Robin Miller', 'Marc Forgione', 'Harlem EatUp', 'Michael White', 'Marcel Vigneron', 'Pablo Massey', 'Cesare Casella', 'João Alcantara', 'Chef Jennifer Carroll', 'Maneet Chauhan', 'Bradley Ogden', 'Jose Garces', 'Suzanne Goin', 'Chef Mark Garcia', 'Gavin Kaysen', 'Samin Nosrat', \"Bobby's Burger Palace\", 'John DeLucie', 'Narda Lepes', 'Sang Yoon', 'Matthew Kenney', 'Dani García', 'Chef Michael Ferraro', 'Geoffrey Zakarian', 'Dale Talde', 'Enrique Olvera', 'Donato De Santis', 'David Chang', 'Chef Daniel Boulud', 'Brooke Williamson', 'DedeMed', 'Angel Leon Gonzalez', 'Maru Botana', 'Francis Mallmann', 'Tom Colicchio', 'Paul Qui', 'Harold Dieterle', 'Quique Dacosta', 'Veggie Grill', 'Chef Jamie Gwen', 'Elizabeth Karmel', 'Alfred Portale', 'Dan Kluger', 'Juliana Lopez May', 'Donatella Arpaia', 'Chef Aaron McCargo Jr', 'Crepes & Waffles', 'Santiago Giorgini', 'Chef Shirley Chung', 'Hubert Keller', 'Logan Junior Chef', 'Mei Lin', 'Susan Feniger', 'Chef Carmen Gonzalez', 'Cat Cora', \"D'O - Davide Oldani\", 'Frantzén', \"'Wichcraft\", 'Diego Guerrero', 'Dean Fearing', 'Chef Rick Moonen', 'Anne Burrell', 'Eric Ripert', 'Los Petersen Cocineros', 'John Whaite', 'Cook with Chef Duminda', 'Chef Ana Paula', 'NishaMadhulika', 'Chef Michelle Bernstein', 'Chef Brian Duffy', \"Xi'an Famous Foods 西安名吃\", 'Chef Ben Churchill', 'Jacques Pépin', 'Germán Martitegui', 'Pat Neely', 'Vegan Black Metal Chef', 'Chef Diego Lozano', 'Daniel Humm', 'Bobby Flay', 'Eduardo Palazuelos', 'Chef Nina Compton', 'Chef Lorena Garcia', 'Aliya LeeKong', 'Chef Marcela Valladolid', 'Chef Alex Levin', 'Chef Cynthia Louise', 'René Redzepi', 'Blue Ribbon Fried Chicken', 'Gregory Gourdet', 'Chef Carla Hall', 'Chef Jet Tila', 'Claire Robinson', 'Ogro Jimmy', 'Amy Thielen', 'Scott Conant', 'Maria Loi', 'Buddy Valastro', 'Pedro Lambertini', 'Chef Francois Payard', 'UMass Dining', 'Chef David Burke', 'Franklin Becker', 'Aarón Sánchez', 'Doug Adams', 'Chef G. Garvin', 'Chef Elizabeth Falkner', 'Chef Michael Smith', 'Luke Thomas', 'Chef Ben Ford', 'Kristen Kish', 'Ludo Lefebvre', 'Ken Oringer', 'Christina Tosi', 'Stephanie Izard', 'Bryce Shuman', 'Roy Choi', 'Levi Eirinberg', 'Seamus Mullen', 'Carlos Bertolazzi', 'Chef Mary Sue Milliken', 'Dina Nikolaou', 'Cocina familiar con Javier Romero', \"Chef Claudia's Cocina\", 'Angelo Sosa', 'Franklin Barbecue', 'Chef Richard Sandoval', 'Chef Kent Graham', 'Julia Child', 'Chef Marc Murphy', 'Chef Casey Thompson', 'Alex Atala', 'Alex Guarnaschelli'}), frozenset({\"McDonald's_12\", \"McDonald's República Dominicana\", \"McDonald's_51\", \"McDonald's_20\", \"McDonald's_26\", \"McDonald's_30\", \"McDonald's_16\", \"McDonald's_55\", \"McDonald's Deutschland Karriere\", \"McDonald's_57\", \"McDonald's_8\", \"McDonald's_35\", \"McDonald's_31\", \"McDonald's_29\", 'Hard Rock Cafe Ibiza', \"McDonald's_43\", 'Destino Ibiza', \"McDonald's_4\", \"McDonald's_49\", \"McDonald's Japan\", \"McDonald's_37\", \"McDonald's_25\", \"McDonald's_36\", \"McDonald's_44\", \"McDonald's_42\", 'Nutella Cafe Chicago', \"McDonald's_3\", \"McDonald's_1\", \"McDonald's_23\", \"McDonald's_7\", \"McDonald's_53\", \"McDonald's_52\", \"McDonald's_33\", '麥當勞', \"McDonald's_10\", \"맥도날드 (McDonald's)\", \"McDonald's_9\", \"McDonald's_24\", \"McDonald's Paraguay\", \"McDonald's Vietnam\", \"McDonald's_17\", \"McDonald's_50\", \"McDonald's_19\", \"McDonald's_11\", \"McDonald's_22\", \"McDonald's_14\", \"McDonald's_54\", \"McDonald's_48\", \"McDonald's_41\", \"McDonald's_21\", \"McDonald's_13\", \"Steak 'n Shake\", \"McDonald's_45\", \"McDonald's_32\", \"McDonald's_5\", \"McDonald's_6\", \"McDonald's_27\", 'Lío', \"McDonald's_2\", \"McDonald's_38\", \"McDonald's_56\", \"McDonald's_47\", 'Alberto Chicote', \"McDonald's_28\", \"McDonald's_40\", \"McDonald's_46\", \"McDonald's_59\", \"McDonald's_58\", \"McDonald's_39\", \"McDonald's_18\", \"McDonald's_15\", \"McDonald's_34\"}), frozenset({'Eddie Jackson - FIT CHEF EDDIE', 'Chef Todd Mohr', 'Chef Andrew Gruel', 'Ben Sargent & Dr. Klaw', 'Chick-fil-A', 'Chef Damaris Phillips', 'Russell Jackson', 'Leslie Gilliams', 'Chuck Hughes', 'Texas Roadhouse', 'Justin Warner', 'Danny Smiles', 'Sanjeev Kapoor', 'Ricardo Cuisine', 'Ochikeron', 'Saransh Goila', 'Nikki Dinki', 'Chef Clément', 'Barbie Marshall', 'Zac Kara', 'Joanna 劉韋彤', 'Christine Ha', 'Cindy Pawlcyn', 'Five Guys_2', \"Manjula's Kitchen - Indian Vegetarian Recipes\", 'Monti Carlo', 'Vicky Ratnani', 'Chef Billy Parisi', 'Spago Las Vegas', \"Famous Dave's Bar-B-Que of America\", 'Colin Fassnidge', 'Roblé', 'Hakim Chajar', 'Josh Marks', 'Ranveer Brar', \"Nicko's Kitchen\", 'ChefAlexander', \"Jimmy John's\", 'Duff Goldman', 'משה שגב / Moshe Segev', 'Chef Sam Talbot', 'Chef Dana Cohen HK', 'José Santaella', 'MASAの料理ABC', 'Emily Ellyn', 'The Edgy Veg', 'Chef Rusty Hamlin', 'Hearth', 'Hilah Cooking', 'Spike Mendelsohn', 'Graham Elliot', 'Chef Derrick Fox', 'Chef Rubio'}), frozenset({\"Dunkin' Coffee\", 'Burger King Nederland', 'foodpanda_4', 'foodpanda_8', \"Nando's_3\", \"Chili's México\", \"Nando's_13\", 'Acapulco', 'On The Border', 'foodpanda_1', \"Nando's_9\", \"Chili's Tunisie\", 'Big Fernand', 'foodpanda - 空腹熊貓', 'Chevys Fresh Mex', \"Nando's_8\", \"Nando's_4\", \"Nando's_1\", \"Nando's_5\", \"Nando's_2\", 'KFC_21', \"Chili's Beirut\", 'Burger King Malaysia', \"Nando's_7\", 'Subway', \"Nando's_15\", 'Subway, Cayman Islands', \"Nando's PERi-PERi\", 'Burger King México', 'foodpanda_6', \"Nando's_10\", 'Second Floor Cafe 貳樓餐飲', \"Nando's_12\", '翠華餐廳 Tsui Wah Restaurant', \"Nando's_14\", \"Chili's Grill & Bar\", 'El Torito', 'Pescaria', 'foodpanda_2', \"Nando's_11\", 'foodpanda_5', 'foodpanda_3', \"Chili's Qatar\", 'foodpanda_7', \"Dunkin' Donuts_10\", \"Nando's_6\"}), frozenset({'Niko Romito', 'Chef Natale Giunta', 'Relais & Châteaux_2', 'Chef Jimmy Boswell', 'Noma', 'Alessandro Borghese', 'Ernst Knam', 'Iginio Massari', 'Peter Kuruvita', 'Magnum_3', \"Cristian D'Elia\", 'Andy Luotto', 'Chef Pete Evans', 'Pasqualino Barbasso', 'Christian Bau', 'Matt Moran', 'Bruno Barbieri', 'Fast Ed', 'Dan Steph & Emmy', 'Shane Delia', 'Al Brown New Zealand Chef', 'Simon Bryant', 'Chef Carlo Cracco', 'Manu Feildel', 'Cuoco Filippo La Mantia', 'Mirko Ronzoni', 'Simon Gault', 'Ignacio Mattos', 'Karen Martini', 'Antonino Cannavacciuolo', 'Chef Grace Ramirez', 'Raymond Blanc', 'Sonia Peronaci', 'Jock Zonfrillo', 'Massimo Mele', 'Chef Hirohiko Shoda', 'Francesco Sole'}), frozenset({\"Charley's Crab_2\", 'Big Fish Seafood Bistro_1', 'T-rex Cafe', 'Gandy Dancer Saloon/Oyster Bar', 'Bubba Gump Shrimp Co.', \"Dunkin' Donuts_7\", 'Four Seasons Hotels and Resorts', 'Grotto', \"Dunkin' Donuts_3\", \"Dunkin' Donuts_2\", 'Chef Maeve Rochford', 'Aquarium Restaurant - Nashville', \"Dunkin' Donuts_4\", 'Cadillac Bar Houston', 'Chart House', \"Meriwether's\", \"Morton's The Steakhouse\", \"Dunkin' Donuts_6\", \"Lillie's Asian Cuisine\", 'La Griglia', 'Steve Konopelski', 'Grand Concourse', 'River Crab Blue Water Inn', 'Wolfgang Puck', 'Big Fish Seafood Bistro_2', \"Charley's Crab_1\", 'Cucina by Wolfgang Puck', \"Peohe's\", 'Ravintola Salve', 'Gandy Dancer', \"Dunkin' Donuts_5\", \"Dunkin' Donuts_8\", 'Sam Choy', 'Cadillac Bar Kemah', 'RED Sushi and Hibachi Grill', \"Dunkin' Donuts_1\"}), frozenset({'PROPERCORN', \"Tom's Kitchen\", 'Éric Frechon', 'Paul Bocuse', 'Noëmie Honiat Top Chef', 'Christophe Michalak', 'Valentin Neraudeau', 'Gary Mehigan', 'Anne-Sophie Pic', 'Pierre Gagnaire', 'Susur Lee', 'Christophe Adam', 'Taste Of Paris Official', 'YANNICK ALLENO OFFICIEL', 'Taste of London', 'Roxanne Spruance', 'Amandine Chaignot', 'Bruno Ménard', 'Guillaume Gomez', 'Christian Le Squer', 'Christophe Bacquie', 'Norbert Tarayre', 'Jean-François Piège     -      Page Officielle', 'Thierry Rautureau', 'Eckart Witzigmann', 'Pierre Sang Boyer Officiel', 'Mathieu Pacaud', 'KFC_2', 'Alain Ducasse', 'Chef Guy Martin', 'Audra Morrice', 'Guy Savoy', 'Marc Veyrat'}), frozenset({\"Domino's Pizza_2\", \"Domino's Pizza_13\", \"Domino's Australia\", \"Domino's Pizza_6\", \"Domino's Pizza_9\", '도미노피자(Dominostory)', \"Domino's Pizza_20\", \"Domino's Pizza Türkiye\", \"Domino's Pizza_8\", \"Domino's Pizza_16\", \"Domino's Pizza_15\", \"Domino's Pizza_1\", \"Domino's Pizza_5\", 'Magnum_6', \"Domino's Pizza_10\", 'KFC_17', 'Magnum_1', 'JW Café - JW Marriott Hotel Hanoi', \"Domino's Pizza_3\", \"Domino's Pizza_19\", \"Domino's Guatemala\", \"Domino's Pizza_4\", \"Domino's Pizza_18\", \"Domino's Mx\", \"Domino's Pizza_17\", \"Domino's Pizza Nigeria\", \"Domino's Pizza_7\", \"Domino's Pizza_11\", '達美樂披薩', \"Domino's Pizza_14\", \"Domino's Pizza_12\"}), frozenset({'Food Busker', 'Paul Hollywood', 'Emma Frisch', 'Lindsay Ann Bakes', 'Clodagh McKenna', 'Anis Nabilah', 'Felicitas Pizarro', 'Donal Skehan', 'Anjali Pathak', 'Martha Collison', 'James Martin', 'Outlander Kitchen', 'Alex French Guy Cooking', 'SORTEDfood', 'Krispy Kreme UK', 'My Cupcake Addiction', \"Gino D'Acampo\", 'Rachel Allen', 'Kunal Kapur', 'Chetna Makan', 'Magnum_5', 'CAKE-BOY', 'Tom Douglas Restaurants', 'Ben Ebbrell - Sorted Chef', 'George Pagonis', 'Magnum_4', 'Hari Ghotra', 'Gemma Stafford', 'Cook with Amber', 'Kevin Dundon', 'Magnum_7'}), frozenset({'KFC_8', 'KFC_18', 'KFC_7', 'KFC_27', 'KFC_9', 'KFC_19', 'KFC_5', 'KFC_6', 'KFC_1', \"Hardee's\", \"Hardee's Pakistan\", 'KFC_10', 'KFC_12', 'KFC_15', 'Lee Anne Wong', 'KFC_25', 'KFC_13', \"Carl's Jr.\", 'KFC_14', 'KFC_16', 'KFC_20', \"Carl's Jr. NZ\", 'KFC_24', 'KFC_26', 'KFC_22', 'KFC_11', 'KFC_3', 'KFC_23', 'Madison Cowan', 'Opry City Stage'}), frozenset({'Outback Steakhouse', \"Eddie V's Prime Seafood\", 'Yard House', 'Bahama Breeze Island Grille', 'Olive Garden', \"Carrabba's Italian Grill\", 'Red Lobster México', 'Wings', \"Roy's Restaurant\", 'Roy Yamaguchi', 'Bonefish Grill', 'Burger King Thailand', 'FONDA MEXICANA', 'Seasons 52', 'Olive Garden México', \"Dick's Drive In Restaurant\", 'Chef Sheldon Simeon'}), frozenset({'タコベル ジャパン\\u3000Taco Bell Japan', 'Taco Bell Rep Dom', 'Taco Bell Cyprus', 'Taco Bell Guatemala', 'Taco Bell India', 'Boston Market', 'Taco Bell Costa Rica', 'Dairy Queen', 'Telepizza Guatemala', 'Taco Bell El Salvador', 'Pollo Campero El Salvador', 'Taco Bell UK', 'Taco Bell Panamá', 'Taco Bell Kuwait', 'Pollo Campero Guatemala', 'Taco Bell', 'Taco Bell Careers'}), frozenset({'Jumia Food_10', 'Jumia Food_6', 'Jumia Food_3', 'Jumia Food_9', 'foodpanda / hellofood', 'Jumia Food_2', 'Jumia Food_7', 'Jumia Food_1', 'Jumia Food_4', 'Brew Bistro and Lounge', 'hellofood', 'Jumia Food_8', 'Jumia Food_5'}), frozenset({'Emmi CAFFÈ LATTE_5', 'Emmi CAFFÈ LATTE_2', 'Emmi CAFFÈ LATTE_4', 'KFC_4', 'Emmi CAFFÈ LATTE_1', 'Emmi CAFFÈ LATTE_3'}), frozenset({'Thomas Keller', 'ad hoc & addendum', 'The French Laundry', 'Princi', 'Per Se', 'Katie Pix'}), frozenset({'Bruno Oteiza', 'Juan Mari Arzak (Página oficial)', 'Karlos Arguiñano', 'Eva Arguiñano', 'Celler de Can Roca', 'RIBS - True American Barbecue'}), frozenset({'Burger Lounge', 'Puesto', 'Luna Grill', 'Zoёs Kitchen', 'The Habit Burger Grill'}), frozenset({'Delverde_3', 'Mary Nolan, Bon Appétit Executive Chef', 'Delverde_4', 'Delverde_2', 'Delverde_1'}), frozenset({'Chope_1', 'Chope_2', 'Relais & Châteaux_1', 'Crystal Jade Singapore', 'Crystal Jade Palace - JW Marriott Hotel Hanoi'}), frozenset({'Gaston Acurio', \"Papacho's\", 'Whataburger'})]\n"
          ],
          "name": "stdout"
        }
      ]
    },
    {
      "cell_type": "code",
      "metadata": {
        "colab": {
          "base_uri": "https://localhost:8080/"
        },
        "id": "dpX6TPImFXDd",
        "outputId": "3f3ec95a-0deb-4e65-9ed4-1b3288459fb4"
      },
      "source": [
        "partition_greedy = {}\r\n",
        "for i, comm in enumerate(list_community_sets_greedy):\r\n",
        "    print(\"Community:\", i)\r\n",
        "    print(\"Number of elems\",len(comm))\r\n",
        "    for n in comm:\r\n",
        "        partition_greedy[n]=i"
      ],
      "execution_count": null,
      "outputs": [
        {
          "output_type": "stream",
          "text": [
            "Community: 0\n",
            "Number of elems 164\n",
            "Community: 1\n",
            "Number of elems 72\n",
            "Community: 2\n",
            "Number of elems 53\n",
            "Community: 3\n",
            "Number of elems 46\n",
            "Community: 4\n",
            "Number of elems 37\n",
            "Community: 5\n",
            "Number of elems 36\n",
            "Community: 6\n",
            "Number of elems 33\n",
            "Community: 7\n",
            "Number of elems 31\n",
            "Community: 8\n",
            "Number of elems 31\n",
            "Community: 9\n",
            "Number of elems 30\n",
            "Community: 10\n",
            "Number of elems 17\n",
            "Community: 11\n",
            "Number of elems 17\n",
            "Community: 12\n",
            "Number of elems 13\n",
            "Community: 13\n",
            "Number of elems 6\n",
            "Community: 14\n",
            "Number of elems 6\n",
            "Community: 15\n",
            "Number of elems 6\n",
            "Community: 16\n",
            "Number of elems 5\n",
            "Community: 17\n",
            "Number of elems 5\n",
            "Community: 18\n",
            "Number of elems 5\n",
            "Community: 19\n",
            "Number of elems 3\n",
            "Community: 20\n",
            "Number of elems 2\n",
            "Community: 21\n",
            "Number of elems 2\n"
          ],
          "name": "stdout"
        }
      ]
    },
    {
      "cell_type": "code",
      "metadata": {
        "colab": {
          "base_uri": "https://localhost:8080/"
        },
        "id": "0RmeDUIiFfhd",
        "outputId": "486d4b1a-151e-4a55-da49-166755291654"
      },
      "source": [
        "print(list(partition_greedy.items())[0:20])"
      ],
      "execution_count": null,
      "outputs": [
        {
          "output_type": "stream",
          "text": [
            "[('Chef Sue Zemanick', 0), ('Guga Rocha', 0), ('Magnum_2', 0), ('Chef Kiran Jethwa', 0), ('Melissa King', 0), ('Jehangir', 0), ('The Tuscan Gun', 0), ('José Andrés', 0), (\"Dunkin' Donuts_9\", 0), ('Chef Charlie Palmer', 0), ('Red Robin Gourmet Burgers', 0), ('Marcus Samuelsson', 0), ('Johnny Iuzzini', 0), ('Virginia Willis', 0), ('Camille Becerra', 0), ('Blue Ribbon Restaurants', 0), ('Chef Robert Irvine', 0), ('Kirti Bhoutika', 0), ('Dining with Flynn', 0), ('Michel Nischan', 0)]\n"
          ],
          "name": "stdout"
        }
      ]
    },
    {
      "cell_type": "code",
      "metadata": {
        "colab": {
          "base_uri": "https://localhost:8080/",
          "height": 248
        },
        "id": "MeJ1STUKRtc5",
        "outputId": "bf6c19d8-5169-4c89-a360-2e2a6c5b8d93"
      },
      "source": [
        "# draw the graph\r\n",
        "pos = nx.spring_layout(G)\r\n",
        "# color the nodes according to their partition\r\n",
        "cmap = cm.get_cmap('tab20', max(partition_greedy.values()) + 1)\r\n",
        "nx.draw_networkx_nodes(G, pos, partition_greedy.keys(), node_size=20,\r\n",
        "                       cmap=cmap, node_color=list(partition_greedy.values()))\r\n",
        "nx.draw_networkx_edges(G, pos, alpha=0.5)\r\n",
        "plt.show()"
      ],
      "execution_count": null,
      "outputs": [
        {
          "output_type": "display_data",
          "data": {
            "image/png": "[encoded data removed]",
            "text/plain": [
              "<Figure size 432x288 with 1 Axes>"
            ]
          },
          "metadata": {
            "tags": []
          }
        }
      ]
    },
    {
      "cell_type": "code",
      "metadata": {
        "id": "lBIznJC6Ni2n"
      },
      "source": [
        ""
      ],
      "execution_count": null,
      "outputs": []
    },
    {
      "cell_type": "code",
      "metadata": {
        "id": "4GiwPnExNvhO"
      },
      "source": [
        "partition_library = community_louvain.best_partition(G)"
      ],
      "execution_count": null,
      "outputs": []
    },
    {
      "cell_type": "code",
      "metadata": {
        "colab": {
          "base_uri": "https://localhost:8080/"
        },
        "id": "IRkaWFmJNwjx",
        "outputId": "50b369e3-311d-4edc-cfcb-bc5b4cf5d7af"
      },
      "source": [
        "print(list(partition_library.items())[0:20])"
      ],
      "execution_count": null,
      "outputs": [
        {
          "output_type": "stream",
          "text": [
            "[('Lee Anne Wong', 0), ('KFC_3', 0), ('Chef Jamie Gwen', 1), ('Madison Cowan', 0), ('Elizabeth Karmel', 1), ('KFC_22', 0), ('KFC_8', 0), ('Pat Neely', 1), ('Logan Junior Chef', 1), ('Robin Miller', 1), ('Ben Sargent & Dr. Klaw', 1), ('Bobby Flay', 1), ('Chuck Hughes', 1), ('Chef Carlo Cracco', 2), ('Pasqualino Barbasso', 2), ('Alessandro Borghese', 2), ('Chef Hirohiko Shoda', 2), ('Alain Ducasse', 3), ('Christian Bau', 2), ('Andy Luotto', 2)]\n"
          ],
          "name": "stdout"
        }
      ]
    },
    {
      "cell_type": "code",
      "metadata": {
        "colab": {
          "base_uri": "https://localhost:8080/",
          "height": 248
        },
        "id": "hGXWvnsXNycE",
        "outputId": "67845222-d390-4d64-fede-0055f2ec266c"
      },
      "source": [
        "# draw the graph\r\n",
        "pos = nx.spring_layout(G)\r\n",
        "# color the nodes according to their partition\r\n",
        "cmap = cm.get_cmap('tab20', max(partition_library.values()) + 1)\r\n",
        "nx.draw_networkx_nodes(G, pos, partition_library.keys(), node_size=20,\r\n",
        "                       cmap=cmap, node_color=list(partition_library.values()))\r\n",
        "nx.draw_networkx_edges(G, pos, alpha=0.5)\r\n",
        "plt.show()"
      ],
      "execution_count": null,
      "outputs": [
        {
          "output_type": "display_data",
          "data": {
            "image/png": "[encoded data removed]",
            "text/plain": [
              "<Figure size 432x288 with 1 Axes>"
            ]
          },
          "metadata": {
            "tags": []
          }
        }
      ]
    },
    {
      "cell_type": "code",
      "metadata": {
        "colab": {
          "base_uri": "https://localhost:8080/"
        },
        "id": "meOV1QcNODtR",
        "outputId": "16990c83-c662-4bcb-9400-6d834be4a93f"
      },
      "source": [
        "comms = set(partition_library.values())\r\n",
        "comms\r\n",
        "\r\n"
      ],
      "execution_count": null,
      "outputs": [
        {
          "output_type": "execute_result",
          "data": {
            "text/plain": [
              "{0, 1, 2, 3, 4, 5, 6, 7, 8, 9, 10, 11, 12, 13, 14, 15, 16, 17}"
            ]
          },
          "metadata": {
            "tags": []
          },
          "execution_count": 658
        }
      ]
    },
    {
      "cell_type": "code",
      "metadata": {
        "id": "oK4GKKjDQq8t"
      },
      "source": [
        "list_community_sets_library = [ set() for i in range(len(comms)) ]"
      ],
      "execution_count": null,
      "outputs": []
    },
    {
      "cell_type": "code",
      "metadata": {
        "colab": {
          "base_uri": "https://localhost:8080/"
        },
        "id": "lclKJWLEQrU4",
        "outputId": "f00af3be-1bbe-4ae3-9d27-0975d89e8dc4"
      },
      "source": [
        "for n, comm in partition_library.items():\r\n",
        "    list_community_sets_library[comm].add(n)\r\n",
        "\r\n",
        "list_community_sets_library[0:2]"
      ],
      "execution_count": null,
      "outputs": [
        {
          "output_type": "execute_result",
          "data": {
            "text/plain": [
              "[{\"Carl's Jr.\",\n",
              "  \"Carl's Jr. NZ\",\n",
              "  \"Hardee's\",\n",
              "  'KFC_1',\n",
              "  'KFC_10',\n",
              "  'KFC_11',\n",
              "  'KFC_12',\n",
              "  'KFC_13',\n",
              "  'KFC_14',\n",
              "  'KFC_15',\n",
              "  'KFC_16',\n",
              "  'KFC_18',\n",
              "  'KFC_19',\n",
              "  'KFC_20',\n",
              "  'KFC_22',\n",
              "  'KFC_23',\n",
              "  'KFC_24',\n",
              "  'KFC_25',\n",
              "  'KFC_26',\n",
              "  'KFC_27',\n",
              "  'KFC_3',\n",
              "  'KFC_5',\n",
              "  'KFC_6',\n",
              "  'KFC_7',\n",
              "  'KFC_8',\n",
              "  'KFC_9',\n",
              "  'Lee Anne Wong',\n",
              "  'Madison Cowan',\n",
              "  'Opry City Stage'},\n",
              " {'Aarón Sánchez',\n",
              "  'Alex Guarnaschelli',\n",
              "  'Aliya LeeKong',\n",
              "  'Amy Thielen',\n",
              "  'Angelo Sosa',\n",
              "  'Anne Burrell',\n",
              "  'Barbie Marshall',\n",
              "  'Ben Sargent & Dr. Klaw',\n",
              "  'Bobby Flay',\n",
              "  \"Bobby's Burger Palace\",\n",
              "  'Buddy Valastro',\n",
              "  'Camille Becerra',\n",
              "  'Cat Cora',\n",
              "  'Cesare Casella',\n",
              "  'Chef Aaron McCargo Jr',\n",
              "  'Chef Adrianne',\n",
              "  'Chef Alex Levin',\n",
              "  'Chef Andrew Gruel',\n",
              "  'Chef Ben Ford',\n",
              "  'Chef Carla Hall',\n",
              "  'Chef Carmen Gonzalez',\n",
              "  'Chef Charlie Palmer',\n",
              "  \"Chef Claudia's Cocina\",\n",
              "  'Chef Cynthia Louise',\n",
              "  'Chef Damaris Phillips',\n",
              "  'Chef Dana Cohen HK',\n",
              "  'Chef David Burke',\n",
              "  'Chef Derrick Fox',\n",
              "  'Chef Elizabeth Falkner',\n",
              "  'Chef G. Garvin',\n",
              "  'Chef Jamie DeRosa',\n",
              "  'Chef Jamie Gwen',\n",
              "  'Chef Jennifer Carroll',\n",
              "  'Chef Jet Tila',\n",
              "  'Chef Kent Graham',\n",
              "  'Chef Kiran Jethwa',\n",
              "  'Chef Maeve Rochford',\n",
              "  'Chef Marc Murphy',\n",
              "  'Chef Marcela Valladolid',\n",
              "  'Chef Michael Smith',\n",
              "  'Chef Michelle Bernstein',\n",
              "  'Chef Nina Compton',\n",
              "  'Chef Rick Moonen',\n",
              "  'Chef Rick Tramonto',\n",
              "  'Chef Robert Irvine',\n",
              "  'Chef Rubio',\n",
              "  'Chef Rusty Hamlin',\n",
              "  'Chef Sam Talbot',\n",
              "  'Chef Shirley Chung',\n",
              "  'Chef Sue Zemanick',\n",
              "  'ChefAlexander',\n",
              "  'Christine Ha',\n",
              "  'Chuck Hughes',\n",
              "  'Cindy Pawlcyn',\n",
              "  'Claire Robinson',\n",
              "  'Colin Fassnidge',\n",
              "  'Cook with Chef Duminda',\n",
              "  'Cucina by Wolfgang Puck',\n",
              "  \"D'O - Davide Oldani\",\n",
              "  'Danny Smiles',\n",
              "  'Dean Sheremet',\n",
              "  'DedeMed',\n",
              "  'Dining with Flynn',\n",
              "  'Donatella Arpaia',\n",
              "  'Douglas Keane',\n",
              "  'Duff Goldman',\n",
              "  'Eddie Jackson - FIT CHEF EDDIE',\n",
              "  'Elizabeth Karmel',\n",
              "  'Emily Ellyn',\n",
              "  'Emma Frisch',\n",
              "  'Fabio Viviani',\n",
              "  \"Famous Dave's Bar-B-Que of America\",\n",
              "  'Five Guys_1',\n",
              "  'Five Guys_2',\n",
              "  'Franklin Barbecue',\n",
              "  'Geoffrey Zakarian',\n",
              "  \"Gino D'Acampo\",\n",
              "  'Graham Elliot',\n",
              "  'Hakim Chajar',\n",
              "  'Harlem EatUp',\n",
              "  'Harold Dieterle',\n",
              "  'Hearth',\n",
              "  'Hilah Cooking',\n",
              "  'Hugh Acheson',\n",
              "  'Jacques Pépin',\n",
              "  'Jehangir',\n",
              "  \"Jimmy John's\",\n",
              "  'John DeLucie',\n",
              "  'Johnny Iuzzini',\n",
              "  'Johnny Prep',\n",
              "  'Josh Elkin',\n",
              "  'Josh Marks',\n",
              "  'José Santaella',\n",
              "  'Julia Child',\n",
              "  'Justin Warner',\n",
              "  'Ken Oringer',\n",
              "  'Kirti Bhoutika',\n",
              "  'Kunal Kapur',\n",
              "  'Leslie Gilliams',\n",
              "  'Levi Eirinberg',\n",
              "  'Logan Junior Chef',\n",
              "  'Maneet Chauhan',\n",
              "  'Marc Forgione',\n",
              "  'Marcus Samuelsson',\n",
              "  'Matthew Kenney',\n",
              "  'Michael Lomonaco',\n",
              "  'Michael White',\n",
              "  'Michel Nischan',\n",
              "  'Monti Carlo',\n",
              "  \"Nicko's Kitchen\",\n",
              "  'Nikki Dinki',\n",
              "  'NishaMadhulika',\n",
              "  'Outlander Kitchen',\n",
              "  'Pat Neely',\n",
              "  'Paul Qui',\n",
              "  'Red Robin Gourmet Burgers',\n",
              "  'Ricardo Cuisine',\n",
              "  'Robin Miller',\n",
              "  'Russell Jackson',\n",
              "  'Sam Choy',\n",
              "  'Samin Nosrat',\n",
              "  'Sang Yoon',\n",
              "  'Sanjeev Kapoor',\n",
              "  'Scott Conant',\n",
              "  'Seamus Mullen',\n",
              "  'Skinny Chef',\n",
              "  'Spago Las Vegas',\n",
              "  'Spike Mendelsohn',\n",
              "  'Stephanie Izard',\n",
              "  'Steve Konopelski',\n",
              "  'Susan Feniger',\n",
              "  'The Edgy Veg',\n",
              "  'The Tuscan Gun',\n",
              "  'Tim Love',\n",
              "  'UMass Dining',\n",
              "  'Vegan Black Metal Chef',\n",
              "  'Veggie Grill',\n",
              "  'Virginia Willis',\n",
              "  'Wolfgang Puck',\n",
              "  \"Xi'an Famous Foods 西安名吃\",\n",
              "  'Zac Kara'}]"
            ]
          },
          "metadata": {
            "tags": []
          },
          "execution_count": 660
        }
      ]
    },
    {
      "cell_type": "code",
      "metadata": {
        "colab": {
          "base_uri": "https://localhost:8080/"
        },
        "id": "ce11QS3KQs6i",
        "outputId": "fac629db-519f-4e1f-d5e6-5aa36132ee19"
      },
      "source": [
        "for my_list in [list_community_sets_greedy,  list_community_sets_library]:\r\n",
        "    \r\n",
        "    #print(\"Coverage\")\r\n",
        "    print(\"Coverage\", nx_comm.coverage(G, my_list))\r\n",
        "    #print(\"Modularity\")\r\n",
        "    print(\"Modularity\", nx_comm.modularity(G, my_list, weight='weight'))\r\n",
        "    #print(\"Performance\")\r\n",
        "    print(\"Performance\", nx_comm.performance(G, my_list))\r\n",
        "    \r\n",
        "    print(\"---\")"
      ],
      "execution_count": null,
      "outputs": [
        {
          "output_type": "stream",
          "text": [
            "Coverage 0.8686964795432921\n",
            "Modularity 0.6331957195403588\n",
            "Performance 0.8936682474334254\n",
            "---\n",
            "Coverage 0.8116079923882017\n",
            "Modularity 0.6436223351237232\n",
            "Performance 0.9031684819427798\n",
            "---\n"
          ],
          "name": "stdout"
        }
      ]
    },
    {
      "cell_type": "code",
      "metadata": {
        "colab": {
          "base_uri": "https://localhost:8080/"
        },
        "id": "_4aPTKeORC2d",
        "outputId": "f552905d-5c53-4ee0-cfed-1dae258cf0ce"
      },
      "source": [
        "\r\n",
        "\r\n",
        "pairs = []\r\n",
        "for i, nod in enumerate(list_community_sets_library):\r\n",
        "    print(i,len(nod))\r\n",
        "    comm_size = (i,len(nod))\r\n",
        "    pairs.append(comm_size)\r\n",
        "\r\n"
      ],
      "execution_count": null,
      "outputs": [
        {
          "output_type": "stream",
          "text": [
            "0 29\n",
            "1 141\n",
            "2 37\n",
            "3 30\n",
            "4 4\n",
            "5 74\n",
            "6 31\n",
            "7 37\n",
            "8 71\n",
            "9 6\n",
            "10 34\n",
            "11 5\n",
            "12 17\n",
            "13 6\n",
            "14 23\n",
            "15 44\n",
            "16 21\n",
            "17 10\n"
          ],
          "name": "stdout"
        }
      ]
    },
    {
      "cell_type": "code",
      "metadata": {
        "colab": {
          "base_uri": "https://localhost:8080/"
        },
        "id": "k4xDW9RORELR",
        "outputId": "30b6456e-b8e0-4757-8a18-186e5ab8ecfa"
      },
      "source": [
        "pairs"
      ],
      "execution_count": null,
      "outputs": [
        {
          "output_type": "execute_result",
          "data": {
            "text/plain": [
              "[(0, 29),\n",
              " (1, 141),\n",
              " (2, 37),\n",
              " (3, 30),\n",
              " (4, 4),\n",
              " (5, 74),\n",
              " (6, 31),\n",
              " (7, 37),\n",
              " (8, 71),\n",
              " (9, 6),\n",
              " (10, 34),\n",
              " (11, 5),\n",
              " (12, 17),\n",
              " (13, 6),\n",
              " (14, 23),\n",
              " (15, 44),\n",
              " (16, 21),\n",
              " (17, 10)]"
            ]
          },
          "metadata": {
            "tags": []
          },
          "execution_count": 663
        }
      ]
    },
    {
      "cell_type": "code",
      "metadata": {
        "id": "hNbXN52fREWE"
      },
      "source": [
        "community_index = []\r\n",
        "number_of_nodes = []\r\n",
        "\r\n",
        "for comm, n_nodes in pairs:\r\n",
        "    community_index.append(str(comm))\r\n",
        "    number_of_nodes.append(n_nodes)\r\n",
        "\r\n"
      ],
      "execution_count": null,
      "outputs": []
    },
    {
      "cell_type": "code",
      "metadata": {
        "colab": {
          "base_uri": "https://localhost:8080/",
          "height": 298
        },
        "id": "83NF1Wn6RJFa",
        "outputId": "decca7b3-3db9-44ab-9587-38bbbfc199b0"
      },
      "source": [
        "plt.bar(community_index,number_of_nodes)\r\n",
        "plt.xlabel(\"Community\")\r\n",
        "plt.ylabel(\"Number of nodes\")"
      ],
      "execution_count": null,
      "outputs": [
        {
          "output_type": "execute_result",
          "data": {
            "text/plain": [
              "Text(0, 0.5, 'Number of nodes')"
            ]
          },
          "metadata": {
            "tags": []
          },
          "execution_count": 665
        },
        {
          "output_type": "display_data",
          "data": {
            "image/png": "[encoded data removed]",
            "text/plain": [
              "<Figure size 432x288 with 1 Axes>"
            ]
          },
          "metadata": {
            "tags": [],
            "needs_background": "light"
          }
        }
      ]
    }
  ]
}