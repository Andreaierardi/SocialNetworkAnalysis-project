{
  "nbformat": 4,
  "nbformat_minor": 0,
  "metadata": {
    "colab": {
      "name": "project_code.ipynb",
      "provenance": [],
      "collapsed_sections": [],
      "authorship_tag": "ABX9TyMlvkA6ZjIs8qE17qQ+jOkT",
      "include_colab_link": true
    },
    "kernelspec": {
      "name": "python3",
      "display_name": "Python 3"
    }
  },
  "cells": [
    {
      "cell_type": "markdown",
      "metadata": {
        "id": "view-in-github",
        "colab_type": "text"
      },
      "source": [
        "<a href=\"https://colab.research.google.com/github/Andreaierardi/SocialNetworkAnalysis-project/blob/main/project_code.ipynb\" target=\"_parent\"><img src=\"https://colab.research.google.com/assets/colab-badge.svg\" alt=\"Open In Colab\"/></a>"
      ]
    },
    {
      "cell_type": "markdown",
      "metadata": {
        "id": "emEG98GnrQo6"
      },
      "source": [
        " # Social Network Analysis Project\n",
        "\n",
        "### Università degli Studi di Milano \n",
        "\n",
        "\n",
        "\n",
        "---\n",
        "\n"
      ]
    },
    {
      "cell_type": "code",
      "metadata": {
        "id": "Zk0_rfw65jG_"
      },
      "source": [
        "# Nodes \n",
        "# https://github.com/Andreaierardi/SocialNetworkAnalysis-project/blob/main/dataset/fb-pages-food.csv\n",
        "\n",
        "# Edges\n",
        "# https://github.com/Andreaierardi/SocialNetworkAnalysis-project/blob/main/dataset/fb-pages-food.edges"
      ],
      "execution_count": null,
      "outputs": []
    },
    {
      "cell_type": "code",
      "metadata": {
        "id": "YKVanDJn21rf"
      },
      "source": [
        "import pandas as pd\n",
        "nodes = pd.read_csv('https://raw.githubusercontent.com/Andreaierardi/SocialNetworkAnalysis-project/main/dataset/fb-pages-food.csv?token=AIWS4RS5NQFGQ4V7AK4BDR27Y7LXU',sep=\";\")\n",
        "\n",
        "edges = pd.read_csv('https://raw.githubusercontent.com/Andreaierardi/SocialNetworkAnalysis-project/main/dataset/fb-pages-food.edges?token=AIWS4RQB3NJHZ4HKBI4NADC7Y7L2I')\n"
      ],
      "execution_count": 6,
      "outputs": []
    },
    {
      "cell_type": "code",
      "metadata": {
        "id": "wdH8yTmE3XG0",
        "colab": {
          "base_uri": "https://localhost:8080/"
        },
        "outputId": "f910c0f8-8ec4-4b21-91be-8fb7c16e8e44"
      },
      "source": [
        "print(nodes)\n",
        "print(edges)"
      ],
      "execution_count": 7,
      "outputs": [
        {
          "output_type": "stream",
          "text": [
            "                        name   id\n",
            "0                 Josh Marks  386\n",
            "1    Blue Ribbon Restaurants  473\n",
            "2                  Pat Neely    1\n",
            "3                 La Griglia  542\n",
            "4                Jose Garces  189\n",
            "..                       ...  ...\n",
            "615               Jumia Food  163\n",
            "616              Luke Thomas  381\n",
            "617          Clodagh McKenna  140\n",
            "618  Chef Michelle Bernstein  157\n",
            "619               SORTEDfood  114\n",
            "\n",
            "[620 rows x 2 columns]\n",
            "      source  target\n",
            "0          0     276\n",
            "1          0      58\n",
            "2          0     132\n",
            "3          0     603\n",
            "4          0     398\n",
            "...      ...     ...\n",
            "2097     597     611\n",
            "2098     601     603\n",
            "2099     601     616\n",
            "2100     603     616\n",
            "2101     311     613\n",
            "\n",
            "[2102 rows x 2 columns]\n"
          ],
          "name": "stdout"
        }
      ]
    },
    {
      "cell_type": "code",
      "metadata": {
        "id": "Zn5pk5DSlpTX",
        "outputId": "1f6ab215-7256-4a38-ce69-6ad30327bbdb",
        "colab": {
          "base_uri": "https://localhost:8080/"
        }
      },
      "source": [
        "import networkx as nx\n",
        "from statsmodels.distributions.empirical_distribution import ECDF\n",
        "import numpy as np\n",
        "import matplotlib.pyplot as plt"
      ],
      "execution_count": 8,
      "outputs": [
        {
          "output_type": "stream",
          "text": [
            "/usr/local/lib/python3.6/dist-packages/statsmodels/tools/_testing.py:19: FutureWarning: pandas.util.testing is deprecated. Use the functions in the public API at pandas.testing instead.\n",
            "  import pandas.util.testing as tm\n"
          ],
          "name": "stderr"
        }
      ]
    },
    {
      "cell_type": "code",
      "metadata": {
        "id": "k9RHnVXFme7a"
      },
      "source": [
        "g = nx.Graph()\n",
        "\n",
        "for e in edges.values.tolist():\n",
        "  g.add_edge(e[0],e[1])"
      ],
      "execution_count": 19,
      "outputs": []
    },
    {
      "cell_type": "code",
      "metadata": {
        "id": "_75ZAAB6nDDX",
        "outputId": "43447cfe-7488-43c1-c268-8559e8cfb78c",
        "colab": {
          "base_uri": "https://localhost:8080/"
        }
      },
      "source": [
        "print('Number of nodes: {} - Number of links:{}'.format(g.order(),g.size()))\n"
      ],
      "execution_count": 20,
      "outputs": [
        {
          "output_type": "stream",
          "text": [
            "Number of nodes: 620 - Number of links:2102\n"
          ],
          "name": "stdout"
        }
      ]
    },
    {
      "cell_type": "code",
      "metadata": {
        "id": "LV8as0sjnpwh",
        "outputId": "ddc985fb-4f93-48b8-b4ca-0ecdb2cfae9d",
        "colab": {
          "base_uri": "https://localhost:8080/"
        }
      },
      "source": [
        ""
      ],
      "execution_count": 23,
      "outputs": [
        {
          "output_type": "execute_result",
          "data": {
            "text/plain": [
              "[['Josh Marks', 386],\n",
              " ['Blue Ribbon Restaurants', 473],\n",
              " ['Pat Neely', 1],\n",
              " ['La Griglia', 542],\n",
              " ['Jose Garces', 189],\n",
              " ['Zac Kara', 454],\n",
              " ['Big Fish Seafood Bistro', 158],\n",
              " ['Tom Aikens', 248],\n",
              " ['The Habit Burger Grill', 537],\n",
              " ['Chef Sheldon Simeon', 293],\n",
              " ['Ochikeron', 171],\n",
              " ['Taco Bell Cyprus', 485],\n",
              " ['Christophe Michalak', 258],\n",
              " [\"Peohe's\", 534],\n",
              " ['Destino Ibiza', 500],\n",
              " ['KFC', 194],\n",
              " ['Chef Shirley Chung', 34],\n",
              " ['Doug Adams', 465],\n",
              " ['משה שגב / Moshe Segev', 562],\n",
              " ['Angel Leon Gonzalez', 511],\n",
              " ['Ben Ebbrell - Sorted Chef', 201],\n",
              " [\"Dick's Drive In Restaurant\", 188],\n",
              " ['John Whaite', 440],\n",
              " ['Andy Luotto', 484],\n",
              " ['Antonino Cannavacciuolo', 240],\n",
              " [\"Charley's Crab\", 533],\n",
              " ['Anne-Sophie Pic', 235],\n",
              " ['Hilah Cooking', 82],\n",
              " ['Taco Bell Costa Rica', 212],\n",
              " ['Chef Robert Irvine', 35],\n",
              " ['Nutella Cafe Chicago', 19],\n",
              " ['Grand Concourse', 154],\n",
              " [\"Domino's Pizza\", 334],\n",
              " ['Chef Lorena Garcia', 148],\n",
              " ['James Martin', 599],\n",
              " [\"Domino's Pizza\", 382],\n",
              " [\"Nando's\", 230],\n",
              " ['Roy Yamaguchi', 7],\n",
              " ['Susan Feniger', 576],\n",
              " [\"McDonald's\", 164],\n",
              " ['Al Brown New Zealand Chef', 594],\n",
              " ['Veggie Grill', 396],\n",
              " [\"Domino's Pizza\", 284],\n",
              " [\"McDonald's\", 63],\n",
              " ['Franklin Becker', 160],\n",
              " [\"McDonald's\", 573],\n",
              " ['Éric Frechon', 61],\n",
              " ['KFC', 25],\n",
              " ['The Edgy Veg', 409],\n",
              " [\"Domino's Pizza\", 329],\n",
              " ['Zoёs Kitchen', 211],\n",
              " ['Chef Mark Garcia', 434],\n",
              " [\"Dunkin' Donuts\", 218],\n",
              " [\"McDonald's\", 480],\n",
              " [\"Chef Claudia's Cocina\", 309],\n",
              " [\"McDonald's\", 313],\n",
              " ['Alex Guarnaschelli', 56],\n",
              " ['Hari Ghotra', 138],\n",
              " [\"Nando's\", 591],\n",
              " ['Vicky Ratnani', 202],\n",
              " ['Boston Market', 14],\n",
              " [\"Bobby's Burger Palace\", 246],\n",
              " ['Chef Guy Martin', 462],\n",
              " ['Pablo Massey', 290],\n",
              " [\"McDonald's\", 518],\n",
              " ['Burger King Thailand', 106],\n",
              " [\"Dunkin' Donuts\", 477],\n",
              " [\"McDonald's Deutschland Karriere\", 504],\n",
              " [\"McDonald's\", 335],\n",
              " ['Michael White', 355],\n",
              " [\"Lillie's Asian Cuisine\", 33],\n",
              " ['Aquarium Restaurant - Nashville', 496],\n",
              " ['Manu Feildel', 62],\n",
              " [\"맥도날드 (McDonald's)\", 255],\n",
              " ['Camille Becerra', 325],\n",
              " ['KFC', 276],\n",
              " ['Whataburger', 153],\n",
              " ['Jumia Food', 362],\n",
              " ['Big Fernand', 10],\n",
              " ['Karlos Arguiñano', 460],\n",
              " ['Karen Martini', 282],\n",
              " ['Ogro Jimmy', 567],\n",
              " [\"Chili's Tunisie\", 304],\n",
              " ['Magnum', 5],\n",
              " [\"Carrabba's Italian Grill\", 339],\n",
              " [\"Domino's Pizza\", 21],\n",
              " ['Susur Lee', 320],\n",
              " ['Cook with Chef Duminda', 464],\n",
              " ['KFC', 51],\n",
              " ['Roblé', 156],\n",
              " ['KFC', 149],\n",
              " ['Brooke Williamson', 155],\n",
              " ['René Redzepi', 505],\n",
              " ['Cadillac Bar Kemah', 209],\n",
              " ['Fast Ed', 236],\n",
              " ['Cesare Casella', 324],\n",
              " [\"Nando's\", 527],\n",
              " ['Gandy Dancer Saloon/Oyster Bar', 78],\n",
              " [\"Hardee's\", 226],\n",
              " ['Peter Kuruvita', 433],\n",
              " ['Chef Francois Payard', 170],\n",
              " ['PROPERCORN', 468],\n",
              " ['Marc Veyrat', 472],\n",
              " ['Chope', 387],\n",
              " ['Simon Bryant', 392],\n",
              " ['Massimo Mele', 193],\n",
              " ['Chef Sam Talbot', 544],\n",
              " ['José Andrés', 9],\n",
              " ['Opry City Stage', 308],\n",
              " ['Cucina by Wolfgang Puck', 370],\n",
              " ['Iginio Massari', 344],\n",
              " [\"Domino's Pizza\", 144],\n",
              " ['Thomas Keller', 588],\n",
              " ['Emma Frisch', 463],\n",
              " [\"Dunkin' Donuts\", 521],\n",
              " [\"McDonald's\", 165],\n",
              " ['El Torito', 215],\n",
              " ['Chef Marc Murphy', 601],\n",
              " ['Dina Nikolaou', 481],\n",
              " ['KFC', 358],\n",
              " ['Acapulco', 204],\n",
              " ['Delverde', 270],\n",
              " ['Taco Bell Panamá', 11],\n",
              " ['Pollo Campero El Salvador', 606],\n",
              " ['KFC', 42],\n",
              " ['Michael Lomonaco', 366],\n",
              " [\"Domino's Pizza Türkiye\", 150],\n",
              " ['The Tuscan Gun', 322],\n",
              " ['Burger Lounge', 379],\n",
              " ['Pasqualino Barbasso', 608],\n",
              " [\"McDonald's\", 579],\n",
              " [\"McDonald's\", 424],\n",
              " ['Jumia Food', 429],\n",
              " [\"Dunkin' Donuts\", 105],\n",
              " ['Alfred Portale', 242],\n",
              " ['Magnum', 416],\n",
              " ['Jumia Food', 220],\n",
              " ['Jumia Food', 535],\n",
              " ['Alberto Chicote', 337],\n",
              " ['Lee Anne Wong', 0],\n",
              " [\"Nando's PERi-PERi\", 30],\n",
              " [\"Nando's\", 213],\n",
              " ['Paul Qui', 207],\n",
              " [\"McDonald's\", 532],\n",
              " ['Subway, Cayman Islands', 234],\n",
              " ['Chef Aaron McCargo Jr', 615],\n",
              " ['Chef Carla Hall', 350],\n",
              " ['Gary Mehigan', 169],\n",
              " ['Leslie Gilliams', 159],\n",
              " ['Cook with Amber', 456],\n",
              " ['Sang Yoon', 342],\n",
              " ['KFC', 555],\n",
              " [\"McDonald's República Dominicana\", 491],\n",
              " [\"McDonald's\", 48],\n",
              " ['Chef Richard Sandoval', 593],\n",
              " ['Jumia Food', 497],\n",
              " ['Christian Bau', 450],\n",
              " ['Jumia Food', 486],\n",
              " [\"McDonald's\", 85],\n",
              " [\"McDonald's\", 572],\n",
              " ['Aliya LeeKong', 482],\n",
              " ['Taco Bell Kuwait', 525],\n",
              " [\"McDonald's\", 488],\n",
              " ['Chef Ben Ford', 361],\n",
              " ['Taste of London', 286],\n",
              " [\"Cristian D'Elia\", 299],\n",
              " ['Guillaume Gomez', 517],\n",
              " ['Christine Ha', 458],\n",
              " ['Chef Daniel Boulud', 70],\n",
              " ['Per Se', 46],\n",
              " ['Niko Romito', 333],\n",
              " ['Marc Forgione', 257],\n",
              " ['Noëmie Honiat Top Chef', 443],\n",
              " ['Princi', 417],\n",
              " [\"Domino's Pizza\", 237],\n",
              " [\"Papacho's\", 412],\n",
              " ['Hugh Acheson', 128],\n",
              " [\"McDonald's\", 327],\n",
              " [\"Dunkin' Donuts\", 548],\n",
              " [\"Domino's Pizza\", 609],\n",
              " [\"McDonald's\", 612],\n",
              " ['Jumia Food', 6],\n",
              " ['Alex Atala', 146],\n",
              " ['RIBS - True American Barbecue', 582],\n",
              " ['Burger King Malaysia', 523],\n",
              " ['Chef Sue Zemanick', 208],\n",
              " ['Chef Carlo Cracco', 3],\n",
              " [\"McDonald's\", 179],\n",
              " [\"Chili's Beirut\", 173],\n",
              " ['Duff Goldman', 312],\n",
              " [\"Domino's Guatemala\", 263],\n",
              " ['Dani García', 498],\n",
              " [\"Nando's\", 108],\n",
              " ['Taco Bell India', 241],\n",
              " ['Brew Bistro and Lounge', 561],\n",
              " ['Maneet Chauhan', 549],\n",
              " ['Mei Lin', 254],\n",
              " ['Chetna Makan', 418],\n",
              " ['Simon Gault', 121],\n",
              " ['Tom Colicchio', 288],\n",
              " ['Chef David Burke', 116],\n",
              " ['Chef Cynthia Louise', 53],\n",
              " [\"Eddie V's Prime Seafood\", 196],\n",
              " ['Daniel Humm', 107],\n",
              " ['Delverde', 187],\n",
              " [\"Nando's\", 502],\n",
              " ['Scott Conant', 90],\n",
              " ['Chef Jamie DeRosa', 604],\n",
              " ['Emmi CAFFÈ LATTE', 66],\n",
              " ['Cindy Pawlcyn', 281],\n",
              " [\"McDonald's\", 421],\n",
              " ['KFC', 296],\n",
              " ['Pierre Gagnaire', 376],\n",
              " ['Outback Steakhouse', 305],\n",
              " ['Chef Hirohiko Shoda', 40],\n",
              " ['Chef Andrew Gruel', 436],\n",
              " ['Donatella Arpaia', 439],\n",
              " ['foodpanda', 605],\n",
              " ['Dean Fearing', 23],\n",
              " ['Chef Charlie Palmer', 275],\n",
              " ['KFC', 467],\n",
              " ['Emmi CAFFÈ LATTE', 461],\n",
              " [\"McDonald's\", 551],\n",
              " ['Julia Child', 584],\n",
              " ['Geoffrey Zakarian', 87],\n",
              " ['YANNICK ALLENO OFFICIEL', 552],\n",
              " ['Narda Lepes', 253],\n",
              " ['Quique Dacosta', 474],\n",
              " [\"McDonald's\", 45],\n",
              " ['Tom Douglas Restaurants', 268],\n",
              " [\"Nando's\", 279],\n",
              " ['Johnny Prep', 197],\n",
              " ['Mathieu Pacaud', 401],\n",
              " ['Mirko Ronzoni', 185],\n",
              " ['Anjali Pathak', 80],\n",
              " ['Second Floor Cafe 貳樓餐飲', 402],\n",
              " ['Chef G. Garvin', 302],\n",
              " ['KFC', 332],\n",
              " ['Chef Maeve Rochford', 557],\n",
              " [\"Manjula's Kitchen - Indian Vegetarian Recipes\", 166],\n",
              " ['Enrique Olvera', 323],\n",
              " ['Valentin Neraudeau', 388],\n",
              " ['Taco Bell UK', 145],\n",
              " ['Chevys Fresh Mex', 540],\n",
              " ['Nyesha Arrington', 250],\n",
              " ['Luna Grill', 96],\n",
              " ['Chef Nina Compton', 373],\n",
              " [\"McDonald's\", 123],\n",
              " ['Big Fish Seafood Bistro', 437],\n",
              " [\"Dunkin' Donuts\", 219],\n",
              " [\"Domino's Pizza\", 613],\n",
              " ['Chef Rubio', 575],\n",
              " ['Stephanie Izard', 510],\n",
              " ['KFC', 559],\n",
              " ['Kevin Dundon', 581],\n",
              " ['KFC', 423],\n",
              " ['Eduardo Palazuelos', 610],\n",
              " [\"Domino's Pizza\", 152],\n",
              " ['Harlem EatUp', 413],\n",
              " ['Gavin Kaysen', 205],\n",
              " ['Taco Bell Rep Dom', 380],\n",
              " ['Francesco Sole', 272],\n",
              " [\"McDonald's\", 142],\n",
              " ['Raymond Blanc', 269],\n",
              " ['Michel Nischan', 289],\n",
              " ['Cuoco Filippo La Mantia', 65],\n",
              " ['Colin Fassnidge', 364],\n",
              " ['Chuck Hughes', 345],\n",
              " ['Amy Thielen', 102],\n",
              " ['Thierry Rautureau', 519],\n",
              " ['Jean-François Piège     -      Page Officielle', 363],\n",
              " ['Chef Diego Lozano', 614],\n",
              " ['Jacques Pépin', 317],\n",
              " ['Donato De Santis', 563],\n",
              " ['Juliana Lopez May', 104],\n",
              " [\"McDonald's\", 586],\n",
              " ['Robin Miller', 611],\n",
              " ['Cadillac Bar Houston', 180],\n",
              " ['Chef Derrick Fox', 479],\n",
              " [\"Nando's\", 28],\n",
              " [\"McDonald's\", 515],\n",
              " [\"Domino's Mx\", 84],\n",
              " ['Dan Kluger', 68],\n",
              " ['Chef Ana Paula', 112],\n",
              " [\"Dunkin' Donuts\", 556],\n",
              " ['Taco Bell', 264],\n",
              " ['Bryce Shuman', 550],\n",
              " ['Eva Arguiñano', 587],\n",
              " ['Gandy Dancer', 210],\n",
              " [\"McDonald's\", 297],\n",
              " ['Alex French Guy Cooking', 251],\n",
              " ['Magnum', 266],\n",
              " ['Marcus Samuelsson', 217],\n",
              " [\"Tom's Kitchen\", 499],\n",
              " [\"McDonald's\", 487],\n",
              " ['foodpanda', 26],\n",
              " ['Dairy Queen', 326],\n",
              " ['Roxanne Spruance', 569],\n",
              " ['hellofood', 301],\n",
              " [\"McDonald's\", 127],\n",
              " ['Hearth', 359],\n",
              " ['Elizabeth Karmel', 603],\n",
              " ['Eddie Jackson - FIT CHEF EDDIE', 321],\n",
              " ['KFC', 598],\n",
              " ['KFC', 565],\n",
              " ['Subway', 618],\n",
              " ['Douglas Keane', 59],\n",
              " ['Emmi CAFFÈ LATTE', 574],\n",
              " [\"McDonald's\", 524],\n",
              " ['Martín Berasategui', 88],\n",
              " ['Shane Delia', 285],\n",
              " [\"Chili's México\", 73],\n",
              " ['Katie Pix', 110],\n",
              " ['Danny Smiles', 391],\n",
              " ['Ranveer Brar', 426],\n",
              " ['Diego Guerrero', 64],\n",
              " [\"McDonald's\", 357],\n",
              " ['翠華餐廳 Tsui Wah Restaurant', 190],\n",
              " ['Five Guys', 589],\n",
              " [\"Domino's Pizza\", 75],\n",
              " ['Samin Nosrat', 617],\n",
              " [\"McDonald's\", 566],\n",
              " [\"Morton's The Steakhouse\", 129],\n",
              " ['River Crab Blue Water Inn', 55],\n",
              " ['George Pagonis', 4],\n",
              " ['Steve Konopelski', 394],\n",
              " ['Bruno Oteiza', 571],\n",
              " ['Nikki Dinki', 451],\n",
              " ['Virginia Willis', 446],\n",
              " [\"Nando's\", 547],\n",
              " [\"McDonald's\", 315],\n",
              " [\"McDonald's\", 508],\n",
              " ['Chef Alex Levin', 607],\n",
              " [\"McDonald's\", 348],\n",
              " ['Aarón Sánchez', 597],\n",
              " ['Dan Steph & Emmy', 341],\n",
              " [\"Dunkin' Donuts\", 267],\n",
              " ['Chef Elizabeth Falkner', 198],\n",
              " ['Ernst Knam', 17],\n",
              " ['Guy Savoy', 244],\n",
              " [\"McDonald's Japan\", 595],\n",
              " [\"Nando's\", 438],\n",
              " [\"McDonald's\", 191],\n",
              " ['Chef Clément', 459],\n",
              " ['Christina Tosi', 15],\n",
              " ['Paul Hollywood', 408],\n",
              " [\"Xi'an Famous Foods 西安名吃\", 167],\n",
              " ['Emmi CAFFÈ LATTE', 141],\n",
              " ['Lío', 513],\n",
              " ['Guga Rocha', 93],\n",
              " ['Jock Zonfrillo', 228],\n",
              " ['foodpanda - 空腹熊貓', 216],\n",
              " ['Chef Carmen Gonzalez', 239],\n",
              " ['Suzanne Goin', 509],\n",
              " [\"McDonald's\", 395],\n",
              " ['Food Busker', 184],\n",
              " ['Crepes & Waffles', 91],\n",
              " [\"McDonald's\", 430],\n",
              " ['Jumia Food', 478],\n",
              " ['Matthew Kenney', 122],\n",
              " ['Ken Oringer', 351],\n",
              " ['Gemma Stafford', 407],\n",
              " ['KFC', 113],\n",
              " ['Buddy Valastro', 120],\n",
              " ['Bahama Breeze Island Grille', 29],\n",
              " [\"Domino's Pizza\", 400],\n",
              " ['Marcel Vigneron', 445],\n",
              " ['Krispy Kreme UK', 200],\n",
              " ['Kunal Kapur', 300],\n",
              " ['Gregory Gourdet', 83],\n",
              " ['Ben Sargent & Dr. Klaw', 2],\n",
              " [\"Domino's Pizza\", 119],\n",
              " ['Martha Collison', 506],\n",
              " ['Francis Mallmann', 225],\n",
              " ['Cat Cora', 60],\n",
              " ['Mary Nolan, Bon Appétit Executive Chef', 514],\n",
              " ['Bobby Flay', 182],\n",
              " ['Taste Of Paris Official', 368],\n",
              " [\"McDonald's\", 118],\n",
              " ['RED Sushi and Hibachi Grill', 490],\n",
              " [\"Chili's Qatar\", 369],\n",
              " ['Bubba Gump Shrimp Co.', 331],\n",
              " ['Seamus Mullen', 238],\n",
              " ['Blue Ribbon Fried Chicken', 206],\n",
              " [\"McDonald's\", 546],\n",
              " [\"Famous Dave's Bar-B-Que of America\", 294],\n",
              " ['達美樂披薩', 101],\n",
              " ['Chef Jamie Gwen', 58],\n",
              " ['Chef Marcela Valladolid', 175],\n",
              " [\"McDonald's\", 596],\n",
              " ['Chef Rick Tramonto', 277],\n",
              " ['Chef Todd Mohr', 406],\n",
              " ['Franklin Barbecue', 233],\n",
              " ['Spago Las Vegas', 135],\n",
              " ['Ludo Lefebvre', 245],\n",
              " ['Donal Skehan', 143],\n",
              " ['Anis Nabilah', 600],\n",
              " ['Magnum', 287],\n",
              " ['KFC', 466],\n",
              " ['Bradley Ogden', 536],\n",
              " ['Chef Michael Ferraro', 383],\n",
              " ['Jumia Food', 427],\n",
              " ['Tim Love', 130],\n",
              " [\"Domino's Pizza\", 16],\n",
              " ['Audra Morrice', 109],\n",
              " ['Chef Kent Graham', 89],\n",
              " ['Santiago Giorgini', 232],\n",
              " ['CAKE-BOY', 560],\n",
              " [\"Carl's Jr. NZ\", 192],\n",
              " ['Rachel Allen', 172],\n",
              " ['Pierre Sang Boyer Officiel', 470],\n",
              " [\"McDonald's\", 316],\n",
              " [\"McDonald's\", 328],\n",
              " ['Lindsay Ann Bakes', 133],\n",
              " ['Anne Burrell', 151],\n",
              " ['Chope', 390],\n",
              " [\"Steak 'n Shake\", 475],\n",
              " ['Chef Michael Smith', 384],\n",
              " [\"McDonald's\", 347],\n",
              " ['Maru Botana', 81],\n",
              " ['Red Lobster México', 178],\n",
              " ['KFC', 619],\n",
              " ['FONDA MEXICANA', 367],\n",
              " ['Chef Jennifer Carroll', 221],\n",
              " [\"Jimmy John's\", 330],\n",
              " ['Vegan Black Metal Chef', 195],\n",
              " ['Celler de Can Roca', 69],\n",
              " ['Juan Mari Arzak (Página oficial)', 385],\n",
              " ['Dining with Flynn', 131],\n",
              " [\"McDonald's\", 100],\n",
              " ['KFC', 222],\n",
              " ['Chef Adrianne', 378],\n",
              " ['KFC', 522],\n",
              " ['Chef Rick Moonen', 558],\n",
              " ['foodpanda', 74],\n",
              " [\"Dunkin' Donuts\", 249],\n",
              " ['foodpanda', 471],\n",
              " [\"Nando's\", 147],\n",
              " ['Chef Dana Cohen HK', 260],\n",
              " [\"McDonald's\", 507],\n",
              " ['Taco Bell El Salvador', 259],\n",
              " ['foodpanda', 98],\n",
              " ['Madison Cowan', 132],\n",
              " ['Puesto', 77],\n",
              " ['Justin Warner', 111],\n",
              " ['Eckart Witzigmann', 13],\n",
              " ['My Cupcake Addiction', 397],\n",
              " ['Matt Moran', 41],\n",
              " ['Frantzén', 592],\n",
              " ['KFC', 415],\n",
              " ['Telepizza Guatemala', 318],\n",
              " ['Jehangir', 161],\n",
              " ['Johnny Iuzzini', 372],\n",
              " ['Pedro Lambertini', 493],\n",
              " [\"McDonald's\", 307],\n",
              " ['Dale Talde', 455],\n",
              " ['Amandine Chaignot', 262],\n",
              " ['Graham Elliot', 432],\n",
              " [\"McDonald's\", 585],\n",
              " ['Skinny Chef', 399],\n",
              " ['Chef Rusty Hamlin', 177],\n",
              " [\"Domino's Pizza\", 545],\n",
              " ['Chef Mary Sue Milliken', 39],\n",
              " ['Delverde', 420],\n",
              " ['Alessandro Borghese', 377],\n",
              " ['Chef Jet Tila', 229],\n",
              " ['Grotto', 223],\n",
              " [\"Domino's Pizza\", 441],\n",
              " [\"McDonald's\", 38],\n",
              " ['Seasons 52', 512],\n",
              " ['Norbert Tarayre', 590],\n",
              " ['Chef Jimmy Boswell', 553],\n",
              " [\"McDonald's Paraguay\", 256],\n",
              " ['Relais & Châteaux', 530],\n",
              " ['Four Seasons Hotels and Resorts', 442],\n",
              " ['Sanjeev Kapoor', 32],\n",
              " ['Chef Billy Parisi', 50],\n",
              " ['Ravintola Salve', 36],\n",
              " ['Claire Robinson', 271],\n",
              " ['Paul Bocuse', 526],\n",
              " ['UMass Dining', 314],\n",
              " [\"Domino's Pizza Nigeria\", 353],\n",
              " ['Chef Brian Duffy', 243],\n",
              " ['Barbie Marshall', 298],\n",
              " [\"McDonald's Vietnam\", 27],\n",
              " ['Kirti Bhoutika', 44],\n",
              " [\"McDonald's\", 457],\n",
              " ['DedeMed', 422],\n",
              " ['Spike Mendelsohn', 531],\n",
              " ['Outlander Kitchen', 564],\n",
              " ['Wolfgang Puck', 227],\n",
              " ['Russell Jackson', 37],\n",
              " [\"D'O - Davide Oldani\", 577],\n",
              " ['KFC', 398],\n",
              " ['Chef Casey Thompson', 54],\n",
              " ['도미노피자(Dominostory)', 124],\n",
              " [\"McDonald's\", 602],\n",
              " [\"Dunkin' Donuts\", 12],\n",
              " ['Bruno Ménard', 181],\n",
              " ['Dean Sheremet', 338],\n",
              " ['Emily Ellyn', 389],\n",
              " ['Hakim Chajar', 203],\n",
              " [\"'Wichcraft\", 528],\n",
              " [\"Gino D'Acampo\", 346],\n",
              " ['Noma', 410],\n",
              " ['Alain Ducasse', 352],\n",
              " ['Texas Roadhouse', 76],\n",
              " ['Logan Junior Chef', 265],\n",
              " [\"Domino's Pizza\", 516],\n",
              " ['MASAの料理ABC', 186],\n",
              " [\"Chili's Grill & Bar\", 8],\n",
              " [\"McDonald's\", 31],\n",
              " ['Emmi CAFFÈ LATTE', 280],\n",
              " [\"Nando's\", 306],\n",
              " ['Josh Elkin', 580],\n",
              " ['KFC', 319],\n",
              " [\"McDonald's\", 79],\n",
              " ['Bruno Barbieri', 538],\n",
              " ['NishaMadhulika', 18],\n",
              " ['Christophe Adam', 476],\n",
              " ['KFC', 52],\n",
              " ['Chart House', 214],\n",
              " [\"McDonald's\", 543],\n",
              " ['Chef Ben Churchill', 291],\n",
              " ['Sonia Peronaci', 356],\n",
              " ['Crystal Jade Palace - JW Marriott Hotel Hanoi', 231],\n",
              " [\"Meriwether's\", 452],\n",
              " ['Harold Dieterle', 349],\n",
              " [\"Domino's Pizza\", 274],\n",
              " ['José Santaella', 568],\n",
              " [\"McDonald's\", 199],\n",
              " ['Monti Carlo', 360],\n",
              " [\"Domino's Pizza\", 117],\n",
              " ['Taco Bell Guatemala', 174],\n",
              " ['Maria Loi', 20],\n",
              " ['Red Robin Gourmet Burgers', 247],\n",
              " ['Pescaria', 405],\n",
              " [\"Nando's\", 501],\n",
              " ['Eric Ripert', 340],\n",
              " ['Chef Pete Evans', 449],\n",
              " ['KFC', 365],\n",
              " ['Saransh Goila', 183],\n",
              " ['Crystal Jade Singapore', 425],\n",
              " ['Ricardo Cuisine', 435],\n",
              " ['Roy Choi', 43],\n",
              " ['Burger King Nederland', 95],\n",
              " ['Fabio Viviani', 136],\n",
              " ['Felicitas Pizarro', 134],\n",
              " ['João Alcantara', 94],\n",
              " ['foodpanda', 295],\n",
              " ['Magnum', 303],\n",
              " ['foodpanda', 99],\n",
              " [\"Dunkin' Coffee\", 310],\n",
              " ['Chick-fil-A', 483],\n",
              " [\"Nando's\", 24],\n",
              " [\"Domino's Pizza\", 137],\n",
              " ['foodpanda / hellofood', 176],\n",
              " ['foodpanda', 393],\n",
              " ['Olive Garden México', 495],\n",
              " ['Hubert Keller', 343],\n",
              " ['Five Guys', 489],\n",
              " ['Levi Eirinberg', 375],\n",
              " ['Joanna 劉韋彤', 92],\n",
              " ['Hard Rock Cafe Ibiza', 47],\n",
              " ['Pollo Campero Guatemala', 447],\n",
              " ['麥當勞', 414],\n",
              " ['Delverde', 22],\n",
              " ['Kristen Kish', 570],\n",
              " ['Angelo Sosa', 283],\n",
              " ['KFC', 125],\n",
              " [\"McDonald's\", 292],\n",
              " ['Relais & Châteaux', 72],\n",
              " ['ChefAlexander', 404],\n",
              " ['Wings', 539],\n",
              " ['Ignacio Mattos', 273],\n",
              " ['John DeLucie', 616],\n",
              " [\"McDonald's\", 448],\n",
              " ['Los Petersen Cocineros', 354],\n",
              " [\"Nando's\", 126],\n",
              " ['Germán Martitegui', 469],\n",
              " ['Sam Choy', 453],\n",
              " ['Magnum', 503],\n",
              " [\"McDonald's\", 139],\n",
              " [\"Roy's Restaurant\", 444],\n",
              " [\"Carl's Jr.\", 371],\n",
              " ['Bonefish Grill', 583],\n",
              " [\"Domino's Australia\", 311],\n",
              " ['Christian Le Squer', 224],\n",
              " ['Olive Garden', 71],\n",
              " ['Taco Bell Careers', 57],\n",
              " ['Christophe Bacquie', 403],\n",
              " [\"Hardee's Pakistan\", 431],\n",
              " ['Chef Grace Ramirez', 411],\n",
              " ['Yard House', 49],\n",
              " ['Burger King México', 492],\n",
              " ['タコベル ジャパン\\u3000Taco Bell Japan', 115],\n",
              " ['JW Café - JW Marriott Hotel Hanoi', 374],\n",
              " ['Cocina familiar con Javier Romero', 162],\n",
              " ['ad hoc & addendum', 86],\n",
              " ['Melissa King', 419],\n",
              " [\"Charley's Crab\", 252],\n",
              " [\"McDonald's\", 541],\n",
              " ['Magnum', 336],\n",
              " ['Gaston Acurio', 529],\n",
              " ['Carlos Bertolazzi', 103],\n",
              " ['On The Border', 278],\n",
              " ['David Chang', 67],\n",
              " ['T-rex Cafe', 520],\n",
              " ['Chef Natale Giunta', 168],\n",
              " ['Chef Kiran Jethwa', 97],\n",
              " ['The French Laundry', 578],\n",
              " [\"McDonald's\", 428],\n",
              " [\"Nicko's Kitchen\", 261],\n",
              " ['KFC', 494],\n",
              " ['Chef Damaris Phillips', 554],\n",
              " ['Jumia Food', 163],\n",
              " ['Luke Thomas', 381],\n",
              " ['Clodagh McKenna', 140],\n",
              " ['Chef Michelle Bernstein', 157],\n",
              " ['SORTEDfood', 114]]"
            ]
          },
          "metadata": {
            "tags": []
          },
          "execution_count": 23
        }
      ]
    },
    {
      "cell_type": "code",
      "metadata": {
        "id": "1fSQkejDn22I",
        "outputId": "fa2aee1c-b1c2-4e5a-ebd7-2ca455969fb7",
        "colab": {
          "base_uri": "https://localhost:8080/"
        }
      },
      "source": [
        "density = nx.density(g)\n",
        "print('Density: {}'.format(density))"
      ],
      "execution_count": 26,
      "outputs": [
        {
          "output_type": "stream",
          "text": [
            "Density: 0.0109541925061233\n"
          ],
          "name": "stdout"
        }
      ]
    },
    {
      "cell_type": "code",
      "metadata": {
        "id": "M0mcsMoApMPw"
      },
      "source": [
        ""
      ],
      "execution_count": null,
      "outputs": []
    },
    {
      "cell_type": "markdown",
      "metadata": {
        "id": "Y83TAKWSpQJR"
      },
      "source": [
        "## Degree Analysis"
      ]
    },
    {
      "cell_type": "code",
      "metadata": {
        "id": "JIXsj69-pShl"
      },
      "source": [
        "degree = list(dict(g.degree()).values())\n"
      ],
      "execution_count": 27,
      "outputs": []
    },
    {
      "cell_type": "code",
      "metadata": {
        "id": "zsvqwpCEpUEF",
        "outputId": "b52d4a34-7105-4ca7-b8cb-6a7e8189d98f",
        "colab": {
          "base_uri": "https://localhost:8080/"
        }
      },
      "source": [
        "print('Standard deviation: {}'.format(np.std(degree)))\n",
        "print('Median: {}'.format(np.median(degree)))\n",
        "print('Min: {}'.format(np.min(degree)))\n",
        "print('Max: {}'.format(np.max(degree)))"
      ],
      "execution_count": 28,
      "outputs": [
        {
          "output_type": "stream",
          "text": [
            "Standard deviation: 9.46914920573866\n",
            "Median: 4.0\n",
            "Min: 1\n",
            "Max: 134\n"
          ],
          "name": "stdout"
        }
      ]
    },
    {
      "cell_type": "code",
      "metadata": {
        "id": "t6f32IbipWuq",
        "outputId": "febc2deb-98ea-4a19-c69b-ef355fe3e42c",
        "colab": {
          "base_uri": "https://localhost:8080/",
          "height": 305
        }
      },
      "source": [
        "\n",
        "# ECDF linear scale\n",
        "cdf = ECDF(degree)\n",
        "x = np.unique(degree)\n",
        "y = cdf(x)\n",
        "fig_cdf = plt.figure(figsize=(8,4))\n",
        "axes = fig_cdf.gca()\n",
        "axes.plot(x,y,marker='o',ms=6, linestyle='None')\n",
        "axes.set_xlabel('Degree',size=20)\n",
        "axes.set_ylabel('ECDF Food', size = 20)"
      ],
      "execution_count": 30,
      "outputs": [
        {
          "output_type": "execute_result",
          "data": {
            "text/plain": [
              "Text(0, 0.5, 'ECDF Food')"
            ]
          },
          "metadata": {
            "tags": []
          },
          "execution_count": 30
        },
        {
          "output_type": "display_data",
          "data": {
            "image/png": "[encoded data removed]",
            "text/plain": [
              "<Figure size 576x288 with 1 Axes>"
            ]
          },
          "metadata": {
            "tags": [],
            "needs_background": "light"
          }
        }
      ]
    },
    {
      "cell_type": "code",
      "metadata": {
        "id": "85VdeXRZpbv6",
        "outputId": "532cfea4-4b10-48c4-9a1a-04b3bd2ae59d",
        "colab": {
          "base_uri": "https://localhost:8080/",
          "height": 308
        }
      },
      "source": [
        "\n",
        "# ECDF loglog scale\n",
        "cdf = ECDF(degree)\n",
        "x = np.unique(degree)\n",
        "y = cdf(x)\n",
        "fig_cdf = plt.figure(figsize=(8,4))\n",
        "axes = fig_cdf.gca()\n",
        "axes.loglog(x,y,marker='o',ms=8, linestyle='--')\n",
        "axes.set_xlabel('Degree',size=20)\n",
        "axes.set_ylabel('ECDF Food', size = 20)\n"
      ],
      "execution_count": 32,
      "outputs": [
        {
          "output_type": "execute_result",
          "data": {
            "text/plain": [
              "Text(0, 0.5, 'ECDF Food')"
            ]
          },
          "metadata": {
            "tags": []
          },
          "execution_count": 32
        },
        {
          "output_type": "display_data",
          "data": {
            "image/png": "[encoded data removed]",
            "text/plain": [
              "<Figure size 576x288 with 1 Axes>"
            ]
          },
          "metadata": {
            "tags": [],
            "needs_background": "light"
          }
        }
      ]
    },
    {
      "cell_type": "code",
      "metadata": {
        "id": "s9tOUCWqpivi",
        "outputId": "86fce774-bf82-445e-a59c-8c1219233016",
        "colab": {
          "base_uri": "https://localhost:8080/",
          "height": 312
        }
      },
      "source": [
        "# ECCDF\n",
        "cdf = ECDF(degree)\n",
        "x = np.unique(degree)\n",
        "y = cdf(x)\n",
        "fig_cdf = plt.figure(figsize=(8,4))\n",
        "axes = fig_cdf.gca()\n",
        "axes.loglog(x,1-y,marker='o',ms=8, linestyle='--')\n",
        "axes.set_xlabel('Degree',size=20)\n",
        "axes.set_ylabel('ECCDF FOOD', size = 20)"
      ],
      "execution_count": 33,
      "outputs": [
        {
          "output_type": "execute_result",
          "data": {
            "text/plain": [
              "Text(0, 0.5, 'ECCDF FOOD')"
            ]
          },
          "metadata": {
            "tags": []
          },
          "execution_count": 33
        },
        {
          "output_type": "display_data",
          "data": {
            "image/png": "[encoded data removed]",
            "text/plain": [
              "<Figure size 576x288 with 1 Axes>"
            ]
          },
          "metadata": {
            "tags": [],
            "needs_background": "light"
          }
        }
      ]
    },
    {
      "cell_type": "code",
      "metadata": {
        "id": "-NY41H7IppF7"
      },
      "source": [
        "p = density\n",
        "random_graph = nx.fast_gnp_random_graph(g.order(),p)\n"
      ],
      "execution_count": 35,
      "outputs": []
    },
    {
      "cell_type": "code",
      "metadata": {
        "id": "TOi6WvTwpvpZ",
        "outputId": "8dc236ae-166e-4c35-b771-d5197ded5f74",
        "colab": {
          "base_uri": "https://localhost:8080/"
        }
      },
      "source": [
        "print('Number of nodes: {}'.format(random_graph.order()))\n",
        "print('Number of links: {}'.format(random_graph.size()))"
      ],
      "execution_count": 36,
      "outputs": [
        {
          "output_type": "stream",
          "text": [
            "Number of nodes: 620\n",
            "Number of links: 2056\n"
          ],
          "name": "stdout"
        }
      ]
    },
    {
      "cell_type": "code",
      "metadata": {
        "id": "FCiK8TUYpz0W"
      },
      "source": [
        "random_degree = list(dict(random_graph.degree()).values())\n"
      ],
      "execution_count": 37,
      "outputs": []
    },
    {
      "cell_type": "code",
      "metadata": {
        "id": "ZLzauKksp2IU",
        "outputId": "69ea3e8e-1a84-4990-8e31-eb939121a628",
        "colab": {
          "base_uri": "https://localhost:8080/",
          "height": 308
        }
      },
      "source": [
        "cdf = ECDF(degree)\n",
        "x = np.unique(degree)\n",
        "y = cdf(x)\n",
        "\n",
        "cdf_random = ECDF(random_degree)\n",
        "x_random = np.unique(random_degree)\n",
        "y_random = cdf_random(x_random)\n",
        "\n",
        "fig_cdf_fb = plt.figure(figsize=(8,4))\n",
        "axes = fig_cdf_fb.gca()\n",
        "axes.set_xscale('log')\n",
        "axes.set_yscale('log')\n",
        "axes.loglog(x,1-y,marker='o',ms=8, linestyle='--')\n",
        "axes.loglog(x_random,1-y_random,marker='+',ms=10, linestyle='--')\n",
        "axes.set_xlabel('Degree',size=20)\n",
        "axes.set_ylabel('ECCDF', size = 20)"
      ],
      "execution_count": 38,
      "outputs": [
        {
          "output_type": "execute_result",
          "data": {
            "text/plain": [
              "Text(0, 0.5, 'ECCDF')"
            ]
          },
          "metadata": {
            "tags": []
          },
          "execution_count": 38
        },
        {
          "output_type": "display_data",
          "data": {
            "image/png": "[encoded data removed]",
            "text/plain": [
              "<Figure size 576x288 with 1 Axes>"
            ]
          },
          "metadata": {
            "tags": [],
            "needs_background": "light"
          }
        }
      ]
    },
    {
      "cell_type": "markdown",
      "metadata": {
        "id": "x8IZWFFHpq9o"
      },
      "source": [
        "## HUBS"
      ]
    },
    {
      "cell_type": "code",
      "metadata": {
        "id": "Sg72v5vSp6tB",
        "outputId": "37e14976-61ae-4a06-8cc0-cc0ece3bacce",
        "colab": {
          "base_uri": "https://localhost:8080/"
        }
      },
      "source": [
        "percentile_99 = np.percentile(degree,99)\n",
        "print(percentile_99)"
      ],
      "execution_count": 39,
      "outputs": [
        {
          "output_type": "stream",
          "text": [
            "47.0\n"
          ],
          "name": "stdout"
        }
      ]
    },
    {
      "cell_type": "code",
      "metadata": {
        "id": "stn61tlep9e6"
      },
      "source": [
        "hub_nodi = [k for k,v in dict(g.degree()).items() if v>= percentile_99]\n"
      ],
      "execution_count": 40,
      "outputs": []
    },
    {
      "cell_type": "code",
      "metadata": {
        "id": "OsfcPT35qCB_",
        "outputId": "a744828b-bfa3-4d98-9d50-54a8a4a57a0f",
        "colab": {
          "base_uri": "https://localhost:8080/"
        }
      },
      "source": [
        "print(len(hub_nodi))\n",
        "print(list(hub_nodi))"
      ],
      "execution_count": 41,
      "outputs": [
        {
          "output_type": "stream",
          "text": [
            "8\n",
            "[265, 611, 90, 518, 340, 56, 67, 70]\n"
          ],
          "name": "stdout"
        }
      ]
    },
    {
      "cell_type": "code",
      "metadata": {
        "id": "ZZDQ7UGBqIqX",
        "outputId": "504d7a8d-c53b-444c-a5ca-e6ee911eef9e",
        "colab": {
          "base_uri": "https://localhost:8080/"
        }
      },
      "source": [
        "print(list(nx.isolates(g)))\n"
      ],
      "execution_count": 43,
      "outputs": [
        {
          "output_type": "stream",
          "text": [
            "[]\n"
          ],
          "name": "stdout"
        }
      ]
    },
    {
      "cell_type": "markdown",
      "metadata": {
        "id": "nsHzYEcBp8Cz"
      },
      "source": [
        "## Connectivity"
      ]
    },
    {
      "cell_type": "code",
      "metadata": {
        "id": "uctAbGqKqVSl",
        "outputId": "43f4b618-89d1-44b4-d873-6387d82d9107",
        "colab": {
          "base_uri": "https://localhost:8080/"
        }
      },
      "source": [
        "print(nx.is_connected(g))\n",
        "print(nx.number_connected_components(g))"
      ],
      "execution_count": 45,
      "outputs": [
        {
          "output_type": "stream",
          "text": [
            "True\n",
            "1\n"
          ],
          "name": "stdout"
        }
      ]
    },
    {
      "cell_type": "code",
      "metadata": {
        "id": "Ys-22v4sqYmZ"
      },
      "source": [
        ""
      ],
      "execution_count": null,
      "outputs": []
    }
  ]
}