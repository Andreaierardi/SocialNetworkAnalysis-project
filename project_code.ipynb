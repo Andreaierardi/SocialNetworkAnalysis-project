{
  "nbformat": 4,
  "nbformat_minor": 0,
  "metadata": {
    "colab": {
      "name": "project_code.ipynb",
      "provenance": [],
      "collapsed_sections": [],
      "authorship_tag": "ABX9TyNhfFATqmyV/g7hr5jtPvlx",
      "include_colab_link": true
    },
    "kernelspec": {
      "name": "python3",
      "display_name": "Python 3"
    }
  },
  "cells": [
    {
      "cell_type": "markdown",
      "metadata": {
        "id": "view-in-github",
        "colab_type": "text"
      },
      "source": [
        "<a href=\"https://colab.research.google.com/github/Andreaierardi/SocialNetworkAnalysis-project/blob/main/project_code.ipynb\" target=\"_parent\"><img src=\"https://colab.research.google.com/assets/colab-badge.svg\" alt=\"Open In Colab\"/></a>"
      ]
    },
    {
      "cell_type": "markdown",
      "metadata": {
        "id": "emEG98GnrQo6"
      },
      "source": [
        "# **Social Network Analysis Project**\n",
        "\n",
        "> ## **University of Milan** - **DataScience and Economics**\n",
        "\n",
        "<br>\n",
        "\n",
        "#### Author : **Andrea Ierardi**\n",
        "\n",
        "<br>\n",
        "\n",
        "\n",
        "---\n",
        "\n"
      ]
    },
    {
      "cell_type": "markdown",
      "metadata": {
        "id": "7dDSzSi-p7f8"
      },
      "source": [
        "\r\n",
        " <br>\r\n",
        "\r\n",
        "\r\n",
        "\r\n",
        "\r\n"
      ]
    },
    {
      "cell_type": "markdown",
      "metadata": {
        "id": "D_1SNIKKje5V"
      },
      "source": [
        "## Dataset\r\n",
        "### Description\r\n",
        "\r\n",
        "Data collected about Facebook pages (November 2017). These datasets represent blue verified Facebook page networks of different categories. Nodes represent the pages and edges are mutual likes among them.\r\n",
        "\r\n",
        "\r\n",
        "\r\n",
        "\r\n",
        "\r\n"
      ]
    },
    {
      "cell_type": "markdown",
      "metadata": {
        "id": "-EnzyahlphFf"
      },
      "source": [
        "\r\n",
        " <br>\r\n",
        "\r\n",
        "\r\n",
        "\r\n",
        "\r\n"
      ]
    },
    {
      "cell_type": "code",
      "metadata": {
        "id": "YKVanDJn21rf"
      },
      "source": [
        "import pandas as pd\n",
        "nodes = pd.read_csv('https://raw.githubusercontent.com/Andreaierardi/SocialNetworkAnalysis-project/main/dataset/fb-pages-food.csv',sep=\";\")\n",
        "\n",
        "edges = pd.read_csv('https://raw.githubusercontent.com/Andreaierardi/SocialNetworkAnalysis-project/main/dataset/fb-pages-food.edges')\n"
      ],
      "execution_count": 485,
      "outputs": []
    },
    {
      "cell_type": "code",
      "metadata": {
        "id": "wdH8yTmE3XG0",
        "colab": {
          "base_uri": "https://localhost:8080/"
        },
        "outputId": "b67c3196-ab94-4353-8c29-5a2e234d9091"
      },
      "source": [
        "print(nodes)\n",
        "print(edges)"
      ],
      "execution_count": 486,
      "outputs": [
        {
          "output_type": "stream",
          "text": [
            "                        name   id\n",
            "0                 Josh Marks  386\n",
            "1    Blue Ribbon Restaurants  473\n",
            "2                  Pat Neely    1\n",
            "3                 La Griglia  542\n",
            "4                Jose Garces  189\n",
            "..                       ...  ...\n",
            "615               Jumia Food  163\n",
            "616              Luke Thomas  381\n",
            "617          Clodagh McKenna  140\n",
            "618  Chef Michelle Bernstein  157\n",
            "619               SORTEDfood  114\n",
            "\n",
            "[620 rows x 2 columns]\n",
            "      source  target\n",
            "0          0     276\n",
            "1          0      58\n",
            "2          0     132\n",
            "3          0     603\n",
            "4          0     398\n",
            "...      ...     ...\n",
            "2097     597     611\n",
            "2098     601     603\n",
            "2099     601     616\n",
            "2100     603     616\n",
            "2101     311     613\n",
            "\n",
            "[2102 rows x 2 columns]\n"
          ],
          "name": "stdout"
        }
      ]
    },
    {
      "cell_type": "code",
      "metadata": {
        "id": "oLNCmyPNI9hM"
      },
      "source": [
        ""
      ],
      "execution_count": 486,
      "outputs": []
    },
    {
      "cell_type": "code",
      "metadata": {
        "id": "rWB-XdMBJEx2"
      },
      "source": [
        "from collections import Counter # Counter counts the number of occurrences of each item\r\n",
        "from itertools import tee, count\r\n",
        "def uniquify(seq, suffs = count(1)):\r\n",
        "    \"\"\"Make all the items unique by adding a suffix (1, 2, etc).\r\n",
        "\r\n",
        "    `seq` is mutable sequence of strings.\r\n",
        "    `suffs` is an optional alternative suffix iterable.\r\n",
        "    \"\"\"\r\n",
        "    not_unique = [k for k,v in Counter(seq).items() if v>1] # so we have: ['name', 'zip']\r\n",
        "    # suffix generator dict - e.g., {'name': <my_gen>, 'zip': <my_gen>}\r\n",
        "    suff_gens = dict(zip(not_unique, tee(suffs, len(not_unique))))  \r\n",
        "    for idx,s in enumerate(seq):\r\n",
        "        try:\r\n",
        "            suffix = str(next(suff_gens[s]))\r\n",
        "        except KeyError:\r\n",
        "            # s was unique\r\n",
        "            continue\r\n",
        "        else:\r\n",
        "            seq[idx] += suffix\r\n",
        "    "
      ],
      "execution_count": 487,
      "outputs": []
    },
    {
      "cell_type": "code",
      "metadata": {
        "id": "rUoGw9ldJR8S",
        "outputId": "c6ead17a-d8bb-4076-a08e-8cc6ca50df19",
        "colab": {
          "base_uri": "https://localhost:8080/"
        }
      },
      "source": [
        "names = list(nodes.name)\r\n",
        "uniquify(names, (f'_{x!s}' for x in range(1, 100)))\r\n",
        "names"
      ],
      "execution_count": 488,
      "outputs": [
        {
          "output_type": "execute_result",
          "data": {
            "text/plain": [
              "['Josh Marks',\n",
              " 'Blue Ribbon Restaurants',\n",
              " 'Pat Neely',\n",
              " 'La Griglia',\n",
              " 'Jose Garces',\n",
              " 'Zac Kara',\n",
              " 'Big Fish Seafood Bistro_1',\n",
              " 'Tom Aikens',\n",
              " 'The Habit Burger Grill',\n",
              " 'Chef Sheldon Simeon',\n",
              " 'Ochikeron',\n",
              " 'Taco Bell Cyprus',\n",
              " 'Christophe Michalak',\n",
              " \"Peohe's\",\n",
              " 'Destino Ibiza',\n",
              " 'KFC_1',\n",
              " 'Chef Shirley Chung',\n",
              " 'Doug Adams',\n",
              " 'משה שגב / Moshe Segev',\n",
              " 'Angel Leon Gonzalez',\n",
              " 'Ben Ebbrell - Sorted Chef',\n",
              " \"Dick's Drive In Restaurant\",\n",
              " 'John Whaite',\n",
              " 'Andy Luotto',\n",
              " 'Antonino Cannavacciuolo',\n",
              " \"Charley's Crab_1\",\n",
              " 'Anne-Sophie Pic',\n",
              " 'Hilah Cooking',\n",
              " 'Taco Bell Costa Rica',\n",
              " 'Chef Robert Irvine',\n",
              " 'Nutella Cafe Chicago',\n",
              " 'Grand Concourse',\n",
              " \"Domino's Pizza_1\",\n",
              " 'Chef Lorena Garcia',\n",
              " 'James Martin',\n",
              " \"Domino's Pizza_2\",\n",
              " \"Nando's_1\",\n",
              " 'Roy Yamaguchi',\n",
              " 'Susan Feniger',\n",
              " \"McDonald's_1\",\n",
              " 'Al Brown New Zealand Chef',\n",
              " 'Veggie Grill',\n",
              " \"Domino's Pizza_3\",\n",
              " \"McDonald's_2\",\n",
              " 'Franklin Becker',\n",
              " \"McDonald's_3\",\n",
              " 'Éric Frechon',\n",
              " 'KFC_2',\n",
              " 'The Edgy Veg',\n",
              " \"Domino's Pizza_4\",\n",
              " 'Zoёs Kitchen',\n",
              " 'Chef Mark Garcia',\n",
              " \"Dunkin' Donuts_1\",\n",
              " \"McDonald's_4\",\n",
              " \"Chef Claudia's Cocina\",\n",
              " \"McDonald's_5\",\n",
              " 'Alex Guarnaschelli',\n",
              " 'Hari Ghotra',\n",
              " \"Nando's_2\",\n",
              " 'Vicky Ratnani',\n",
              " 'Boston Market',\n",
              " \"Bobby's Burger Palace\",\n",
              " 'Chef Guy Martin',\n",
              " 'Pablo Massey',\n",
              " \"McDonald's_6\",\n",
              " 'Burger King Thailand',\n",
              " \"Dunkin' Donuts_2\",\n",
              " \"McDonald's Deutschland Karriere\",\n",
              " \"McDonald's_7\",\n",
              " 'Michael White',\n",
              " \"Lillie's Asian Cuisine\",\n",
              " 'Aquarium Restaurant - Nashville',\n",
              " 'Manu Feildel',\n",
              " \"맥도날드 (McDonald's)\",\n",
              " 'Camille Becerra',\n",
              " 'KFC_3',\n",
              " 'Whataburger',\n",
              " 'Jumia Food_1',\n",
              " 'Big Fernand',\n",
              " 'Karlos Arguiñano',\n",
              " 'Karen Martini',\n",
              " 'Ogro Jimmy',\n",
              " \"Chili's Tunisie\",\n",
              " 'Magnum_1',\n",
              " \"Carrabba's Italian Grill\",\n",
              " \"Domino's Pizza_5\",\n",
              " 'Susur Lee',\n",
              " 'Cook with Chef Duminda',\n",
              " 'KFC_4',\n",
              " 'Roblé',\n",
              " 'KFC_5',\n",
              " 'Brooke Williamson',\n",
              " 'René Redzepi',\n",
              " 'Cadillac Bar Kemah',\n",
              " 'Fast Ed',\n",
              " 'Cesare Casella',\n",
              " \"Nando's_3\",\n",
              " 'Gandy Dancer Saloon/Oyster Bar',\n",
              " \"Hardee's\",\n",
              " 'Peter Kuruvita',\n",
              " 'Chef Francois Payard',\n",
              " 'PROPERCORN',\n",
              " 'Marc Veyrat',\n",
              " 'Chope_1',\n",
              " 'Simon Bryant',\n",
              " 'Massimo Mele',\n",
              " 'Chef Sam Talbot',\n",
              " 'José Andrés',\n",
              " 'Opry City Stage',\n",
              " 'Cucina by Wolfgang Puck',\n",
              " 'Iginio Massari',\n",
              " \"Domino's Pizza_6\",\n",
              " 'Thomas Keller',\n",
              " 'Emma Frisch',\n",
              " \"Dunkin' Donuts_3\",\n",
              " \"McDonald's_8\",\n",
              " 'El Torito',\n",
              " 'Chef Marc Murphy',\n",
              " 'Dina Nikolaou',\n",
              " 'KFC_6',\n",
              " 'Acapulco',\n",
              " 'Delverde_1',\n",
              " 'Taco Bell Panamá',\n",
              " 'Pollo Campero El Salvador',\n",
              " 'KFC_7',\n",
              " 'Michael Lomonaco',\n",
              " \"Domino's Pizza Türkiye\",\n",
              " 'The Tuscan Gun',\n",
              " 'Burger Lounge',\n",
              " 'Pasqualino Barbasso',\n",
              " \"McDonald's_9\",\n",
              " \"McDonald's_10\",\n",
              " 'Jumia Food_2',\n",
              " \"Dunkin' Donuts_4\",\n",
              " 'Alfred Portale',\n",
              " 'Magnum_2',\n",
              " 'Jumia Food_3',\n",
              " 'Jumia Food_4',\n",
              " 'Alberto Chicote',\n",
              " 'Lee Anne Wong',\n",
              " \"Nando's PERi-PERi\",\n",
              " \"Nando's_4\",\n",
              " 'Paul Qui',\n",
              " \"McDonald's_11\",\n",
              " 'Subway, Cayman Islands',\n",
              " 'Chef Aaron McCargo Jr',\n",
              " 'Chef Carla Hall',\n",
              " 'Gary Mehigan',\n",
              " 'Leslie Gilliams',\n",
              " 'Cook with Amber',\n",
              " 'Sang Yoon',\n",
              " 'KFC_8',\n",
              " \"McDonald's República Dominicana\",\n",
              " \"McDonald's_12\",\n",
              " 'Chef Richard Sandoval',\n",
              " 'Jumia Food_5',\n",
              " 'Christian Bau',\n",
              " 'Jumia Food_6',\n",
              " \"McDonald's_13\",\n",
              " \"McDonald's_14\",\n",
              " 'Aliya LeeKong',\n",
              " 'Taco Bell Kuwait',\n",
              " \"McDonald's_15\",\n",
              " 'Chef Ben Ford',\n",
              " 'Taste of London',\n",
              " \"Cristian D'Elia\",\n",
              " 'Guillaume Gomez',\n",
              " 'Christine Ha',\n",
              " 'Chef Daniel Boulud',\n",
              " 'Per Se',\n",
              " 'Niko Romito',\n",
              " 'Marc Forgione',\n",
              " 'Noëmie Honiat Top Chef',\n",
              " 'Princi',\n",
              " \"Domino's Pizza_7\",\n",
              " \"Papacho's\",\n",
              " 'Hugh Acheson',\n",
              " \"McDonald's_16\",\n",
              " \"Dunkin' Donuts_5\",\n",
              " \"Domino's Pizza_8\",\n",
              " \"McDonald's_17\",\n",
              " 'Jumia Food_7',\n",
              " 'Alex Atala',\n",
              " 'RIBS - True American Barbecue',\n",
              " 'Burger King Malaysia',\n",
              " 'Chef Sue Zemanick',\n",
              " 'Chef Carlo Cracco',\n",
              " \"McDonald's_18\",\n",
              " \"Chili's Beirut\",\n",
              " 'Duff Goldman',\n",
              " \"Domino's Guatemala\",\n",
              " 'Dani García',\n",
              " \"Nando's_5\",\n",
              " 'Taco Bell India',\n",
              " 'Brew Bistro and Lounge',\n",
              " 'Maneet Chauhan',\n",
              " 'Mei Lin',\n",
              " 'Chetna Makan',\n",
              " 'Simon Gault',\n",
              " 'Tom Colicchio',\n",
              " 'Chef David Burke',\n",
              " 'Chef Cynthia Louise',\n",
              " \"Eddie V's Prime Seafood\",\n",
              " 'Daniel Humm',\n",
              " 'Delverde_2',\n",
              " \"Nando's_6\",\n",
              " 'Scott Conant',\n",
              " 'Chef Jamie DeRosa',\n",
              " 'Emmi CAFFÈ LATTE_1',\n",
              " 'Cindy Pawlcyn',\n",
              " \"McDonald's_19\",\n",
              " 'KFC_9',\n",
              " 'Pierre Gagnaire',\n",
              " 'Outback Steakhouse',\n",
              " 'Chef Hirohiko Shoda',\n",
              " 'Chef Andrew Gruel',\n",
              " 'Donatella Arpaia',\n",
              " 'foodpanda_1',\n",
              " 'Dean Fearing',\n",
              " 'Chef Charlie Palmer',\n",
              " 'KFC_10',\n",
              " 'Emmi CAFFÈ LATTE_2',\n",
              " \"McDonald's_20\",\n",
              " 'Julia Child',\n",
              " 'Geoffrey Zakarian',\n",
              " 'YANNICK ALLENO OFFICIEL',\n",
              " 'Narda Lepes',\n",
              " 'Quique Dacosta',\n",
              " \"McDonald's_21\",\n",
              " 'Tom Douglas Restaurants',\n",
              " \"Nando's_7\",\n",
              " 'Johnny Prep',\n",
              " 'Mathieu Pacaud',\n",
              " 'Mirko Ronzoni',\n",
              " 'Anjali Pathak',\n",
              " 'Second Floor Cafe 貳樓餐飲',\n",
              " 'Chef G. Garvin',\n",
              " 'KFC_11',\n",
              " 'Chef Maeve Rochford',\n",
              " \"Manjula's Kitchen - Indian Vegetarian Recipes\",\n",
              " 'Enrique Olvera',\n",
              " 'Valentin Neraudeau',\n",
              " 'Taco Bell UK',\n",
              " 'Chevys Fresh Mex',\n",
              " 'Nyesha Arrington',\n",
              " 'Luna Grill',\n",
              " 'Chef Nina Compton',\n",
              " \"McDonald's_22\",\n",
              " 'Big Fish Seafood Bistro_2',\n",
              " \"Dunkin' Donuts_6\",\n",
              " \"Domino's Pizza_9\",\n",
              " 'Chef Rubio',\n",
              " 'Stephanie Izard',\n",
              " 'KFC_12',\n",
              " 'Kevin Dundon',\n",
              " 'KFC_13',\n",
              " 'Eduardo Palazuelos',\n",
              " \"Domino's Pizza_10\",\n",
              " 'Harlem EatUp',\n",
              " 'Gavin Kaysen',\n",
              " 'Taco Bell Rep Dom',\n",
              " 'Francesco Sole',\n",
              " \"McDonald's_23\",\n",
              " 'Raymond Blanc',\n",
              " 'Michel Nischan',\n",
              " 'Cuoco Filippo La Mantia',\n",
              " 'Colin Fassnidge',\n",
              " 'Chuck Hughes',\n",
              " 'Amy Thielen',\n",
              " 'Thierry Rautureau',\n",
              " 'Jean-François Piège     -      Page Officielle',\n",
              " 'Chef Diego Lozano',\n",
              " 'Jacques Pépin',\n",
              " 'Donato De Santis',\n",
              " 'Juliana Lopez May',\n",
              " \"McDonald's_24\",\n",
              " 'Robin Miller',\n",
              " 'Cadillac Bar Houston',\n",
              " 'Chef Derrick Fox',\n",
              " \"Nando's_8\",\n",
              " \"McDonald's_25\",\n",
              " \"Domino's Mx\",\n",
              " 'Dan Kluger',\n",
              " 'Chef Ana Paula',\n",
              " \"Dunkin' Donuts_7\",\n",
              " 'Taco Bell',\n",
              " 'Bryce Shuman',\n",
              " 'Eva Arguiñano',\n",
              " 'Gandy Dancer',\n",
              " \"McDonald's_26\",\n",
              " 'Alex French Guy Cooking',\n",
              " 'Magnum_3',\n",
              " 'Marcus Samuelsson',\n",
              " \"Tom's Kitchen\",\n",
              " \"McDonald's_27\",\n",
              " 'foodpanda_2',\n",
              " 'Dairy Queen',\n",
              " 'Roxanne Spruance',\n",
              " 'hellofood',\n",
              " \"McDonald's_28\",\n",
              " 'Hearth',\n",
              " 'Elizabeth Karmel',\n",
              " 'Eddie Jackson - FIT CHEF EDDIE',\n",
              " 'KFC_14',\n",
              " 'KFC_15',\n",
              " 'Subway',\n",
              " 'Douglas Keane',\n",
              " 'Emmi CAFFÈ LATTE_3',\n",
              " \"McDonald's_29\",\n",
              " 'Martín Berasategui',\n",
              " 'Shane Delia',\n",
              " \"Chili's México\",\n",
              " 'Katie Pix',\n",
              " 'Danny Smiles',\n",
              " 'Ranveer Brar',\n",
              " 'Diego Guerrero',\n",
              " \"McDonald's_30\",\n",
              " '翠華餐廳 Tsui Wah Restaurant',\n",
              " 'Five Guys_1',\n",
              " \"Domino's Pizza_11\",\n",
              " 'Samin Nosrat',\n",
              " \"McDonald's_31\",\n",
              " \"Morton's The Steakhouse\",\n",
              " 'River Crab Blue Water Inn',\n",
              " 'George Pagonis',\n",
              " 'Steve Konopelski',\n",
              " 'Bruno Oteiza',\n",
              " 'Nikki Dinki',\n",
              " 'Virginia Willis',\n",
              " \"Nando's_9\",\n",
              " \"McDonald's_32\",\n",
              " \"McDonald's_33\",\n",
              " 'Chef Alex Levin',\n",
              " \"McDonald's_34\",\n",
              " 'Aarón Sánchez',\n",
              " 'Dan Steph & Emmy',\n",
              " \"Dunkin' Donuts_8\",\n",
              " 'Chef Elizabeth Falkner',\n",
              " 'Ernst Knam',\n",
              " 'Guy Savoy',\n",
              " \"McDonald's Japan\",\n",
              " \"Nando's_10\",\n",
              " \"McDonald's_35\",\n",
              " 'Chef Clément',\n",
              " 'Christina Tosi',\n",
              " 'Paul Hollywood',\n",
              " \"Xi'an Famous Foods 西安名吃\",\n",
              " 'Emmi CAFFÈ LATTE_4',\n",
              " 'Lío',\n",
              " 'Guga Rocha',\n",
              " 'Jock Zonfrillo',\n",
              " 'foodpanda - 空腹熊貓',\n",
              " 'Chef Carmen Gonzalez',\n",
              " 'Suzanne Goin',\n",
              " \"McDonald's_36\",\n",
              " 'Food Busker',\n",
              " 'Crepes & Waffles',\n",
              " \"McDonald's_37\",\n",
              " 'Jumia Food_8',\n",
              " 'Matthew Kenney',\n",
              " 'Ken Oringer',\n",
              " 'Gemma Stafford',\n",
              " 'KFC_16',\n",
              " 'Buddy Valastro',\n",
              " 'Bahama Breeze Island Grille',\n",
              " \"Domino's Pizza_12\",\n",
              " 'Marcel Vigneron',\n",
              " 'Krispy Kreme UK',\n",
              " 'Kunal Kapur',\n",
              " 'Gregory Gourdet',\n",
              " 'Ben Sargent & Dr. Klaw',\n",
              " \"Domino's Pizza_13\",\n",
              " 'Martha Collison',\n",
              " 'Francis Mallmann',\n",
              " 'Cat Cora',\n",
              " 'Mary Nolan, Bon Appétit Executive Chef',\n",
              " 'Bobby Flay',\n",
              " 'Taste Of Paris Official',\n",
              " \"McDonald's_38\",\n",
              " 'RED Sushi and Hibachi Grill',\n",
              " \"Chili's Qatar\",\n",
              " 'Bubba Gump Shrimp Co.',\n",
              " 'Seamus Mullen',\n",
              " 'Blue Ribbon Fried Chicken',\n",
              " \"McDonald's_39\",\n",
              " \"Famous Dave's Bar-B-Que of America\",\n",
              " '達美樂披薩',\n",
              " 'Chef Jamie Gwen',\n",
              " 'Chef Marcela Valladolid',\n",
              " \"McDonald's_40\",\n",
              " 'Chef Rick Tramonto',\n",
              " 'Chef Todd Mohr',\n",
              " 'Franklin Barbecue',\n",
              " 'Spago Las Vegas',\n",
              " 'Ludo Lefebvre',\n",
              " 'Donal Skehan',\n",
              " 'Anis Nabilah',\n",
              " 'Magnum_4',\n",
              " 'KFC_17',\n",
              " 'Bradley Ogden',\n",
              " 'Chef Michael Ferraro',\n",
              " 'Jumia Food_9',\n",
              " 'Tim Love',\n",
              " \"Domino's Pizza_14\",\n",
              " 'Audra Morrice',\n",
              " 'Chef Kent Graham',\n",
              " 'Santiago Giorgini',\n",
              " 'CAKE-BOY',\n",
              " \"Carl's Jr. NZ\",\n",
              " 'Rachel Allen',\n",
              " 'Pierre Sang Boyer Officiel',\n",
              " \"McDonald's_41\",\n",
              " \"McDonald's_42\",\n",
              " 'Lindsay Ann Bakes',\n",
              " 'Anne Burrell',\n",
              " 'Chope_2',\n",
              " \"Steak 'n Shake\",\n",
              " 'Chef Michael Smith',\n",
              " \"McDonald's_43\",\n",
              " 'Maru Botana',\n",
              " 'Red Lobster México',\n",
              " 'KFC_18',\n",
              " 'FONDA MEXICANA',\n",
              " 'Chef Jennifer Carroll',\n",
              " \"Jimmy John's\",\n",
              " 'Vegan Black Metal Chef',\n",
              " 'Celler de Can Roca',\n",
              " 'Juan Mari Arzak (Página oficial)',\n",
              " 'Dining with Flynn',\n",
              " \"McDonald's_44\",\n",
              " 'KFC_19',\n",
              " 'Chef Adrianne',\n",
              " 'KFC_20',\n",
              " 'Chef Rick Moonen',\n",
              " 'foodpanda_3',\n",
              " \"Dunkin' Donuts_9\",\n",
              " 'foodpanda_4',\n",
              " \"Nando's_11\",\n",
              " 'Chef Dana Cohen HK',\n",
              " \"McDonald's_45\",\n",
              " 'Taco Bell El Salvador',\n",
              " 'foodpanda_5',\n",
              " 'Madison Cowan',\n",
              " 'Puesto',\n",
              " 'Justin Warner',\n",
              " 'Eckart Witzigmann',\n",
              " 'My Cupcake Addiction',\n",
              " 'Matt Moran',\n",
              " 'Frantzén',\n",
              " 'KFC_21',\n",
              " 'Telepizza Guatemala',\n",
              " 'Jehangir',\n",
              " 'Johnny Iuzzini',\n",
              " 'Pedro Lambertini',\n",
              " \"McDonald's_46\",\n",
              " 'Dale Talde',\n",
              " 'Amandine Chaignot',\n",
              " 'Graham Elliot',\n",
              " \"McDonald's_47\",\n",
              " 'Skinny Chef',\n",
              " 'Chef Rusty Hamlin',\n",
              " \"Domino's Pizza_15\",\n",
              " 'Chef Mary Sue Milliken',\n",
              " 'Delverde_3',\n",
              " 'Alessandro Borghese',\n",
              " 'Chef Jet Tila',\n",
              " 'Grotto',\n",
              " \"Domino's Pizza_16\",\n",
              " \"McDonald's_48\",\n",
              " 'Seasons 52',\n",
              " 'Norbert Tarayre',\n",
              " 'Chef Jimmy Boswell',\n",
              " \"McDonald's Paraguay\",\n",
              " 'Relais & Châteaux_1',\n",
              " 'Four Seasons Hotels and Resorts',\n",
              " 'Sanjeev Kapoor',\n",
              " 'Chef Billy Parisi',\n",
              " 'Ravintola Salve',\n",
              " 'Claire Robinson',\n",
              " 'Paul Bocuse',\n",
              " 'UMass Dining',\n",
              " \"Domino's Pizza Nigeria\",\n",
              " 'Chef Brian Duffy',\n",
              " 'Barbie Marshall',\n",
              " \"McDonald's Vietnam\",\n",
              " 'Kirti Bhoutika',\n",
              " \"McDonald's_49\",\n",
              " 'DedeMed',\n",
              " 'Spike Mendelsohn',\n",
              " 'Outlander Kitchen',\n",
              " 'Wolfgang Puck',\n",
              " 'Russell Jackson',\n",
              " \"D'O - Davide Oldani\",\n",
              " 'KFC_22',\n",
              " 'Chef Casey Thompson',\n",
              " '도미노피자(Dominostory)',\n",
              " \"McDonald's_50\",\n",
              " \"Dunkin' Donuts_10\",\n",
              " 'Bruno Ménard',\n",
              " 'Dean Sheremet',\n",
              " 'Emily Ellyn',\n",
              " 'Hakim Chajar',\n",
              " \"'Wichcraft\",\n",
              " \"Gino D'Acampo\",\n",
              " 'Noma',\n",
              " 'Alain Ducasse',\n",
              " 'Texas Roadhouse',\n",
              " 'Logan Junior Chef',\n",
              " \"Domino's Pizza_17\",\n",
              " 'MASAの料理ABC',\n",
              " \"Chili's Grill & Bar\",\n",
              " \"McDonald's_51\",\n",
              " 'Emmi CAFFÈ LATTE_5',\n",
              " \"Nando's_12\",\n",
              " 'Josh Elkin',\n",
              " 'KFC_23',\n",
              " \"McDonald's_52\",\n",
              " 'Bruno Barbieri',\n",
              " 'NishaMadhulika',\n",
              " 'Christophe Adam',\n",
              " 'KFC_24',\n",
              " 'Chart House',\n",
              " \"McDonald's_53\",\n",
              " 'Chef Ben Churchill',\n",
              " 'Sonia Peronaci',\n",
              " 'Crystal Jade Palace - JW Marriott Hotel Hanoi',\n",
              " \"Meriwether's\",\n",
              " 'Harold Dieterle',\n",
              " \"Domino's Pizza_18\",\n",
              " 'José Santaella',\n",
              " \"McDonald's_54\",\n",
              " 'Monti Carlo',\n",
              " \"Domino's Pizza_19\",\n",
              " 'Taco Bell Guatemala',\n",
              " 'Maria Loi',\n",
              " 'Red Robin Gourmet Burgers',\n",
              " 'Pescaria',\n",
              " \"Nando's_13\",\n",
              " 'Eric Ripert',\n",
              " 'Chef Pete Evans',\n",
              " 'KFC_25',\n",
              " 'Saransh Goila',\n",
              " 'Crystal Jade Singapore',\n",
              " 'Ricardo Cuisine',\n",
              " 'Roy Choi',\n",
              " 'Burger King Nederland',\n",
              " 'Fabio Viviani',\n",
              " 'Felicitas Pizarro',\n",
              " 'João Alcantara',\n",
              " 'foodpanda_6',\n",
              " 'Magnum_5',\n",
              " 'foodpanda_7',\n",
              " \"Dunkin' Coffee\",\n",
              " 'Chick-fil-A',\n",
              " \"Nando's_14\",\n",
              " \"Domino's Pizza_20\",\n",
              " 'foodpanda / hellofood',\n",
              " 'foodpanda_8',\n",
              " 'Olive Garden México',\n",
              " 'Hubert Keller',\n",
              " 'Five Guys_2',\n",
              " 'Levi Eirinberg',\n",
              " 'Joanna 劉韋彤',\n",
              " 'Hard Rock Cafe Ibiza',\n",
              " 'Pollo Campero Guatemala',\n",
              " '麥當勞',\n",
              " 'Delverde_4',\n",
              " 'Kristen Kish',\n",
              " 'Angelo Sosa',\n",
              " 'KFC_26',\n",
              " \"McDonald's_55\",\n",
              " 'Relais & Châteaux_2',\n",
              " 'ChefAlexander',\n",
              " 'Wings',\n",
              " 'Ignacio Mattos',\n",
              " 'John DeLucie',\n",
              " \"McDonald's_56\",\n",
              " 'Los Petersen Cocineros',\n",
              " \"Nando's_15\",\n",
              " 'Germán Martitegui',\n",
              " 'Sam Choy',\n",
              " 'Magnum_6',\n",
              " \"McDonald's_57\",\n",
              " \"Roy's Restaurant\",\n",
              " \"Carl's Jr.\",\n",
              " 'Bonefish Grill',\n",
              " \"Domino's Australia\",\n",
              " 'Christian Le Squer',\n",
              " 'Olive Garden',\n",
              " 'Taco Bell Careers',\n",
              " 'Christophe Bacquie',\n",
              " \"Hardee's Pakistan\",\n",
              " 'Chef Grace Ramirez',\n",
              " 'Yard House',\n",
              " 'Burger King México',\n",
              " 'タコベル ジャパン\\u3000Taco Bell Japan',\n",
              " 'JW Café - JW Marriott Hotel Hanoi',\n",
              " 'Cocina familiar con Javier Romero',\n",
              " 'ad hoc & addendum',\n",
              " 'Melissa King',\n",
              " \"Charley's Crab_2\",\n",
              " \"McDonald's_58\",\n",
              " 'Magnum_7',\n",
              " 'Gaston Acurio',\n",
              " 'Carlos Bertolazzi',\n",
              " 'On The Border',\n",
              " 'David Chang',\n",
              " 'T-rex Cafe',\n",
              " 'Chef Natale Giunta',\n",
              " 'Chef Kiran Jethwa',\n",
              " 'The French Laundry',\n",
              " \"McDonald's_59\",\n",
              " \"Nicko's Kitchen\",\n",
              " 'KFC_27',\n",
              " 'Chef Damaris Phillips',\n",
              " 'Jumia Food_10',\n",
              " 'Luke Thomas',\n",
              " 'Clodagh McKenna',\n",
              " 'Chef Michelle Bernstein',\n",
              " 'SORTEDfood']"
            ]
          },
          "metadata": {
            "tags": []
          },
          "execution_count": 488
        }
      ]
    },
    {
      "cell_type": "code",
      "metadata": {
        "id": "UMZPXM7NK_7V",
        "outputId": "e220546f-fb38-4f82-f25f-968a69f22987",
        "colab": {
          "base_uri": "https://localhost:8080/"
        }
      },
      "source": [
        "# Find the name of the column by index\r\n",
        "n = nodes.columns[0]\r\n",
        "\r\n",
        "# Drop that column\r\n",
        "nodes.drop(n, axis = 1, inplace = True)\r\n",
        "\r\n",
        "# Put whatever series you want in its place\r\n",
        "nodes[n] = names\r\n",
        "\r\n",
        "list(nodes.name)[0:20]"
      ],
      "execution_count": 532,
      "outputs": [
        {
          "output_type": "execute_result",
          "data": {
            "text/plain": [
              "['Josh Marks',\n",
              " 'Blue Ribbon Restaurants',\n",
              " 'Pat Neely',\n",
              " 'La Griglia',\n",
              " 'Jose Garces',\n",
              " 'Zac Kara',\n",
              " 'Big Fish Seafood Bistro_1',\n",
              " 'Tom Aikens',\n",
              " 'The Habit Burger Grill',\n",
              " 'Chef Sheldon Simeon',\n",
              " 'Ochikeron',\n",
              " 'Taco Bell Cyprus',\n",
              " 'Christophe Michalak',\n",
              " \"Peohe's\",\n",
              " 'Destino Ibiza',\n",
              " 'KFC_1',\n",
              " 'Chef Shirley Chung',\n",
              " 'Doug Adams',\n",
              " 'משה שגב / Moshe Segev',\n",
              " 'Angel Leon Gonzalez']"
            ]
          },
          "metadata": {
            "tags": []
          },
          "execution_count": 532
        }
      ]
    },
    {
      "cell_type": "code",
      "metadata": {
        "id": "V433kxvejlcg"
      },
      "source": [
        "# Nodes as dictionary\n",
        "nodes_dict = {}\n",
        "for (n, id) in zip(nodes[\"name\"],nodes[\"id\"]):\n",
        " # print(n, \"+\", id)\n",
        "  nodes_dict[id] = n"
      ],
      "execution_count": 530,
      "outputs": []
    },
    {
      "cell_type": "code",
      "metadata": {
        "id": "dMT4PI9vHk_L",
        "outputId": "9893f267-f26a-45cb-be01-83acefcb9ba8",
        "colab": {
          "base_uri": "https://localhost:8080/"
        }
      },
      "source": [
        "nodes_dict.values()"
      ],
      "execution_count": 491,
      "outputs": [
        {
          "output_type": "execute_result",
          "data": {
            "text/plain": [
              "dict_values(['Josh Marks', 'Blue Ribbon Restaurants', 'Pat Neely', 'La Griglia', 'Jose Garces', 'Zac Kara', 'Big Fish Seafood Bistro_1', 'Tom Aikens', 'The Habit Burger Grill', 'Chef Sheldon Simeon', 'Ochikeron', 'Taco Bell Cyprus', 'Christophe Michalak', \"Peohe's\", 'Destino Ibiza', 'KFC_1', 'Chef Shirley Chung', 'Doug Adams', 'משה שגב / Moshe Segev', 'Angel Leon Gonzalez', 'Ben Ebbrell - Sorted Chef', \"Dick's Drive In Restaurant\", 'John Whaite', 'Andy Luotto', 'Antonino Cannavacciuolo', \"Charley's Crab_1\", 'Anne-Sophie Pic', 'Hilah Cooking', 'Taco Bell Costa Rica', 'Chef Robert Irvine', 'Nutella Cafe Chicago', 'Grand Concourse', \"Domino's Pizza_1\", 'Chef Lorena Garcia', 'James Martin', \"Domino's Pizza_2\", \"Nando's_1\", 'Roy Yamaguchi', 'Susan Feniger', \"McDonald's_1\", 'Al Brown New Zealand Chef', 'Veggie Grill', \"Domino's Pizza_3\", \"McDonald's_2\", 'Franklin Becker', \"McDonald's_3\", 'Éric Frechon', 'KFC_2', 'The Edgy Veg', \"Domino's Pizza_4\", 'Zoёs Kitchen', 'Chef Mark Garcia', \"Dunkin' Donuts_1\", \"McDonald's_4\", \"Chef Claudia's Cocina\", \"McDonald's_5\", 'Alex Guarnaschelli', 'Hari Ghotra', \"Nando's_2\", 'Vicky Ratnani', 'Boston Market', \"Bobby's Burger Palace\", 'Chef Guy Martin', 'Pablo Massey', \"McDonald's_6\", 'Burger King Thailand', \"Dunkin' Donuts_2\", \"McDonald's Deutschland Karriere\", \"McDonald's_7\", 'Michael White', \"Lillie's Asian Cuisine\", 'Aquarium Restaurant - Nashville', 'Manu Feildel', \"맥도날드 (McDonald's)\", 'Camille Becerra', 'KFC_3', 'Whataburger', 'Jumia Food_1', 'Big Fernand', 'Karlos Arguiñano', 'Karen Martini', 'Ogro Jimmy', \"Chili's Tunisie\", 'Magnum_1', \"Carrabba's Italian Grill\", \"Domino's Pizza_5\", 'Susur Lee', 'Cook with Chef Duminda', 'KFC_4', 'Roblé', 'KFC_5', 'Brooke Williamson', 'René Redzepi', 'Cadillac Bar Kemah', 'Fast Ed', 'Cesare Casella', \"Nando's_3\", 'Gandy Dancer Saloon/Oyster Bar', \"Hardee's\", 'Peter Kuruvita', 'Chef Francois Payard', 'PROPERCORN', 'Marc Veyrat', 'Chope_1', 'Simon Bryant', 'Massimo Mele', 'Chef Sam Talbot', 'José Andrés', 'Opry City Stage', 'Cucina by Wolfgang Puck', 'Iginio Massari', \"Domino's Pizza_6\", 'Thomas Keller', 'Emma Frisch', \"Dunkin' Donuts_3\", \"McDonald's_8\", 'El Torito', 'Chef Marc Murphy', 'Dina Nikolaou', 'KFC_6', 'Acapulco', 'Delverde_1', 'Taco Bell Panamá', 'Pollo Campero El Salvador', 'KFC_7', 'Michael Lomonaco', \"Domino's Pizza Türkiye\", 'The Tuscan Gun', 'Burger Lounge', 'Pasqualino Barbasso', \"McDonald's_9\", \"McDonald's_10\", 'Jumia Food_2', \"Dunkin' Donuts_4\", 'Alfred Portale', 'Magnum_2', 'Jumia Food_3', 'Jumia Food_4', 'Alberto Chicote', 'Lee Anne Wong', \"Nando's PERi-PERi\", \"Nando's_4\", 'Paul Qui', \"McDonald's_11\", 'Subway, Cayman Islands', 'Chef Aaron McCargo Jr', 'Chef Carla Hall', 'Gary Mehigan', 'Leslie Gilliams', 'Cook with Amber', 'Sang Yoon', 'KFC_8', \"McDonald's República Dominicana\", \"McDonald's_12\", 'Chef Richard Sandoval', 'Jumia Food_5', 'Christian Bau', 'Jumia Food_6', \"McDonald's_13\", \"McDonald's_14\", 'Aliya LeeKong', 'Taco Bell Kuwait', \"McDonald's_15\", 'Chef Ben Ford', 'Taste of London', \"Cristian D'Elia\", 'Guillaume Gomez', 'Christine Ha', 'Chef Daniel Boulud', 'Per Se', 'Niko Romito', 'Marc Forgione', 'Noëmie Honiat Top Chef', 'Princi', \"Domino's Pizza_7\", \"Papacho's\", 'Hugh Acheson', \"McDonald's_16\", \"Dunkin' Donuts_5\", \"Domino's Pizza_8\", \"McDonald's_17\", 'Jumia Food_7', 'Alex Atala', 'RIBS - True American Barbecue', 'Burger King Malaysia', 'Chef Sue Zemanick', 'Chef Carlo Cracco', \"McDonald's_18\", \"Chili's Beirut\", 'Duff Goldman', \"Domino's Guatemala\", 'Dani García', \"Nando's_5\", 'Taco Bell India', 'Brew Bistro and Lounge', 'Maneet Chauhan', 'Mei Lin', 'Chetna Makan', 'Simon Gault', 'Tom Colicchio', 'Chef David Burke', 'Chef Cynthia Louise', \"Eddie V's Prime Seafood\", 'Daniel Humm', 'Delverde_2', \"Nando's_6\", 'Scott Conant', 'Chef Jamie DeRosa', 'Emmi CAFFÈ LATTE_1', 'Cindy Pawlcyn', \"McDonald's_19\", 'KFC_9', 'Pierre Gagnaire', 'Outback Steakhouse', 'Chef Hirohiko Shoda', 'Chef Andrew Gruel', 'Donatella Arpaia', 'foodpanda_1', 'Dean Fearing', 'Chef Charlie Palmer', 'KFC_10', 'Emmi CAFFÈ LATTE_2', \"McDonald's_20\", 'Julia Child', 'Geoffrey Zakarian', 'YANNICK ALLENO OFFICIEL', 'Narda Lepes', 'Quique Dacosta', \"McDonald's_21\", 'Tom Douglas Restaurants', \"Nando's_7\", 'Johnny Prep', 'Mathieu Pacaud', 'Mirko Ronzoni', 'Anjali Pathak', 'Second Floor Cafe 貳樓餐飲', 'Chef G. Garvin', 'KFC_11', 'Chef Maeve Rochford', \"Manjula's Kitchen - Indian Vegetarian Recipes\", 'Enrique Olvera', 'Valentin Neraudeau', 'Taco Bell UK', 'Chevys Fresh Mex', 'Nyesha Arrington', 'Luna Grill', 'Chef Nina Compton', \"McDonald's_22\", 'Big Fish Seafood Bistro_2', \"Dunkin' Donuts_6\", \"Domino's Pizza_9\", 'Chef Rubio', 'Stephanie Izard', 'KFC_12', 'Kevin Dundon', 'KFC_13', 'Eduardo Palazuelos', \"Domino's Pizza_10\", 'Harlem EatUp', 'Gavin Kaysen', 'Taco Bell Rep Dom', 'Francesco Sole', \"McDonald's_23\", 'Raymond Blanc', 'Michel Nischan', 'Cuoco Filippo La Mantia', 'Colin Fassnidge', 'Chuck Hughes', 'Amy Thielen', 'Thierry Rautureau', 'Jean-François Piège     -      Page Officielle', 'Chef Diego Lozano', 'Jacques Pépin', 'Donato De Santis', 'Juliana Lopez May', \"McDonald's_24\", 'Robin Miller', 'Cadillac Bar Houston', 'Chef Derrick Fox', \"Nando's_8\", \"McDonald's_25\", \"Domino's Mx\", 'Dan Kluger', 'Chef Ana Paula', \"Dunkin' Donuts_7\", 'Taco Bell', 'Bryce Shuman', 'Eva Arguiñano', 'Gandy Dancer', \"McDonald's_26\", 'Alex French Guy Cooking', 'Magnum_3', 'Marcus Samuelsson', \"Tom's Kitchen\", \"McDonald's_27\", 'foodpanda_2', 'Dairy Queen', 'Roxanne Spruance', 'hellofood', \"McDonald's_28\", 'Hearth', 'Elizabeth Karmel', 'Eddie Jackson - FIT CHEF EDDIE', 'KFC_14', 'KFC_15', 'Subway', 'Douglas Keane', 'Emmi CAFFÈ LATTE_3', \"McDonald's_29\", 'Martín Berasategui', 'Shane Delia', \"Chili's México\", 'Katie Pix', 'Danny Smiles', 'Ranveer Brar', 'Diego Guerrero', \"McDonald's_30\", '翠華餐廳 Tsui Wah Restaurant', 'Five Guys_1', \"Domino's Pizza_11\", 'Samin Nosrat', \"McDonald's_31\", \"Morton's The Steakhouse\", 'River Crab Blue Water Inn', 'George Pagonis', 'Steve Konopelski', 'Bruno Oteiza', 'Nikki Dinki', 'Virginia Willis', \"Nando's_9\", \"McDonald's_32\", \"McDonald's_33\", 'Chef Alex Levin', \"McDonald's_34\", 'Aarón Sánchez', 'Dan Steph & Emmy', \"Dunkin' Donuts_8\", 'Chef Elizabeth Falkner', 'Ernst Knam', 'Guy Savoy', \"McDonald's Japan\", \"Nando's_10\", \"McDonald's_35\", 'Chef Clément', 'Christina Tosi', 'Paul Hollywood', \"Xi'an Famous Foods 西安名吃\", 'Emmi CAFFÈ LATTE_4', 'Lío', 'Guga Rocha', 'Jock Zonfrillo', 'foodpanda - 空腹熊貓', 'Chef Carmen Gonzalez', 'Suzanne Goin', \"McDonald's_36\", 'Food Busker', 'Crepes & Waffles', \"McDonald's_37\", 'Jumia Food_8', 'Matthew Kenney', 'Ken Oringer', 'Gemma Stafford', 'KFC_16', 'Buddy Valastro', 'Bahama Breeze Island Grille', \"Domino's Pizza_12\", 'Marcel Vigneron', 'Krispy Kreme UK', 'Kunal Kapur', 'Gregory Gourdet', 'Ben Sargent & Dr. Klaw', \"Domino's Pizza_13\", 'Martha Collison', 'Francis Mallmann', 'Cat Cora', 'Mary Nolan, Bon Appétit Executive Chef', 'Bobby Flay', 'Taste Of Paris Official', \"McDonald's_38\", 'RED Sushi and Hibachi Grill', \"Chili's Qatar\", 'Bubba Gump Shrimp Co.', 'Seamus Mullen', 'Blue Ribbon Fried Chicken', \"McDonald's_39\", \"Famous Dave's Bar-B-Que of America\", '達美樂披薩', 'Chef Jamie Gwen', 'Chef Marcela Valladolid', \"McDonald's_40\", 'Chef Rick Tramonto', 'Chef Todd Mohr', 'Franklin Barbecue', 'Spago Las Vegas', 'Ludo Lefebvre', 'Donal Skehan', 'Anis Nabilah', 'Magnum_4', 'KFC_17', 'Bradley Ogden', 'Chef Michael Ferraro', 'Jumia Food_9', 'Tim Love', \"Domino's Pizza_14\", 'Audra Morrice', 'Chef Kent Graham', 'Santiago Giorgini', 'CAKE-BOY', \"Carl's Jr. NZ\", 'Rachel Allen', 'Pierre Sang Boyer Officiel', \"McDonald's_41\", \"McDonald's_42\", 'Lindsay Ann Bakes', 'Anne Burrell', 'Chope_2', \"Steak 'n Shake\", 'Chef Michael Smith', \"McDonald's_43\", 'Maru Botana', 'Red Lobster México', 'KFC_18', 'FONDA MEXICANA', 'Chef Jennifer Carroll', \"Jimmy John's\", 'Vegan Black Metal Chef', 'Celler de Can Roca', 'Juan Mari Arzak (Página oficial)', 'Dining with Flynn', \"McDonald's_44\", 'KFC_19', 'Chef Adrianne', 'KFC_20', 'Chef Rick Moonen', 'foodpanda_3', \"Dunkin' Donuts_9\", 'foodpanda_4', \"Nando's_11\", 'Chef Dana Cohen HK', \"McDonald's_45\", 'Taco Bell El Salvador', 'foodpanda_5', 'Madison Cowan', 'Puesto', 'Justin Warner', 'Eckart Witzigmann', 'My Cupcake Addiction', 'Matt Moran', 'Frantzén', 'KFC_21', 'Telepizza Guatemala', 'Jehangir', 'Johnny Iuzzini', 'Pedro Lambertini', \"McDonald's_46\", 'Dale Talde', 'Amandine Chaignot', 'Graham Elliot', \"McDonald's_47\", 'Skinny Chef', 'Chef Rusty Hamlin', \"Domino's Pizza_15\", 'Chef Mary Sue Milliken', 'Delverde_3', 'Alessandro Borghese', 'Chef Jet Tila', 'Grotto', \"Domino's Pizza_16\", \"McDonald's_48\", 'Seasons 52', 'Norbert Tarayre', 'Chef Jimmy Boswell', \"McDonald's Paraguay\", 'Relais & Châteaux_1', 'Four Seasons Hotels and Resorts', 'Sanjeev Kapoor', 'Chef Billy Parisi', 'Ravintola Salve', 'Claire Robinson', 'Paul Bocuse', 'UMass Dining', \"Domino's Pizza Nigeria\", 'Chef Brian Duffy', 'Barbie Marshall', \"McDonald's Vietnam\", 'Kirti Bhoutika', \"McDonald's_49\", 'DedeMed', 'Spike Mendelsohn', 'Outlander Kitchen', 'Wolfgang Puck', 'Russell Jackson', \"D'O - Davide Oldani\", 'KFC_22', 'Chef Casey Thompson', '도미노피자(Dominostory)', \"McDonald's_50\", \"Dunkin' Donuts_10\", 'Bruno Ménard', 'Dean Sheremet', 'Emily Ellyn', 'Hakim Chajar', \"'Wichcraft\", \"Gino D'Acampo\", 'Noma', 'Alain Ducasse', 'Texas Roadhouse', 'Logan Junior Chef', \"Domino's Pizza_17\", 'MASAの料理ABC', \"Chili's Grill & Bar\", \"McDonald's_51\", 'Emmi CAFFÈ LATTE_5', \"Nando's_12\", 'Josh Elkin', 'KFC_23', \"McDonald's_52\", 'Bruno Barbieri', 'NishaMadhulika', 'Christophe Adam', 'KFC_24', 'Chart House', \"McDonald's_53\", 'Chef Ben Churchill', 'Sonia Peronaci', 'Crystal Jade Palace - JW Marriott Hotel Hanoi', \"Meriwether's\", 'Harold Dieterle', \"Domino's Pizza_18\", 'José Santaella', \"McDonald's_54\", 'Monti Carlo', \"Domino's Pizza_19\", 'Taco Bell Guatemala', 'Maria Loi', 'Red Robin Gourmet Burgers', 'Pescaria', \"Nando's_13\", 'Eric Ripert', 'Chef Pete Evans', 'KFC_25', 'Saransh Goila', 'Crystal Jade Singapore', 'Ricardo Cuisine', 'Roy Choi', 'Burger King Nederland', 'Fabio Viviani', 'Felicitas Pizarro', 'João Alcantara', 'foodpanda_6', 'Magnum_5', 'foodpanda_7', \"Dunkin' Coffee\", 'Chick-fil-A', \"Nando's_14\", \"Domino's Pizza_20\", 'foodpanda / hellofood', 'foodpanda_8', 'Olive Garden México', 'Hubert Keller', 'Five Guys_2', 'Levi Eirinberg', 'Joanna 劉韋彤', 'Hard Rock Cafe Ibiza', 'Pollo Campero Guatemala', '麥當勞', 'Delverde_4', 'Kristen Kish', 'Angelo Sosa', 'KFC_26', \"McDonald's_55\", 'Relais & Châteaux_2', 'ChefAlexander', 'Wings', 'Ignacio Mattos', 'John DeLucie', \"McDonald's_56\", 'Los Petersen Cocineros', \"Nando's_15\", 'Germán Martitegui', 'Sam Choy', 'Magnum_6', \"McDonald's_57\", \"Roy's Restaurant\", \"Carl's Jr.\", 'Bonefish Grill', \"Domino's Australia\", 'Christian Le Squer', 'Olive Garden', 'Taco Bell Careers', 'Christophe Bacquie', \"Hardee's Pakistan\", 'Chef Grace Ramirez', 'Yard House', 'Burger King México', 'タコベル ジャパン\\u3000Taco Bell Japan', 'JW Café - JW Marriott Hotel Hanoi', 'Cocina familiar con Javier Romero', 'ad hoc & addendum', 'Melissa King', \"Charley's Crab_2\", \"McDonald's_58\", 'Magnum_7', 'Gaston Acurio', 'Carlos Bertolazzi', 'On The Border', 'David Chang', 'T-rex Cafe', 'Chef Natale Giunta', 'Chef Kiran Jethwa', 'The French Laundry', \"McDonald's_59\", \"Nicko's Kitchen\", 'KFC_27', 'Chef Damaris Phillips', 'Jumia Food_10', 'Luke Thomas', 'Clodagh McKenna', 'Chef Michelle Bernstein', 'SORTEDfood'])"
            ]
          },
          "metadata": {
            "tags": []
          },
          "execution_count": 491
        }
      ]
    },
    {
      "cell_type": "markdown",
      "metadata": {
        "id": "Hukazbol5IQq"
      },
      "source": [
        "\\\r\n",
        "\r\n",
        "\r\n",
        "\r\n"
      ]
    },
    {
      "cell_type": "markdown",
      "metadata": {
        "id": "KvT9Qpmg4nvI"
      },
      "source": [
        "## Network Building\r\n",
        "\r\n"
      ]
    },
    {
      "cell_type": "code",
      "metadata": {
        "id": "Zn5pk5DSlpTX"
      },
      "source": [
        "import networkx as nx\n",
        "from statsmodels.distributions.empirical_distribution import ECDF\n",
        "import numpy as np\n",
        "import matplotlib.pyplot as plt"
      ],
      "execution_count": 492,
      "outputs": []
    },
    {
      "cell_type": "code",
      "metadata": {
        "id": "k9RHnVXFme7a"
      },
      "source": [
        "G = nx.Graph()\n",
        "\n",
        "for e in edges.values.tolist():\n",
        "  G.add_edge(e[0],e[1])"
      ],
      "execution_count": 493,
      "outputs": []
    },
    {
      "cell_type": "code",
      "metadata": {
        "id": "0Nzgzmp-kN_d"
      },
      "source": [
        "H = nx.relabel_nodes(G, nodes_dict)\n",
        "len(sorted(H))\n",
        "\n",
        "G = H"
      ],
      "execution_count": 494,
      "outputs": []
    },
    {
      "cell_type": "code",
      "metadata": {
        "colab": {
          "base_uri": "https://localhost:8080/"
        },
        "id": "_75ZAAB6nDDX",
        "outputId": "45dcaa66-7b2b-4f8d-8b53-feb1bd5a1c6b"
      },
      "source": [
        "print('Number of nodes: {} - Number of links:{}'.format(G.order(),G.size()))\n"
      ],
      "execution_count": 495,
      "outputs": [
        {
          "output_type": "stream",
          "text": [
            "Number of nodes: 620 - Number of links:2102\n"
          ],
          "name": "stdout"
        }
      ]
    },
    {
      "cell_type": "markdown",
      "metadata": {
        "id": "gUSnmQuY5ROb"
      },
      "source": [
        "\\"
      ]
    },
    {
      "cell_type": "markdown",
      "metadata": {
        "id": "AYiLXy-R4wKP"
      },
      "source": [
        "# Degree Analysis"
      ]
    },
    {
      "cell_type": "code",
      "metadata": {
        "id": "XkY4Lqom-jIe",
        "colab": {
          "base_uri": "https://localhost:8080/"
        },
        "outputId": "79f29b22-e2a7-4074-8869-58a0a3026e76"
      },
      "source": [
        "G.nodes()"
      ],
      "execution_count": 496,
      "outputs": [
        {
          "output_type": "execute_result",
          "data": {
            "text/plain": [
              "NodeView(('Lee Anne Wong', 'KFC_3', 'Chef Jamie Gwen', 'Madison Cowan', 'Elizabeth Karmel', 'KFC_22', 'KFC_8', 'Pat Neely', 'Logan Junior Chef', 'Robin Miller', 'Ben Sargent & Dr. Klaw', 'Bobby Flay', 'Chuck Hughes', 'Chef Carlo Cracco', 'Pasqualino Barbasso', 'Alessandro Borghese', 'Chef Hirohiko Shoda', 'Alain Ducasse', 'Christian Bau', 'Andy Luotto', \"Cristian D'Elia\", 'Cuoco Filippo La Mantia', 'Mirko Ronzoni', 'Jock Zonfrillo', 'Chef Maeve Rochford', 'Wolfgang Puck', 'Scott Conant', 'Anne Burrell', 'Steve Konopelski', 'George Pagonis', 'Magnum_4', 'Mei Lin', 'Magnum_7', 'Magnum_1', 'Magnum_6', 'Jumia Food_7', 'Jumia Food_2', 'Jumia Food_10', 'Jumia Food_6', 'Jumia Food_8', \"McDonald's_6\", 'Roy Yamaguchi', 'Chef Sheldon Simeon', 'Outback Steakhouse', \"Carrabba's Italian Grill\", 'Chef Robert Irvine', \"Roy's Restaurant\", 'Bonefish Grill', \"Chili's Grill & Bar\", 'On The Border', 'Chef Mark Garcia', \"Chili's México\", 'foodpanda_5', \"Chili's Qatar\", 'José Andrés', 'Jacques Pépin', 'Tom Colicchio', 'Blue Ribbon Fried Chicken', 'Michel Nischan', \"Dunkin' Donuts_9\", 'Chef Richard Sandoval', 'Bryce Shuman', 'Dining with Flynn', 'Virginia Willis', 'Chef Kent Graham', 'Christina Tosi', 'Eric Ripert', 'Tom Aikens', 'Chef Jet Tila', 'Alex Guarnaschelli', 'Kristen Kish', 'Jose Garces', 'Daniel Humm', 'Dean Fearing', 'Doug Adams', 'David Chang', 'Ken Oringer', 'Dani García', 'Big Fernand', 'foodpanda_8', 'Christophe Michalak', 'Taco Bell Panamá', 'Taco Bell Costa Rica', 'Taco Bell Cyprus', 'Taco Bell', 'Taco Bell Rep Dom', 'Taco Bell Guatemala', 'Taco Bell El Salvador', \"Dunkin' Donuts_10\", \"Dunkin' Donuts_5\", 'Subway', \"Dunkin' Coffee\", 'Eckart Witzigmann', 'Boston Market', 'Dairy Queen', 'Chef Daniel Boulud', 'Zac Kara', 'René Redzepi', 'Roy Choi', 'Graham Elliot', \"Domino's Pizza_14\", \"Domino's Pizza_17\", \"Domino's Pizza_13\", \"Domino's Pizza_12\", \"Domino's Pizza_15\", \"Domino's Pizza_1\", \"Domino's Pizza_7\", 'JW Café - JW Marriott Hotel Hanoi', \"Domino's Pizza_19\", \"Domino's Pizza_18\", \"Domino's Pizza_9\", 'KFC_17', \"Domino's Pizza_11\", 'Ernst Knam', 'NishaMadhulika', 'Paul Hollywood', 'Chetna Makan', 'Kevin Dundon', 'Donal Skehan', 'James Martin', 'Maria Loi', 'Cesare Casella', 'Michael White', 'Dina Nikolaou', 'Seamus Mullen', 'Alfred Portale', 'Franklin Becker', \"Domino's Pizza_5\", \"Domino's Pizza_16\", \"Domino's Pizza_4\", 'Delverde_4', 'Delverde_1', 'Delverde_2', 'Juliana Lopez May', 'Delverde_3', 'Hugh Acheson', 'Marc Forgione', 'Chef Rick Tramonto', 'Chef Michelle Bernstein', 'Hubert Keller', 'Chef Casey Thompson', \"Nando's_14\", \"Nando's_9\", \"Nando's_1\", \"Nando's_6\", \"Nando's_12\", \"Nando's_13\", \"Nando's_2\", 'KFC_2', 'Jean-François Piège     -      Page Officielle', 'foodpanda_2', \"McDonald's Vietnam\", \"McDonald's_10\", \"Nando's_8\", \"Nando's_11\", \"Nando's_3\", 'Bahama Breeze Island Grille', 'Yard House', \"Nando's PERi-PERi\", \"Nando's_15\", \"McDonald's_51\", 'Shane Delia', \"McDonald's_53\", \"McDonald's_30\", \"McDonald's_45\", \"McDonald's_33\", \"McDonald's República Dominicana\", 'Gary Mehigan', \"McDonald's Japan\", 'Matt Moran', \"McDonald's_2\", \"McDonald's_16\", 'Magnum_3', \"McDonald's_12\", \"McDonald's_18\", \"McDonald's_39\", \"McDonald's_23\", 'Chef Pete Evans', 'Raymond Blanc', \"McDonald's_29\", \"McDonald's_15\", \"McDonald's_25\", 'Massimo Mele', \"McDonald's_32\", 'Sanjeev Kapoor', 'Saransh Goila', 'Colin Fassnidge', 'Leslie Gilliams', 'Kunal Kapur', \"McDonald's Deutschland Karriere\", \"McDonald's_38\", \"McDonald's_37\", \"McDonald's_1\", \"McDonald's_8\", \"McDonald's_28\", \"McDonald's_36\", \"McDonald's_40\", \"McDonald's_52\", \"McDonald's_56\", \"McDonald's_7\", \"McDonald's_46\", \"McDonald's_14\", \"McDonald's_5\", \"McDonald's_21\", \"McDonald's_11\", 'Paul Bocuse', 'YANNICK ALLENO OFFICIEL', 'Guillaume Gomez', 'Bruno Ménard', 'Chef Rick Moonen', 'Thierry Rautureau', 'Chef Guy Martin', 'Christian Le Squer', 'Anne-Sophie Pic', 'Bradley Ogden', 'Christophe Bacquie', 'Vegan Black Metal Chef', 'Valentin Neraudeau', 'Geoffrey Zakarian', 'Chef Shirley Chung', 'Melissa King', 'Chef Nina Compton', 'Chef Sue Zemanick', 'Chef Michael Ferraro', 'Emily Ellyn', 'Aarón Sánchez', 'Dean Sheremet', 'Chef Marc Murphy', 'Donatella Arpaia', 'Chef Aaron McCargo Jr', 'Chef Elizabeth Falkner', 'Chef Brian Duffy', 'Ravintola Salve', 'RED Sushi and Hibachi Grill', 'Russell Jackson', \"McDonald's_48\", 'Chef Grace Ramirez', 'Iginio Massari', 'Niko Romito', 'Bruno Barbieri', 'Antonino Cannavacciuolo', 'Al Brown New Zealand Chef', 'My Cupcake Addiction', 'Manu Feildel', 'Audra Morrice', 'Eddie Jackson - FIT CHEF EDDIE', 'Simon Gault', 'Karen Martini', 'KFC_7', 'KFC_10', 'Narda Lepes', 'Amy Thielen', 'Monti Carlo', \"D'O - Davide Oldani\", 'Chef Mary Sue Milliken', 'Gregory Gourdet', 'Kirti Bhoutika', 'Cadillac Bar Houston', 'Aquarium Restaurant - Nashville', 'Bubba Gump Shrimp Co.', 'Cadillac Bar Kemah', 'T-rex Cafe', 'Per Se', 'Princi', 'ad hoc & addendum', 'The French Laundry', 'Katie Pix', 'Hard Rock Cafe Ibiza', \"Steak 'n Shake\", 'Destino Ibiza', 'Seasons 52', 'Olive Garden', \"Eddie V's Prime Seafood\", \"Dick's Drive In Restaurant\", 'Chef Billy Parisi', 'Chef Sam Talbot', 'Ochikeron', 'Chick-fil-A', 'משה שגב / Moshe Segev', \"Jimmy John's\", 'KFC_24', 'KFC_16', 'KFC_27', 'Chef Cynthia Louise', 'Matthew Kenney', 'Chef Charlie Palmer', 'River Crab Blue Water Inn', 'Gandy Dancer', 'Big Fish Seafood Bistro_1', 'Grand Concourse', 'Big Fish Seafood Bistro_2', \"Charley's Crab_2\", 'Gandy Dancer Saloon/Oyster Bar', \"Meriwether's\", 'Chart House', 'Dan Kluger', 'Chef David Burke', 'Chef Derrick Fox', 'Hearth', 'Tim Love', 'Marcus Samuelsson', 'Julia Child', 'Levi Eirinberg', 'Cat Cora', 'Chef Carla Hall', 'John DeLucie', 'Samin Nosrat', 'Guy Savoy', 'Taco Bell Careers', 'Chef Lorena Garcia', 'The Habit Burger Grill', 'Chef G. Garvin', 'Douglas Keane', 'Éric Frechon', 'Simon Bryant', \"McDonald's_57\", \"McDonald's_50\", 'Diego Guerrero', 'Emmi CAFFÈ LATTE_1', 'Emmi CAFFÈ LATTE_4', 'Ludo Lefebvre', 'Chef Ben Churchill', 'Enrique Olvera', 'John Whaite', 'Marcel Vigneron', 'Johnny Iuzzini', 'Camille Becerra', 'Alex Atala', 'Noma', 'Spike Mendelsohn', 'Germán Martitegui', 'Magnum_2', 'Celler de Can Roca', 'Juan Mari Arzak (Página oficial)', 'Gavin Kaysen', 'Relais & Châteaux_2', 'Chef Francois Payard', 'Blue Ribbon Restaurants', 'Sang Yoon', 'Olive Garden México', 'Brooke Williamson', 'Taco Bell Kuwait', 'タコベル ジャパン\\u3000Taco Bell Japan', 'Taco Bell UK', 'Taco Bell India', 'Puesto', 'Burger Lounge', '麥當勞', \"McDonald's_13\", 'Anjali Pathak', 'Hari Ghotra', 'Maru Botana', 'Pablo Massey', 'Donato De Santis', 'Hilah Cooking', \"Nicko's Kitchen\", 'The Edgy Veg', 'Nikki Dinki', \"Domino's Mx\", \"McDonald's_55\", 'Chef Marcela Valladolid', 'Susan Feniger', 'Josh Elkin', 'Martín Berasategui', 'Karlos Arguiñano', 'Quique Dacosta', 'Fabio Viviani', 'Chef Jennifer Carroll', 'Roxanne Spruance', 'Harlem EatUp', 'Crepes & Waffles', 'Joanna 劉韋彤', 'MASAの料理ABC', 'Guga Rocha', 'Carlos Bertolazzi', 'Ogro Jimmy', 'João Alcantara', 'Chef Diego Lozano', 'Burger King Nederland', 'Burger King México', 'Burger King Malaysia', 'Luna Grill', 'Zoёs Kitchen', 'Chef Kiran Jethwa', 'foodpanda_3', 'foodpanda_6', 'foodpanda_4', 'foodpanda - 空腹熊貓', 'foodpanda_7', 'foodpanda_1', \"Hardee's Pakistan\", \"Nando's_5\", \"McDonald's_44\", '達美樂披薩', '도미노피자(Dominostory)', \"Domino's Australia\", \"Domino's Pizza_10\", 'Santiago Giorgini', 'Felicitas Pizarro', \"McDonald's_4\", \"McDonald's Paraguay\", \"McDonald's_34\", \"Dunkin' Donuts_4\", \"Dunkin' Donuts_3\", 'Burger King Thailand', 'Susur Lee', 'Justin Warner', 'Chef Ana Paula', 'KFC_12', 'KFC_6', 'KFC_23', 'KFC_19', 'KFC_20', 'SORTEDfood', 'Krispy Kreme UK', 'Ben Ebbrell - Sorted Chef', 'Food Busker', 'Michael Lomonaco', 'Jumia Food_4', 'Jumia Food_3', 'Jumia Food_1', 'Jumia Food_9', 'Buddy Valastro', 'Peter Kuruvita', 'Chef Jimmy Boswell', \"McDonald's_22\", \"McDonald's_43\", 'KFC_26', 'KFC_15', 'Opry City Stage', 'KFC_13', 'Gaston Acurio', \"Papacho's\", 'ChefAlexander', 'Spago Las Vegas', 'Stephanie Izard', 'Lindsay Ann Bakes', 'Gemma Stafford', 'Cook with Amber', 'Alex French Guy Cooking', 'Christine Ha', 'Josh Marks', 'Cindy Pawlcyn', 'DedeMed', 'José Santaella', 'Chef Carmen Gonzalez', 'Dale Talde', 'Clodagh McKenna', 'Emmi CAFFÈ LATTE_2', 'KFC_4', 'Emmi CAFFÈ LATTE_5', 'Emmi CAFFÈ LATTE_3', 'Rachel Allen', \"Domino's Pizza_6\", \"Domino's Pizza Türkiye\", 'Los Petersen Cocineros', \"Nando's_10\", \"Nando's_7\", 'KFC_5', 'Taste Of Paris Official', 'Marc Veyrat', \"Domino's Pizza_2\", \"Domino's Pizza_20\", 'Whataburger', \"Morton's The Steakhouse\", 'Grotto', \"Charley's Crab_1\", 'Roblé', \"McDonald's_47\", 'Chef Jamie DeRosa', 'Jehangir', 'Cocina familiar con Javier Romero', 'Eduardo Palazuelos', 'Brew Bistro and Lounge', 'foodpanda / hellofood', 'Alberto Chicote', \"Manjula's Kitchen - Indian Vegetarian Recipes\", \"Xi'an Famous Foods 西安名吃\", 'Chef Natale Giunta', 'Chef Todd Mohr', 'Vicky Ratnani', 'Chef Clément', \"Chili's Beirut\", 'Telepizza Guatemala', 'hellofood', 'Jumia Food_5', 'Chef Rusty Hamlin', 'Red Lobster México', 'Wings', 'Christophe Adam', \"Bobby's Burger Palace\", 'Emma Frisch', 'Sonia Peronaci', 'Mary Nolan, Bon Appétit Executive Chef', '翠華餐廳 Tsui Wah Restaurant', \"McDonald's_35\", 'Nyesha Arrington', \"Carl's Jr. NZ\", \"Carl's Jr.\", 'Ignacio Mattos', 'KFC_1', 'KFC_18', \"Hardee's\", \"McDonald's_54\", \"McDonald's_41\", \"McDonald's_31\", 'Ranveer Brar', 'Hakim Chajar', 'Ricardo Cuisine', 'Acapulco', 'Chevys Fresh Mex', 'El Torito', 'Paul Qui', \"Lillie's Asian Cuisine\", \"Nando's_4\", \"Peohe's\", 'Pescaria', 'Second Floor Cafe 貳樓餐飲', 'Five Guys_1', \"Dunkin' Donuts_1\", 'KFC_25', 'La Griglia', 'Amandine Chaignot', 'Pierre Gagnaire', 'Noëmie Honiat Top Chef', 'Pierre Sang Boyer Officiel', 'Francis Mallmann', 'Pedro Lambertini', 'Chef Andrew Gruel', 'Cucina by Wolfgang Puck', 'Four Seasons Hotels and Resorts', 'Sam Choy', 'Suzanne Goin', 'Maneet Chauhan', 'Veggie Grill', 'Chef Ben Ford', 'Chef Damaris Phillips', 'Crystal Jade Palace - JW Marriott Hotel Hanoi', 'Crystal Jade Singapore', 'Franklin Barbecue', 'Subway, Cayman Islands', 'Fast Ed', 'The Tuscan Gun', 'Red Robin Gourmet Burgers', 'CAKE-BOY', \"맥도날드 (McDonald's)\", \"Domino's Pizza_3\", \"Domino's Guatemala\", 'Claire Robinson', 'Dan Steph & Emmy', 'Duff Goldman', \"Gino D'Acampo\", 'Harold Dieterle', 'Chef Michael Smith', 'Thomas Keller', \"Chef Claudia's Cocina\", 'Cook with Chef Duminda', \"Dunkin' Donuts_8\", 'Tom Douglas Restaurants', 'Aliya LeeKong', 'Francesco Sole', 'KFC_9', 'KFC_14', 'RIBS - True American Barbecue', 'Eva Arguiñano', 'Bruno Oteiza', 'Angelo Sosa', 'Chef Dana Cohen HK', \"Famous Dave's Bar-B-Que of America\", 'Taste of London', \"Tom's Kitchen\", 'Magnum_5', \"'Wichcraft\", \"McDonald's_19\", \"McDonald's_17\", \"McDonald's_42\", \"McDonald's_26\", 'Barbie Marshall', 'Chef Rubio', 'Outlander Kitchen', \"Chili's Tunisie\", 'UMass Dining', 'Pollo Campero Guatemala', \"Domino's Pizza_8\", 'KFC_11', 'Danny Smiles', \"Domino's Pizza Nigeria\", 'Mathieu Pacaud', 'Chef Alex Levin', 'FONDA MEXICANA', 'Luke Thomas', 'Chope_1', 'Relais & Châteaux_1', 'Chope_2', 'Anis Nabilah', 'Skinny Chef', 'Johnny Prep', 'Nutella Cafe Chicago', 'KFC_21', 'Martha Collison', \"McDonald's_59\", 'Five Guys_2', 'Chef Adrianne', 'Norbert Tarayre', 'Texas Roadhouse', 'Pollo Campero El Salvador', \"McDonald's_27\", \"McDonald's_49\", 'PROPERCORN', \"Dunkin' Donuts_2\", \"McDonald's_9\", 'Angel Leon Gonzalez', 'Lío', 'Frantzén', \"McDonald's_3\", \"McDonald's_24\", \"McDonald's_58\", \"McDonald's_20\", \"Dunkin' Donuts_6\", \"Dunkin' Donuts_7\"))"
            ]
          },
          "metadata": {
            "tags": []
          },
          "execution_count": 496
        }
      ]
    },
    {
      "cell_type": "code",
      "metadata": {
        "colab": {
          "base_uri": "https://localhost:8080/"
        },
        "id": "1fSQkejDn22I",
        "outputId": "25fcb026-44af-4463-b266-ade3e3a0e33f"
      },
      "source": [
        "density = nx.density(G)\n",
        "print('Density: {}'.format(density))"
      ],
      "execution_count": 497,
      "outputs": [
        {
          "output_type": "stream",
          "text": [
            "Density: 0.0109541925061233\n"
          ],
          "name": "stdout"
        }
      ]
    },
    {
      "cell_type": "code",
      "metadata": {
        "id": "M0mcsMoApMPw"
      },
      "source": [
        ""
      ],
      "execution_count": 497,
      "outputs": []
    },
    {
      "cell_type": "code",
      "metadata": {
        "id": "JIXsj69-pShl",
        "colab": {
          "base_uri": "https://localhost:8080/"
        },
        "outputId": "4c120563-a434-41fb-b3c2-b313a87c0d3e"
      },
      "source": [
        "degree = list(dict(G.degree()).values())\n",
        "degree[0:20]"
      ],
      "execution_count": 498,
      "outputs": [
        {
          "output_type": "execute_result",
          "data": {
            "text/plain": [
              "[6, 11, 15, 2, 27, 9, 17, 2, 134, 47, 3, 31, 11, 10, 7, 10, 7, 19, 7, 3]"
            ]
          },
          "metadata": {
            "tags": []
          },
          "execution_count": 498
        }
      ]
    },
    {
      "cell_type": "code",
      "metadata": {
        "colab": {
          "base_uri": "https://localhost:8080/"
        },
        "id": "zsvqwpCEpUEF",
        "outputId": "272f96f8-a377-4438-f453-e34257dba095"
      },
      "source": [
        "print('Standard deviation: {}'.format(np.std(degree)))\n",
        "print('Mean: {}'.format(np.mean(degree)))\n",
        "print('Median: {}'.format(np.median(degree)))\n",
        "print('Min: {}'.format(np.min(degree)))\n",
        "print('Max: {}'.format(np.max(degree)))\n",
        "\n",
        "\n",
        "print(\"Assortativity coefficient: \" + str(nx.degree_assortativity_coefficient(G)))"
      ],
      "execution_count": 499,
      "outputs": [
        {
          "output_type": "stream",
          "text": [
            "Standard deviation: 9.46914920573866\n",
            "Mean: 6.780645161290322\n",
            "Median: 4.0\n",
            "Min: 1\n",
            "Max: 134\n",
            "Assortativity coefficient: -0.028203795222469928\n"
          ],
          "name": "stdout"
        }
      ]
    },
    {
      "cell_type": "markdown",
      "metadata": {
        "id": "XntfvpBl51EN"
      },
      "source": [
        "\\"
      ]
    },
    {
      "cell_type": "markdown",
      "metadata": {
        "id": "ELEr1yqD5veE"
      },
      "source": [
        "### ECDF"
      ]
    },
    {
      "cell_type": "code",
      "metadata": {
        "colab": {
          "base_uri": "https://localhost:8080/",
          "height": 307
        },
        "id": "t6f32IbipWuq",
        "outputId": "c4c7bd1b-79be-4c38-db68-4bfe93aa5dbf"
      },
      "source": [
        "# ECDF linear scale\n",
        "cdf = ECDF(degree)\n",
        "x = np.unique(degree)\n",
        "y = cdf(x)\n",
        "fig_cdf = plt.figure(figsize=(8,4))\n",
        "axes = fig_cdf.gca()\n",
        "axes.plot(x,y,marker='o',ms=6, linestyle='None')\n",
        "axes.set_xlabel('Degree',size=20)\n",
        "axes.set_ylabel('ECDF Food', size = 20)"
      ],
      "execution_count": 500,
      "outputs": [
        {
          "output_type": "execute_result",
          "data": {
            "text/plain": [
              "Text(0, 0.5, 'ECDF Food')"
            ]
          },
          "metadata": {
            "tags": []
          },
          "execution_count": 500
        },
        {
          "output_type": "display_data",
          "data": {
            "image/png": "[encoded data removed]",
            "text/plain": [
              "<Figure size 576x288 with 1 Axes>"
            ]
          },
          "metadata": {
            "tags": [],
            "needs_background": "light"
          }
        }
      ]
    },
    {
      "cell_type": "code",
      "metadata": {
        "colab": {
          "base_uri": "https://localhost:8080/",
          "height": 311
        },
        "id": "85VdeXRZpbv6",
        "outputId": "6ca719bf-a5ca-4d35-83e4-6a0eb4c6ebf2"
      },
      "source": [
        "\n",
        "# ECDF loglog scale\n",
        "cdf = ECDF(degree)\n",
        "x = np.unique(degree)\n",
        "y = cdf(x)\n",
        "fig_cdf = plt.figure(figsize=(8,4))\n",
        "axes = fig_cdf.gca()\n",
        "axes.loglog(x,y,marker='o',ms=8, linestyle='--')\n",
        "axes.set_xlabel('Degree',size=20)\n",
        "axes.set_ylabel('ECDF Food', size = 20)\n"
      ],
      "execution_count": 501,
      "outputs": [
        {
          "output_type": "execute_result",
          "data": {
            "text/plain": [
              "Text(0, 0.5, 'ECDF Food')"
            ]
          },
          "metadata": {
            "tags": []
          },
          "execution_count": 501
        },
        {
          "output_type": "display_data",
          "data": {
            "image/png": "[encoded data removed]",
            "text/plain": [
              "<Figure size 576x288 with 1 Axes>"
            ]
          },
          "metadata": {
            "tags": [],
            "needs_background": "light"
          }
        }
      ]
    },
    {
      "cell_type": "code",
      "metadata": {
        "colab": {
          "base_uri": "https://localhost:8080/",
          "height": 314
        },
        "id": "s9tOUCWqpivi",
        "outputId": "3b184fc7-48e2-42d3-f140-f9a30c8f3660"
      },
      "source": [
        "# ECCDF\n",
        "cdf = ECDF(degree)\n",
        "x = np.unique(degree)\n",
        "y = cdf(x)\n",
        "fig_cdf = plt.figure(figsize=(8,4))\n",
        "axes = fig_cdf.gca()\n",
        "axes.loglog(x,1-y,marker='o',ms=8, linestyle='--')\n",
        "axes.set_xlabel('Degree',size=20)\n",
        "axes.set_ylabel('ECCDF FOOD', size = 20)"
      ],
      "execution_count": 502,
      "outputs": [
        {
          "output_type": "execute_result",
          "data": {
            "text/plain": [
              "Text(0, 0.5, 'ECCDF FOOD')"
            ]
          },
          "metadata": {
            "tags": []
          },
          "execution_count": 502
        },
        {
          "output_type": "display_data",
          "data": {
            "image/png": "[encoded data removed]",
            "text/plain": [
              "<Figure size 576x288 with 1 Axes>"
            ]
          },
          "metadata": {
            "tags": [],
            "needs_background": "light"
          }
        }
      ]
    },
    {
      "cell_type": "code",
      "metadata": {
        "id": "-NY41H7IppF7"
      },
      "source": [
        "p = density\n",
        "random_graph = nx.fast_gnp_random_graph(G.order(),p)\n"
      ],
      "execution_count": 503,
      "outputs": []
    },
    {
      "cell_type": "code",
      "metadata": {
        "colab": {
          "base_uri": "https://localhost:8080/"
        },
        "id": "TOi6WvTwpvpZ",
        "outputId": "3ca7eef4-2b45-4497-89b4-1894e05d0755"
      },
      "source": [
        "print('Number of nodes: {}'.format(random_graph.order()))\n",
        "print('Number of links: {}'.format(random_graph.size()))"
      ],
      "execution_count": 504,
      "outputs": [
        {
          "output_type": "stream",
          "text": [
            "Number of nodes: 620\n",
            "Number of links: 2147\n"
          ],
          "name": "stdout"
        }
      ]
    },
    {
      "cell_type": "code",
      "metadata": {
        "id": "FCiK8TUYpz0W",
        "colab": {
          "base_uri": "https://localhost:8080/"
        },
        "outputId": "12d32564-d255-44ca-d5ee-61c8be2e9c2f"
      },
      "source": [
        "random_degree = list(dict(random_graph.degree()).values())\n",
        "print('Random Net Standard deviation: {}'.format(np.std(random_degree)))\n",
        "print('Random Net Mean: {}'.format(np.mean(random_degree)))\n",
        "print('Random Net Median: {}'.format(np.median(random_degree)))\n",
        "print('Random Net Min: {}'.format(np.min(random_degree)))\n",
        "print('Random Net Max: {}'.format(np.max(random_degree)))"
      ],
      "execution_count": 505,
      "outputs": [
        {
          "output_type": "stream",
          "text": [
            "Random Net Standard deviation: 2.5780046975526516\n",
            "Random Net Mean: 6.925806451612903\n",
            "Random Net Median: 7.0\n",
            "Random Net Min: 1\n",
            "Random Net Max: 16\n"
          ],
          "name": "stdout"
        }
      ]
    },
    {
      "cell_type": "code",
      "metadata": {
        "colab": {
          "base_uri": "https://localhost:8080/",
          "height": 311
        },
        "id": "ZLzauKksp2IU",
        "outputId": "b5fe6e15-80d8-4595-e358-542a6b317209"
      },
      "source": [
        "cdf = ECDF(degree)\n",
        "x = np.unique(degree)\n",
        "y = cdf(x)\n",
        "\n",
        "cdf_random = ECDF(random_degree)\n",
        "x_random = np.unique(random_degree)\n",
        "y_random = cdf_random(x_random)\n",
        "\n",
        "fig_cdf_fb = plt.figure(figsize=(8,4))\n",
        "axes = fig_cdf_fb.gca()\n",
        "axes.set_xscale('log')\n",
        "axes.set_yscale('log')\n",
        "axes.loglog(x,1-y,marker='o',ms=8, linestyle='--')\n",
        "axes.loglog(x_random,1-y_random,marker='+',ms=10, linestyle='--')\n",
        "axes.set_xlabel('Degree',size=20)\n",
        "axes.set_ylabel('ECCDF', size = 20)"
      ],
      "execution_count": 506,
      "outputs": [
        {
          "output_type": "execute_result",
          "data": {
            "text/plain": [
              "Text(0, 0.5, 'ECCDF')"
            ]
          },
          "metadata": {
            "tags": []
          },
          "execution_count": 506
        },
        {
          "output_type": "display_data",
          "data": {
            "image/png": "[encoded data removed]",
            "text/plain": [
              "<Figure size 576x288 with 1 Axes>"
            ]
          },
          "metadata": {
            "tags": [],
            "needs_background": "light"
          }
        }
      ]
    },
    {
      "cell_type": "markdown",
      "metadata": {
        "id": "KAqS4YcCGaLK"
      },
      "source": [
        "\\"
      ]
    },
    {
      "cell_type": "markdown",
      "metadata": {
        "id": "x8IZWFFHpq9o"
      },
      "source": [
        "## HUBS"
      ]
    },
    {
      "cell_type": "code",
      "metadata": {
        "colab": {
          "base_uri": "https://localhost:8080/"
        },
        "id": "Sg72v5vSp6tB",
        "outputId": "3c92b478-0916-411f-f3ae-7576614c5cdf"
      },
      "source": [
        "percentile_99 = np.percentile(degree,99)\n",
        "print(percentile_99)"
      ],
      "execution_count": 507,
      "outputs": [
        {
          "output_type": "stream",
          "text": [
            "47.0\n"
          ],
          "name": "stdout"
        }
      ]
    },
    {
      "cell_type": "code",
      "metadata": {
        "id": "stn61tlep9e6"
      },
      "source": [
        "hub_nodi = [k for k,v in dict(G.degree()).items() if v>= percentile_99]\n"
      ],
      "execution_count": 508,
      "outputs": []
    },
    {
      "cell_type": "code",
      "metadata": {
        "colab": {
          "base_uri": "https://localhost:8080/"
        },
        "id": "OsfcPT35qCB_",
        "outputId": "42da882e-26f8-453d-e74e-b0c320c33240"
      },
      "source": [
        "print(len(hub_nodi))\n",
        "print(list(hub_nodi))"
      ],
      "execution_count": 509,
      "outputs": [
        {
          "output_type": "stream",
          "text": [
            "8\n",
            "['Logan Junior Chef', 'Robin Miller', 'Scott Conant', \"McDonald's_6\", 'Eric Ripert', 'Alex Guarnaschelli', 'David Chang', 'Chef Daniel Boulud']\n"
          ],
          "name": "stdout"
        }
      ]
    },
    {
      "cell_type": "code",
      "metadata": {
        "colab": {
          "base_uri": "https://localhost:8080/"
        },
        "id": "ZZDQ7UGBqIqX",
        "outputId": "45e52f5a-04dc-4bee-f63f-d0560d330b54"
      },
      "source": [
        "print(list(nx.isolates(G)))\n"
      ],
      "execution_count": 510,
      "outputs": [
        {
          "output_type": "stream",
          "text": [
            "[]\n"
          ],
          "name": "stdout"
        }
      ]
    },
    {
      "cell_type": "markdown",
      "metadata": {
        "id": "bYCwbh5GGYoH"
      },
      "source": [
        "\\"
      ]
    },
    {
      "cell_type": "markdown",
      "metadata": {
        "id": "nsHzYEcBp8Cz"
      },
      "source": [
        "## Connectivity"
      ]
    },
    {
      "cell_type": "code",
      "metadata": {
        "colab": {
          "base_uri": "https://localhost:8080/"
        },
        "id": "uctAbGqKqVSl",
        "outputId": "4431b738-b30c-4578-9a45-1b07a5aac652"
      },
      "source": [
        "print(nx.is_connected(G))\n",
        "print(nx.number_connected_components(G))"
      ],
      "execution_count": 511,
      "outputs": [
        {
          "output_type": "stream",
          "text": [
            "True\n",
            "1\n"
          ],
          "name": "stdout"
        }
      ]
    },
    {
      "cell_type": "code",
      "metadata": {
        "id": "LDPqKFb6wmB8"
      },
      "source": [
        "import math"
      ],
      "execution_count": 512,
      "outputs": []
    },
    {
      "cell_type": "code",
      "metadata": {
        "colab": {
          "base_uri": "https://localhost:8080/",
          "height": 1000
        },
        "id": "Ys-22v4sqYmZ",
        "outputId": "f02dec33-96f7-4255-95fa-2cf8358ab821"
      },
      "source": [
        "nx.draw_networkx(H,with_labels=True)\n"
      ],
      "execution_count": 513,
      "outputs": [
        {
          "output_type": "stream",
          "text": [
            "/usr/local/lib/python3.6/dist-packages/matplotlib/backends/backend_agg.py:214: RuntimeWarning: Glyph 12479 missing from current font.\n",
            "  font.set_text(s, 0.0, flags=flags)\n",
            "/usr/local/lib/python3.6/dist-packages/matplotlib/backends/backend_agg.py:214: RuntimeWarning: Glyph 12467 missing from current font.\n",
            "  font.set_text(s, 0.0, flags=flags)\n",
            "/usr/local/lib/python3.6/dist-packages/matplotlib/backends/backend_agg.py:214: RuntimeWarning: Glyph 12505 missing from current font.\n",
            "  font.set_text(s, 0.0, flags=flags)\n",
            "/usr/local/lib/python3.6/dist-packages/matplotlib/backends/backend_agg.py:214: RuntimeWarning: Glyph 12523 missing from current font.\n",
            "  font.set_text(s, 0.0, flags=flags)\n",
            "/usr/local/lib/python3.6/dist-packages/matplotlib/backends/backend_agg.py:214: RuntimeWarning: Glyph 12472 missing from current font.\n",
            "  font.set_text(s, 0.0, flags=flags)\n",
            "/usr/local/lib/python3.6/dist-packages/matplotlib/backends/backend_agg.py:214: RuntimeWarning: Glyph 12515 missing from current font.\n",
            "  font.set_text(s, 0.0, flags=flags)\n",
            "/usr/local/lib/python3.6/dist-packages/matplotlib/backends/backend_agg.py:214: RuntimeWarning: Glyph 12497 missing from current font.\n",
            "  font.set_text(s, 0.0, flags=flags)\n",
            "/usr/local/lib/python3.6/dist-packages/matplotlib/backends/backend_agg.py:214: RuntimeWarning: Glyph 12531 missing from current font.\n",
            "  font.set_text(s, 0.0, flags=flags)\n",
            "/usr/local/lib/python3.6/dist-packages/matplotlib/backends/backend_agg.py:214: RuntimeWarning: Glyph 12288 missing from current font.\n",
            "  font.set_text(s, 0.0, flags=flags)\n",
            "/usr/local/lib/python3.6/dist-packages/matplotlib/backends/backend_agg.py:183: RuntimeWarning: Glyph 12479 missing from current font.\n",
            "  font.set_text(s, 0, flags=flags)\n",
            "/usr/local/lib/python3.6/dist-packages/matplotlib/backends/backend_agg.py:183: RuntimeWarning: Glyph 12467 missing from current font.\n",
            "  font.set_text(s, 0, flags=flags)\n",
            "/usr/local/lib/python3.6/dist-packages/matplotlib/backends/backend_agg.py:183: RuntimeWarning: Glyph 12505 missing from current font.\n",
            "  font.set_text(s, 0, flags=flags)\n",
            "/usr/local/lib/python3.6/dist-packages/matplotlib/backends/backend_agg.py:183: RuntimeWarning: Glyph 12523 missing from current font.\n",
            "  font.set_text(s, 0, flags=flags)\n",
            "/usr/local/lib/python3.6/dist-packages/matplotlib/backends/backend_agg.py:183: RuntimeWarning: Glyph 12472 missing from current font.\n",
            "  font.set_text(s, 0, flags=flags)\n",
            "/usr/local/lib/python3.6/dist-packages/matplotlib/backends/backend_agg.py:183: RuntimeWarning: Glyph 12515 missing from current font.\n",
            "  font.set_text(s, 0, flags=flags)\n",
            "/usr/local/lib/python3.6/dist-packages/matplotlib/backends/backend_agg.py:183: RuntimeWarning: Glyph 12497 missing from current font.\n",
            "  font.set_text(s, 0, flags=flags)\n",
            "/usr/local/lib/python3.6/dist-packages/matplotlib/backends/backend_agg.py:183: RuntimeWarning: Glyph 12531 missing from current font.\n",
            "  font.set_text(s, 0, flags=flags)\n",
            "/usr/local/lib/python3.6/dist-packages/matplotlib/backends/backend_agg.py:183: RuntimeWarning: Glyph 12288 missing from current font.\n",
            "  font.set_text(s, 0, flags=flags)\n",
            "/usr/local/lib/python3.6/dist-packages/matplotlib/backends/backend_agg.py:214: RuntimeWarning: Glyph 40613 missing from current font.\n",
            "  font.set_text(s, 0.0, flags=flags)\n",
            "/usr/local/lib/python3.6/dist-packages/matplotlib/backends/backend_agg.py:214: RuntimeWarning: Glyph 30070 missing from current font.\n",
            "  font.set_text(s, 0.0, flags=flags)\n",
            "/usr/local/lib/python3.6/dist-packages/matplotlib/backends/backend_agg.py:214: RuntimeWarning: Glyph 21214 missing from current font.\n",
            "  font.set_text(s, 0.0, flags=flags)\n",
            "/usr/local/lib/python3.6/dist-packages/matplotlib/backends/backend_agg.py:183: RuntimeWarning: Glyph 40613 missing from current font.\n",
            "  font.set_text(s, 0, flags=flags)\n",
            "/usr/local/lib/python3.6/dist-packages/matplotlib/backends/backend_agg.py:183: RuntimeWarning: Glyph 30070 missing from current font.\n",
            "  font.set_text(s, 0, flags=flags)\n",
            "/usr/local/lib/python3.6/dist-packages/matplotlib/backends/backend_agg.py:183: RuntimeWarning: Glyph 21214 missing from current font.\n",
            "  font.set_text(s, 0, flags=flags)\n",
            "/usr/local/lib/python3.6/dist-packages/matplotlib/backends/backend_agg.py:214: RuntimeWarning: Glyph 21129 missing from current font.\n",
            "  font.set_text(s, 0.0, flags=flags)\n",
            "/usr/local/lib/python3.6/dist-packages/matplotlib/backends/backend_agg.py:214: RuntimeWarning: Glyph 38859 missing from current font.\n",
            "  font.set_text(s, 0.0, flags=flags)\n",
            "/usr/local/lib/python3.6/dist-packages/matplotlib/backends/backend_agg.py:214: RuntimeWarning: Glyph 24420 missing from current font.\n",
            "  font.set_text(s, 0.0, flags=flags)\n",
            "/usr/local/lib/python3.6/dist-packages/matplotlib/backends/backend_agg.py:183: RuntimeWarning: Glyph 21129 missing from current font.\n",
            "  font.set_text(s, 0, flags=flags)\n",
            "/usr/local/lib/python3.6/dist-packages/matplotlib/backends/backend_agg.py:183: RuntimeWarning: Glyph 38859 missing from current font.\n",
            "  font.set_text(s, 0, flags=flags)\n",
            "/usr/local/lib/python3.6/dist-packages/matplotlib/backends/backend_agg.py:183: RuntimeWarning: Glyph 24420 missing from current font.\n",
            "  font.set_text(s, 0, flags=flags)\n",
            "/usr/local/lib/python3.6/dist-packages/matplotlib/backends/backend_agg.py:214: RuntimeWarning: Glyph 12398 missing from current font.\n",
            "  font.set_text(s, 0.0, flags=flags)\n",
            "/usr/local/lib/python3.6/dist-packages/matplotlib/backends/backend_agg.py:214: RuntimeWarning: Glyph 26009 missing from current font.\n",
            "  font.set_text(s, 0.0, flags=flags)\n",
            "/usr/local/lib/python3.6/dist-packages/matplotlib/backends/backend_agg.py:214: RuntimeWarning: Glyph 29702 missing from current font.\n",
            "  font.set_text(s, 0.0, flags=flags)\n",
            "/usr/local/lib/python3.6/dist-packages/matplotlib/backends/backend_agg.py:183: RuntimeWarning: Glyph 12398 missing from current font.\n",
            "  font.set_text(s, 0, flags=flags)\n",
            "/usr/local/lib/python3.6/dist-packages/matplotlib/backends/backend_agg.py:183: RuntimeWarning: Glyph 26009 missing from current font.\n",
            "  font.set_text(s, 0, flags=flags)\n",
            "/usr/local/lib/python3.6/dist-packages/matplotlib/backends/backend_agg.py:183: RuntimeWarning: Glyph 29702 missing from current font.\n",
            "  font.set_text(s, 0, flags=flags)\n",
            "/usr/local/lib/python3.6/dist-packages/matplotlib/backends/backend_agg.py:214: RuntimeWarning: Glyph 31354 missing from current font.\n",
            "  font.set_text(s, 0.0, flags=flags)\n",
            "/usr/local/lib/python3.6/dist-packages/matplotlib/backends/backend_agg.py:214: RuntimeWarning: Glyph 33145 missing from current font.\n",
            "  font.set_text(s, 0.0, flags=flags)\n",
            "/usr/local/lib/python3.6/dist-packages/matplotlib/backends/backend_agg.py:214: RuntimeWarning: Glyph 29066 missing from current font.\n",
            "  font.set_text(s, 0.0, flags=flags)\n",
            "/usr/local/lib/python3.6/dist-packages/matplotlib/backends/backend_agg.py:214: RuntimeWarning: Glyph 35987 missing from current font.\n",
            "  font.set_text(s, 0.0, flags=flags)\n",
            "/usr/local/lib/python3.6/dist-packages/matplotlib/backends/backend_agg.py:183: RuntimeWarning: Glyph 31354 missing from current font.\n",
            "  font.set_text(s, 0, flags=flags)\n",
            "/usr/local/lib/python3.6/dist-packages/matplotlib/backends/backend_agg.py:183: RuntimeWarning: Glyph 33145 missing from current font.\n",
            "  font.set_text(s, 0, flags=flags)\n",
            "/usr/local/lib/python3.6/dist-packages/matplotlib/backends/backend_agg.py:183: RuntimeWarning: Glyph 29066 missing from current font.\n",
            "  font.set_text(s, 0, flags=flags)\n",
            "/usr/local/lib/python3.6/dist-packages/matplotlib/backends/backend_agg.py:183: RuntimeWarning: Glyph 35987 missing from current font.\n",
            "  font.set_text(s, 0, flags=flags)\n",
            "/usr/local/lib/python3.6/dist-packages/matplotlib/backends/backend_agg.py:214: RuntimeWarning: Glyph 36948 missing from current font.\n",
            "  font.set_text(s, 0.0, flags=flags)\n",
            "/usr/local/lib/python3.6/dist-packages/matplotlib/backends/backend_agg.py:214: RuntimeWarning: Glyph 32654 missing from current font.\n",
            "  font.set_text(s, 0.0, flags=flags)\n",
            "/usr/local/lib/python3.6/dist-packages/matplotlib/backends/backend_agg.py:214: RuntimeWarning: Glyph 27138 missing from current font.\n",
            "  font.set_text(s, 0.0, flags=flags)\n",
            "/usr/local/lib/python3.6/dist-packages/matplotlib/backends/backend_agg.py:214: RuntimeWarning: Glyph 25259 missing from current font.\n",
            "  font.set_text(s, 0.0, flags=flags)\n",
            "/usr/local/lib/python3.6/dist-packages/matplotlib/backends/backend_agg.py:214: RuntimeWarning: Glyph 34217 missing from current font.\n",
            "  font.set_text(s, 0.0, flags=flags)\n",
            "/usr/local/lib/python3.6/dist-packages/matplotlib/backends/backend_agg.py:183: RuntimeWarning: Glyph 36948 missing from current font.\n",
            "  font.set_text(s, 0, flags=flags)\n",
            "/usr/local/lib/python3.6/dist-packages/matplotlib/backends/backend_agg.py:183: RuntimeWarning: Glyph 32654 missing from current font.\n",
            "  font.set_text(s, 0, flags=flags)\n",
            "/usr/local/lib/python3.6/dist-packages/matplotlib/backends/backend_agg.py:183: RuntimeWarning: Glyph 27138 missing from current font.\n",
            "  font.set_text(s, 0, flags=flags)\n",
            "/usr/local/lib/python3.6/dist-packages/matplotlib/backends/backend_agg.py:183: RuntimeWarning: Glyph 25259 missing from current font.\n",
            "  font.set_text(s, 0, flags=flags)\n",
            "/usr/local/lib/python3.6/dist-packages/matplotlib/backends/backend_agg.py:183: RuntimeWarning: Glyph 34217 missing from current font.\n",
            "  font.set_text(s, 0, flags=flags)\n",
            "/usr/local/lib/python3.6/dist-packages/matplotlib/backends/backend_agg.py:214: RuntimeWarning: Glyph 46020 missing from current font.\n",
            "  font.set_text(s, 0.0, flags=flags)\n",
            "/usr/local/lib/python3.6/dist-packages/matplotlib/backends/backend_agg.py:214: RuntimeWarning: Glyph 48120 missing from current font.\n",
            "  font.set_text(s, 0.0, flags=flags)\n",
            "/usr/local/lib/python3.6/dist-packages/matplotlib/backends/backend_agg.py:214: RuntimeWarning: Glyph 45432 missing from current font.\n",
            "  font.set_text(s, 0.0, flags=flags)\n",
            "/usr/local/lib/python3.6/dist-packages/matplotlib/backends/backend_agg.py:214: RuntimeWarning: Glyph 54588 missing from current font.\n",
            "  font.set_text(s, 0.0, flags=flags)\n",
            "/usr/local/lib/python3.6/dist-packages/matplotlib/backends/backend_agg.py:214: RuntimeWarning: Glyph 51088 missing from current font.\n",
            "  font.set_text(s, 0.0, flags=flags)\n",
            "/usr/local/lib/python3.6/dist-packages/matplotlib/backends/backend_agg.py:183: RuntimeWarning: Glyph 46020 missing from current font.\n",
            "  font.set_text(s, 0, flags=flags)\n",
            "/usr/local/lib/python3.6/dist-packages/matplotlib/backends/backend_agg.py:183: RuntimeWarning: Glyph 48120 missing from current font.\n",
            "  font.set_text(s, 0, flags=flags)\n",
            "/usr/local/lib/python3.6/dist-packages/matplotlib/backends/backend_agg.py:183: RuntimeWarning: Glyph 45432 missing from current font.\n",
            "  font.set_text(s, 0, flags=flags)\n",
            "/usr/local/lib/python3.6/dist-packages/matplotlib/backends/backend_agg.py:183: RuntimeWarning: Glyph 54588 missing from current font.\n",
            "  font.set_text(s, 0, flags=flags)\n",
            "/usr/local/lib/python3.6/dist-packages/matplotlib/backends/backend_agg.py:183: RuntimeWarning: Glyph 51088 missing from current font.\n",
            "  font.set_text(s, 0, flags=flags)\n",
            "/usr/local/lib/python3.6/dist-packages/matplotlib/backends/backend_agg.py:214: RuntimeWarning: Glyph 35199 missing from current font.\n",
            "  font.set_text(s, 0.0, flags=flags)\n",
            "/usr/local/lib/python3.6/dist-packages/matplotlib/backends/backend_agg.py:214: RuntimeWarning: Glyph 23433 missing from current font.\n",
            "  font.set_text(s, 0.0, flags=flags)\n",
            "/usr/local/lib/python3.6/dist-packages/matplotlib/backends/backend_agg.py:214: RuntimeWarning: Glyph 21517 missing from current font.\n",
            "  font.set_text(s, 0.0, flags=flags)\n",
            "/usr/local/lib/python3.6/dist-packages/matplotlib/backends/backend_agg.py:214: RuntimeWarning: Glyph 21507 missing from current font.\n",
            "  font.set_text(s, 0.0, flags=flags)\n",
            "/usr/local/lib/python3.6/dist-packages/matplotlib/backends/backend_agg.py:183: RuntimeWarning: Glyph 35199 missing from current font.\n",
            "  font.set_text(s, 0, flags=flags)\n",
            "/usr/local/lib/python3.6/dist-packages/matplotlib/backends/backend_agg.py:183: RuntimeWarning: Glyph 23433 missing from current font.\n",
            "  font.set_text(s, 0, flags=flags)\n",
            "/usr/local/lib/python3.6/dist-packages/matplotlib/backends/backend_agg.py:183: RuntimeWarning: Glyph 21517 missing from current font.\n",
            "  font.set_text(s, 0, flags=flags)\n",
            "/usr/local/lib/python3.6/dist-packages/matplotlib/backends/backend_agg.py:183: RuntimeWarning: Glyph 21507 missing from current font.\n",
            "  font.set_text(s, 0, flags=flags)\n",
            "/usr/local/lib/python3.6/dist-packages/matplotlib/backends/backend_agg.py:214: RuntimeWarning: Glyph 32736 missing from current font.\n",
            "  font.set_text(s, 0.0, flags=flags)\n",
            "/usr/local/lib/python3.6/dist-packages/matplotlib/backends/backend_agg.py:214: RuntimeWarning: Glyph 33775 missing from current font.\n",
            "  font.set_text(s, 0.0, flags=flags)\n",
            "/usr/local/lib/python3.6/dist-packages/matplotlib/backends/backend_agg.py:214: RuntimeWarning: Glyph 39184 missing from current font.\n",
            "  font.set_text(s, 0.0, flags=flags)\n",
            "/usr/local/lib/python3.6/dist-packages/matplotlib/backends/backend_agg.py:214: RuntimeWarning: Glyph 24307 missing from current font.\n",
            "  font.set_text(s, 0.0, flags=flags)\n",
            "/usr/local/lib/python3.6/dist-packages/matplotlib/backends/backend_agg.py:183: RuntimeWarning: Glyph 32736 missing from current font.\n",
            "  font.set_text(s, 0, flags=flags)\n",
            "/usr/local/lib/python3.6/dist-packages/matplotlib/backends/backend_agg.py:183: RuntimeWarning: Glyph 33775 missing from current font.\n",
            "  font.set_text(s, 0, flags=flags)\n",
            "/usr/local/lib/python3.6/dist-packages/matplotlib/backends/backend_agg.py:183: RuntimeWarning: Glyph 39184 missing from current font.\n",
            "  font.set_text(s, 0, flags=flags)\n",
            "/usr/local/lib/python3.6/dist-packages/matplotlib/backends/backend_agg.py:183: RuntimeWarning: Glyph 24307 missing from current font.\n",
            "  font.set_text(s, 0, flags=flags)\n",
            "/usr/local/lib/python3.6/dist-packages/matplotlib/backends/backend_agg.py:214: RuntimeWarning: Glyph 36019 missing from current font.\n",
            "  font.set_text(s, 0.0, flags=flags)\n",
            "/usr/local/lib/python3.6/dist-packages/matplotlib/backends/backend_agg.py:214: RuntimeWarning: Glyph 27155 missing from current font.\n",
            "  font.set_text(s, 0.0, flags=flags)\n",
            "/usr/local/lib/python3.6/dist-packages/matplotlib/backends/backend_agg.py:214: RuntimeWarning: Glyph 39154 missing from current font.\n",
            "  font.set_text(s, 0.0, flags=flags)\n",
            "/usr/local/lib/python3.6/dist-packages/matplotlib/backends/backend_agg.py:183: RuntimeWarning: Glyph 36019 missing from current font.\n",
            "  font.set_text(s, 0, flags=flags)\n",
            "/usr/local/lib/python3.6/dist-packages/matplotlib/backends/backend_agg.py:183: RuntimeWarning: Glyph 27155 missing from current font.\n",
            "  font.set_text(s, 0, flags=flags)\n",
            "/usr/local/lib/python3.6/dist-packages/matplotlib/backends/backend_agg.py:183: RuntimeWarning: Glyph 39154 missing from current font.\n",
            "  font.set_text(s, 0, flags=flags)\n",
            "/usr/local/lib/python3.6/dist-packages/matplotlib/backends/backend_agg.py:214: RuntimeWarning: Glyph 47589 missing from current font.\n",
            "  font.set_text(s, 0.0, flags=flags)\n",
            "/usr/local/lib/python3.6/dist-packages/matplotlib/backends/backend_agg.py:214: RuntimeWarning: Glyph 45216 missing from current font.\n",
            "  font.set_text(s, 0.0, flags=flags)\n",
            "/usr/local/lib/python3.6/dist-packages/matplotlib/backends/backend_agg.py:214: RuntimeWarning: Glyph 46300 missing from current font.\n",
            "  font.set_text(s, 0.0, flags=flags)\n",
            "/usr/local/lib/python3.6/dist-packages/matplotlib/backends/backend_agg.py:183: RuntimeWarning: Glyph 47589 missing from current font.\n",
            "  font.set_text(s, 0, flags=flags)\n",
            "/usr/local/lib/python3.6/dist-packages/matplotlib/backends/backend_agg.py:183: RuntimeWarning: Glyph 45216 missing from current font.\n",
            "  font.set_text(s, 0, flags=flags)\n",
            "/usr/local/lib/python3.6/dist-packages/matplotlib/backends/backend_agg.py:183: RuntimeWarning: Glyph 46300 missing from current font.\n",
            "  font.set_text(s, 0, flags=flags)\n"
          ],
          "name": "stderr"
        },
        {
          "output_type": "display_data",
          "data": {
            "image/png": "[encoded data removed]",
            "text/plain": [
              "<Figure size 432x288 with 1 Axes>"
            ]
          },
          "metadata": {
            "tags": []
          }
        }
      ]
    },
    {
      "cell_type": "code",
      "metadata": {
        "id": "C_uqHiEZPZEb",
        "colab": {
          "base_uri": "https://localhost:8080/"
        },
        "outputId": "baae4d82-fb89-4dfa-f36c-1bd85cc5a8db"
      },
      "source": [
        "nx.number_connected_components(G)"
      ],
      "execution_count": 514,
      "outputs": [
        {
          "output_type": "execute_result",
          "data": {
            "text/plain": [
              "1"
            ]
          },
          "metadata": {
            "tags": []
          },
          "execution_count": 514
        }
      ]
    },
    {
      "cell_type": "code",
      "metadata": {
        "id": "1wX3cRDduXZe"
      },
      "source": [
        "#dir(G)"
      ],
      "execution_count": 515,
      "outputs": []
    },
    {
      "cell_type": "code",
      "metadata": {
        "colab": {
          "base_uri": "https://localhost:8080/",
          "height": 424
        },
        "id": "CtRGTW8MwDWC",
        "outputId": "9e8f3d6c-9d5f-4fa0-c6bf-1a90b6fd5d9f"
      },
      "source": [
        "nodes"
      ],
      "execution_count": 516,
      "outputs": [
        {
          "output_type": "execute_result",
          "data": {
            "text/html": [
              "<div>\n",
              "<style scoped>\n",
              "    .dataframe tbody tr th:only-of-type {\n",
              "        vertical-align: middle;\n",
              "    }\n",
              "\n",
              "    .dataframe tbody tr th {\n",
              "        vertical-align: top;\n",
              "    }\n",
              "\n",
              "    .dataframe thead th {\n",
              "        text-align: right;\n",
              "    }\n",
              "</style>\n",
              "<table border=\"1\" class=\"dataframe\">\n",
              "  <thead>\n",
              "    <tr style=\"text-align: right;\">\n",
              "      <th></th>\n",
              "      <th>id</th>\n",
              "      <th>name</th>\n",
              "    </tr>\n",
              "  </thead>\n",
              "  <tbody>\n",
              "    <tr>\n",
              "      <th>0</th>\n",
              "      <td>386</td>\n",
              "      <td>Josh Marks</td>\n",
              "    </tr>\n",
              "    <tr>\n",
              "      <th>1</th>\n",
              "      <td>473</td>\n",
              "      <td>Blue Ribbon Restaurants</td>\n",
              "    </tr>\n",
              "    <tr>\n",
              "      <th>2</th>\n",
              "      <td>1</td>\n",
              "      <td>Pat Neely</td>\n",
              "    </tr>\n",
              "    <tr>\n",
              "      <th>3</th>\n",
              "      <td>542</td>\n",
              "      <td>La Griglia</td>\n",
              "    </tr>\n",
              "    <tr>\n",
              "      <th>4</th>\n",
              "      <td>189</td>\n",
              "      <td>Jose Garces</td>\n",
              "    </tr>\n",
              "    <tr>\n",
              "      <th>...</th>\n",
              "      <td>...</td>\n",
              "      <td>...</td>\n",
              "    </tr>\n",
              "    <tr>\n",
              "      <th>615</th>\n",
              "      <td>163</td>\n",
              "      <td>Jumia Food_10</td>\n",
              "    </tr>\n",
              "    <tr>\n",
              "      <th>616</th>\n",
              "      <td>381</td>\n",
              "      <td>Luke Thomas</td>\n",
              "    </tr>\n",
              "    <tr>\n",
              "      <th>617</th>\n",
              "      <td>140</td>\n",
              "      <td>Clodagh McKenna</td>\n",
              "    </tr>\n",
              "    <tr>\n",
              "      <th>618</th>\n",
              "      <td>157</td>\n",
              "      <td>Chef Michelle Bernstein</td>\n",
              "    </tr>\n",
              "    <tr>\n",
              "      <th>619</th>\n",
              "      <td>114</td>\n",
              "      <td>SORTEDfood</td>\n",
              "    </tr>\n",
              "  </tbody>\n",
              "</table>\n",
              "<p>620 rows × 2 columns</p>\n",
              "</div>"
            ],
            "text/plain": [
              "      id                     name\n",
              "0    386               Josh Marks\n",
              "1    473  Blue Ribbon Restaurants\n",
              "2      1                Pat Neely\n",
              "3    542               La Griglia\n",
              "4    189              Jose Garces\n",
              "..   ...                      ...\n",
              "615  163            Jumia Food_10\n",
              "616  381              Luke Thomas\n",
              "617  140          Clodagh McKenna\n",
              "618  157  Chef Michelle Bernstein\n",
              "619  114               SORTEDfood\n",
              "\n",
              "[620 rows x 2 columns]"
            ]
          },
          "metadata": {
            "tags": []
          },
          "execution_count": 516
        }
      ]
    },
    {
      "cell_type": "code",
      "metadata": {
        "id": "b2_O0YjSZMjR",
        "colab": {
          "base_uri": "https://localhost:8080/"
        },
        "outputId": "547a8341-e65d-4fc8-a9dd-949b82fecd09"
      },
      "source": [
        "len(nx.triangles(H))"
      ],
      "execution_count": 517,
      "outputs": [
        {
          "output_type": "execute_result",
          "data": {
            "text/plain": [
              "620"
            ]
          },
          "metadata": {
            "tags": []
          },
          "execution_count": 517
        }
      ]
    },
    {
      "cell_type": "markdown",
      "metadata": {
        "id": "L1fGte4iEGgu"
      },
      "source": [
        "\\"
      ]
    },
    {
      "cell_type": "markdown",
      "metadata": {
        "id": "SdgfcGZXEI_y"
      },
      "source": [
        "\\"
      ]
    },
    {
      "cell_type": "markdown",
      "metadata": {
        "id": "eMHDFzK2D3Ku"
      },
      "source": [
        "## Clusters"
      ]
    },
    {
      "cell_type": "code",
      "metadata": {
        "id": "UyQ4ciEkaPvh",
        "colab": {
          "base_uri": "https://localhost:8080/"
        },
        "outputId": "dda6c6d0-3c23-4a64-9dfd-63c2ea826a8b"
      },
      "source": [
        "clusters = nx.average_clustering(G)\n",
        "clusters"
      ],
      "execution_count": 518,
      "outputs": [
        {
          "output_type": "execute_result",
          "data": {
            "text/plain": [
              "0.3308970263553271"
            ]
          },
          "metadata": {
            "tags": []
          },
          "execution_count": 518
        }
      ]
    },
    {
      "cell_type": "code",
      "metadata": {
        "id": "yLPXd0lx9tTC",
        "colab": {
          "base_uri": "https://localhost:8080/"
        },
        "outputId": "a440962d-8e6a-4c7c-c08d-fc9bb113ad06"
      },
      "source": [
        "type(clusters)"
      ],
      "execution_count": 519,
      "outputs": [
        {
          "output_type": "execute_result",
          "data": {
            "text/plain": [
              "float"
            ]
          },
          "metadata": {
            "tags": []
          },
          "execution_count": 519
        }
      ]
    },
    {
      "cell_type": "code",
      "metadata": {
        "id": "C5-1q7SaDtE0"
      },
      "source": [
        ""
      ],
      "execution_count": 519,
      "outputs": []
    },
    {
      "cell_type": "code",
      "metadata": {
        "id": "hiPVa4vwZXaP",
        "colab": {
          "base_uri": "https://localhost:8080/"
        },
        "outputId": "6f7d7e72-c9b0-4afc-cb4a-339ba65a7667"
      },
      "source": [
        "nx.transitivity(G)\n"
      ],
      "execution_count": 520,
      "outputs": [
        {
          "output_type": "execute_result",
          "data": {
            "text/plain": [
              "0.22264084150905228"
            ]
          },
          "metadata": {
            "tags": []
          },
          "execution_count": 520
        }
      ]
    },
    {
      "cell_type": "code",
      "metadata": {
        "colab": {
          "base_uri": "https://localhost:8080/"
        },
        "id": "FPI3sqAdEbFh",
        "outputId": "293347b9-6563-43c0-9aad-52a71a1b343a"
      },
      "source": [
        "local_cluster = nx.clustering(G)\r\n",
        "sorted(local_cluster.items(), key=lambda item: item[1], reverse= True)\r\n"
      ],
      "execution_count": 521,
      "outputs": [
        {
          "output_type": "execute_result",
          "data": {
            "text/plain": [
              "[('Pat Neely', 1.0),\n",
              " ('Ben Sargent & Dr. Klaw', 1.0),\n",
              " ('Jumia Food_6', 1.0),\n",
              " (\"Chili's México\", 1.0),\n",
              " ('Taco Bell El Salvador', 1.0),\n",
              " ('KFC_17', 1.0),\n",
              " (\"Domino's Pizza_11\", 1.0),\n",
              " ('Delverde_1', 1.0),\n",
              " ('Delverde_3', 1.0),\n",
              " (\"Nando's_12\", 1.0),\n",
              " (\"Nando's_8\", 1.0),\n",
              " (\"McDonald's Deutschland Karriere\", 1.0),\n",
              " (\"McDonald's_37\", 1.0),\n",
              " (\"McDonald's_8\", 1.0),\n",
              " (\"McDonald's_11\", 1.0),\n",
              " ('Valentin Neraudeau', 1.0),\n",
              " ('Chef Aaron McCargo Jr', 1.0),\n",
              " ('Al Brown New Zealand Chef', 1.0),\n",
              " ('Princi', 1.0),\n",
              " ('ad hoc & addendum', 1.0),\n",
              " ('Katie Pix', 1.0),\n",
              " ('KFC_24', 1.0),\n",
              " ('Douglas Keane', 1.0),\n",
              " (\"McDonald's_57\", 1.0),\n",
              " (\"McDonald's_50\", 1.0),\n",
              " ('Taco Bell Kuwait', 1.0),\n",
              " ('タコベル ジャパン\\u3000Taco Bell Japan', 1.0),\n",
              " ('Taco Bell India', 1.0),\n",
              " ('Maru Botana', 1.0),\n",
              " ('Crepes & Waffles', 1.0),\n",
              " ('João Alcantara', 1.0),\n",
              " (\"McDonald's Paraguay\", 1.0),\n",
              " (\"McDonald's_34\", 1.0),\n",
              " ('Buddy Valastro', 1.0),\n",
              " ('Dale Talde', 1.0),\n",
              " ('Emmi CAFFÈ LATTE_3', 1.0),\n",
              " (\"Nando's_10\", 1.0),\n",
              " (\"Nando's_7\", 1.0),\n",
              " ('Marc Veyrat', 1.0),\n",
              " (\"Charley's Crab_1\", 1.0),\n",
              " ('Eduardo Palazuelos', 1.0),\n",
              " ('Red Lobster México', 1.0),\n",
              " (\"Bobby's Burger Palace\", 1.0),\n",
              " (\"McDonald's_35\", 1.0),\n",
              " (\"McDonald's_41\", 1.0),\n",
              " ('Hakim Chajar', 1.0),\n",
              " ('Ricardo Cuisine', 1.0),\n",
              " ('Acapulco', 1.0),\n",
              " ('Pescaria', 1.0),\n",
              " ('Five Guys_1', 1.0),\n",
              " ('Maneet Chauhan', 1.0),\n",
              " ('The Tuscan Gun', 1.0),\n",
              " (\"Domino's Guatemala\", 1.0),\n",
              " (\"Gino D'Acampo\", 1.0),\n",
              " ('Thomas Keller', 1.0),\n",
              " ('Eva Arguiñano', 1.0),\n",
              " ('Bruno Oteiza', 1.0),\n",
              " (\"McDonald's_26\", 1.0),\n",
              " (\"McDonald's_27\", 1.0),\n",
              " (\"McDonald's_49\", 1.0),\n",
              " (\"Domino's Pizza_7\", 0.9454545454545454),\n",
              " ('Taco Bell Panamá', 0.9333333333333333),\n",
              " ('Taco Bell Costa Rica', 0.9333333333333333),\n",
              " (\"Dunkin' Donuts_9\", 0.9),\n",
              " ('Jose Garces', 0.9),\n",
              " (\"McDonald's_12\", 0.9),\n",
              " (\"Domino's Pizza_14\", 0.8939393939393939),\n",
              " (\"Domino's Pizza_13\", 0.8939393939393939),\n",
              " (\"Domino's Pizza_12\", 0.8939393939393939),\n",
              " (\"Domino's Pizza_18\", 0.8939393939393939),\n",
              " ('Gandy Dancer', 0.8928571428571429),\n",
              " (\"Charley's Crab_2\", 0.8928571428571429),\n",
              " (\"Meriwether's\", 0.8928571428571429),\n",
              " ('River Crab Blue Water Inn', 0.8571428571428571),\n",
              " (\"McDonald's_32\", 0.8333333333333334),\n",
              " (\"McDonald's_28\", 0.8333333333333334),\n",
              " (\"McDonald's_36\", 0.8333333333333334),\n",
              " ('YANNICK ALLENO OFFICIEL', 0.8333333333333334),\n",
              " ('Harlem EatUp', 0.8333333333333334),\n",
              " ('KFC_6', 0.8333333333333334),\n",
              " (\"Domino's Pizza_2\", 0.8333333333333334),\n",
              " (\"Domino's Pizza Nigeria\", 0.8333333333333334),\n",
              " ('Big Fish Seafood Bistro_1', 0.8055555555555556),\n",
              " ('Taco Bell Rep Dom', 0.8),\n",
              " ('Jumia Food_9', 0.8),\n",
              " (\"Domino's Pizza_6\", 0.8),\n",
              " ('KFC_14', 0.8),\n",
              " (\"Domino's Pizza_17\", 0.7692307692307693),\n",
              " (\"Domino's Pizza_1\", 0.7692307692307693),\n",
              " (\"Domino's Pizza_19\", 0.7564102564102564),\n",
              " ('Big Fish Seafood Bistro_2', 0.75),\n",
              " ('Ken Oringer', 0.7454545454545455),\n",
              " (\"McDonald's_53\", 0.7333333333333333),\n",
              " (\"Domino's Pizza Türkiye\", 0.7333333333333333),\n",
              " ('Taco Bell Guatemala', 0.7142857142857143),\n",
              " ('Camille Becerra', 0.7),\n",
              " ('KFC_5', 0.7),\n",
              " ('Gandy Dancer Saloon/Oyster Bar', 0.6944444444444444),\n",
              " (\"Domino's Pizza_10\", 0.6785714285714286),\n",
              " ('Andy Luotto', 0.6666666666666666),\n",
              " ('Outback Steakhouse', 0.6666666666666666),\n",
              " (\"Carrabba's Italian Grill\", 0.6666666666666666),\n",
              " ('Bonefish Grill', 0.6666666666666666),\n",
              " ('Blue Ribbon Fried Chicken', 0.6666666666666666),\n",
              " ('Zac Kara', 0.6666666666666666),\n",
              " ('Delverde_4', 0.6666666666666666),\n",
              " (\"Nando's_14\", 0.6666666666666666),\n",
              " ('Shane Delia', 0.6666666666666666),\n",
              " (\"McDonald's_25\", 0.6666666666666666),\n",
              " (\"McDonald's_46\", 0.6666666666666666),\n",
              " (\"McDonald's_5\", 0.6666666666666666),\n",
              " ('Cat Cora', 0.6666666666666666),\n",
              " ('Samin Nosrat', 0.6666666666666666),\n",
              " ('Noma', 0.6666666666666666),\n",
              " ('Celler de Can Roca', 0.6666666666666666),\n",
              " ('Chef Francois Payard', 0.6666666666666666),\n",
              " (\"Domino's Mx\", 0.6666666666666666),\n",
              " ('Carlos Bertolazzi', 0.6666666666666666),\n",
              " ('Ogro Jimmy', 0.6666666666666666),\n",
              " ('도미노피자(Dominostory)', 0.6666666666666666),\n",
              " (\"McDonald's_4\", 0.6666666666666666),\n",
              " ('KFC_19', 0.6666666666666666),\n",
              " ('Jumia Food_1', 0.6666666666666666),\n",
              " ('Cocina familiar con Javier Romero', 0.6666666666666666),\n",
              " ('Jumia Food_5', 0.6666666666666666),\n",
              " ('Sonia Peronaci', 0.6666666666666666),\n",
              " (\"McDonald's_54\", 0.6666666666666666),\n",
              " ('Chevys Fresh Mex', 0.6666666666666666),\n",
              " ('Amandine Chaignot', 0.6666666666666666),\n",
              " ('Pierre Sang Boyer Officiel', 0.6666666666666666),\n",
              " (\"Domino's Pizza_8\", 0.6666666666666666),\n",
              " ('Dan Kluger', 0.6444444444444445),\n",
              " ('Melissa King', 0.6363636363636364),\n",
              " (\"Nando's_3\", 0.6190476190476191),\n",
              " ('Gregory Gourdet', 0.6190476190476191),\n",
              " ('Germán Martitegui', 0.6071428571428571),\n",
              " (\"McDonald's Japan\", 0.6),\n",
              " (\"McDonald's_14\", 0.6),\n",
              " ('Guillaume Gomez', 0.6),\n",
              " ('Pablo Massey', 0.6),\n",
              " (\"Nando's_5\", 0.6),\n",
              " ('Santiago Giorgini', 0.6),\n",
              " ('Food Busker', 0.6),\n",
              " ('Jumia Food_4', 0.6),\n",
              " (\"McDonald's_22\", 0.6),\n",
              " (\"Domino's Pizza_20\", 0.6),\n",
              " ('KFC_25', 0.6),\n",
              " ('Christina Tosi', 0.5777777777777777),\n",
              " (\"McDonald's_39\", 0.5714285714285714),\n",
              " ('Grotto', 0.5714285714285714),\n",
              " (\"Domino's Pizza_9\", 0.5583333333333333),\n",
              " (\"Nando's_9\", 0.5555555555555556),\n",
              " ('Chef Charlie Palmer', 0.5555555555555556),\n",
              " ('Kristen Kish', 0.5494505494505495),\n",
              " (\"McDonald's_40\", 0.5357142857142857),\n",
              " (\"McDonald's_7\", 0.5333333333333333),\n",
              " ('Donatella Arpaia', 0.5333333333333333),\n",
              " ('Juan Mari Arzak (Página oficial)', 0.5333333333333333),\n",
              " ('Taco Bell UK', 0.5333333333333333),\n",
              " ('Jumia Food_2', 0.5238095238095238),\n",
              " (\"Nando's_6\", 0.5238095238095238),\n",
              " ('Dean Sheremet', 0.5238095238095238),\n",
              " ('達美樂披薩', 0.5238095238095238),\n",
              " (\"McDonald's_43\", 0.5238095238095238),\n",
              " ('Daniel Humm', 0.5151515151515151),\n",
              " ('Doug Adams', 0.5083333333333333),\n",
              " ('Jumia Food_7', 0.5),\n",
              " (\"Nando's_2\", 0.5),\n",
              " (\"Nando's_15\", 0.5),\n",
              " (\"McDonald's_16\", 0.5),\n",
              " ('KFC_10', 0.5),\n",
              " ('Chef Ben Churchill', 0.5),\n",
              " ('Magnum_2', 0.5),\n",
              " ('Brooke Williamson', 0.5),\n",
              " (\"McDonald's_13\", 0.5),\n",
              " ('Chef Marcela Valladolid', 0.5),\n",
              " ('Justin Warner', 0.5),\n",
              " ('KFC_12', 0.5),\n",
              " ('Alex French Guy Cooking', 0.5),\n",
              " ('Los Petersen Cocineros', 0.5),\n",
              " (\"McDonald's_17\", 0.5),\n",
              " ('Mei Lin', 0.47794117647058826),\n",
              " ('Grand Concourse', 0.4696969696969697),\n",
              " ('Jumia Food_10', 0.4666666666666667),\n",
              " ('Taco Bell Cyprus', 0.4666666666666667),\n",
              " (\"McDonald's_21\", 0.4666666666666667),\n",
              " ('Karlos Arguiñano', 0.4666666666666667),\n",
              " ('Cuoco Filippo La Mantia', 0.4642857142857143),\n",
              " ('Michael White', 0.4642857142857143),\n",
              " (\"Nando's_13\", 0.4444444444444444),\n",
              " ('KFC_20', 0.43636363636363634),\n",
              " ('James Martin', 0.42857142857142855),\n",
              " (\"McDonald's_33\", 0.42857142857142855),\n",
              " (\"McDonald's_23\", 0.42857142857142855),\n",
              " ('Chart House', 0.42857142857142855),\n",
              " ('Chef Derrick Fox', 0.42857142857142855),\n",
              " ('Josh Elkin', 0.42857142857142855),\n",
              " ('KFC_23', 0.42857142857142855),\n",
              " ('Francis Mallmann', 0.42857142857142855),\n",
              " (\"Domino's Pizza_16\", 0.4222222222222222),\n",
              " ('KFC_22', 0.4166666666666667),\n",
              " ('Cesare Casella', 0.4166666666666667),\n",
              " ('Sang Yoon', 0.4166666666666667),\n",
              " ('Chef Marc Murphy', 0.41125541125541126),\n",
              " (\"Domino's Pizza_4\", 0.4090909090909091),\n",
              " (\"McDonald's_18\", 0.4090909090909091),\n",
              " ('Enrique Olvera', 0.4090909090909091),\n",
              " ('Jumia Food_8', 0.4),\n",
              " ('Ernst Knam', 0.4),\n",
              " ('Juliana Lopez May', 0.4),\n",
              " (\"Nando's_11\", 0.4),\n",
              " ('KFC_16', 0.4),\n",
              " ('Marcel Vigneron', 0.4),\n",
              " ('Spike Mendelsohn', 0.4),\n",
              " ('Stephanie Izard', 0.4),\n",
              " ('Rachel Allen', 0.4),\n",
              " (\"Manjula's Kitchen - Indian Vegetarian Recipes\", 0.4),\n",
              " (\"McDonald's_42\", 0.4),\n",
              " (\"McDonald's_56\", 0.39285714285714285),\n",
              " ('Johnny Iuzzini', 0.39166666666666666),\n",
              " ('Levi Eirinberg', 0.3888888888888889),\n",
              " (\"Domino's Australia\", 0.38461538461538464),\n",
              " ('Per Se', 0.38095238095238093),\n",
              " ('Blue Ribbon Restaurants', 0.38095238095238093),\n",
              " ('Felicitas Pizarro', 0.38095238095238093),\n",
              " ('Jumia Food_3', 0.38095238095238093),\n",
              " ('Cook with Amber', 0.38095238095238093),\n",
              " (\"McDonald's_2\", 0.37777777777777777),\n",
              " ('KFC_3', 0.3611111111111111),\n",
              " ('Anne Burrell', 0.3523809523809524),\n",
              " ('Aarón Sánchez', 0.35177865612648224),\n",
              " ('José Andrés', 0.3439153439153439),\n",
              " ('Chef Jamie Gwen', 0.34285714285714286),\n",
              " ('Geoffrey Zakarian', 0.34022988505747126),\n",
              " ('Jacques Pépin', 0.3387096774193548),\n",
              " ('Alessandro Borghese', 0.3333333333333333),\n",
              " (\"Roy's Restaurant\", 0.3333333333333333),\n",
              " ('Seamus Mullen', 0.3333333333333333),\n",
              " (\"Domino's Pizza_5\", 0.3333333333333333),\n",
              " (\"Nando's_1\", 0.3333333333333333),\n",
              " (\"McDonald's_15\", 0.3333333333333333),\n",
              " ('Leslie Gilliams', 0.3333333333333333),\n",
              " (\"McDonald's_38\", 0.3333333333333333),\n",
              " ('Chef Rick Moonen', 0.3333333333333333),\n",
              " ('Christophe Bacquie', 0.3333333333333333),\n",
              " ('Chef Shirley Chung', 0.3333333333333333),\n",
              " ('Chef Michael Ferraro', 0.3333333333333333),\n",
              " ('Chef Brian Duffy', 0.3333333333333333),\n",
              " ('Niko Romito', 0.3333333333333333),\n",
              " ('Audra Morrice', 0.3333333333333333),\n",
              " ('Bubba Gump Shrimp Co.', 0.3333333333333333),\n",
              " ('Chef G. Garvin', 0.3333333333333333),\n",
              " ('Simon Bryant', 0.3333333333333333),\n",
              " ('Relais & Châteaux_2', 0.3333333333333333),\n",
              " ('Olive Garden México', 0.3333333333333333),\n",
              " ('麥當勞', 0.3333333333333333),\n",
              " ('Quique Dacosta', 0.3333333333333333),\n",
              " ('Burger King Thailand', 0.3333333333333333),\n",
              " ('Susur Lee', 0.3333333333333333),\n",
              " ('Peter Kuruvita', 0.3333333333333333),\n",
              " ('Josh Marks', 0.3333333333333333),\n",
              " ('Emmi CAFFÈ LATTE_2', 0.3333333333333333),\n",
              " ('Telepizza Guatemala', 0.3333333333333333),\n",
              " ('Chef Rusty Hamlin', 0.3333333333333333),\n",
              " ('Wings', 0.3333333333333333),\n",
              " ('Emma Frisch', 0.3333333333333333),\n",
              " (\"McDonald's_31\", 0.3333333333333333),\n",
              " ('El Torito', 0.3333333333333333),\n",
              " ('Chef Ben Ford', 0.3333333333333333),\n",
              " ('Chef Dana Cohen HK', 0.3333333333333333),\n",
              " (\"McDonald's_19\", 0.3333333333333333),\n",
              " ('Barbie Marshall', 0.3333333333333333),\n",
              " (\"McDonald's_9\", 0.3333333333333333),\n",
              " (\"McDonald's_52\", 0.32142857142857145),\n",
              " ('Guy Savoy', 0.32142857142857145),\n",
              " ('Dining with Flynn', 0.32),\n",
              " ('Taco Bell', 0.3181818181818182),\n",
              " ('Roy Choi', 0.3181818181818182),\n",
              " ('KFC_27', 0.3181818181818182),\n",
              " ('Virginia Willis', 0.3157894736842105),\n",
              " ('Chef Carla Hall', 0.31521739130434784),\n",
              " ('Tim Love', 0.3111111111111111),\n",
              " ('Jean-François Piège     -      Page Officielle', 0.3055555555555556),\n",
              " ('Alex Atala', 0.3055555555555556),\n",
              " (\"McDonald's_55\", 0.3055555555555556),\n",
              " ('Chef Elizabeth Falkner', 0.3054187192118227),\n",
              " ('Julia Child', 0.3047619047619048),\n",
              " ('Chef Maeve Rochford', 0.3),\n",
              " ('Paul Hollywood', 0.3),\n",
              " ('Simon Gault', 0.3),\n",
              " ('Chef Lorena Garcia', 0.3),\n",
              " ('John Whaite', 0.3),\n",
              " (\"Nicko's Kitchen\", 0.3),\n",
              " ('Guga Rocha', 0.3),\n",
              " ('KFC_18', 0.3),\n",
              " ('Chef Robert Irvine', 0.2987012987012987),\n",
              " ('Vegan Black Metal Chef', 0.2967032967032967),\n",
              " ('Manu Feildel', 0.2909090909090909),\n",
              " ('Chef David Burke', 0.29004329004329005),\n",
              " ('Michel Nischan', 0.28615384615384615),\n",
              " ('Pasqualino Barbasso', 0.2857142857142857),\n",
              " ('Christian Bau', 0.2857142857142857),\n",
              " ('Christophe Michalak', 0.2857142857142857),\n",
              " ('Raymond Blanc', 0.2857142857142857),\n",
              " ('Sanjeev Kapoor', 0.2857142857142857),\n",
              " ('Kunal Kapur', 0.2857142857142857),\n",
              " ('Amy Thielen', 0.2857142857142857),\n",
              " ('Nikki Dinki', 0.2857142857142857),\n",
              " ('Alfred Portale', 0.2777777777777778),\n",
              " ('Massimo Mele', 0.2777777777777778),\n",
              " ('Tom Aikens', 0.27666666666666667),\n",
              " ('Chef Richard Sandoval', 0.27472527472527475),\n",
              " ('Chef Jet Tila', 0.2731182795698925),\n",
              " ('John DeLucie', 0.2727272727272727),\n",
              " ('Bryce Shuman', 0.2714285714285714),\n",
              " ('Lee Anne Wong', 0.26666666666666666),\n",
              " ('Delverde_2', 0.26666666666666666),\n",
              " ('Marc Forgione', 0.26666666666666666),\n",
              " (\"McDonald's_45\", 0.26666666666666666),\n",
              " ('Anne-Sophie Pic', 0.26666666666666666),\n",
              " ('Bruno Barbieri', 0.26666666666666666),\n",
              " ('René Redzepi', 0.2605042016806723),\n",
              " (\"Domino's Pizza_15\", 0.2597402597402597),\n",
              " ('JW Café - JW Marriott Hotel Hanoi', 0.2597402597402597),\n",
              " ('Donato De Santis', 0.2564102564102564),\n",
              " ('Elizabeth Karmel', 0.25071225071225073),\n",
              " ('Alex Guarnaschelli', 0.2506938020351526),\n",
              " ('Scott Conant', 0.25019607843137254),\n",
              " (\"McDonald's_10\", 0.25),\n",
              " ('Ludo Lefebvre', 0.24761904761904763),\n",
              " ('Marcus Samuelsson', 0.24731182795698925),\n",
              " ('Susan Feniger', 0.2426470588235294),\n",
              " ('Narda Lepes', 0.24166666666666667),\n",
              " ('Roy Yamaguchi', 0.23809523809523808),\n",
              " ('Colin Fassnidge', 0.23809523809523808),\n",
              " ('Chef Mark Garcia', 0.23376623376623376),\n",
              " ('Donal Skehan', 0.23076923076923078),\n",
              " ('Bruno Ménard', 0.22857142857142856),\n",
              " ('Chef Carlo Cracco', 0.2222222222222222),\n",
              " ('Mirko Ronzoni', 0.2222222222222222),\n",
              " ('Antonino Cannavacciuolo', 0.2222222222222222),\n",
              " (\"D'O - Davide Oldani\", 0.2222222222222222),\n",
              " ('Hugh Acheson', 0.21666666666666667),\n",
              " ('Gary Mehigan', 0.21428571428571427),\n",
              " ('Taste Of Paris Official', 0.21428571428571427),\n",
              " ('Hubert Keller', 0.2134387351778656),\n",
              " ('Tom Colicchio', 0.21021021021021022),\n",
              " ('Bobby Flay', 0.2021505376344086),\n",
              " ('Chuck Hughes', 0.2),\n",
              " ('Chef Michelle Bernstein', 0.2),\n",
              " ('Chef Casey Thompson', 0.2),\n",
              " (\"McDonald's_30\", 0.2),\n",
              " ('Eddie Jackson - FIT CHEF EDDIE', 0.2),\n",
              " ('Karen Martini', 0.2),\n",
              " ('Chef Mary Sue Milliken', 0.2),\n",
              " ('The French Laundry', 0.2),\n",
              " ('Martín Berasategui', 0.2),\n",
              " ('Christine Ha', 0.2),\n",
              " ('Chef Damaris Phillips', 0.2),\n",
              " ('Eric Ripert', 0.19932659932659932),\n",
              " ('Saransh Goila', 0.19047619047619047),\n",
              " ('ChefAlexander', 0.18681318681318682),\n",
              " ('Chef Kent Graham', 0.1849390919158361),\n",
              " ('KFC_8', 0.18382352941176472),\n",
              " ('David Chang', 0.18181818181818182),\n",
              " (\"McDonald's República Dominicana\", 0.18095238095238095),\n",
              " ('Chef Daniel Boulud', 0.18038852913968548),\n",
              " ('SORTEDfood', 0.17857142857142858),\n",
              " ('foodpanda / hellofood', 0.17857142857142858),\n",
              " ('Chef Sue Zemanick', 0.17777777777777778),\n",
              " ('Paul Bocuse', 0.17647058823529413),\n",
              " (\"McDonald's_1\", 0.17316017316017315),\n",
              " ('Christian Le Squer', 0.17142857142857143),\n",
              " ('George Pagonis', 0.16666666666666666),\n",
              " ('Chef Sheldon Simeon', 0.16666666666666666),\n",
              " (\"Chili's Qatar\", 0.16666666666666666),\n",
              " (\"McDonald's_47\", 0.16666666666666666),\n",
              " ('Christophe Adam', 0.16666666666666666),\n",
              " ('Ranveer Brar', 0.16666666666666666),\n",
              " ('Dean Fearing', 0.16483516483516483),\n",
              " ('Alain Ducasse', 0.16374269005847952),\n",
              " ('Chef Pete Evans', 0.16363636363636364),\n",
              " ('Bradley Ogden', 0.15555555555555556),\n",
              " ('Matt Moran', 0.15384615384615385),\n",
              " ('Robin Miller', 0.15356151711378355),\n",
              " (\"McDonald's_29\", 0.15270935960591134),\n",
              " ('My Cupcake Addiction', 0.15151515151515152),\n",
              " ('Chef Hirohiko Shoda', 0.14285714285714285),\n",
              " ('Kevin Dundon', 0.14285714285714285),\n",
              " ('Chef Billy Parisi', 0.14285714285714285),\n",
              " ('Chef Andrew Gruel', 0.1388888888888889),\n",
              " ('Monti Carlo', 0.13333333333333333),\n",
              " ('Hilah Cooking', 0.13333333333333333),\n",
              " ('Fabio Viviani', 0.13186813186813187),\n",
              " (\"Cristian D'Elia\", 0.12727272727272726),\n",
              " (\"McDonald's_51\", 0.12666666666666668),\n",
              " ('Graham Elliot', 0.12380952380952381),\n",
              " ('Dani García', 0.11931818181818182),\n",
              " ('Emily Ellyn', 0.11264367816091954),\n",
              " (\"Chili's Grill & Bar\", 0.1),\n",
              " ('Emmi CAFFÈ LATTE_4', 0.1),\n",
              " ('Wolfgang Puck', 0.0761904761904762),\n",
              " ('Spago Las Vegas', 0.07575757575757576),\n",
              " ('Vicky Ratnani', 0.07142857142857142),\n",
              " ('Chef Clément', 0.07142857142857142),\n",
              " (\"McDonald's_6\", 0.07130333138515488),\n",
              " ('Logan Junior Chef', 0.05331945408281286),\n",
              " ('Madison Cowan', 0),\n",
              " ('Jock Zonfrillo', 0),\n",
              " ('Steve Konopelski', 0),\n",
              " ('Magnum_4', 0),\n",
              " ('Magnum_7', 0),\n",
              " ('Magnum_1', 0),\n",
              " ('Magnum_6', 0),\n",
              " ('On The Border', 0),\n",
              " ('foodpanda_5', 0),\n",
              " ('Big Fernand', 0),\n",
              " ('foodpanda_8', 0),\n",
              " (\"Dunkin' Donuts_10\", 0),\n",
              " (\"Dunkin' Donuts_5\", 0),\n",
              " ('Subway', 0),\n",
              " (\"Dunkin' Coffee\", 0),\n",
              " ('Eckart Witzigmann', 0),\n",
              " ('Boston Market', 0),\n",
              " ('Dairy Queen', 0),\n",
              " ('NishaMadhulika', 0),\n",
              " ('Chetna Makan', 0),\n",
              " ('Maria Loi', 0),\n",
              " ('Dina Nikolaou', 0),\n",
              " ('Franklin Becker', 0),\n",
              " ('Chef Rick Tramonto', 0),\n",
              " ('KFC_2', 0),\n",
              " ('foodpanda_2', 0),\n",
              " (\"McDonald's Vietnam\", 0),\n",
              " ('Bahama Breeze Island Grille', 0),\n",
              " ('Yard House', 0),\n",
              " (\"Nando's PERi-PERi\", 0),\n",
              " ('Magnum_3', 0),\n",
              " ('Thierry Rautureau', 0),\n",
              " ('Chef Guy Martin', 0),\n",
              " ('Chef Nina Compton', 0),\n",
              " ('Ravintola Salve', 0),\n",
              " ('RED Sushi and Hibachi Grill', 0),\n",
              " ('Russell Jackson', 0),\n",
              " (\"McDonald's_48\", 0),\n",
              " ('Chef Grace Ramirez', 0),\n",
              " ('Iginio Massari', 0),\n",
              " ('KFC_7', 0),\n",
              " ('Kirti Bhoutika', 0),\n",
              " ('Cadillac Bar Houston', 0),\n",
              " ('Aquarium Restaurant - Nashville', 0),\n",
              " ('Cadillac Bar Kemah', 0),\n",
              " ('T-rex Cafe', 0),\n",
              " ('Hard Rock Cafe Ibiza', 0),\n",
              " (\"Steak 'n Shake\", 0),\n",
              " ('Destino Ibiza', 0),\n",
              " ('Seasons 52', 0),\n",
              " ('Olive Garden', 0),\n",
              " (\"Eddie V's Prime Seafood\", 0),\n",
              " (\"Dick's Drive In Restaurant\", 0),\n",
              " ('Chef Sam Talbot', 0),\n",
              " ('Ochikeron', 0),\n",
              " ('Chick-fil-A', 0),\n",
              " ('משה שגב / Moshe Segev', 0),\n",
              " (\"Jimmy John's\", 0),\n",
              " ('Chef Cynthia Louise', 0),\n",
              " ('Matthew Kenney', 0),\n",
              " ('Hearth', 0),\n",
              " ('Taco Bell Careers', 0),\n",
              " ('The Habit Burger Grill', 0),\n",
              " ('Éric Frechon', 0),\n",
              " ('Diego Guerrero', 0),\n",
              " ('Emmi CAFFÈ LATTE_1', 0),\n",
              " ('Gavin Kaysen', 0),\n",
              " ('Puesto', 0),\n",
              " ('Burger Lounge', 0),\n",
              " ('Anjali Pathak', 0),\n",
              " ('Hari Ghotra', 0),\n",
              " ('The Edgy Veg', 0),\n",
              " ('Chef Jennifer Carroll', 0),\n",
              " ('Roxanne Spruance', 0),\n",
              " ('Joanna 劉韋彤', 0),\n",
              " ('MASAの料理ABC', 0),\n",
              " ('Chef Diego Lozano', 0),\n",
              " ('Burger King Nederland', 0),\n",
              " ('Burger King México', 0),\n",
              " ('Burger King Malaysia', 0),\n",
              " ('Luna Grill', 0),\n",
              " ('Zoёs Kitchen', 0),\n",
              " ('Chef Kiran Jethwa', 0),\n",
              " ('foodpanda_3', 0),\n",
              " ('foodpanda_6', 0),\n",
              " ('foodpanda_4', 0),\n",
              " ('foodpanda - 空腹熊貓', 0),\n",
              " ('foodpanda_7', 0),\n",
              " ('foodpanda_1', 0),\n",
              " (\"Hardee's Pakistan\", 0),\n",
              " (\"McDonald's_44\", 0),\n",
              " (\"Dunkin' Donuts_4\", 0),\n",
              " (\"Dunkin' Donuts_3\", 0),\n",
              " ('Chef Ana Paula', 0),\n",
              " ('Krispy Kreme UK', 0),\n",
              " ('Ben Ebbrell - Sorted Chef', 0),\n",
              " ('Michael Lomonaco', 0),\n",
              " ('Chef Jimmy Boswell', 0),\n",
              " ('KFC_26', 0),\n",
              " ('KFC_15', 0),\n",
              " ('Opry City Stage', 0),\n",
              " ('KFC_13', 0),\n",
              " ('Gaston Acurio', 0),\n",
              " (\"Papacho's\", 0),\n",
              " ('Lindsay Ann Bakes', 0),\n",
              " ('Gemma Stafford', 0),\n",
              " ('Cindy Pawlcyn', 0),\n",
              " ('DedeMed', 0),\n",
              " ('José Santaella', 0),\n",
              " ('Chef Carmen Gonzalez', 0),\n",
              " ('Clodagh McKenna', 0),\n",
              " ('KFC_4', 0),\n",
              " ('Emmi CAFFÈ LATTE_5', 0),\n",
              " ('Whataburger', 0),\n",
              " (\"Morton's The Steakhouse\", 0),\n",
              " ('Roblé', 0),\n",
              " ('Chef Jamie DeRosa', 0),\n",
              " ('Jehangir', 0),\n",
              " ('Brew Bistro and Lounge', 0),\n",
              " ('Alberto Chicote', 0),\n",
              " (\"Xi'an Famous Foods 西安名吃\", 0),\n",
              " ('Chef Natale Giunta', 0),\n",
              " ('Chef Todd Mohr', 0),\n",
              " (\"Chili's Beirut\", 0),\n",
              " ('hellofood', 0),\n",
              " ('Mary Nolan, Bon Appétit Executive Chef', 0),\n",
              " ('翠華餐廳 Tsui Wah Restaurant', 0),\n",
              " ('Nyesha Arrington', 0),\n",
              " (\"Carl's Jr. NZ\", 0),\n",
              " (\"Carl's Jr.\", 0),\n",
              " ('Ignacio Mattos', 0),\n",
              " ('KFC_1', 0),\n",
              " (\"Hardee's\", 0),\n",
              " ('Paul Qui', 0),\n",
              " (\"Lillie's Asian Cuisine\", 0),\n",
              " (\"Nando's_4\", 0),\n",
              " (\"Peohe's\", 0),\n",
              " ('Second Floor Cafe 貳樓餐飲', 0),\n",
              " (\"Dunkin' Donuts_1\", 0),\n",
              " ('La Griglia', 0),\n",
              " ('Pierre Gagnaire', 0),\n",
              " ('Noëmie Honiat Top Chef', 0),\n",
              " ('Pedro Lambertini', 0),\n",
              " ('Cucina by Wolfgang Puck', 0),\n",
              " ('Four Seasons Hotels and Resorts', 0),\n",
              " ('Sam Choy', 0),\n",
              " ('Suzanne Goin', 0),\n",
              " ('Veggie Grill', 0),\n",
              " ('Crystal Jade Palace - JW Marriott Hotel Hanoi', 0),\n",
              " ('Crystal Jade Singapore', 0),\n",
              " ('Franklin Barbecue', 0),\n",
              " ('Subway, Cayman Islands', 0),\n",
              " ('Fast Ed', 0),\n",
              " ('Red Robin Gourmet Burgers', 0),\n",
              " ('CAKE-BOY', 0),\n",
              " (\"맥도날드 (McDonald's)\", 0),\n",
              " (\"Domino's Pizza_3\", 0),\n",
              " ('Claire Robinson', 0),\n",
              " ('Dan Steph & Emmy', 0),\n",
              " ('Duff Goldman', 0),\n",
              " ('Harold Dieterle', 0),\n",
              " ('Chef Michael Smith', 0),\n",
              " (\"Chef Claudia's Cocina\", 0),\n",
              " ('Cook with Chef Duminda', 0),\n",
              " (\"Dunkin' Donuts_8\", 0),\n",
              " ('Tom Douglas Restaurants', 0),\n",
              " ('Aliya LeeKong', 0),\n",
              " ('Francesco Sole', 0),\n",
              " ('KFC_9', 0),\n",
              " ('RIBS - True American Barbecue', 0),\n",
              " ('Angelo Sosa', 0),\n",
              " (\"Famous Dave's Bar-B-Que of America\", 0),\n",
              " ('Taste of London', 0),\n",
              " (\"Tom's Kitchen\", 0),\n",
              " ('Magnum_5', 0),\n",
              " (\"'Wichcraft\", 0),\n",
              " ('Chef Rubio', 0),\n",
              " ('Outlander Kitchen', 0),\n",
              " (\"Chili's Tunisie\", 0),\n",
              " ('UMass Dining', 0),\n",
              " ('Pollo Campero Guatemala', 0),\n",
              " ('KFC_11', 0),\n",
              " ('Danny Smiles', 0),\n",
              " ('Mathieu Pacaud', 0),\n",
              " ('Chef Alex Levin', 0),\n",
              " ('FONDA MEXICANA', 0),\n",
              " ('Luke Thomas', 0),\n",
              " ('Chope_1', 0),\n",
              " ('Relais & Châteaux_1', 0),\n",
              " ('Chope_2', 0),\n",
              " ('Anis Nabilah', 0),\n",
              " ('Skinny Chef', 0),\n",
              " ('Johnny Prep', 0),\n",
              " ('Nutella Cafe Chicago', 0),\n",
              " ('KFC_21', 0),\n",
              " ('Martha Collison', 0),\n",
              " (\"McDonald's_59\", 0),\n",
              " ('Five Guys_2', 0),\n",
              " ('Chef Adrianne', 0),\n",
              " ('Norbert Tarayre', 0),\n",
              " ('Texas Roadhouse', 0),\n",
              " ('Pollo Campero El Salvador', 0),\n",
              " ('PROPERCORN', 0),\n",
              " (\"Dunkin' Donuts_2\", 0),\n",
              " ('Angel Leon Gonzalez', 0),\n",
              " ('Lío', 0),\n",
              " ('Frantzén', 0),\n",
              " (\"McDonald's_3\", 0),\n",
              " (\"McDonald's_24\", 0),\n",
              " (\"McDonald's_58\", 0),\n",
              " (\"McDonald's_20\", 0),\n",
              " (\"Dunkin' Donuts_6\", 0),\n",
              " (\"Dunkin' Donuts_7\", 0)]"
            ]
          },
          "metadata": {
            "tags": []
          },
          "execution_count": 521
        }
      ]
    },
    {
      "cell_type": "code",
      "metadata": {
        "colab": {
          "base_uri": "https://localhost:8080/"
        },
        "id": "CcbtpU04EjyJ",
        "outputId": "d2db7df7-83e5-4f85-9c81-ace4765263f0"
      },
      "source": [
        "triangle = nx.triangles(G)\r\n",
        "triangle"
      ],
      "execution_count": 522,
      "outputs": [
        {
          "output_type": "execute_result",
          "data": {
            "text/plain": [
              "{\"'Wichcraft\": 0,\n",
              " 'Aarón Sánchez': 89,\n",
              " 'Acapulco': 1,\n",
              " 'Al Brown New Zealand Chef': 1,\n",
              " 'Alain Ducasse': 28,\n",
              " 'Alberto Chicote': 0,\n",
              " 'Alessandro Borghese': 15,\n",
              " 'Alex Atala': 11,\n",
              " 'Alex French Guy Cooking': 3,\n",
              " 'Alex Guarnaschelli': 271,\n",
              " 'Alfred Portale': 10,\n",
              " 'Aliya LeeKong': 0,\n",
              " 'Amandine Chaignot': 2,\n",
              " 'Amy Thielen': 8,\n",
              " 'Andy Luotto': 2,\n",
              " 'Angel Leon Gonzalez': 0,\n",
              " 'Angelo Sosa': 0,\n",
              " 'Anis Nabilah': 0,\n",
              " 'Anjali Pathak': 0,\n",
              " 'Anne Burrell': 74,\n",
              " 'Anne-Sophie Pic': 28,\n",
              " 'Antonino Cannavacciuolo': 10,\n",
              " 'Aquarium Restaurant - Nashville': 0,\n",
              " 'Audra Morrice': 2,\n",
              " 'Bahama Breeze Island Grille': 0,\n",
              " 'Barbie Marshall': 1,\n",
              " 'Ben Ebbrell - Sorted Chef': 0,\n",
              " 'Ben Sargent & Dr. Klaw': 3,\n",
              " 'Big Fernand': 0,\n",
              " 'Big Fish Seafood Bistro_1': 29,\n",
              " 'Big Fish Seafood Bistro_2': 21,\n",
              " 'Blue Ribbon Fried Chicken': 2,\n",
              " 'Blue Ribbon Restaurants': 8,\n",
              " 'Bobby Flay': 94,\n",
              " \"Bobby's Burger Palace\": 1,\n",
              " 'Bonefish Grill': 4,\n",
              " 'Boston Market': 0,\n",
              " 'Bradley Ogden': 7,\n",
              " 'Brew Bistro and Lounge': 0,\n",
              " 'Brooke Williamson': 14,\n",
              " 'Bruno Barbieri': 4,\n",
              " 'Bruno Ménard': 24,\n",
              " 'Bruno Oteiza': 6,\n",
              " 'Bryce Shuman': 57,\n",
              " 'Bubba Gump Shrimp Co.': 1,\n",
              " 'Buddy Valastro': 1,\n",
              " 'Burger King Malaysia': 0,\n",
              " 'Burger King México': 0,\n",
              " 'Burger King Nederland': 0,\n",
              " 'Burger King Thailand': 1,\n",
              " 'Burger Lounge': 0,\n",
              " 'CAKE-BOY': 0,\n",
              " 'Cadillac Bar Houston': 0,\n",
              " 'Cadillac Bar Kemah': 0,\n",
              " 'Camille Becerra': 7,\n",
              " \"Carl's Jr.\": 0,\n",
              " \"Carl's Jr. NZ\": 0,\n",
              " 'Carlos Bertolazzi': 2,\n",
              " \"Carrabba's Italian Grill\": 4,\n",
              " 'Cat Cora': 10,\n",
              " 'Celler de Can Roca': 2,\n",
              " 'Cesare Casella': 15,\n",
              " \"Charley's Crab_1\": 1,\n",
              " \"Charley's Crab_2\": 25,\n",
              " 'Chart House': 9,\n",
              " 'Chef Aaron McCargo Jr': 3,\n",
              " 'Chef Adrianne': 0,\n",
              " 'Chef Alex Levin': 0,\n",
              " 'Chef Ana Paula': 0,\n",
              " 'Chef Andrew Gruel': 5,\n",
              " 'Chef Ben Churchill': 3,\n",
              " 'Chef Ben Ford': 7,\n",
              " 'Chef Billy Parisi': 13,\n",
              " 'Chef Brian Duffy': 2,\n",
              " 'Chef Carla Hall': 87,\n",
              " 'Chef Carlo Cracco': 10,\n",
              " 'Chef Carmen Gonzalez': 0,\n",
              " 'Chef Casey Thompson': 2,\n",
              " 'Chef Charlie Palmer': 25,\n",
              " \"Chef Claudia's Cocina\": 0,\n",
              " 'Chef Clément': 2,\n",
              " 'Chef Cynthia Louise': 0,\n",
              " 'Chef Damaris Phillips': 2,\n",
              " 'Chef Dana Cohen HK': 2,\n",
              " 'Chef Daniel Boulud': 195,\n",
              " 'Chef David Burke': 67,\n",
              " 'Chef Derrick Fox': 9,\n",
              " 'Chef Diego Lozano': 0,\n",
              " 'Chef Elizabeth Falkner': 124,\n",
              " 'Chef Francois Payard': 2,\n",
              " 'Chef G. Garvin': 1,\n",
              " 'Chef Grace Ramirez': 0,\n",
              " 'Chef Guy Martin': 0,\n",
              " 'Chef Hirohiko Shoda': 3,\n",
              " 'Chef Jamie DeRosa': 0,\n",
              " 'Chef Jamie Gwen': 36,\n",
              " 'Chef Jennifer Carroll': 0,\n",
              " 'Chef Jet Tila': 127,\n",
              " 'Chef Jimmy Boswell': 0,\n",
              " 'Chef Kent Graham': 167,\n",
              " 'Chef Kiran Jethwa': 0,\n",
              " 'Chef Lorena Garcia': 3,\n",
              " 'Chef Maeve Rochford': 3,\n",
              " 'Chef Marc Murphy': 95,\n",
              " 'Chef Marcela Valladolid': 5,\n",
              " 'Chef Mark Garcia': 54,\n",
              " 'Chef Mary Sue Milliken': 3,\n",
              " 'Chef Michael Ferraro': 12,\n",
              " 'Chef Michael Smith': 0,\n",
              " 'Chef Michelle Bernstein': 9,\n",
              " 'Chef Natale Giunta': 0,\n",
              " 'Chef Nina Compton': 0,\n",
              " 'Chef Pete Evans': 9,\n",
              " 'Chef Richard Sandoval': 25,\n",
              " 'Chef Rick Moonen': 26,\n",
              " 'Chef Rick Tramonto': 0,\n",
              " 'Chef Robert Irvine': 69,\n",
              " 'Chef Rubio': 0,\n",
              " 'Chef Rusty Hamlin': 1,\n",
              " 'Chef Sam Talbot': 0,\n",
              " 'Chef Sheldon Simeon': 1,\n",
              " 'Chef Shirley Chung': 5,\n",
              " 'Chef Sue Zemanick': 8,\n",
              " 'Chef Todd Mohr': 0,\n",
              " 'ChefAlexander': 17,\n",
              " 'Chetna Makan': 0,\n",
              " 'Chevys Fresh Mex': 2,\n",
              " 'Chick-fil-A': 0,\n",
              " \"Chili's Beirut\": 0,\n",
              " \"Chili's Grill & Bar\": 1,\n",
              " \"Chili's México\": 1,\n",
              " \"Chili's Qatar\": 1,\n",
              " \"Chili's Tunisie\": 0,\n",
              " 'Chope_1': 0,\n",
              " 'Chope_2': 0,\n",
              " 'Christian Bau': 6,\n",
              " 'Christian Le Squer': 18,\n",
              " 'Christina Tosi': 26,\n",
              " 'Christine Ha': 9,\n",
              " 'Christophe Adam': 1,\n",
              " 'Christophe Bacquie': 2,\n",
              " 'Christophe Michalak': 6,\n",
              " 'Chuck Hughes': 11,\n",
              " 'Cindy Pawlcyn': 0,\n",
              " 'Claire Robinson': 0,\n",
              " 'Clodagh McKenna': 0,\n",
              " 'Cocina familiar con Javier Romero': 2,\n",
              " 'Colin Fassnidge': 5,\n",
              " 'Cook with Amber': 8,\n",
              " 'Cook with Chef Duminda': 0,\n",
              " 'Crepes & Waffles': 1,\n",
              " \"Cristian D'Elia\": 7,\n",
              " 'Crystal Jade Palace - JW Marriott Hotel Hanoi': 0,\n",
              " 'Crystal Jade Singapore': 0,\n",
              " 'Cucina by Wolfgang Puck': 0,\n",
              " 'Cuoco Filippo La Mantia': 13,\n",
              " \"D'O - Davide Oldani\": 8,\n",
              " 'Dairy Queen': 0,\n",
              " 'Dale Talde': 1,\n",
              " 'Dan Kluger': 29,\n",
              " 'Dan Steph & Emmy': 0,\n",
              " 'Dani García': 63,\n",
              " 'Daniel Humm': 34,\n",
              " 'Danny Smiles': 0,\n",
              " 'David Chang': 280,\n",
              " 'Dean Fearing': 15,\n",
              " 'Dean Sheremet': 11,\n",
              " 'DedeMed': 0,\n",
              " 'Delverde_1': 3,\n",
              " 'Delverde_2': 4,\n",
              " 'Delverde_3': 3,\n",
              " 'Delverde_4': 4,\n",
              " 'Destino Ibiza': 0,\n",
              " \"Dick's Drive In Restaurant\": 0,\n",
              " 'Diego Guerrero': 0,\n",
              " 'Dina Nikolaou': 0,\n",
              " 'Dining with Flynn': 104,\n",
              " \"Domino's Australia\": 30,\n",
              " \"Domino's Guatemala\": 1,\n",
              " \"Domino's Mx\": 2,\n",
              " \"Domino's Pizza Nigeria\": 5,\n",
              " \"Domino's Pizza Türkiye\": 11,\n",
              " \"Domino's Pizza_1\": 60,\n",
              " \"Domino's Pizza_10\": 19,\n",
              " \"Domino's Pizza_11\": 36,\n",
              " \"Domino's Pizza_12\": 59,\n",
              " \"Domino's Pizza_13\": 59,\n",
              " \"Domino's Pizza_14\": 59,\n",
              " \"Domino's Pizza_15\": 60,\n",
              " \"Domino's Pizza_16\": 19,\n",
              " \"Domino's Pizza_17\": 60,\n",
              " \"Domino's Pizza_18\": 59,\n",
              " \"Domino's Pizza_19\": 59,\n",
              " \"Domino's Pizza_2\": 5,\n",
              " \"Domino's Pizza_20\": 6,\n",
              " \"Domino's Pizza_3\": 0,\n",
              " \"Domino's Pizza_4\": 27,\n",
              " \"Domino's Pizza_5\": 2,\n",
              " \"Domino's Pizza_6\": 8,\n",
              " \"Domino's Pizza_7\": 52,\n",
              " \"Domino's Pizza_8\": 2,\n",
              " \"Domino's Pizza_9\": 67,\n",
              " 'Donal Skehan': 18,\n",
              " 'Donatella Arpaia': 24,\n",
              " 'Donato De Santis': 20,\n",
              " 'Doug Adams': 61,\n",
              " 'Douglas Keane': 1,\n",
              " 'Duff Goldman': 0,\n",
              " \"Dunkin' Coffee\": 0,\n",
              " \"Dunkin' Donuts_1\": 0,\n",
              " \"Dunkin' Donuts_10\": 0,\n",
              " \"Dunkin' Donuts_2\": 0,\n",
              " \"Dunkin' Donuts_3\": 0,\n",
              " \"Dunkin' Donuts_4\": 0,\n",
              " \"Dunkin' Donuts_5\": 0,\n",
              " \"Dunkin' Donuts_6\": 0,\n",
              " \"Dunkin' Donuts_7\": 0,\n",
              " \"Dunkin' Donuts_8\": 0,\n",
              " \"Dunkin' Donuts_9\": 9,\n",
              " 'Eckart Witzigmann': 0,\n",
              " 'Eddie Jackson - FIT CHEF EDDIE': 2,\n",
              " \"Eddie V's Prime Seafood\": 0,\n",
              " 'Eduardo Palazuelos': 1,\n",
              " 'El Torito': 2,\n",
              " 'Elizabeth Karmel': 88,\n",
              " 'Emily Ellyn': 49,\n",
              " 'Emma Frisch': 1,\n",
              " 'Emmi CAFFÈ LATTE_1': 0,\n",
              " 'Emmi CAFFÈ LATTE_2': 1,\n",
              " 'Emmi CAFFÈ LATTE_3': 1,\n",
              " 'Emmi CAFFÈ LATTE_4': 1,\n",
              " 'Emmi CAFFÈ LATTE_5': 0,\n",
              " 'Enrique Olvera': 27,\n",
              " 'Eric Ripert': 296,\n",
              " 'Ernst Knam': 4,\n",
              " 'Eva Arguiñano': 6,\n",
              " 'FONDA MEXICANA': 0,\n",
              " 'Fabio Viviani': 12,\n",
              " \"Famous Dave's Bar-B-Que of America\": 0,\n",
              " 'Fast Ed': 0,\n",
              " 'Felicitas Pizarro': 8,\n",
              " 'Five Guys_1': 1,\n",
              " 'Five Guys_2': 0,\n",
              " 'Food Busker': 9,\n",
              " 'Four Seasons Hotels and Resorts': 0,\n",
              " 'Francesco Sole': 0,\n",
              " 'Francis Mallmann': 9,\n",
              " 'Franklin Barbecue': 0,\n",
              " 'Franklin Becker': 0,\n",
              " 'Frantzén': 0,\n",
              " 'Gandy Dancer': 25,\n",
              " 'Gandy Dancer Saloon/Oyster Bar': 25,\n",
              " 'Gary Mehigan': 6,\n",
              " 'Gaston Acurio': 0,\n",
              " 'Gavin Kaysen': 0,\n",
              " 'Gemma Stafford': 0,\n",
              " 'Geoffrey Zakarian': 148,\n",
              " 'George Pagonis': 1,\n",
              " 'Germán Martitegui': 17,\n",
              " \"Gino D'Acampo\": 1,\n",
              " 'Graham Elliot': 13,\n",
              " 'Grand Concourse': 31,\n",
              " 'Gregory Gourdet': 13,\n",
              " 'Grotto': 12,\n",
              " 'Guga Rocha': 3,\n",
              " 'Guillaume Gomez': 6,\n",
              " 'Guy Savoy': 9,\n",
              " 'Hakim Chajar': 1,\n",
              " 'Hard Rock Cafe Ibiza': 0,\n",
              " \"Hardee's\": 0,\n",
              " \"Hardee's Pakistan\": 0,\n",
              " 'Hari Ghotra': 0,\n",
              " 'Harlem EatUp': 5,\n",
              " 'Harold Dieterle': 0,\n",
              " 'Hearth': 0,\n",
              " 'Hilah Cooking': 2,\n",
              " 'Hubert Keller': 54,\n",
              " 'Hugh Acheson': 26,\n",
              " 'Iginio Massari': 0,\n",
              " 'Ignacio Mattos': 0,\n",
              " 'JW Café - JW Marriott Hotel Hanoi': 60,\n",
              " 'Jacques Pépin': 168,\n",
              " 'James Martin': 12,\n",
              " 'Jean-François Piège     -      Page Officielle': 11,\n",
              " 'Jehangir': 0,\n",
              " \"Jimmy John's\": 0,\n",
              " 'Joanna 劉韋彤': 0,\n",
              " 'Jock Zonfrillo': 0,\n",
              " 'John DeLucie': 69,\n",
              " 'John Whaite': 3,\n",
              " 'Johnny Iuzzini': 47,\n",
              " 'Johnny Prep': 0,\n",
              " 'Jose Garces': 9,\n",
              " 'Josh Elkin': 12,\n",
              " 'Josh Marks': 7,\n",
              " 'José Andrés': 130,\n",
              " 'José Santaella': 0,\n",
              " 'João Alcantara': 1,\n",
              " 'Juan Mari Arzak (Página oficial)': 8,\n",
              " 'Julia Child': 32,\n",
              " 'Juliana Lopez May': 6,\n",
              " 'Jumia Food_1': 2,\n",
              " 'Jumia Food_10': 7,\n",
              " 'Jumia Food_2': 11,\n",
              " 'Jumia Food_3': 8,\n",
              " 'Jumia Food_4': 9,\n",
              " 'Jumia Food_5': 2,\n",
              " 'Jumia Food_6': 3,\n",
              " 'Jumia Food_7': 5,\n",
              " 'Jumia Food_8': 18,\n",
              " 'Jumia Food_9': 8,\n",
              " 'Justin Warner': 3,\n",
              " 'KFC_1': 0,\n",
              " 'KFC_10': 3,\n",
              " 'KFC_11': 0,\n",
              " 'KFC_12': 3,\n",
              " 'KFC_13': 0,\n",
              " 'KFC_14': 8,\n",
              " 'KFC_15': 0,\n",
              " 'KFC_16': 18,\n",
              " 'KFC_17': 28,\n",
              " 'KFC_18': 3,\n",
              " 'KFC_19': 4,\n",
              " 'KFC_2': 0,\n",
              " 'KFC_20': 24,\n",
              " 'KFC_21': 0,\n",
              " 'KFC_22': 15,\n",
              " 'KFC_23': 12,\n",
              " 'KFC_24': 1,\n",
              " 'KFC_25': 6,\n",
              " 'KFC_26': 0,\n",
              " 'KFC_27': 21,\n",
              " 'KFC_3': 13,\n",
              " 'KFC_4': 0,\n",
              " 'KFC_5': 7,\n",
              " 'KFC_6': 5,\n",
              " 'KFC_7': 0,\n",
              " 'KFC_8': 25,\n",
              " 'KFC_9': 0,\n",
              " 'Karen Martini': 9,\n",
              " 'Karlos Arguiñano': 7,\n",
              " 'Katie Pix': 1,\n",
              " 'Ken Oringer': 41,\n",
              " 'Kevin Dundon': 4,\n",
              " 'Kirti Bhoutika': 0,\n",
              " 'Krispy Kreme UK': 0,\n",
              " 'Kristen Kish': 50,\n",
              " 'Kunal Kapur': 8,\n",
              " 'La Griglia': 0,\n",
              " 'Lee Anne Wong': 4,\n",
              " 'Leslie Gilliams': 7,\n",
              " 'Levi Eirinberg': 14,\n",
              " \"Lillie's Asian Cuisine\": 0,\n",
              " 'Lindsay Ann Bakes': 0,\n",
              " 'Logan Junior Chef': 461,\n",
              " 'Los Petersen Cocineros': 3,\n",
              " 'Ludo Lefebvre': 26,\n",
              " 'Luke Thomas': 0,\n",
              " 'Luna Grill': 0,\n",
              " 'Lío': 0,\n",
              " 'MASAの料理ABC': 0,\n",
              " 'Madison Cowan': 0,\n",
              " 'Magnum_1': 0,\n",
              " 'Magnum_2': 3,\n",
              " 'Magnum_3': 0,\n",
              " 'Magnum_4': 0,\n",
              " 'Magnum_5': 0,\n",
              " 'Magnum_6': 0,\n",
              " 'Magnum_7': 0,\n",
              " 'Maneet Chauhan': 1,\n",
              " \"Manjula's Kitchen - Indian Vegetarian Recipes\": 4,\n",
              " 'Manu Feildel': 16,\n",
              " 'Marc Forgione': 4,\n",
              " 'Marc Veyrat': 1,\n",
              " 'Marcel Vigneron': 4,\n",
              " 'Marcus Samuelsson': 115,\n",
              " 'Maria Loi': 0,\n",
              " 'Martha Collison': 0,\n",
              " 'Martín Berasategui': 3,\n",
              " 'Maru Botana': 1,\n",
              " 'Mary Nolan, Bon Appétit Executive Chef': 0,\n",
              " 'Massimo Mele': 10,\n",
              " 'Mathieu Pacaud': 0,\n",
              " 'Matt Moran': 12,\n",
              " 'Matthew Kenney': 0,\n",
              " \"McDonald's Deutschland Karriere\": 3,\n",
              " \"McDonald's Japan\": 9,\n",
              " \"McDonald's Paraguay\": 3,\n",
              " \"McDonald's República Dominicana\": 19,\n",
              " \"McDonald's Vietnam\": 0,\n",
              " \"McDonald's_1\": 40,\n",
              " \"McDonald's_10\": 9,\n",
              " \"McDonald's_11\": 1,\n",
              " \"McDonald's_12\": 9,\n",
              " \"McDonald's_13\": 5,\n",
              " \"McDonald's_14\": 6,\n",
              " \"McDonald's_15\": 5,\n",
              " \"McDonald's_16\": 3,\n",
              " \"McDonald's_17\": 3,\n",
              " \"McDonald's_18\": 27,\n",
              " \"McDonald's_19\": 5,\n",
              " \"McDonald's_2\": 17,\n",
              " \"McDonald's_20\": 0,\n",
              " \"McDonald's_21\": 7,\n",
              " \"McDonald's_22\": 9,\n",
              " \"McDonald's_23\": 9,\n",
              " \"McDonald's_24\": 0,\n",
              " \"McDonald's_25\": 10,\n",
              " \"McDonald's_26\": 1,\n",
              " \"McDonald's_27\": 1,\n",
              " \"McDonald's_28\": 5,\n",
              " \"McDonald's_29\": 62,\n",
              " \"McDonald's_3\": 0,\n",
              " \"McDonald's_30\": 65,\n",
              " \"McDonald's_31\": 2,\n",
              " \"McDonald's_32\": 5,\n",
              " \"McDonald's_33\": 12,\n",
              " \"McDonald's_34\": 1,\n",
              " \"McDonald's_35\": 3,\n",
              " \"McDonald's_36\": 5,\n",
              " \"McDonald's_37\": 1,\n",
              " \"McDonald's_38\": 2,\n",
              " \"McDonald's_39\": 12,\n",
              " \"McDonald's_4\": 2,\n",
              " \"McDonald's_40\": 15,\n",
              " \"McDonald's_41\": 1,\n",
              " \"McDonald's_42\": 6,\n",
              " \"McDonald's_43\": 11,\n",
              " \"McDonald's_44\": 0,\n",
              " \"McDonald's_45\": 4,\n",
              " \"McDonald's_46\": 10,\n",
              " \"McDonald's_47\": 1,\n",
              " \"McDonald's_48\": 0,\n",
              " \"McDonald's_49\": 1,\n",
              " \"McDonald's_5\": 4,\n",
              " \"McDonald's_50\": 3,\n",
              " \"McDonald's_51\": 38,\n",
              " \"McDonald's_52\": 9,\n",
              " \"McDonald's_53\": 11,\n",
              " \"McDonald's_54\": 2,\n",
              " \"McDonald's_55\": 11,\n",
              " \"McDonald's_56\": 11,\n",
              " \"McDonald's_57\": 1,\n",
              " \"McDonald's_58\": 0,\n",
              " \"McDonald's_59\": 0,\n",
              " \"McDonald's_6\": 122,\n",
              " \"McDonald's_7\": 8,\n",
              " \"McDonald's_8\": 10,\n",
              " \"McDonald's_9\": 1,\n",
              " 'Mei Lin': 65,\n",
              " 'Melissa King': 35,\n",
              " \"Meriwether's\": 25,\n",
              " 'Michael Lomonaco': 0,\n",
              " 'Michael White': 13,\n",
              " 'Michel Nischan': 93,\n",
              " 'Mirko Ronzoni': 8,\n",
              " 'Monti Carlo': 6,\n",
              " \"Morton's The Steakhouse\": 0,\n",
              " 'My Cupcake Addiction': 10,\n",
              " \"Nando's PERi-PERi\": 0,\n",
              " \"Nando's_1\": 26,\n",
              " \"Nando's_10\": 3,\n",
              " \"Nando's_11\": 22,\n",
              " \"Nando's_12\": 3,\n",
              " \"Nando's_13\": 16,\n",
              " \"Nando's_14\": 10,\n",
              " \"Nando's_15\": 3,\n",
              " \"Nando's_2\": 5,\n",
              " \"Nando's_3\": 13,\n",
              " \"Nando's_4\": 0,\n",
              " \"Nando's_5\": 6,\n",
              " \"Nando's_6\": 11,\n",
              " \"Nando's_7\": 3,\n",
              " \"Nando's_8\": 3,\n",
              " \"Nando's_9\": 20,\n",
              " 'Narda Lepes': 29,\n",
              " \"Nicko's Kitchen\": 3,\n",
              " 'Nikki Dinki': 6,\n",
              " 'Niko Romito': 1,\n",
              " 'NishaMadhulika': 0,\n",
              " 'Noma': 2,\n",
              " 'Norbert Tarayre': 0,\n",
              " 'Noëmie Honiat Top Chef': 0,\n",
              " 'Nutella Cafe Chicago': 0,\n",
              " 'Nyesha Arrington': 0,\n",
              " 'Ochikeron': 0,\n",
              " 'Ogro Jimmy': 2,\n",
              " 'Olive Garden': 0,\n",
              " 'Olive Garden México': 1,\n",
              " 'On The Border': 0,\n",
              " 'Opry City Stage': 0,\n",
              " 'Outback Steakhouse': 4,\n",
              " 'Outlander Kitchen': 0,\n",
              " 'PROPERCORN': 0,\n",
              " 'Pablo Massey': 9,\n",
              " \"Papacho's\": 0,\n",
              " 'Pasqualino Barbasso': 6,\n",
              " 'Pat Neely': 1,\n",
              " 'Paul Bocuse': 24,\n",
              " 'Paul Hollywood': 3,\n",
              " 'Paul Qui': 0,\n",
              " 'Pedro Lambertini': 0,\n",
              " \"Peohe's\": 0,\n",
              " 'Per Se': 8,\n",
              " 'Pescaria': 1,\n",
              " 'Peter Kuruvita': 1,\n",
              " 'Pierre Gagnaire': 0,\n",
              " 'Pierre Sang Boyer Officiel': 4,\n",
              " 'Pollo Campero El Salvador': 0,\n",
              " 'Pollo Campero Guatemala': 0,\n",
              " 'Princi': 1,\n",
              " 'Puesto': 0,\n",
              " 'Quique Dacosta': 2,\n",
              " 'RED Sushi and Hibachi Grill': 0,\n",
              " 'RIBS - True American Barbecue': 0,\n",
              " 'Rachel Allen': 4,\n",
              " 'Ranveer Brar': 1,\n",
              " 'Ravintola Salve': 0,\n",
              " 'Raymond Blanc': 8,\n",
              " 'Red Lobster México': 1,\n",
              " 'Red Robin Gourmet Burgers': 0,\n",
              " 'Relais & Châteaux_1': 0,\n",
              " 'Relais & Châteaux_2': 1,\n",
              " 'René Redzepi': 155,\n",
              " 'Ricardo Cuisine': 1,\n",
              " 'River Crab Blue Water Inn': 24,\n",
              " 'Robin Miller': 166,\n",
              " 'Roblé': 0,\n",
              " 'Roxanne Spruance': 0,\n",
              " 'Roy Choi': 21,\n",
              " 'Roy Yamaguchi': 5,\n",
              " \"Roy's Restaurant\": 1,\n",
              " 'Russell Jackson': 0,\n",
              " 'SORTEDfood': 5,\n",
              " 'Sam Choy': 0,\n",
              " 'Samin Nosrat': 2,\n",
              " 'Sang Yoon': 15,\n",
              " 'Sanjeev Kapoor': 8,\n",
              " 'Santiago Giorgini': 6,\n",
              " 'Saransh Goila': 4,\n",
              " 'Scott Conant': 319,\n",
              " 'Seamus Mullen': 26,\n",
              " 'Seasons 52': 0,\n",
              " 'Second Floor Cafe 貳樓餐飲': 0,\n",
              " 'Shane Delia': 4,\n",
              " 'Simon Bryant': 1,\n",
              " 'Simon Gault': 3,\n",
              " 'Skinny Chef': 0,\n",
              " 'Sonia Peronaci': 2,\n",
              " 'Spago Las Vegas': 5,\n",
              " 'Spike Mendelsohn': 4,\n",
              " \"Steak 'n Shake\": 0,\n",
              " 'Stephanie Izard': 6,\n",
              " 'Steve Konopelski': 0,\n",
              " 'Subway': 0,\n",
              " 'Subway, Cayman Islands': 0,\n",
              " 'Susan Feniger': 33,\n",
              " 'Susur Lee': 1,\n",
              " 'Suzanne Goin': 0,\n",
              " 'T-rex Cafe': 0,\n",
              " 'Taco Bell': 21,\n",
              " 'Taco Bell Careers': 0,\n",
              " 'Taco Bell Costa Rica': 14,\n",
              " 'Taco Bell Cyprus': 21,\n",
              " 'Taco Bell El Salvador': 10,\n",
              " 'Taco Bell Guatemala': 15,\n",
              " 'Taco Bell India': 3,\n",
              " 'Taco Bell Kuwait': 3,\n",
              " 'Taco Bell Panamá': 14,\n",
              " 'Taco Bell Rep Dom': 12,\n",
              " 'Taco Bell UK': 8,\n",
              " 'Taste Of Paris Official': 6,\n",
              " 'Taste of London': 0,\n",
              " 'Telepizza Guatemala': 1,\n",
              " 'Texas Roadhouse': 0,\n",
              " 'The Edgy Veg': 0,\n",
              " 'The French Laundry': 9,\n",
              " 'The Habit Burger Grill': 0,\n",
              " 'The Tuscan Gun': 1,\n",
              " 'Thierry Rautureau': 0,\n",
              " 'Thomas Keller': 1,\n",
              " 'Tim Love': 14,\n",
              " 'Tom Aikens': 83,\n",
              " 'Tom Colicchio': 140,\n",
              " 'Tom Douglas Restaurants': 0,\n",
              " \"Tom's Kitchen\": 0,\n",
              " 'UMass Dining': 0,\n",
              " 'Valentin Neraudeau': 3,\n",
              " 'Vegan Black Metal Chef': 27,\n",
              " 'Veggie Grill': 0,\n",
              " 'Vicky Ratnani': 2,\n",
              " 'Virginia Willis': 60,\n",
              " 'Whataburger': 0,\n",
              " 'Wings': 1,\n",
              " 'Wolfgang Puck': 8,\n",
              " \"Xi'an Famous Foods 西安名吃\": 0,\n",
              " 'YANNICK ALLENO OFFICIEL': 5,\n",
              " 'Yard House': 0,\n",
              " 'Zac Kara': 4,\n",
              " 'Zoёs Kitchen': 0,\n",
              " 'ad hoc & addendum': 1,\n",
              " 'foodpanda - 空腹熊貓': 0,\n",
              " 'foodpanda / hellofood': 5,\n",
              " 'foodpanda_1': 0,\n",
              " 'foodpanda_2': 0,\n",
              " 'foodpanda_3': 0,\n",
              " 'foodpanda_4': 0,\n",
              " 'foodpanda_5': 0,\n",
              " 'foodpanda_6': 0,\n",
              " 'foodpanda_7': 0,\n",
              " 'foodpanda_8': 0,\n",
              " 'hellofood': 0,\n",
              " 'Éric Frechon': 0,\n",
              " 'משה שגב / Moshe Segev': 0,\n",
              " 'タコベル ジャパン\\u3000Taco Bell Japan': 1,\n",
              " '翠華餐廳 Tsui Wah Restaurant': 0,\n",
              " '達美樂披薩': 11,\n",
              " '麥當勞': 2,\n",
              " '도미노피자(Dominostory)': 4,\n",
              " \"맥도날드 (McDonald's)\": 0}"
            ]
          },
          "metadata": {
            "tags": []
          },
          "execution_count": 522
        }
      ]
    },
    {
      "cell_type": "markdown",
      "metadata": {
        "id": "5KNFNIWLDt7z"
      },
      "source": [
        "\\"
      ]
    },
    {
      "cell_type": "markdown",
      "metadata": {
        "id": "5GtY7sh6DuFl"
      },
      "source": [
        "## Centrality\r\n",
        "\r\n"
      ]
    },
    {
      "cell_type": "code",
      "metadata": {
        "id": "F3mhnNFPgPhh"
      },
      "source": [
        "deg_centr = nx.degree_centrality(G)\r\n"
      ],
      "execution_count": 529,
      "outputs": []
    },
    {
      "cell_type": "code",
      "metadata": {
        "id": "R8x--vrLCPLa"
      },
      "source": [
        "eigen = nx.eigenvector_centrality(G)\r\n",
        "#eigen"
      ],
      "execution_count": 524,
      "outputs": []
    },
    {
      "cell_type": "code",
      "metadata": {
        "id": "ZXafFd7cjc9_"
      },
      "source": [
        "pagerank = nx.pagerank(G)\r\n",
        "#pagerank"
      ],
      "execution_count": 525,
      "outputs": []
    },
    {
      "cell_type": "code",
      "metadata": {
        "id": "y3QaV4BvDc-p"
      },
      "source": [
        "betweenesCentrality = nx.betweenness_centrality(G)\r\n",
        "#betweenesCentrality"
      ],
      "execution_count": 526,
      "outputs": []
    },
    {
      "cell_type": "code",
      "metadata": {
        "id": "wkLyZWZZDldG"
      },
      "source": [
        ""
      ],
      "execution_count": 526,
      "outputs": []
    },
    {
      "cell_type": "markdown",
      "metadata": {
        "id": "1VmuowQtE_jJ"
      },
      "source": [
        "\\"
      ]
    },
    {
      "cell_type": "markdown",
      "metadata": {
        "id": "K9YtqVmfFAjk"
      },
      "source": [
        "## Communities\r\n"
      ]
    },
    {
      "cell_type": "code",
      "metadata": {
        "id": "Rs36FKE2FAAz"
      },
      "source": [
        "from networkx.algorithms import community\r\n",
        "\r\n",
        "greedy = community.greedy_modularity_communities(G)"
      ],
      "execution_count": 527,
      "outputs": []
    },
    {
      "cell_type": "code",
      "metadata": {
        "colab": {
          "base_uri": "https://localhost:8080/"
        },
        "id": "dpX6TPImFXDd",
        "outputId": "6f23a420-5b71-44b8-9de0-e3109d470a96"
      },
      "source": [
        "c = list(greedy)\r\n",
        "for i in range(0, len(c)):\r\n",
        "    print(len(c[i]))"
      ],
      "execution_count": 528,
      "outputs": [
        {
          "output_type": "stream",
          "text": [
            "164\n",
            "72\n",
            "53\n",
            "46\n",
            "37\n",
            "36\n",
            "33\n",
            "31\n",
            "31\n",
            "30\n",
            "17\n",
            "17\n",
            "13\n",
            "6\n",
            "6\n",
            "6\n",
            "5\n",
            "5\n",
            "5\n",
            "3\n",
            "2\n",
            "2\n"
          ],
          "name": "stdout"
        }
      ]
    },
    {
      "cell_type": "code",
      "metadata": {
        "id": "0RmeDUIiFfhd"
      },
      "source": [
        ""
      ],
      "execution_count": 528,
      "outputs": []
    }
  ]
}