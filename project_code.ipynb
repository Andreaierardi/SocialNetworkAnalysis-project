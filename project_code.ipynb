{
  "nbformat": 4,
  "nbformat_minor": 0,
  "metadata": {
    "colab": {
      "name": "project_code.ipynb",
      "provenance": [],
      "collapsed_sections": [],
      "authorship_tag": "ABX9TyOcvf36GWDZzB8X27yL0u5r",
      "include_colab_link": true
    },
    "kernelspec": {
      "name": "python3",
      "display_name": "Python 3"
    }
  },
  "cells": [
    {
      "cell_type": "markdown",
      "metadata": {
        "id": "view-in-github",
        "colab_type": "text"
      },
      "source": [
        "<a href=\"https://colab.research.google.com/github/Andreaierardi/SocialNetworkAnalysis-project/blob/main/project_code.ipynb\" target=\"_parent\"><img src=\"https://colab.research.google.com/assets/colab-badge.svg\" alt=\"Open In Colab\"/></a>"
      ]
    },
    {
      "cell_type": "markdown",
      "metadata": {
        "id": "emEG98GnrQo6"
      },
      "source": [
        "# **Social Network Analysis Project**\n",
        "\n",
        "> ## **University of Milan** - **DataScience and Economics**\n",
        "\n",
        "<br>\n",
        "\n",
        "#### Author : **Andrea Ierardi**\n",
        "\n",
        "<br>\n",
        "\n",
        "\n",
        "---\n",
        "\n"
      ]
    },
    {
      "cell_type": "markdown",
      "metadata": {
        "id": "7dDSzSi-p7f8"
      },
      "source": [
        "\n",
        " <br>\n",
        "\n",
        "\n",
        "\n",
        "\n"
      ]
    },
    {
      "cell_type": "markdown",
      "metadata": {
        "id": "D_1SNIKKje5V"
      },
      "source": [
        "## Dataset\n",
        "### Description\n",
        "\n",
        "Data collected about Facebook pages (November 2017). These datasets represent blue verified Facebook page networks of different categories. Nodes represent the pages and edges are mutual likes among them.\n",
        "\n",
        "\n",
        "\n",
        "\n",
        "\n"
      ]
    },
    {
      "cell_type": "markdown",
      "metadata": {
        "id": "-EnzyahlphFf"
      },
      "source": [
        "\n",
        " <br>\n",
        "\n",
        "\n",
        "\n",
        "\n"
      ]
    },
    {
      "cell_type": "code",
      "metadata": {
        "id": "YKVanDJn21rf"
      },
      "source": [
        "import pandas as pd\n",
        "nodes = pd.read_csv('https://raw.githubusercontent.com/Andreaierardi/SocialNetworkAnalysis-project/main/dataset/fb-pages-food.csv',sep=\";\")\n",
        "\n",
        "edges = pd.read_csv('https://raw.githubusercontent.com/Andreaierardi/SocialNetworkAnalysis-project/main/dataset/fb-pages-food.edges')\n"
      ],
      "execution_count": 19,
      "outputs": []
    },
    {
      "cell_type": "code",
      "metadata": {
        "id": "wdH8yTmE3XG0",
        "colab": {
          "base_uri": "https://localhost:8080/",
          "height": 414
        },
        "outputId": "298b91a0-2458-4254-ab4f-880fb6dee54e"
      },
      "source": [
        "edges"
      ],
      "execution_count": 20,
      "outputs": [
        {
          "output_type": "execute_result",
          "data": {
            "text/html": [
              "<div>\n",
              "<style scoped>\n",
              "    .dataframe tbody tr th:only-of-type {\n",
              "        vertical-align: middle;\n",
              "    }\n",
              "\n",
              "    .dataframe tbody tr th {\n",
              "        vertical-align: top;\n",
              "    }\n",
              "\n",
              "    .dataframe thead th {\n",
              "        text-align: right;\n",
              "    }\n",
              "</style>\n",
              "<table border=\"1\" class=\"dataframe\">\n",
              "  <thead>\n",
              "    <tr style=\"text-align: right;\">\n",
              "      <th></th>\n",
              "      <th>source</th>\n",
              "      <th>target</th>\n",
              "    </tr>\n",
              "  </thead>\n",
              "  <tbody>\n",
              "    <tr>\n",
              "      <th>0</th>\n",
              "      <td>0</td>\n",
              "      <td>276</td>\n",
              "    </tr>\n",
              "    <tr>\n",
              "      <th>1</th>\n",
              "      <td>0</td>\n",
              "      <td>58</td>\n",
              "    </tr>\n",
              "    <tr>\n",
              "      <th>2</th>\n",
              "      <td>0</td>\n",
              "      <td>132</td>\n",
              "    </tr>\n",
              "    <tr>\n",
              "      <th>3</th>\n",
              "      <td>0</td>\n",
              "      <td>603</td>\n",
              "    </tr>\n",
              "    <tr>\n",
              "      <th>4</th>\n",
              "      <td>0</td>\n",
              "      <td>398</td>\n",
              "    </tr>\n",
              "    <tr>\n",
              "      <th>...</th>\n",
              "      <td>...</td>\n",
              "      <td>...</td>\n",
              "    </tr>\n",
              "    <tr>\n",
              "      <th>2097</th>\n",
              "      <td>597</td>\n",
              "      <td>611</td>\n",
              "    </tr>\n",
              "    <tr>\n",
              "      <th>2098</th>\n",
              "      <td>601</td>\n",
              "      <td>603</td>\n",
              "    </tr>\n",
              "    <tr>\n",
              "      <th>2099</th>\n",
              "      <td>601</td>\n",
              "      <td>616</td>\n",
              "    </tr>\n",
              "    <tr>\n",
              "      <th>2100</th>\n",
              "      <td>603</td>\n",
              "      <td>616</td>\n",
              "    </tr>\n",
              "    <tr>\n",
              "      <th>2101</th>\n",
              "      <td>311</td>\n",
              "      <td>613</td>\n",
              "    </tr>\n",
              "  </tbody>\n",
              "</table>\n",
              "<p>2102 rows × 2 columns</p>\n",
              "</div>"
            ],
            "text/plain": [
              "      source  target\n",
              "0          0     276\n",
              "1          0      58\n",
              "2          0     132\n",
              "3          0     603\n",
              "4          0     398\n",
              "...      ...     ...\n",
              "2097     597     611\n",
              "2098     601     603\n",
              "2099     601     616\n",
              "2100     603     616\n",
              "2101     311     613\n",
              "\n",
              "[2102 rows x 2 columns]"
            ]
          },
          "metadata": {
            "tags": []
          },
          "execution_count": 20
        }
      ]
    },
    {
      "cell_type": "code",
      "metadata": {
        "colab": {
          "base_uri": "https://localhost:8080/",
          "height": 414
        },
        "id": "oLNCmyPNI9hM",
        "outputId": "c47ed364-7e2a-4bf2-9be7-dc97319211a5"
      },
      "source": [
        "nodes"
      ],
      "execution_count": 21,
      "outputs": [
        {
          "output_type": "execute_result",
          "data": {
            "text/html": [
              "<div>\n",
              "<style scoped>\n",
              "    .dataframe tbody tr th:only-of-type {\n",
              "        vertical-align: middle;\n",
              "    }\n",
              "\n",
              "    .dataframe tbody tr th {\n",
              "        vertical-align: top;\n",
              "    }\n",
              "\n",
              "    .dataframe thead th {\n",
              "        text-align: right;\n",
              "    }\n",
              "</style>\n",
              "<table border=\"1\" class=\"dataframe\">\n",
              "  <thead>\n",
              "    <tr style=\"text-align: right;\">\n",
              "      <th></th>\n",
              "      <th>name</th>\n",
              "      <th>id</th>\n",
              "    </tr>\n",
              "  </thead>\n",
              "  <tbody>\n",
              "    <tr>\n",
              "      <th>0</th>\n",
              "      <td>Josh Marks</td>\n",
              "      <td>386</td>\n",
              "    </tr>\n",
              "    <tr>\n",
              "      <th>1</th>\n",
              "      <td>Blue Ribbon Restaurants</td>\n",
              "      <td>473</td>\n",
              "    </tr>\n",
              "    <tr>\n",
              "      <th>2</th>\n",
              "      <td>Pat Neely</td>\n",
              "      <td>1</td>\n",
              "    </tr>\n",
              "    <tr>\n",
              "      <th>3</th>\n",
              "      <td>La Griglia</td>\n",
              "      <td>542</td>\n",
              "    </tr>\n",
              "    <tr>\n",
              "      <th>4</th>\n",
              "      <td>Jose Garces</td>\n",
              "      <td>189</td>\n",
              "    </tr>\n",
              "    <tr>\n",
              "      <th>...</th>\n",
              "      <td>...</td>\n",
              "      <td>...</td>\n",
              "    </tr>\n",
              "    <tr>\n",
              "      <th>615</th>\n",
              "      <td>Jumia Food</td>\n",
              "      <td>163</td>\n",
              "    </tr>\n",
              "    <tr>\n",
              "      <th>616</th>\n",
              "      <td>Luke Thomas</td>\n",
              "      <td>381</td>\n",
              "    </tr>\n",
              "    <tr>\n",
              "      <th>617</th>\n",
              "      <td>Clodagh McKenna</td>\n",
              "      <td>140</td>\n",
              "    </tr>\n",
              "    <tr>\n",
              "      <th>618</th>\n",
              "      <td>Chef Michelle Bernstein</td>\n",
              "      <td>157</td>\n",
              "    </tr>\n",
              "    <tr>\n",
              "      <th>619</th>\n",
              "      <td>SORTEDfood</td>\n",
              "      <td>114</td>\n",
              "    </tr>\n",
              "  </tbody>\n",
              "</table>\n",
              "<p>620 rows × 2 columns</p>\n",
              "</div>"
            ],
            "text/plain": [
              "                        name   id\n",
              "0                 Josh Marks  386\n",
              "1    Blue Ribbon Restaurants  473\n",
              "2                  Pat Neely    1\n",
              "3                 La Griglia  542\n",
              "4                Jose Garces  189\n",
              "..                       ...  ...\n",
              "615               Jumia Food  163\n",
              "616              Luke Thomas  381\n",
              "617          Clodagh McKenna  140\n",
              "618  Chef Michelle Bernstein  157\n",
              "619               SORTEDfood  114\n",
              "\n",
              "[620 rows x 2 columns]"
            ]
          },
          "metadata": {
            "tags": []
          },
          "execution_count": 21
        }
      ]
    },
    {
      "cell_type": "code",
      "metadata": {
        "id": "rWB-XdMBJEx2"
      },
      "source": [
        "from collections import Counter # Counter counts the number of occurrences of each item\n",
        "from itertools import tee, count\n",
        "def uniquify(seq, suffs = count(1)):\n",
        "    \"\"\"Make all the items unique by adding a suffix (1, 2, etc).\n",
        "\n",
        "    `seq` is mutable sequence of strings.\n",
        "    `suffs` is an optional alternative suffix iterable.\n",
        "    \"\"\"\n",
        "    not_unique = [k for k,v in Counter(seq).items() if v>1] # so we have: ['name', 'zip']\n",
        "    # suffix generator dict - e.g., {'name': <my_gen>, 'zip': <my_gen>}\n",
        "    suff_gens = dict(zip(not_unique, tee(suffs, len(not_unique))))  \n",
        "    for idx,s in enumerate(seq):\n",
        "        try:\n",
        "            suffix = str(next(suff_gens[s]))\n",
        "        except KeyError:\n",
        "            # s was unique\n",
        "            continue\n",
        "        else:\n",
        "            seq[idx] += suffix\n",
        "    "
      ],
      "execution_count": 22,
      "outputs": []
    },
    {
      "cell_type": "code",
      "metadata": {
        "colab": {
          "base_uri": "https://localhost:8080/"
        },
        "id": "rUoGw9ldJR8S",
        "outputId": "9f183d79-75d6-4ae9-e8fb-202a7367d0bd"
      },
      "source": [
        "names = list(nodes.name)\n",
        "uniquify(names, (f'_{x!s}' for x in range(1, 100)))\n",
        "names[0:10]"
      ],
      "execution_count": 23,
      "outputs": [
        {
          "output_type": "execute_result",
          "data": {
            "text/plain": [
              "['Josh Marks',\n",
              " 'Blue Ribbon Restaurants',\n",
              " 'Pat Neely',\n",
              " 'La Griglia',\n",
              " 'Jose Garces',\n",
              " 'Zac Kara',\n",
              " 'Big Fish Seafood Bistro_1',\n",
              " 'Tom Aikens',\n",
              " 'The Habit Burger Grill',\n",
              " 'Chef Sheldon Simeon']"
            ]
          },
          "metadata": {
            "tags": []
          },
          "execution_count": 23
        }
      ]
    },
    {
      "cell_type": "code",
      "metadata": {
        "colab": {
          "base_uri": "https://localhost:8080/"
        },
        "id": "UMZPXM7NK_7V",
        "outputId": "4110e59f-ee85-4064-c9b8-1584158d50b6"
      },
      "source": [
        "# Find the name of the column by index\n",
        "n = nodes.columns[0]\n",
        "\n",
        "# Drop that column\n",
        "nodes.drop(n, axis = 1, inplace = True)\n",
        "\n",
        "# Put whatever series you want in its place\n",
        "nodes[n] = names\n",
        "\n",
        "list(nodes.name)[0:20]"
      ],
      "execution_count": 24,
      "outputs": [
        {
          "output_type": "execute_result",
          "data": {
            "text/plain": [
              "['Josh Marks',\n",
              " 'Blue Ribbon Restaurants',\n",
              " 'Pat Neely',\n",
              " 'La Griglia',\n",
              " 'Jose Garces',\n",
              " 'Zac Kara',\n",
              " 'Big Fish Seafood Bistro_1',\n",
              " 'Tom Aikens',\n",
              " 'The Habit Burger Grill',\n",
              " 'Chef Sheldon Simeon',\n",
              " 'Ochikeron',\n",
              " 'Taco Bell Cyprus',\n",
              " 'Christophe Michalak',\n",
              " \"Peohe's\",\n",
              " 'Destino Ibiza',\n",
              " 'KFC_1',\n",
              " 'Chef Shirley Chung',\n",
              " 'Doug Adams',\n",
              " 'משה שגב / Moshe Segev',\n",
              " 'Angel Leon Gonzalez']"
            ]
          },
          "metadata": {
            "tags": []
          },
          "execution_count": 24
        }
      ]
    },
    {
      "cell_type": "code",
      "metadata": {
        "id": "V433kxvejlcg"
      },
      "source": [
        "# Nodes as dictionary\n",
        "nodes_dict = {}\n",
        "for (n, id) in zip(nodes[\"name\"],nodes[\"id\"]):\n",
        " # print(n, \"+\", id)\n",
        "  nodes_dict[id] = n"
      ],
      "execution_count": 25,
      "outputs": []
    },
    {
      "cell_type": "code",
      "metadata": {
        "colab": {
          "base_uri": "https://localhost:8080/"
        },
        "id": "dMT4PI9vHk_L",
        "outputId": "389ad7d9-4065-4111-d437-52e808b08e03"
      },
      "source": [
        "list(nodes_dict.values())[0:20]"
      ],
      "execution_count": 26,
      "outputs": [
        {
          "output_type": "execute_result",
          "data": {
            "text/plain": [
              "['Josh Marks',\n",
              " 'Blue Ribbon Restaurants',\n",
              " 'Pat Neely',\n",
              " 'La Griglia',\n",
              " 'Jose Garces',\n",
              " 'Zac Kara',\n",
              " 'Big Fish Seafood Bistro_1',\n",
              " 'Tom Aikens',\n",
              " 'The Habit Burger Grill',\n",
              " 'Chef Sheldon Simeon',\n",
              " 'Ochikeron',\n",
              " 'Taco Bell Cyprus',\n",
              " 'Christophe Michalak',\n",
              " \"Peohe's\",\n",
              " 'Destino Ibiza',\n",
              " 'KFC_1',\n",
              " 'Chef Shirley Chung',\n",
              " 'Doug Adams',\n",
              " 'משה שגב / Moshe Segev',\n",
              " 'Angel Leon Gonzalez']"
            ]
          },
          "metadata": {
            "tags": []
          },
          "execution_count": 26
        }
      ]
    },
    {
      "cell_type": "markdown",
      "metadata": {
        "id": "Hukazbol5IQq"
      },
      "source": [
        "\n",
        " <br>\n",
        "\n",
        "\n",
        "\n"
      ]
    },
    {
      "cell_type": "markdown",
      "metadata": {
        "id": "KvT9Qpmg4nvI"
      },
      "source": [
        "## Network Building\n",
        "\n"
      ]
    },
    {
      "cell_type": "code",
      "metadata": {
        "id": "Zn5pk5DSlpTX"
      },
      "source": [
        "import networkx as nx\n",
        "from statsmodels.distributions.empirical_distribution import ECDF\n",
        "import numpy as np\n",
        "import matplotlib.pyplot as plt"
      ],
      "execution_count": 27,
      "outputs": []
    },
    {
      "cell_type": "code",
      "metadata": {
        "id": "k9RHnVXFme7a"
      },
      "source": [
        "G = nx.Graph()\n",
        "\n",
        "for e in edges.values.tolist():\n",
        "  G.add_edge(e[0],e[1])"
      ],
      "execution_count": 28,
      "outputs": []
    },
    {
      "cell_type": "code",
      "metadata": {
        "id": "0Nzgzmp-kN_d"
      },
      "source": [
        "H = nx.relabel_nodes(G, nodes_dict)\n",
        "len(sorted(H))\n",
        "\n",
        "G = H"
      ],
      "execution_count": 29,
      "outputs": []
    },
    {
      "cell_type": "code",
      "metadata": {
        "colab": {
          "base_uri": "https://localhost:8080/"
        },
        "id": "_75ZAAB6nDDX",
        "outputId": "974b0139-de41-48a4-848d-923bc86c1dd4"
      },
      "source": [
        "print('Number of nodes: {} - Number of links:{}'.format(G.order(),G.size()))\n"
      ],
      "execution_count": 30,
      "outputs": [
        {
          "output_type": "stream",
          "text": [
            "Number of nodes: 620 - Number of links:2102\n"
          ],
          "name": "stdout"
        }
      ]
    },
    {
      "cell_type": "code",
      "metadata": {
        "id": "jtD8RPj-m65g",
        "colab": {
          "base_uri": "https://localhost:8080/",
          "height": 247
        },
        "outputId": "b92e0c91-335e-4408-a8f4-3aa4875d02bd"
      },
      "source": [
        "# draw the graph\n",
        "pos = nx.spring_layout(G)\n",
        "\n",
        "nx.draw_networkx_nodes(G, pos, node_size=20, label = names)\n",
        "nx.draw_networkx_edges(G, pos, alpha=0.5)\n",
        "plt.show()\n"
      ],
      "execution_count": 31,
      "outputs": [
        {
          "output_type": "display_data",
          "data": {
            "image/png": "[encoded data removed]",
            "text/plain": [
              "<Figure size 432x288 with 1 Axes>"
            ]
          },
          "metadata": {
            "tags": []
          }
        }
      ]
    },
    {
      "cell_type": "code",
      "metadata": {
        "id": "opsEWUQ7ps2s",
        "colab": {
          "base_uri": "https://localhost:8080/",
          "height": 247
        },
        "outputId": "49f1e562-95fe-471a-dcfd-f45247486eb3"
      },
      "source": [
        "import warnings\n",
        "warnings.filterwarnings(\"ignore\", category=RuntimeWarning)\n",
        "\n",
        "# draw the graph with labels\n",
        "pos = nx.spring_layout(G)\n",
        "\n",
        "nx.draw_networkx_nodes(G, pos, node_size=20, label = names)\n",
        "nx.draw_networkx_edges(G, pos, alpha=0.5)\n",
        "nx.draw_networkx_labels(G,pos,font_size=3,font_color='r')\n",
        "plt.show()"
      ],
      "execution_count": 32,
      "outputs": [
        {
          "output_type": "display_data",
          "data": {
            "image/png": "[encoded data removed]",
            "text/plain": [
              "<Figure size 432x288 with 1 Axes>"
            ]
          },
          "metadata": {
            "tags": []
          }
        }
      ]
    },
    {
      "cell_type": "code",
      "metadata": {
        "colab": {
          "base_uri": "https://localhost:8080/",
          "height": 414
        },
        "id": "9GNylBO2MU5v",
        "outputId": "554803ba-3963-470f-f8f3-b4be48b9d0a3"
      },
      "source": [
        "node_deg_df =  pd.DataFrame.from_dict(dict(G.degree()),orient=\"index\", columns=['degree']).reset_index()\n",
        "node_deg_df.columns = ['name','degree']\n",
        "node_deg_df = nodes.merge(node_deg_df,on='name',)\n",
        "node_deg_df"
      ],
      "execution_count": 33,
      "outputs": [
        {
          "output_type": "execute_result",
          "data": {
            "text/html": [
              "<div>\n",
              "<style scoped>\n",
              "    .dataframe tbody tr th:only-of-type {\n",
              "        vertical-align: middle;\n",
              "    }\n",
              "\n",
              "    .dataframe tbody tr th {\n",
              "        vertical-align: top;\n",
              "    }\n",
              "\n",
              "    .dataframe thead th {\n",
              "        text-align: right;\n",
              "    }\n",
              "</style>\n",
              "<table border=\"1\" class=\"dataframe\">\n",
              "  <thead>\n",
              "    <tr style=\"text-align: right;\">\n",
              "      <th></th>\n",
              "      <th>id</th>\n",
              "      <th>name</th>\n",
              "      <th>degree</th>\n",
              "    </tr>\n",
              "  </thead>\n",
              "  <tbody>\n",
              "    <tr>\n",
              "      <th>0</th>\n",
              "      <td>386</td>\n",
              "      <td>Josh Marks</td>\n",
              "      <td>7</td>\n",
              "    </tr>\n",
              "    <tr>\n",
              "      <th>1</th>\n",
              "      <td>473</td>\n",
              "      <td>Blue Ribbon Restaurants</td>\n",
              "      <td>7</td>\n",
              "    </tr>\n",
              "    <tr>\n",
              "      <th>2</th>\n",
              "      <td>1</td>\n",
              "      <td>Pat Neely</td>\n",
              "      <td>2</td>\n",
              "    </tr>\n",
              "    <tr>\n",
              "      <th>3</th>\n",
              "      <td>542</td>\n",
              "      <td>La Griglia</td>\n",
              "      <td>1</td>\n",
              "    </tr>\n",
              "    <tr>\n",
              "      <th>4</th>\n",
              "      <td>189</td>\n",
              "      <td>Jose Garces</td>\n",
              "      <td>5</td>\n",
              "    </tr>\n",
              "    <tr>\n",
              "      <th>...</th>\n",
              "      <td>...</td>\n",
              "      <td>...</td>\n",
              "      <td>...</td>\n",
              "    </tr>\n",
              "    <tr>\n",
              "      <th>615</th>\n",
              "      <td>163</td>\n",
              "      <td>Jumia Food_10</td>\n",
              "      <td>6</td>\n",
              "    </tr>\n",
              "    <tr>\n",
              "      <th>616</th>\n",
              "      <td>381</td>\n",
              "      <td>Luke Thomas</td>\n",
              "      <td>1</td>\n",
              "    </tr>\n",
              "    <tr>\n",
              "      <th>617</th>\n",
              "      <td>140</td>\n",
              "      <td>Clodagh McKenna</td>\n",
              "      <td>2</td>\n",
              "    </tr>\n",
              "    <tr>\n",
              "      <th>618</th>\n",
              "      <td>157</td>\n",
              "      <td>Chef Michelle Bernstein</td>\n",
              "      <td>10</td>\n",
              "    </tr>\n",
              "    <tr>\n",
              "      <th>619</th>\n",
              "      <td>114</td>\n",
              "      <td>SORTEDfood</td>\n",
              "      <td>8</td>\n",
              "    </tr>\n",
              "  </tbody>\n",
              "</table>\n",
              "<p>620 rows × 3 columns</p>\n",
              "</div>"
            ],
            "text/plain": [
              "      id                     name  degree\n",
              "0    386               Josh Marks       7\n",
              "1    473  Blue Ribbon Restaurants       7\n",
              "2      1                Pat Neely       2\n",
              "3    542               La Griglia       1\n",
              "4    189              Jose Garces       5\n",
              "..   ...                      ...     ...\n",
              "615  163            Jumia Food_10       6\n",
              "616  381              Luke Thomas       1\n",
              "617  140          Clodagh McKenna       2\n",
              "618  157  Chef Michelle Bernstein      10\n",
              "619  114               SORTEDfood       8\n",
              "\n",
              "[620 rows x 3 columns]"
            ]
          },
          "metadata": {
            "tags": []
          },
          "execution_count": 33
        }
      ]
    },
    {
      "cell_type": "code",
      "metadata": {
        "id": "_QiKYvSPTy2_"
      },
      "source": [
        "degree = list(dict(G.degree()).values())\n",
        "\n",
        "percentile_99 = np.percentile(degree,99)\n",
        "hub_nodi = [k for k,v in dict(G.degree()).items() if v>= percentile_99]\n",
        "\n",
        "\n",
        "color_map = []\n",
        "size_map = []\n",
        "node_index ={}\n",
        "for i in range(0, len(names)):\n",
        "    if not (names[i] in hub_nodi) :\n",
        "        color_map.append('#86b5fb')\n",
        "        size_map.append(20)\n",
        "    else: \n",
        "        color_map.append('#93e685')"
      ],
      "execution_count": 34,
      "outputs": []
    },
    {
      "cell_type": "code",
      "metadata": {
        "id": "pZEF6IpfT3QU"
      },
      "source": [
        "!pip install pyvis"
      ],
      "execution_count": null,
      "outputs": []
    },
    {
      "cell_type": "code",
      "metadata": {
        "id": "eHnSSFYRq3GL"
      },
      "source": [
        "from pyvis.network import Network\n",
        "\n",
        "net = Network(height='100%', width='100%', bgcolor='#222222', font_color='white', notebook =True)\n",
        "\n",
        "# set the physics layout of the network\n",
        "net.force_atlas_2based(gravity=-300,spring_length=300)"
      ],
      "execution_count": 36,
      "outputs": []
    },
    {
      "cell_type": "code",
      "metadata": {
        "id": "rC8GpLcMT0yA"
      },
      "source": [
        ""
      ],
      "execution_count": 36,
      "outputs": []
    },
    {
      "cell_type": "code",
      "metadata": {
        "id": "NvmokztAKs2b"
      },
      "source": [
        "net.add_nodes(node_deg_df['id'].tolist(), size=node_deg_df['degree'].tolist(),\n",
        "                         title=node_deg_df['name'].tolist(),\n",
        "                         label=node_deg_df['name'].tolist(),\n",
        "                          color=color_map,\n",
        "              )"
      ],
      "execution_count": 37,
      "outputs": []
    },
    {
      "cell_type": "code",
      "metadata": {
        "id": "zM8jjLKQWV5W"
      },
      "source": [
        ""
      ],
      "execution_count": 37,
      "outputs": []
    },
    {
      "cell_type": "code",
      "metadata": {
        "id": "m_WtYtMjTlqc"
      },
      "source": [
        ""
      ],
      "execution_count": 37,
      "outputs": []
    },
    {
      "cell_type": "code",
      "metadata": {
        "id": "sK-BtxyeswU6"
      },
      "source": [
        "for index in range(len(edges['source'])):\n",
        "  src = int(edges['source'][index])\n",
        "  dst = int(edges['target'][index])\n",
        "  net.add_edge(src,dst)\n",
        "\n"
      ],
      "execution_count": 38,
      "outputs": []
    },
    {
      "cell_type": "code",
      "metadata": {
        "colab": {
          "base_uri": "https://localhost:8080/"
        },
        "id": "p44JG88cvYWM",
        "outputId": "236ffdfe-5b6e-4df7-af12-ec3d9abdd282"
      },
      "source": [
        "net.options"
      ],
      "execution_count": 84,
      "outputs": [
        {
          "output_type": "execute_result",
          "data": {
            "text/plain": [
              "{'interaction': {'hideEdgesOnDrag': False, 'hideNodesOnDrag': False, 'dragNodes': True}, 'configure': {'enabled': False}, 'physics': {'enabled': True, 'stabilization': <pyvis.physics.Physics.Stabilization object at 0x7f8a5f8b9e90>, 'forceAtlas2Based': <pyvis.physics.Physics.forceAtlas2Based object at 0x7f8a5f8b94d0>, 'solver': 'forceAtlas2Based'}, 'edges': {'smooth': {'enabled': False, 'type': 'continuous'}, 'color': {'inherit': True}}, 'nodes': {'font': {'size': 50, 'color': '#ffffff'}}}"
            ]
          },
          "metadata": {
            "tags": []
          },
          "execution_count": 84
        }
      ]
    },
    {
      "cell_type": "code",
      "metadata": {
        "id": "AiNUh-2jVuSy"
      },
      "source": [
        "net.options.nodes ={\"font\" : {\n",
        "          \"size\" : 50,\n",
        "          \"color\" : '#ffffff'\n",
        "      }}"
      ],
      "execution_count": 40,
      "outputs": []
    },
    {
      "cell_type": "code",
      "metadata": {
        "id": "lGQ5RQONUwMU",
        "colab": {
          "base_uri": "https://localhost:8080/"
        },
        "outputId": "ad2b0ce1-87a8-46a8-b801-1da41ff8e65f"
      },
      "source": [
        "hub_nodi"
      ],
      "execution_count": 41,
      "outputs": [
        {
          "output_type": "execute_result",
          "data": {
            "text/plain": [
              "['Logan Junior Chef',\n",
              " 'Robin Miller',\n",
              " 'Scott Conant',\n",
              " \"McDonald's_6\",\n",
              " 'Eric Ripert',\n",
              " 'Alex Guarnaschelli',\n",
              " 'David Chang',\n",
              " 'Chef Daniel Boulud']"
            ]
          },
          "metadata": {
            "tags": []
          },
          "execution_count": 41
        }
      ]
    },
    {
      "cell_type": "code",
      "metadata": {
        "id": "CTIH8IF4U_x1",
        "colab": {
          "base_uri": "https://localhost:8080/"
        },
        "outputId": "83d82825-ea4a-42df-814d-36f2fadef5e3"
      },
      "source": [
        "net.options"
      ],
      "execution_count": 42,
      "outputs": [
        {
          "output_type": "execute_result",
          "data": {
            "text/plain": [
              "{'interaction': {'hideEdgesOnDrag': False, 'hideNodesOnDrag': False, 'dragNodes': True}, 'configure': {'enabled': False}, 'physics': {'enabled': True, 'stabilization': <pyvis.physics.Physics.Stabilization object at 0x7f8a5f8b9e90>, 'forceAtlas2Based': <pyvis.physics.Physics.forceAtlas2Based object at 0x7f8a5f8b94d0>, 'solver': 'forceAtlas2Based'}, 'edges': {'smooth': {'enabled': False, 'type': 'continuous'}, 'color': {'inherit': True}}, 'nodes': {'font': {'size': 50, 'color': '#ffffff'}}}"
            ]
          },
          "metadata": {
            "tags": []
          },
          "execution_count": 42
        }
      ]
    },
    {
      "cell_type": "code",
      "metadata": {
        "colab": {
          "base_uri": "https://localhost:8080/",
          "height": 170
        },
        "id": "GgY0YbU0q-Mh",
        "outputId": "5adb2ad0-ed18-4bbe-d1e6-84919e3ef997"
      },
      "source": [
        "net.show('base_network.html')"
      ],
      "execution_count": 43,
      "outputs": [
        {
          "output_type": "execute_result",
          "data": {
            "text/html": [
              "\n",
              "        <iframe\n",
              "            width=\"100%\"\n",
              "            height=\"100%\"\n",
              "            src=\"base_network.html\"\n",
              "            frameborder=\"0\"\n",
              "            allowfullscreen\n",
              "        ></iframe>\n",
              "        "
            ],
            "text/plain": [
              "<IPython.lib.display.IFrame at 0x7f8a5dae43d0>"
            ]
          },
          "metadata": {
            "tags": []
          },
          "execution_count": 43
        }
      ]
    },
    {
      "cell_type": "code",
      "metadata": {
        "id": "jdKYjePCwunl"
      },
      "source": [
        ""
      ],
      "execution_count": 43,
      "outputs": []
    },
    {
      "cell_type": "markdown",
      "metadata": {
        "id": "gUSnmQuY5ROb"
      },
      "source": [
        "\n",
        " <br>"
      ]
    },
    {
      "cell_type": "markdown",
      "metadata": {
        "id": "AYiLXy-R4wKP"
      },
      "source": [
        "# Degree Analysis"
      ]
    },
    {
      "cell_type": "code",
      "metadata": {
        "id": "XkY4Lqom-jIe",
        "colab": {
          "base_uri": "https://localhost:8080/"
        },
        "outputId": "5b06874d-c851-4e0e-8cc3-cac732d5a8c1"
      },
      "source": [
        "list(G.nodes())[0:20]"
      ],
      "execution_count": 44,
      "outputs": [
        {
          "output_type": "execute_result",
          "data": {
            "text/plain": [
              "['Lee Anne Wong',\n",
              " 'KFC_3',\n",
              " 'Chef Jamie Gwen',\n",
              " 'Madison Cowan',\n",
              " 'Elizabeth Karmel',\n",
              " 'KFC_22',\n",
              " 'KFC_8',\n",
              " 'Pat Neely',\n",
              " 'Logan Junior Chef',\n",
              " 'Robin Miller',\n",
              " 'Ben Sargent & Dr. Klaw',\n",
              " 'Bobby Flay',\n",
              " 'Chuck Hughes',\n",
              " 'Chef Carlo Cracco',\n",
              " 'Pasqualino Barbasso',\n",
              " 'Alessandro Borghese',\n",
              " 'Chef Hirohiko Shoda',\n",
              " 'Alain Ducasse',\n",
              " 'Christian Bau',\n",
              " 'Andy Luotto']"
            ]
          },
          "metadata": {
            "tags": []
          },
          "execution_count": 44
        }
      ]
    },
    {
      "cell_type": "code",
      "metadata": {
        "colab": {
          "base_uri": "https://localhost:8080/"
        },
        "id": "1fSQkejDn22I",
        "outputId": "8b33738b-9e95-4aa1-e0ac-763ca8f5e78a"
      },
      "source": [
        "density = nx.density(G)\n",
        "print('Density: {}'.format(density))"
      ],
      "execution_count": 45,
      "outputs": [
        {
          "output_type": "stream",
          "text": [
            "Density: 0.0109541925061233\n"
          ],
          "name": "stdout"
        }
      ]
    },
    {
      "cell_type": "code",
      "metadata": {
        "id": "M0mcsMoApMPw"
      },
      "source": [
        ""
      ],
      "execution_count": 45,
      "outputs": []
    },
    {
      "cell_type": "code",
      "metadata": {
        "id": "JIXsj69-pShl",
        "colab": {
          "base_uri": "https://localhost:8080/"
        },
        "outputId": "b7c8cb50-ab93-4019-f8e8-cceb39a272eb"
      },
      "source": [
        "degree = list(dict(G.degree()).values())\n",
        "degree[0:20]"
      ],
      "execution_count": 46,
      "outputs": [
        {
          "output_type": "execute_result",
          "data": {
            "text/plain": [
              "[6, 11, 15, 2, 27, 9, 17, 2, 134, 47, 3, 31, 11, 10, 7, 10, 7, 19, 7, 3]"
            ]
          },
          "metadata": {
            "tags": []
          },
          "execution_count": 46
        }
      ]
    },
    {
      "cell_type": "code",
      "metadata": {
        "colab": {
          "base_uri": "https://localhost:8080/"
        },
        "id": "zsvqwpCEpUEF",
        "outputId": "21ed334c-a96f-4f01-8c7b-cfbc1141a1d5"
      },
      "source": [
        "print('Standard deviation: {}'.format(np.std(degree)))\n",
        "print('Mean: {}'.format(np.mean(degree)))\n",
        "print('Median: {}'.format(np.median(degree)))\n",
        "print('Min: {}'.format(np.min(degree)))\n",
        "print('Max: {}'.format(np.max(degree)))\n",
        "\n",
        "\n",
        "print(\"Assortativity coefficient: \" + str(nx.degree_assortativity_coefficient(G)))"
      ],
      "execution_count": 47,
      "outputs": [
        {
          "output_type": "stream",
          "text": [
            "Standard deviation: 9.46914920573866\n",
            "Mean: 6.780645161290322\n",
            "Median: 4.0\n",
            "Min: 1\n",
            "Max: 134\n",
            "Assortativity coefficient: -0.028203795222469928\n"
          ],
          "name": "stdout"
        }
      ]
    },
    {
      "cell_type": "code",
      "metadata": {
        "colab": {
          "base_uri": "https://localhost:8080/",
          "height": 312
        },
        "id": "P0LheZ9uxeAi",
        "outputId": "5dad84d8-8494-4377-d404-adebc306e580"
      },
      "source": [
        "import collections\n",
        "\n",
        "degree_sequence = sorted([d for n, d in G.degree()], reverse=True)  # degree sequence\n",
        "degreeCount = collections.Counter(degree_sequence)\n",
        "deg, cnt = zip(*degreeCount.items())\n",
        "\n",
        "plt.bar(deg, cnt, width=0.8, color=\"b\")\n",
        "plt.title(\"Degree Histogram\")\n",
        "plt.ylabel(\"Nodes\")\n",
        "plt.xlabel(\"Degree\")\n",
        "#in_hist= [in_degrees.values().count(x) for x in in_values]"
      ],
      "execution_count": 48,
      "outputs": [
        {
          "output_type": "execute_result",
          "data": {
            "text/plain": [
              "Text(0.5, 0, 'Degree')"
            ]
          },
          "metadata": {
            "tags": []
          },
          "execution_count": 48
        },
        {
          "output_type": "display_data",
          "data": {
            "image/png": "[encoded data removed]",
            "text/plain": [
              "<Figure size 432x288 with 1 Axes>"
            ]
          },
          "metadata": {
            "tags": [],
            "needs_background": "light"
          }
        }
      ]
    },
    {
      "cell_type": "code",
      "metadata": {
        "id": "r1PWzJLgCdQX",
        "colab": {
          "base_uri": "https://localhost:8080/",
          "height": 294
        },
        "outputId": "909d1acf-928a-4463-8923-a46c1915795b"
      },
      "source": [
        "plt.bar(x =cnt, height= deg)\n",
        "plt.axvline(np.array(deg).mean(), color='k', linestyle='dashed', linewidth=2)\n",
        "plt.title(\"Histogram of bottlenose dolphin network\")\n",
        "plt.xlabel('Number of connections per node')\n",
        "plt.ylabel('Frequency')\n",
        "plt.show()"
      ],
      "execution_count": 49,
      "outputs": [
        {
          "output_type": "display_data",
          "data": {
            "image/png": "[encoded data removed]",
            "text/plain": [
              "<Figure size 432x288 with 1 Axes>"
            ]
          },
          "metadata": {
            "tags": [],
            "needs_background": "light"
          }
        }
      ]
    },
    {
      "cell_type": "code",
      "metadata": {
        "colab": {
          "base_uri": "https://localhost:8080/",
          "height": 294
        },
        "id": "HUo-9A8Ty-CT",
        "outputId": "5c8fad25-f9cc-49f2-d78a-454c0cbbcb5f"
      },
      "source": [
        "plt.figure() # you need to first do 'import pylabas plt'plt.grid(True)\n",
        "plt.plot(deg,cnt,\"ro-\") # degree\n",
        "plt.legend(['Degree'])\n",
        "plt.xlabel('Degree')\n",
        "plt.ylabel('Number of nodes')\n",
        "plt.title('Network Food')\n",
        "plt.show()"
      ],
      "execution_count": 50,
      "outputs": [
        {
          "output_type": "display_data",
          "data": {
            "image/png": "[encoded data removed]",
            "text/plain": [
              "<Figure size 432x288 with 1 Axes>"
            ]
          },
          "metadata": {
            "tags": [],
            "needs_background": "light"
          }
        }
      ]
    },
    {
      "cell_type": "code",
      "metadata": {
        "colab": {
          "base_uri": "https://localhost:8080/",
          "height": 298
        },
        "id": "JN-GAIXuBa6K",
        "outputId": "48d1de0c-c561-4e21-d385-68a5a1e697e7"
      },
      "source": [
        "plt.figure() # you need to first do 'import pylabas plt'plt.grid(True)\n",
        "plt.loglog(deg,cnt,\"ro-\") # degree\n",
        "plt.legend(['Degree'])\n",
        "plt.xlabel('Degree')\n",
        "plt.ylabel('Number of nodes')\n",
        "plt.title('Log Network Food')\n",
        "plt.show()"
      ],
      "execution_count": 51,
      "outputs": [
        {
          "output_type": "display_data",
          "data": {
            "image/png": "[encoded data removed]",
            "text/plain": [
              "<Figure size 432x288 with 1 Axes>"
            ]
          },
          "metadata": {
            "tags": [],
            "needs_background": "light"
          }
        }
      ]
    },
    {
      "cell_type": "markdown",
      "metadata": {
        "id": "XntfvpBl51EN"
      },
      "source": [
        "\n",
        " <br>"
      ]
    },
    {
      "cell_type": "markdown",
      "metadata": {
        "id": "ELEr1yqD5veE"
      },
      "source": [
        "### ECDF"
      ]
    },
    {
      "cell_type": "code",
      "metadata": {
        "colab": {
          "base_uri": "https://localhost:8080/",
          "height": 305
        },
        "id": "t6f32IbipWuq",
        "outputId": "26c98591-3dcb-47cb-fa5a-0ab89ea3f2ea"
      },
      "source": [
        "# ECDF linear scale\n",
        "cdf = ECDF(degree)\n",
        "x = np.unique(degree)\n",
        "y = cdf(x)\n",
        "fig_cdf = plt.figure(figsize=(8,4))\n",
        "axes = fig_cdf.gca()\n",
        "axes.plot(x,y,marker='o',ms=6, linestyle='None')\n",
        "axes.set_xlabel('Degree',size=20)\n",
        "axes.set_ylabel('ECDF Food', size = 20)"
      ],
      "execution_count": 52,
      "outputs": [
        {
          "output_type": "execute_result",
          "data": {
            "text/plain": [
              "Text(0, 0.5, 'ECDF Food')"
            ]
          },
          "metadata": {
            "tags": []
          },
          "execution_count": 52
        },
        {
          "output_type": "display_data",
          "data": {
            "image/png": "[encoded data removed]",
            "text/plain": [
              "<Figure size 576x288 with 1 Axes>"
            ]
          },
          "metadata": {
            "tags": [],
            "needs_background": "light"
          }
        }
      ]
    },
    {
      "cell_type": "code",
      "metadata": {
        "colab": {
          "base_uri": "https://localhost:8080/",
          "height": 310
        },
        "id": "85VdeXRZpbv6",
        "outputId": "dd1af826-aa79-46db-a66b-16a55abc44ee"
      },
      "source": [
        "\n",
        "# ECDF loglog scale\n",
        "cdf = ECDF(degree)\n",
        "x = np.unique(degree)\n",
        "y = cdf(x)\n",
        "fig_cdf = plt.figure(figsize=(8,4))\n",
        "axes = fig_cdf.gca()\n",
        "axes.loglog(x,y,marker='o',ms=8, linestyle='--')\n",
        "axes.set_xlabel('Degree',size=20)\n",
        "axes.set_ylabel('ECDF Food', size = 20)\n"
      ],
      "execution_count": 53,
      "outputs": [
        {
          "output_type": "execute_result",
          "data": {
            "text/plain": [
              "Text(0, 0.5, 'ECDF Food')"
            ]
          },
          "metadata": {
            "tags": []
          },
          "execution_count": 53
        },
        {
          "output_type": "display_data",
          "data": {
            "image/png": "[encoded data removed]",
            "text/plain": [
              "<Figure size 576x288 with 1 Axes>"
            ]
          },
          "metadata": {
            "tags": [],
            "needs_background": "light"
          }
        }
      ]
    },
    {
      "cell_type": "code",
      "metadata": {
        "colab": {
          "base_uri": "https://localhost:8080/",
          "height": 312
        },
        "id": "s9tOUCWqpivi",
        "outputId": "f146308e-f2e8-49f2-d8db-fada6cff1e26"
      },
      "source": [
        "# ECCDF\n",
        "cdf = ECDF(degree)\n",
        "x = np.unique(degree)\n",
        "y = cdf(x)\n",
        "fig_cdf = plt.figure(figsize=(8,4))\n",
        "axes = fig_cdf.gca()\n",
        "axes.loglog(x,1-y,marker='o',ms=8, linestyle='--')\n",
        "axes.set_xlabel('Degree',size=20)\n",
        "axes.set_ylabel('ECCDF FOOD', size = 20)"
      ],
      "execution_count": 54,
      "outputs": [
        {
          "output_type": "execute_result",
          "data": {
            "text/plain": [
              "Text(0, 0.5, 'ECCDF FOOD')"
            ]
          },
          "metadata": {
            "tags": []
          },
          "execution_count": 54
        },
        {
          "output_type": "display_data",
          "data": {
            "image/png": "[encoded data removed]",
            "text/plain": [
              "<Figure size 576x288 with 1 Axes>"
            ]
          },
          "metadata": {
            "tags": [],
            "needs_background": "light"
          }
        }
      ]
    },
    {
      "cell_type": "code",
      "metadata": {
        "id": "-NY41H7IppF7"
      },
      "source": [
        "p = density\n",
        "random_graph = nx.fast_gnp_random_graph(G.order(),p)\n"
      ],
      "execution_count": 55,
      "outputs": []
    },
    {
      "cell_type": "code",
      "metadata": {
        "colab": {
          "base_uri": "https://localhost:8080/"
        },
        "id": "TOi6WvTwpvpZ",
        "outputId": "b7cdae0f-02ea-4b6c-c467-61ef820b8eca"
      },
      "source": [
        "print('Number of nodes: {}'.format(random_graph.order()))\n",
        "print('Number of links: {}'.format(random_graph.size()))"
      ],
      "execution_count": 56,
      "outputs": [
        {
          "output_type": "stream",
          "text": [
            "Number of nodes: 620\n",
            "Number of links: 2170\n"
          ],
          "name": "stdout"
        }
      ]
    },
    {
      "cell_type": "code",
      "metadata": {
        "id": "FCiK8TUYpz0W",
        "colab": {
          "base_uri": "https://localhost:8080/"
        },
        "outputId": "e4eddc8a-fa20-4d0d-b818-30ea4008a99b"
      },
      "source": [
        "random_degree = list(dict(random_graph.degree()).values())\n",
        "print('Random Net Standard deviation: {}'.format(np.std(random_degree)))\n",
        "print('Random Net Mean: {}'.format(np.mean(random_degree)))\n",
        "print('Random Net Median: {}'.format(np.median(random_degree)))\n",
        "print('Random Net Min: {}'.format(np.min(random_degree)))\n",
        "print('Random Net Max: {}'.format(np.max(random_degree)))"
      ],
      "execution_count": 57,
      "outputs": [
        {
          "output_type": "stream",
          "text": [
            "Random Net Standard deviation: 2.7220722656378613\n",
            "Random Net Mean: 7.0\n",
            "Random Net Median: 7.0\n",
            "Random Net Min: 0\n",
            "Random Net Max: 17\n"
          ],
          "name": "stdout"
        }
      ]
    },
    {
      "cell_type": "code",
      "metadata": {
        "colab": {
          "base_uri": "https://localhost:8080/",
          "height": 310
        },
        "id": "ZLzauKksp2IU",
        "outputId": "6106cac0-0d72-4f2c-cbce-2d87d1033f4e"
      },
      "source": [
        "cdf = ECDF(degree)\n",
        "x = np.unique(degree)\n",
        "y = cdf(x)\n",
        "\n",
        "cdf_random = ECDF(random_degree)\n",
        "x_random = np.unique(random_degree)\n",
        "y_random = cdf_random(x_random)\n",
        "\n",
        "fig_cdf_fb = plt.figure(figsize=(8,4))\n",
        "axes = fig_cdf_fb.gca()\n",
        "axes.set_xscale('log')\n",
        "axes.set_yscale('log')\n",
        "axes.loglog(x,1-y,marker='o',ms=8, linestyle='--')\n",
        "axes.loglog(x_random,1-y_random,marker='+',ms=10, linestyle='--')\n",
        "axes.set_xlabel('Degree',size=20)\n",
        "axes.set_ylabel('ECCDF', size = 20)"
      ],
      "execution_count": 58,
      "outputs": [
        {
          "output_type": "execute_result",
          "data": {
            "text/plain": [
              "Text(0, 0.5, 'ECCDF')"
            ]
          },
          "metadata": {
            "tags": []
          },
          "execution_count": 58
        },
        {
          "output_type": "display_data",
          "data": {
            "image/png": "[encoded data removed]",
            "text/plain": [
              "<Figure size 576x288 with 1 Axes>"
            ]
          },
          "metadata": {
            "tags": [],
            "needs_background": "light"
          }
        }
      ]
    },
    {
      "cell_type": "markdown",
      "metadata": {
        "id": "KAqS4YcCGaLK"
      },
      "source": [
        "\n",
        " <br>"
      ]
    },
    {
      "cell_type": "markdown",
      "metadata": {
        "id": "x8IZWFFHpq9o"
      },
      "source": [
        "## HUBS"
      ]
    },
    {
      "cell_type": "code",
      "metadata": {
        "colab": {
          "base_uri": "https://localhost:8080/"
        },
        "id": "Sg72v5vSp6tB",
        "outputId": "d99f64d0-f7d6-433a-c0f2-bff31d6f1a4b"
      },
      "source": [
        "percentile_99 = np.percentile(degree,99)\n",
        "print(percentile_99)"
      ],
      "execution_count": 59,
      "outputs": [
        {
          "output_type": "stream",
          "text": [
            "47.0\n"
          ],
          "name": "stdout"
        }
      ]
    },
    {
      "cell_type": "code",
      "metadata": {
        "id": "stn61tlep9e6"
      },
      "source": [
        "hub_nodi = [k for k,v in dict(G.degree()).items() if v>= percentile_99]\n"
      ],
      "execution_count": 60,
      "outputs": []
    },
    {
      "cell_type": "code",
      "metadata": {
        "colab": {
          "base_uri": "https://localhost:8080/"
        },
        "id": "OsfcPT35qCB_",
        "outputId": "c0396cfc-354f-41da-db7f-4ce1be47d609"
      },
      "source": [
        "print(len(hub_nodi))\n",
        "print(list(hub_nodi))"
      ],
      "execution_count": 61,
      "outputs": [
        {
          "output_type": "stream",
          "text": [
            "8\n",
            "['Logan Junior Chef', 'Robin Miller', 'Scott Conant', \"McDonald's_6\", 'Eric Ripert', 'Alex Guarnaschelli', 'David Chang', 'Chef Daniel Boulud']\n"
          ],
          "name": "stdout"
        }
      ]
    },
    {
      "cell_type": "code",
      "metadata": {
        "colab": {
          "base_uri": "https://localhost:8080/"
        },
        "id": "ZZDQ7UGBqIqX",
        "outputId": "7e2c1466-2199-482f-d925-44afc5c4c4d7"
      },
      "source": [
        "print(list(nx.isolates(G)))\n"
      ],
      "execution_count": 62,
      "outputs": [
        {
          "output_type": "stream",
          "text": [
            "[]\n"
          ],
          "name": "stdout"
        }
      ]
    },
    {
      "cell_type": "code",
      "metadata": {
        "id": "h0PqsuaPhait",
        "colab": {
          "base_uri": "https://localhost:8080/",
          "height": 247
        },
        "outputId": "61e24d88-9f0e-4100-9929-d7ad9c55845c"
      },
      "source": [
        "# draw the graph\n",
        "pos = nx.spring_layout(G)\n",
        "# color the nodes according to their partition\n",
        "color_map = []\n",
        "size_map = []\n",
        "node_index ={}\n",
        "for i in range(0, len(names)):\n",
        "    if not (names[i] in hub_nodi) :\n",
        "        color_map.append('#222222')\n",
        "        size_map.append(20)\n",
        "    else: \n",
        "        color_map.append('lightblue')\n",
        "        size_map.append(150)\n",
        "        node_index[names[i]] = names[i]\n",
        "nx.draw_networkx_nodes(G, pos, node_size=size_map\n",
        "                       , node_color=color_map)\n",
        "nx.draw_networkx_edges(G, pos, alpha=0.5)\n",
        "nx.draw_networkx_labels(G,labels=node_index,pos = pos,font_size=8,font_color='r')\n",
        "\n",
        "plt.show()"
      ],
      "execution_count": 63,
      "outputs": [
        {
          "output_type": "display_data",
          "data": {
            "image/png": "[encoded data removed]",
            "text/plain": [
              "<Figure size 432x288 with 1 Axes>"
            ]
          },
          "metadata": {
            "tags": []
          }
        }
      ]
    },
    {
      "cell_type": "markdown",
      "metadata": {
        "id": "bYCwbh5GGYoH"
      },
      "source": [
        "\n",
        " <br>"
      ]
    },
    {
      "cell_type": "markdown",
      "metadata": {
        "id": "nsHzYEcBp8Cz"
      },
      "source": [
        "## Connectivity"
      ]
    },
    {
      "cell_type": "code",
      "metadata": {
        "colab": {
          "base_uri": "https://localhost:8080/"
        },
        "id": "uctAbGqKqVSl",
        "outputId": "1f7d6c4e-fe04-4d17-d158-c1ffc08e0b34"
      },
      "source": [
        "print(nx.is_connected(G))\n",
        "print(nx.number_connected_components(G))"
      ],
      "execution_count": 64,
      "outputs": [
        {
          "output_type": "stream",
          "text": [
            "True\n",
            "1\n"
          ],
          "name": "stdout"
        }
      ]
    },
    {
      "cell_type": "code",
      "metadata": {
        "id": "Ys-22v4sqYmZ"
      },
      "source": [
        ""
      ],
      "execution_count": 64,
      "outputs": []
    },
    {
      "cell_type": "code",
      "metadata": {
        "id": "C_uqHiEZPZEb",
        "colab": {
          "base_uri": "https://localhost:8080/"
        },
        "outputId": "dafe8e35-5d9d-46da-c823-d3502322855b"
      },
      "source": [
        "nx.number_connected_components(G)"
      ],
      "execution_count": 65,
      "outputs": [
        {
          "output_type": "execute_result",
          "data": {
            "text/plain": [
              "1"
            ]
          },
          "metadata": {
            "tags": []
          },
          "execution_count": 65
        }
      ]
    },
    {
      "cell_type": "code",
      "metadata": {
        "id": "1wX3cRDduXZe"
      },
      "source": [
        "#dir(G)"
      ],
      "execution_count": 66,
      "outputs": []
    },
    {
      "cell_type": "code",
      "metadata": {
        "id": "b2_O0YjSZMjR",
        "colab": {
          "base_uri": "https://localhost:8080/"
        },
        "outputId": "3790138b-1088-4d75-f16a-baa805c345e2"
      },
      "source": [
        "len(nx.triangles(G))"
      ],
      "execution_count": 67,
      "outputs": [
        {
          "output_type": "execute_result",
          "data": {
            "text/plain": [
              "620"
            ]
          },
          "metadata": {
            "tags": []
          },
          "execution_count": 67
        }
      ]
    },
    {
      "cell_type": "markdown",
      "metadata": {
        "id": "SdgfcGZXEI_y"
      },
      "source": [
        "\n",
        " <br>"
      ]
    },
    {
      "cell_type": "markdown",
      "metadata": {
        "id": "eMHDFzK2D3Ku"
      },
      "source": [
        "## Clusters"
      ]
    },
    {
      "cell_type": "code",
      "metadata": {
        "id": "UyQ4ciEkaPvh",
        "colab": {
          "base_uri": "https://localhost:8080/"
        },
        "outputId": "3a49e0a3-5622-4241-af63-64a1a074fb1b"
      },
      "source": [
        "clusters = nx.average_clustering(G)\n",
        "clusters"
      ],
      "execution_count": 68,
      "outputs": [
        {
          "output_type": "execute_result",
          "data": {
            "text/plain": [
              "0.3308970263553271"
            ]
          },
          "metadata": {
            "tags": []
          },
          "execution_count": 68
        }
      ]
    },
    {
      "cell_type": "code",
      "metadata": {
        "id": "yLPXd0lx9tTC",
        "colab": {
          "base_uri": "https://localhost:8080/"
        },
        "outputId": "608a76d5-27f7-449d-8bf3-9cba0b552008"
      },
      "source": [
        "type(clusters)"
      ],
      "execution_count": 69,
      "outputs": [
        {
          "output_type": "execute_result",
          "data": {
            "text/plain": [
              "float"
            ]
          },
          "metadata": {
            "tags": []
          },
          "execution_count": 69
        }
      ]
    },
    {
      "cell_type": "code",
      "metadata": {
        "id": "C5-1q7SaDtE0"
      },
      "source": [
        ""
      ],
      "execution_count": 69,
      "outputs": []
    },
    {
      "cell_type": "code",
      "metadata": {
        "id": "hiPVa4vwZXaP",
        "colab": {
          "base_uri": "https://localhost:8080/"
        },
        "outputId": "666d6833-eb8c-475f-ba5c-7b4ad023fd4b"
      },
      "source": [
        "nx.transitivity(G)\n"
      ],
      "execution_count": 70,
      "outputs": [
        {
          "output_type": "execute_result",
          "data": {
            "text/plain": [
              "0.22264084150905228"
            ]
          },
          "metadata": {
            "tags": []
          },
          "execution_count": 70
        }
      ]
    },
    {
      "cell_type": "code",
      "metadata": {
        "colab": {
          "base_uri": "https://localhost:8080/"
        },
        "id": "FPI3sqAdEbFh",
        "outputId": "393fd014-0364-440f-e9bf-c460a7493370"
      },
      "source": [
        "\n",
        "\n",
        "local_clustering=nx.clustering(G)\n",
        "list_local_clustering=list(local_clustering.values())\n",
        "print('Mean local clustering: {}'.format(np.mean(list_local_clustering)))\n"
      ],
      "execution_count": 71,
      "outputs": [
        {
          "output_type": "stream",
          "text": [
            "Mean local clustering: 0.3308970263553272\n"
          ],
          "name": "stdout"
        }
      ]
    },
    {
      "cell_type": "code",
      "metadata": {
        "id": "BazgpHhrzuYl",
        "colab": {
          "base_uri": "https://localhost:8080/"
        },
        "outputId": "eff88df8-8eb2-42df-e9f5-53cad007c66c"
      },
      "source": [
        "local_cluster = nx.clustering(G)\n",
        "sorted(local_cluster.items(), key=lambda item: item[1], reverse= False)"
      ],
      "execution_count": 72,
      "outputs": [
        {
          "output_type": "execute_result",
          "data": {
            "text/plain": [
              "[('Madison Cowan', 0),\n",
              " ('Jock Zonfrillo', 0),\n",
              " ('Steve Konopelski', 0),\n",
              " ('Magnum_4', 0),\n",
              " ('Magnum_7', 0),\n",
              " ('Magnum_1', 0),\n",
              " ('Magnum_6', 0),\n",
              " ('On The Border', 0),\n",
              " ('foodpanda_5', 0),\n",
              " ('Big Fernand', 0),\n",
              " ('foodpanda_8', 0),\n",
              " (\"Dunkin' Donuts_10\", 0),\n",
              " (\"Dunkin' Donuts_5\", 0),\n",
              " ('Subway', 0),\n",
              " (\"Dunkin' Coffee\", 0),\n",
              " ('Eckart Witzigmann', 0),\n",
              " ('Boston Market', 0),\n",
              " ('Dairy Queen', 0),\n",
              " ('NishaMadhulika', 0),\n",
              " ('Chetna Makan', 0),\n",
              " ('Maria Loi', 0),\n",
              " ('Dina Nikolaou', 0),\n",
              " ('Franklin Becker', 0),\n",
              " ('Chef Rick Tramonto', 0),\n",
              " ('KFC_2', 0),\n",
              " ('foodpanda_2', 0),\n",
              " (\"McDonald's Vietnam\", 0),\n",
              " ('Bahama Breeze Island Grille', 0),\n",
              " ('Yard House', 0),\n",
              " (\"Nando's PERi-PERi\", 0),\n",
              " ('Magnum_3', 0),\n",
              " ('Thierry Rautureau', 0),\n",
              " ('Chef Guy Martin', 0),\n",
              " ('Chef Nina Compton', 0),\n",
              " ('Ravintola Salve', 0),\n",
              " ('RED Sushi and Hibachi Grill', 0),\n",
              " ('Russell Jackson', 0),\n",
              " (\"McDonald's_48\", 0),\n",
              " ('Chef Grace Ramirez', 0),\n",
              " ('Iginio Massari', 0),\n",
              " ('KFC_7', 0),\n",
              " ('Kirti Bhoutika', 0),\n",
              " ('Cadillac Bar Houston', 0),\n",
              " ('Aquarium Restaurant - Nashville', 0),\n",
              " ('Cadillac Bar Kemah', 0),\n",
              " ('T-rex Cafe', 0),\n",
              " ('Hard Rock Cafe Ibiza', 0),\n",
              " (\"Steak 'n Shake\", 0),\n",
              " ('Destino Ibiza', 0),\n",
              " ('Seasons 52', 0),\n",
              " ('Olive Garden', 0),\n",
              " (\"Eddie V's Prime Seafood\", 0),\n",
              " (\"Dick's Drive In Restaurant\", 0),\n",
              " ('Chef Sam Talbot', 0),\n",
              " ('Ochikeron', 0),\n",
              " ('Chick-fil-A', 0),\n",
              " ('משה שגב / Moshe Segev', 0),\n",
              " (\"Jimmy John's\", 0),\n",
              " ('Chef Cynthia Louise', 0),\n",
              " ('Matthew Kenney', 0),\n",
              " ('Hearth', 0),\n",
              " ('Taco Bell Careers', 0),\n",
              " ('The Habit Burger Grill', 0),\n",
              " ('Éric Frechon', 0),\n",
              " ('Diego Guerrero', 0),\n",
              " ('Emmi CAFFÈ LATTE_1', 0),\n",
              " ('Gavin Kaysen', 0),\n",
              " ('Puesto', 0),\n",
              " ('Burger Lounge', 0),\n",
              " ('Anjali Pathak', 0),\n",
              " ('Hari Ghotra', 0),\n",
              " ('The Edgy Veg', 0),\n",
              " ('Chef Jennifer Carroll', 0),\n",
              " ('Roxanne Spruance', 0),\n",
              " ('Joanna 劉韋彤', 0),\n",
              " ('MASAの料理ABC', 0),\n",
              " ('Chef Diego Lozano', 0),\n",
              " ('Burger King Nederland', 0),\n",
              " ('Burger King México', 0),\n",
              " ('Burger King Malaysia', 0),\n",
              " ('Luna Grill', 0),\n",
              " ('Zoёs Kitchen', 0),\n",
              " ('Chef Kiran Jethwa', 0),\n",
              " ('foodpanda_3', 0),\n",
              " ('foodpanda_6', 0),\n",
              " ('foodpanda_4', 0),\n",
              " ('foodpanda - 空腹熊貓', 0),\n",
              " ('foodpanda_7', 0),\n",
              " ('foodpanda_1', 0),\n",
              " (\"Hardee's Pakistan\", 0),\n",
              " (\"McDonald's_44\", 0),\n",
              " (\"Dunkin' Donuts_4\", 0),\n",
              " (\"Dunkin' Donuts_3\", 0),\n",
              " ('Chef Ana Paula', 0),\n",
              " ('Krispy Kreme UK', 0),\n",
              " ('Ben Ebbrell - Sorted Chef', 0),\n",
              " ('Michael Lomonaco', 0),\n",
              " ('Chef Jimmy Boswell', 0),\n",
              " ('KFC_26', 0),\n",
              " ('KFC_15', 0),\n",
              " ('Opry City Stage', 0),\n",
              " ('KFC_13', 0),\n",
              " ('Gaston Acurio', 0),\n",
              " (\"Papacho's\", 0),\n",
              " ('Lindsay Ann Bakes', 0),\n",
              " ('Gemma Stafford', 0),\n",
              " ('Cindy Pawlcyn', 0),\n",
              " ('DedeMed', 0),\n",
              " ('José Santaella', 0),\n",
              " ('Chef Carmen Gonzalez', 0),\n",
              " ('Clodagh McKenna', 0),\n",
              " ('KFC_4', 0),\n",
              " ('Emmi CAFFÈ LATTE_5', 0),\n",
              " ('Whataburger', 0),\n",
              " (\"Morton's The Steakhouse\", 0),\n",
              " ('Roblé', 0),\n",
              " ('Chef Jamie DeRosa', 0),\n",
              " ('Jehangir', 0),\n",
              " ('Brew Bistro and Lounge', 0),\n",
              " ('Alberto Chicote', 0),\n",
              " (\"Xi'an Famous Foods 西安名吃\", 0),\n",
              " ('Chef Natale Giunta', 0),\n",
              " ('Chef Todd Mohr', 0),\n",
              " (\"Chili's Beirut\", 0),\n",
              " ('hellofood', 0),\n",
              " ('Mary Nolan, Bon Appétit Executive Chef', 0),\n",
              " ('翠華餐廳 Tsui Wah Restaurant', 0),\n",
              " ('Nyesha Arrington', 0),\n",
              " (\"Carl's Jr. NZ\", 0),\n",
              " (\"Carl's Jr.\", 0),\n",
              " ('Ignacio Mattos', 0),\n",
              " ('KFC_1', 0),\n",
              " (\"Hardee's\", 0),\n",
              " ('Paul Qui', 0),\n",
              " (\"Lillie's Asian Cuisine\", 0),\n",
              " (\"Nando's_4\", 0),\n",
              " (\"Peohe's\", 0),\n",
              " ('Second Floor Cafe 貳樓餐飲', 0),\n",
              " (\"Dunkin' Donuts_1\", 0),\n",
              " ('La Griglia', 0),\n",
              " ('Pierre Gagnaire', 0),\n",
              " ('Noëmie Honiat Top Chef', 0),\n",
              " ('Pedro Lambertini', 0),\n",
              " ('Cucina by Wolfgang Puck', 0),\n",
              " ('Four Seasons Hotels and Resorts', 0),\n",
              " ('Sam Choy', 0),\n",
              " ('Suzanne Goin', 0),\n",
              " ('Veggie Grill', 0),\n",
              " ('Crystal Jade Palace - JW Marriott Hotel Hanoi', 0),\n",
              " ('Crystal Jade Singapore', 0),\n",
              " ('Franklin Barbecue', 0),\n",
              " ('Subway, Cayman Islands', 0),\n",
              " ('Fast Ed', 0),\n",
              " ('Red Robin Gourmet Burgers', 0),\n",
              " ('CAKE-BOY', 0),\n",
              " (\"맥도날드 (McDonald's)\", 0),\n",
              " (\"Domino's Pizza_3\", 0),\n",
              " ('Claire Robinson', 0),\n",
              " ('Dan Steph & Emmy', 0),\n",
              " ('Duff Goldman', 0),\n",
              " ('Harold Dieterle', 0),\n",
              " ('Chef Michael Smith', 0),\n",
              " (\"Chef Claudia's Cocina\", 0),\n",
              " ('Cook with Chef Duminda', 0),\n",
              " (\"Dunkin' Donuts_8\", 0),\n",
              " ('Tom Douglas Restaurants', 0),\n",
              " ('Aliya LeeKong', 0),\n",
              " ('Francesco Sole', 0),\n",
              " ('KFC_9', 0),\n",
              " ('RIBS - True American Barbecue', 0),\n",
              " ('Angelo Sosa', 0),\n",
              " (\"Famous Dave's Bar-B-Que of America\", 0),\n",
              " ('Taste of London', 0),\n",
              " (\"Tom's Kitchen\", 0),\n",
              " ('Magnum_5', 0),\n",
              " (\"'Wichcraft\", 0),\n",
              " ('Chef Rubio', 0),\n",
              " ('Outlander Kitchen', 0),\n",
              " (\"Chili's Tunisie\", 0),\n",
              " ('UMass Dining', 0),\n",
              " ('Pollo Campero Guatemala', 0),\n",
              " ('KFC_11', 0),\n",
              " ('Danny Smiles', 0),\n",
              " ('Mathieu Pacaud', 0),\n",
              " ('Chef Alex Levin', 0),\n",
              " ('FONDA MEXICANA', 0),\n",
              " ('Luke Thomas', 0),\n",
              " ('Chope_1', 0),\n",
              " ('Relais & Châteaux_1', 0),\n",
              " ('Chope_2', 0),\n",
              " ('Anis Nabilah', 0),\n",
              " ('Skinny Chef', 0),\n",
              " ('Johnny Prep', 0),\n",
              " ('Nutella Cafe Chicago', 0),\n",
              " ('KFC_21', 0),\n",
              " ('Martha Collison', 0),\n",
              " (\"McDonald's_59\", 0),\n",
              " ('Five Guys_2', 0),\n",
              " ('Chef Adrianne', 0),\n",
              " ('Norbert Tarayre', 0),\n",
              " ('Texas Roadhouse', 0),\n",
              " ('Pollo Campero El Salvador', 0),\n",
              " ('PROPERCORN', 0),\n",
              " (\"Dunkin' Donuts_2\", 0),\n",
              " ('Angel Leon Gonzalez', 0),\n",
              " ('Lío', 0),\n",
              " ('Frantzén', 0),\n",
              " (\"McDonald's_3\", 0),\n",
              " (\"McDonald's_24\", 0),\n",
              " (\"McDonald's_58\", 0),\n",
              " (\"McDonald's_20\", 0),\n",
              " (\"Dunkin' Donuts_6\", 0),\n",
              " (\"Dunkin' Donuts_7\", 0),\n",
              " ('Logan Junior Chef', 0.05331945408281286),\n",
              " (\"McDonald's_6\", 0.07130333138515488),\n",
              " ('Vicky Ratnani', 0.07142857142857142),\n",
              " ('Chef Clément', 0.07142857142857142),\n",
              " ('Spago Las Vegas', 0.07575757575757576),\n",
              " ('Wolfgang Puck', 0.0761904761904762),\n",
              " (\"Chili's Grill & Bar\", 0.1),\n",
              " ('Emmi CAFFÈ LATTE_4', 0.1),\n",
              " ('Emily Ellyn', 0.11264367816091954),\n",
              " ('Dani García', 0.11931818181818182),\n",
              " ('Graham Elliot', 0.12380952380952381),\n",
              " (\"McDonald's_51\", 0.12666666666666668),\n",
              " (\"Cristian D'Elia\", 0.12727272727272726),\n",
              " ('Fabio Viviani', 0.13186813186813187),\n",
              " ('Monti Carlo', 0.13333333333333333),\n",
              " ('Hilah Cooking', 0.13333333333333333),\n",
              " ('Chef Andrew Gruel', 0.1388888888888889),\n",
              " ('Chef Hirohiko Shoda', 0.14285714285714285),\n",
              " ('Kevin Dundon', 0.14285714285714285),\n",
              " ('Chef Billy Parisi', 0.14285714285714285),\n",
              " ('My Cupcake Addiction', 0.15151515151515152),\n",
              " (\"McDonald's_29\", 0.15270935960591134),\n",
              " ('Robin Miller', 0.15356151711378355),\n",
              " ('Matt Moran', 0.15384615384615385),\n",
              " ('Bradley Ogden', 0.15555555555555556),\n",
              " ('Chef Pete Evans', 0.16363636363636364),\n",
              " ('Alain Ducasse', 0.16374269005847952),\n",
              " ('Dean Fearing', 0.16483516483516483),\n",
              " ('George Pagonis', 0.16666666666666666),\n",
              " ('Chef Sheldon Simeon', 0.16666666666666666),\n",
              " (\"Chili's Qatar\", 0.16666666666666666),\n",
              " (\"McDonald's_47\", 0.16666666666666666),\n",
              " ('Christophe Adam', 0.16666666666666666),\n",
              " ('Ranveer Brar', 0.16666666666666666),\n",
              " ('Christian Le Squer', 0.17142857142857143),\n",
              " (\"McDonald's_1\", 0.17316017316017315),\n",
              " ('Paul Bocuse', 0.17647058823529413),\n",
              " ('Chef Sue Zemanick', 0.17777777777777778),\n",
              " ('SORTEDfood', 0.17857142857142858),\n",
              " ('foodpanda / hellofood', 0.17857142857142858),\n",
              " ('Chef Daniel Boulud', 0.18038852913968548),\n",
              " (\"McDonald's República Dominicana\", 0.18095238095238095),\n",
              " ('David Chang', 0.18181818181818182),\n",
              " ('KFC_8', 0.18382352941176472),\n",
              " ('Chef Kent Graham', 0.1849390919158361),\n",
              " ('ChefAlexander', 0.18681318681318682),\n",
              " ('Saransh Goila', 0.19047619047619047),\n",
              " ('Eric Ripert', 0.19932659932659932),\n",
              " ('Chuck Hughes', 0.2),\n",
              " ('Chef Michelle Bernstein', 0.2),\n",
              " ('Chef Casey Thompson', 0.2),\n",
              " (\"McDonald's_30\", 0.2),\n",
              " ('Eddie Jackson - FIT CHEF EDDIE', 0.2),\n",
              " ('Karen Martini', 0.2),\n",
              " ('Chef Mary Sue Milliken', 0.2),\n",
              " ('The French Laundry', 0.2),\n",
              " ('Martín Berasategui', 0.2),\n",
              " ('Christine Ha', 0.2),\n",
              " ('Chef Damaris Phillips', 0.2),\n",
              " ('Bobby Flay', 0.2021505376344086),\n",
              " ('Tom Colicchio', 0.21021021021021022),\n",
              " ('Hubert Keller', 0.2134387351778656),\n",
              " ('Gary Mehigan', 0.21428571428571427),\n",
              " ('Taste Of Paris Official', 0.21428571428571427),\n",
              " ('Hugh Acheson', 0.21666666666666667),\n",
              " ('Chef Carlo Cracco', 0.2222222222222222),\n",
              " ('Mirko Ronzoni', 0.2222222222222222),\n",
              " ('Antonino Cannavacciuolo', 0.2222222222222222),\n",
              " (\"D'O - Davide Oldani\", 0.2222222222222222),\n",
              " ('Bruno Ménard', 0.22857142857142856),\n",
              " ('Donal Skehan', 0.23076923076923078),\n",
              " ('Chef Mark Garcia', 0.23376623376623376),\n",
              " ('Roy Yamaguchi', 0.23809523809523808),\n",
              " ('Colin Fassnidge', 0.23809523809523808),\n",
              " ('Narda Lepes', 0.24166666666666667),\n",
              " ('Susan Feniger', 0.2426470588235294),\n",
              " ('Marcus Samuelsson', 0.24731182795698925),\n",
              " ('Ludo Lefebvre', 0.24761904761904763),\n",
              " (\"McDonald's_10\", 0.25),\n",
              " ('Scott Conant', 0.25019607843137254),\n",
              " ('Alex Guarnaschelli', 0.2506938020351526),\n",
              " ('Elizabeth Karmel', 0.25071225071225073),\n",
              " ('Donato De Santis', 0.2564102564102564),\n",
              " (\"Domino's Pizza_15\", 0.2597402597402597),\n",
              " ('JW Café - JW Marriott Hotel Hanoi', 0.2597402597402597),\n",
              " ('René Redzepi', 0.2605042016806723),\n",
              " ('Lee Anne Wong', 0.26666666666666666),\n",
              " ('Delverde_2', 0.26666666666666666),\n",
              " ('Marc Forgione', 0.26666666666666666),\n",
              " (\"McDonald's_45\", 0.26666666666666666),\n",
              " ('Anne-Sophie Pic', 0.26666666666666666),\n",
              " ('Bruno Barbieri', 0.26666666666666666),\n",
              " ('Bryce Shuman', 0.2714285714285714),\n",
              " ('John DeLucie', 0.2727272727272727),\n",
              " ('Chef Jet Tila', 0.2731182795698925),\n",
              " ('Chef Richard Sandoval', 0.27472527472527475),\n",
              " ('Tom Aikens', 0.27666666666666667),\n",
              " ('Alfred Portale', 0.2777777777777778),\n",
              " ('Massimo Mele', 0.2777777777777778),\n",
              " ('Pasqualino Barbasso', 0.2857142857142857),\n",
              " ('Christian Bau', 0.2857142857142857),\n",
              " ('Christophe Michalak', 0.2857142857142857),\n",
              " ('Raymond Blanc', 0.2857142857142857),\n",
              " ('Sanjeev Kapoor', 0.2857142857142857),\n",
              " ('Kunal Kapur', 0.2857142857142857),\n",
              " ('Amy Thielen', 0.2857142857142857),\n",
              " ('Nikki Dinki', 0.2857142857142857),\n",
              " ('Michel Nischan', 0.28615384615384615),\n",
              " ('Chef David Burke', 0.29004329004329005),\n",
              " ('Manu Feildel', 0.2909090909090909),\n",
              " ('Vegan Black Metal Chef', 0.2967032967032967),\n",
              " ('Chef Robert Irvine', 0.2987012987012987),\n",
              " ('Chef Maeve Rochford', 0.3),\n",
              " ('Paul Hollywood', 0.3),\n",
              " ('Simon Gault', 0.3),\n",
              " ('Chef Lorena Garcia', 0.3),\n",
              " ('John Whaite', 0.3),\n",
              " (\"Nicko's Kitchen\", 0.3),\n",
              " ('Guga Rocha', 0.3),\n",
              " ('KFC_18', 0.3),\n",
              " ('Julia Child', 0.3047619047619048),\n",
              " ('Chef Elizabeth Falkner', 0.3054187192118227),\n",
              " ('Jean-François Piège     -      Page Officielle', 0.3055555555555556),\n",
              " ('Alex Atala', 0.3055555555555556),\n",
              " (\"McDonald's_55\", 0.3055555555555556),\n",
              " ('Tim Love', 0.3111111111111111),\n",
              " ('Chef Carla Hall', 0.31521739130434784),\n",
              " ('Virginia Willis', 0.3157894736842105),\n",
              " ('Taco Bell', 0.3181818181818182),\n",
              " ('Roy Choi', 0.3181818181818182),\n",
              " ('KFC_27', 0.3181818181818182),\n",
              " ('Dining with Flynn', 0.32),\n",
              " (\"McDonald's_52\", 0.32142857142857145),\n",
              " ('Guy Savoy', 0.32142857142857145),\n",
              " ('Alessandro Borghese', 0.3333333333333333),\n",
              " (\"Roy's Restaurant\", 0.3333333333333333),\n",
              " ('Seamus Mullen', 0.3333333333333333),\n",
              " (\"Domino's Pizza_5\", 0.3333333333333333),\n",
              " (\"Nando's_1\", 0.3333333333333333),\n",
              " (\"McDonald's_15\", 0.3333333333333333),\n",
              " ('Leslie Gilliams', 0.3333333333333333),\n",
              " (\"McDonald's_38\", 0.3333333333333333),\n",
              " ('Chef Rick Moonen', 0.3333333333333333),\n",
              " ('Christophe Bacquie', 0.3333333333333333),\n",
              " ('Chef Shirley Chung', 0.3333333333333333),\n",
              " ('Chef Michael Ferraro', 0.3333333333333333),\n",
              " ('Chef Brian Duffy', 0.3333333333333333),\n",
              " ('Niko Romito', 0.3333333333333333),\n",
              " ('Audra Morrice', 0.3333333333333333),\n",
              " ('Bubba Gump Shrimp Co.', 0.3333333333333333),\n",
              " ('Chef G. Garvin', 0.3333333333333333),\n",
              " ('Simon Bryant', 0.3333333333333333),\n",
              " ('Relais & Châteaux_2', 0.3333333333333333),\n",
              " ('Olive Garden México', 0.3333333333333333),\n",
              " ('麥當勞', 0.3333333333333333),\n",
              " ('Quique Dacosta', 0.3333333333333333),\n",
              " ('Burger King Thailand', 0.3333333333333333),\n",
              " ('Susur Lee', 0.3333333333333333),\n",
              " ('Peter Kuruvita', 0.3333333333333333),\n",
              " ('Josh Marks', 0.3333333333333333),\n",
              " ('Emmi CAFFÈ LATTE_2', 0.3333333333333333),\n",
              " ('Telepizza Guatemala', 0.3333333333333333),\n",
              " ('Chef Rusty Hamlin', 0.3333333333333333),\n",
              " ('Wings', 0.3333333333333333),\n",
              " ('Emma Frisch', 0.3333333333333333),\n",
              " (\"McDonald's_31\", 0.3333333333333333),\n",
              " ('El Torito', 0.3333333333333333),\n",
              " ('Chef Ben Ford', 0.3333333333333333),\n",
              " ('Chef Dana Cohen HK', 0.3333333333333333),\n",
              " (\"McDonald's_19\", 0.3333333333333333),\n",
              " ('Barbie Marshall', 0.3333333333333333),\n",
              " (\"McDonald's_9\", 0.3333333333333333),\n",
              " ('Jacques Pépin', 0.3387096774193548),\n",
              " ('Geoffrey Zakarian', 0.34022988505747126),\n",
              " ('Chef Jamie Gwen', 0.34285714285714286),\n",
              " ('José Andrés', 0.3439153439153439),\n",
              " ('Aarón Sánchez', 0.35177865612648224),\n",
              " ('Anne Burrell', 0.3523809523809524),\n",
              " ('KFC_3', 0.3611111111111111),\n",
              " (\"McDonald's_2\", 0.37777777777777777),\n",
              " ('Per Se', 0.38095238095238093),\n",
              " ('Blue Ribbon Restaurants', 0.38095238095238093),\n",
              " ('Felicitas Pizarro', 0.38095238095238093),\n",
              " ('Jumia Food_3', 0.38095238095238093),\n",
              " ('Cook with Amber', 0.38095238095238093),\n",
              " (\"Domino's Australia\", 0.38461538461538464),\n",
              " ('Levi Eirinberg', 0.3888888888888889),\n",
              " ('Johnny Iuzzini', 0.39166666666666666),\n",
              " (\"McDonald's_56\", 0.39285714285714285),\n",
              " ('Jumia Food_8', 0.4),\n",
              " ('Ernst Knam', 0.4),\n",
              " ('Juliana Lopez May', 0.4),\n",
              " (\"Nando's_11\", 0.4),\n",
              " ('KFC_16', 0.4),\n",
              " ('Marcel Vigneron', 0.4),\n",
              " ('Spike Mendelsohn', 0.4),\n",
              " ('Stephanie Izard', 0.4),\n",
              " ('Rachel Allen', 0.4),\n",
              " (\"Manjula's Kitchen - Indian Vegetarian Recipes\", 0.4),\n",
              " (\"McDonald's_42\", 0.4),\n",
              " (\"Domino's Pizza_4\", 0.4090909090909091),\n",
              " (\"McDonald's_18\", 0.4090909090909091),\n",
              " ('Enrique Olvera', 0.4090909090909091),\n",
              " ('Chef Marc Murphy', 0.41125541125541126),\n",
              " ('KFC_22', 0.4166666666666667),\n",
              " ('Cesare Casella', 0.4166666666666667),\n",
              " ('Sang Yoon', 0.4166666666666667),\n",
              " (\"Domino's Pizza_16\", 0.4222222222222222),\n",
              " ('James Martin', 0.42857142857142855),\n",
              " (\"McDonald's_33\", 0.42857142857142855),\n",
              " (\"McDonald's_23\", 0.42857142857142855),\n",
              " ('Chart House', 0.42857142857142855),\n",
              " ('Chef Derrick Fox', 0.42857142857142855),\n",
              " ('Josh Elkin', 0.42857142857142855),\n",
              " ('KFC_23', 0.42857142857142855),\n",
              " ('Francis Mallmann', 0.42857142857142855),\n",
              " ('KFC_20', 0.43636363636363634),\n",
              " (\"Nando's_13\", 0.4444444444444444),\n",
              " ('Cuoco Filippo La Mantia', 0.4642857142857143),\n",
              " ('Michael White', 0.4642857142857143),\n",
              " ('Jumia Food_10', 0.4666666666666667),\n",
              " ('Taco Bell Cyprus', 0.4666666666666667),\n",
              " (\"McDonald's_21\", 0.4666666666666667),\n",
              " ('Karlos Arguiñano', 0.4666666666666667),\n",
              " ('Grand Concourse', 0.4696969696969697),\n",
              " ('Mei Lin', 0.47794117647058826),\n",
              " ('Jumia Food_7', 0.5),\n",
              " (\"Nando's_2\", 0.5),\n",
              " (\"Nando's_15\", 0.5),\n",
              " (\"McDonald's_16\", 0.5),\n",
              " ('KFC_10', 0.5),\n",
              " ('Chef Ben Churchill', 0.5),\n",
              " ('Magnum_2', 0.5),\n",
              " ('Brooke Williamson', 0.5),\n",
              " (\"McDonald's_13\", 0.5),\n",
              " ('Chef Marcela Valladolid', 0.5),\n",
              " ('Justin Warner', 0.5),\n",
              " ('KFC_12', 0.5),\n",
              " ('Alex French Guy Cooking', 0.5),\n",
              " ('Los Petersen Cocineros', 0.5),\n",
              " (\"McDonald's_17\", 0.5),\n",
              " ('Doug Adams', 0.5083333333333333),\n",
              " ('Daniel Humm', 0.5151515151515151),\n",
              " ('Jumia Food_2', 0.5238095238095238),\n",
              " (\"Nando's_6\", 0.5238095238095238),\n",
              " ('Dean Sheremet', 0.5238095238095238),\n",
              " ('達美樂披薩', 0.5238095238095238),\n",
              " (\"McDonald's_43\", 0.5238095238095238),\n",
              " (\"McDonald's_7\", 0.5333333333333333),\n",
              " ('Donatella Arpaia', 0.5333333333333333),\n",
              " ('Juan Mari Arzak (Página oficial)', 0.5333333333333333),\n",
              " ('Taco Bell UK', 0.5333333333333333),\n",
              " (\"McDonald's_40\", 0.5357142857142857),\n",
              " ('Kristen Kish', 0.5494505494505495),\n",
              " (\"Nando's_9\", 0.5555555555555556),\n",
              " ('Chef Charlie Palmer', 0.5555555555555556),\n",
              " (\"Domino's Pizza_9\", 0.5583333333333333),\n",
              " (\"McDonald's_39\", 0.5714285714285714),\n",
              " ('Grotto', 0.5714285714285714),\n",
              " ('Christina Tosi', 0.5777777777777777),\n",
              " (\"McDonald's Japan\", 0.6),\n",
              " (\"McDonald's_14\", 0.6),\n",
              " ('Guillaume Gomez', 0.6),\n",
              " ('Pablo Massey', 0.6),\n",
              " (\"Nando's_5\", 0.6),\n",
              " ('Santiago Giorgini', 0.6),\n",
              " ('Food Busker', 0.6),\n",
              " ('Jumia Food_4', 0.6),\n",
              " (\"McDonald's_22\", 0.6),\n",
              " (\"Domino's Pizza_20\", 0.6),\n",
              " ('KFC_25', 0.6),\n",
              " ('Germán Martitegui', 0.6071428571428571),\n",
              " (\"Nando's_3\", 0.6190476190476191),\n",
              " ('Gregory Gourdet', 0.6190476190476191),\n",
              " ('Melissa King', 0.6363636363636364),\n",
              " ('Dan Kluger', 0.6444444444444445),\n",
              " ('Andy Luotto', 0.6666666666666666),\n",
              " ('Outback Steakhouse', 0.6666666666666666),\n",
              " (\"Carrabba's Italian Grill\", 0.6666666666666666),\n",
              " ('Bonefish Grill', 0.6666666666666666),\n",
              " ('Blue Ribbon Fried Chicken', 0.6666666666666666),\n",
              " ('Zac Kara', 0.6666666666666666),\n",
              " ('Delverde_4', 0.6666666666666666),\n",
              " (\"Nando's_14\", 0.6666666666666666),\n",
              " ('Shane Delia', 0.6666666666666666),\n",
              " (\"McDonald's_25\", 0.6666666666666666),\n",
              " (\"McDonald's_46\", 0.6666666666666666),\n",
              " (\"McDonald's_5\", 0.6666666666666666),\n",
              " ('Cat Cora', 0.6666666666666666),\n",
              " ('Samin Nosrat', 0.6666666666666666),\n",
              " ('Noma', 0.6666666666666666),\n",
              " ('Celler de Can Roca', 0.6666666666666666),\n",
              " ('Chef Francois Payard', 0.6666666666666666),\n",
              " (\"Domino's Mx\", 0.6666666666666666),\n",
              " ('Carlos Bertolazzi', 0.6666666666666666),\n",
              " ('Ogro Jimmy', 0.6666666666666666),\n",
              " ('도미노피자(Dominostory)', 0.6666666666666666),\n",
              " (\"McDonald's_4\", 0.6666666666666666),\n",
              " ('KFC_19', 0.6666666666666666),\n",
              " ('Jumia Food_1', 0.6666666666666666),\n",
              " ('Cocina familiar con Javier Romero', 0.6666666666666666),\n",
              " ('Jumia Food_5', 0.6666666666666666),\n",
              " ('Sonia Peronaci', 0.6666666666666666),\n",
              " (\"McDonald's_54\", 0.6666666666666666),\n",
              " ('Chevys Fresh Mex', 0.6666666666666666),\n",
              " ('Amandine Chaignot', 0.6666666666666666),\n",
              " ('Pierre Sang Boyer Officiel', 0.6666666666666666),\n",
              " (\"Domino's Pizza_8\", 0.6666666666666666),\n",
              " (\"Domino's Pizza_10\", 0.6785714285714286),\n",
              " ('Gandy Dancer Saloon/Oyster Bar', 0.6944444444444444),\n",
              " ('Camille Becerra', 0.7),\n",
              " ('KFC_5', 0.7),\n",
              " ('Taco Bell Guatemala', 0.7142857142857143),\n",
              " (\"McDonald's_53\", 0.7333333333333333),\n",
              " (\"Domino's Pizza Türkiye\", 0.7333333333333333),\n",
              " ('Ken Oringer', 0.7454545454545455),\n",
              " ('Big Fish Seafood Bistro_2', 0.75),\n",
              " (\"Domino's Pizza_19\", 0.7564102564102564),\n",
              " (\"Domino's Pizza_17\", 0.7692307692307693),\n",
              " (\"Domino's Pizza_1\", 0.7692307692307693),\n",
              " ('Taco Bell Rep Dom', 0.8),\n",
              " ('Jumia Food_9', 0.8),\n",
              " (\"Domino's Pizza_6\", 0.8),\n",
              " ('KFC_14', 0.8),\n",
              " ('Big Fish Seafood Bistro_1', 0.8055555555555556),\n",
              " (\"McDonald's_32\", 0.8333333333333334),\n",
              " (\"McDonald's_28\", 0.8333333333333334),\n",
              " (\"McDonald's_36\", 0.8333333333333334),\n",
              " ('YANNICK ALLENO OFFICIEL', 0.8333333333333334),\n",
              " ('Harlem EatUp', 0.8333333333333334),\n",
              " ('KFC_6', 0.8333333333333334),\n",
              " (\"Domino's Pizza_2\", 0.8333333333333334),\n",
              " (\"Domino's Pizza Nigeria\", 0.8333333333333334),\n",
              " ('River Crab Blue Water Inn', 0.8571428571428571),\n",
              " ('Gandy Dancer', 0.8928571428571429),\n",
              " (\"Charley's Crab_2\", 0.8928571428571429),\n",
              " (\"Meriwether's\", 0.8928571428571429),\n",
              " (\"Domino's Pizza_14\", 0.8939393939393939),\n",
              " (\"Domino's Pizza_13\", 0.8939393939393939),\n",
              " (\"Domino's Pizza_12\", 0.8939393939393939),\n",
              " (\"Domino's Pizza_18\", 0.8939393939393939),\n",
              " (\"Dunkin' Donuts_9\", 0.9),\n",
              " ('Jose Garces', 0.9),\n",
              " (\"McDonald's_12\", 0.9),\n",
              " ('Taco Bell Panamá', 0.9333333333333333),\n",
              " ('Taco Bell Costa Rica', 0.9333333333333333),\n",
              " (\"Domino's Pizza_7\", 0.9454545454545454),\n",
              " ('Pat Neely', 1.0),\n",
              " ('Ben Sargent & Dr. Klaw', 1.0),\n",
              " ('Jumia Food_6', 1.0),\n",
              " (\"Chili's México\", 1.0),\n",
              " ('Taco Bell El Salvador', 1.0),\n",
              " ('KFC_17', 1.0),\n",
              " (\"Domino's Pizza_11\", 1.0),\n",
              " ('Delverde_1', 1.0),\n",
              " ('Delverde_3', 1.0),\n",
              " (\"Nando's_12\", 1.0),\n",
              " (\"Nando's_8\", 1.0),\n",
              " (\"McDonald's Deutschland Karriere\", 1.0),\n",
              " (\"McDonald's_37\", 1.0),\n",
              " (\"McDonald's_8\", 1.0),\n",
              " (\"McDonald's_11\", 1.0),\n",
              " ('Valentin Neraudeau', 1.0),\n",
              " ('Chef Aaron McCargo Jr', 1.0),\n",
              " ('Al Brown New Zealand Chef', 1.0),\n",
              " ('Princi', 1.0),\n",
              " ('ad hoc & addendum', 1.0),\n",
              " ('Katie Pix', 1.0),\n",
              " ('KFC_24', 1.0),\n",
              " ('Douglas Keane', 1.0),\n",
              " (\"McDonald's_57\", 1.0),\n",
              " (\"McDonald's_50\", 1.0),\n",
              " ('Taco Bell Kuwait', 1.0),\n",
              " ('タコベル ジャパン\\u3000Taco Bell Japan', 1.0),\n",
              " ('Taco Bell India', 1.0),\n",
              " ('Maru Botana', 1.0),\n",
              " ('Crepes & Waffles', 1.0),\n",
              " ('João Alcantara', 1.0),\n",
              " (\"McDonald's Paraguay\", 1.0),\n",
              " (\"McDonald's_34\", 1.0),\n",
              " ('Buddy Valastro', 1.0),\n",
              " ('Dale Talde', 1.0),\n",
              " ('Emmi CAFFÈ LATTE_3', 1.0),\n",
              " (\"Nando's_10\", 1.0),\n",
              " (\"Nando's_7\", 1.0),\n",
              " ('Marc Veyrat', 1.0),\n",
              " (\"Charley's Crab_1\", 1.0),\n",
              " ('Eduardo Palazuelos', 1.0),\n",
              " ('Red Lobster México', 1.0),\n",
              " (\"Bobby's Burger Palace\", 1.0),\n",
              " (\"McDonald's_35\", 1.0),\n",
              " (\"McDonald's_41\", 1.0),\n",
              " ('Hakim Chajar', 1.0),\n",
              " ('Ricardo Cuisine', 1.0),\n",
              " ('Acapulco', 1.0),\n",
              " ('Pescaria', 1.0),\n",
              " ('Five Guys_1', 1.0),\n",
              " ('Maneet Chauhan', 1.0),\n",
              " ('The Tuscan Gun', 1.0),\n",
              " (\"Domino's Guatemala\", 1.0),\n",
              " (\"Gino D'Acampo\", 1.0),\n",
              " ('Thomas Keller', 1.0),\n",
              " ('Eva Arguiñano', 1.0),\n",
              " ('Bruno Oteiza', 1.0),\n",
              " (\"McDonald's_26\", 1.0),\n",
              " (\"McDonald's_27\", 1.0),\n",
              " (\"McDonald's_49\", 1.0)]"
            ]
          },
          "metadata": {
            "tags": []
          },
          "execution_count": 72
        }
      ]
    },
    {
      "cell_type": "code",
      "metadata": {
        "colab": {
          "base_uri": "https://localhost:8080/"
        },
        "id": "CcbtpU04EjyJ",
        "outputId": "e305b17c-c0e0-47d0-947c-3d606c1c721b"
      },
      "source": [
        "triangle = nx.triangles(G)\n",
        "list(triangle.items())[0:20]\n",
        "#len(triangle)"
      ],
      "execution_count": 73,
      "outputs": [
        {
          "output_type": "execute_result",
          "data": {
            "text/plain": [
              "[('Lee Anne Wong', 4),\n",
              " ('KFC_3', 13),\n",
              " ('Chef Jamie Gwen', 36),\n",
              " ('Madison Cowan', 0),\n",
              " ('Elizabeth Karmel', 88),\n",
              " ('KFC_22', 15),\n",
              " ('KFC_8', 25),\n",
              " ('Pat Neely', 1),\n",
              " ('Logan Junior Chef', 461),\n",
              " ('Robin Miller', 166),\n",
              " ('Ben Sargent & Dr. Klaw', 3),\n",
              " ('Bobby Flay', 94),\n",
              " ('Chuck Hughes', 11),\n",
              " ('Chef Carlo Cracco', 10),\n",
              " ('Pasqualino Barbasso', 6),\n",
              " ('Alessandro Borghese', 15),\n",
              " ('Chef Hirohiko Shoda', 3),\n",
              " ('Alain Ducasse', 28),\n",
              " ('Christian Bau', 6),\n",
              " ('Andy Luotto', 2)]"
            ]
          },
          "metadata": {
            "tags": []
          },
          "execution_count": 73
        }
      ]
    },
    {
      "cell_type": "code",
      "metadata": {
        "colab": {
          "base_uri": "https://localhost:8080/"
        },
        "id": "5gWiREgwyc3I",
        "outputId": "9f4442ee-8093-4141-fafc-190f53e3ce0d"
      },
      "source": [
        "print(\"TOTAL number of triangles in the graph: \", sum(list(nx.triangles(G).values())))"
      ],
      "execution_count": 74,
      "outputs": [
        {
          "output_type": "stream",
          "text": [
            "TOTAL number of triangles in the graph:  8805\n"
          ],
          "name": "stdout"
        }
      ]
    },
    {
      "cell_type": "markdown",
      "metadata": {
        "id": "5KNFNIWLDt7z"
      },
      "source": [
        "\n",
        " <br>"
      ]
    },
    {
      "cell_type": "markdown",
      "metadata": {
        "id": "5GtY7sh6DuFl"
      },
      "source": [
        "## Centrality\n",
        "\n"
      ]
    },
    {
      "cell_type": "code",
      "metadata": {
        "id": "F3mhnNFPgPhh",
        "colab": {
          "base_uri": "https://localhost:8080/"
        },
        "outputId": "06f1bcd2-d1a0-40bc-8953-4cdb5549fbd3"
      },
      "source": [
        "deg_centr = nx.degree_centrality(G)\n",
        "sort_orders = sorted(deg_centr.items(), key=lambda x: x[1], reverse=True)\n",
        "\n",
        "print(\"10 most important nodes for Degree Centrality:\")\n",
        "for i in range(10):\n",
        "  print(sort_orders[i])\n"
      ],
      "execution_count": 75,
      "outputs": [
        {
          "output_type": "stream",
          "text": [
            "10 most important nodes for Degree Centrality:\n",
            "('Logan Junior Chef', 0.21647819063004847)\n",
            "(\"McDonald's_6\", 0.09531502423263329)\n",
            "('David Chang', 0.09046849757673668)\n",
            "('Eric Ripert', 0.0888529886914378)\n",
            "('Scott Conant', 0.08239095315024234)\n",
            "('Robin Miller', 0.07592891760904685)\n",
            "('Alex Guarnaschelli', 0.07592891760904685)\n",
            "('Chef Daniel Boulud', 0.07592891760904685)\n",
            "('Chef Kent Graham', 0.06946688206785137)\n",
            "('Tom Colicchio', 0.05977382875605816)\n"
          ],
          "name": "stdout"
        }
      ]
    },
    {
      "cell_type": "code",
      "metadata": {
        "id": "whZyzs7nsh3r",
        "colab": {
          "base_uri": "https://localhost:8080/"
        },
        "outputId": "a279588d-4483-43db-abc6-1342bcdc3d59"
      },
      "source": [
        "betweenesCentrality = nx.betweenness_centrality(G)\n",
        "sort_orders = sorted(betweenesCentrality.items(), key=lambda x: x[1], reverse=True)\n",
        "print(\"10 most important nodes for Betweennes Centrality:\")\n",
        "for i in range(10):\n",
        "  print(sort_orders[i])\n"
      ],
      "execution_count": 76,
      "outputs": [
        {
          "output_type": "stream",
          "text": [
            "10 most important nodes for Betweennes Centrality:\n",
            "('Logan Junior Chef', 0.3499076661737777)\n",
            "(\"McDonald's_51\", 0.1619605706800918)\n",
            "(\"McDonald's_6\", 0.14456288292404343)\n",
            "('Subway', 0.09327260616363368)\n",
            "('Chef Robert Irvine', 0.09141807568331686)\n",
            "('foodpanda - 空腹熊貓', 0.07911166993681569)\n",
            "('Dani García', 0.07229884637101391)\n",
            "('達美樂披薩', 0.05838784338316884)\n",
            "('Marcus Samuelsson', 0.057229302697032476)\n",
            "('Chef Lorena Garcia', 0.057020665866287595)\n"
          ],
          "name": "stdout"
        }
      ]
    },
    {
      "cell_type": "code",
      "metadata": {
        "id": "R8x--vrLCPLa",
        "colab": {
          "base_uri": "https://localhost:8080/"
        },
        "outputId": "55675572-ce32-4170-eb6c-15ef1d763f6e"
      },
      "source": [
        "eigen = nx.eigenvector_centrality(G)\n",
        "sort_orders = sorted(eigen.items(), key=lambda x: x[1], reverse=True)\n",
        "print(\"10 most important nodes for Eigenvector Centrality:\")\n",
        "for i in range(10):\n",
        "  print(sort_orders[i])\n"
      ],
      "execution_count": 77,
      "outputs": [
        {
          "output_type": "stream",
          "text": [
            "10 most important nodes for Eigenvector Centrality:\n",
            "('Logan Junior Chef', 0.3257521783526796)\n",
            "('Scott Conant', 0.2212476362249716)\n",
            "('Eric Ripert', 0.21990111769744997)\n",
            "('David Chang', 0.2073087464245374)\n",
            "('Alex Guarnaschelli', 0.20600750503290316)\n",
            "('Robin Miller', 0.18493902862814815)\n",
            "('Chef Kent Graham', 0.17958444309886806)\n",
            "('Chef Daniel Boulud', 0.17605019181207027)\n",
            "('Jacques Pépin', 0.16176590042363934)\n",
            "('René Redzepi', 0.15717739346300846)\n"
          ],
          "name": "stdout"
        }
      ]
    },
    {
      "cell_type": "code",
      "metadata": {
        "id": "ZXafFd7cjc9_",
        "colab": {
          "base_uri": "https://localhost:8080/"
        },
        "outputId": "021fb0cc-4759-4d1e-e046-c21dfa8324ce"
      },
      "source": [
        "pagerank = nx.pagerank(G)\n",
        "sort_orders = sorted(pagerank.items(), key=lambda x: x[1], reverse=True)\n",
        "print(\"10 most important nodes for Page Rank:\")\n",
        "for i in range(10):\n",
        "  print(sort_orders[i])"
      ],
      "execution_count": 78,
      "outputs": [
        {
          "output_type": "stream",
          "text": [
            "10 most important nodes for Page Rank:\n",
            "('Logan Junior Chef', 0.025287363082514766)\n",
            "(\"McDonald's_6\", 0.014547869032715707)\n",
            "('David Chang', 0.008860842463979819)\n",
            "('Eric Ripert', 0.008394578695731944)\n",
            "('Scott Conant', 0.00765590500196909)\n",
            "('Chef Daniel Boulud', 0.007613723777791042)\n",
            "('Robin Miller', 0.007566138546930535)\n",
            "('Dani García', 0.007270498839968533)\n",
            "(\"McDonald's_29\", 0.007234882262368256)\n",
            "('Alex Guarnaschelli', 0.007152129703475652)\n"
          ],
          "name": "stdout"
        }
      ]
    },
    {
      "cell_type": "code",
      "metadata": {
        "id": "y3QaV4BvDc-p"
      },
      "source": [
        ""
      ],
      "execution_count": 78,
      "outputs": []
    },
    {
      "cell_type": "code",
      "metadata": {
        "id": "wkLyZWZZDldG"
      },
      "source": [
        ""
      ],
      "execution_count": 78,
      "outputs": []
    },
    {
      "cell_type": "markdown",
      "metadata": {
        "id": "1VmuowQtE_jJ"
      },
      "source": [
        "\n",
        " <br>"
      ]
    },
    {
      "cell_type": "markdown",
      "metadata": {
        "id": "K9YtqVmfFAjk"
      },
      "source": [
        "## Communities\n"
      ]
    },
    {
      "cell_type": "code",
      "metadata": {
        "id": "ByN04Fq6dUrw",
        "outputId": "992dadc1-71ed-46fe-fda2-3d153925cba7",
        "colab": {
          "base_uri": "https://localhost:8080/"
        }
      },
      "source": [
        "!pip install python-louvain"
      ],
      "execution_count": 85,
      "outputs": [
        {
          "output_type": "stream",
          "text": [
            "Requirement already satisfied: python-louvain in /usr/local/lib/python3.7/dist-packages (0.15)\n",
            "Requirement already satisfied: networkx in /usr/local/lib/python3.7/dist-packages (from python-louvain) (2.5.1)\n",
            "Requirement already satisfied: numpy in /usr/local/lib/python3.7/dist-packages (from python-louvain) (1.19.5)\n",
            "Requirement already satisfied: decorator<5,>=4.3 in /usr/local/lib/python3.7/dist-packages (from networkx->python-louvain) (4.4.2)\n"
          ],
          "name": "stdout"
        }
      ]
    },
    {
      "cell_type": "code",
      "metadata": {
        "colab": {
          "base_uri": "https://localhost:8080/"
        },
        "id": "Rs36FKE2FAAz",
        "outputId": "621f4e57-e554-4de8-a404-044f94ffeed3"
      },
      "source": [
        "import networkx.algorithms.community as nx_comm\n",
        "\n",
        "import community.community_louvain as community_louvain\n",
        "\n",
        "import matplotlib.cm as cm\n",
        "import matplotlib.pyplot as plt\n",
        "import networkx as nx\n",
        "\n",
        "list_community_sets_greedy = list(nx_comm.greedy_modularity_communities(G))\n",
        "print(list_community_sets_greedy[0:20])"
      ],
      "execution_count": 94,
      "outputs": [
        {
          "output_type": "stream",
          "text": [
            "[frozenset({'Five Guys_1', 'Pat Neely', 'Harold Dieterle', 'Chef Nina Compton', 'Jehangir', 'John DeLucie', 'Martín Berasategui', 'Chef Casey Thompson', 'Frantzén', 'Chef Elizabeth Falkner', 'Chef Rick Moonen', 'Chef Daniel Boulud', 'Santiago Giorgini', 'Cat Cora', 'Doug Adams', 'Chef Ana Paula', 'Chef Michael Smith', 'Alfred Portale', 'Veggie Grill', 'Hubert Keller', \"Chef Claudia's Cocina\", 'UMass Dining', 'Dale Talde', 'Maria Loi', 'Sang Yoon', 'Stephanie Izard', 'Marcus Samuelsson', 'John Whaite', 'Chef Kent Graham', 'Blue Ribbon Fried Chicken', 'Cesare Casella', 'Jacques Pépin', 'João Alcantara', 'Franklin Barbecue', 'Josh Elkin', 'Ken Oringer', 'Los Petersen Cocineros', 'Melissa King', 'Chef G. Garvin', 'Angelo Sosa', 'Paul Qui', 'Logan Junior Chef', 'Guga Rocha', 'Geoffrey Zakarian', 'Suzanne Goin', 'NishaMadhulika', 'Robin Miller', 'Chef Francois Payard', 'Angel Leon Gonzalez', 'Christina Tosi', 'Chef Charlie Palmer', 'Dan Kluger', 'Chef Michelle Bernstein', 'Chef Kiran Jethwa', \"D'O - Davide Oldani\", 'Buddy Valastro', \"'Wichcraft\", 'Aarón Sánchez', 'Maru Botana', 'Michael White', 'Cook with Chef Duminda', 'Chef Shirley Chung', 'Franklin Becker', 'Marc Forgione', 'Tim Love', 'Red Robin Gourmet Burgers', 'Johnny Iuzzini', 'René Redzepi', 'Bradley Ogden', 'Anne Burrell', 'Chef Alex Levin', 'Michel Nischan', 'Dining with Flynn', 'Gavin Kaysen', 'Chef Marcela Valladolid', 'Seamus Mullen', 'Donato De Santis', 'Michael Lomonaco', 'Mei Lin', 'Chef Brian Duffy', 'Nyesha Arrington', 'Tom Colicchio', 'Chef Robert Irvine', 'Chef David Burke', 'Narda Lepes', 'Dean Fearing', 'Marcel Vigneron', 'Pablo Massey', 'Chef Richard Sandoval', 'Cocina familiar con Javier Romero', 'Alex Guarnaschelli', 'Chef Rick Tramonto', 'Ludo Lefebvre', 'Chef Mark Garcia', 'Daniel Humm', 'Donatella Arpaia', 'Julia Child', 'Carlos Bertolazzi', 'Chef Ben Churchill', 'Bobby Flay', 'Matthew Kenney', 'Ogro Jimmy', 'DedeMed', 'Claire Robinson', 'Chef Lorena Garcia', 'Amy Thielen', 'Maneet Chauhan', 'Diego Guerrero', 'Chef Mary Sue Milliken', 'The Tuscan Gun', 'Kirti Bhoutika', 'Elizabeth Karmel', 'Blue Ribbon Restaurants', 'Chef Marc Murphy', 'Chef Jamie Gwen', 'Eduardo Palazuelos', 'Juliana Lopez May', 'Chef Cynthia Louise', 'Chef Jennifer Carroll', 'Chef Diego Lozano', \"Dunkin' Donuts_9\", 'Chef Ben Ford', 'Chef Carmen Gonzalez', 'Hugh Acheson', 'Bryce Shuman', 'David Chang', 'Magnum_2', 'Francis Mallmann', 'Harlem EatUp', 'Chef Jet Tila', \"Xi'an Famous Foods 西安名吃\", 'Brooke Williamson', 'Eric Ripert', 'Quique Dacosta', 'Pedro Lambertini', 'Fabio Viviani', \"Bobby's Burger Palace\", 'Luke Thomas', 'Scott Conant', 'Levi Eirinberg', 'Chef Carla Hall', 'Alex Atala', 'Crepes & Waffles', 'Susan Feniger', 'Virginia Willis', 'Gregory Gourdet', 'Dina Nikolaou', 'Douglas Keane', 'Chef Aaron McCargo Jr', 'José Andrés', 'Aliya LeeKong', 'Tom Aikens', 'Dani García', 'Camille Becerra', 'Chef Sue Zemanick', 'Kristen Kish', 'Enrique Olvera', 'Samin Nosrat', 'Vegan Black Metal Chef', 'Chef Michael Ferraro', 'Jose Garces', 'Dean Sheremet', 'Germán Martitegui', 'Roy Choi'}), frozenset({\"McDonald's_43\", \"McDonald's_50\", '麥當勞', \"McDonald's_34\", \"Steak 'n Shake\", \"McDonald's_14\", \"McDonald's_52\", \"McDonald's_38\", \"McDonald's_39\", \"McDonald's_2\", \"McDonald's_56\", \"McDonald's_6\", \"McDonald's_4\", \"McDonald's_30\", \"McDonald's_35\", \"McDonald's_11\", \"McDonald's_47\", \"McDonald's_13\", \"McDonald's_53\", \"McDonald's_29\", \"McDonald's_37\", \"McDonald's_54\", \"McDonald's_59\", \"McDonald's_22\", \"McDonald's_51\", \"McDonald's República Dominicana\", \"McDonald's_26\", \"McDonald's_46\", \"McDonald's_17\", \"McDonald's_16\", \"McDonald's_45\", \"McDonald's_32\", \"McDonald's_23\", \"McDonald's_15\", \"McDonald's_8\", \"McDonald's_1\", 'Hard Rock Cafe Ibiza', \"McDonald's_10\", \"McDonald's_20\", \"McDonald's_36\", \"McDonald's_57\", \"McDonald's_18\", \"McDonald's_41\", \"McDonald's Vietnam\", \"McDonald's_44\", \"McDonald's_24\", \"맥도날드 (McDonald's)\", 'Nutella Cafe Chicago', \"McDonald's Paraguay\", \"McDonald's Japan\", \"McDonald's Deutschland Karriere\", \"McDonald's_33\", \"McDonald's_9\", \"McDonald's_49\", \"McDonald's_25\", \"McDonald's_3\", \"McDonald's_58\", \"McDonald's_19\", \"McDonald's_5\", \"McDonald's_31\", 'Lío', 'Alberto Chicote', \"McDonald's_27\", \"McDonald's_7\", \"McDonald's_21\", \"McDonald's_42\", \"McDonald's_55\", \"McDonald's_48\", \"McDonald's_12\", \"McDonald's_40\", 'Destino Ibiza', \"McDonald's_28\"}), frozenset({'Chef Derrick Fox', 'Chuck Hughes', 'Spago Las Vegas', 'Christine Ha', 'Eddie Jackson - FIT CHEF EDDIE', 'Ranveer Brar', 'Chef Clément', 'Leslie Gilliams', 'Chef Billy Parisi', 'Texas Roadhouse', 'Chef Rusty Hamlin', 'Hakim Chajar', \"Famous Dave's Bar-B-Que of America\", 'ChefAlexander', 'Justin Warner', 'Chef Dana Cohen HK', 'Sanjeev Kapoor', 'Zac Kara', 'Chef Damaris Phillips', 'Hilah Cooking', 'Chef Andrew Gruel', 'Chick-fil-A', 'The Edgy Veg', \"Jimmy John's\", 'Monti Carlo', 'Danny Smiles', 'Vicky Ratnani', 'Barbie Marshall', 'Saransh Goila', 'Graham Elliot', 'Ochikeron', 'Ricardo Cuisine', 'Spike Mendelsohn', 'Five Guys_2', 'Joanna 劉韋彤', 'José Santaella', 'Cindy Pawlcyn', 'Hearth', 'Chef Todd Mohr', 'MASAの料理ABC', 'Duff Goldman', 'Russell Jackson', 'Nikki Dinki', 'Emily Ellyn', \"Nicko's Kitchen\", 'Roblé', 'משה שגב / Moshe Segev', 'Chef Sam Talbot', 'Ben Sargent & Dr. Klaw', \"Manjula's Kitchen - Indian Vegetarian Recipes\", 'Colin Fassnidge', 'Chef Rubio', 'Josh Marks'}), frozenset({'El Torito', 'foodpanda_3', 'KFC_21', \"Chili's Tunisie\", \"Nando's PERi-PERi\", \"Nando's_1\", 'foodpanda_2', 'Big Fernand', \"Nando's_3\", \"Nando's_8\", \"Chili's Beirut\", 'Second Floor Cafe 貳樓餐飲', \"Chili's Qatar\", 'foodpanda_4', 'foodpanda_8', '翠華餐廳 Tsui Wah Restaurant', \"Nando's_11\", 'Chevys Fresh Mex', \"Nando's_12\", 'Burger King México', \"Nando's_14\", 'Subway', 'foodpanda_6', 'Burger King Nederland', \"Nando's_5\", \"Nando's_7\", 'foodpanda_7', 'On The Border', \"Chili's Grill & Bar\", \"Dunkin' Coffee\", 'foodpanda - 空腹熊貓', 'Subway, Cayman Islands', \"Nando's_2\", \"Nando's_13\", \"Nando's_10\", 'Pescaria', \"Dunkin' Donuts_10\", 'foodpanda_1', \"Nando's_6\", \"Nando's_9\", \"Nando's_15\", \"Chili's México\", 'foodpanda_5', 'Acapulco', \"Nando's_4\", 'Burger King Malaysia'}), frozenset({'Massimo Mele', 'Shane Delia', 'Dan Steph & Emmy', 'Christian Bau', 'Bruno Barbieri', 'Mirko Ronzoni', 'Andy Luotto', 'Simon Bryant', 'Sonia Peronaci', 'Peter Kuruvita', 'Pasqualino Barbasso', 'Al Brown New Zealand Chef', 'Niko Romito', 'Fast Ed', 'Chef Jimmy Boswell', 'Chef Carlo Cracco', 'Manu Feildel', 'Raymond Blanc', 'Francesco Sole', 'Chef Hirohiko Shoda', 'Noma', 'Simon Gault', \"Cristian D'Elia\", 'Iginio Massari', 'Karen Martini', 'Alessandro Borghese', 'Jock Zonfrillo', 'Chef Grace Ramirez', 'Ignacio Mattos', 'Relais & Châteaux_2', 'Cuoco Filippo La Mantia', 'Magnum_3', 'Antonino Cannavacciuolo', 'Ernst Knam', 'Chef Natale Giunta', 'Chef Pete Evans', 'Matt Moran'}), frozenset({'Grotto', 'Chart House', 'Bubba Gump Shrimp Co.', 'River Crab Blue Water Inn', \"Dunkin' Donuts_7\", 'Cucina by Wolfgang Puck', 'Gandy Dancer', 'Four Seasons Hotels and Resorts', 'Big Fish Seafood Bistro_1', \"Dunkin' Donuts_8\", \"Peohe's\", 'La Griglia', 'Chef Maeve Rochford', 'RED Sushi and Hibachi Grill', 'Steve Konopelski', \"Dunkin' Donuts_6\", \"Charley's Crab_1\", 'Big Fish Seafood Bistro_2', 'T-rex Cafe', 'Cadillac Bar Houston', 'Gandy Dancer Saloon/Oyster Bar', 'Aquarium Restaurant - Nashville', 'Ravintola Salve', 'Cadillac Bar Kemah', \"Charley's Crab_2\", 'Sam Choy', 'Wolfgang Puck', \"Morton's The Steakhouse\", \"Dunkin' Donuts_4\", \"Meriwether's\", \"Dunkin' Donuts_2\", 'Grand Concourse', \"Dunkin' Donuts_1\", \"Dunkin' Donuts_5\", \"Lillie's Asian Cuisine\", \"Dunkin' Donuts_3\"}), frozenset({'Paul Bocuse', \"Tom's Kitchen\", 'Pierre Gagnaire', 'Audra Morrice', 'Bruno Ménard', 'Chef Guy Martin', 'Pierre Sang Boyer Officiel', 'Noëmie Honiat Top Chef', 'YANNICK ALLENO OFFICIEL', 'Guillaume Gomez', 'PROPERCORN', 'Valentin Neraudeau', 'Marc Veyrat', 'Roxanne Spruance', 'Jean-François Piège     -      Page Officielle', 'Christophe Michalak', 'Christophe Bacquie', 'Thierry Rautureau', 'Norbert Tarayre', 'Christophe Adam', 'Mathieu Pacaud', 'Susur Lee', 'Taste Of Paris Official', 'Guy Savoy', 'Éric Frechon', 'Gary Mehigan', 'KFC_2', 'Eckart Witzigmann', 'Christian Le Squer', 'Anne-Sophie Pic', 'Taste of London', 'Amandine Chaignot', 'Alain Ducasse'}), frozenset({\"Domino's Guatemala\", \"Domino's Pizza_13\", 'JW Café - JW Marriott Hotel Hanoi', \"Domino's Pizza_12\", \"Domino's Pizza_18\", \"Domino's Pizza_5\", \"Domino's Pizza_15\", \"Domino's Pizza Nigeria\", \"Domino's Pizza_10\", \"Domino's Pizza_9\", \"Domino's Pizza_20\", 'Magnum_6', \"Domino's Pizza_1\", \"Domino's Pizza_11\", \"Domino's Pizza Türkiye\", \"Domino's Pizza_14\", 'Magnum_1', \"Domino's Pizza_7\", \"Domino's Pizza_19\", 'KFC_17', '도미노피자(Dominostory)', \"Domino's Pizza_16\", \"Domino's Mx\", \"Domino's Pizza_2\", \"Domino's Pizza_3\", \"Domino's Pizza_17\", \"Domino's Pizza_6\", '達美樂披薩', \"Domino's Pizza_8\", \"Domino's Pizza_4\", \"Domino's Australia\"}), frozenset({'Emma Frisch', 'Martha Collison', 'CAKE-BOY', 'Chetna Makan', 'Tom Douglas Restaurants', 'James Martin', 'Felicitas Pizarro', 'Kunal Kapur', 'Clodagh McKenna', 'Alex French Guy Cooking', 'Cook with Amber', 'Hari Ghotra', 'Rachel Allen', 'My Cupcake Addiction', 'Gemma Stafford', 'Anjali Pathak', 'Paul Hollywood', 'Donal Skehan', 'Food Busker', 'Kevin Dundon', 'Outlander Kitchen', 'Magnum_7', 'George Pagonis', 'Lindsay Ann Bakes', 'Magnum_4', 'Ben Ebbrell - Sorted Chef', 'SORTEDfood', 'Anis Nabilah', 'Magnum_5', 'Krispy Kreme UK', \"Gino D'Acampo\"}), frozenset({'KFC_12', 'KFC_14', 'KFC_7', 'KFC_23', 'KFC_9', 'KFC_27', 'KFC_8', 'KFC_10', 'KFC_5', \"Carl's Jr.\", 'KFC_20', 'Opry City Stage', 'KFC_19', 'KFC_25', \"Hardee's Pakistan\", 'KFC_6', \"Carl's Jr. NZ\", 'KFC_15', 'KFC_1', 'Lee Anne Wong', 'Madison Cowan', 'KFC_3', 'KFC_13', \"Hardee's\", 'KFC_11', 'KFC_16', 'KFC_22', 'KFC_24', 'KFC_26', 'KFC_18'}), frozenset({'Outback Steakhouse', \"Dick's Drive In Restaurant\", 'Chef Sheldon Simeon', 'Red Lobster México', 'Bonefish Grill', \"Eddie V's Prime Seafood\", \"Roy's Restaurant\", 'Seasons 52', 'Olive Garden', 'Olive Garden México', 'Bahama Breeze Island Grille', \"Carrabba's Italian Grill\", 'Wings', 'Roy Yamaguchi', 'FONDA MEXICANA', 'Yard House', 'Burger King Thailand'}), frozenset({'Taco Bell Careers', 'Taco Bell Rep Dom', 'Taco Bell Cyprus', 'Taco Bell Panamá', 'Taco Bell Kuwait', 'タコベル ジャパン\\u3000Taco Bell Japan', 'Telepizza Guatemala', 'Taco Bell Costa Rica', 'Taco Bell', 'Taco Bell Guatemala', 'Taco Bell India', 'Taco Bell El Salvador', 'Dairy Queen', 'Taco Bell UK', 'Pollo Campero El Salvador', 'Pollo Campero Guatemala', 'Boston Market'}), frozenset({'hellofood', 'Jumia Food_7', 'Jumia Food_4', 'Jumia Food_2', 'Jumia Food_10', 'foodpanda / hellofood', 'Jumia Food_9', 'Brew Bistro and Lounge', 'Jumia Food_6', 'Jumia Food_3', 'Jumia Food_8', 'Jumia Food_1', 'Jumia Food_5'}), frozenset({'Emmi CAFFÈ LATTE_4', 'Emmi CAFFÈ LATTE_3', 'Emmi CAFFÈ LATTE_5', 'KFC_4', 'Emmi CAFFÈ LATTE_1', 'Emmi CAFFÈ LATTE_2'}), frozenset({'Princi', 'The French Laundry', 'Thomas Keller', 'Katie Pix', 'Per Se', 'ad hoc & addendum'}), frozenset({'Bruno Oteiza', 'Eva Arguiñano', 'Celler de Can Roca', 'Juan Mari Arzak (Página oficial)', 'RIBS - True American Barbecue', 'Karlos Arguiñano'}), frozenset({'Luna Grill', 'The Habit Burger Grill', 'Puesto', 'Zoёs Kitchen', 'Burger Lounge'}), frozenset({'Mary Nolan, Bon Appétit Executive Chef', 'Delverde_1', 'Delverde_2', 'Delverde_3', 'Delverde_4'}), frozenset({'Crystal Jade Singapore', 'Relais & Châteaux_1', 'Chope_2', 'Chope_1', 'Crystal Jade Palace - JW Marriott Hotel Hanoi'}), frozenset({'Gaston Acurio', 'Whataburger', \"Papacho's\"})]\n"
          ],
          "name": "stdout"
        }
      ]
    },
    {
      "cell_type": "code",
      "metadata": {
        "colab": {
          "base_uri": "https://localhost:8080/"
        },
        "id": "dpX6TPImFXDd",
        "outputId": "faba7ee8-1065-40e6-d8b2-feac91f133a2"
      },
      "source": [
        "partition_greedy = {}\n",
        "for i, comm in enumerate(list_community_sets_greedy):\n",
        "    print(\"Community:\", i)\n",
        "    print(\"Number of elems\",len(comm))\n",
        "    for n in comm:\n",
        "        partition_greedy[n]=i"
      ],
      "execution_count": 95,
      "outputs": [
        {
          "output_type": "stream",
          "text": [
            "Community: 0\n",
            "Number of elems 164\n",
            "Community: 1\n",
            "Number of elems 72\n",
            "Community: 2\n",
            "Number of elems 53\n",
            "Community: 3\n",
            "Number of elems 46\n",
            "Community: 4\n",
            "Number of elems 37\n",
            "Community: 5\n",
            "Number of elems 36\n",
            "Community: 6\n",
            "Number of elems 33\n",
            "Community: 7\n",
            "Number of elems 31\n",
            "Community: 8\n",
            "Number of elems 31\n",
            "Community: 9\n",
            "Number of elems 30\n",
            "Community: 10\n",
            "Number of elems 17\n",
            "Community: 11\n",
            "Number of elems 17\n",
            "Community: 12\n",
            "Number of elems 13\n",
            "Community: 13\n",
            "Number of elems 6\n",
            "Community: 14\n",
            "Number of elems 6\n",
            "Community: 15\n",
            "Number of elems 6\n",
            "Community: 16\n",
            "Number of elems 5\n",
            "Community: 17\n",
            "Number of elems 5\n",
            "Community: 18\n",
            "Number of elems 5\n",
            "Community: 19\n",
            "Number of elems 3\n",
            "Community: 20\n",
            "Number of elems 2\n",
            "Community: 21\n",
            "Number of elems 2\n"
          ],
          "name": "stdout"
        }
      ]
    },
    {
      "cell_type": "code",
      "metadata": {
        "colab": {
          "base_uri": "https://localhost:8080/"
        },
        "id": "0RmeDUIiFfhd",
        "outputId": "967f2fe3-8fee-45c0-f4da-3d9a1b226a14"
      },
      "source": [
        "print(list(partition_greedy.items())[0:20])"
      ],
      "execution_count": 96,
      "outputs": [
        {
          "output_type": "stream",
          "text": [
            "[('Five Guys_1', 0), ('Pat Neely', 0), ('Harold Dieterle', 0), ('Chef Nina Compton', 0), ('Jehangir', 0), ('John DeLucie', 0), ('Martín Berasategui', 0), ('Chef Casey Thompson', 0), ('Frantzén', 0), ('Chef Elizabeth Falkner', 0), ('Chef Rick Moonen', 0), ('Chef Daniel Boulud', 0), ('Santiago Giorgini', 0), ('Cat Cora', 0), ('Doug Adams', 0), ('Chef Ana Paula', 0), ('Chef Michael Smith', 0), ('Alfred Portale', 0), ('Veggie Grill', 0), ('Hubert Keller', 0)]\n"
          ],
          "name": "stdout"
        }
      ]
    },
    {
      "cell_type": "code",
      "metadata": {
        "colab": {
          "base_uri": "https://localhost:8080/",
          "height": 247
        },
        "id": "MeJ1STUKRtc5",
        "outputId": "dbf675fe-bbff-44e2-8350-90c23bcaed33"
      },
      "source": [
        "# draw the graph\n",
        "pos = nx.spring_layout(G)\n",
        "# color the nodes according to their partition\n",
        "cmap = cm.get_cmap('tab20', max(partition_greedy.values()) + 1)\n",
        "nx.draw_networkx_nodes(G, pos, partition_greedy.keys(), node_size=20,\n",
        "                       cmap=cmap, node_color=list(partition_greedy.values()))\n",
        "nx.draw_networkx_edges(G, pos, alpha=0.5)\n",
        "plt.show()"
      ],
      "execution_count": 97,
      "outputs": [
        {
          "output_type": "display_data",
          "data": {
            "image/png": "[encoded data removed]",
            "text/plain": [
              "<Figure size 432x288 with 1 Axes>"
            ]
          },
          "metadata": {
            "tags": []
          }
        }
      ]
    },
    {
      "cell_type": "code",
      "metadata": {
        "id": "4GiwPnExNvhO"
      },
      "source": [
        "partition_library = community_louvain.best_partition(G)"
      ],
      "execution_count": 99,
      "outputs": []
    },
    {
      "cell_type": "code",
      "metadata": {
        "id": "JUzWNtblnH3I",
        "colab": {
          "base_uri": "https://localhost:8080/"
        },
        "outputId": "3c3b2147-edde-4c15-cdd5-8f0162ec399d"
      },
      "source": [
        "partition_library"
      ],
      "execution_count": 100,
      "outputs": [
        {
          "output_type": "execute_result",
          "data": {
            "text/plain": [
              "{\"'Wichcraft\": 5,\n",
              " 'Aarón Sánchez': 1,\n",
              " 'Acapulco': 13,\n",
              " 'Al Brown New Zealand Chef': 2,\n",
              " 'Alain Ducasse': 3,\n",
              " 'Alberto Chicote': 8,\n",
              " 'Alessandro Borghese': 2,\n",
              " 'Alex Atala': 5,\n",
              " 'Alex French Guy Cooking': 14,\n",
              " 'Alex Guarnaschelli': 1,\n",
              " 'Alfred Portale': 5,\n",
              " 'Aliya LeeKong': 1,\n",
              " 'Amandine Chaignot': 3,\n",
              " 'Amy Thielen': 5,\n",
              " 'Andy Luotto': 2,\n",
              " 'Angel Leon Gonzalez': 5,\n",
              " 'Angelo Sosa': 1,\n",
              " 'Anis Nabilah': 14,\n",
              " 'Anjali Pathak': 14,\n",
              " 'Anne Burrell': 1,\n",
              " 'Anne-Sophie Pic': 3,\n",
              " 'Antonino Cannavacciuolo': 2,\n",
              " 'Aquarium Restaurant - Nashville': 18,\n",
              " 'Audra Morrice': 3,\n",
              " 'Bahama Breeze Island Grille': 16,\n",
              " 'Barbie Marshall': 1,\n",
              " 'Ben Ebbrell - Sorted Chef': 14,\n",
              " 'Ben Sargent & Dr. Klaw': 1,\n",
              " 'Big Fernand': 13,\n",
              " 'Big Fish Seafood Bistro_1': 18,\n",
              " 'Big Fish Seafood Bistro_2': 18,\n",
              " 'Blue Ribbon Fried Chicken': 5,\n",
              " 'Blue Ribbon Restaurants': 5,\n",
              " 'Bobby Flay': 1,\n",
              " \"Bobby's Burger Palace\": 1,\n",
              " 'Bonefish Grill': 9,\n",
              " 'Boston Market': 12,\n",
              " 'Bradley Ogden': 1,\n",
              " 'Brew Bistro and Lounge': 7,\n",
              " 'Brooke Williamson': 5,\n",
              " 'Bruno Barbieri': 2,\n",
              " 'Bruno Ménard': 3,\n",
              " 'Bruno Oteiza': 5,\n",
              " 'Bryce Shuman': 5,\n",
              " 'Bubba Gump Shrimp Co.': 18,\n",
              " 'Buddy Valastro': 1,\n",
              " 'Burger King Malaysia': 13,\n",
              " 'Burger King México': 13,\n",
              " 'Burger King Nederland': 13,\n",
              " 'Burger King Thailand': 9,\n",
              " 'Burger Lounge': 20,\n",
              " 'CAKE-BOY': 14,\n",
              " 'Cadillac Bar Houston': 18,\n",
              " 'Cadillac Bar Kemah': 18,\n",
              " 'Camille Becerra': 1,\n",
              " \"Carl's Jr.\": 0,\n",
              " \"Carl's Jr. NZ\": 0,\n",
              " 'Carlos Bertolazzi': 10,\n",
              " \"Carrabba's Italian Grill\": 9,\n",
              " 'Cat Cora': 1,\n",
              " 'Celler de Can Roca': 5,\n",
              " 'Cesare Casella': 1,\n",
              " \"Charley's Crab_1\": 18,\n",
              " \"Charley's Crab_2\": 18,\n",
              " 'Chart House': 18,\n",
              " 'Chef Aaron McCargo Jr': 1,\n",
              " 'Chef Adrianne': 1,\n",
              " 'Chef Alex Levin': 1,\n",
              " 'Chef Ana Paula': 1,\n",
              " 'Chef Andrew Gruel': 1,\n",
              " 'Chef Ben Churchill': 5,\n",
              " 'Chef Ben Ford': 1,\n",
              " 'Chef Billy Parisi': 17,\n",
              " 'Chef Brian Duffy': 1,\n",
              " 'Chef Carla Hall': 1,\n",
              " 'Chef Carlo Cracco': 2,\n",
              " 'Chef Carmen Gonzalez': 1,\n",
              " 'Chef Casey Thompson': 1,\n",
              " 'Chef Charlie Palmer': 1,\n",
              " \"Chef Claudia's Cocina\": 1,\n",
              " 'Chef Clément': 17,\n",
              " 'Chef Cynthia Louise': 1,\n",
              " 'Chef Damaris Phillips': 5,\n",
              " 'Chef Dana Cohen HK': 1,\n",
              " 'Chef Daniel Boulud': 5,\n",
              " 'Chef David Burke': 1,\n",
              " 'Chef Derrick Fox': 1,\n",
              " 'Chef Diego Lozano': 10,\n",
              " 'Chef Elizabeth Falkner': 1,\n",
              " 'Chef Francois Payard': 5,\n",
              " 'Chef G. Garvin': 1,\n",
              " 'Chef Grace Ramirez': 2,\n",
              " 'Chef Guy Martin': 3,\n",
              " 'Chef Hirohiko Shoda': 2,\n",
              " 'Chef Jamie DeRosa': 1,\n",
              " 'Chef Jamie Gwen': 1,\n",
              " 'Chef Jennifer Carroll': 1,\n",
              " 'Chef Jet Tila': 1,\n",
              " 'Chef Jimmy Boswell': 2,\n",
              " 'Chef Kent Graham': 1,\n",
              " 'Chef Kiran Jethwa': 1,\n",
              " 'Chef Lorena Garcia': 5,\n",
              " 'Chef Maeve Rochford': 1,\n",
              " 'Chef Marc Murphy': 1,\n",
              " 'Chef Marcela Valladolid': 1,\n",
              " 'Chef Mark Garcia': 5,\n",
              " 'Chef Mary Sue Milliken': 5,\n",
              " 'Chef Michael Ferraro': 5,\n",
              " 'Chef Michael Smith': 1,\n",
              " 'Chef Michelle Bernstein': 1,\n",
              " 'Chef Natale Giunta': 2,\n",
              " 'Chef Nina Compton': 1,\n",
              " 'Chef Pete Evans': 2,\n",
              " 'Chef Richard Sandoval': 5,\n",
              " 'Chef Rick Moonen': 1,\n",
              " 'Chef Rick Tramonto': 1,\n",
              " 'Chef Robert Irvine': 1,\n",
              " 'Chef Rubio': 1,\n",
              " 'Chef Rusty Hamlin': 1,\n",
              " 'Chef Sam Talbot': 1,\n",
              " 'Chef Sheldon Simeon': 5,\n",
              " 'Chef Shirley Chung': 5,\n",
              " 'Chef Sue Zemanick': 5,\n",
              " 'Chef Todd Mohr': 17,\n",
              " 'ChefAlexander': 1,\n",
              " 'Chetna Makan': 14,\n",
              " 'Chevys Fresh Mex': 13,\n",
              " 'Chick-fil-A': 17,\n",
              " \"Chili's Beirut\": 13,\n",
              " \"Chili's Grill & Bar\": 13,\n",
              " \"Chili's México\": 13,\n",
              " \"Chili's Qatar\": 13,\n",
              " \"Chili's Tunisie\": 13,\n",
              " 'Chope_1': 11,\n",
              " 'Chope_2': 11,\n",
              " 'Christian Bau': 2,\n",
              " 'Christian Le Squer': 3,\n",
              " 'Christina Tosi': 5,\n",
              " 'Christine Ha': 1,\n",
              " 'Christophe Adam': 3,\n",
              " 'Christophe Bacquie': 3,\n",
              " 'Christophe Michalak': 3,\n",
              " 'Chuck Hughes': 1,\n",
              " 'Cindy Pawlcyn': 1,\n",
              " 'Claire Robinson': 1,\n",
              " 'Clodagh McKenna': 14,\n",
              " 'Cocina familiar con Javier Romero': 5,\n",
              " 'Colin Fassnidge': 1,\n",
              " 'Cook with Amber': 14,\n",
              " 'Cook with Chef Duminda': 1,\n",
              " 'Crepes & Waffles': 5,\n",
              " \"Cristian D'Elia\": 2,\n",
              " 'Crystal Jade Palace - JW Marriott Hotel Hanoi': 11,\n",
              " 'Crystal Jade Singapore': 11,\n",
              " 'Cucina by Wolfgang Puck': 1,\n",
              " 'Cuoco Filippo La Mantia': 2,\n",
              " \"D'O - Davide Oldani\": 5,\n",
              " 'Dairy Queen': 12,\n",
              " 'Dale Talde': 5,\n",
              " 'Dan Kluger': 5,\n",
              " 'Dan Steph & Emmy': 2,\n",
              " 'Dani García': 5,\n",
              " 'Daniel Humm': 5,\n",
              " 'Danny Smiles': 1,\n",
              " 'David Chang': 5,\n",
              " 'Dean Fearing': 5,\n",
              " 'Dean Sheremet': 1,\n",
              " 'DedeMed': 1,\n",
              " 'Delverde_1': 15,\n",
              " 'Delverde_2': 15,\n",
              " 'Delverde_3': 15,\n",
              " 'Delverde_4': 15,\n",
              " 'Destino Ibiza': 8,\n",
              " \"Dick's Drive In Restaurant\": 16,\n",
              " 'Diego Guerrero': 5,\n",
              " 'Dina Nikolaou': 5,\n",
              " 'Dining with Flynn': 1,\n",
              " \"Domino's Australia\": 6,\n",
              " \"Domino's Guatemala\": 6,\n",
              " \"Domino's Mx\": 6,\n",
              " \"Domino's Pizza Nigeria\": 6,\n",
              " \"Domino's Pizza Türkiye\": 6,\n",
              " \"Domino's Pizza_1\": 6,\n",
              " \"Domino's Pizza_10\": 6,\n",
              " \"Domino's Pizza_11\": 6,\n",
              " \"Domino's Pizza_12\": 6,\n",
              " \"Domino's Pizza_13\": 6,\n",
              " \"Domino's Pizza_14\": 6,\n",
              " \"Domino's Pizza_15\": 6,\n",
              " \"Domino's Pizza_16\": 6,\n",
              " \"Domino's Pizza_17\": 6,\n",
              " \"Domino's Pizza_18\": 6,\n",
              " \"Domino's Pizza_19\": 6,\n",
              " \"Domino's Pizza_2\": 6,\n",
              " \"Domino's Pizza_20\": 6,\n",
              " \"Domino's Pizza_3\": 6,\n",
              " \"Domino's Pizza_4\": 6,\n",
              " \"Domino's Pizza_5\": 6,\n",
              " \"Domino's Pizza_6\": 6,\n",
              " \"Domino's Pizza_7\": 6,\n",
              " \"Domino's Pizza_8\": 6,\n",
              " \"Domino's Pizza_9\": 6,\n",
              " 'Donal Skehan': 14,\n",
              " 'Donatella Arpaia': 1,\n",
              " 'Donato De Santis': 5,\n",
              " 'Doug Adams': 5,\n",
              " 'Douglas Keane': 1,\n",
              " 'Duff Goldman': 1,\n",
              " \"Dunkin' Coffee\": 18,\n",
              " \"Dunkin' Donuts_1\": 18,\n",
              " \"Dunkin' Donuts_10\": 18,\n",
              " \"Dunkin' Donuts_2\": 18,\n",
              " \"Dunkin' Donuts_3\": 18,\n",
              " \"Dunkin' Donuts_4\": 18,\n",
              " \"Dunkin' Donuts_5\": 18,\n",
              " \"Dunkin' Donuts_6\": 18,\n",
              " \"Dunkin' Donuts_7\": 18,\n",
              " \"Dunkin' Donuts_8\": 18,\n",
              " \"Dunkin' Donuts_9\": 5,\n",
              " 'Eckart Witzigmann': 3,\n",
              " 'Eddie Jackson - FIT CHEF EDDIE': 1,\n",
              " \"Eddie V's Prime Seafood\": 16,\n",
              " 'Eduardo Palazuelos': 5,\n",
              " 'El Torito': 13,\n",
              " 'Elizabeth Karmel': 1,\n",
              " 'Emily Ellyn': 1,\n",
              " 'Emma Frisch': 1,\n",
              " 'Emmi CAFFÈ LATTE_1': 19,\n",
              " 'Emmi CAFFÈ LATTE_2': 19,\n",
              " 'Emmi CAFFÈ LATTE_3': 19,\n",
              " 'Emmi CAFFÈ LATTE_4': 19,\n",
              " 'Emmi CAFFÈ LATTE_5': 19,\n",
              " 'Enrique Olvera': 5,\n",
              " 'Eric Ripert': 5,\n",
              " 'Ernst Knam': 2,\n",
              " 'Eva Arguiñano': 5,\n",
              " 'FONDA MEXICANA': 16,\n",
              " 'Fabio Viviani': 1,\n",
              " \"Famous Dave's Bar-B-Que of America\": 1,\n",
              " 'Fast Ed': 2,\n",
              " 'Felicitas Pizarro': 14,\n",
              " 'Five Guys_1': 1,\n",
              " 'Five Guys_2': 1,\n",
              " 'Food Busker': 14,\n",
              " 'Four Seasons Hotels and Resorts': 18,\n",
              " 'Francesco Sole': 2,\n",
              " 'Francis Mallmann': 5,\n",
              " 'Franklin Barbecue': 1,\n",
              " 'Franklin Becker': 5,\n",
              " 'Frantzén': 5,\n",
              " 'Gandy Dancer': 18,\n",
              " 'Gandy Dancer Saloon/Oyster Bar': 18,\n",
              " 'Gary Mehigan': 3,\n",
              " 'Gaston Acurio': 5,\n",
              " 'Gavin Kaysen': 5,\n",
              " 'Gemma Stafford': 14,\n",
              " 'Geoffrey Zakarian': 1,\n",
              " 'George Pagonis': 4,\n",
              " 'Germán Martitegui': 5,\n",
              " \"Gino D'Acampo\": 1,\n",
              " 'Graham Elliot': 1,\n",
              " 'Grand Concourse': 18,\n",
              " 'Gregory Gourdet': 5,\n",
              " 'Grotto': 18,\n",
              " 'Guga Rocha': 10,\n",
              " 'Guillaume Gomez': 3,\n",
              " 'Guy Savoy': 3,\n",
              " 'Hakim Chajar': 1,\n",
              " 'Hard Rock Cafe Ibiza': 8,\n",
              " \"Hardee's\": 0,\n",
              " \"Hardee's Pakistan\": 13,\n",
              " 'Hari Ghotra': 14,\n",
              " 'Harlem EatUp': 1,\n",
              " 'Harold Dieterle': 1,\n",
              " 'Hearth': 1,\n",
              " 'Hilah Cooking': 1,\n",
              " 'Hubert Keller': 5,\n",
              " 'Hugh Acheson': 1,\n",
              " 'Iginio Massari': 2,\n",
              " 'Ignacio Mattos': 2,\n",
              " 'JW Café - JW Marriott Hotel Hanoi': 6,\n",
              " 'Jacques Pépin': 1,\n",
              " 'James Martin': 5,\n",
              " 'Jean-François Piège     -      Page Officielle': 3,\n",
              " 'Jehangir': 1,\n",
              " \"Jimmy John's\": 1,\n",
              " 'Joanna 劉韋彤': 17,\n",
              " 'Jock Zonfrillo': 2,\n",
              " 'John DeLucie': 1,\n",
              " 'John Whaite': 5,\n",
              " 'Johnny Iuzzini': 1,\n",
              " 'Johnny Prep': 1,\n",
              " 'Jose Garces': 5,\n",
              " 'Josh Elkin': 1,\n",
              " 'Josh Marks': 1,\n",
              " 'José Andrés': 5,\n",
              " 'José Santaella': 1,\n",
              " 'João Alcantara': 10,\n",
              " 'Juan Mari Arzak (Página oficial)': 5,\n",
              " 'Julia Child': 1,\n",
              " 'Juliana Lopez May': 5,\n",
              " 'Jumia Food_1': 7,\n",
              " 'Jumia Food_10': 7,\n",
              " 'Jumia Food_2': 7,\n",
              " 'Jumia Food_3': 7,\n",
              " 'Jumia Food_4': 7,\n",
              " 'Jumia Food_5': 7,\n",
              " 'Jumia Food_6': 7,\n",
              " 'Jumia Food_7': 7,\n",
              " 'Jumia Food_8': 7,\n",
              " 'Jumia Food_9': 7,\n",
              " 'Justin Warner': 1,\n",
              " 'KFC_1': 0,\n",
              " 'KFC_10': 0,\n",
              " 'KFC_11': 0,\n",
              " 'KFC_12': 0,\n",
              " 'KFC_13': 0,\n",
              " 'KFC_14': 0,\n",
              " 'KFC_15': 0,\n",
              " 'KFC_16': 0,\n",
              " 'KFC_17': 6,\n",
              " 'KFC_18': 0,\n",
              " 'KFC_19': 0,\n",
              " 'KFC_2': 3,\n",
              " 'KFC_20': 0,\n",
              " 'KFC_21': 13,\n",
              " 'KFC_22': 0,\n",
              " 'KFC_23': 0,\n",
              " 'KFC_24': 0,\n",
              " 'KFC_25': 0,\n",
              " 'KFC_26': 0,\n",
              " 'KFC_27': 0,\n",
              " 'KFC_3': 0,\n",
              " 'KFC_4': 19,\n",
              " 'KFC_5': 0,\n",
              " 'KFC_6': 0,\n",
              " 'KFC_7': 0,\n",
              " 'KFC_8': 0,\n",
              " 'KFC_9': 0,\n",
              " 'Karen Martini': 2,\n",
              " 'Karlos Arguiñano': 5,\n",
              " 'Katie Pix': 17,\n",
              " 'Ken Oringer': 1,\n",
              " 'Kevin Dundon': 14,\n",
              " 'Kirti Bhoutika': 1,\n",
              " 'Krispy Kreme UK': 14,\n",
              " 'Kristen Kish': 5,\n",
              " 'Kunal Kapur': 1,\n",
              " 'La Griglia': 18,\n",
              " 'Lee Anne Wong': 0,\n",
              " 'Leslie Gilliams': 1,\n",
              " 'Levi Eirinberg': 1,\n",
              " \"Lillie's Asian Cuisine\": 18,\n",
              " 'Lindsay Ann Bakes': 14,\n",
              " 'Logan Junior Chef': 1,\n",
              " 'Los Petersen Cocineros': 5,\n",
              " 'Ludo Lefebvre': 5,\n",
              " 'Luke Thomas': 5,\n",
              " 'Luna Grill': 20,\n",
              " 'Lío': 8,\n",
              " 'MASAの料理ABC': 17,\n",
              " 'Madison Cowan': 0,\n",
              " 'Magnum_1': 6,\n",
              " 'Magnum_2': 5,\n",
              " 'Magnum_3': 2,\n",
              " 'Magnum_4': 4,\n",
              " 'Magnum_5': 4,\n",
              " 'Magnum_6': 6,\n",
              " 'Magnum_7': 4,\n",
              " 'Maneet Chauhan': 1,\n",
              " \"Manjula's Kitchen - Indian Vegetarian Recipes\": 14,\n",
              " 'Manu Feildel': 2,\n",
              " 'Marc Forgione': 1,\n",
              " 'Marc Veyrat': 3,\n",
              " 'Marcel Vigneron': 5,\n",
              " 'Marcus Samuelsson': 1,\n",
              " 'Maria Loi': 5,\n",
              " 'Martha Collison': 14,\n",
              " 'Martín Berasategui': 5,\n",
              " 'Maru Botana': 5,\n",
              " 'Mary Nolan, Bon Appétit Executive Chef': 15,\n",
              " 'Massimo Mele': 2,\n",
              " 'Mathieu Pacaud': 3,\n",
              " 'Matt Moran': 2,\n",
              " 'Matthew Kenney': 1,\n",
              " \"McDonald's Deutschland Karriere\": 8,\n",
              " \"McDonald's Japan\": 8,\n",
              " \"McDonald's Paraguay\": 8,\n",
              " \"McDonald's República Dominicana\": 8,\n",
              " \"McDonald's Vietnam\": 8,\n",
              " \"McDonald's_1\": 8,\n",
              " \"McDonald's_10\": 8,\n",
              " \"McDonald's_11\": 8,\n",
              " \"McDonald's_12\": 8,\n",
              " \"McDonald's_13\": 8,\n",
              " \"McDonald's_14\": 8,\n",
              " \"McDonald's_15\": 8,\n",
              " \"McDonald's_16\": 8,\n",
              " \"McDonald's_17\": 8,\n",
              " \"McDonald's_18\": 8,\n",
              " \"McDonald's_19\": 8,\n",
              " \"McDonald's_2\": 8,\n",
              " \"McDonald's_20\": 8,\n",
              " \"McDonald's_21\": 8,\n",
              " \"McDonald's_22\": 8,\n",
              " \"McDonald's_23\": 8,\n",
              " \"McDonald's_24\": 8,\n",
              " \"McDonald's_25\": 8,\n",
              " \"McDonald's_26\": 8,\n",
              " \"McDonald's_27\": 8,\n",
              " \"McDonald's_28\": 8,\n",
              " \"McDonald's_29\": 8,\n",
              " \"McDonald's_3\": 8,\n",
              " \"McDonald's_30\": 8,\n",
              " \"McDonald's_31\": 8,\n",
              " \"McDonald's_32\": 8,\n",
              " \"McDonald's_33\": 8,\n",
              " \"McDonald's_34\": 8,\n",
              " \"McDonald's_35\": 8,\n",
              " \"McDonald's_36\": 8,\n",
              " \"McDonald's_37\": 8,\n",
              " \"McDonald's_38\": 8,\n",
              " \"McDonald's_39\": 8,\n",
              " \"McDonald's_4\": 8,\n",
              " \"McDonald's_40\": 8,\n",
              " \"McDonald's_41\": 8,\n",
              " \"McDonald's_42\": 8,\n",
              " \"McDonald's_43\": 8,\n",
              " \"McDonald's_44\": 8,\n",
              " \"McDonald's_45\": 8,\n",
              " \"McDonald's_46\": 8,\n",
              " \"McDonald's_47\": 8,\n",
              " \"McDonald's_48\": 8,\n",
              " \"McDonald's_49\": 8,\n",
              " \"McDonald's_5\": 8,\n",
              " \"McDonald's_50\": 8,\n",
              " \"McDonald's_51\": 8,\n",
              " \"McDonald's_52\": 8,\n",
              " \"McDonald's_53\": 8,\n",
              " \"McDonald's_54\": 8,\n",
              " \"McDonald's_55\": 8,\n",
              " \"McDonald's_56\": 8,\n",
              " \"McDonald's_57\": 8,\n",
              " \"McDonald's_58\": 8,\n",
              " \"McDonald's_59\": 8,\n",
              " \"McDonald's_6\": 8,\n",
              " \"McDonald's_7\": 8,\n",
              " \"McDonald's_8\": 8,\n",
              " \"McDonald's_9\": 8,\n",
              " 'Mei Lin': 5,\n",
              " 'Melissa King': 5,\n",
              " \"Meriwether's\": 18,\n",
              " 'Michael Lomonaco': 1,\n",
              " 'Michael White': 1,\n",
              " 'Michel Nischan': 1,\n",
              " 'Mirko Ronzoni': 2,\n",
              " 'Monti Carlo': 1,\n",
              " \"Morton's The Steakhouse\": 18,\n",
              " 'My Cupcake Addiction': 14,\n",
              " \"Nando's PERi-PERi\": 13,\n",
              " \"Nando's_1\": 13,\n",
              " \"Nando's_10\": 13,\n",
              " \"Nando's_11\": 13,\n",
              " \"Nando's_12\": 13,\n",
              " \"Nando's_13\": 13,\n",
              " \"Nando's_14\": 13,\n",
              " \"Nando's_15\": 13,\n",
              " \"Nando's_2\": 13,\n",
              " \"Nando's_3\": 13,\n",
              " \"Nando's_4\": 13,\n",
              " \"Nando's_5\": 13,\n",
              " \"Nando's_6\": 13,\n",
              " \"Nando's_7\": 13,\n",
              " \"Nando's_8\": 13,\n",
              " \"Nando's_9\": 13,\n",
              " 'Narda Lepes': 5,\n",
              " \"Nicko's Kitchen\": 1,\n",
              " 'Nikki Dinki': 1,\n",
              " 'Niko Romito': 2,\n",
              " 'NishaMadhulika': 1,\n",
              " 'Noma': 5,\n",
              " 'Norbert Tarayre': 3,\n",
              " 'Noëmie Honiat Top Chef': 3,\n",
              " 'Nutella Cafe Chicago': 8,\n",
              " 'Nyesha Arrington': 5,\n",
              " 'Ochikeron': 17,\n",
              " 'Ogro Jimmy': 10,\n",
              " 'Olive Garden': 16,\n",
              " 'Olive Garden México': 16,\n",
              " 'On The Border': 13,\n",
              " 'Opry City Stage': 0,\n",
              " 'Outback Steakhouse': 9,\n",
              " 'Outlander Kitchen': 1,\n",
              " 'PROPERCORN': 3,\n",
              " 'Pablo Massey': 5,\n",
              " \"Papacho's\": 5,\n",
              " 'Pasqualino Barbasso': 2,\n",
              " 'Pat Neely': 1,\n",
              " 'Paul Bocuse': 3,\n",
              " 'Paul Hollywood': 14,\n",
              " 'Paul Qui': 1,\n",
              " 'Pedro Lambertini': 5,\n",
              " \"Peohe's\": 18,\n",
              " 'Per Se': 17,\n",
              " 'Pescaria': 13,\n",
              " 'Peter Kuruvita': 2,\n",
              " 'Pierre Gagnaire': 3,\n",
              " 'Pierre Sang Boyer Officiel': 3,\n",
              " 'Pollo Campero El Salvador': 12,\n",
              " 'Pollo Campero Guatemala': 12,\n",
              " 'Princi': 17,\n",
              " 'Puesto': 20,\n",
              " 'Quique Dacosta': 5,\n",
              " 'RED Sushi and Hibachi Grill': 18,\n",
              " 'RIBS - True American Barbecue': 5,\n",
              " 'Rachel Allen': 14,\n",
              " 'Ranveer Brar': 17,\n",
              " 'Ravintola Salve': 18,\n",
              " 'Raymond Blanc': 5,\n",
              " 'Red Lobster México': 16,\n",
              " 'Red Robin Gourmet Burgers': 1,\n",
              " 'Relais & Châteaux_1': 11,\n",
              " 'Relais & Châteaux_2': 5,\n",
              " 'René Redzepi': 5,\n",
              " 'Ricardo Cuisine': 1,\n",
              " 'River Crab Blue Water Inn': 18,\n",
              " 'Robin Miller': 1,\n",
              " 'Roblé': 17,\n",
              " 'Roxanne Spruance': 3,\n",
              " 'Roy Choi': 5,\n",
              " 'Roy Yamaguchi': 9,\n",
              " \"Roy's Restaurant\": 9,\n",
              " 'Russell Jackson': 1,\n",
              " 'SORTEDfood': 14,\n",
              " 'Sam Choy': 1,\n",
              " 'Samin Nosrat': 1,\n",
              " 'Sang Yoon': 1,\n",
              " 'Sanjeev Kapoor': 1,\n",
              " 'Santiago Giorgini': 5,\n",
              " 'Saransh Goila': 17,\n",
              " 'Scott Conant': 1,\n",
              " 'Seamus Mullen': 1,\n",
              " 'Seasons 52': 16,\n",
              " 'Second Floor Cafe 貳樓餐飲': 13,\n",
              " 'Shane Delia': 2,\n",
              " 'Simon Bryant': 2,\n",
              " 'Simon Gault': 2,\n",
              " 'Skinny Chef': 1,\n",
              " 'Sonia Peronaci': 2,\n",
              " 'Spago Las Vegas': 1,\n",
              " 'Spike Mendelsohn': 1,\n",
              " \"Steak 'n Shake\": 8,\n",
              " 'Stephanie Izard': 1,\n",
              " 'Steve Konopelski': 1,\n",
              " 'Subway': 13,\n",
              " 'Subway, Cayman Islands': 13,\n",
              " 'Susan Feniger': 1,\n",
              " 'Susur Lee': 3,\n",
              " 'Suzanne Goin': 5,\n",
              " 'T-rex Cafe': 18,\n",
              " 'Taco Bell': 12,\n",
              " 'Taco Bell Careers': 12,\n",
              " 'Taco Bell Costa Rica': 12,\n",
              " 'Taco Bell Cyprus': 12,\n",
              " 'Taco Bell El Salvador': 12,\n",
              " 'Taco Bell Guatemala': 12,\n",
              " 'Taco Bell India': 12,\n",
              " 'Taco Bell Kuwait': 12,\n",
              " 'Taco Bell Panamá': 12,\n",
              " 'Taco Bell Rep Dom': 12,\n",
              " 'Taco Bell UK': 12,\n",
              " 'Taste Of Paris Official': 3,\n",
              " 'Taste of London': 3,\n",
              " 'Telepizza Guatemala': 12,\n",
              " 'Texas Roadhouse': 17,\n",
              " 'The Edgy Veg': 1,\n",
              " 'The French Laundry': 17,\n",
              " 'The Habit Burger Grill': 20,\n",
              " 'The Tuscan Gun': 1,\n",
              " 'Thierry Rautureau': 3,\n",
              " 'Thomas Keller': 17,\n",
              " 'Tim Love': 1,\n",
              " 'Tom Aikens': 5,\n",
              " 'Tom Colicchio': 5,\n",
              " 'Tom Douglas Restaurants': 14,\n",
              " \"Tom's Kitchen\": 3,\n",
              " 'UMass Dining': 1,\n",
              " 'Valentin Neraudeau': 3,\n",
              " 'Vegan Black Metal Chef': 1,\n",
              " 'Veggie Grill': 1,\n",
              " 'Vicky Ratnani': 17,\n",
              " 'Virginia Willis': 1,\n",
              " 'Whataburger': 5,\n",
              " 'Wings': 16,\n",
              " 'Wolfgang Puck': 1,\n",
              " \"Xi'an Famous Foods 西安名吃\": 1,\n",
              " 'YANNICK ALLENO OFFICIEL': 3,\n",
              " 'Yard House': 16,\n",
              " 'Zac Kara': 1,\n",
              " 'Zoёs Kitchen': 20,\n",
              " 'ad hoc & addendum': 17,\n",
              " 'foodpanda - 空腹熊貓': 13,\n",
              " 'foodpanda / hellofood': 7,\n",
              " 'foodpanda_1': 13,\n",
              " 'foodpanda_2': 13,\n",
              " 'foodpanda_3': 13,\n",
              " 'foodpanda_4': 13,\n",
              " 'foodpanda_5': 13,\n",
              " 'foodpanda_6': 13,\n",
              " 'foodpanda_7': 13,\n",
              " 'foodpanda_8': 13,\n",
              " 'hellofood': 7,\n",
              " 'Éric Frechon': 3,\n",
              " 'משה שגב / Moshe Segev': 17,\n",
              " 'タコベル ジャパン\\u3000Taco Bell Japan': 12,\n",
              " '翠華餐廳 Tsui Wah Restaurant': 13,\n",
              " '達美樂披薩': 6,\n",
              " '麥當勞': 8,\n",
              " '도미노피자(Dominostory)': 6,\n",
              " \"맥도날드 (McDonald's)\": 8}"
            ]
          },
          "metadata": {
            "tags": []
          },
          "execution_count": 100
        }
      ]
    },
    {
      "cell_type": "code",
      "metadata": {
        "colab": {
          "base_uri": "https://localhost:8080/"
        },
        "id": "IRkaWFmJNwjx",
        "outputId": "b87e7ace-e89c-4250-a427-60ebbc159629"
      },
      "source": [
        "print(list(partition_library.items())[0:20])"
      ],
      "execution_count": 101,
      "outputs": [
        {
          "output_type": "stream",
          "text": [
            "[('Lee Anne Wong', 0), ('KFC_3', 0), ('Chef Jamie Gwen', 1), ('Madison Cowan', 0), ('Elizabeth Karmel', 1), ('KFC_22', 0), ('KFC_8', 0), ('Pat Neely', 1), ('Logan Junior Chef', 1), ('Robin Miller', 1), ('Ben Sargent & Dr. Klaw', 1), ('Bobby Flay', 1), ('Chuck Hughes', 1), ('Chef Carlo Cracco', 2), ('Pasqualino Barbasso', 2), ('Alessandro Borghese', 2), ('Chef Hirohiko Shoda', 2), ('Alain Ducasse', 3), ('Christian Bau', 2), ('Andy Luotto', 2)]\n"
          ],
          "name": "stdout"
        }
      ]
    },
    {
      "cell_type": "code",
      "metadata": {
        "colab": {
          "base_uri": "https://localhost:8080/",
          "height": 247
        },
        "id": "hGXWvnsXNycE",
        "outputId": "182c005e-caca-4102-c8c9-242d9ecf2f1c"
      },
      "source": [
        "# draw the graph\n",
        "pos = nx.spring_layout(G)\n",
        "# color the nodes according to their partition\n",
        "cmap = cm.get_cmap('tab20', max(partition_library.values()) + 1)\n",
        "nx.draw_networkx_nodes(G, pos, partition_library.keys(), node_size=20,\n",
        "                       cmap=cmap, node_color=list(partition_library.values()))\n",
        "nx.draw_networkx_edges(G, pos, alpha=0.5)\n",
        "plt.show()"
      ],
      "execution_count": 102,
      "outputs": [
        {
          "output_type": "display_data",
          "data": {
            "image/png": "[encoded data removed]",
            "text/plain": [
              "<Figure size 432x288 with 1 Axes>"
            ]
          },
          "metadata": {
            "tags": []
          }
        }
      ]
    },
    {
      "cell_type": "code",
      "metadata": {
        "colab": {
          "base_uri": "https://localhost:8080/"
        },
        "id": "meOV1QcNODtR",
        "outputId": "772c184c-1a35-40d4-cdb9-28ac1673a2bb"
      },
      "source": [
        "comms = set(partition_library.values())\n",
        "comms\n",
        "\n"
      ],
      "execution_count": 103,
      "outputs": [
        {
          "output_type": "execute_result",
          "data": {
            "text/plain": [
              "{0, 1, 2, 3, 4, 5, 6, 7, 8, 9, 10, 11, 12, 13, 14, 15, 16, 17, 18, 19, 20}"
            ]
          },
          "metadata": {
            "tags": []
          },
          "execution_count": 103
        }
      ]
    },
    {
      "cell_type": "code",
      "metadata": {
        "id": "oK4GKKjDQq8t"
      },
      "source": [
        "list_community_sets_library = [ set() for i in range(len(comms)) ]"
      ],
      "execution_count": 104,
      "outputs": []
    },
    {
      "cell_type": "code",
      "metadata": {
        "colab": {
          "base_uri": "https://localhost:8080/"
        },
        "id": "lclKJWLEQrU4",
        "outputId": "ede0ef2f-c61c-468c-e74c-b30be62ce96c"
      },
      "source": [
        "for n, comm in partition_library.items():\n",
        "    list_community_sets_library[comm].add(n)\n",
        "\n",
        "list_community_sets_library[0:2]"
      ],
      "execution_count": 105,
      "outputs": [
        {
          "output_type": "execute_result",
          "data": {
            "text/plain": [
              "[{\"Carl's Jr.\",\n",
              "  \"Carl's Jr. NZ\",\n",
              "  \"Hardee's\",\n",
              "  'KFC_1',\n",
              "  'KFC_10',\n",
              "  'KFC_11',\n",
              "  'KFC_12',\n",
              "  'KFC_13',\n",
              "  'KFC_14',\n",
              "  'KFC_15',\n",
              "  'KFC_16',\n",
              "  'KFC_18',\n",
              "  'KFC_19',\n",
              "  'KFC_20',\n",
              "  'KFC_22',\n",
              "  'KFC_23',\n",
              "  'KFC_24',\n",
              "  'KFC_25',\n",
              "  'KFC_26',\n",
              "  'KFC_27',\n",
              "  'KFC_3',\n",
              "  'KFC_5',\n",
              "  'KFC_6',\n",
              "  'KFC_7',\n",
              "  'KFC_8',\n",
              "  'KFC_9',\n",
              "  'Lee Anne Wong',\n",
              "  'Madison Cowan',\n",
              "  'Opry City Stage'},\n",
              " {'Aarón Sánchez',\n",
              "  'Alex Guarnaschelli',\n",
              "  'Aliya LeeKong',\n",
              "  'Angelo Sosa',\n",
              "  'Anne Burrell',\n",
              "  'Barbie Marshall',\n",
              "  'Ben Sargent & Dr. Klaw',\n",
              "  'Bobby Flay',\n",
              "  \"Bobby's Burger Palace\",\n",
              "  'Bradley Ogden',\n",
              "  'Buddy Valastro',\n",
              "  'Camille Becerra',\n",
              "  'Cat Cora',\n",
              "  'Cesare Casella',\n",
              "  'Chef Aaron McCargo Jr',\n",
              "  'Chef Adrianne',\n",
              "  'Chef Alex Levin',\n",
              "  'Chef Ana Paula',\n",
              "  'Chef Andrew Gruel',\n",
              "  'Chef Ben Ford',\n",
              "  'Chef Brian Duffy',\n",
              "  'Chef Carla Hall',\n",
              "  'Chef Carmen Gonzalez',\n",
              "  'Chef Casey Thompson',\n",
              "  'Chef Charlie Palmer',\n",
              "  \"Chef Claudia's Cocina\",\n",
              "  'Chef Cynthia Louise',\n",
              "  'Chef Dana Cohen HK',\n",
              "  'Chef David Burke',\n",
              "  'Chef Derrick Fox',\n",
              "  'Chef Elizabeth Falkner',\n",
              "  'Chef G. Garvin',\n",
              "  'Chef Jamie DeRosa',\n",
              "  'Chef Jamie Gwen',\n",
              "  'Chef Jennifer Carroll',\n",
              "  'Chef Jet Tila',\n",
              "  'Chef Kent Graham',\n",
              "  'Chef Kiran Jethwa',\n",
              "  'Chef Maeve Rochford',\n",
              "  'Chef Marc Murphy',\n",
              "  'Chef Marcela Valladolid',\n",
              "  'Chef Michael Smith',\n",
              "  'Chef Michelle Bernstein',\n",
              "  'Chef Nina Compton',\n",
              "  'Chef Rick Moonen',\n",
              "  'Chef Rick Tramonto',\n",
              "  'Chef Robert Irvine',\n",
              "  'Chef Rubio',\n",
              "  'Chef Rusty Hamlin',\n",
              "  'Chef Sam Talbot',\n",
              "  'ChefAlexander',\n",
              "  'Christine Ha',\n",
              "  'Chuck Hughes',\n",
              "  'Cindy Pawlcyn',\n",
              "  'Claire Robinson',\n",
              "  'Colin Fassnidge',\n",
              "  'Cook with Chef Duminda',\n",
              "  'Cucina by Wolfgang Puck',\n",
              "  'Danny Smiles',\n",
              "  'Dean Sheremet',\n",
              "  'DedeMed',\n",
              "  'Dining with Flynn',\n",
              "  'Donatella Arpaia',\n",
              "  'Douglas Keane',\n",
              "  'Duff Goldman',\n",
              "  'Eddie Jackson - FIT CHEF EDDIE',\n",
              "  'Elizabeth Karmel',\n",
              "  'Emily Ellyn',\n",
              "  'Emma Frisch',\n",
              "  'Fabio Viviani',\n",
              "  \"Famous Dave's Bar-B-Que of America\",\n",
              "  'Five Guys_1',\n",
              "  'Five Guys_2',\n",
              "  'Franklin Barbecue',\n",
              "  'Geoffrey Zakarian',\n",
              "  \"Gino D'Acampo\",\n",
              "  'Graham Elliot',\n",
              "  'Hakim Chajar',\n",
              "  'Harlem EatUp',\n",
              "  'Harold Dieterle',\n",
              "  'Hearth',\n",
              "  'Hilah Cooking',\n",
              "  'Hugh Acheson',\n",
              "  'Jacques Pépin',\n",
              "  'Jehangir',\n",
              "  \"Jimmy John's\",\n",
              "  'John DeLucie',\n",
              "  'Johnny Iuzzini',\n",
              "  'Johnny Prep',\n",
              "  'Josh Elkin',\n",
              "  'Josh Marks',\n",
              "  'José Santaella',\n",
              "  'Julia Child',\n",
              "  'Justin Warner',\n",
              "  'Ken Oringer',\n",
              "  'Kirti Bhoutika',\n",
              "  'Kunal Kapur',\n",
              "  'Leslie Gilliams',\n",
              "  'Levi Eirinberg',\n",
              "  'Logan Junior Chef',\n",
              "  'Maneet Chauhan',\n",
              "  'Marc Forgione',\n",
              "  'Marcus Samuelsson',\n",
              "  'Matthew Kenney',\n",
              "  'Michael Lomonaco',\n",
              "  'Michael White',\n",
              "  'Michel Nischan',\n",
              "  'Monti Carlo',\n",
              "  \"Nicko's Kitchen\",\n",
              "  'Nikki Dinki',\n",
              "  'NishaMadhulika',\n",
              "  'Outlander Kitchen',\n",
              "  'Pat Neely',\n",
              "  'Paul Qui',\n",
              "  'Red Robin Gourmet Burgers',\n",
              "  'Ricardo Cuisine',\n",
              "  'Robin Miller',\n",
              "  'Russell Jackson',\n",
              "  'Sam Choy',\n",
              "  'Samin Nosrat',\n",
              "  'Sang Yoon',\n",
              "  'Sanjeev Kapoor',\n",
              "  'Scott Conant',\n",
              "  'Seamus Mullen',\n",
              "  'Skinny Chef',\n",
              "  'Spago Las Vegas',\n",
              "  'Spike Mendelsohn',\n",
              "  'Stephanie Izard',\n",
              "  'Steve Konopelski',\n",
              "  'Susan Feniger',\n",
              "  'The Edgy Veg',\n",
              "  'The Tuscan Gun',\n",
              "  'Tim Love',\n",
              "  'UMass Dining',\n",
              "  'Vegan Black Metal Chef',\n",
              "  'Veggie Grill',\n",
              "  'Virginia Willis',\n",
              "  'Wolfgang Puck',\n",
              "  \"Xi'an Famous Foods 西安名吃\",\n",
              "  'Zac Kara'}]"
            ]
          },
          "metadata": {
            "tags": []
          },
          "execution_count": 105
        }
      ]
    },
    {
      "cell_type": "code",
      "metadata": {
        "colab": {
          "base_uri": "https://localhost:8080/"
        },
        "id": "ce11QS3KQs6i",
        "outputId": "2e5f72c6-5679-442a-a759-e27380d219b3"
      },
      "source": [
        "for my_list in [list_community_sets_greedy,  list_community_sets_library]:\n",
        "    \n",
        "    #print(\"Coverage\")\n",
        "    print(\"Coverage\", nx_comm.coverage(G, my_list))\n",
        "    #print(\"Modularity\")\n",
        "    print(\"Modularity\", nx_comm.modularity(G, my_list, weight='weight'))\n",
        "    #print(\"Performance\")\n",
        "    print(\"Performance\", nx_comm.performance(G, my_list))\n",
        "    \n",
        "    print(\"---\")"
      ],
      "execution_count": 106,
      "outputs": [
        {
          "output_type": "stream",
          "text": [
            "Coverage 0.8686964795432921\n",
            "Modularity 0.6331957195403588\n",
            "Performance 0.8936682474334254\n",
            "---\n",
            "Coverage 0.8125594671741199\n",
            "Modularity 0.6401181286274409\n",
            "Performance 0.9021366407837824\n",
            "---\n"
          ],
          "name": "stdout"
        }
      ]
    },
    {
      "cell_type": "code",
      "metadata": {
        "colab": {
          "base_uri": "https://localhost:8080/"
        },
        "id": "_4aPTKeORC2d",
        "outputId": "0bec2292-22d1-4cf9-e8f8-71fa51fbe52a"
      },
      "source": [
        "\n",
        "\n",
        "pairs = []\n",
        "for i, nod in enumerate(list_community_sets_library):\n",
        "    print(i,len(nod))\n",
        "    comm_size = (i,len(nod))\n",
        "    pairs.append(comm_size)\n",
        "\n"
      ],
      "execution_count": 107,
      "outputs": [
        {
          "output_type": "stream",
          "text": [
            "0 29\n",
            "1 140\n",
            "2 34\n",
            "3 33\n",
            "4 4\n",
            "5 85\n",
            "6 31\n",
            "7 13\n",
            "8 72\n",
            "9 6\n",
            "10 5\n",
            "11 5\n",
            "12 17\n",
            "13 45\n",
            "14 23\n",
            "15 5\n",
            "16 10\n",
            "17 19\n",
            "18 33\n",
            "19 6\n",
            "20 5\n"
          ],
          "name": "stdout"
        }
      ]
    },
    {
      "cell_type": "code",
      "metadata": {
        "colab": {
          "base_uri": "https://localhost:8080/"
        },
        "id": "k4xDW9RORELR",
        "outputId": "ad0e95c6-1dad-432c-db86-74c69dfb8875"
      },
      "source": [
        "pairs"
      ],
      "execution_count": 108,
      "outputs": [
        {
          "output_type": "execute_result",
          "data": {
            "text/plain": [
              "[(0, 29),\n",
              " (1, 140),\n",
              " (2, 34),\n",
              " (3, 33),\n",
              " (4, 4),\n",
              " (5, 85),\n",
              " (6, 31),\n",
              " (7, 13),\n",
              " (8, 72),\n",
              " (9, 6),\n",
              " (10, 5),\n",
              " (11, 5),\n",
              " (12, 17),\n",
              " (13, 45),\n",
              " (14, 23),\n",
              " (15, 5),\n",
              " (16, 10),\n",
              " (17, 19),\n",
              " (18, 33),\n",
              " (19, 6),\n",
              " (20, 5)]"
            ]
          },
          "metadata": {
            "tags": []
          },
          "execution_count": 108
        }
      ]
    },
    {
      "cell_type": "code",
      "metadata": {
        "id": "hNbXN52fREWE"
      },
      "source": [
        "community_index = []\n",
        "number_of_nodes = []\n",
        "\n",
        "for comm, n_nodes in pairs:\n",
        "    community_index.append(str(comm))\n",
        "    number_of_nodes.append(n_nodes)\n",
        "\n"
      ],
      "execution_count": 109,
      "outputs": []
    },
    {
      "cell_type": "code",
      "metadata": {
        "colab": {
          "base_uri": "https://localhost:8080/",
          "height": 296
        },
        "id": "83NF1Wn6RJFa",
        "outputId": "093af364-9ba5-41a5-ce66-1278205e4879"
      },
      "source": [
        "plt.bar(community_index,number_of_nodes)\n",
        "plt.xlabel(\"Community\")\n",
        "plt.ylabel(\"Number of nodes\")"
      ],
      "execution_count": 110,
      "outputs": [
        {
          "output_type": "execute_result",
          "data": {
            "text/plain": [
              "Text(0, 0.5, 'Number of nodes')"
            ]
          },
          "metadata": {
            "tags": []
          },
          "execution_count": 110
        },
        {
          "output_type": "display_data",
          "data": {
            "image/png": "[encoded data removed]",
            "text/plain": [
              "<Figure size 432x288 with 1 Axes>"
            ]
          },
          "metadata": {
            "tags": [],
            "needs_background": "light"
          }
        }
      ]
    },
    {
      "cell_type": "code",
      "metadata": {
        "id": "hyigB_k4du3q"
      },
      "source": [
        ""
      ],
      "execution_count": 110,
      "outputs": []
    }
  ]
}