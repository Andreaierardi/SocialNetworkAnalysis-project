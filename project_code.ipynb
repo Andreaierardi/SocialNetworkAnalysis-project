{
  "nbformat": 4,
  "nbformat_minor": 0,
  "metadata": {
    "colab": {
      "name": "project_code.ipynb",
      "provenance": [],
      "collapsed_sections": [],
      "authorship_tag": "ABX9TyPX6PDocCyG3STBmKCryNpZ",
      "include_colab_link": true
    },
    "kernelspec": {
      "name": "python3",
      "display_name": "Python 3"
    }
  },
  "cells": [
    {
      "cell_type": "markdown",
      "metadata": {
        "id": "view-in-github",
        "colab_type": "text"
      },
      "source": [
        "<a href=\"https://colab.research.google.com/github/Andreaierardi/SocialNetworkAnalysis-project/blob/main/project_code.ipynb\" target=\"_parent\"><img src=\"https://colab.research.google.com/assets/colab-badge.svg\" alt=\"Open In Colab\"/></a>"
      ]
    },
    {
      "cell_type": "markdown",
      "metadata": {
        "id": "emEG98GnrQo6"
      },
      "source": [
        "# **Social Network Analysis Project**\n",
        "\n",
        "> ## **University of Milan** - **DataScience and Economics**\n",
        "\n",
        "<br>\n",
        "\n",
        "#### Author : **Andrea Ierardi**\n",
        "\n",
        "<br>\n",
        "\n",
        "\n",
        "---\n",
        "\n"
      ]
    },
    {
      "cell_type": "markdown",
      "metadata": {
        "id": "7dDSzSi-p7f8"
      },
      "source": [
        "\r\n",
        " <br>\r\n",
        "\r\n",
        "\r\n",
        "\r\n",
        "\r\n"
      ]
    },
    {
      "cell_type": "markdown",
      "metadata": {
        "id": "D_1SNIKKje5V"
      },
      "source": [
        "## Dataset\r\n",
        "### Description\r\n",
        "\r\n",
        "Data collected about Facebook pages (November 2017). These datasets represent blue verified Facebook page networks of different categories. Nodes represent the pages and edges are mutual likes among them.\r\n",
        "\r\n",
        "\r\n",
        "\r\n",
        "\r\n",
        "\r\n"
      ]
    },
    {
      "cell_type": "markdown",
      "metadata": {
        "id": "-EnzyahlphFf"
      },
      "source": [
        "\r\n",
        " <br>\r\n",
        "\r\n",
        "\r\n",
        "\r\n",
        "\r\n"
      ]
    },
    {
      "cell_type": "code",
      "metadata": {
        "id": "YKVanDJn21rf"
      },
      "source": [
        "import pandas as pd\n",
        "nodes = pd.read_csv('https://raw.githubusercontent.com/Andreaierardi/SocialNetworkAnalysis-project/main/dataset/fb-pages-food.csv',sep=\";\")\n",
        "\n",
        "edges = pd.read_csv('https://raw.githubusercontent.com/Andreaierardi/SocialNetworkAnalysis-project/main/dataset/fb-pages-food.edges')\n"
      ],
      "execution_count": 149,
      "outputs": []
    },
    {
      "cell_type": "code",
      "metadata": {
        "id": "wdH8yTmE3XG0",
        "colab": {
          "base_uri": "https://localhost:8080/"
        },
        "outputId": "71ee26f5-e055-4089-e49d-f28dcc4b2591"
      },
      "source": [
        "print(nodes)\n",
        "print(edges)"
      ],
      "execution_count": 150,
      "outputs": [
        {
          "output_type": "stream",
          "text": [
            "                        name   id\n",
            "0                 Josh Marks  386\n",
            "1    Blue Ribbon Restaurants  473\n",
            "2                  Pat Neely    1\n",
            "3                 La Griglia  542\n",
            "4                Jose Garces  189\n",
            "..                       ...  ...\n",
            "615               Jumia Food  163\n",
            "616              Luke Thomas  381\n",
            "617          Clodagh McKenna  140\n",
            "618  Chef Michelle Bernstein  157\n",
            "619               SORTEDfood  114\n",
            "\n",
            "[620 rows x 2 columns]\n",
            "      source  target\n",
            "0          0     276\n",
            "1          0      58\n",
            "2          0     132\n",
            "3          0     603\n",
            "4          0     398\n",
            "...      ...     ...\n",
            "2097     597     611\n",
            "2098     601     603\n",
            "2099     601     616\n",
            "2100     603     616\n",
            "2101     311     613\n",
            "\n",
            "[2102 rows x 2 columns]\n"
          ],
          "name": "stdout"
        }
      ]
    },
    {
      "cell_type": "code",
      "metadata": {
        "id": "V433kxvejlcg",
        "colab": {
          "base_uri": "https://localhost:8080/"
        },
        "outputId": "0bf6a3d8-4961-41a7-ffb6-24491b58d8dc"
      },
      "source": [
        "# Nodes as dictionary\n",
        "nodes_dict = {}\n",
        "for (n, id) in zip(nodes[\"name\"],nodes[\"id\"]):\n",
        "  print(n, \"+\", id)\n",
        "  nodes_dict[id] = n"
      ],
      "execution_count": 151,
      "outputs": [
        {
          "output_type": "stream",
          "text": [
            "Josh Marks + 386\n",
            "Blue Ribbon Restaurants + 473\n",
            "Pat Neely + 1\n",
            "La Griglia + 542\n",
            "Jose Garces + 189\n",
            "Zac Kara + 454\n",
            "Big Fish Seafood Bistro + 158\n",
            "Tom Aikens + 248\n",
            "The Habit Burger Grill + 537\n",
            "Chef Sheldon Simeon + 293\n",
            "Ochikeron + 171\n",
            "Taco Bell Cyprus + 485\n",
            "Christophe Michalak + 258\n",
            "Peohe's + 534\n",
            "Destino Ibiza + 500\n",
            "KFC + 194\n",
            "Chef Shirley Chung + 34\n",
            "Doug Adams + 465\n",
            "משה שגב / Moshe Segev + 562\n",
            "Angel Leon Gonzalez + 511\n",
            "Ben Ebbrell - Sorted Chef + 201\n",
            "Dick's Drive In Restaurant + 188\n",
            "John Whaite + 440\n",
            "Andy Luotto + 484\n",
            "Antonino Cannavacciuolo + 240\n",
            "Charley's Crab + 533\n",
            "Anne-Sophie Pic + 235\n",
            "Hilah Cooking + 82\n",
            "Taco Bell Costa Rica + 212\n",
            "Chef Robert Irvine + 35\n",
            "Nutella Cafe Chicago + 19\n",
            "Grand Concourse + 154\n",
            "Domino's Pizza + 334\n",
            "Chef Lorena Garcia + 148\n",
            "James Martin + 599\n",
            "Domino's Pizza + 382\n",
            "Nando's + 230\n",
            "Roy Yamaguchi + 7\n",
            "Susan Feniger + 576\n",
            "McDonald's + 164\n",
            "Al Brown New Zealand Chef + 594\n",
            "Veggie Grill + 396\n",
            "Domino's Pizza + 284\n",
            "McDonald's + 63\n",
            "Franklin Becker + 160\n",
            "McDonald's + 573\n",
            "Éric Frechon + 61\n",
            "KFC + 25\n",
            "The Edgy Veg + 409\n",
            "Domino's Pizza + 329\n",
            "Zoёs Kitchen + 211\n",
            "Chef Mark Garcia + 434\n",
            "Dunkin' Donuts + 218\n",
            "McDonald's + 480\n",
            "Chef Claudia's Cocina + 309\n",
            "McDonald's + 313\n",
            "Alex Guarnaschelli + 56\n",
            "Hari Ghotra + 138\n",
            "Nando's + 591\n",
            "Vicky Ratnani + 202\n",
            "Boston Market + 14\n",
            "Bobby's Burger Palace + 246\n",
            "Chef Guy Martin + 462\n",
            "Pablo Massey + 290\n",
            "McDonald's + 518\n",
            "Burger King Thailand + 106\n",
            "Dunkin' Donuts + 477\n",
            "McDonald's Deutschland Karriere + 504\n",
            "McDonald's + 335\n",
            "Michael White + 355\n",
            "Lillie's Asian Cuisine + 33\n",
            "Aquarium Restaurant - Nashville + 496\n",
            "Manu Feildel + 62\n",
            "맥도날드 (McDonald's) + 255\n",
            "Camille Becerra + 325\n",
            "KFC + 276\n",
            "Whataburger + 153\n",
            "Jumia Food + 362\n",
            "Big Fernand + 10\n",
            "Karlos Arguiñano + 460\n",
            "Karen Martini + 282\n",
            "Ogro Jimmy + 567\n",
            "Chili's Tunisie + 304\n",
            "Magnum + 5\n",
            "Carrabba's Italian Grill + 339\n",
            "Domino's Pizza + 21\n",
            "Susur Lee + 320\n",
            "Cook with Chef Duminda + 464\n",
            "KFC + 51\n",
            "Roblé + 156\n",
            "KFC + 149\n",
            "Brooke Williamson + 155\n",
            "René Redzepi + 505\n",
            "Cadillac Bar Kemah + 209\n",
            "Fast Ed + 236\n",
            "Cesare Casella + 324\n",
            "Nando's + 527\n",
            "Gandy Dancer Saloon/Oyster Bar + 78\n",
            "Hardee's + 226\n",
            "Peter Kuruvita + 433\n",
            "Chef Francois Payard + 170\n",
            "PROPERCORN + 468\n",
            "Marc Veyrat + 472\n",
            "Chope + 387\n",
            "Simon Bryant + 392\n",
            "Massimo Mele + 193\n",
            "Chef Sam Talbot + 544\n",
            "José Andrés + 9\n",
            "Opry City Stage + 308\n",
            "Cucina by Wolfgang Puck + 370\n",
            "Iginio Massari + 344\n",
            "Domino's Pizza + 144\n",
            "Thomas Keller + 588\n",
            "Emma Frisch + 463\n",
            "Dunkin' Donuts + 521\n",
            "McDonald's + 165\n",
            "El Torito + 215\n",
            "Chef Marc Murphy + 601\n",
            "Dina Nikolaou + 481\n",
            "KFC + 358\n",
            "Acapulco + 204\n",
            "Delverde + 270\n",
            "Taco Bell Panamá + 11\n",
            "Pollo Campero El Salvador + 606\n",
            "KFC + 42\n",
            "Michael Lomonaco + 366\n",
            "Domino's Pizza Türkiye + 150\n",
            "The Tuscan Gun + 322\n",
            "Burger Lounge + 379\n",
            "Pasqualino Barbasso + 608\n",
            "McDonald's + 579\n",
            "McDonald's + 424\n",
            "Jumia Food + 429\n",
            "Dunkin' Donuts + 105\n",
            "Alfred Portale + 242\n",
            "Magnum + 416\n",
            "Jumia Food + 220\n",
            "Jumia Food + 535\n",
            "Alberto Chicote + 337\n",
            "Lee Anne Wong + 0\n",
            "Nando's PERi-PERi + 30\n",
            "Nando's + 213\n",
            "Paul Qui + 207\n",
            "McDonald's + 532\n",
            "Subway, Cayman Islands + 234\n",
            "Chef Aaron McCargo Jr + 615\n",
            "Chef Carla Hall + 350\n",
            "Gary Mehigan + 169\n",
            "Leslie Gilliams + 159\n",
            "Cook with Amber + 456\n",
            "Sang Yoon + 342\n",
            "KFC + 555\n",
            "McDonald's República Dominicana + 491\n",
            "McDonald's + 48\n",
            "Chef Richard Sandoval + 593\n",
            "Jumia Food + 497\n",
            "Christian Bau + 450\n",
            "Jumia Food + 486\n",
            "McDonald's + 85\n",
            "McDonald's + 572\n",
            "Aliya LeeKong + 482\n",
            "Taco Bell Kuwait + 525\n",
            "McDonald's + 488\n",
            "Chef Ben Ford + 361\n",
            "Taste of London + 286\n",
            "Cristian D'Elia + 299\n",
            "Guillaume Gomez + 517\n",
            "Christine Ha + 458\n",
            "Chef Daniel Boulud + 70\n",
            "Per Se + 46\n",
            "Niko Romito + 333\n",
            "Marc Forgione + 257\n",
            "Noëmie Honiat Top Chef + 443\n",
            "Princi + 417\n",
            "Domino's Pizza + 237\n",
            "Papacho's + 412\n",
            "Hugh Acheson + 128\n",
            "McDonald's + 327\n",
            "Dunkin' Donuts + 548\n",
            "Domino's Pizza + 609\n",
            "McDonald's + 612\n",
            "Jumia Food + 6\n",
            "Alex Atala + 146\n",
            "RIBS - True American Barbecue + 582\n",
            "Burger King Malaysia + 523\n",
            "Chef Sue Zemanick + 208\n",
            "Chef Carlo Cracco + 3\n",
            "McDonald's + 179\n",
            "Chili's Beirut + 173\n",
            "Duff Goldman + 312\n",
            "Domino's Guatemala + 263\n",
            "Dani García + 498\n",
            "Nando's + 108\n",
            "Taco Bell India + 241\n",
            "Brew Bistro and Lounge + 561\n",
            "Maneet Chauhan + 549\n",
            "Mei Lin + 254\n",
            "Chetna Makan + 418\n",
            "Simon Gault + 121\n",
            "Tom Colicchio + 288\n",
            "Chef David Burke + 116\n",
            "Chef Cynthia Louise + 53\n",
            "Eddie V's Prime Seafood + 196\n",
            "Daniel Humm + 107\n",
            "Delverde + 187\n",
            "Nando's + 502\n",
            "Scott Conant + 90\n",
            "Chef Jamie DeRosa + 604\n",
            "Emmi CAFFÈ LATTE + 66\n",
            "Cindy Pawlcyn + 281\n",
            "McDonald's + 421\n",
            "KFC + 296\n",
            "Pierre Gagnaire + 376\n",
            "Outback Steakhouse + 305\n",
            "Chef Hirohiko Shoda + 40\n",
            "Chef Andrew Gruel + 436\n",
            "Donatella Arpaia + 439\n",
            "foodpanda + 605\n",
            "Dean Fearing + 23\n",
            "Chef Charlie Palmer + 275\n",
            "KFC + 467\n",
            "Emmi CAFFÈ LATTE + 461\n",
            "McDonald's + 551\n",
            "Julia Child + 584\n",
            "Geoffrey Zakarian + 87\n",
            "YANNICK ALLENO OFFICIEL + 552\n",
            "Narda Lepes + 253\n",
            "Quique Dacosta + 474\n",
            "McDonald's + 45\n",
            "Tom Douglas Restaurants + 268\n",
            "Nando's + 279\n",
            "Johnny Prep + 197\n",
            "Mathieu Pacaud + 401\n",
            "Mirko Ronzoni + 185\n",
            "Anjali Pathak + 80\n",
            "Second Floor Cafe 貳樓餐飲 + 402\n",
            "Chef G. Garvin + 302\n",
            "KFC + 332\n",
            "Chef Maeve Rochford + 557\n",
            "Manjula's Kitchen - Indian Vegetarian Recipes + 166\n",
            "Enrique Olvera + 323\n",
            "Valentin Neraudeau + 388\n",
            "Taco Bell UK + 145\n",
            "Chevys Fresh Mex + 540\n",
            "Nyesha Arrington + 250\n",
            "Luna Grill + 96\n",
            "Chef Nina Compton + 373\n",
            "McDonald's + 123\n",
            "Big Fish Seafood Bistro + 437\n",
            "Dunkin' Donuts + 219\n",
            "Domino's Pizza + 613\n",
            "Chef Rubio + 575\n",
            "Stephanie Izard + 510\n",
            "KFC + 559\n",
            "Kevin Dundon + 581\n",
            "KFC + 423\n",
            "Eduardo Palazuelos + 610\n",
            "Domino's Pizza + 152\n",
            "Harlem EatUp + 413\n",
            "Gavin Kaysen + 205\n",
            "Taco Bell Rep Dom + 380\n",
            "Francesco Sole + 272\n",
            "McDonald's + 142\n",
            "Raymond Blanc + 269\n",
            "Michel Nischan + 289\n",
            "Cuoco Filippo La Mantia + 65\n",
            "Colin Fassnidge + 364\n",
            "Chuck Hughes + 345\n",
            "Amy Thielen + 102\n",
            "Thierry Rautureau + 519\n",
            "Jean-François Piège     -      Page Officielle + 363\n",
            "Chef Diego Lozano + 614\n",
            "Jacques Pépin + 317\n",
            "Donato De Santis + 563\n",
            "Juliana Lopez May + 104\n",
            "McDonald's + 586\n",
            "Robin Miller + 611\n",
            "Cadillac Bar Houston + 180\n",
            "Chef Derrick Fox + 479\n",
            "Nando's + 28\n",
            "McDonald's + 515\n",
            "Domino's Mx + 84\n",
            "Dan Kluger + 68\n",
            "Chef Ana Paula + 112\n",
            "Dunkin' Donuts + 556\n",
            "Taco Bell + 264\n",
            "Bryce Shuman + 550\n",
            "Eva Arguiñano + 587\n",
            "Gandy Dancer + 210\n",
            "McDonald's + 297\n",
            "Alex French Guy Cooking + 251\n",
            "Magnum + 266\n",
            "Marcus Samuelsson + 217\n",
            "Tom's Kitchen + 499\n",
            "McDonald's + 487\n",
            "foodpanda + 26\n",
            "Dairy Queen + 326\n",
            "Roxanne Spruance + 569\n",
            "hellofood + 301\n",
            "McDonald's + 127\n",
            "Hearth + 359\n",
            "Elizabeth Karmel + 603\n",
            "Eddie Jackson - FIT CHEF EDDIE + 321\n",
            "KFC + 598\n",
            "KFC + 565\n",
            "Subway + 618\n",
            "Douglas Keane + 59\n",
            "Emmi CAFFÈ LATTE + 574\n",
            "McDonald's + 524\n",
            "Martín Berasategui + 88\n",
            "Shane Delia + 285\n",
            "Chili's México + 73\n",
            "Katie Pix + 110\n",
            "Danny Smiles + 391\n",
            "Ranveer Brar + 426\n",
            "Diego Guerrero + 64\n",
            "McDonald's + 357\n",
            "翠華餐廳 Tsui Wah Restaurant + 190\n",
            "Five Guys + 589\n",
            "Domino's Pizza + 75\n",
            "Samin Nosrat + 617\n",
            "McDonald's + 566\n",
            "Morton's The Steakhouse + 129\n",
            "River Crab Blue Water Inn + 55\n",
            "George Pagonis + 4\n",
            "Steve Konopelski + 394\n",
            "Bruno Oteiza + 571\n",
            "Nikki Dinki + 451\n",
            "Virginia Willis + 446\n",
            "Nando's + 547\n",
            "McDonald's + 315\n",
            "McDonald's + 508\n",
            "Chef Alex Levin + 607\n",
            "McDonald's + 348\n",
            "Aarón Sánchez + 597\n",
            "Dan Steph & Emmy + 341\n",
            "Dunkin' Donuts + 267\n",
            "Chef Elizabeth Falkner + 198\n",
            "Ernst Knam + 17\n",
            "Guy Savoy + 244\n",
            "McDonald's Japan + 595\n",
            "Nando's + 438\n",
            "McDonald's + 191\n",
            "Chef Clément + 459\n",
            "Christina Tosi + 15\n",
            "Paul Hollywood + 408\n",
            "Xi'an Famous Foods 西安名吃 + 167\n",
            "Emmi CAFFÈ LATTE + 141\n",
            "Lío + 513\n",
            "Guga Rocha + 93\n",
            "Jock Zonfrillo + 228\n",
            "foodpanda - 空腹熊貓 + 216\n",
            "Chef Carmen Gonzalez + 239\n",
            "Suzanne Goin + 509\n",
            "McDonald's + 395\n",
            "Food Busker + 184\n",
            "Crepes & Waffles + 91\n",
            "McDonald's + 430\n",
            "Jumia Food + 478\n",
            "Matthew Kenney + 122\n",
            "Ken Oringer + 351\n",
            "Gemma Stafford + 407\n",
            "KFC + 113\n",
            "Buddy Valastro + 120\n",
            "Bahama Breeze Island Grille + 29\n",
            "Domino's Pizza + 400\n",
            "Marcel Vigneron + 445\n",
            "Krispy Kreme UK + 200\n",
            "Kunal Kapur + 300\n",
            "Gregory Gourdet + 83\n",
            "Ben Sargent & Dr. Klaw + 2\n",
            "Domino's Pizza + 119\n",
            "Martha Collison + 506\n",
            "Francis Mallmann + 225\n",
            "Cat Cora + 60\n",
            "Mary Nolan, Bon Appétit Executive Chef + 514\n",
            "Bobby Flay + 182\n",
            "Taste Of Paris Official + 368\n",
            "McDonald's + 118\n",
            "RED Sushi and Hibachi Grill + 490\n",
            "Chili's Qatar + 369\n",
            "Bubba Gump Shrimp Co. + 331\n",
            "Seamus Mullen + 238\n",
            "Blue Ribbon Fried Chicken + 206\n",
            "McDonald's + 546\n",
            "Famous Dave's Bar-B-Que of America + 294\n",
            "達美樂披薩 + 101\n",
            "Chef Jamie Gwen + 58\n",
            "Chef Marcela Valladolid + 175\n",
            "McDonald's + 596\n",
            "Chef Rick Tramonto + 277\n",
            "Chef Todd Mohr + 406\n",
            "Franklin Barbecue + 233\n",
            "Spago Las Vegas + 135\n",
            "Ludo Lefebvre + 245\n",
            "Donal Skehan + 143\n",
            "Anis Nabilah + 600\n",
            "Magnum + 287\n",
            "KFC + 466\n",
            "Bradley Ogden + 536\n",
            "Chef Michael Ferraro + 383\n",
            "Jumia Food + 427\n",
            "Tim Love + 130\n",
            "Domino's Pizza + 16\n",
            "Audra Morrice + 109\n",
            "Chef Kent Graham + 89\n",
            "Santiago Giorgini + 232\n",
            "CAKE-BOY + 560\n",
            "Carl's Jr. NZ + 192\n",
            "Rachel Allen + 172\n",
            "Pierre Sang Boyer Officiel + 470\n",
            "McDonald's + 316\n",
            "McDonald's + 328\n",
            "Lindsay Ann Bakes + 133\n",
            "Anne Burrell + 151\n",
            "Chope + 390\n",
            "Steak 'n Shake + 475\n",
            "Chef Michael Smith + 384\n",
            "McDonald's + 347\n",
            "Maru Botana + 81\n",
            "Red Lobster México + 178\n",
            "KFC + 619\n",
            "FONDA MEXICANA + 367\n",
            "Chef Jennifer Carroll + 221\n",
            "Jimmy John's + 330\n",
            "Vegan Black Metal Chef + 195\n",
            "Celler de Can Roca + 69\n",
            "Juan Mari Arzak (Página oficial) + 385\n",
            "Dining with Flynn + 131\n",
            "McDonald's + 100\n",
            "KFC + 222\n",
            "Chef Adrianne + 378\n",
            "KFC + 522\n",
            "Chef Rick Moonen + 558\n",
            "foodpanda + 74\n",
            "Dunkin' Donuts + 249\n",
            "foodpanda + 471\n",
            "Nando's + 147\n",
            "Chef Dana Cohen HK + 260\n",
            "McDonald's + 507\n",
            "Taco Bell El Salvador + 259\n",
            "foodpanda + 98\n",
            "Madison Cowan + 132\n",
            "Puesto + 77\n",
            "Justin Warner + 111\n",
            "Eckart Witzigmann + 13\n",
            "My Cupcake Addiction + 397\n",
            "Matt Moran + 41\n",
            "Frantzén + 592\n",
            "KFC + 415\n",
            "Telepizza Guatemala + 318\n",
            "Jehangir + 161\n",
            "Johnny Iuzzini + 372\n",
            "Pedro Lambertini + 493\n",
            "McDonald's + 307\n",
            "Dale Talde + 455\n",
            "Amandine Chaignot + 262\n",
            "Graham Elliot + 432\n",
            "McDonald's + 585\n",
            "Skinny Chef + 399\n",
            "Chef Rusty Hamlin + 177\n",
            "Domino's Pizza + 545\n",
            "Chef Mary Sue Milliken + 39\n",
            "Delverde + 420\n",
            "Alessandro Borghese + 377\n",
            "Chef Jet Tila + 229\n",
            "Grotto + 223\n",
            "Domino's Pizza + 441\n",
            "McDonald's + 38\n",
            "Seasons 52 + 512\n",
            "Norbert Tarayre + 590\n",
            "Chef Jimmy Boswell + 553\n",
            "McDonald's Paraguay + 256\n",
            "Relais & Châteaux + 530\n",
            "Four Seasons Hotels and Resorts + 442\n",
            "Sanjeev Kapoor + 32\n",
            "Chef Billy Parisi + 50\n",
            "Ravintola Salve + 36\n",
            "Claire Robinson + 271\n",
            "Paul Bocuse + 526\n",
            "UMass Dining + 314\n",
            "Domino's Pizza Nigeria + 353\n",
            "Chef Brian Duffy + 243\n",
            "Barbie Marshall + 298\n",
            "McDonald's Vietnam + 27\n",
            "Kirti Bhoutika + 44\n",
            "McDonald's + 457\n",
            "DedeMed + 422\n",
            "Spike Mendelsohn + 531\n",
            "Outlander Kitchen + 564\n",
            "Wolfgang Puck + 227\n",
            "Russell Jackson + 37\n",
            "D'O - Davide Oldani + 577\n",
            "KFC + 398\n",
            "Chef Casey Thompson + 54\n",
            "도미노피자(Dominostory) + 124\n",
            "McDonald's + 602\n",
            "Dunkin' Donuts + 12\n",
            "Bruno Ménard + 181\n",
            "Dean Sheremet + 338\n",
            "Emily Ellyn + 389\n",
            "Hakim Chajar + 203\n",
            "'Wichcraft + 528\n",
            "Gino D'Acampo + 346\n",
            "Noma + 410\n",
            "Alain Ducasse + 352\n",
            "Texas Roadhouse + 76\n",
            "Logan Junior Chef + 265\n",
            "Domino's Pizza + 516\n",
            "MASAの料理ABC + 186\n",
            "Chili's Grill & Bar + 8\n",
            "McDonald's + 31\n",
            "Emmi CAFFÈ LATTE + 280\n",
            "Nando's + 306\n",
            "Josh Elkin + 580\n",
            "KFC + 319\n",
            "McDonald's + 79\n",
            "Bruno Barbieri + 538\n",
            "NishaMadhulika + 18\n",
            "Christophe Adam + 476\n",
            "KFC + 52\n",
            "Chart House + 214\n",
            "McDonald's + 543\n",
            "Chef Ben Churchill + 291\n",
            "Sonia Peronaci + 356\n",
            "Crystal Jade Palace - JW Marriott Hotel Hanoi + 231\n",
            "Meriwether's + 452\n",
            "Harold Dieterle + 349\n",
            "Domino's Pizza + 274\n",
            "José Santaella + 568\n",
            "McDonald's + 199\n",
            "Monti Carlo + 360\n",
            "Domino's Pizza + 117\n",
            "Taco Bell Guatemala + 174\n",
            "Maria Loi + 20\n",
            "Red Robin Gourmet Burgers + 247\n",
            "Pescaria + 405\n",
            "Nando's + 501\n",
            "Eric Ripert + 340\n",
            "Chef Pete Evans + 449\n",
            "KFC + 365\n",
            "Saransh Goila + 183\n",
            "Crystal Jade Singapore + 425\n",
            "Ricardo Cuisine + 435\n",
            "Roy Choi + 43\n",
            "Burger King Nederland + 95\n",
            "Fabio Viviani + 136\n",
            "Felicitas Pizarro + 134\n",
            "João Alcantara + 94\n",
            "foodpanda + 295\n",
            "Magnum + 303\n",
            "foodpanda + 99\n",
            "Dunkin' Coffee + 310\n",
            "Chick-fil-A + 483\n",
            "Nando's + 24\n",
            "Domino's Pizza + 137\n",
            "foodpanda / hellofood + 176\n",
            "foodpanda + 393\n",
            "Olive Garden México + 495\n",
            "Hubert Keller + 343\n",
            "Five Guys + 489\n",
            "Levi Eirinberg + 375\n",
            "Joanna 劉韋彤 + 92\n",
            "Hard Rock Cafe Ibiza + 47\n",
            "Pollo Campero Guatemala + 447\n",
            "麥當勞 + 414\n",
            "Delverde + 22\n",
            "Kristen Kish + 570\n",
            "Angelo Sosa + 283\n",
            "KFC + 125\n",
            "McDonald's + 292\n",
            "Relais & Châteaux + 72\n",
            "ChefAlexander + 404\n",
            "Wings + 539\n",
            "Ignacio Mattos + 273\n",
            "John DeLucie + 616\n",
            "McDonald's + 448\n",
            "Los Petersen Cocineros + 354\n",
            "Nando's + 126\n",
            "Germán Martitegui + 469\n",
            "Sam Choy + 453\n",
            "Magnum + 503\n",
            "McDonald's + 139\n",
            "Roy's Restaurant + 444\n",
            "Carl's Jr. + 371\n",
            "Bonefish Grill + 583\n",
            "Domino's Australia + 311\n",
            "Christian Le Squer + 224\n",
            "Olive Garden + 71\n",
            "Taco Bell Careers + 57\n",
            "Christophe Bacquie + 403\n",
            "Hardee's Pakistan + 431\n",
            "Chef Grace Ramirez + 411\n",
            "Yard House + 49\n",
            "Burger King México + 492\n",
            "タコベル ジャパン　Taco Bell Japan + 115\n",
            "JW Café - JW Marriott Hotel Hanoi + 374\n",
            "Cocina familiar con Javier Romero + 162\n",
            "ad hoc & addendum + 86\n",
            "Melissa King + 419\n",
            "Charley's Crab + 252\n",
            "McDonald's + 541\n",
            "Magnum + 336\n",
            "Gaston Acurio + 529\n",
            "Carlos Bertolazzi + 103\n",
            "On The Border + 278\n",
            "David Chang + 67\n",
            "T-rex Cafe + 520\n",
            "Chef Natale Giunta + 168\n",
            "Chef Kiran Jethwa + 97\n",
            "The French Laundry + 578\n",
            "McDonald's + 428\n",
            "Nicko's Kitchen + 261\n",
            "KFC + 494\n",
            "Chef Damaris Phillips + 554\n",
            "Jumia Food + 163\n",
            "Luke Thomas + 381\n",
            "Clodagh McKenna + 140\n",
            "Chef Michelle Bernstein + 157\n",
            "SORTEDfood + 114\n"
          ],
          "name": "stdout"
        }
      ]
    },
    {
      "cell_type": "markdown",
      "metadata": {
        "id": "Hukazbol5IQq"
      },
      "source": [
        "\\\r\n",
        "\r\n",
        "\r\n",
        "\r\n"
      ]
    },
    {
      "cell_type": "markdown",
      "metadata": {
        "id": "KvT9Qpmg4nvI"
      },
      "source": [
        "## Network Building\r\n",
        "\r\n"
      ]
    },
    {
      "cell_type": "code",
      "metadata": {
        "id": "Zn5pk5DSlpTX"
      },
      "source": [
        "import networkx as nx\n",
        "from statsmodels.distributions.empirical_distribution import ECDF\n",
        "import numpy as np\n",
        "import matplotlib.pyplot as plt"
      ],
      "execution_count": 152,
      "outputs": []
    },
    {
      "cell_type": "code",
      "metadata": {
        "id": "k9RHnVXFme7a"
      },
      "source": [
        "G = nx.Graph()\n",
        "\n",
        "for e in edges.values.tolist():\n",
        "  G.add_edge(e[0],e[1])"
      ],
      "execution_count": 153,
      "outputs": []
    },
    {
      "cell_type": "code",
      "metadata": {
        "id": "0Nzgzmp-kN_d",
        "colab": {
          "base_uri": "https://localhost:8080/"
        },
        "outputId": "c565f412-34cd-4472-8935-42398de7575c"
      },
      "source": [
        "H = nx.relabel_nodes(G, nodes_dict)\n",
        "len(sorted(H))"
      ],
      "execution_count": 154,
      "outputs": [
        {
          "output_type": "execute_result",
          "data": {
            "text/plain": [
              "460"
            ]
          },
          "metadata": {
            "tags": []
          },
          "execution_count": 154
        }
      ]
    },
    {
      "cell_type": "code",
      "metadata": {
        "colab": {
          "base_uri": "https://localhost:8080/"
        },
        "id": "_75ZAAB6nDDX",
        "outputId": "57c78c84-0934-421f-b12c-93a33abb03b7"
      },
      "source": [
        "print('Number of nodes: {} - Number of links:{}'.format(G.order(),G.size()))\n"
      ],
      "execution_count": 155,
      "outputs": [
        {
          "output_type": "stream",
          "text": [
            "Number of nodes: 620 - Number of links:2102\n"
          ],
          "name": "stdout"
        }
      ]
    },
    {
      "cell_type": "markdown",
      "metadata": {
        "id": "gUSnmQuY5ROb"
      },
      "source": [
        "\\"
      ]
    },
    {
      "cell_type": "markdown",
      "metadata": {
        "id": "AYiLXy-R4wKP"
      },
      "source": [
        "# Degree Analysis"
      ]
    },
    {
      "cell_type": "code",
      "metadata": {
        "id": "XkY4Lqom-jIe",
        "colab": {
          "base_uri": "https://localhost:8080/"
        },
        "outputId": "b39ee7d9-a243-49ec-995a-7370f28e1338"
      },
      "source": [
        "G.nodes()"
      ],
      "execution_count": 156,
      "outputs": [
        {
          "output_type": "execute_result",
          "data": {
            "text/plain": [
              "NodeView((0, 276, 58, 132, 603, 398, 555, 1, 265, 611, 2, 182, 345, 3, 608, 377, 40, 352, 450, 484, 299, 65, 185, 228, 557, 227, 90, 151, 394, 4, 287, 254, 336, 5, 503, 6, 429, 163, 486, 478, 518, 7, 293, 305, 339, 35, 444, 583, 8, 278, 434, 73, 98, 369, 9, 317, 288, 206, 289, 249, 593, 550, 131, 446, 89, 15, 340, 248, 229, 56, 570, 189, 107, 23, 465, 67, 351, 498, 10, 393, 258, 11, 212, 485, 264, 380, 174, 259, 12, 548, 618, 310, 13, 14, 326, 70, 454, 505, 43, 432, 16, 516, 119, 400, 545, 334, 237, 374, 117, 274, 613, 466, 75, 17, 18, 408, 418, 581, 143, 599, 20, 324, 355, 481, 238, 242, 160, 21, 441, 329, 22, 270, 187, 104, 420, 128, 257, 277, 157, 343, 54, 24, 547, 230, 502, 306, 501, 591, 25, 363, 26, 27, 424, 28, 147, 527, 29, 49, 30, 126, 31, 285, 543, 357, 507, 508, 491, 169, 595, 41, 63, 327, 266, 48, 179, 546, 142, 449, 269, 524, 488, 515, 193, 315, 32, 183, 364, 159, 300, 504, 118, 430, 164, 165, 127, 395, 596, 79, 448, 335, 307, 572, 313, 45, 532, 526, 552, 517, 181, 558, 519, 462, 224, 235, 536, 403, 195, 388, 87, 34, 419, 373, 208, 383, 389, 597, 338, 601, 439, 615, 198, 243, 36, 490, 37, 38, 411, 344, 333, 538, 240, 594, 397, 62, 109, 321, 121, 282, 42, 467, 253, 102, 360, 577, 39, 83, 44, 180, 496, 331, 209, 520, 46, 417, 86, 578, 110, 47, 475, 500, 512, 71, 196, 188, 50, 544, 171, 483, 562, 330, 52, 113, 494, 53, 122, 275, 55, 210, 158, 154, 437, 252, 78, 452, 214, 68, 116, 479, 359, 130, 217, 584, 375, 60, 350, 616, 617, 244, 57, 148, 537, 302, 59, 61, 392, 139, 602, 64, 66, 141, 245, 291, 323, 440, 445, 372, 325, 146, 410, 531, 469, 416, 69, 385, 205, 72, 170, 473, 342, 495, 155, 525, 115, 145, 241, 77, 379, 414, 85, 80, 138, 81, 290, 563, 82, 261, 409, 451, 84, 292, 175, 576, 580, 88, 460, 474, 136, 221, 569, 413, 91, 92, 186, 93, 103, 567, 94, 614, 95, 492, 523, 96, 211, 97, 74, 295, 471, 216, 99, 605, 431, 108, 100, 101, 124, 311, 152, 232, 134, 480, 256, 348, 105, 521, 106, 320, 111, 112, 559, 358, 319, 222, 522, 114, 200, 201, 184, 366, 535, 220, 362, 427, 120, 433, 553, 123, 347, 125, 565, 308, 423, 529, 412, 404, 135, 510, 133, 407, 456, 251, 458, 386, 281, 422, 568, 239, 455, 140, 461, 51, 280, 574, 172, 144, 150, 354, 438, 279, 149, 368, 472, 382, 137, 153, 129, 223, 533, 156, 585, 604, 161, 162, 610, 561, 176, 337, 166, 167, 168, 406, 202, 459, 173, 318, 301, 497, 177, 178, 539, 476, 246, 463, 356, 514, 190, 191, 250, 192, 371, 273, 194, 619, 226, 199, 316, 566, 426, 203, 435, 204, 540, 215, 207, 33, 213, 534, 405, 402, 589, 218, 365, 542, 262, 376, 443, 470, 225, 493, 436, 370, 442, 453, 509, 549, 396, 361, 554, 231, 425, 233, 234, 236, 322, 247, 560, 255, 284, 263, 271, 341, 312, 346, 349, 384, 588, 309, 464, 267, 268, 482, 272, 296, 598, 582, 587, 571, 283, 260, 294, 286, 499, 303, 528, 421, 612, 328, 297, 298, 575, 564, 304, 314, 447, 609, 332, 391, 353, 401, 607, 367, 381, 387, 530, 390, 600, 399, 197, 19, 415, 506, 428, 489, 378, 590, 76, 606, 487, 457, 468, 477, 579, 511, 513, 592, 573, 586, 541, 551, 219, 556))"
            ]
          },
          "metadata": {
            "tags": []
          },
          "execution_count": 156
        }
      ]
    },
    {
      "cell_type": "code",
      "metadata": {
        "colab": {
          "base_uri": "https://localhost:8080/"
        },
        "id": "1fSQkejDn22I",
        "outputId": "86ac3595-90b4-48fd-fc05-8aa5afdb6478"
      },
      "source": [
        "density = nx.density(G)\n",
        "print('Density: {}'.format(density))"
      ],
      "execution_count": 157,
      "outputs": [
        {
          "output_type": "stream",
          "text": [
            "Density: 0.0109541925061233\n"
          ],
          "name": "stdout"
        }
      ]
    },
    {
      "cell_type": "code",
      "metadata": {
        "id": "M0mcsMoApMPw"
      },
      "source": [
        ""
      ],
      "execution_count": 210,
      "outputs": []
    },
    {
      "cell_type": "code",
      "metadata": {
        "id": "JIXsj69-pShl",
        "colab": {
          "base_uri": "https://localhost:8080/"
        },
        "outputId": "a4a28592-2760-4b97-cd79-bb4a26bc560e"
      },
      "source": [
        "degree = list(dict(G.degree()).values())\n",
        "degree[0:20]"
      ],
      "execution_count": 208,
      "outputs": [
        {
          "output_type": "execute_result",
          "data": {
            "text/plain": [
              "[6, 11, 15, 2, 27, 9, 17, 2, 134, 47, 3, 31, 11, 10, 7, 10, 7, 19, 7, 3]"
            ]
          },
          "metadata": {
            "tags": []
          },
          "execution_count": 208
        }
      ]
    },
    {
      "cell_type": "code",
      "metadata": {
        "colab": {
          "base_uri": "https://localhost:8080/"
        },
        "id": "zsvqwpCEpUEF",
        "outputId": "d4dd7b87-7537-4e21-b721-b93bdfbc9157"
      },
      "source": [
        "print('Standard deviation: {}'.format(np.std(degree)))\n",
        "print('Mean: {}'.format(np.mean(degree)))\n",
        "print('Median: {}'.format(np.median(degree)))\n",
        "print('Min: {}'.format(np.min(degree)))\n",
        "print('Max: {}'.format(np.max(degree)))\n",
        "\n",
        "\n",
        "print(\"Assortativity coefficient: \" + str(nx.degree_assortativity_coefficient(G)))"
      ],
      "execution_count": 209,
      "outputs": [
        {
          "output_type": "stream",
          "text": [
            "Standard deviation: 9.46914920573866\n",
            "Mean: 6.780645161290322\n",
            "Median: 4.0\n",
            "Min: 1\n",
            "Max: 134\n",
            "Assortativity coefficient: -0.028203795222469928\n"
          ],
          "name": "stdout"
        }
      ]
    },
    {
      "cell_type": "markdown",
      "metadata": {
        "id": "XntfvpBl51EN"
      },
      "source": [
        "\\"
      ]
    },
    {
      "cell_type": "markdown",
      "metadata": {
        "id": "ELEr1yqD5veE"
      },
      "source": [
        "### ECDF"
      ]
    },
    {
      "cell_type": "code",
      "metadata": {
        "colab": {
          "base_uri": "https://localhost:8080/",
          "height": 307
        },
        "id": "t6f32IbipWuq",
        "outputId": "707ead89-1e79-46f2-8e4e-da255226e64e"
      },
      "source": [
        "# ECDF linear scale\n",
        "cdf = ECDF(degree)\n",
        "x = np.unique(degree)\n",
        "y = cdf(x)\n",
        "fig_cdf = plt.figure(figsize=(8,4))\n",
        "axes = fig_cdf.gca()\n",
        "axes.plot(x,y,marker='o',ms=6, linestyle='None')\n",
        "axes.set_xlabel('Degree',size=20)\n",
        "axes.set_ylabel('ECDF Food', size = 20)"
      ],
      "execution_count": 160,
      "outputs": [
        {
          "output_type": "execute_result",
          "data": {
            "text/plain": [
              "Text(0, 0.5, 'ECDF Food')"
            ]
          },
          "metadata": {
            "tags": []
          },
          "execution_count": 160
        },
        {
          "output_type": "display_data",
          "data": {
            "image/png": "[encoded data removed]",
            "text/plain": [
              "<Figure size 576x288 with 1 Axes>"
            ]
          },
          "metadata": {
            "tags": [],
            "needs_background": "light"
          }
        }
      ]
    },
    {
      "cell_type": "code",
      "metadata": {
        "colab": {
          "base_uri": "https://localhost:8080/",
          "height": 311
        },
        "id": "85VdeXRZpbv6",
        "outputId": "085d5da1-0468-4ef3-d29f-c47771d1593a"
      },
      "source": [
        "\n",
        "# ECDF loglog scale\n",
        "cdf = ECDF(degree)\n",
        "x = np.unique(degree)\n",
        "y = cdf(x)\n",
        "fig_cdf = plt.figure(figsize=(8,4))\n",
        "axes = fig_cdf.gca()\n",
        "axes.loglog(x,y,marker='o',ms=8, linestyle='--')\n",
        "axes.set_xlabel('Degree',size=20)\n",
        "axes.set_ylabel('ECDF Food', size = 20)\n"
      ],
      "execution_count": 161,
      "outputs": [
        {
          "output_type": "execute_result",
          "data": {
            "text/plain": [
              "Text(0, 0.5, 'ECDF Food')"
            ]
          },
          "metadata": {
            "tags": []
          },
          "execution_count": 161
        },
        {
          "output_type": "display_data",
          "data": {
            "image/png": "[encoded data removed]",
            "text/plain": [
              "<Figure size 576x288 with 1 Axes>"
            ]
          },
          "metadata": {
            "tags": [],
            "needs_background": "light"
          }
        }
      ]
    },
    {
      "cell_type": "code",
      "metadata": {
        "colab": {
          "base_uri": "https://localhost:8080/",
          "height": 314
        },
        "id": "s9tOUCWqpivi",
        "outputId": "b0f9a56f-63da-43f7-9da4-df00d043266f"
      },
      "source": [
        "# ECCDF\n",
        "cdf = ECDF(degree)\n",
        "x = np.unique(degree)\n",
        "y = cdf(x)\n",
        "fig_cdf = plt.figure(figsize=(8,4))\n",
        "axes = fig_cdf.gca()\n",
        "axes.loglog(x,1-y,marker='o',ms=8, linestyle='--')\n",
        "axes.set_xlabel('Degree',size=20)\n",
        "axes.set_ylabel('ECCDF FOOD', size = 20)"
      ],
      "execution_count": 162,
      "outputs": [
        {
          "output_type": "execute_result",
          "data": {
            "text/plain": [
              "Text(0, 0.5, 'ECCDF FOOD')"
            ]
          },
          "metadata": {
            "tags": []
          },
          "execution_count": 162
        },
        {
          "output_type": "display_data",
          "data": {
            "image/png": "[encoded data removed]",
            "text/plain": [
              "<Figure size 576x288 with 1 Axes>"
            ]
          },
          "metadata": {
            "tags": [],
            "needs_background": "light"
          }
        }
      ]
    },
    {
      "cell_type": "code",
      "metadata": {
        "id": "-NY41H7IppF7"
      },
      "source": [
        "p = density\n",
        "random_graph = nx.fast_gnp_random_graph(G.order(),p)\n"
      ],
      "execution_count": 163,
      "outputs": []
    },
    {
      "cell_type": "code",
      "metadata": {
        "colab": {
          "base_uri": "https://localhost:8080/"
        },
        "id": "TOi6WvTwpvpZ",
        "outputId": "6521fa66-7d22-4614-f17e-97464019a09a"
      },
      "source": [
        "print('Number of nodes: {}'.format(random_graph.order()))\n",
        "print('Number of links: {}'.format(random_graph.size()))"
      ],
      "execution_count": 164,
      "outputs": [
        {
          "output_type": "stream",
          "text": [
            "Number of nodes: 620\n",
            "Number of links: 2125\n"
          ],
          "name": "stdout"
        }
      ]
    },
    {
      "cell_type": "code",
      "metadata": {
        "id": "FCiK8TUYpz0W",
        "colab": {
          "base_uri": "https://localhost:8080/"
        },
        "outputId": "62fc2314-19f5-4e61-9a22-7d215a11c754"
      },
      "source": [
        "random_degree = list(dict(random_graph.degree()).values())\n",
        "print('Random Net Standard deviation: {}'.format(np.std(random_degree)))\n",
        "print('Random Net Mean: {}'.format(np.mean(random_degree)))\n",
        "print('Random Net Median: {}'.format(np.median(random_degree)))\n",
        "print('Random Net Min: {}'.format(np.min(random_degree)))\n",
        "print('Random Net Max: {}'.format(np.max(random_degree)))"
      ],
      "execution_count": 213,
      "outputs": [
        {
          "output_type": "stream",
          "text": [
            "Random Net Standard deviation: 2.6733256695127428\n",
            "Random Net Mean: 6.854838709677419\n",
            "Random Net Median: 7.0\n",
            "Random Net Min: 0\n",
            "Random Net Max: 17\n"
          ],
          "name": "stdout"
        }
      ]
    },
    {
      "cell_type": "code",
      "metadata": {
        "colab": {
          "base_uri": "https://localhost:8080/",
          "height": 311
        },
        "id": "ZLzauKksp2IU",
        "outputId": "a70eb74a-295c-4b1b-a9e3-ccec1de2b00a"
      },
      "source": [
        "cdf = ECDF(degree)\n",
        "x = np.unique(degree)\n",
        "y = cdf(x)\n",
        "\n",
        "cdf_random = ECDF(random_degree)\n",
        "x_random = np.unique(random_degree)\n",
        "y_random = cdf_random(x_random)\n",
        "\n",
        "fig_cdf_fb = plt.figure(figsize=(8,4))\n",
        "axes = fig_cdf_fb.gca()\n",
        "axes.set_xscale('log')\n",
        "axes.set_yscale('log')\n",
        "axes.loglog(x,1-y,marker='o',ms=8, linestyle='--')\n",
        "axes.loglog(x_random,1-y_random,marker='+',ms=10, linestyle='--')\n",
        "axes.set_xlabel('Degree',size=20)\n",
        "axes.set_ylabel('ECCDF', size = 20)"
      ],
      "execution_count": 166,
      "outputs": [
        {
          "output_type": "execute_result",
          "data": {
            "text/plain": [
              "Text(0, 0.5, 'ECCDF')"
            ]
          },
          "metadata": {
            "tags": []
          },
          "execution_count": 166
        },
        {
          "output_type": "display_data",
          "data": {
            "image/png": "[encoded data removed]",
            "text/plain": [
              "<Figure size 576x288 with 1 Axes>"
            ]
          },
          "metadata": {
            "tags": [],
            "needs_background": "light"
          }
        }
      ]
    },
    {
      "cell_type": "markdown",
      "metadata": {
        "id": "KAqS4YcCGaLK"
      },
      "source": [
        "\\"
      ]
    },
    {
      "cell_type": "markdown",
      "metadata": {
        "id": "x8IZWFFHpq9o"
      },
      "source": [
        "## HUBS"
      ]
    },
    {
      "cell_type": "code",
      "metadata": {
        "colab": {
          "base_uri": "https://localhost:8080/"
        },
        "id": "Sg72v5vSp6tB",
        "outputId": "0542a169-7d4a-40ef-f8d9-abc76a3d0630"
      },
      "source": [
        "percentile_99 = np.percentile(degree,99)\n",
        "print(percentile_99)"
      ],
      "execution_count": 167,
      "outputs": [
        {
          "output_type": "stream",
          "text": [
            "47.0\n"
          ],
          "name": "stdout"
        }
      ]
    },
    {
      "cell_type": "code",
      "metadata": {
        "id": "stn61tlep9e6"
      },
      "source": [
        "hub_nodi = [k for k,v in dict(G.degree()).items() if v>= percentile_99]\n"
      ],
      "execution_count": 168,
      "outputs": []
    },
    {
      "cell_type": "code",
      "metadata": {
        "colab": {
          "base_uri": "https://localhost:8080/"
        },
        "id": "OsfcPT35qCB_",
        "outputId": "dc5ab639-6b3e-42fe-9065-7a997871e098"
      },
      "source": [
        "print(len(hub_nodi))\n",
        "print(list(hub_nodi))"
      ],
      "execution_count": 169,
      "outputs": [
        {
          "output_type": "stream",
          "text": [
            "8\n",
            "[265, 611, 90, 518, 340, 56, 67, 70]\n"
          ],
          "name": "stdout"
        }
      ]
    },
    {
      "cell_type": "code",
      "metadata": {
        "colab": {
          "base_uri": "https://localhost:8080/"
        },
        "id": "0KBI-UPM-e6g",
        "outputId": "00d4a3c5-1b10-4f77-f58a-08b2ea0abe84"
      },
      "source": [
        "for h in hub_nodi:\r\n",
        "  print(nodes_dict[h])\r\n"
      ],
      "execution_count": 224,
      "outputs": [
        {
          "output_type": "stream",
          "text": [
            "Logan Junior Chef\n",
            "Robin Miller\n",
            "Scott Conant\n",
            "McDonald's\n",
            "Eric Ripert\n",
            "Alex Guarnaschelli\n",
            "David Chang\n",
            "Chef Daniel Boulud\n"
          ],
          "name": "stdout"
        }
      ]
    },
    {
      "cell_type": "code",
      "metadata": {
        "colab": {
          "base_uri": "https://localhost:8080/"
        },
        "id": "ZZDQ7UGBqIqX",
        "outputId": "60ff3939-3024-4c67-e626-ae0d17e3ed19"
      },
      "source": [
        "print(list(nx.isolates(G)))\n"
      ],
      "execution_count": 170,
      "outputs": [
        {
          "output_type": "stream",
          "text": [
            "[]\n"
          ],
          "name": "stdout"
        }
      ]
    },
    {
      "cell_type": "markdown",
      "metadata": {
        "id": "bYCwbh5GGYoH"
      },
      "source": [
        "\\"
      ]
    },
    {
      "cell_type": "markdown",
      "metadata": {
        "id": "nsHzYEcBp8Cz"
      },
      "source": [
        "## Connectivity"
      ]
    },
    {
      "cell_type": "code",
      "metadata": {
        "colab": {
          "base_uri": "https://localhost:8080/"
        },
        "id": "uctAbGqKqVSl",
        "outputId": "544c970c-25e3-46c0-baa3-a07abd9e178f"
      },
      "source": [
        "print(nx.is_connected(G))\n",
        "print(nx.number_connected_components(G))"
      ],
      "execution_count": 171,
      "outputs": [
        {
          "output_type": "stream",
          "text": [
            "True\n",
            "1\n"
          ],
          "name": "stdout"
        }
      ]
    },
    {
      "cell_type": "code",
      "metadata": {
        "id": "LDPqKFb6wmB8"
      },
      "source": [
        "import math"
      ],
      "execution_count": 185,
      "outputs": []
    },
    {
      "cell_type": "code",
      "metadata": {
        "colab": {
          "base_uri": "https://localhost:8080/",
          "height": 248
        },
        "id": "Ys-22v4sqYmZ",
        "outputId": "2853d588-11c6-40a1-91a1-139864e667a0"
      },
      "source": [
        "nx.draw_networkx(G,with_labels=True)\n"
      ],
      "execution_count": 199,
      "outputs": [
        {
          "output_type": "display_data",
          "data": {
            "image/png": "[encoded data removed]",
            "text/plain": [
              "<Figure size 432x288 with 1 Axes>"
            ]
          },
          "metadata": {
            "tags": []
          }
        }
      ]
    },
    {
      "cell_type": "code",
      "metadata": {
        "id": "C_uqHiEZPZEb",
        "colab": {
          "base_uri": "https://localhost:8080/"
        },
        "outputId": "f3e92b20-c470-457a-cabb-cf8517d2f4d0"
      },
      "source": [
        "nx.number_connected_components(G)"
      ],
      "execution_count": 173,
      "outputs": [
        {
          "output_type": "execute_result",
          "data": {
            "text/plain": [
              "1"
            ]
          },
          "metadata": {
            "tags": []
          },
          "execution_count": 173
        }
      ]
    },
    {
      "cell_type": "code",
      "metadata": {
        "id": "1wX3cRDduXZe"
      },
      "source": [
        "#dir(G)"
      ],
      "execution_count": 174,
      "outputs": []
    },
    {
      "cell_type": "code",
      "metadata": {
        "colab": {
          "base_uri": "https://localhost:8080/",
          "height": 424
        },
        "id": "CtRGTW8MwDWC",
        "outputId": "0f0014d6-e34e-421c-9efb-0a1fad373283"
      },
      "source": [
        "nodes"
      ],
      "execution_count": 177,
      "outputs": [
        {
          "output_type": "execute_result",
          "data": {
            "text/html": [
              "<div>\n",
              "<style scoped>\n",
              "    .dataframe tbody tr th:only-of-type {\n",
              "        vertical-align: middle;\n",
              "    }\n",
              "\n",
              "    .dataframe tbody tr th {\n",
              "        vertical-align: top;\n",
              "    }\n",
              "\n",
              "    .dataframe thead th {\n",
              "        text-align: right;\n",
              "    }\n",
              "</style>\n",
              "<table border=\"1\" class=\"dataframe\">\n",
              "  <thead>\n",
              "    <tr style=\"text-align: right;\">\n",
              "      <th></th>\n",
              "      <th>name</th>\n",
              "      <th>id</th>\n",
              "    </tr>\n",
              "  </thead>\n",
              "  <tbody>\n",
              "    <tr>\n",
              "      <th>0</th>\n",
              "      <td>Josh Marks</td>\n",
              "      <td>386</td>\n",
              "    </tr>\n",
              "    <tr>\n",
              "      <th>1</th>\n",
              "      <td>Blue Ribbon Restaurants</td>\n",
              "      <td>473</td>\n",
              "    </tr>\n",
              "    <tr>\n",
              "      <th>2</th>\n",
              "      <td>Pat Neely</td>\n",
              "      <td>1</td>\n",
              "    </tr>\n",
              "    <tr>\n",
              "      <th>3</th>\n",
              "      <td>La Griglia</td>\n",
              "      <td>542</td>\n",
              "    </tr>\n",
              "    <tr>\n",
              "      <th>4</th>\n",
              "      <td>Jose Garces</td>\n",
              "      <td>189</td>\n",
              "    </tr>\n",
              "    <tr>\n",
              "      <th>...</th>\n",
              "      <td>...</td>\n",
              "      <td>...</td>\n",
              "    </tr>\n",
              "    <tr>\n",
              "      <th>615</th>\n",
              "      <td>Jumia Food</td>\n",
              "      <td>163</td>\n",
              "    </tr>\n",
              "    <tr>\n",
              "      <th>616</th>\n",
              "      <td>Luke Thomas</td>\n",
              "      <td>381</td>\n",
              "    </tr>\n",
              "    <tr>\n",
              "      <th>617</th>\n",
              "      <td>Clodagh McKenna</td>\n",
              "      <td>140</td>\n",
              "    </tr>\n",
              "    <tr>\n",
              "      <th>618</th>\n",
              "      <td>Chef Michelle Bernstein</td>\n",
              "      <td>157</td>\n",
              "    </tr>\n",
              "    <tr>\n",
              "      <th>619</th>\n",
              "      <td>SORTEDfood</td>\n",
              "      <td>114</td>\n",
              "    </tr>\n",
              "  </tbody>\n",
              "</table>\n",
              "<p>620 rows × 2 columns</p>\n",
              "</div>"
            ],
            "text/plain": [
              "                        name   id\n",
              "0                 Josh Marks  386\n",
              "1    Blue Ribbon Restaurants  473\n",
              "2                  Pat Neely    1\n",
              "3                 La Griglia  542\n",
              "4                Jose Garces  189\n",
              "..                       ...  ...\n",
              "615               Jumia Food  163\n",
              "616              Luke Thomas  381\n",
              "617          Clodagh McKenna  140\n",
              "618  Chef Michelle Bernstein  157\n",
              "619               SORTEDfood  114\n",
              "\n",
              "[620 rows x 2 columns]"
            ]
          },
          "metadata": {
            "tags": []
          },
          "execution_count": 177
        }
      ]
    },
    {
      "cell_type": "code",
      "metadata": {
        "id": "b2_O0YjSZMjR",
        "colab": {
          "base_uri": "https://localhost:8080/"
        },
        "outputId": "135ec1b6-d879-400d-f7c5-e0017a5e1609"
      },
      "source": [
        "len(nx.triangles(G))"
      ],
      "execution_count": 178,
      "outputs": [
        {
          "output_type": "execute_result",
          "data": {
            "text/plain": [
              "620"
            ]
          },
          "metadata": {
            "tags": []
          },
          "execution_count": 178
        }
      ]
    },
    {
      "cell_type": "markdown",
      "metadata": {
        "id": "L1fGte4iEGgu"
      },
      "source": [
        "\\"
      ]
    },
    {
      "cell_type": "markdown",
      "metadata": {
        "id": "SdgfcGZXEI_y"
      },
      "source": [
        "\\"
      ]
    },
    {
      "cell_type": "markdown",
      "metadata": {
        "id": "eMHDFzK2D3Ku"
      },
      "source": [
        "## Clusters"
      ]
    },
    {
      "cell_type": "code",
      "metadata": {
        "id": "UyQ4ciEkaPvh",
        "colab": {
          "base_uri": "https://localhost:8080/"
        },
        "outputId": "2c2bea43-12e5-4cac-9eaf-588401b95908"
      },
      "source": [
        "clusters = nx.average_clustering(G)\n",
        "clusters"
      ],
      "execution_count": 245,
      "outputs": [
        {
          "output_type": "execute_result",
          "data": {
            "text/plain": [
              "0.3308970263553271"
            ]
          },
          "metadata": {
            "tags": []
          },
          "execution_count": 245
        }
      ]
    },
    {
      "cell_type": "code",
      "metadata": {
        "id": "yLPXd0lx9tTC",
        "colab": {
          "base_uri": "https://localhost:8080/"
        },
        "outputId": "334dc79a-b742-48dd-a7a4-d51086f10bb4"
      },
      "source": [
        "type(clusters)"
      ],
      "execution_count": 181,
      "outputs": [
        {
          "output_type": "execute_result",
          "data": {
            "text/plain": [
              "dict"
            ]
          },
          "metadata": {
            "tags": []
          },
          "execution_count": 181
        }
      ]
    },
    {
      "cell_type": "code",
      "metadata": {
        "id": "C5-1q7SaDtE0"
      },
      "source": [
        ""
      ],
      "execution_count": null,
      "outputs": []
    },
    {
      "cell_type": "code",
      "metadata": {
        "id": "hiPVa4vwZXaP",
        "colab": {
          "base_uri": "https://localhost:8080/"
        },
        "outputId": "27b129c3-6ae0-43e1-f1a6-6e4de709355d"
      },
      "source": [
        "nx.transitivity(G)\n"
      ],
      "execution_count": 244,
      "outputs": [
        {
          "output_type": "execute_result",
          "data": {
            "text/plain": [
              "0.22264084150905228"
            ]
          },
          "metadata": {
            "tags": []
          },
          "execution_count": 244
        }
      ]
    },
    {
      "cell_type": "code",
      "metadata": {
        "colab": {
          "base_uri": "https://localhost:8080/"
        },
        "id": "FPI3sqAdEbFh",
        "outputId": "42ecace6-ccb0-4ab6-9b0a-6b800dafed89"
      },
      "source": [
        "local_cluster = nx.clustering(G)\r\n",
        "sorted(local_cluster.items(), key=lambda item: item[1], reverse= True)\r\n"
      ],
      "execution_count": 250,
      "outputs": [
        {
          "output_type": "execute_result",
          "data": {
            "text/plain": [
              "[(1, 1.0),\n",
              " (2, 1.0),\n",
              " (486, 1.0),\n",
              " (73, 1.0),\n",
              " (259, 1.0),\n",
              " (466, 1.0),\n",
              " (75, 1.0),\n",
              " (270, 1.0),\n",
              " (420, 1.0),\n",
              " (306, 1.0),\n",
              " (28, 1.0),\n",
              " (504, 1.0),\n",
              " (430, 1.0),\n",
              " (165, 1.0),\n",
              " (532, 1.0),\n",
              " (388, 1.0),\n",
              " (615, 1.0),\n",
              " (594, 1.0),\n",
              " (417, 1.0),\n",
              " (86, 1.0),\n",
              " (110, 1.0),\n",
              " (52, 1.0),\n",
              " (59, 1.0),\n",
              " (139, 1.0),\n",
              " (602, 1.0),\n",
              " (525, 1.0),\n",
              " (115, 1.0),\n",
              " (241, 1.0),\n",
              " (81, 1.0),\n",
              " (91, 1.0),\n",
              " (94, 1.0),\n",
              " (256, 1.0),\n",
              " (348, 1.0),\n",
              " (120, 1.0),\n",
              " (455, 1.0),\n",
              " (574, 1.0),\n",
              " (438, 1.0),\n",
              " (279, 1.0),\n",
              " (472, 1.0),\n",
              " (533, 1.0),\n",
              " (610, 1.0),\n",
              " (178, 1.0),\n",
              " (246, 1.0),\n",
              " (191, 1.0),\n",
              " (316, 1.0),\n",
              " (203, 1.0),\n",
              " (435, 1.0),\n",
              " (204, 1.0),\n",
              " (405, 1.0),\n",
              " (589, 1.0),\n",
              " (549, 1.0),\n",
              " (322, 1.0),\n",
              " (263, 1.0),\n",
              " (346, 1.0),\n",
              " (588, 1.0),\n",
              " (587, 1.0),\n",
              " (571, 1.0),\n",
              " (297, 1.0),\n",
              " (487, 1.0),\n",
              " (457, 1.0),\n",
              " (237, 0.9454545454545454),\n",
              " (11, 0.9333333333333333),\n",
              " (212, 0.9333333333333333),\n",
              " (249, 0.9),\n",
              " (189, 0.9),\n",
              " (48, 0.9),\n",
              " (16, 0.8939393939393939),\n",
              " (119, 0.8939393939393939),\n",
              " (400, 0.8939393939393939),\n",
              " (274, 0.8939393939393939),\n",
              " (210, 0.8928571428571429),\n",
              " (252, 0.8928571428571429),\n",
              " (452, 0.8928571428571429),\n",
              " (55, 0.8571428571428571),\n",
              " (315, 0.8333333333333334),\n",
              " (127, 0.8333333333333334),\n",
              " (395, 0.8333333333333334),\n",
              " (552, 0.8333333333333334),\n",
              " (413, 0.8333333333333334),\n",
              " (358, 0.8333333333333334),\n",
              " (382, 0.8333333333333334),\n",
              " (353, 0.8333333333333334),\n",
              " (158, 0.8055555555555556),\n",
              " (380, 0.8),\n",
              " (427, 0.8),\n",
              " (144, 0.8),\n",
              " (598, 0.8),\n",
              " (516, 0.7692307692307693),\n",
              " (334, 0.7692307692307693),\n",
              " (117, 0.7564102564102564),\n",
              " (437, 0.75),\n",
              " (351, 0.7454545454545455),\n",
              " (543, 0.7333333333333333),\n",
              " (150, 0.7333333333333333),\n",
              " (174, 0.7142857142857143),\n",
              " (325, 0.7),\n",
              " (149, 0.7),\n",
              " (78, 0.6944444444444444),\n",
              " (152, 0.6785714285714286),\n",
              " (484, 0.6666666666666666),\n",
              " (305, 0.6666666666666666),\n",
              " (339, 0.6666666666666666),\n",
              " (583, 0.6666666666666666),\n",
              " (206, 0.6666666666666666),\n",
              " (454, 0.6666666666666666),\n",
              " (22, 0.6666666666666666),\n",
              " (24, 0.6666666666666666),\n",
              " (285, 0.6666666666666666),\n",
              " (515, 0.6666666666666666),\n",
              " (307, 0.6666666666666666),\n",
              " (313, 0.6666666666666666),\n",
              " (60, 0.6666666666666666),\n",
              " (617, 0.6666666666666666),\n",
              " (410, 0.6666666666666666),\n",
              " (69, 0.6666666666666666),\n",
              " (170, 0.6666666666666666),\n",
              " (84, 0.6666666666666666),\n",
              " (103, 0.6666666666666666),\n",
              " (567, 0.6666666666666666),\n",
              " (124, 0.6666666666666666),\n",
              " (480, 0.6666666666666666),\n",
              " (222, 0.6666666666666666),\n",
              " (362, 0.6666666666666666),\n",
              " (162, 0.6666666666666666),\n",
              " (497, 0.6666666666666666),\n",
              " (356, 0.6666666666666666),\n",
              " (199, 0.6666666666666666),\n",
              " (540, 0.6666666666666666),\n",
              " (262, 0.6666666666666666),\n",
              " (470, 0.6666666666666666),\n",
              " (609, 0.6666666666666666),\n",
              " (68, 0.6444444444444445),\n",
              " (419, 0.6363636363636364),\n",
              " (527, 0.6190476190476191),\n",
              " (83, 0.6190476190476191),\n",
              " (469, 0.6071428571428571),\n",
              " (595, 0.6),\n",
              " (572, 0.6),\n",
              " (517, 0.6),\n",
              " (290, 0.6),\n",
              " (108, 0.6),\n",
              " (232, 0.6),\n",
              " (184, 0.6),\n",
              " (535, 0.6),\n",
              " (123, 0.6),\n",
              " (137, 0.6),\n",
              " (365, 0.6),\n",
              " (15, 0.5777777777777777),\n",
              " (546, 0.5714285714285714),\n",
              " (223, 0.5714285714285714),\n",
              " (613, 0.5583333333333333),\n",
              " (547, 0.5555555555555556),\n",
              " (275, 0.5555555555555556),\n",
              " (570, 0.5494505494505495),\n",
              " (596, 0.5357142857142857),\n",
              " (335, 0.5333333333333333),\n",
              " (439, 0.5333333333333333),\n",
              " (385, 0.5333333333333333),\n",
              " (145, 0.5333333333333333),\n",
              " (429, 0.5238095238095238),\n",
              " (502, 0.5238095238095238),\n",
              " (338, 0.5238095238095238),\n",
              " (101, 0.5238095238095238),\n",
              " (347, 0.5238095238095238),\n",
              " (107, 0.5151515151515151),\n",
              " (465, 0.5083333333333333),\n",
              " (6, 0.5),\n",
              " (591, 0.5),\n",
              " (126, 0.5),\n",
              " (327, 0.5),\n",
              " (467, 0.5),\n",
              " (291, 0.5),\n",
              " (416, 0.5),\n",
              " (155, 0.5),\n",
              " (85, 0.5),\n",
              " (175, 0.5),\n",
              " (111, 0.5),\n",
              " (559, 0.5),\n",
              " (251, 0.5),\n",
              " (354, 0.5),\n",
              " (612, 0.5),\n",
              " (254, 0.47794117647058826),\n",
              " (154, 0.4696969696969697),\n",
              " (163, 0.4666666666666667),\n",
              " (485, 0.4666666666666667),\n",
              " (45, 0.4666666666666667),\n",
              " (460, 0.4666666666666667),\n",
              " (65, 0.4642857142857143),\n",
              " (355, 0.4642857142857143),\n",
              " (501, 0.4444444444444444),\n",
              " (522, 0.43636363636363634),\n",
              " (599, 0.42857142857142855),\n",
              " (508, 0.42857142857142855),\n",
              " (142, 0.42857142857142855),\n",
              " (214, 0.42857142857142855),\n",
              " (479, 0.42857142857142855),\n",
              " (580, 0.42857142857142855),\n",
              " (319, 0.42857142857142855),\n",
              " (225, 0.42857142857142855),\n",
              " (441, 0.4222222222222222),\n",
              " (398, 0.4166666666666667),\n",
              " (324, 0.4166666666666667),\n",
              " (342, 0.4166666666666667),\n",
              " (601, 0.41125541125541126),\n",
              " (329, 0.4090909090909091),\n",
              " (179, 0.4090909090909091),\n",
              " (323, 0.4090909090909091),\n",
              " (478, 0.4),\n",
              " (17, 0.4),\n",
              " (104, 0.4),\n",
              " (147, 0.4),\n",
              " (113, 0.4),\n",
              " (445, 0.4),\n",
              " (531, 0.4),\n",
              " (510, 0.4),\n",
              " (172, 0.4),\n",
              " (166, 0.4),\n",
              " (328, 0.4),\n",
              " (448, 0.39285714285714285),\n",
              " (372, 0.39166666666666666),\n",
              " (375, 0.3888888888888889),\n",
              " (311, 0.38461538461538464),\n",
              " (46, 0.38095238095238093),\n",
              " (473, 0.38095238095238093),\n",
              " (134, 0.38095238095238093),\n",
              " (220, 0.38095238095238093),\n",
              " (456, 0.38095238095238093),\n",
              " (63, 0.37777777777777777),\n",
              " (276, 0.3611111111111111),\n",
              " (151, 0.3523809523809524),\n",
              " (597, 0.35177865612648224),\n",
              " (9, 0.3439153439153439),\n",
              " (58, 0.34285714285714286),\n",
              " (87, 0.34022988505747126),\n",
              " (317, 0.3387096774193548),\n",
              " (377, 0.3333333333333333),\n",
              " (444, 0.3333333333333333),\n",
              " (238, 0.3333333333333333),\n",
              " (21, 0.3333333333333333),\n",
              " (230, 0.3333333333333333),\n",
              " (488, 0.3333333333333333),\n",
              " (159, 0.3333333333333333),\n",
              " (118, 0.3333333333333333),\n",
              " (558, 0.3333333333333333),\n",
              " (403, 0.3333333333333333),\n",
              " (34, 0.3333333333333333),\n",
              " (383, 0.3333333333333333),\n",
              " (243, 0.3333333333333333),\n",
              " (333, 0.3333333333333333),\n",
              " (109, 0.3333333333333333),\n",
              " (331, 0.3333333333333333),\n",
              " (302, 0.3333333333333333),\n",
              " (392, 0.3333333333333333),\n",
              " (72, 0.3333333333333333),\n",
              " (495, 0.3333333333333333),\n",
              " (414, 0.3333333333333333),\n",
              " (474, 0.3333333333333333),\n",
              " (106, 0.3333333333333333),\n",
              " (320, 0.3333333333333333),\n",
              " (433, 0.3333333333333333),\n",
              " (386, 0.3333333333333333),\n",
              " (461, 0.3333333333333333),\n",
              " (318, 0.3333333333333333),\n",
              " (177, 0.3333333333333333),\n",
              " (539, 0.3333333333333333),\n",
              " (463, 0.3333333333333333),\n",
              " (566, 0.3333333333333333),\n",
              " (215, 0.3333333333333333),\n",
              " (361, 0.3333333333333333),\n",
              " (260, 0.3333333333333333),\n",
              " (421, 0.3333333333333333),\n",
              " (298, 0.3333333333333333),\n",
              " (579, 0.3333333333333333),\n",
              " (79, 0.32142857142857145),\n",
              " (244, 0.32142857142857145),\n",
              " (131, 0.32),\n",
              " (264, 0.3181818181818182),\n",
              " (43, 0.3181818181818182),\n",
              " (494, 0.3181818181818182),\n",
              " (446, 0.3157894736842105),\n",
              " (350, 0.31521739130434784),\n",
              " (130, 0.3111111111111111),\n",
              " (363, 0.3055555555555556),\n",
              " (146, 0.3055555555555556),\n",
              " (292, 0.3055555555555556),\n",
              " (198, 0.3054187192118227),\n",
              " (584, 0.3047619047619048),\n",
              " (557, 0.3),\n",
              " (408, 0.3),\n",
              " (121, 0.3),\n",
              " (148, 0.3),\n",
              " (440, 0.3),\n",
              " (261, 0.3),\n",
              " (93, 0.3),\n",
              " (619, 0.3),\n",
              " (35, 0.2987012987012987),\n",
              " (195, 0.2967032967032967),\n",
              " (62, 0.2909090909090909),\n",
              " (116, 0.29004329004329005),\n",
              " (289, 0.28615384615384615),\n",
              " (608, 0.2857142857142857),\n",
              " (450, 0.2857142857142857),\n",
              " (258, 0.2857142857142857),\n",
              " (269, 0.2857142857142857),\n",
              " (32, 0.2857142857142857),\n",
              " (300, 0.2857142857142857),\n",
              " (102, 0.2857142857142857),\n",
              " (451, 0.2857142857142857),\n",
              " (242, 0.2777777777777778),\n",
              " (193, 0.2777777777777778),\n",
              " (248, 0.27666666666666667),\n",
              " (593, 0.27472527472527475),\n",
              " (229, 0.2731182795698925),\n",
              " (616, 0.2727272727272727),\n",
              " (550, 0.2714285714285714),\n",
              " (0, 0.26666666666666666),\n",
              " (187, 0.26666666666666666),\n",
              " (257, 0.26666666666666666),\n",
              " (507, 0.26666666666666666),\n",
              " (235, 0.26666666666666666),\n",
              " (538, 0.26666666666666666),\n",
              " (505, 0.2605042016806723),\n",
              " (545, 0.2597402597402597),\n",
              " (374, 0.2597402597402597),\n",
              " (563, 0.2564102564102564),\n",
              " (603, 0.25071225071225073),\n",
              " (56, 0.2506938020351526),\n",
              " (90, 0.25019607843137254),\n",
              " (424, 0.25),\n",
              " (245, 0.24761904761904763),\n",
              " (217, 0.24731182795698925),\n",
              " (576, 0.2426470588235294),\n",
              " (253, 0.24166666666666667),\n",
              " (7, 0.23809523809523808),\n",
              " (364, 0.23809523809523808),\n",
              " (434, 0.23376623376623376),\n",
              " (143, 0.23076923076923078),\n",
              " (181, 0.22857142857142856),\n",
              " (3, 0.2222222222222222),\n",
              " (185, 0.2222222222222222),\n",
              " (240, 0.2222222222222222),\n",
              " (577, 0.2222222222222222),\n",
              " (128, 0.21666666666666667),\n",
              " (169, 0.21428571428571427),\n",
              " (368, 0.21428571428571427),\n",
              " (343, 0.2134387351778656),\n",
              " (288, 0.21021021021021022),\n",
              " (182, 0.2021505376344086),\n",
              " (345, 0.2),\n",
              " (157, 0.2),\n",
              " (54, 0.2),\n",
              " (357, 0.2),\n",
              " (321, 0.2),\n",
              " (282, 0.2),\n",
              " (39, 0.2),\n",
              " (578, 0.2),\n",
              " (88, 0.2),\n",
              " (458, 0.2),\n",
              " (554, 0.2),\n",
              " (340, 0.19932659932659932),\n",
              " (183, 0.19047619047619047),\n",
              " (404, 0.18681318681318682),\n",
              " (89, 0.1849390919158361),\n",
              " (555, 0.18382352941176472),\n",
              " (67, 0.18181818181818182),\n",
              " (491, 0.18095238095238095),\n",
              " (70, 0.18038852913968548),\n",
              " (114, 0.17857142857142858),\n",
              " (176, 0.17857142857142858),\n",
              " (208, 0.17777777777777778),\n",
              " (526, 0.17647058823529413),\n",
              " (164, 0.17316017316017315),\n",
              " (224, 0.17142857142857143),\n",
              " (4, 0.16666666666666666),\n",
              " (293, 0.16666666666666666),\n",
              " (369, 0.16666666666666666),\n",
              " (585, 0.16666666666666666),\n",
              " (476, 0.16666666666666666),\n",
              " (426, 0.16666666666666666),\n",
              " (23, 0.16483516483516483),\n",
              " (352, 0.16374269005847952),\n",
              " (449, 0.16363636363636364),\n",
              " (536, 0.15555555555555556),\n",
              " (41, 0.15384615384615385),\n",
              " (611, 0.15356151711378355),\n",
              " (524, 0.15270935960591134),\n",
              " (397, 0.15151515151515152),\n",
              " (40, 0.14285714285714285),\n",
              " (581, 0.14285714285714285),\n",
              " (50, 0.14285714285714285),\n",
              " (436, 0.1388888888888889),\n",
              " (360, 0.13333333333333333),\n",
              " (82, 0.13333333333333333),\n",
              " (136, 0.13186813186813187),\n",
              " (299, 0.12727272727272726),\n",
              " (31, 0.12666666666666668),\n",
              " (432, 0.12380952380952381),\n",
              " (498, 0.11931818181818182),\n",
              " (389, 0.11264367816091954),\n",
              " (8, 0.1),\n",
              " (141, 0.1),\n",
              " (227, 0.0761904761904762),\n",
              " (135, 0.07575757575757576),\n",
              " (202, 0.07142857142857142),\n",
              " (459, 0.07142857142857142),\n",
              " (518, 0.07130333138515488),\n",
              " (265, 0.05331945408281286),\n",
              " (132, 0),\n",
              " (228, 0),\n",
              " (394, 0),\n",
              " (287, 0),\n",
              " (336, 0),\n",
              " (5, 0),\n",
              " (503, 0),\n",
              " (278, 0),\n",
              " (98, 0),\n",
              " (10, 0),\n",
              " (393, 0),\n",
              " (12, 0),\n",
              " (548, 0),\n",
              " (618, 0),\n",
              " (310, 0),\n",
              " (13, 0),\n",
              " (14, 0),\n",
              " (326, 0),\n",
              " (18, 0),\n",
              " (418, 0),\n",
              " (20, 0),\n",
              " (481, 0),\n",
              " (160, 0),\n",
              " (277, 0),\n",
              " (25, 0),\n",
              " (26, 0),\n",
              " (27, 0),\n",
              " (29, 0),\n",
              " (49, 0),\n",
              " (30, 0),\n",
              " (266, 0),\n",
              " (519, 0),\n",
              " (462, 0),\n",
              " (373, 0),\n",
              " (36, 0),\n",
              " (490, 0),\n",
              " (37, 0),\n",
              " (38, 0),\n",
              " (411, 0),\n",
              " (344, 0),\n",
              " (42, 0),\n",
              " (44, 0),\n",
              " (180, 0),\n",
              " (496, 0),\n",
              " (209, 0),\n",
              " (520, 0),\n",
              " (47, 0),\n",
              " (475, 0),\n",
              " (500, 0),\n",
              " (512, 0),\n",
              " (71, 0),\n",
              " (196, 0),\n",
              " (188, 0),\n",
              " (544, 0),\n",
              " (171, 0),\n",
              " (483, 0),\n",
              " (562, 0),\n",
              " (330, 0),\n",
              " (53, 0),\n",
              " (122, 0),\n",
              " (359, 0),\n",
              " (57, 0),\n",
              " (537, 0),\n",
              " (61, 0),\n",
              " (64, 0),\n",
              " (66, 0),\n",
              " (205, 0),\n",
              " (77, 0),\n",
              " (379, 0),\n",
              " (80, 0),\n",
              " (138, 0),\n",
              " (409, 0),\n",
              " (221, 0),\n",
              " (569, 0),\n",
              " (92, 0),\n",
              " (186, 0),\n",
              " (614, 0),\n",
              " (95, 0),\n",
              " (492, 0),\n",
              " (523, 0),\n",
              " (96, 0),\n",
              " (211, 0),\n",
              " (97, 0),\n",
              " (74, 0),\n",
              " (295, 0),\n",
              " (471, 0),\n",
              " (216, 0),\n",
              " (99, 0),\n",
              " (605, 0),\n",
              " (431, 0),\n",
              " (100, 0),\n",
              " (105, 0),\n",
              " (521, 0),\n",
              " (112, 0),\n",
              " (200, 0),\n",
              " (201, 0),\n",
              " (366, 0),\n",
              " (553, 0),\n",
              " (125, 0),\n",
              " (565, 0),\n",
              " (308, 0),\n",
              " (423, 0),\n",
              " (529, 0),\n",
              " (412, 0),\n",
              " (133, 0),\n",
              " (407, 0),\n",
              " (281, 0),\n",
              " (422, 0),\n",
              " (568, 0),\n",
              " (239, 0),\n",
              " (140, 0),\n",
              " (51, 0),\n",
              " (280, 0),\n",
              " (153, 0),\n",
              " (129, 0),\n",
              " (156, 0),\n",
              " (604, 0),\n",
              " (161, 0),\n",
              " (561, 0),\n",
              " (337, 0),\n",
              " (167, 0),\n",
              " (168, 0),\n",
              " (406, 0),\n",
              " (173, 0),\n",
              " (301, 0),\n",
              " (514, 0),\n",
              " (190, 0),\n",
              " (250, 0),\n",
              " (192, 0),\n",
              " (371, 0),\n",
              " (273, 0),\n",
              " (194, 0),\n",
              " (226, 0),\n",
              " (207, 0),\n",
              " (33, 0),\n",
              " (213, 0),\n",
              " (534, 0),\n",
              " (402, 0),\n",
              " (218, 0),\n",
              " (542, 0),\n",
              " (376, 0),\n",
              " (443, 0),\n",
              " (493, 0),\n",
              " (370, 0),\n",
              " (442, 0),\n",
              " (453, 0),\n",
              " (509, 0),\n",
              " (396, 0),\n",
              " (231, 0),\n",
              " (425, 0),\n",
              " (233, 0),\n",
              " (234, 0),\n",
              " (236, 0),\n",
              " (247, 0),\n",
              " (560, 0),\n",
              " (255, 0),\n",
              " (284, 0),\n",
              " (271, 0),\n",
              " (341, 0),\n",
              " (312, 0),\n",
              " (349, 0),\n",
              " (384, 0),\n",
              " (309, 0),\n",
              " (464, 0),\n",
              " (267, 0),\n",
              " (268, 0),\n",
              " (482, 0),\n",
              " (272, 0),\n",
              " (296, 0),\n",
              " (582, 0),\n",
              " (283, 0),\n",
              " (294, 0),\n",
              " (286, 0),\n",
              " (499, 0),\n",
              " (303, 0),\n",
              " (528, 0),\n",
              " (575, 0),\n",
              " (564, 0),\n",
              " (304, 0),\n",
              " (314, 0),\n",
              " (447, 0),\n",
              " (332, 0),\n",
              " (391, 0),\n",
              " (401, 0),\n",
              " (607, 0),\n",
              " (367, 0),\n",
              " (381, 0),\n",
              " (387, 0),\n",
              " (530, 0),\n",
              " (390, 0),\n",
              " (600, 0),\n",
              " (399, 0),\n",
              " (197, 0),\n",
              " (19, 0),\n",
              " (415, 0),\n",
              " (506, 0),\n",
              " (428, 0),\n",
              " (489, 0),\n",
              " (378, 0),\n",
              " (590, 0),\n",
              " (76, 0),\n",
              " (606, 0),\n",
              " (468, 0),\n",
              " (477, 0),\n",
              " (511, 0),\n",
              " (513, 0),\n",
              " (592, 0),\n",
              " (573, 0),\n",
              " (586, 0),\n",
              " (541, 0),\n",
              " (551, 0),\n",
              " (219, 0),\n",
              " (556, 0)]"
            ]
          },
          "metadata": {
            "tags": []
          },
          "execution_count": 250
        }
      ]
    },
    {
      "cell_type": "code",
      "metadata": {
        "colab": {
          "base_uri": "https://localhost:8080/"
        },
        "id": "CcbtpU04EjyJ",
        "outputId": "9ba74fa9-3a63-456a-af45-283641829b15"
      },
      "source": [
        "triangle = nx.triangles(G)\r\n",
        "triangle"
      ],
      "execution_count": 251,
      "outputs": [
        {
          "output_type": "execute_result",
          "data": {
            "text/plain": [
              "{0: 4,\n",
              " 1: 1,\n",
              " 2: 3,\n",
              " 3: 10,\n",
              " 4: 1,\n",
              " 5: 0,\n",
              " 6: 5,\n",
              " 7: 5,\n",
              " 8: 1,\n",
              " 9: 130,\n",
              " 10: 0,\n",
              " 11: 14,\n",
              " 12: 0,\n",
              " 13: 0,\n",
              " 14: 0,\n",
              " 15: 26,\n",
              " 16: 59,\n",
              " 17: 4,\n",
              " 18: 0,\n",
              " 19: 0,\n",
              " 20: 0,\n",
              " 21: 2,\n",
              " 22: 4,\n",
              " 23: 15,\n",
              " 24: 10,\n",
              " 25: 0,\n",
              " 26: 0,\n",
              " 27: 0,\n",
              " 28: 3,\n",
              " 29: 0,\n",
              " 30: 0,\n",
              " 31: 38,\n",
              " 32: 8,\n",
              " 33: 0,\n",
              " 34: 5,\n",
              " 35: 69,\n",
              " 36: 0,\n",
              " 37: 0,\n",
              " 38: 0,\n",
              " 39: 3,\n",
              " 40: 3,\n",
              " 41: 12,\n",
              " 42: 0,\n",
              " 43: 21,\n",
              " 44: 0,\n",
              " 45: 7,\n",
              " 46: 8,\n",
              " 47: 0,\n",
              " 48: 9,\n",
              " 49: 0,\n",
              " 50: 13,\n",
              " 51: 0,\n",
              " 52: 1,\n",
              " 53: 0,\n",
              " 54: 2,\n",
              " 55: 24,\n",
              " 56: 271,\n",
              " 57: 0,\n",
              " 58: 36,\n",
              " 59: 1,\n",
              " 60: 10,\n",
              " 61: 0,\n",
              " 62: 16,\n",
              " 63: 17,\n",
              " 64: 0,\n",
              " 65: 13,\n",
              " 66: 0,\n",
              " 67: 280,\n",
              " 68: 29,\n",
              " 69: 2,\n",
              " 70: 195,\n",
              " 71: 0,\n",
              " 72: 1,\n",
              " 73: 1,\n",
              " 74: 0,\n",
              " 75: 36,\n",
              " 76: 0,\n",
              " 77: 0,\n",
              " 78: 25,\n",
              " 79: 9,\n",
              " 80: 0,\n",
              " 81: 1,\n",
              " 82: 2,\n",
              " 83: 13,\n",
              " 84: 2,\n",
              " 85: 5,\n",
              " 86: 1,\n",
              " 87: 148,\n",
              " 88: 3,\n",
              " 89: 167,\n",
              " 90: 319,\n",
              " 91: 1,\n",
              " 92: 0,\n",
              " 93: 3,\n",
              " 94: 1,\n",
              " 95: 0,\n",
              " 96: 0,\n",
              " 97: 0,\n",
              " 98: 0,\n",
              " 99: 0,\n",
              " 100: 0,\n",
              " 101: 11,\n",
              " 102: 8,\n",
              " 103: 2,\n",
              " 104: 6,\n",
              " 105: 0,\n",
              " 106: 1,\n",
              " 107: 34,\n",
              " 108: 6,\n",
              " 109: 2,\n",
              " 110: 1,\n",
              " 111: 3,\n",
              " 112: 0,\n",
              " 113: 18,\n",
              " 114: 5,\n",
              " 115: 1,\n",
              " 116: 67,\n",
              " 117: 59,\n",
              " 118: 2,\n",
              " 119: 59,\n",
              " 120: 1,\n",
              " 121: 3,\n",
              " 122: 0,\n",
              " 123: 9,\n",
              " 124: 4,\n",
              " 125: 0,\n",
              " 126: 3,\n",
              " 127: 5,\n",
              " 128: 26,\n",
              " 129: 0,\n",
              " 130: 14,\n",
              " 131: 104,\n",
              " 132: 0,\n",
              " 133: 0,\n",
              " 134: 8,\n",
              " 135: 5,\n",
              " 136: 12,\n",
              " 137: 6,\n",
              " 138: 0,\n",
              " 139: 1,\n",
              " 140: 0,\n",
              " 141: 1,\n",
              " 142: 9,\n",
              " 143: 18,\n",
              " 144: 8,\n",
              " 145: 8,\n",
              " 146: 11,\n",
              " 147: 22,\n",
              " 148: 3,\n",
              " 149: 7,\n",
              " 150: 11,\n",
              " 151: 74,\n",
              " 152: 19,\n",
              " 153: 0,\n",
              " 154: 31,\n",
              " 155: 14,\n",
              " 156: 0,\n",
              " 157: 9,\n",
              " 158: 29,\n",
              " 159: 7,\n",
              " 160: 0,\n",
              " 161: 0,\n",
              " 162: 2,\n",
              " 163: 7,\n",
              " 164: 40,\n",
              " 165: 10,\n",
              " 166: 4,\n",
              " 167: 0,\n",
              " 168: 0,\n",
              " 169: 6,\n",
              " 170: 2,\n",
              " 171: 0,\n",
              " 172: 4,\n",
              " 173: 0,\n",
              " 174: 15,\n",
              " 175: 5,\n",
              " 176: 5,\n",
              " 177: 1,\n",
              " 178: 1,\n",
              " 179: 27,\n",
              " 180: 0,\n",
              " 181: 24,\n",
              " 182: 94,\n",
              " 183: 4,\n",
              " 184: 9,\n",
              " 185: 8,\n",
              " 186: 0,\n",
              " 187: 4,\n",
              " 188: 0,\n",
              " 189: 9,\n",
              " 190: 0,\n",
              " 191: 3,\n",
              " 192: 0,\n",
              " 193: 10,\n",
              " 194: 0,\n",
              " 195: 27,\n",
              " 196: 0,\n",
              " 197: 0,\n",
              " 198: 124,\n",
              " 199: 2,\n",
              " 200: 0,\n",
              " 201: 0,\n",
              " 202: 2,\n",
              " 203: 1,\n",
              " 204: 1,\n",
              " 205: 0,\n",
              " 206: 2,\n",
              " 207: 0,\n",
              " 208: 8,\n",
              " 209: 0,\n",
              " 210: 25,\n",
              " 211: 0,\n",
              " 212: 14,\n",
              " 213: 0,\n",
              " 214: 9,\n",
              " 215: 2,\n",
              " 216: 0,\n",
              " 217: 115,\n",
              " 218: 0,\n",
              " 219: 0,\n",
              " 220: 8,\n",
              " 221: 0,\n",
              " 222: 4,\n",
              " 223: 12,\n",
              " 224: 18,\n",
              " 225: 9,\n",
              " 226: 0,\n",
              " 227: 8,\n",
              " 228: 0,\n",
              " 229: 127,\n",
              " 230: 26,\n",
              " 231: 0,\n",
              " 232: 6,\n",
              " 233: 0,\n",
              " 234: 0,\n",
              " 235: 28,\n",
              " 236: 0,\n",
              " 237: 52,\n",
              " 238: 26,\n",
              " 239: 0,\n",
              " 240: 10,\n",
              " 241: 3,\n",
              " 242: 10,\n",
              " 243: 2,\n",
              " 244: 9,\n",
              " 245: 26,\n",
              " 246: 1,\n",
              " 247: 0,\n",
              " 248: 83,\n",
              " 249: 9,\n",
              " 250: 0,\n",
              " 251: 3,\n",
              " 252: 25,\n",
              " 253: 29,\n",
              " 254: 65,\n",
              " 255: 0,\n",
              " 256: 3,\n",
              " 257: 4,\n",
              " 258: 6,\n",
              " 259: 10,\n",
              " 260: 2,\n",
              " 261: 3,\n",
              " 262: 2,\n",
              " 263: 1,\n",
              " 264: 21,\n",
              " 265: 461,\n",
              " 266: 0,\n",
              " 267: 0,\n",
              " 268: 0,\n",
              " 269: 8,\n",
              " 270: 3,\n",
              " 271: 0,\n",
              " 272: 0,\n",
              " 273: 0,\n",
              " 274: 59,\n",
              " 275: 25,\n",
              " 276: 13,\n",
              " 277: 0,\n",
              " 278: 0,\n",
              " 279: 3,\n",
              " 280: 0,\n",
              " 281: 0,\n",
              " 282: 9,\n",
              " 283: 0,\n",
              " 284: 0,\n",
              " 285: 4,\n",
              " 286: 0,\n",
              " 287: 0,\n",
              " 288: 140,\n",
              " 289: 93,\n",
              " 290: 9,\n",
              " 291: 3,\n",
              " 292: 11,\n",
              " 293: 1,\n",
              " 294: 0,\n",
              " 295: 0,\n",
              " 296: 0,\n",
              " 297: 1,\n",
              " 298: 1,\n",
              " 299: 7,\n",
              " 300: 8,\n",
              " 301: 0,\n",
              " 302: 1,\n",
              " 303: 0,\n",
              " 304: 0,\n",
              " 305: 4,\n",
              " 306: 3,\n",
              " 307: 10,\n",
              " 308: 0,\n",
              " 309: 0,\n",
              " 310: 0,\n",
              " 311: 30,\n",
              " 312: 0,\n",
              " 313: 4,\n",
              " 314: 0,\n",
              " 315: 5,\n",
              " 316: 1,\n",
              " 317: 168,\n",
              " 318: 1,\n",
              " 319: 12,\n",
              " 320: 1,\n",
              " 321: 2,\n",
              " 322: 1,\n",
              " 323: 27,\n",
              " 324: 15,\n",
              " 325: 7,\n",
              " 326: 0,\n",
              " 327: 3,\n",
              " 328: 6,\n",
              " 329: 27,\n",
              " 330: 0,\n",
              " 331: 1,\n",
              " 332: 0,\n",
              " 333: 1,\n",
              " 334: 60,\n",
              " 335: 8,\n",
              " 336: 0,\n",
              " 337: 0,\n",
              " 338: 11,\n",
              " 339: 4,\n",
              " 340: 296,\n",
              " 341: 0,\n",
              " 342: 15,\n",
              " 343: 54,\n",
              " 344: 0,\n",
              " 345: 11,\n",
              " 346: 1,\n",
              " 347: 11,\n",
              " 348: 1,\n",
              " 349: 0,\n",
              " 350: 87,\n",
              " 351: 41,\n",
              " 352: 28,\n",
              " 353: 5,\n",
              " 354: 3,\n",
              " 355: 13,\n",
              " 356: 2,\n",
              " 357: 65,\n",
              " 358: 5,\n",
              " 359: 0,\n",
              " 360: 6,\n",
              " 361: 7,\n",
              " 362: 2,\n",
              " 363: 11,\n",
              " 364: 5,\n",
              " 365: 6,\n",
              " 366: 0,\n",
              " 367: 0,\n",
              " 368: 6,\n",
              " 369: 1,\n",
              " 370: 0,\n",
              " 371: 0,\n",
              " 372: 47,\n",
              " 373: 0,\n",
              " 374: 60,\n",
              " 375: 14,\n",
              " 376: 0,\n",
              " 377: 15,\n",
              " 378: 0,\n",
              " 379: 0,\n",
              " 380: 12,\n",
              " 381: 0,\n",
              " 382: 5,\n",
              " 383: 12,\n",
              " 384: 0,\n",
              " 385: 8,\n",
              " 386: 7,\n",
              " 387: 0,\n",
              " 388: 3,\n",
              " 389: 49,\n",
              " 390: 0,\n",
              " 391: 0,\n",
              " 392: 1,\n",
              " 393: 0,\n",
              " 394: 0,\n",
              " 395: 5,\n",
              " 396: 0,\n",
              " 397: 10,\n",
              " 398: 15,\n",
              " 399: 0,\n",
              " 400: 59,\n",
              " 401: 0,\n",
              " 402: 0,\n",
              " 403: 2,\n",
              " 404: 17,\n",
              " 405: 1,\n",
              " 406: 0,\n",
              " 407: 0,\n",
              " 408: 3,\n",
              " 409: 0,\n",
              " 410: 2,\n",
              " 411: 0,\n",
              " 412: 0,\n",
              " 413: 5,\n",
              " 414: 2,\n",
              " 415: 0,\n",
              " 416: 3,\n",
              " 417: 1,\n",
              " 418: 0,\n",
              " 419: 35,\n",
              " 420: 3,\n",
              " 421: 5,\n",
              " 422: 0,\n",
              " 423: 0,\n",
              " 424: 9,\n",
              " 425: 0,\n",
              " 426: 1,\n",
              " 427: 8,\n",
              " 428: 0,\n",
              " 429: 11,\n",
              " 430: 1,\n",
              " 431: 0,\n",
              " 432: 13,\n",
              " 433: 1,\n",
              " 434: 54,\n",
              " 435: 1,\n",
              " 436: 5,\n",
              " 437: 21,\n",
              " 438: 3,\n",
              " 439: 24,\n",
              " 440: 3,\n",
              " 441: 19,\n",
              " 442: 0,\n",
              " 443: 0,\n",
              " 444: 1,\n",
              " 445: 4,\n",
              " 446: 60,\n",
              " 447: 0,\n",
              " 448: 11,\n",
              " 449: 9,\n",
              " 450: 6,\n",
              " 451: 6,\n",
              " 452: 25,\n",
              " 453: 0,\n",
              " 454: 4,\n",
              " 455: 1,\n",
              " 456: 8,\n",
              " 457: 1,\n",
              " 458: 9,\n",
              " 459: 2,\n",
              " 460: 7,\n",
              " 461: 1,\n",
              " 462: 0,\n",
              " 463: 1,\n",
              " 464: 0,\n",
              " 465: 61,\n",
              " 466: 28,\n",
              " 467: 3,\n",
              " 468: 0,\n",
              " 469: 17,\n",
              " 470: 4,\n",
              " 471: 0,\n",
              " 472: 1,\n",
              " 473: 8,\n",
              " 474: 2,\n",
              " 475: 0,\n",
              " 476: 1,\n",
              " 477: 0,\n",
              " 478: 18,\n",
              " 479: 9,\n",
              " 480: 2,\n",
              " 481: 0,\n",
              " 482: 0,\n",
              " 483: 0,\n",
              " 484: 2,\n",
              " 485: 21,\n",
              " 486: 3,\n",
              " 487: 1,\n",
              " 488: 5,\n",
              " 489: 0,\n",
              " 490: 0,\n",
              " 491: 19,\n",
              " 492: 0,\n",
              " 493: 0,\n",
              " 494: 21,\n",
              " 495: 1,\n",
              " 496: 0,\n",
              " 497: 2,\n",
              " 498: 63,\n",
              " 499: 0,\n",
              " 500: 0,\n",
              " 501: 16,\n",
              " 502: 11,\n",
              " 503: 0,\n",
              " 504: 3,\n",
              " 505: 155,\n",
              " 506: 0,\n",
              " 507: 4,\n",
              " 508: 12,\n",
              " 509: 0,\n",
              " 510: 6,\n",
              " 511: 0,\n",
              " 512: 0,\n",
              " 513: 0,\n",
              " 514: 0,\n",
              " 515: 10,\n",
              " 516: 60,\n",
              " 517: 6,\n",
              " 518: 122,\n",
              " 519: 0,\n",
              " 520: 0,\n",
              " 521: 0,\n",
              " 522: 24,\n",
              " 523: 0,\n",
              " 524: 62,\n",
              " 525: 3,\n",
              " 526: 24,\n",
              " 527: 13,\n",
              " 528: 0,\n",
              " 529: 0,\n",
              " 530: 0,\n",
              " 531: 4,\n",
              " 532: 1,\n",
              " 533: 1,\n",
              " 534: 0,\n",
              " 535: 9,\n",
              " 536: 7,\n",
              " 537: 0,\n",
              " 538: 4,\n",
              " 539: 1,\n",
              " 540: 2,\n",
              " 541: 0,\n",
              " 542: 0,\n",
              " 543: 11,\n",
              " 544: 0,\n",
              " 545: 60,\n",
              " 546: 12,\n",
              " 547: 20,\n",
              " 548: 0,\n",
              " 549: 1,\n",
              " 550: 57,\n",
              " 551: 0,\n",
              " 552: 5,\n",
              " 553: 0,\n",
              " 554: 2,\n",
              " 555: 25,\n",
              " 556: 0,\n",
              " 557: 3,\n",
              " 558: 26,\n",
              " 559: 3,\n",
              " 560: 0,\n",
              " 561: 0,\n",
              " 562: 0,\n",
              " 563: 20,\n",
              " 564: 0,\n",
              " 565: 0,\n",
              " 566: 2,\n",
              " 567: 2,\n",
              " 568: 0,\n",
              " 569: 0,\n",
              " 570: 50,\n",
              " 571: 6,\n",
              " 572: 6,\n",
              " 573: 0,\n",
              " 574: 1,\n",
              " 575: 0,\n",
              " 576: 33,\n",
              " 577: 8,\n",
              " 578: 9,\n",
              " 579: 1,\n",
              " 580: 12,\n",
              " 581: 4,\n",
              " 582: 0,\n",
              " 583: 4,\n",
              " 584: 32,\n",
              " 585: 1,\n",
              " 586: 0,\n",
              " 587: 6,\n",
              " 588: 1,\n",
              " 589: 1,\n",
              " 590: 0,\n",
              " 591: 5,\n",
              " 592: 0,\n",
              " 593: 25,\n",
              " 594: 1,\n",
              " 595: 9,\n",
              " 596: 15,\n",
              " 597: 89,\n",
              " 598: 8,\n",
              " 599: 12,\n",
              " 600: 0,\n",
              " 601: 95,\n",
              " 602: 3,\n",
              " 603: 88,\n",
              " 604: 0,\n",
              " 605: 0,\n",
              " 606: 0,\n",
              " 607: 0,\n",
              " 608: 6,\n",
              " 609: 2,\n",
              " 610: 1,\n",
              " 611: 166,\n",
              " 612: 3,\n",
              " 613: 67,\n",
              " 614: 0,\n",
              " 615: 3,\n",
              " 616: 69,\n",
              " 617: 2,\n",
              " 618: 0,\n",
              " 619: 3}"
            ]
          },
          "metadata": {
            "tags": []
          },
          "execution_count": 251
        }
      ]
    },
    {
      "cell_type": "markdown",
      "metadata": {
        "id": "5KNFNIWLDt7z"
      },
      "source": [
        "\\"
      ]
    },
    {
      "cell_type": "markdown",
      "metadata": {
        "id": "5GtY7sh6DuFl"
      },
      "source": [
        "## Centrality\r\n",
        "\r\n"
      ]
    },
    {
      "cell_type": "code",
      "metadata": {
        "id": "F3mhnNFPgPhh"
      },
      "source": [
        "deg_centr = nx.degree_centrality(G)\r\n"
      ],
      "execution_count": 243,
      "outputs": []
    },
    {
      "cell_type": "code",
      "metadata": {
        "id": "R8x--vrLCPLa"
      },
      "source": [
        "eigen = nx.eigenvector_centrality(G)\r\n",
        "#eigen"
      ],
      "execution_count": 242,
      "outputs": []
    },
    {
      "cell_type": "code",
      "metadata": {
        "id": "ZXafFd7cjc9_"
      },
      "source": [
        "pagerank = nx.pagerank(G)\r\n",
        "#pagerank"
      ],
      "execution_count": 241,
      "outputs": []
    },
    {
      "cell_type": "code",
      "metadata": {
        "id": "y3QaV4BvDc-p"
      },
      "source": [
        "betweenesCentrality = nx.betweenness_centrality(G)\r\n",
        "#betweenesCentrality"
      ],
      "execution_count": 240,
      "outputs": []
    },
    {
      "cell_type": "code",
      "metadata": {
        "id": "wkLyZWZZDldG"
      },
      "source": [
        ""
      ],
      "execution_count": null,
      "outputs": []
    },
    {
      "cell_type": "markdown",
      "metadata": {
        "id": "1VmuowQtE_jJ"
      },
      "source": [
        "\\"
      ]
    },
    {
      "cell_type": "markdown",
      "metadata": {
        "id": "K9YtqVmfFAjk"
      },
      "source": [
        "## Communities\r\n"
      ]
    },
    {
      "cell_type": "code",
      "metadata": {
        "id": "Rs36FKE2FAAz"
      },
      "source": [
        "from networkx.algorithms import community\r\n",
        "\r\n",
        "greedy = community.greedy_modularity_communities(G)"
      ],
      "execution_count": 253,
      "outputs": []
    },
    {
      "cell_type": "code",
      "metadata": {
        "colab": {
          "base_uri": "https://localhost:8080/"
        },
        "id": "dpX6TPImFXDd",
        "outputId": "90c55138-3fbe-4411-ace1-8ac6cb5e9d65"
      },
      "source": [
        "c = list(greedy)\r\n",
        "for i in range(0, len(c)):\r\n",
        "    print(len(c[i]))"
      ],
      "execution_count": 254,
      "outputs": [
        {
          "output_type": "stream",
          "text": [
            "164\n",
            "72\n",
            "53\n",
            "46\n",
            "37\n",
            "36\n",
            "33\n",
            "31\n",
            "31\n",
            "30\n",
            "17\n",
            "17\n",
            "13\n",
            "6\n",
            "6\n",
            "6\n",
            "5\n",
            "5\n",
            "5\n",
            "3\n",
            "2\n",
            "2\n"
          ],
          "name": "stdout"
        }
      ]
    },
    {
      "cell_type": "code",
      "metadata": {
        "id": "0RmeDUIiFfhd"
      },
      "source": [
        ""
      ],
      "execution_count": null,
      "outputs": []
    }
  ]
}