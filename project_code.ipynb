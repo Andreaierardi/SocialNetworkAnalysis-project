{
  "nbformat": 4,
  "nbformat_minor": 0,
  "metadata": {
    "colab": {
      "name": "project_code.ipynb",
      "provenance": [],
      "collapsed_sections": [],
      "authorship_tag": "ABX9TyPYwAzFtLYilK1pknwDrGvU",
      "include_colab_link": true
    },
    "kernelspec": {
      "name": "python3",
      "display_name": "Python 3"
    }
  },
  "cells": [
    {
      "cell_type": "markdown",
      "metadata": {
        "id": "view-in-github",
        "colab_type": "text"
      },
      "source": [
        "<a href=\"https://colab.research.google.com/github/Andreaierardi/SocialNetworkAnalysis-project/blob/main/project_code.ipynb\" target=\"_parent\"><img src=\"https://colab.research.google.com/assets/colab-badge.svg\" alt=\"Open In Colab\"/></a>"
      ]
    },
    {
      "cell_type": "markdown",
      "metadata": {
        "id": "emEG98GnrQo6"
      },
      "source": [
        " # Social Network Analysis Project\n",
        "\n",
        "### Università degli Studi di Milano \n",
        "\n",
        "\n",
        "\n",
        "---\n",
        "\n"
      ]
    },
    {
      "cell_type": "code",
      "metadata": {
        "id": "Zk0_rfw65jG_"
      },
      "source": [
        "# Nodes \n",
        "# https://github.com/Andreaierardi/SocialNetworkAnalysis-project/blob/main/dataset/fb-pages-food.csv\n",
        "\n",
        "# Edges\n",
        "# https://github.com/Andreaierardi/SocialNetworkAnalysis-project/blob/main/dataset/fb-pages-food.edges"
      ],
      "execution_count": null,
      "outputs": []
    },
    {
      "cell_type": "code",
      "metadata": {
        "id": "YKVanDJn21rf"
      },
      "source": [
        "import pandas as pd\n",
        "nodes = pd.read_csv('https://raw.githubusercontent.com/Andreaierardi/SocialNetworkAnalysis-project/main/dataset/fb-pages-food.csv?token=AIWS4RUQVUYM676T5B3K4H27XQHBA',sep=\";\")\n",
        "\n",
        "edges = pd.read_csv('https://raw.githubusercontent.com/Andreaierardi/SocialNetworkAnalysis-project/main/dataset/fb-pages-food.edges?token=AIWS4RQCC5WOTZKTUZTINKC7XPQYG')\n"
      ],
      "execution_count": 4,
      "outputs": []
    },
    {
      "cell_type": "code",
      "metadata": {
        "id": "wdH8yTmE3XG0",
        "outputId": "aa7800a9-ea9c-499b-fa5f-61e60c4c5c31",
        "colab": {
          "base_uri": "https://localhost:8080/"
        }
      },
      "source": [
        "print(nodes)\n",
        "print(edges)"
      ],
      "execution_count": 5,
      "outputs": [
        {
          "output_type": "stream",
          "text": [
            "                        name   id\n",
            "0                 Josh Marks  386\n",
            "1    Blue Ribbon Restaurants  473\n",
            "2                  Pat Neely    1\n",
            "3                 La Griglia  542\n",
            "4                Jose Garces  189\n",
            "..                       ...  ...\n",
            "615               Jumia Food  163\n",
            "616              Luke Thomas  381\n",
            "617          Clodagh McKenna  140\n",
            "618  Chef Michelle Bernstein  157\n",
            "619               SORTEDfood  114\n",
            "\n",
            "[620 rows x 2 columns]\n",
            "      source  target\n",
            "0          0     276\n",
            "1          0      58\n",
            "2          0     132\n",
            "3          0     603\n",
            "4          0     398\n",
            "...      ...     ...\n",
            "2097     597     611\n",
            "2098     601     603\n",
            "2099     601     616\n",
            "2100     603     616\n",
            "2101     311     613\n",
            "\n",
            "[2102 rows x 2 columns]\n"
          ],
          "name": "stdout"
        }
      ]
    }
  ]
}