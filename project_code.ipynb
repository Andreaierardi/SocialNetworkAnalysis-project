{
  "nbformat": 4,
  "nbformat_minor": 0,
  "metadata": {
    "colab": {
      "name": "project_code.ipynb",
      "provenance": [],
      "collapsed_sections": [],
      "authorship_tag": "ABX9TyNqEm2OE81AIW2z7xzFcm5X",
      "include_colab_link": true
    },
    "kernelspec": {
      "name": "python3",
      "display_name": "Python 3"
    }
  },
  "cells": [
    {
      "cell_type": "markdown",
      "metadata": {
        "id": "view-in-github",
        "colab_type": "text"
      },
      "source": [
        "<a href=\"https://colab.research.google.com/github/Andreaierardi/SocialNetworkAnalysis-project/blob/main/project_code.ipynb\" target=\"_parent\"><img src=\"https://colab.research.google.com/assets/colab-badge.svg\" alt=\"Open In Colab\"/></a>"
      ]
    },
    {
      "cell_type": "markdown",
      "metadata": {
        "id": "emEG98GnrQo6"
      },
      "source": [
        "# **Social Network Analysis Project**\n",
        "\n",
        "> ## **University of Milan** - **DataScience and Economics**\n",
        "\n",
        "<br>\n",
        "\n",
        "#### Author : **Andrea Ierardi**\n",
        "\n",
        "<br>\n",
        "\n",
        "\n",
        "---\n",
        "\n"
      ]
    },
    {
      "cell_type": "markdown",
      "metadata": {
        "id": "7dDSzSi-p7f8"
      },
      "source": [
        "\n",
        " <br>\n",
        "\n",
        "\n",
        "\n",
        "\n"
      ]
    },
    {
      "cell_type": "markdown",
      "metadata": {
        "id": "D_1SNIKKje5V"
      },
      "source": [
        "## Dataset\n",
        "### Description\n",
        "\n",
        "Data collected about Facebook pages (November 2017). These datasets represent blue verified Facebook page networks of different categories. Nodes represent the pages and edges are mutual likes among them.\n",
        "\n",
        "\n",
        "\n",
        "\n",
        "\n"
      ]
    },
    {
      "cell_type": "markdown",
      "metadata": {
        "id": "-EnzyahlphFf"
      },
      "source": [
        "\n",
        " <br>\n",
        "\n",
        "\n",
        "\n",
        "\n"
      ]
    },
    {
      "cell_type": "code",
      "metadata": {
        "id": "YKVanDJn21rf"
      },
      "source": [
        "import pandas as pd\n",
        "nodes = pd.read_csv('https://raw.githubusercontent.com/Andreaierardi/SocialNetworkAnalysis-project/main/dataset/fb-pages-food.csv',sep=\";\")\n",
        "\n",
        "edges = pd.read_csv('https://raw.githubusercontent.com/Andreaierardi/SocialNetworkAnalysis-project/main/dataset/fb-pages-food.edges')\n"
      ],
      "execution_count": 1,
      "outputs": []
    },
    {
      "cell_type": "code",
      "metadata": {
        "id": "wdH8yTmE3XG0",
        "colab": {
          "base_uri": "https://localhost:8080/",
          "height": 414
        },
        "outputId": "f7a0f38b-8833-4bb1-9520-a214dfb70665"
      },
      "source": [
        "edges"
      ],
      "execution_count": 2,
      "outputs": [
        {
          "output_type": "execute_result",
          "data": {
            "text/html": [
              "<div>\n",
              "<style scoped>\n",
              "    .dataframe tbody tr th:only-of-type {\n",
              "        vertical-align: middle;\n",
              "    }\n",
              "\n",
              "    .dataframe tbody tr th {\n",
              "        vertical-align: top;\n",
              "    }\n",
              "\n",
              "    .dataframe thead th {\n",
              "        text-align: right;\n",
              "    }\n",
              "</style>\n",
              "<table border=\"1\" class=\"dataframe\">\n",
              "  <thead>\n",
              "    <tr style=\"text-align: right;\">\n",
              "      <th></th>\n",
              "      <th>source</th>\n",
              "      <th>target</th>\n",
              "    </tr>\n",
              "  </thead>\n",
              "  <tbody>\n",
              "    <tr>\n",
              "      <th>0</th>\n",
              "      <td>0</td>\n",
              "      <td>276</td>\n",
              "    </tr>\n",
              "    <tr>\n",
              "      <th>1</th>\n",
              "      <td>0</td>\n",
              "      <td>58</td>\n",
              "    </tr>\n",
              "    <tr>\n",
              "      <th>2</th>\n",
              "      <td>0</td>\n",
              "      <td>132</td>\n",
              "    </tr>\n",
              "    <tr>\n",
              "      <th>3</th>\n",
              "      <td>0</td>\n",
              "      <td>603</td>\n",
              "    </tr>\n",
              "    <tr>\n",
              "      <th>4</th>\n",
              "      <td>0</td>\n",
              "      <td>398</td>\n",
              "    </tr>\n",
              "    <tr>\n",
              "      <th>...</th>\n",
              "      <td>...</td>\n",
              "      <td>...</td>\n",
              "    </tr>\n",
              "    <tr>\n",
              "      <th>2097</th>\n",
              "      <td>597</td>\n",
              "      <td>611</td>\n",
              "    </tr>\n",
              "    <tr>\n",
              "      <th>2098</th>\n",
              "      <td>601</td>\n",
              "      <td>603</td>\n",
              "    </tr>\n",
              "    <tr>\n",
              "      <th>2099</th>\n",
              "      <td>601</td>\n",
              "      <td>616</td>\n",
              "    </tr>\n",
              "    <tr>\n",
              "      <th>2100</th>\n",
              "      <td>603</td>\n",
              "      <td>616</td>\n",
              "    </tr>\n",
              "    <tr>\n",
              "      <th>2101</th>\n",
              "      <td>311</td>\n",
              "      <td>613</td>\n",
              "    </tr>\n",
              "  </tbody>\n",
              "</table>\n",
              "<p>2102 rows × 2 columns</p>\n",
              "</div>"
            ],
            "text/plain": [
              "      source  target\n",
              "0          0     276\n",
              "1          0      58\n",
              "2          0     132\n",
              "3          0     603\n",
              "4          0     398\n",
              "...      ...     ...\n",
              "2097     597     611\n",
              "2098     601     603\n",
              "2099     601     616\n",
              "2100     603     616\n",
              "2101     311     613\n",
              "\n",
              "[2102 rows x 2 columns]"
            ]
          },
          "metadata": {
            "tags": []
          },
          "execution_count": 2
        }
      ]
    },
    {
      "cell_type": "code",
      "metadata": {
        "colab": {
          "base_uri": "https://localhost:8080/",
          "height": 414
        },
        "id": "oLNCmyPNI9hM",
        "outputId": "0faae67b-3724-44cf-954b-e8f318a65c8f"
      },
      "source": [
        "nodes"
      ],
      "execution_count": 3,
      "outputs": [
        {
          "output_type": "execute_result",
          "data": {
            "text/html": [
              "<div>\n",
              "<style scoped>\n",
              "    .dataframe tbody tr th:only-of-type {\n",
              "        vertical-align: middle;\n",
              "    }\n",
              "\n",
              "    .dataframe tbody tr th {\n",
              "        vertical-align: top;\n",
              "    }\n",
              "\n",
              "    .dataframe thead th {\n",
              "        text-align: right;\n",
              "    }\n",
              "</style>\n",
              "<table border=\"1\" class=\"dataframe\">\n",
              "  <thead>\n",
              "    <tr style=\"text-align: right;\">\n",
              "      <th></th>\n",
              "      <th>name</th>\n",
              "      <th>id</th>\n",
              "    </tr>\n",
              "  </thead>\n",
              "  <tbody>\n",
              "    <tr>\n",
              "      <th>0</th>\n",
              "      <td>Josh Marks</td>\n",
              "      <td>386</td>\n",
              "    </tr>\n",
              "    <tr>\n",
              "      <th>1</th>\n",
              "      <td>Blue Ribbon Restaurants</td>\n",
              "      <td>473</td>\n",
              "    </tr>\n",
              "    <tr>\n",
              "      <th>2</th>\n",
              "      <td>Pat Neely</td>\n",
              "      <td>1</td>\n",
              "    </tr>\n",
              "    <tr>\n",
              "      <th>3</th>\n",
              "      <td>La Griglia</td>\n",
              "      <td>542</td>\n",
              "    </tr>\n",
              "    <tr>\n",
              "      <th>4</th>\n",
              "      <td>Jose Garces</td>\n",
              "      <td>189</td>\n",
              "    </tr>\n",
              "    <tr>\n",
              "      <th>...</th>\n",
              "      <td>...</td>\n",
              "      <td>...</td>\n",
              "    </tr>\n",
              "    <tr>\n",
              "      <th>615</th>\n",
              "      <td>Jumia Food</td>\n",
              "      <td>163</td>\n",
              "    </tr>\n",
              "    <tr>\n",
              "      <th>616</th>\n",
              "      <td>Luke Thomas</td>\n",
              "      <td>381</td>\n",
              "    </tr>\n",
              "    <tr>\n",
              "      <th>617</th>\n",
              "      <td>Clodagh McKenna</td>\n",
              "      <td>140</td>\n",
              "    </tr>\n",
              "    <tr>\n",
              "      <th>618</th>\n",
              "      <td>Chef Michelle Bernstein</td>\n",
              "      <td>157</td>\n",
              "    </tr>\n",
              "    <tr>\n",
              "      <th>619</th>\n",
              "      <td>SORTEDfood</td>\n",
              "      <td>114</td>\n",
              "    </tr>\n",
              "  </tbody>\n",
              "</table>\n",
              "<p>620 rows × 2 columns</p>\n",
              "</div>"
            ],
            "text/plain": [
              "                        name   id\n",
              "0                 Josh Marks  386\n",
              "1    Blue Ribbon Restaurants  473\n",
              "2                  Pat Neely    1\n",
              "3                 La Griglia  542\n",
              "4                Jose Garces  189\n",
              "..                       ...  ...\n",
              "615               Jumia Food  163\n",
              "616              Luke Thomas  381\n",
              "617          Clodagh McKenna  140\n",
              "618  Chef Michelle Bernstein  157\n",
              "619               SORTEDfood  114\n",
              "\n",
              "[620 rows x 2 columns]"
            ]
          },
          "metadata": {
            "tags": []
          },
          "execution_count": 3
        }
      ]
    },
    {
      "cell_type": "code",
      "metadata": {
        "id": "rWB-XdMBJEx2"
      },
      "source": [
        "from collections import Counter # Counter counts the number of occurrences of each item\n",
        "from itertools import tee, count\n",
        "def uniquify(seq, suffs = count(1)):\n",
        "    \"\"\"Make all the items unique by adding a suffix (1, 2, etc).\n",
        "\n",
        "    `seq` is mutable sequence of strings.\n",
        "    `suffs` is an optional alternative suffix iterable.\n",
        "    \"\"\"\n",
        "    not_unique = [k for k,v in Counter(seq).items() if v>1] # so we have: ['name', 'zip']\n",
        "    # suffix generator dict - e.g., {'name': <my_gen>, 'zip': <my_gen>}\n",
        "    suff_gens = dict(zip(not_unique, tee(suffs, len(not_unique))))  \n",
        "    for idx,s in enumerate(seq):\n",
        "        try:\n",
        "            suffix = str(next(suff_gens[s]))\n",
        "        except KeyError:\n",
        "            # s was unique\n",
        "            continue\n",
        "        else:\n",
        "            seq[idx] += suffix\n",
        "    "
      ],
      "execution_count": 4,
      "outputs": []
    },
    {
      "cell_type": "code",
      "metadata": {
        "colab": {
          "base_uri": "https://localhost:8080/"
        },
        "id": "rUoGw9ldJR8S",
        "outputId": "2d51a68e-a7e3-4ece-c101-47416241b0a2"
      },
      "source": [
        "names = list(nodes.name)\n",
        "uniquify(names, (f'_{x!s}' for x in range(1, 100)))\n",
        "names[0:10]"
      ],
      "execution_count": 5,
      "outputs": [
        {
          "output_type": "execute_result",
          "data": {
            "text/plain": [
              "['Josh Marks',\n",
              " 'Blue Ribbon Restaurants',\n",
              " 'Pat Neely',\n",
              " 'La Griglia',\n",
              " 'Jose Garces',\n",
              " 'Zac Kara',\n",
              " 'Big Fish Seafood Bistro_1',\n",
              " 'Tom Aikens',\n",
              " 'The Habit Burger Grill',\n",
              " 'Chef Sheldon Simeon']"
            ]
          },
          "metadata": {
            "tags": []
          },
          "execution_count": 5
        }
      ]
    },
    {
      "cell_type": "code",
      "metadata": {
        "colab": {
          "base_uri": "https://localhost:8080/"
        },
        "id": "UMZPXM7NK_7V",
        "outputId": "a20c31f4-7792-45cc-c461-a7667cc63477"
      },
      "source": [
        "# Find the name of the column by index\n",
        "n = nodes.columns[0]\n",
        "\n",
        "# Drop that column\n",
        "nodes.drop(n, axis = 1, inplace = True)\n",
        "\n",
        "# Put whatever series you want in its place\n",
        "nodes[n] = names\n",
        "\n",
        "list(nodes.name)[0:20]"
      ],
      "execution_count": 6,
      "outputs": [
        {
          "output_type": "execute_result",
          "data": {
            "text/plain": [
              "['Josh Marks',\n",
              " 'Blue Ribbon Restaurants',\n",
              " 'Pat Neely',\n",
              " 'La Griglia',\n",
              " 'Jose Garces',\n",
              " 'Zac Kara',\n",
              " 'Big Fish Seafood Bistro_1',\n",
              " 'Tom Aikens',\n",
              " 'The Habit Burger Grill',\n",
              " 'Chef Sheldon Simeon',\n",
              " 'Ochikeron',\n",
              " 'Taco Bell Cyprus',\n",
              " 'Christophe Michalak',\n",
              " \"Peohe's\",\n",
              " 'Destino Ibiza',\n",
              " 'KFC_1',\n",
              " 'Chef Shirley Chung',\n",
              " 'Doug Adams',\n",
              " 'משה שגב / Moshe Segev',\n",
              " 'Angel Leon Gonzalez']"
            ]
          },
          "metadata": {
            "tags": []
          },
          "execution_count": 6
        }
      ]
    },
    {
      "cell_type": "code",
      "metadata": {
        "id": "V433kxvejlcg"
      },
      "source": [
        "# Nodes as dictionary\n",
        "nodes_dict = {}\n",
        "for (n, id) in zip(nodes[\"name\"],nodes[\"id\"]):\n",
        " # print(n, \"+\", id)\n",
        "  nodes_dict[id] = n"
      ],
      "execution_count": 7,
      "outputs": []
    },
    {
      "cell_type": "code",
      "metadata": {
        "colab": {
          "base_uri": "https://localhost:8080/"
        },
        "id": "dMT4PI9vHk_L",
        "outputId": "c2a7fa5e-fbc9-4549-c3c7-2ea4cd1294ef"
      },
      "source": [
        "list(nodes_dict.values())[0:20]"
      ],
      "execution_count": 8,
      "outputs": [
        {
          "output_type": "execute_result",
          "data": {
            "text/plain": [
              "['Josh Marks',\n",
              " 'Blue Ribbon Restaurants',\n",
              " 'Pat Neely',\n",
              " 'La Griglia',\n",
              " 'Jose Garces',\n",
              " 'Zac Kara',\n",
              " 'Big Fish Seafood Bistro_1',\n",
              " 'Tom Aikens',\n",
              " 'The Habit Burger Grill',\n",
              " 'Chef Sheldon Simeon',\n",
              " 'Ochikeron',\n",
              " 'Taco Bell Cyprus',\n",
              " 'Christophe Michalak',\n",
              " \"Peohe's\",\n",
              " 'Destino Ibiza',\n",
              " 'KFC_1',\n",
              " 'Chef Shirley Chung',\n",
              " 'Doug Adams',\n",
              " 'משה שגב / Moshe Segev',\n",
              " 'Angel Leon Gonzalez']"
            ]
          },
          "metadata": {
            "tags": []
          },
          "execution_count": 8
        }
      ]
    },
    {
      "cell_type": "markdown",
      "metadata": {
        "id": "Hukazbol5IQq"
      },
      "source": [
        "\n",
        " <br>\n",
        "\n",
        "\n",
        "\n"
      ]
    },
    {
      "cell_type": "markdown",
      "metadata": {
        "id": "KvT9Qpmg4nvI"
      },
      "source": [
        "## Network Building\n",
        "\n"
      ]
    },
    {
      "cell_type": "code",
      "metadata": {
        "id": "Zn5pk5DSlpTX",
        "colab": {
          "base_uri": "https://localhost:8080/"
        },
        "outputId": "4be5cfb5-33d2-4e4f-8eb7-a12bb879a0cd"
      },
      "source": [
        "import networkx as nx\n",
        "from statsmodels.distributions.empirical_distribution import ECDF\n",
        "import numpy as np\n",
        "import matplotlib.pyplot as plt"
      ],
      "execution_count": 9,
      "outputs": [
        {
          "output_type": "stream",
          "text": [
            "/usr/local/lib/python3.7/dist-packages/statsmodels/tools/_testing.py:19: FutureWarning: pandas.util.testing is deprecated. Use the functions in the public API at pandas.testing instead.\n",
            "  import pandas.util.testing as tm\n"
          ],
          "name": "stderr"
        }
      ]
    },
    {
      "cell_type": "code",
      "metadata": {
        "id": "k9RHnVXFme7a"
      },
      "source": [
        "G = nx.Graph()\n",
        "\n",
        "for e in edges.values.tolist():\n",
        "  G.add_edge(e[0],e[1])"
      ],
      "execution_count": 10,
      "outputs": []
    },
    {
      "cell_type": "code",
      "metadata": {
        "id": "0Nzgzmp-kN_d"
      },
      "source": [
        "H = nx.relabel_nodes(G, nodes_dict)\n",
        "len(sorted(H))\n",
        "\n",
        "G = H"
      ],
      "execution_count": 11,
      "outputs": []
    },
    {
      "cell_type": "code",
      "metadata": {
        "colab": {
          "base_uri": "https://localhost:8080/"
        },
        "id": "_75ZAAB6nDDX",
        "outputId": "936fe1e2-ab7e-4ae1-da17-888dc39fa4f3"
      },
      "source": [
        "print('Number of nodes: {} - Number of links:{}'.format(G.order(),G.size()))\n"
      ],
      "execution_count": 12,
      "outputs": [
        {
          "output_type": "stream",
          "text": [
            "Number of nodes: 620 - Number of links:2102\n"
          ],
          "name": "stdout"
        }
      ]
    },
    {
      "cell_type": "code",
      "metadata": {
        "id": "jtD8RPj-m65g",
        "colab": {
          "base_uri": "https://localhost:8080/",
          "height": 247
        },
        "outputId": "f0ea9a0a-543f-4212-8b63-7b9fa3623a41"
      },
      "source": [
        "# draw the graph\n",
        "pos = nx.spring_layout(G)\n",
        "\n",
        "nx.draw_networkx_nodes(G, pos, node_size=20, label = names)\n",
        "nx.draw_networkx_edges(G, pos, alpha=0.5)\n",
        "plt.show()\n"
      ],
      "execution_count": 13,
      "outputs": [
        {
          "output_type": "display_data",
          "data": {
            "image/png": "[encoded data removed]",
            "text/plain": [
              "<Figure size 432x288 with 1 Axes>"
            ]
          },
          "metadata": {
            "tags": []
          }
        }
      ]
    },
    {
      "cell_type": "code",
      "metadata": {
        "id": "opsEWUQ7ps2s",
        "colab": {
          "base_uri": "https://localhost:8080/",
          "height": 247
        },
        "outputId": "74ec430c-a348-4a03-f66b-ffcc16ad19c8"
      },
      "source": [
        "import warnings\n",
        "warnings.filterwarnings(\"ignore\", category=RuntimeWarning)\n",
        "\n",
        "# draw the graph with labels\n",
        "pos = nx.spring_layout(G)\n",
        "\n",
        "nx.draw_networkx_nodes(G, pos, node_size=20, label = names)\n",
        "nx.draw_networkx_edges(G, pos, alpha=0.5)\n",
        "nx.draw_networkx_labels(G,pos,font_size=3,font_color='r')\n",
        "plt.show()"
      ],
      "execution_count": 14,
      "outputs": [
        {
          "output_type": "display_data",
          "data": {
            "image/png": "[encoded data removed]",
            "text/plain": [
              "<Figure size 432x288 with 1 Axes>"
            ]
          },
          "metadata": {
            "tags": []
          }
        }
      ]
    },
    {
      "cell_type": "code",
      "metadata": {
        "colab": {
          "base_uri": "https://localhost:8080/",
          "height": 414
        },
        "id": "9GNylBO2MU5v",
        "outputId": "21cae0c3-8414-4877-bbeb-02ef22b3a765"
      },
      "source": [
        "node_deg_df =  pd.DataFrame.from_dict(dict(G.degree()),orient=\"index\", columns=['degree']).reset_index()\n",
        "node_deg_df.columns = ['name','degree']\n",
        "node_deg_df = nodes.merge(node_deg_df,on='name',)\n",
        "node_deg_df"
      ],
      "execution_count": 15,
      "outputs": [
        {
          "output_type": "execute_result",
          "data": {
            "text/html": [
              "<div>\n",
              "<style scoped>\n",
              "    .dataframe tbody tr th:only-of-type {\n",
              "        vertical-align: middle;\n",
              "    }\n",
              "\n",
              "    .dataframe tbody tr th {\n",
              "        vertical-align: top;\n",
              "    }\n",
              "\n",
              "    .dataframe thead th {\n",
              "        text-align: right;\n",
              "    }\n",
              "</style>\n",
              "<table border=\"1\" class=\"dataframe\">\n",
              "  <thead>\n",
              "    <tr style=\"text-align: right;\">\n",
              "      <th></th>\n",
              "      <th>id</th>\n",
              "      <th>name</th>\n",
              "      <th>degree</th>\n",
              "    </tr>\n",
              "  </thead>\n",
              "  <tbody>\n",
              "    <tr>\n",
              "      <th>0</th>\n",
              "      <td>386</td>\n",
              "      <td>Josh Marks</td>\n",
              "      <td>7</td>\n",
              "    </tr>\n",
              "    <tr>\n",
              "      <th>1</th>\n",
              "      <td>473</td>\n",
              "      <td>Blue Ribbon Restaurants</td>\n",
              "      <td>7</td>\n",
              "    </tr>\n",
              "    <tr>\n",
              "      <th>2</th>\n",
              "      <td>1</td>\n",
              "      <td>Pat Neely</td>\n",
              "      <td>2</td>\n",
              "    </tr>\n",
              "    <tr>\n",
              "      <th>3</th>\n",
              "      <td>542</td>\n",
              "      <td>La Griglia</td>\n",
              "      <td>1</td>\n",
              "    </tr>\n",
              "    <tr>\n",
              "      <th>4</th>\n",
              "      <td>189</td>\n",
              "      <td>Jose Garces</td>\n",
              "      <td>5</td>\n",
              "    </tr>\n",
              "    <tr>\n",
              "      <th>...</th>\n",
              "      <td>...</td>\n",
              "      <td>...</td>\n",
              "      <td>...</td>\n",
              "    </tr>\n",
              "    <tr>\n",
              "      <th>615</th>\n",
              "      <td>163</td>\n",
              "      <td>Jumia Food_10</td>\n",
              "      <td>6</td>\n",
              "    </tr>\n",
              "    <tr>\n",
              "      <th>616</th>\n",
              "      <td>381</td>\n",
              "      <td>Luke Thomas</td>\n",
              "      <td>1</td>\n",
              "    </tr>\n",
              "    <tr>\n",
              "      <th>617</th>\n",
              "      <td>140</td>\n",
              "      <td>Clodagh McKenna</td>\n",
              "      <td>2</td>\n",
              "    </tr>\n",
              "    <tr>\n",
              "      <th>618</th>\n",
              "      <td>157</td>\n",
              "      <td>Chef Michelle Bernstein</td>\n",
              "      <td>10</td>\n",
              "    </tr>\n",
              "    <tr>\n",
              "      <th>619</th>\n",
              "      <td>114</td>\n",
              "      <td>SORTEDfood</td>\n",
              "      <td>8</td>\n",
              "    </tr>\n",
              "  </tbody>\n",
              "</table>\n",
              "<p>620 rows × 3 columns</p>\n",
              "</div>"
            ],
            "text/plain": [
              "      id                     name  degree\n",
              "0    386               Josh Marks       7\n",
              "1    473  Blue Ribbon Restaurants       7\n",
              "2      1                Pat Neely       2\n",
              "3    542               La Griglia       1\n",
              "4    189              Jose Garces       5\n",
              "..   ...                      ...     ...\n",
              "615  163            Jumia Food_10       6\n",
              "616  381              Luke Thomas       1\n",
              "617  140          Clodagh McKenna       2\n",
              "618  157  Chef Michelle Bernstein      10\n",
              "619  114               SORTEDfood       8\n",
              "\n",
              "[620 rows x 3 columns]"
            ]
          },
          "metadata": {
            "tags": []
          },
          "execution_count": 15
        }
      ]
    },
    {
      "cell_type": "code",
      "metadata": {
        "id": "_QiKYvSPTy2_"
      },
      "source": [
        "degree = list(dict(G.degree()).values())\n",
        "\n",
        "percentile_99 = np.percentile(degree,99)\n",
        "hub_nodi = [k for k,v in dict(G.degree()).items() if v>= percentile_99]\n",
        "\n",
        "\n",
        "color_map = []\n",
        "size_map = []\n",
        "node_index ={}\n",
        "for i in range(0, len(names)):\n",
        "    if not (names[i] in hub_nodi) :\n",
        "        color_map.append('#86b5fb')\n",
        "        size_map.append(20)\n",
        "    else: \n",
        "        color_map.append('#93e685')"
      ],
      "execution_count": 20,
      "outputs": []
    },
    {
      "cell_type": "code",
      "metadata": {
        "id": "pZEF6IpfT3QU"
      },
      "source": [
        "#!pip install pyvis"
      ],
      "execution_count": null,
      "outputs": []
    },
    {
      "cell_type": "code",
      "metadata": {
        "id": "eHnSSFYRq3GL"
      },
      "source": [
        "from pyvis.network import Network\n",
        "\n",
        "net = Network(height='100%', width='100%', bgcolor='#222222', font_color='white', notebook =True)\n",
        "\n",
        "# set the physics layout of the network\n",
        "net.force_atlas_2based(gravity=-300,spring_length=300)"
      ],
      "execution_count": 126,
      "outputs": []
    },
    {
      "cell_type": "code",
      "metadata": {
        "id": "rC8GpLcMT0yA"
      },
      "source": [
        ""
      ],
      "execution_count": 126,
      "outputs": []
    },
    {
      "cell_type": "code",
      "metadata": {
        "id": "NvmokztAKs2b"
      },
      "source": [
        "net.add_nodes(node_deg_df['id'].tolist(), size=node_deg_df['degree'].tolist(),\n",
        "                         title=node_deg_df['name'].tolist(),\n",
        "                         label=node_deg_df['name'].tolist(),\n",
        "                          color=color_map,\n",
        "              )"
      ],
      "execution_count": 127,
      "outputs": []
    },
    {
      "cell_type": "code",
      "metadata": {
        "id": "zM8jjLKQWV5W"
      },
      "source": [
        ""
      ],
      "execution_count": 127,
      "outputs": []
    },
    {
      "cell_type": "code",
      "metadata": {
        "id": "m_WtYtMjTlqc"
      },
      "source": [
        ""
      ],
      "execution_count": 127,
      "outputs": []
    },
    {
      "cell_type": "code",
      "metadata": {
        "id": "sK-BtxyeswU6"
      },
      "source": [
        "for index in range(len(edges['source'])):\n",
        "  src = int(edges['source'][index])\n",
        "  dst = int(edges['target'][index])\n",
        "  net.add_edge(src,dst)\n",
        "\n"
      ],
      "execution_count": 128,
      "outputs": []
    },
    {
      "cell_type": "code",
      "metadata": {
        "colab": {
          "base_uri": "https://localhost:8080/"
        },
        "id": "p44JG88cvYWM",
        "outputId": "914eff4c-4c8c-4f0e-fb51-30344e2a13f5"
      },
      "source": [
        "dir(net.options)"
      ],
      "execution_count": 129,
      "outputs": [
        {
          "output_type": "execute_result",
          "data": {
            "text/plain": [
              "['__class__',\n",
              " '__delattr__',\n",
              " '__dict__',\n",
              " '__dir__',\n",
              " '__doc__',\n",
              " '__eq__',\n",
              " '__format__',\n",
              " '__ge__',\n",
              " '__getattribute__',\n",
              " '__getitem__',\n",
              " '__gt__',\n",
              " '__hash__',\n",
              " '__init__',\n",
              " '__init_subclass__',\n",
              " '__le__',\n",
              " '__lt__',\n",
              " '__module__',\n",
              " '__ne__',\n",
              " '__new__',\n",
              " '__reduce__',\n",
              " '__reduce_ex__',\n",
              " '__repr__',\n",
              " '__setattr__',\n",
              " '__sizeof__',\n",
              " '__str__',\n",
              " '__subclasshook__',\n",
              " '__weakref__',\n",
              " 'configure',\n",
              " 'edges',\n",
              " 'interaction',\n",
              " 'physics',\n",
              " 'set',\n",
              " 'to_json']"
            ]
          },
          "metadata": {
            "tags": []
          },
          "execution_count": 129
        }
      ]
    },
    {
      "cell_type": "code",
      "metadata": {
        "id": "AiNUh-2jVuSy"
      },
      "source": [
        "net.options.nodes ={\"font\" : {\n",
        "          \"size\" : 50,\n",
        "          \"color\" : '#ffffff'\n",
        "      }}"
      ],
      "execution_count": 130,
      "outputs": []
    },
    {
      "cell_type": "code",
      "metadata": {
        "id": "lGQ5RQONUwMU",
        "outputId": "c5406036-992c-4a1f-9172-13e2cb5bddc7",
        "colab": {
          "base_uri": "https://localhost:8080/"
        }
      },
      "source": [
        "hub_nodi"
      ],
      "execution_count": 133,
      "outputs": [
        {
          "output_type": "execute_result",
          "data": {
            "text/plain": [
              "['Logan Junior Chef',\n",
              " 'Robin Miller',\n",
              " 'Scott Conant',\n",
              " \"McDonald's_6\",\n",
              " 'Eric Ripert',\n",
              " 'Alex Guarnaschelli',\n",
              " 'David Chang',\n",
              " 'Chef Daniel Boulud']"
            ]
          },
          "metadata": {
            "tags": []
          },
          "execution_count": 133
        }
      ]
    },
    {
      "cell_type": "code",
      "metadata": {
        "id": "CTIH8IF4U_x1",
        "outputId": "6aed5d0d-2c8f-4fe6-f47d-613db75c171b",
        "colab": {
          "base_uri": "https://localhost:8080/"
        }
      },
      "source": [
        "net.options"
      ],
      "execution_count": 131,
      "outputs": [
        {
          "output_type": "execute_result",
          "data": {
            "text/plain": [
              "{'interaction': {'hideEdgesOnDrag': False, 'hideNodesOnDrag': False, 'dragNodes': True}, 'configure': {'enabled': False}, 'physics': {'enabled': True, 'stabilization': <pyvis.physics.Physics.Stabilization object at 0x7f27b7b77ed0>, 'forceAtlas2Based': <pyvis.physics.Physics.forceAtlas2Based object at 0x7f27b7dac990>, 'solver': 'forceAtlas2Based'}, 'edges': {'smooth': {'enabled': False, 'type': 'continuous'}, 'color': {'inherit': True}}, 'nodes': {'font': {'size': 50, 'color': '#ffffff'}}}"
            ]
          },
          "metadata": {
            "tags": []
          },
          "execution_count": 131
        }
      ]
    },
    {
      "cell_type": "code",
      "metadata": {
        "colab": {
          "base_uri": "https://localhost:8080/",
          "height": 170
        },
        "id": "GgY0YbU0q-Mh",
        "outputId": "d8678da3-c9de-4286-d135-46824c5114aa"
      },
      "source": [
        "net.show('base_network.html')"
      ],
      "execution_count": 132,
      "outputs": [
        {
          "output_type": "execute_result",
          "data": {
            "text/html": [
              "\n",
              "        <iframe\n",
              "            width=\"100%\"\n",
              "            height=\"100%\"\n",
              "            src=\"base_network.html\"\n",
              "            frameborder=\"0\"\n",
              "            allowfullscreen\n",
              "        ></iframe>\n",
              "        "
            ],
            "text/plain": [
              "<IPython.lib.display.IFrame at 0x7f27b7b7dc10>"
            ]
          },
          "metadata": {
            "tags": []
          },
          "execution_count": 132
        }
      ]
    },
    {
      "cell_type": "code",
      "metadata": {
        "id": "jdKYjePCwunl"
      },
      "source": [
        ""
      ],
      "execution_count": 84,
      "outputs": []
    },
    {
      "cell_type": "markdown",
      "metadata": {
        "id": "gUSnmQuY5ROb"
      },
      "source": [
        "\n",
        " <br>"
      ]
    },
    {
      "cell_type": "markdown",
      "metadata": {
        "id": "AYiLXy-R4wKP"
      },
      "source": [
        "# Degree Analysis"
      ]
    },
    {
      "cell_type": "code",
      "metadata": {
        "id": "XkY4Lqom-jIe",
        "colab": {
          "base_uri": "https://localhost:8080/"
        },
        "outputId": "93fb2630-8613-4348-c9ed-068474891924"
      },
      "source": [
        "list(G.nodes())[0:20]"
      ],
      "execution_count": 337,
      "outputs": [
        {
          "output_type": "execute_result",
          "data": {
            "text/plain": [
              "['Lee Anne Wong',\n",
              " 'KFC_3',\n",
              " 'Chef Jamie Gwen',\n",
              " 'Madison Cowan',\n",
              " 'Elizabeth Karmel',\n",
              " 'KFC_22',\n",
              " 'KFC_8',\n",
              " 'Pat Neely',\n",
              " 'Logan Junior Chef',\n",
              " 'Robin Miller',\n",
              " 'Ben Sargent & Dr. Klaw',\n",
              " 'Bobby Flay',\n",
              " 'Chuck Hughes',\n",
              " 'Chef Carlo Cracco',\n",
              " 'Pasqualino Barbasso',\n",
              " 'Alessandro Borghese',\n",
              " 'Chef Hirohiko Shoda',\n",
              " 'Alain Ducasse',\n",
              " 'Christian Bau',\n",
              " 'Andy Luotto']"
            ]
          },
          "metadata": {
            "tags": []
          },
          "execution_count": 337
        }
      ]
    },
    {
      "cell_type": "code",
      "metadata": {
        "colab": {
          "base_uri": "https://localhost:8080/"
        },
        "id": "1fSQkejDn22I",
        "outputId": "10f15164-bc11-4a5e-89d3-177e47894e47"
      },
      "source": [
        "density = nx.density(G)\n",
        "print('Density: {}'.format(density))"
      ],
      "execution_count": 338,
      "outputs": [
        {
          "output_type": "stream",
          "text": [
            "Density: 0.0109541925061233\n"
          ],
          "name": "stdout"
        }
      ]
    },
    {
      "cell_type": "code",
      "metadata": {
        "id": "M0mcsMoApMPw"
      },
      "source": [
        ""
      ],
      "execution_count": 338,
      "outputs": []
    },
    {
      "cell_type": "code",
      "metadata": {
        "id": "JIXsj69-pShl",
        "colab": {
          "base_uri": "https://localhost:8080/"
        },
        "outputId": "919669db-a0e3-41cf-ff74-771a80a4112d"
      },
      "source": [
        "degree = list(dict(G.degree()).values())\n",
        "degree[0:20]"
      ],
      "execution_count": 339,
      "outputs": [
        {
          "output_type": "execute_result",
          "data": {
            "text/plain": [
              "[6, 11, 15, 2, 27, 9, 17, 2, 134, 47, 3, 31, 11, 10, 7, 10, 7, 19, 7, 3]"
            ]
          },
          "metadata": {
            "tags": []
          },
          "execution_count": 339
        }
      ]
    },
    {
      "cell_type": "code",
      "metadata": {
        "colab": {
          "base_uri": "https://localhost:8080/"
        },
        "id": "zsvqwpCEpUEF",
        "outputId": "efb183cb-2d4b-4190-9d58-b815d21e6af4"
      },
      "source": [
        "print('Standard deviation: {}'.format(np.std(degree)))\n",
        "print('Mean: {}'.format(np.mean(degree)))\n",
        "print('Median: {}'.format(np.median(degree)))\n",
        "print('Min: {}'.format(np.min(degree)))\n",
        "print('Max: {}'.format(np.max(degree)))\n",
        "\n",
        "\n",
        "print(\"Assortativity coefficient: \" + str(nx.degree_assortativity_coefficient(G)))"
      ],
      "execution_count": 340,
      "outputs": [
        {
          "output_type": "stream",
          "text": [
            "Standard deviation: 9.46914920573866\n",
            "Mean: 6.780645161290322\n",
            "Median: 4.0\n",
            "Min: 1\n",
            "Max: 134\n",
            "Assortativity coefficient: -0.028203795222469928\n"
          ],
          "name": "stdout"
        }
      ]
    },
    {
      "cell_type": "code",
      "metadata": {
        "colab": {
          "base_uri": "https://localhost:8080/",
          "height": 312
        },
        "id": "P0LheZ9uxeAi",
        "outputId": "b9e050e4-7f99-499e-b623-df9abf0988a2"
      },
      "source": [
        "import collections\n",
        "\n",
        "degree_sequence = sorted([d for n, d in G.degree()], reverse=True)  # degree sequence\n",
        "degreeCount = collections.Counter(degree_sequence)\n",
        "deg, cnt = zip(*degreeCount.items())\n",
        "\n",
        "plt.bar(deg, cnt, width=0.8, color=\"b\")\n",
        "plt.title(\"Degree Histogram\")\n",
        "plt.ylabel(\"Nodes\")\n",
        "plt.xlabel(\"Degree\")\n",
        "#in_hist= [in_degrees.values().count(x) for x in in_values]"
      ],
      "execution_count": 341,
      "outputs": [
        {
          "output_type": "execute_result",
          "data": {
            "text/plain": [
              "Text(0.5, 0, 'Degree')"
            ]
          },
          "metadata": {
            "tags": []
          },
          "execution_count": 341
        },
        {
          "output_type": "display_data",
          "data": {
            "image/png": "[encoded data removed]",
            "text/plain": [
              "<Figure size 432x288 with 1 Axes>"
            ]
          },
          "metadata": {
            "tags": [],
            "needs_background": "light"
          }
        }
      ]
    },
    {
      "cell_type": "code",
      "metadata": {
        "id": "r1PWzJLgCdQX",
        "colab": {
          "base_uri": "https://localhost:8080/",
          "height": 294
        },
        "outputId": "136723c6-b280-45dd-bb22-4d803aacd54f"
      },
      "source": [
        "plt.bar(x =cnt, height= deg)\n",
        "plt.axvline(np.array(deg).mean(), color='k', linestyle='dashed', linewidth=2)\n",
        "plt.title(\"Histogram of bottlenose dolphin network\")\n",
        "plt.xlabel('Number of connections per node')\n",
        "plt.ylabel('Frequency')\n",
        "plt.show()"
      ],
      "execution_count": 342,
      "outputs": [
        {
          "output_type": "display_data",
          "data": {
            "image/png": "[encoded data removed]",
            "text/plain": [
              "<Figure size 432x288 with 1 Axes>"
            ]
          },
          "metadata": {
            "tags": [],
            "needs_background": "light"
          }
        }
      ]
    },
    {
      "cell_type": "code",
      "metadata": {
        "colab": {
          "base_uri": "https://localhost:8080/",
          "height": 294
        },
        "id": "HUo-9A8Ty-CT",
        "outputId": "56df48ef-9905-4681-c997-21d6873827a7"
      },
      "source": [
        "plt.figure() # you need to first do 'import pylabas plt'plt.grid(True)\n",
        "plt.plot(deg,cnt,\"ro-\") # degree\n",
        "plt.legend(['Degree'])\n",
        "plt.xlabel('Degree')\n",
        "plt.ylabel('Number of nodes')\n",
        "plt.title('Network Food')\n",
        "plt.show()"
      ],
      "execution_count": 343,
      "outputs": [
        {
          "output_type": "display_data",
          "data": {
            "image/png": "[encoded data removed]",
            "text/plain": [
              "<Figure size 432x288 with 1 Axes>"
            ]
          },
          "metadata": {
            "tags": [],
            "needs_background": "light"
          }
        }
      ]
    },
    {
      "cell_type": "code",
      "metadata": {
        "colab": {
          "base_uri": "https://localhost:8080/",
          "height": 298
        },
        "id": "JN-GAIXuBa6K",
        "outputId": "c10d0633-28e0-4e1c-cf66-58322dcca236"
      },
      "source": [
        "plt.figure() # you need to first do 'import pylabas plt'plt.grid(True)\n",
        "plt.loglog(deg,cnt,\"ro-\") # degree\n",
        "plt.legend(['Degree'])\n",
        "plt.xlabel('Degree')\n",
        "plt.ylabel('Number of nodes')\n",
        "plt.title('Log Network Food')\n",
        "plt.show()"
      ],
      "execution_count": 344,
      "outputs": [
        {
          "output_type": "display_data",
          "data": {
            "image/png": "[encoded data removed]",
            "text/plain": [
              "<Figure size 432x288 with 1 Axes>"
            ]
          },
          "metadata": {
            "tags": [],
            "needs_background": "light"
          }
        }
      ]
    },
    {
      "cell_type": "markdown",
      "metadata": {
        "id": "XntfvpBl51EN"
      },
      "source": [
        "\n",
        " <br>"
      ]
    },
    {
      "cell_type": "markdown",
      "metadata": {
        "id": "ELEr1yqD5veE"
      },
      "source": [
        "### ECDF"
      ]
    },
    {
      "cell_type": "code",
      "metadata": {
        "colab": {
          "base_uri": "https://localhost:8080/",
          "height": 305
        },
        "id": "t6f32IbipWuq",
        "outputId": "9520db69-6ee8-4552-93c7-e0c9c96f3298"
      },
      "source": [
        "# ECDF linear scale\n",
        "cdf = ECDF(degree)\n",
        "x = np.unique(degree)\n",
        "y = cdf(x)\n",
        "fig_cdf = plt.figure(figsize=(8,4))\n",
        "axes = fig_cdf.gca()\n",
        "axes.plot(x,y,marker='o',ms=6, linestyle='None')\n",
        "axes.set_xlabel('Degree',size=20)\n",
        "axes.set_ylabel('ECDF Food', size = 20)"
      ],
      "execution_count": 345,
      "outputs": [
        {
          "output_type": "execute_result",
          "data": {
            "text/plain": [
              "Text(0, 0.5, 'ECDF Food')"
            ]
          },
          "metadata": {
            "tags": []
          },
          "execution_count": 345
        },
        {
          "output_type": "display_data",
          "data": {
            "image/png": "[encoded data removed]",
            "text/plain": [
              "<Figure size 576x288 with 1 Axes>"
            ]
          },
          "metadata": {
            "tags": [],
            "needs_background": "light"
          }
        }
      ]
    },
    {
      "cell_type": "code",
      "metadata": {
        "colab": {
          "base_uri": "https://localhost:8080/",
          "height": 310
        },
        "id": "85VdeXRZpbv6",
        "outputId": "6a14d638-a48f-416d-91f2-bf5ab5affa8d"
      },
      "source": [
        "\n",
        "# ECDF loglog scale\n",
        "cdf = ECDF(degree)\n",
        "x = np.unique(degree)\n",
        "y = cdf(x)\n",
        "fig_cdf = plt.figure(figsize=(8,4))\n",
        "axes = fig_cdf.gca()\n",
        "axes.loglog(x,y,marker='o',ms=8, linestyle='--')\n",
        "axes.set_xlabel('Degree',size=20)\n",
        "axes.set_ylabel('ECDF Food', size = 20)\n"
      ],
      "execution_count": 346,
      "outputs": [
        {
          "output_type": "execute_result",
          "data": {
            "text/plain": [
              "Text(0, 0.5, 'ECDF Food')"
            ]
          },
          "metadata": {
            "tags": []
          },
          "execution_count": 346
        },
        {
          "output_type": "display_data",
          "data": {
            "image/png": "[encoded data removed]",
            "text/plain": [
              "<Figure size 576x288 with 1 Axes>"
            ]
          },
          "metadata": {
            "tags": [],
            "needs_background": "light"
          }
        }
      ]
    },
    {
      "cell_type": "code",
      "metadata": {
        "colab": {
          "base_uri": "https://localhost:8080/",
          "height": 312
        },
        "id": "s9tOUCWqpivi",
        "outputId": "b90b8b7d-cc85-4234-9d7b-6fd0e117a187"
      },
      "source": [
        "# ECCDF\n",
        "cdf = ECDF(degree)\n",
        "x = np.unique(degree)\n",
        "y = cdf(x)\n",
        "fig_cdf = plt.figure(figsize=(8,4))\n",
        "axes = fig_cdf.gca()\n",
        "axes.loglog(x,1-y,marker='o',ms=8, linestyle='--')\n",
        "axes.set_xlabel('Degree',size=20)\n",
        "axes.set_ylabel('ECCDF FOOD', size = 20)"
      ],
      "execution_count": 347,
      "outputs": [
        {
          "output_type": "execute_result",
          "data": {
            "text/plain": [
              "Text(0, 0.5, 'ECCDF FOOD')"
            ]
          },
          "metadata": {
            "tags": []
          },
          "execution_count": 347
        },
        {
          "output_type": "display_data",
          "data": {
            "image/png": "[encoded data removed]",
            "text/plain": [
              "<Figure size 576x288 with 1 Axes>"
            ]
          },
          "metadata": {
            "tags": [],
            "needs_background": "light"
          }
        }
      ]
    },
    {
      "cell_type": "code",
      "metadata": {
        "id": "-NY41H7IppF7"
      },
      "source": [
        "p = density\n",
        "random_graph = nx.fast_gnp_random_graph(G.order(),p)\n"
      ],
      "execution_count": 348,
      "outputs": []
    },
    {
      "cell_type": "code",
      "metadata": {
        "colab": {
          "base_uri": "https://localhost:8080/"
        },
        "id": "TOi6WvTwpvpZ",
        "outputId": "8e566b65-9e15-44d9-bad9-5d5a47be8e63"
      },
      "source": [
        "print('Number of nodes: {}'.format(random_graph.order()))\n",
        "print('Number of links: {}'.format(random_graph.size()))"
      ],
      "execution_count": 349,
      "outputs": [
        {
          "output_type": "stream",
          "text": [
            "Number of nodes: 620\n",
            "Number of links: 2112\n"
          ],
          "name": "stdout"
        }
      ]
    },
    {
      "cell_type": "code",
      "metadata": {
        "id": "FCiK8TUYpz0W",
        "colab": {
          "base_uri": "https://localhost:8080/"
        },
        "outputId": "fc780376-25a0-4499-8bf8-5aff3dd97859"
      },
      "source": [
        "random_degree = list(dict(random_graph.degree()).values())\n",
        "print('Random Net Standard deviation: {}'.format(np.std(random_degree)))\n",
        "print('Random Net Mean: {}'.format(np.mean(random_degree)))\n",
        "print('Random Net Median: {}'.format(np.median(random_degree)))\n",
        "print('Random Net Min: {}'.format(np.min(random_degree)))\n",
        "print('Random Net Max: {}'.format(np.max(random_degree)))"
      ],
      "execution_count": 350,
      "outputs": [
        {
          "output_type": "stream",
          "text": [
            "Random Net Standard deviation: 2.535648028831807\n",
            "Random Net Mean: 6.812903225806451\n",
            "Random Net Median: 7.0\n",
            "Random Net Min: 0\n",
            "Random Net Max: 16\n"
          ],
          "name": "stdout"
        }
      ]
    },
    {
      "cell_type": "code",
      "metadata": {
        "colab": {
          "base_uri": "https://localhost:8080/",
          "height": 310
        },
        "id": "ZLzauKksp2IU",
        "outputId": "3dba4175-db8b-4c25-d3ae-faed389504d4"
      },
      "source": [
        "cdf = ECDF(degree)\n",
        "x = np.unique(degree)\n",
        "y = cdf(x)\n",
        "\n",
        "cdf_random = ECDF(random_degree)\n",
        "x_random = np.unique(random_degree)\n",
        "y_random = cdf_random(x_random)\n",
        "\n",
        "fig_cdf_fb = plt.figure(figsize=(8,4))\n",
        "axes = fig_cdf_fb.gca()\n",
        "axes.set_xscale('log')\n",
        "axes.set_yscale('log')\n",
        "axes.loglog(x,1-y,marker='o',ms=8, linestyle='--')\n",
        "axes.loglog(x_random,1-y_random,marker='+',ms=10, linestyle='--')\n",
        "axes.set_xlabel('Degree',size=20)\n",
        "axes.set_ylabel('ECCDF', size = 20)"
      ],
      "execution_count": 351,
      "outputs": [
        {
          "output_type": "execute_result",
          "data": {
            "text/plain": [
              "Text(0, 0.5, 'ECCDF')"
            ]
          },
          "metadata": {
            "tags": []
          },
          "execution_count": 351
        },
        {
          "output_type": "display_data",
          "data": {
            "image/png": "[encoded data removed]",
            "text/plain": [
              "<Figure size 576x288 with 1 Axes>"
            ]
          },
          "metadata": {
            "tags": [],
            "needs_background": "light"
          }
        }
      ]
    },
    {
      "cell_type": "markdown",
      "metadata": {
        "id": "KAqS4YcCGaLK"
      },
      "source": [
        "\n",
        " <br>"
      ]
    },
    {
      "cell_type": "markdown",
      "metadata": {
        "id": "x8IZWFFHpq9o"
      },
      "source": [
        "## HUBS"
      ]
    },
    {
      "cell_type": "code",
      "metadata": {
        "colab": {
          "base_uri": "https://localhost:8080/"
        },
        "id": "Sg72v5vSp6tB",
        "outputId": "597e4429-ba2b-46c6-c57b-395b77dfc827"
      },
      "source": [
        "percentile_99 = np.percentile(degree,99)\n",
        "print(percentile_99)"
      ],
      "execution_count": 352,
      "outputs": [
        {
          "output_type": "stream",
          "text": [
            "47.0\n"
          ],
          "name": "stdout"
        }
      ]
    },
    {
      "cell_type": "code",
      "metadata": {
        "id": "stn61tlep9e6"
      },
      "source": [
        "hub_nodi = [k for k,v in dict(G.degree()).items() if v>= percentile_99]\n"
      ],
      "execution_count": 353,
      "outputs": []
    },
    {
      "cell_type": "code",
      "metadata": {
        "colab": {
          "base_uri": "https://localhost:8080/"
        },
        "id": "OsfcPT35qCB_",
        "outputId": "13205af6-bb57-426f-a7ee-2b5d95beb1f6"
      },
      "source": [
        "print(len(hub_nodi))\n",
        "print(list(hub_nodi))"
      ],
      "execution_count": 354,
      "outputs": [
        {
          "output_type": "stream",
          "text": [
            "8\n",
            "['Logan Junior Chef', 'Robin Miller', 'Scott Conant', \"McDonald's_6\", 'Eric Ripert', 'Alex Guarnaschelli', 'David Chang', 'Chef Daniel Boulud']\n"
          ],
          "name": "stdout"
        }
      ]
    },
    {
      "cell_type": "code",
      "metadata": {
        "colab": {
          "base_uri": "https://localhost:8080/"
        },
        "id": "ZZDQ7UGBqIqX",
        "outputId": "567e48cf-b878-4674-d055-4f82c97b9a05"
      },
      "source": [
        "print(list(nx.isolates(G)))\n"
      ],
      "execution_count": 355,
      "outputs": [
        {
          "output_type": "stream",
          "text": [
            "[]\n"
          ],
          "name": "stdout"
        }
      ]
    },
    {
      "cell_type": "code",
      "metadata": {
        "id": "h0PqsuaPhait",
        "colab": {
          "base_uri": "https://localhost:8080/",
          "height": 247
        },
        "outputId": "3dd68813-4b84-4997-a3b7-b3bf26822121"
      },
      "source": [
        "# draw the graph\n",
        "pos = nx.spring_layout(G)\n",
        "# color the nodes according to their partition\n",
        "color_map = []\n",
        "size_map = []\n",
        "node_index ={}\n",
        "for i in range(0, len(names)):\n",
        "    if not (names[i] in hub_nodi) :\n",
        "        color_map.append('#222222')\n",
        "        size_map.append(20)\n",
        "    else: \n",
        "        color_map.append('lightblue')\n",
        "        size_map.append(150)\n",
        "        node_index[names[i]] = names[i]\n",
        "nx.draw_networkx_nodes(G, pos, node_size=size_map\n",
        "                       , node_color=color_map)\n",
        "nx.draw_networkx_edges(G, pos, alpha=0.5)\n",
        "nx.draw_networkx_labels(G,labels=node_index,pos = pos,font_size=8,font_color='r')\n",
        "\n",
        "plt.show()"
      ],
      "execution_count": 364,
      "outputs": [
        {
          "output_type": "display_data",
          "data": {
            "image/png": "[encoded data removed]",
            "text/plain": [
              "<Figure size 432x288 with 1 Axes>"
            ]
          },
          "metadata": {
            "tags": []
          }
        }
      ]
    },
    {
      "cell_type": "markdown",
      "metadata": {
        "id": "bYCwbh5GGYoH"
      },
      "source": [
        "\n",
        " <br>"
      ]
    },
    {
      "cell_type": "markdown",
      "metadata": {
        "id": "nsHzYEcBp8Cz"
      },
      "source": [
        "## Connectivity"
      ]
    },
    {
      "cell_type": "code",
      "metadata": {
        "colab": {
          "base_uri": "https://localhost:8080/"
        },
        "id": "uctAbGqKqVSl",
        "outputId": "50aebe11-9dfa-4ae2-c97d-b4ae6b37d433"
      },
      "source": [
        "print(nx.is_connected(G))\n",
        "print(nx.number_connected_components(G))"
      ],
      "execution_count": null,
      "outputs": [
        {
          "output_type": "stream",
          "text": [
            "True\n",
            "1\n"
          ],
          "name": "stdout"
        }
      ]
    },
    {
      "cell_type": "code",
      "metadata": {
        "id": "Ys-22v4sqYmZ"
      },
      "source": [
        ""
      ],
      "execution_count": null,
      "outputs": []
    },
    {
      "cell_type": "code",
      "metadata": {
        "id": "C_uqHiEZPZEb",
        "colab": {
          "base_uri": "https://localhost:8080/"
        },
        "outputId": "cb8be09c-12a9-462a-a588-f2fefd3a9a8b"
      },
      "source": [
        "nx.number_connected_components(G)"
      ],
      "execution_count": null,
      "outputs": [
        {
          "output_type": "execute_result",
          "data": {
            "text/plain": [
              "1"
            ]
          },
          "metadata": {
            "tags": []
          },
          "execution_count": 36
        }
      ]
    },
    {
      "cell_type": "code",
      "metadata": {
        "id": "1wX3cRDduXZe"
      },
      "source": [
        "#dir(G)"
      ],
      "execution_count": null,
      "outputs": []
    },
    {
      "cell_type": "code",
      "metadata": {
        "id": "b2_O0YjSZMjR",
        "colab": {
          "base_uri": "https://localhost:8080/"
        },
        "outputId": "cc4bc8c5-29f7-4611-eca3-c8038e0ff76e"
      },
      "source": [
        "len(nx.triangles(G))"
      ],
      "execution_count": null,
      "outputs": [
        {
          "output_type": "execute_result",
          "data": {
            "text/plain": [
              "620"
            ]
          },
          "metadata": {
            "tags": []
          },
          "execution_count": 38
        }
      ]
    },
    {
      "cell_type": "markdown",
      "metadata": {
        "id": "SdgfcGZXEI_y"
      },
      "source": [
        "\n",
        " <br>"
      ]
    },
    {
      "cell_type": "markdown",
      "metadata": {
        "id": "eMHDFzK2D3Ku"
      },
      "source": [
        "## Clusters"
      ]
    },
    {
      "cell_type": "code",
      "metadata": {
        "id": "UyQ4ciEkaPvh",
        "colab": {
          "base_uri": "https://localhost:8080/"
        },
        "outputId": "d8a1e3f9-2916-4dc2-fc63-6455da849aca"
      },
      "source": [
        "clusters = nx.average_clustering(G)\n",
        "clusters"
      ],
      "execution_count": null,
      "outputs": [
        {
          "output_type": "execute_result",
          "data": {
            "text/plain": [
              "0.3308970263553271"
            ]
          },
          "metadata": {
            "tags": []
          },
          "execution_count": 39
        }
      ]
    },
    {
      "cell_type": "code",
      "metadata": {
        "id": "yLPXd0lx9tTC",
        "colab": {
          "base_uri": "https://localhost:8080/"
        },
        "outputId": "55087c6c-045f-4c0b-b884-118655dee835"
      },
      "source": [
        "type(clusters)"
      ],
      "execution_count": null,
      "outputs": [
        {
          "output_type": "execute_result",
          "data": {
            "text/plain": [
              "float"
            ]
          },
          "metadata": {
            "tags": []
          },
          "execution_count": 40
        }
      ]
    },
    {
      "cell_type": "code",
      "metadata": {
        "id": "C5-1q7SaDtE0"
      },
      "source": [
        ""
      ],
      "execution_count": null,
      "outputs": []
    },
    {
      "cell_type": "code",
      "metadata": {
        "id": "hiPVa4vwZXaP",
        "colab": {
          "base_uri": "https://localhost:8080/"
        },
        "outputId": "df76da71-ecf1-48e7-960f-b5194656d856"
      },
      "source": [
        "nx.transitivity(G)\n"
      ],
      "execution_count": null,
      "outputs": [
        {
          "output_type": "execute_result",
          "data": {
            "text/plain": [
              "0.22264084150905228"
            ]
          },
          "metadata": {
            "tags": []
          },
          "execution_count": 41
        }
      ]
    },
    {
      "cell_type": "code",
      "metadata": {
        "colab": {
          "base_uri": "https://localhost:8080/"
        },
        "id": "FPI3sqAdEbFh",
        "outputId": "d91f50bd-71bc-4f28-d0e2-e4234ab5f2f2"
      },
      "source": [
        "\n",
        "\n",
        "local_clustering=nx.clustering(G)\n",
        "list_local_clustering=list(local_clustering.values())\n",
        "print('Mean local clustering: {}'.format(np.mean(list_local_clustering)))\n"
      ],
      "execution_count": null,
      "outputs": [
        {
          "output_type": "stream",
          "text": [
            "Mean local clustering: 0.3308970263553272\n"
          ],
          "name": "stdout"
        }
      ]
    },
    {
      "cell_type": "code",
      "metadata": {
        "id": "BazgpHhrzuYl",
        "colab": {
          "base_uri": "https://localhost:8080/"
        },
        "outputId": "a2ab8e27-2151-406c-f65e-5b51f87158bc"
      },
      "source": [
        "local_cluster = nx.clustering(G)\n",
        "sorted(local_cluster.items(), key=lambda item: item[1], reverse= False)"
      ],
      "execution_count": null,
      "outputs": [
        {
          "output_type": "execute_result",
          "data": {
            "text/plain": [
              "[('Madison Cowan', 0),\n",
              " ('Jock Zonfrillo', 0),\n",
              " ('Steve Konopelski', 0),\n",
              " ('Magnum_4', 0),\n",
              " ('Magnum_7', 0),\n",
              " ('Magnum_1', 0),\n",
              " ('Magnum_6', 0),\n",
              " ('On The Border', 0),\n",
              " ('foodpanda_5', 0),\n",
              " ('Big Fernand', 0),\n",
              " ('foodpanda_8', 0),\n",
              " (\"Dunkin' Donuts_10\", 0),\n",
              " (\"Dunkin' Donuts_5\", 0),\n",
              " ('Subway', 0),\n",
              " (\"Dunkin' Coffee\", 0),\n",
              " ('Eckart Witzigmann', 0),\n",
              " ('Boston Market', 0),\n",
              " ('Dairy Queen', 0),\n",
              " ('NishaMadhulika', 0),\n",
              " ('Chetna Makan', 0),\n",
              " ('Maria Loi', 0),\n",
              " ('Dina Nikolaou', 0),\n",
              " ('Franklin Becker', 0),\n",
              " ('Chef Rick Tramonto', 0),\n",
              " ('KFC_2', 0),\n",
              " ('foodpanda_2', 0),\n",
              " (\"McDonald's Vietnam\", 0),\n",
              " ('Bahama Breeze Island Grille', 0),\n",
              " ('Yard House', 0),\n",
              " (\"Nando's PERi-PERi\", 0),\n",
              " ('Magnum_3', 0),\n",
              " ('Thierry Rautureau', 0),\n",
              " ('Chef Guy Martin', 0),\n",
              " ('Chef Nina Compton', 0),\n",
              " ('Ravintola Salve', 0),\n",
              " ('RED Sushi and Hibachi Grill', 0),\n",
              " ('Russell Jackson', 0),\n",
              " (\"McDonald's_48\", 0),\n",
              " ('Chef Grace Ramirez', 0),\n",
              " ('Iginio Massari', 0),\n",
              " ('KFC_7', 0),\n",
              " ('Kirti Bhoutika', 0),\n",
              " ('Cadillac Bar Houston', 0),\n",
              " ('Aquarium Restaurant - Nashville', 0),\n",
              " ('Cadillac Bar Kemah', 0),\n",
              " ('T-rex Cafe', 0),\n",
              " ('Hard Rock Cafe Ibiza', 0),\n",
              " (\"Steak 'n Shake\", 0),\n",
              " ('Destino Ibiza', 0),\n",
              " ('Seasons 52', 0),\n",
              " ('Olive Garden', 0),\n",
              " (\"Eddie V's Prime Seafood\", 0),\n",
              " (\"Dick's Drive In Restaurant\", 0),\n",
              " ('Chef Sam Talbot', 0),\n",
              " ('Ochikeron', 0),\n",
              " ('Chick-fil-A', 0),\n",
              " ('משה שגב / Moshe Segev', 0),\n",
              " (\"Jimmy John's\", 0),\n",
              " ('Chef Cynthia Louise', 0),\n",
              " ('Matthew Kenney', 0),\n",
              " ('Hearth', 0),\n",
              " ('Taco Bell Careers', 0),\n",
              " ('The Habit Burger Grill', 0),\n",
              " ('Éric Frechon', 0),\n",
              " ('Diego Guerrero', 0),\n",
              " ('Emmi CAFFÈ LATTE_1', 0),\n",
              " ('Gavin Kaysen', 0),\n",
              " ('Puesto', 0),\n",
              " ('Burger Lounge', 0),\n",
              " ('Anjali Pathak', 0),\n",
              " ('Hari Ghotra', 0),\n",
              " ('The Edgy Veg', 0),\n",
              " ('Chef Jennifer Carroll', 0),\n",
              " ('Roxanne Spruance', 0),\n",
              " ('Joanna 劉韋彤', 0),\n",
              " ('MASAの料理ABC', 0),\n",
              " ('Chef Diego Lozano', 0),\n",
              " ('Burger King Nederland', 0),\n",
              " ('Burger King México', 0),\n",
              " ('Burger King Malaysia', 0),\n",
              " ('Luna Grill', 0),\n",
              " ('Zoёs Kitchen', 0),\n",
              " ('Chef Kiran Jethwa', 0),\n",
              " ('foodpanda_3', 0),\n",
              " ('foodpanda_6', 0),\n",
              " ('foodpanda_4', 0),\n",
              " ('foodpanda - 空腹熊貓', 0),\n",
              " ('foodpanda_7', 0),\n",
              " ('foodpanda_1', 0),\n",
              " (\"Hardee's Pakistan\", 0),\n",
              " (\"McDonald's_44\", 0),\n",
              " (\"Dunkin' Donuts_4\", 0),\n",
              " (\"Dunkin' Donuts_3\", 0),\n",
              " ('Chef Ana Paula', 0),\n",
              " ('Krispy Kreme UK', 0),\n",
              " ('Ben Ebbrell - Sorted Chef', 0),\n",
              " ('Michael Lomonaco', 0),\n",
              " ('Chef Jimmy Boswell', 0),\n",
              " ('KFC_26', 0),\n",
              " ('KFC_15', 0),\n",
              " ('Opry City Stage', 0),\n",
              " ('KFC_13', 0),\n",
              " ('Gaston Acurio', 0),\n",
              " (\"Papacho's\", 0),\n",
              " ('Lindsay Ann Bakes', 0),\n",
              " ('Gemma Stafford', 0),\n",
              " ('Cindy Pawlcyn', 0),\n",
              " ('DedeMed', 0),\n",
              " ('José Santaella', 0),\n",
              " ('Chef Carmen Gonzalez', 0),\n",
              " ('Clodagh McKenna', 0),\n",
              " ('KFC_4', 0),\n",
              " ('Emmi CAFFÈ LATTE_5', 0),\n",
              " ('Whataburger', 0),\n",
              " (\"Morton's The Steakhouse\", 0),\n",
              " ('Roblé', 0),\n",
              " ('Chef Jamie DeRosa', 0),\n",
              " ('Jehangir', 0),\n",
              " ('Brew Bistro and Lounge', 0),\n",
              " ('Alberto Chicote', 0),\n",
              " (\"Xi'an Famous Foods 西安名吃\", 0),\n",
              " ('Chef Natale Giunta', 0),\n",
              " ('Chef Todd Mohr', 0),\n",
              " (\"Chili's Beirut\", 0),\n",
              " ('hellofood', 0),\n",
              " ('Mary Nolan, Bon Appétit Executive Chef', 0),\n",
              " ('翠華餐廳 Tsui Wah Restaurant', 0),\n",
              " ('Nyesha Arrington', 0),\n",
              " (\"Carl's Jr. NZ\", 0),\n",
              " (\"Carl's Jr.\", 0),\n",
              " ('Ignacio Mattos', 0),\n",
              " ('KFC_1', 0),\n",
              " (\"Hardee's\", 0),\n",
              " ('Paul Qui', 0),\n",
              " (\"Lillie's Asian Cuisine\", 0),\n",
              " (\"Nando's_4\", 0),\n",
              " (\"Peohe's\", 0),\n",
              " ('Second Floor Cafe 貳樓餐飲', 0),\n",
              " (\"Dunkin' Donuts_1\", 0),\n",
              " ('La Griglia', 0),\n",
              " ('Pierre Gagnaire', 0),\n",
              " ('Noëmie Honiat Top Chef', 0),\n",
              " ('Pedro Lambertini', 0),\n",
              " ('Cucina by Wolfgang Puck', 0),\n",
              " ('Four Seasons Hotels and Resorts', 0),\n",
              " ('Sam Choy', 0),\n",
              " ('Suzanne Goin', 0),\n",
              " ('Veggie Grill', 0),\n",
              " ('Crystal Jade Palace - JW Marriott Hotel Hanoi', 0),\n",
              " ('Crystal Jade Singapore', 0),\n",
              " ('Franklin Barbecue', 0),\n",
              " ('Subway, Cayman Islands', 0),\n",
              " ('Fast Ed', 0),\n",
              " ('Red Robin Gourmet Burgers', 0),\n",
              " ('CAKE-BOY', 0),\n",
              " (\"맥도날드 (McDonald's)\", 0),\n",
              " (\"Domino's Pizza_3\", 0),\n",
              " ('Claire Robinson', 0),\n",
              " ('Dan Steph & Emmy', 0),\n",
              " ('Duff Goldman', 0),\n",
              " ('Harold Dieterle', 0),\n",
              " ('Chef Michael Smith', 0),\n",
              " (\"Chef Claudia's Cocina\", 0),\n",
              " ('Cook with Chef Duminda', 0),\n",
              " (\"Dunkin' Donuts_8\", 0),\n",
              " ('Tom Douglas Restaurants', 0),\n",
              " ('Aliya LeeKong', 0),\n",
              " ('Francesco Sole', 0),\n",
              " ('KFC_9', 0),\n",
              " ('RIBS - True American Barbecue', 0),\n",
              " ('Angelo Sosa', 0),\n",
              " (\"Famous Dave's Bar-B-Que of America\", 0),\n",
              " ('Taste of London', 0),\n",
              " (\"Tom's Kitchen\", 0),\n",
              " ('Magnum_5', 0),\n",
              " (\"'Wichcraft\", 0),\n",
              " ('Chef Rubio', 0),\n",
              " ('Outlander Kitchen', 0),\n",
              " (\"Chili's Tunisie\", 0),\n",
              " ('UMass Dining', 0),\n",
              " ('Pollo Campero Guatemala', 0),\n",
              " ('KFC_11', 0),\n",
              " ('Danny Smiles', 0),\n",
              " ('Mathieu Pacaud', 0),\n",
              " ('Chef Alex Levin', 0),\n",
              " ('FONDA MEXICANA', 0),\n",
              " ('Luke Thomas', 0),\n",
              " ('Chope_1', 0),\n",
              " ('Relais & Châteaux_1', 0),\n",
              " ('Chope_2', 0),\n",
              " ('Anis Nabilah', 0),\n",
              " ('Skinny Chef', 0),\n",
              " ('Johnny Prep', 0),\n",
              " ('Nutella Cafe Chicago', 0),\n",
              " ('KFC_21', 0),\n",
              " ('Martha Collison', 0),\n",
              " (\"McDonald's_59\", 0),\n",
              " ('Five Guys_2', 0),\n",
              " ('Chef Adrianne', 0),\n",
              " ('Norbert Tarayre', 0),\n",
              " ('Texas Roadhouse', 0),\n",
              " ('Pollo Campero El Salvador', 0),\n",
              " ('PROPERCORN', 0),\n",
              " (\"Dunkin' Donuts_2\", 0),\n",
              " ('Angel Leon Gonzalez', 0),\n",
              " ('Lío', 0),\n",
              " ('Frantzén', 0),\n",
              " (\"McDonald's_3\", 0),\n",
              " (\"McDonald's_24\", 0),\n",
              " (\"McDonald's_58\", 0),\n",
              " (\"McDonald's_20\", 0),\n",
              " (\"Dunkin' Donuts_6\", 0),\n",
              " (\"Dunkin' Donuts_7\", 0),\n",
              " ('Logan Junior Chef', 0.05331945408281286),\n",
              " (\"McDonald's_6\", 0.07130333138515488),\n",
              " ('Vicky Ratnani', 0.07142857142857142),\n",
              " ('Chef Clément', 0.07142857142857142),\n",
              " ('Spago Las Vegas', 0.07575757575757576),\n",
              " ('Wolfgang Puck', 0.0761904761904762),\n",
              " (\"Chili's Grill & Bar\", 0.1),\n",
              " ('Emmi CAFFÈ LATTE_4', 0.1),\n",
              " ('Emily Ellyn', 0.11264367816091954),\n",
              " ('Dani García', 0.11931818181818182),\n",
              " ('Graham Elliot', 0.12380952380952381),\n",
              " (\"McDonald's_51\", 0.12666666666666668),\n",
              " (\"Cristian D'Elia\", 0.12727272727272726),\n",
              " ('Fabio Viviani', 0.13186813186813187),\n",
              " ('Monti Carlo', 0.13333333333333333),\n",
              " ('Hilah Cooking', 0.13333333333333333),\n",
              " ('Chef Andrew Gruel', 0.1388888888888889),\n",
              " ('Chef Hirohiko Shoda', 0.14285714285714285),\n",
              " ('Kevin Dundon', 0.14285714285714285),\n",
              " ('Chef Billy Parisi', 0.14285714285714285),\n",
              " ('My Cupcake Addiction', 0.15151515151515152),\n",
              " (\"McDonald's_29\", 0.15270935960591134),\n",
              " ('Robin Miller', 0.15356151711378355),\n",
              " ('Matt Moran', 0.15384615384615385),\n",
              " ('Bradley Ogden', 0.15555555555555556),\n",
              " ('Chef Pete Evans', 0.16363636363636364),\n",
              " ('Alain Ducasse', 0.16374269005847952),\n",
              " ('Dean Fearing', 0.16483516483516483),\n",
              " ('George Pagonis', 0.16666666666666666),\n",
              " ('Chef Sheldon Simeon', 0.16666666666666666),\n",
              " (\"Chili's Qatar\", 0.16666666666666666),\n",
              " (\"McDonald's_47\", 0.16666666666666666),\n",
              " ('Christophe Adam', 0.16666666666666666),\n",
              " ('Ranveer Brar', 0.16666666666666666),\n",
              " ('Christian Le Squer', 0.17142857142857143),\n",
              " (\"McDonald's_1\", 0.17316017316017315),\n",
              " ('Paul Bocuse', 0.17647058823529413),\n",
              " ('Chef Sue Zemanick', 0.17777777777777778),\n",
              " ('SORTEDfood', 0.17857142857142858),\n",
              " ('foodpanda / hellofood', 0.17857142857142858),\n",
              " ('Chef Daniel Boulud', 0.18038852913968548),\n",
              " (\"McDonald's República Dominicana\", 0.18095238095238095),\n",
              " ('David Chang', 0.18181818181818182),\n",
              " ('KFC_8', 0.18382352941176472),\n",
              " ('Chef Kent Graham', 0.1849390919158361),\n",
              " ('ChefAlexander', 0.18681318681318682),\n",
              " ('Saransh Goila', 0.19047619047619047),\n",
              " ('Eric Ripert', 0.19932659932659932),\n",
              " ('Chuck Hughes', 0.2),\n",
              " ('Chef Michelle Bernstein', 0.2),\n",
              " ('Chef Casey Thompson', 0.2),\n",
              " (\"McDonald's_30\", 0.2),\n",
              " ('Eddie Jackson - FIT CHEF EDDIE', 0.2),\n",
              " ('Karen Martini', 0.2),\n",
              " ('Chef Mary Sue Milliken', 0.2),\n",
              " ('The French Laundry', 0.2),\n",
              " ('Martín Berasategui', 0.2),\n",
              " ('Christine Ha', 0.2),\n",
              " ('Chef Damaris Phillips', 0.2),\n",
              " ('Bobby Flay', 0.2021505376344086),\n",
              " ('Tom Colicchio', 0.21021021021021022),\n",
              " ('Hubert Keller', 0.2134387351778656),\n",
              " ('Gary Mehigan', 0.21428571428571427),\n",
              " ('Taste Of Paris Official', 0.21428571428571427),\n",
              " ('Hugh Acheson', 0.21666666666666667),\n",
              " ('Chef Carlo Cracco', 0.2222222222222222),\n",
              " ('Mirko Ronzoni', 0.2222222222222222),\n",
              " ('Antonino Cannavacciuolo', 0.2222222222222222),\n",
              " (\"D'O - Davide Oldani\", 0.2222222222222222),\n",
              " ('Bruno Ménard', 0.22857142857142856),\n",
              " ('Donal Skehan', 0.23076923076923078),\n",
              " ('Chef Mark Garcia', 0.23376623376623376),\n",
              " ('Roy Yamaguchi', 0.23809523809523808),\n",
              " ('Colin Fassnidge', 0.23809523809523808),\n",
              " ('Narda Lepes', 0.24166666666666667),\n",
              " ('Susan Feniger', 0.2426470588235294),\n",
              " ('Marcus Samuelsson', 0.24731182795698925),\n",
              " ('Ludo Lefebvre', 0.24761904761904763),\n",
              " (\"McDonald's_10\", 0.25),\n",
              " ('Scott Conant', 0.25019607843137254),\n",
              " ('Alex Guarnaschelli', 0.2506938020351526),\n",
              " ('Elizabeth Karmel', 0.25071225071225073),\n",
              " ('Donato De Santis', 0.2564102564102564),\n",
              " (\"Domino's Pizza_15\", 0.2597402597402597),\n",
              " ('JW Café - JW Marriott Hotel Hanoi', 0.2597402597402597),\n",
              " ('René Redzepi', 0.2605042016806723),\n",
              " ('Lee Anne Wong', 0.26666666666666666),\n",
              " ('Delverde_2', 0.26666666666666666),\n",
              " ('Marc Forgione', 0.26666666666666666),\n",
              " (\"McDonald's_45\", 0.26666666666666666),\n",
              " ('Anne-Sophie Pic', 0.26666666666666666),\n",
              " ('Bruno Barbieri', 0.26666666666666666),\n",
              " ('Bryce Shuman', 0.2714285714285714),\n",
              " ('John DeLucie', 0.2727272727272727),\n",
              " ('Chef Jet Tila', 0.2731182795698925),\n",
              " ('Chef Richard Sandoval', 0.27472527472527475),\n",
              " ('Tom Aikens', 0.27666666666666667),\n",
              " ('Alfred Portale', 0.2777777777777778),\n",
              " ('Massimo Mele', 0.2777777777777778),\n",
              " ('Pasqualino Barbasso', 0.2857142857142857),\n",
              " ('Christian Bau', 0.2857142857142857),\n",
              " ('Christophe Michalak', 0.2857142857142857),\n",
              " ('Raymond Blanc', 0.2857142857142857),\n",
              " ('Sanjeev Kapoor', 0.2857142857142857),\n",
              " ('Kunal Kapur', 0.2857142857142857),\n",
              " ('Amy Thielen', 0.2857142857142857),\n",
              " ('Nikki Dinki', 0.2857142857142857),\n",
              " ('Michel Nischan', 0.28615384615384615),\n",
              " ('Chef David Burke', 0.29004329004329005),\n",
              " ('Manu Feildel', 0.2909090909090909),\n",
              " ('Vegan Black Metal Chef', 0.2967032967032967),\n",
              " ('Chef Robert Irvine', 0.2987012987012987),\n",
              " ('Chef Maeve Rochford', 0.3),\n",
              " ('Paul Hollywood', 0.3),\n",
              " ('Simon Gault', 0.3),\n",
              " ('Chef Lorena Garcia', 0.3),\n",
              " ('John Whaite', 0.3),\n",
              " (\"Nicko's Kitchen\", 0.3),\n",
              " ('Guga Rocha', 0.3),\n",
              " ('KFC_18', 0.3),\n",
              " ('Julia Child', 0.3047619047619048),\n",
              " ('Chef Elizabeth Falkner', 0.3054187192118227),\n",
              " ('Jean-François Piège     -      Page Officielle', 0.3055555555555556),\n",
              " ('Alex Atala', 0.3055555555555556),\n",
              " (\"McDonald's_55\", 0.3055555555555556),\n",
              " ('Tim Love', 0.3111111111111111),\n",
              " ('Chef Carla Hall', 0.31521739130434784),\n",
              " ('Virginia Willis', 0.3157894736842105),\n",
              " ('Taco Bell', 0.3181818181818182),\n",
              " ('Roy Choi', 0.3181818181818182),\n",
              " ('KFC_27', 0.3181818181818182),\n",
              " ('Dining with Flynn', 0.32),\n",
              " (\"McDonald's_52\", 0.32142857142857145),\n",
              " ('Guy Savoy', 0.32142857142857145),\n",
              " ('Alessandro Borghese', 0.3333333333333333),\n",
              " (\"Roy's Restaurant\", 0.3333333333333333),\n",
              " ('Seamus Mullen', 0.3333333333333333),\n",
              " (\"Domino's Pizza_5\", 0.3333333333333333),\n",
              " (\"Nando's_1\", 0.3333333333333333),\n",
              " (\"McDonald's_15\", 0.3333333333333333),\n",
              " ('Leslie Gilliams', 0.3333333333333333),\n",
              " (\"McDonald's_38\", 0.3333333333333333),\n",
              " ('Chef Rick Moonen', 0.3333333333333333),\n",
              " ('Christophe Bacquie', 0.3333333333333333),\n",
              " ('Chef Shirley Chung', 0.3333333333333333),\n",
              " ('Chef Michael Ferraro', 0.3333333333333333),\n",
              " ('Chef Brian Duffy', 0.3333333333333333),\n",
              " ('Niko Romito', 0.3333333333333333),\n",
              " ('Audra Morrice', 0.3333333333333333),\n",
              " ('Bubba Gump Shrimp Co.', 0.3333333333333333),\n",
              " ('Chef G. Garvin', 0.3333333333333333),\n",
              " ('Simon Bryant', 0.3333333333333333),\n",
              " ('Relais & Châteaux_2', 0.3333333333333333),\n",
              " ('Olive Garden México', 0.3333333333333333),\n",
              " ('麥當勞', 0.3333333333333333),\n",
              " ('Quique Dacosta', 0.3333333333333333),\n",
              " ('Burger King Thailand', 0.3333333333333333),\n",
              " ('Susur Lee', 0.3333333333333333),\n",
              " ('Peter Kuruvita', 0.3333333333333333),\n",
              " ('Josh Marks', 0.3333333333333333),\n",
              " ('Emmi CAFFÈ LATTE_2', 0.3333333333333333),\n",
              " ('Telepizza Guatemala', 0.3333333333333333),\n",
              " ('Chef Rusty Hamlin', 0.3333333333333333),\n",
              " ('Wings', 0.3333333333333333),\n",
              " ('Emma Frisch', 0.3333333333333333),\n",
              " (\"McDonald's_31\", 0.3333333333333333),\n",
              " ('El Torito', 0.3333333333333333),\n",
              " ('Chef Ben Ford', 0.3333333333333333),\n",
              " ('Chef Dana Cohen HK', 0.3333333333333333),\n",
              " (\"McDonald's_19\", 0.3333333333333333),\n",
              " ('Barbie Marshall', 0.3333333333333333),\n",
              " (\"McDonald's_9\", 0.3333333333333333),\n",
              " ('Jacques Pépin', 0.3387096774193548),\n",
              " ('Geoffrey Zakarian', 0.34022988505747126),\n",
              " ('Chef Jamie Gwen', 0.34285714285714286),\n",
              " ('José Andrés', 0.3439153439153439),\n",
              " ('Aarón Sánchez', 0.35177865612648224),\n",
              " ('Anne Burrell', 0.3523809523809524),\n",
              " ('KFC_3', 0.3611111111111111),\n",
              " (\"McDonald's_2\", 0.37777777777777777),\n",
              " ('Per Se', 0.38095238095238093),\n",
              " ('Blue Ribbon Restaurants', 0.38095238095238093),\n",
              " ('Felicitas Pizarro', 0.38095238095238093),\n",
              " ('Jumia Food_3', 0.38095238095238093),\n",
              " ('Cook with Amber', 0.38095238095238093),\n",
              " (\"Domino's Australia\", 0.38461538461538464),\n",
              " ('Levi Eirinberg', 0.3888888888888889),\n",
              " ('Johnny Iuzzini', 0.39166666666666666),\n",
              " (\"McDonald's_56\", 0.39285714285714285),\n",
              " ('Jumia Food_8', 0.4),\n",
              " ('Ernst Knam', 0.4),\n",
              " ('Juliana Lopez May', 0.4),\n",
              " (\"Nando's_11\", 0.4),\n",
              " ('KFC_16', 0.4),\n",
              " ('Marcel Vigneron', 0.4),\n",
              " ('Spike Mendelsohn', 0.4),\n",
              " ('Stephanie Izard', 0.4),\n",
              " ('Rachel Allen', 0.4),\n",
              " (\"Manjula's Kitchen - Indian Vegetarian Recipes\", 0.4),\n",
              " (\"McDonald's_42\", 0.4),\n",
              " (\"Domino's Pizza_4\", 0.4090909090909091),\n",
              " (\"McDonald's_18\", 0.4090909090909091),\n",
              " ('Enrique Olvera', 0.4090909090909091),\n",
              " ('Chef Marc Murphy', 0.41125541125541126),\n",
              " ('KFC_22', 0.4166666666666667),\n",
              " ('Cesare Casella', 0.4166666666666667),\n",
              " ('Sang Yoon', 0.4166666666666667),\n",
              " (\"Domino's Pizza_16\", 0.4222222222222222),\n",
              " ('James Martin', 0.42857142857142855),\n",
              " (\"McDonald's_33\", 0.42857142857142855),\n",
              " (\"McDonald's_23\", 0.42857142857142855),\n",
              " ('Chart House', 0.42857142857142855),\n",
              " ('Chef Derrick Fox', 0.42857142857142855),\n",
              " ('Josh Elkin', 0.42857142857142855),\n",
              " ('KFC_23', 0.42857142857142855),\n",
              " ('Francis Mallmann', 0.42857142857142855),\n",
              " ('KFC_20', 0.43636363636363634),\n",
              " (\"Nando's_13\", 0.4444444444444444),\n",
              " ('Cuoco Filippo La Mantia', 0.4642857142857143),\n",
              " ('Michael White', 0.4642857142857143),\n",
              " ('Jumia Food_10', 0.4666666666666667),\n",
              " ('Taco Bell Cyprus', 0.4666666666666667),\n",
              " (\"McDonald's_21\", 0.4666666666666667),\n",
              " ('Karlos Arguiñano', 0.4666666666666667),\n",
              " ('Grand Concourse', 0.4696969696969697),\n",
              " ('Mei Lin', 0.47794117647058826),\n",
              " ('Jumia Food_7', 0.5),\n",
              " (\"Nando's_2\", 0.5),\n",
              " (\"Nando's_15\", 0.5),\n",
              " (\"McDonald's_16\", 0.5),\n",
              " ('KFC_10', 0.5),\n",
              " ('Chef Ben Churchill', 0.5),\n",
              " ('Magnum_2', 0.5),\n",
              " ('Brooke Williamson', 0.5),\n",
              " (\"McDonald's_13\", 0.5),\n",
              " ('Chef Marcela Valladolid', 0.5),\n",
              " ('Justin Warner', 0.5),\n",
              " ('KFC_12', 0.5),\n",
              " ('Alex French Guy Cooking', 0.5),\n",
              " ('Los Petersen Cocineros', 0.5),\n",
              " (\"McDonald's_17\", 0.5),\n",
              " ('Doug Adams', 0.5083333333333333),\n",
              " ('Daniel Humm', 0.5151515151515151),\n",
              " ('Jumia Food_2', 0.5238095238095238),\n",
              " (\"Nando's_6\", 0.5238095238095238),\n",
              " ('Dean Sheremet', 0.5238095238095238),\n",
              " ('達美樂披薩', 0.5238095238095238),\n",
              " (\"McDonald's_43\", 0.5238095238095238),\n",
              " (\"McDonald's_7\", 0.5333333333333333),\n",
              " ('Donatella Arpaia', 0.5333333333333333),\n",
              " ('Juan Mari Arzak (Página oficial)', 0.5333333333333333),\n",
              " ('Taco Bell UK', 0.5333333333333333),\n",
              " (\"McDonald's_40\", 0.5357142857142857),\n",
              " ('Kristen Kish', 0.5494505494505495),\n",
              " (\"Nando's_9\", 0.5555555555555556),\n",
              " ('Chef Charlie Palmer', 0.5555555555555556),\n",
              " (\"Domino's Pizza_9\", 0.5583333333333333),\n",
              " (\"McDonald's_39\", 0.5714285714285714),\n",
              " ('Grotto', 0.5714285714285714),\n",
              " ('Christina Tosi', 0.5777777777777777),\n",
              " (\"McDonald's Japan\", 0.6),\n",
              " (\"McDonald's_14\", 0.6),\n",
              " ('Guillaume Gomez', 0.6),\n",
              " ('Pablo Massey', 0.6),\n",
              " (\"Nando's_5\", 0.6),\n",
              " ('Santiago Giorgini', 0.6),\n",
              " ('Food Busker', 0.6),\n",
              " ('Jumia Food_4', 0.6),\n",
              " (\"McDonald's_22\", 0.6),\n",
              " (\"Domino's Pizza_20\", 0.6),\n",
              " ('KFC_25', 0.6),\n",
              " ('Germán Martitegui', 0.6071428571428571),\n",
              " (\"Nando's_3\", 0.6190476190476191),\n",
              " ('Gregory Gourdet', 0.6190476190476191),\n",
              " ('Melissa King', 0.6363636363636364),\n",
              " ('Dan Kluger', 0.6444444444444445),\n",
              " ('Andy Luotto', 0.6666666666666666),\n",
              " ('Outback Steakhouse', 0.6666666666666666),\n",
              " (\"Carrabba's Italian Grill\", 0.6666666666666666),\n",
              " ('Bonefish Grill', 0.6666666666666666),\n",
              " ('Blue Ribbon Fried Chicken', 0.6666666666666666),\n",
              " ('Zac Kara', 0.6666666666666666),\n",
              " ('Delverde_4', 0.6666666666666666),\n",
              " (\"Nando's_14\", 0.6666666666666666),\n",
              " ('Shane Delia', 0.6666666666666666),\n",
              " (\"McDonald's_25\", 0.6666666666666666),\n",
              " (\"McDonald's_46\", 0.6666666666666666),\n",
              " (\"McDonald's_5\", 0.6666666666666666),\n",
              " ('Cat Cora', 0.6666666666666666),\n",
              " ('Samin Nosrat', 0.6666666666666666),\n",
              " ('Noma', 0.6666666666666666),\n",
              " ('Celler de Can Roca', 0.6666666666666666),\n",
              " ('Chef Francois Payard', 0.6666666666666666),\n",
              " (\"Domino's Mx\", 0.6666666666666666),\n",
              " ('Carlos Bertolazzi', 0.6666666666666666),\n",
              " ('Ogro Jimmy', 0.6666666666666666),\n",
              " ('도미노피자(Dominostory)', 0.6666666666666666),\n",
              " (\"McDonald's_4\", 0.6666666666666666),\n",
              " ('KFC_19', 0.6666666666666666),\n",
              " ('Jumia Food_1', 0.6666666666666666),\n",
              " ('Cocina familiar con Javier Romero', 0.6666666666666666),\n",
              " ('Jumia Food_5', 0.6666666666666666),\n",
              " ('Sonia Peronaci', 0.6666666666666666),\n",
              " (\"McDonald's_54\", 0.6666666666666666),\n",
              " ('Chevys Fresh Mex', 0.6666666666666666),\n",
              " ('Amandine Chaignot', 0.6666666666666666),\n",
              " ('Pierre Sang Boyer Officiel', 0.6666666666666666),\n",
              " (\"Domino's Pizza_8\", 0.6666666666666666),\n",
              " (\"Domino's Pizza_10\", 0.6785714285714286),\n",
              " ('Gandy Dancer Saloon/Oyster Bar', 0.6944444444444444),\n",
              " ('Camille Becerra', 0.7),\n",
              " ('KFC_5', 0.7),\n",
              " ('Taco Bell Guatemala', 0.7142857142857143),\n",
              " (\"McDonald's_53\", 0.7333333333333333),\n",
              " (\"Domino's Pizza Türkiye\", 0.7333333333333333),\n",
              " ('Ken Oringer', 0.7454545454545455),\n",
              " ('Big Fish Seafood Bistro_2', 0.75),\n",
              " (\"Domino's Pizza_19\", 0.7564102564102564),\n",
              " (\"Domino's Pizza_17\", 0.7692307692307693),\n",
              " (\"Domino's Pizza_1\", 0.7692307692307693),\n",
              " ('Taco Bell Rep Dom', 0.8),\n",
              " ('Jumia Food_9', 0.8),\n",
              " (\"Domino's Pizza_6\", 0.8),\n",
              " ('KFC_14', 0.8),\n",
              " ('Big Fish Seafood Bistro_1', 0.8055555555555556),\n",
              " (\"McDonald's_32\", 0.8333333333333334),\n",
              " (\"McDonald's_28\", 0.8333333333333334),\n",
              " (\"McDonald's_36\", 0.8333333333333334),\n",
              " ('YANNICK ALLENO OFFICIEL', 0.8333333333333334),\n",
              " ('Harlem EatUp', 0.8333333333333334),\n",
              " ('KFC_6', 0.8333333333333334),\n",
              " (\"Domino's Pizza_2\", 0.8333333333333334),\n",
              " (\"Domino's Pizza Nigeria\", 0.8333333333333334),\n",
              " ('River Crab Blue Water Inn', 0.8571428571428571),\n",
              " ('Gandy Dancer', 0.8928571428571429),\n",
              " (\"Charley's Crab_2\", 0.8928571428571429),\n",
              " (\"Meriwether's\", 0.8928571428571429),\n",
              " (\"Domino's Pizza_14\", 0.8939393939393939),\n",
              " (\"Domino's Pizza_13\", 0.8939393939393939),\n",
              " (\"Domino's Pizza_12\", 0.8939393939393939),\n",
              " (\"Domino's Pizza_18\", 0.8939393939393939),\n",
              " (\"Dunkin' Donuts_9\", 0.9),\n",
              " ('Jose Garces', 0.9),\n",
              " (\"McDonald's_12\", 0.9),\n",
              " ('Taco Bell Panamá', 0.9333333333333333),\n",
              " ('Taco Bell Costa Rica', 0.9333333333333333),\n",
              " (\"Domino's Pizza_7\", 0.9454545454545454),\n",
              " ('Pat Neely', 1.0),\n",
              " ('Ben Sargent & Dr. Klaw', 1.0),\n",
              " ('Jumia Food_6', 1.0),\n",
              " (\"Chili's México\", 1.0),\n",
              " ('Taco Bell El Salvador', 1.0),\n",
              " ('KFC_17', 1.0),\n",
              " (\"Domino's Pizza_11\", 1.0),\n",
              " ('Delverde_1', 1.0),\n",
              " ('Delverde_3', 1.0),\n",
              " (\"Nando's_12\", 1.0),\n",
              " (\"Nando's_8\", 1.0),\n",
              " (\"McDonald's Deutschland Karriere\", 1.0),\n",
              " (\"McDonald's_37\", 1.0),\n",
              " (\"McDonald's_8\", 1.0),\n",
              " (\"McDonald's_11\", 1.0),\n",
              " ('Valentin Neraudeau', 1.0),\n",
              " ('Chef Aaron McCargo Jr', 1.0),\n",
              " ('Al Brown New Zealand Chef', 1.0),\n",
              " ('Princi', 1.0),\n",
              " ('ad hoc & addendum', 1.0),\n",
              " ('Katie Pix', 1.0),\n",
              " ('KFC_24', 1.0),\n",
              " ('Douglas Keane', 1.0),\n",
              " (\"McDonald's_57\", 1.0),\n",
              " (\"McDonald's_50\", 1.0),\n",
              " ('Taco Bell Kuwait', 1.0),\n",
              " ('タコベル ジャパン\\u3000Taco Bell Japan', 1.0),\n",
              " ('Taco Bell India', 1.0),\n",
              " ('Maru Botana', 1.0),\n",
              " ('Crepes & Waffles', 1.0),\n",
              " ('João Alcantara', 1.0),\n",
              " (\"McDonald's Paraguay\", 1.0),\n",
              " (\"McDonald's_34\", 1.0),\n",
              " ('Buddy Valastro', 1.0),\n",
              " ('Dale Talde', 1.0),\n",
              " ('Emmi CAFFÈ LATTE_3', 1.0),\n",
              " (\"Nando's_10\", 1.0),\n",
              " (\"Nando's_7\", 1.0),\n",
              " ('Marc Veyrat', 1.0),\n",
              " (\"Charley's Crab_1\", 1.0),\n",
              " ('Eduardo Palazuelos', 1.0),\n",
              " ('Red Lobster México', 1.0),\n",
              " (\"Bobby's Burger Palace\", 1.0),\n",
              " (\"McDonald's_35\", 1.0),\n",
              " (\"McDonald's_41\", 1.0),\n",
              " ('Hakim Chajar', 1.0),\n",
              " ('Ricardo Cuisine', 1.0),\n",
              " ('Acapulco', 1.0),\n",
              " ('Pescaria', 1.0),\n",
              " ('Five Guys_1', 1.0),\n",
              " ('Maneet Chauhan', 1.0),\n",
              " ('The Tuscan Gun', 1.0),\n",
              " (\"Domino's Guatemala\", 1.0),\n",
              " (\"Gino D'Acampo\", 1.0),\n",
              " ('Thomas Keller', 1.0),\n",
              " ('Eva Arguiñano', 1.0),\n",
              " ('Bruno Oteiza', 1.0),\n",
              " (\"McDonald's_26\", 1.0),\n",
              " (\"McDonald's_27\", 1.0),\n",
              " (\"McDonald's_49\", 1.0)]"
            ]
          },
          "metadata": {
            "tags": []
          },
          "execution_count": 85
        }
      ]
    },
    {
      "cell_type": "code",
      "metadata": {
        "colab": {
          "base_uri": "https://localhost:8080/"
        },
        "id": "CcbtpU04EjyJ",
        "outputId": "d80d6daf-bf3a-49bd-c18b-cf3c8a252031"
      },
      "source": [
        "triangle = nx.triangles(G)\n",
        "list(triangle.items())[0:20]\n",
        "#len(triangle)"
      ],
      "execution_count": null,
      "outputs": [
        {
          "output_type": "execute_result",
          "data": {
            "text/plain": [
              "[('Lee Anne Wong', 4),\n",
              " ('KFC_3', 13),\n",
              " ('Chef Jamie Gwen', 36),\n",
              " ('Madison Cowan', 0),\n",
              " ('Elizabeth Karmel', 88),\n",
              " ('KFC_22', 15),\n",
              " ('KFC_8', 25),\n",
              " ('Pat Neely', 1),\n",
              " ('Logan Junior Chef', 461),\n",
              " ('Robin Miller', 166),\n",
              " ('Ben Sargent & Dr. Klaw', 3),\n",
              " ('Bobby Flay', 94),\n",
              " ('Chuck Hughes', 11),\n",
              " ('Chef Carlo Cracco', 10),\n",
              " ('Pasqualino Barbasso', 6),\n",
              " ('Alessandro Borghese', 15),\n",
              " ('Chef Hirohiko Shoda', 3),\n",
              " ('Alain Ducasse', 28),\n",
              " ('Christian Bau', 6),\n",
              " ('Andy Luotto', 2)]"
            ]
          },
          "metadata": {
            "tags": []
          },
          "execution_count": 43
        }
      ]
    },
    {
      "cell_type": "code",
      "metadata": {
        "colab": {
          "base_uri": "https://localhost:8080/"
        },
        "id": "5gWiREgwyc3I",
        "outputId": "07ff1ccc-28d1-4d09-dc89-04c1a1d3a330"
      },
      "source": [
        "print(\"TOTAL number of triangles in the graph: \", sum(list(nx.triangles(G).values())))"
      ],
      "execution_count": null,
      "outputs": [
        {
          "output_type": "stream",
          "text": [
            "TOTAL number of triangles in the graph:  8805\n"
          ],
          "name": "stdout"
        }
      ]
    },
    {
      "cell_type": "markdown",
      "metadata": {
        "id": "5KNFNIWLDt7z"
      },
      "source": [
        "\n",
        " <br>"
      ]
    },
    {
      "cell_type": "markdown",
      "metadata": {
        "id": "5GtY7sh6DuFl"
      },
      "source": [
        "## Centrality\n",
        "\n"
      ]
    },
    {
      "cell_type": "code",
      "metadata": {
        "id": "F3mhnNFPgPhh",
        "colab": {
          "base_uri": "https://localhost:8080/"
        },
        "outputId": "aaab5f8b-de8a-4857-b213-af29c0cc4d9c"
      },
      "source": [
        "deg_centr = nx.degree_centrality(G)\n",
        "sort_orders = sorted(deg_centr.items(), key=lambda x: x[1], reverse=True)\n",
        "\n",
        "print(\"10 most important nodes for Degree Centrality:\")\n",
        "for i in range(10):\n",
        "  print(sort_orders[i])\n"
      ],
      "execution_count": null,
      "outputs": [
        {
          "output_type": "stream",
          "text": [
            "10 most important nodes for Degree Centrality:\n",
            "('Logan Junior Chef', 0.21647819063004847)\n",
            "(\"McDonald's_6\", 0.09531502423263329)\n",
            "('David Chang', 0.09046849757673668)\n",
            "('Eric Ripert', 0.0888529886914378)\n",
            "('Scott Conant', 0.08239095315024234)\n",
            "('Robin Miller', 0.07592891760904685)\n",
            "('Alex Guarnaschelli', 0.07592891760904685)\n",
            "('Chef Daniel Boulud', 0.07592891760904685)\n",
            "('Chef Kent Graham', 0.06946688206785137)\n",
            "('Tom Colicchio', 0.05977382875605816)\n"
          ],
          "name": "stdout"
        }
      ]
    },
    {
      "cell_type": "code",
      "metadata": {
        "id": "whZyzs7nsh3r",
        "colab": {
          "base_uri": "https://localhost:8080/"
        },
        "outputId": "ec6b8229-64d0-45be-e982-d60abf86973b"
      },
      "source": [
        "betweenesCentrality = nx.betweenness_centrality(G)\n",
        "sort_orders = sorted(betweenesCentrality.items(), key=lambda x: x[1], reverse=True)\n",
        "print(\"10 most important nodes for Betweennes Centrality:\")\n",
        "for i in range(10):\n",
        "  print(sort_orders[i])\n"
      ],
      "execution_count": null,
      "outputs": [
        {
          "output_type": "stream",
          "text": [
            "10 most important nodes for Betweennes Centrality:\n",
            "('Logan Junior Chef', 0.3499076661737777)\n",
            "(\"McDonald's_51\", 0.1619605706800918)\n",
            "(\"McDonald's_6\", 0.14456288292404343)\n",
            "('Subway', 0.09327260616363368)\n",
            "('Chef Robert Irvine', 0.09141807568331686)\n",
            "('foodpanda - 空腹熊貓', 0.07911166993681569)\n",
            "('Dani García', 0.07229884637101391)\n",
            "('達美樂披薩', 0.05838784338316884)\n",
            "('Marcus Samuelsson', 0.057229302697032476)\n",
            "('Chef Lorena Garcia', 0.057020665866287595)\n"
          ],
          "name": "stdout"
        }
      ]
    },
    {
      "cell_type": "code",
      "metadata": {
        "id": "R8x--vrLCPLa",
        "colab": {
          "base_uri": "https://localhost:8080/"
        },
        "outputId": "324dabcc-0e2b-4688-fcea-017163b2e445"
      },
      "source": [
        "eigen = nx.eigenvector_centrality(G)\n",
        "sort_orders = sorted(eigen.items(), key=lambda x: x[1], reverse=True)\n",
        "print(\"10 most important nodes for Eigenvector Centrality:\")\n",
        "for i in range(10):\n",
        "  print(sort_orders[i])\n"
      ],
      "execution_count": null,
      "outputs": [
        {
          "output_type": "stream",
          "text": [
            "10 most important nodes for Eigenvector Centrality:\n",
            "('Logan Junior Chef', 0.3257521783526796)\n",
            "('Scott Conant', 0.2212476362249716)\n",
            "('Eric Ripert', 0.21990111769744997)\n",
            "('David Chang', 0.2073087464245374)\n",
            "('Alex Guarnaschelli', 0.20600750503290316)\n",
            "('Robin Miller', 0.18493902862814815)\n",
            "('Chef Kent Graham', 0.17958444309886806)\n",
            "('Chef Daniel Boulud', 0.17605019181207027)\n",
            "('Jacques Pépin', 0.16176590042363934)\n",
            "('René Redzepi', 0.15717739346300846)\n"
          ],
          "name": "stdout"
        }
      ]
    },
    {
      "cell_type": "code",
      "metadata": {
        "id": "ZXafFd7cjc9_",
        "colab": {
          "base_uri": "https://localhost:8080/"
        },
        "outputId": "559822e4-6c22-452f-d1c1-28af636a7323"
      },
      "source": [
        "pagerank = nx.pagerank(G)\n",
        "sort_orders = sorted(pagerank.items(), key=lambda x: x[1], reverse=True)\n",
        "print(\"10 most important nodes for Page Rank:\")\n",
        "for i in range(10):\n",
        "  print(sort_orders[i])"
      ],
      "execution_count": null,
      "outputs": [
        {
          "output_type": "stream",
          "text": [
            "10 most important nodes for Page Rank:\n",
            "('Logan Junior Chef', 0.025287363082514766)\n",
            "(\"McDonald's_6\", 0.014547869032715707)\n",
            "('David Chang', 0.008860842463979819)\n",
            "('Eric Ripert', 0.008394578695731944)\n",
            "('Scott Conant', 0.00765590500196909)\n",
            "('Chef Daniel Boulud', 0.007613723777791042)\n",
            "('Robin Miller', 0.007566138546930535)\n",
            "('Dani García', 0.007270498839968533)\n",
            "(\"McDonald's_29\", 0.007234882262368256)\n",
            "('Alex Guarnaschelli', 0.007152129703475652)\n"
          ],
          "name": "stdout"
        }
      ]
    },
    {
      "cell_type": "code",
      "metadata": {
        "id": "y3QaV4BvDc-p"
      },
      "source": [
        ""
      ],
      "execution_count": null,
      "outputs": []
    },
    {
      "cell_type": "code",
      "metadata": {
        "id": "wkLyZWZZDldG"
      },
      "source": [
        ""
      ],
      "execution_count": null,
      "outputs": []
    },
    {
      "cell_type": "markdown",
      "metadata": {
        "id": "1VmuowQtE_jJ"
      },
      "source": [
        "\n",
        " <br>"
      ]
    },
    {
      "cell_type": "markdown",
      "metadata": {
        "id": "K9YtqVmfFAjk"
      },
      "source": [
        "## Communities\n"
      ]
    },
    {
      "cell_type": "code",
      "metadata": {
        "colab": {
          "base_uri": "https://localhost:8080/"
        },
        "id": "Rs36FKE2FAAz",
        "outputId": "69e61fe6-9209-459d-ff11-d1ae857d710d"
      },
      "source": [
        "import networkx.algorithms.community as nx_comm\n",
        "\n",
        "import community as community_louvain\n",
        "import matplotlib.cm as cm\n",
        "import matplotlib.pyplot as plt\n",
        "import networkx as nx\n",
        "\n",
        "list_community_sets_greedy = list(nx_comm.greedy_modularity_communities(G))\n",
        "print(list_community_sets_greedy[0:20])"
      ],
      "execution_count": null,
      "outputs": [
        {
          "output_type": "stream",
          "text": [
            "[frozenset({'Suzanne Goin', 'Dina Nikolaou', \"'Wichcraft\", 'Kirti Bhoutika', 'Pablo Massey', 'Maru Botana', 'Chef Kent Graham', 'Scott Conant', 'Maria Loi', 'Crepes & Waffles', 'Chef Aaron McCargo Jr', 'Cook with Chef Duminda', 'Donato De Santis', 'Angel Leon Gonzalez', 'Quique Dacosta', 'Martín Berasategui', 'Chef Michael Smith', 'Elizabeth Karmel', 'Maneet Chauhan', 'Guga Rocha', 'Doug Adams', 'Bobby Flay', 'Daniel Humm', 'Geoffrey Zakarian', 'Julia Child', 'Chef Alex Levin', 'Gregory Gourdet', 'Chef Ben Churchill', 'Tom Colicchio', 'Marcus Samuelsson', \"Chef Claudia's Cocina\", 'Jehangir', 'Pedro Lambertini', 'Pat Neely', 'Buddy Valastro', 'Dean Sheremet', 'Logan Junior Chef', 'Virginia Willis', 'Johnny Iuzzini', \"Bobby's Burger Palace\", 'Chef Brian Duffy', 'Chef Elizabeth Falkner', 'René Redzepi', 'Alex Guarnaschelli', 'Donatella Arpaia', 'Chef Carmen Gonzalez', 'Luke Thomas', 'Chef Casey Thompson', 'Aarón Sánchez', 'Diego Guerrero', 'Chef Mark Garcia', 'Chef Rick Tramonto', 'Chef Ben Ford', \"Xi'an Famous Foods 西安名吃\", 'Chef Mary Sue Milliken', 'Enrique Olvera', 'Magnum_2', 'Nyesha Arrington', 'Chef Michael Ferraro', 'Matthew Kenney', 'Brooke Williamson', 'Eduardo Palazuelos', 'Francis Mallmann', 'Josh Elkin', 'Michael Lomonaco', 'Paul Qui', 'Cat Cora', 'Bradley Ogden', 'Douglas Keane', 'The Tuscan Gun', 'João Alcantara', 'Mei Lin', 'Chef Robert Irvine', 'Chef Jennifer Carroll', 'Chef Richard Sandoval', 'Michael White', 'Melissa King', 'Gavin Kaysen', 'DedeMed', 'Chef Marcela Valladolid', 'Roy Choi', 'Jose Garces', 'Los Petersen Cocineros', 'Michel Nischan', 'Eric Ripert', 'Chef Michelle Bernstein', 'UMass Dining', 'Chef Carla Hall', 'Marcel Vigneron', 'Chef Marc Murphy', 'Bryce Shuman', 'Chef Nina Compton', 'Samin Nosrat', 'Robin Miller', 'Chef Lorena Garcia', 'Chef Cynthia Louise', 'Christina Tosi', 'Red Robin Gourmet Burgers', 'David Chang', 'Five Guys_1', 'Sang Yoon', 'Frantzén', 'Camille Becerra', 'Ogro Jimmy', 'Juliana Lopez May', \"Dunkin' Donuts_9\", 'Chef Diego Lozano', 'Chef Ana Paula', 'Seamus Mullen', 'Harold Dieterle', 'Narda Lepes', 'Harlem EatUp', 'Franklin Becker', 'Marc Forgione', 'Vegan Black Metal Chef', 'Ken Oringer', 'Chef Jet Tila', 'Chef Sue Zemanick', 'Kristen Kish', 'Dan Kluger', 'Hubert Keller', 'Anne Burrell', 'Jacques Pépin', 'Dean Fearing', 'Santiago Giorgini', 'Aliya LeeKong', 'José Andrés', 'Cesare Casella', 'Fabio Viviani', 'Chef Kiran Jethwa', 'Dale Talde', 'Hugh Acheson', 'Cocina familiar con Javier Romero', 'Dining with Flynn', 'Dani García', 'Angelo Sosa', 'Amy Thielen', 'John DeLucie', 'Chef Jamie Gwen', 'Blue Ribbon Fried Chicken', \"D'O - Davide Oldani\", 'Carlos Bertolazzi', 'Stephanie Izard', 'Tim Love', 'Claire Robinson', 'Veggie Grill', 'Chef Rick Moonen', 'Chef David Burke', 'Franklin Barbecue', 'Levi Eirinberg', 'Chef Shirley Chung', 'Blue Ribbon Restaurants', 'Ludo Lefebvre', 'Chef G. Garvin', 'Tom Aikens', 'Chef Daniel Boulud', 'NishaMadhulika', 'Alfred Portale', 'Chef Francois Payard', 'Alex Atala', 'Chef Charlie Palmer', 'Susan Feniger', 'Germán Martitegui', 'John Whaite'}), frozenset({\"McDonald's_42\", \"McDonald's_59\", \"McDonald's_20\", \"McDonald's_5\", '麥當勞', \"McDonald's_16\", \"McDonald's_54\", \"McDonald's_41\", \"McDonald's_10\", \"McDonald's_18\", \"McDonald's_35\", \"McDonald's_25\", \"McDonald's_40\", \"McDonald's Paraguay\", 'Lío', \"McDonald's_8\", \"McDonald's_28\", \"McDonald's_37\", 'Nutella Cafe Chicago', \"McDonald's Deutschland Karriere\", \"McDonald's_24\", \"McDonald's_26\", \"McDonald's_12\", \"맥도날드 (McDonald's)\", \"McDonald's_4\", \"McDonald's_38\", \"McDonald's_36\", \"McDonald's_22\", \"McDonald's República Dominicana\", \"McDonald's_13\", \"McDonald's_14\", \"McDonald's_30\", \"McDonald's_43\", \"McDonald's Japan\", \"McDonald's Vietnam\", \"McDonald's_46\", \"McDonald's_21\", \"McDonald's_52\", \"McDonald's_45\", \"McDonald's_7\", \"McDonald's_53\", \"McDonald's_1\", \"McDonald's_6\", \"Steak 'n Shake\", \"McDonald's_32\", \"McDonald's_55\", \"McDonald's_44\", \"McDonald's_57\", \"McDonald's_34\", \"McDonald's_15\", \"McDonald's_47\", \"McDonald's_23\", \"McDonald's_49\", \"McDonald's_31\", \"McDonald's_29\", \"McDonald's_51\", \"McDonald's_17\", \"McDonald's_27\", \"McDonald's_2\", \"McDonald's_9\", \"McDonald's_56\", 'Hard Rock Cafe Ibiza', \"McDonald's_48\", 'Alberto Chicote', \"McDonald's_33\", 'Destino Ibiza', \"McDonald's_50\", \"McDonald's_3\", \"McDonald's_39\", \"McDonald's_11\", \"McDonald's_58\", \"McDonald's_19\"}), frozenset({'Chef Andrew Gruel', 'Hakim Chajar', 'משה שגב / Moshe Segev', 'Graham Elliot', 'Texas Roadhouse', 'Chick-fil-A', \"Jimmy John's\", 'Cindy Pawlcyn', 'Saransh Goila', 'Spike Mendelsohn', 'Zac Kara', 'Chef Rubio', 'Duff Goldman', 'Spago Las Vegas', 'Chef Todd Mohr', 'Russell Jackson', 'Hearth', 'Chef Dana Cohen HK', 'Ben Sargent & Dr. Klaw', 'Chef Rusty Hamlin', 'MASAの料理ABC', \"Nicko's Kitchen\", 'Colin Fassnidge', 'Ochikeron', 'Justin Warner', 'Josh Marks', 'Leslie Gilliams', 'Emily Ellyn', 'Chef Billy Parisi', 'Roblé', 'Chef Clément', 'ChefAlexander', 'Christine Ha', 'The Edgy Veg', 'Hilah Cooking', 'Danny Smiles', 'Vicky Ratnani', 'Nikki Dinki', 'Barbie Marshall', 'Ricardo Cuisine', 'Sanjeev Kapoor', \"Famous Dave's Bar-B-Que of America\", 'Eddie Jackson - FIT CHEF EDDIE', 'Chuck Hughes', 'José Santaella', 'Five Guys_2', \"Manjula's Kitchen - Indian Vegetarian Recipes\", 'Chef Derrick Fox', 'Ranveer Brar', 'Joanna 劉韋彤', 'Monti Carlo', 'Chef Damaris Phillips', 'Chef Sam Talbot'}), frozenset({\"Nando's_10\", 'Pescaria', 'Big Fernand', \"Nando's_12\", \"Dunkin' Donuts_10\", \"Nando's_3\", 'El Torito', \"Nando's_11\", 'Burger King México', 'Acapulco', 'foodpanda_5', \"Nando's_6\", 'Chevys Fresh Mex', 'Subway', \"Nando's_9\", \"Chili's Qatar\", \"Chili's Grill & Bar\", 'foodpanda_4', \"Chili's México\", \"Chili's Beirut\", 'foodpanda_2', \"Chili's Tunisie\", 'foodpanda_1', 'On The Border', 'KFC_21', '翠華餐廳 Tsui Wah Restaurant', 'Burger King Nederland', \"Nando's_5\", \"Nando's_4\", \"Nando's_2\", \"Nando's_7\", 'foodpanda_8', \"Nando's_8\", \"Nando's_13\", 'Subway, Cayman Islands', \"Nando's PERi-PERi\", \"Nando's_1\", 'foodpanda_6', 'foodpanda_7', 'foodpanda - 空腹熊貓', 'Second Floor Cafe 貳樓餐飲', \"Dunkin' Coffee\", \"Nando's_15\", 'foodpanda_3', 'Burger King Malaysia', \"Nando's_14\"}), frozenset({'Pasqualino Barbasso', 'Noma', 'Peter Kuruvita', 'Ernst Knam', 'Chef Grace Ramirez', 'Chef Jimmy Boswell', 'Jock Zonfrillo', 'Al Brown New Zealand Chef', 'Mirko Ronzoni', 'Manu Feildel', 'Raymond Blanc', 'Simon Gault', \"Cristian D'Elia\", 'Sonia Peronaci', 'Chef Pete Evans', 'Magnum_3', 'Iginio Massari', 'Karen Martini', 'Chef Natale Giunta', 'Antonino Cannavacciuolo', 'Massimo Mele', 'Matt Moran', 'Alessandro Borghese', 'Dan Steph & Emmy', 'Cuoco Filippo La Mantia', 'Bruno Barbieri', 'Andy Luotto', 'Shane Delia', 'Francesco Sole', 'Christian Bau', 'Chef Hirohiko Shoda', 'Fast Ed', 'Niko Romito', 'Chef Carlo Cracco', 'Relais & Châteaux_2', 'Ignacio Mattos', 'Simon Bryant'}), frozenset({'Big Fish Seafood Bistro_2', \"Dunkin' Donuts_8\", 'Cadillac Bar Houston', 'Chart House', \"Peohe's\", \"Lillie's Asian Cuisine\", 'Gandy Dancer Saloon/Oyster Bar', 'Bubba Gump Shrimp Co.', \"Dunkin' Donuts_5\", 'Grand Concourse', \"Dunkin' Donuts_3\", \"Dunkin' Donuts_1\", 'Wolfgang Puck', 'Grotto', 'River Crab Blue Water Inn', \"Charley's Crab_1\", \"Morton's The Steakhouse\", \"Dunkin' Donuts_7\", 'Ravintola Salve', 'Gandy Dancer', 'Cucina by Wolfgang Puck', 'Big Fish Seafood Bistro_1', 'Aquarium Restaurant - Nashville', 'RED Sushi and Hibachi Grill', 'Chef Maeve Rochford', 'Four Seasons Hotels and Resorts', \"Dunkin' Donuts_2\", 'Steve Konopelski', \"Charley's Crab_2\", 'Cadillac Bar Kemah', 'La Griglia', 'Sam Choy', \"Meriwether's\", \"Dunkin' Donuts_4\", \"Dunkin' Donuts_6\", 'T-rex Cafe'}), frozenset({'YANNICK ALLENO OFFICIEL', 'Paul Bocuse', 'Amandine Chaignot', 'Christian Le Squer', 'Thierry Rautureau', 'Pierre Sang Boyer Officiel', 'Guillaume Gomez', 'Taste Of Paris Official', 'Christophe Michalak', 'Anne-Sophie Pic', 'PROPERCORN', 'Christophe Bacquie', 'Mathieu Pacaud', 'Gary Mehigan', 'Éric Frechon', 'Jean-François Piège     -      Page Officielle', 'Chef Guy Martin', 'Eckart Witzigmann', 'Marc Veyrat', 'Roxanne Spruance', 'Christophe Adam', 'Audra Morrice', 'Noëmie Honiat Top Chef', 'Alain Ducasse', 'Taste of London', \"Tom's Kitchen\", 'Pierre Gagnaire', 'Susur Lee', 'Bruno Ménard', 'Norbert Tarayre', 'KFC_2', 'Valentin Neraudeau', 'Guy Savoy'}), frozenset({'達美樂披薩', \"Domino's Pizza_20\", \"Domino's Pizza_17\", \"Domino's Pizza_6\", \"Domino's Pizza_1\", 'Magnum_1', \"Domino's Pizza_18\", \"Domino's Pizza_16\", '도미노피자(Dominostory)', \"Domino's Pizza_5\", 'KFC_17', \"Domino's Pizza_9\", \"Domino's Guatemala\", \"Domino's Australia\", 'Magnum_6', \"Domino's Pizza_3\", \"Domino's Pizza_15\", \"Domino's Pizza_12\", 'JW Café - JW Marriott Hotel Hanoi', \"Domino's Pizza_2\", \"Domino's Pizza_10\", \"Domino's Pizza Türkiye\", \"Domino's Pizza Nigeria\", \"Domino's Pizza_7\", \"Domino's Mx\", \"Domino's Pizza_13\", \"Domino's Pizza_19\", \"Domino's Pizza_11\", \"Domino's Pizza_14\", \"Domino's Pizza_4\", \"Domino's Pizza_8\"}), frozenset({'Rachel Allen', 'Emma Frisch', 'Paul Hollywood', 'George Pagonis', 'Magnum_4', 'Donal Skehan', 'Clodagh McKenna', 'Felicitas Pizarro', 'Kevin Dundon', 'Magnum_7', 'SORTEDfood', 'Outlander Kitchen', 'Hari Ghotra', 'Kunal Kapur', 'Food Busker', 'Cook with Amber', 'My Cupcake Addiction', 'Anis Nabilah', 'Lindsay Ann Bakes', 'Magnum_5', 'Martha Collison', 'Alex French Guy Cooking', \"Gino D'Acampo\", 'James Martin', 'CAKE-BOY', 'Chetna Makan', 'Gemma Stafford', 'Tom Douglas Restaurants', 'Anjali Pathak', 'Ben Ebbrell - Sorted Chef', 'Krispy Kreme UK'}), frozenset({'KFC_20', 'KFC_23', 'KFC_5', 'KFC_8', 'KFC_26', 'KFC_13', 'KFC_24', 'KFC_9', 'KFC_7', 'KFC_16', \"Carl's Jr.\", 'KFC_3', 'KFC_27', 'Lee Anne Wong', \"Hardee's Pakistan\", 'KFC_14', \"Hardee's\", 'KFC_22', 'KFC_19', 'Opry City Stage', 'KFC_25', 'KFC_15', 'Madison Cowan', 'KFC_10', 'KFC_12', 'KFC_6', 'KFC_1', \"Carl's Jr. NZ\", 'KFC_18', 'KFC_11'}), frozenset({'Wings', 'Outback Steakhouse', 'FONDA MEXICANA', 'Roy Yamaguchi', 'Red Lobster México', 'Olive Garden México', 'Seasons 52', 'Yard House', \"Carrabba's Italian Grill\", 'Burger King Thailand', 'Bonefish Grill', 'Chef Sheldon Simeon', 'Bahama Breeze Island Grille', \"Eddie V's Prime Seafood\", \"Roy's Restaurant\", 'Olive Garden', \"Dick's Drive In Restaurant\"}), frozenset({'Taco Bell UK', 'Taco Bell Panamá', 'Taco Bell Costa Rica', 'Taco Bell Cyprus', 'Taco Bell Guatemala', 'タコベル ジャパン\\u3000Taco Bell Japan', 'Taco Bell India', 'Boston Market', 'Dairy Queen', 'Pollo Campero El Salvador', 'Taco Bell El Salvador', 'Telepizza Guatemala', 'Taco Bell Careers', 'Taco Bell Rep Dom', 'Taco Bell', 'Taco Bell Kuwait', 'Pollo Campero Guatemala'}), frozenset({'Jumia Food_7', 'Jumia Food_4', 'Jumia Food_10', 'Jumia Food_9', 'Jumia Food_6', 'Jumia Food_8', 'Jumia Food_3', 'Jumia Food_2', 'hellofood', 'Brew Bistro and Lounge', 'Jumia Food_1', 'foodpanda / hellofood', 'Jumia Food_5'}), frozenset({'Emmi CAFFÈ LATTE_2', 'Emmi CAFFÈ LATTE_3', 'Emmi CAFFÈ LATTE_4', 'KFC_4', 'Emmi CAFFÈ LATTE_1', 'Emmi CAFFÈ LATTE_5'}), frozenset({'The French Laundry', 'Katie Pix', 'Per Se', 'Princi', 'Thomas Keller', 'ad hoc & addendum'}), frozenset({'Bruno Oteiza', 'Celler de Can Roca', 'Karlos Arguiñano', 'Juan Mari Arzak (Página oficial)', 'Eva Arguiñano', 'RIBS - True American Barbecue'}), frozenset({'Puesto', 'The Habit Burger Grill', 'Zoёs Kitchen', 'Luna Grill', 'Burger Lounge'}), frozenset({'Delverde_4', 'Delverde_1', 'Mary Nolan, Bon Appétit Executive Chef', 'Delverde_3', 'Delverde_2'}), frozenset({'Chope_1', 'Chope_2', 'Crystal Jade Palace - JW Marriott Hotel Hanoi', 'Relais & Châteaux_1', 'Crystal Jade Singapore'}), frozenset({'Gaston Acurio', \"Papacho's\", 'Whataburger'})]\n"
          ],
          "name": "stdout"
        }
      ]
    },
    {
      "cell_type": "code",
      "metadata": {
        "colab": {
          "base_uri": "https://localhost:8080/"
        },
        "id": "dpX6TPImFXDd",
        "outputId": "dcee8efe-c17d-488c-82fc-fb2f4df13f0c"
      },
      "source": [
        "partition_greedy = {}\n",
        "for i, comm in enumerate(list_community_sets_greedy):\n",
        "    print(\"Community:\", i)\n",
        "    print(\"Number of elems\",len(comm))\n",
        "    for n in comm:\n",
        "        partition_greedy[n]=i"
      ],
      "execution_count": null,
      "outputs": [
        {
          "output_type": "stream",
          "text": [
            "Community: 0\n",
            "Number of elems 164\n",
            "Community: 1\n",
            "Number of elems 72\n",
            "Community: 2\n",
            "Number of elems 53\n",
            "Community: 3\n",
            "Number of elems 46\n",
            "Community: 4\n",
            "Number of elems 37\n",
            "Community: 5\n",
            "Number of elems 36\n",
            "Community: 6\n",
            "Number of elems 33\n",
            "Community: 7\n",
            "Number of elems 31\n",
            "Community: 8\n",
            "Number of elems 31\n",
            "Community: 9\n",
            "Number of elems 30\n",
            "Community: 10\n",
            "Number of elems 17\n",
            "Community: 11\n",
            "Number of elems 17\n",
            "Community: 12\n",
            "Number of elems 13\n",
            "Community: 13\n",
            "Number of elems 6\n",
            "Community: 14\n",
            "Number of elems 6\n",
            "Community: 15\n",
            "Number of elems 6\n",
            "Community: 16\n",
            "Number of elems 5\n",
            "Community: 17\n",
            "Number of elems 5\n",
            "Community: 18\n",
            "Number of elems 5\n",
            "Community: 19\n",
            "Number of elems 3\n",
            "Community: 20\n",
            "Number of elems 2\n",
            "Community: 21\n",
            "Number of elems 2\n"
          ],
          "name": "stdout"
        }
      ]
    },
    {
      "cell_type": "code",
      "metadata": {
        "colab": {
          "base_uri": "https://localhost:8080/"
        },
        "id": "0RmeDUIiFfhd",
        "outputId": "76b3b342-6b29-4b0a-fc7f-32f173adc4e2"
      },
      "source": [
        "print(list(partition_greedy.items())[0:20])"
      ],
      "execution_count": null,
      "outputs": [
        {
          "output_type": "stream",
          "text": [
            "[('Suzanne Goin', 0), ('Dina Nikolaou', 0), (\"'Wichcraft\", 0), ('Kirti Bhoutika', 0), ('Pablo Massey', 0), ('Maru Botana', 0), ('Chef Kent Graham', 0), ('Scott Conant', 0), ('Maria Loi', 0), ('Crepes & Waffles', 0), ('Chef Aaron McCargo Jr', 0), ('Cook with Chef Duminda', 0), ('Donato De Santis', 0), ('Angel Leon Gonzalez', 0), ('Quique Dacosta', 0), ('Martín Berasategui', 0), ('Chef Michael Smith', 0), ('Elizabeth Karmel', 0), ('Maneet Chauhan', 0), ('Guga Rocha', 0)]\n"
          ],
          "name": "stdout"
        }
      ]
    },
    {
      "cell_type": "code",
      "metadata": {
        "colab": {
          "base_uri": "https://localhost:8080/",
          "height": 248
        },
        "id": "MeJ1STUKRtc5",
        "outputId": "9062a673-c415-4777-92a0-d7f82d425dd2"
      },
      "source": [
        "# draw the graph\n",
        "pos = nx.spring_layout(G)\n",
        "# color the nodes according to their partition\n",
        "cmap = cm.get_cmap('tab20', max(partition_greedy.values()) + 1)\n",
        "nx.draw_networkx_nodes(G, pos, partition_greedy.keys(), node_size=20,\n",
        "                       cmap=cmap, node_color=list(partition_greedy.values()))\n",
        "nx.draw_networkx_edges(G, pos, alpha=0.5)\n",
        "plt.show()"
      ],
      "execution_count": null,
      "outputs": [
        {
          "output_type": "display_data",
          "data": {
            "image/png": "[encoded data removed]",
            "text/plain": [
              "<Figure size 432x288 with 1 Axes>"
            ]
          },
          "metadata": {
            "tags": []
          }
        }
      ]
    },
    {
      "cell_type": "code",
      "metadata": {
        "id": "lBIznJC6Ni2n"
      },
      "source": [
        ""
      ],
      "execution_count": null,
      "outputs": []
    },
    {
      "cell_type": "code",
      "metadata": {
        "id": "4GiwPnExNvhO"
      },
      "source": [
        "partition_library = community_louvain.best_partition(G)"
      ],
      "execution_count": null,
      "outputs": []
    },
    {
      "cell_type": "code",
      "metadata": {
        "id": "JUzWNtblnH3I",
        "colab": {
          "base_uri": "https://localhost:8080/"
        },
        "outputId": "48c94eca-8eec-4751-b860-f28c0d4199d2"
      },
      "source": [
        "partition_library"
      ],
      "execution_count": null,
      "outputs": [
        {
          "output_type": "execute_result",
          "data": {
            "text/plain": [
              "{' ': 0,\n",
              " \"'Wichcraft\": 1,\n",
              " 'A': 0,\n",
              " 'Aarón Sánchez': 1,\n",
              " 'Acapulco': 6,\n",
              " 'Al Brown New Zealand Chef': 3,\n",
              " 'Alain Ducasse': 4,\n",
              " 'Alberto Chicote': 13,\n",
              " 'Alessandro Borghese': 3,\n",
              " 'Alex Atala': 13,\n",
              " 'Alex French Guy Cooking': 2,\n",
              " 'Alex Guarnaschelli': 1,\n",
              " 'Alfred Portale': 1,\n",
              " 'Aliya LeeKong': 2,\n",
              " 'Amandine Chaignot': 4,\n",
              " 'Amy Thielen': 1,\n",
              " 'Andy Luotto': 3,\n",
              " 'Angel Leon Gonzalez': 13,\n",
              " 'Angelo Sosa': 1,\n",
              " 'Anis Nabilah': 2,\n",
              " 'Anjali Pathak': 14,\n",
              " 'Anne Burrell': 1,\n",
              " 'Anne-Sophie Pic': 4,\n",
              " 'Antonino Cannavacciuolo': 3,\n",
              " 'Aquarium Restaurant - Nashville': 16,\n",
              " 'Audra Morrice': 3,\n",
              " 'Bahama Breeze Island Grille': 8,\n",
              " 'Barbie Marshall': 2,\n",
              " 'Ben Ebbrell - Sorted Chef': 2,\n",
              " 'Ben Sargent & Dr. Klaw': 2,\n",
              " 'Big Fernand': 6,\n",
              " 'Big Fish Seafood Bistro_1': 16,\n",
              " 'Big Fish Seafood Bistro_2': 16,\n",
              " 'Blue Ribbon Fried Chicken': 1,\n",
              " 'Blue Ribbon Restaurants': 1,\n",
              " 'Bobby Flay': 1,\n",
              " \"Bobby's Burger Palace\": 2,\n",
              " 'Bonefish Grill': 8,\n",
              " 'Boston Market': 11,\n",
              " 'Bradley Ogden': 1,\n",
              " 'Brew Bistro and Lounge': 6,\n",
              " 'Brooke Williamson': 1,\n",
              " 'Bruno Barbieri': 3,\n",
              " 'Bruno Ménard': 4,\n",
              " 'Bruno Oteiza': 13,\n",
              " 'Bryce Shuman': 1,\n",
              " 'Bubba Gump Shrimp Co.': 16,\n",
              " 'Buddy Valastro': 2,\n",
              " 'Burger King Malaysia': 15,\n",
              " 'Burger King México': 15,\n",
              " 'Burger King Nederland': 15,\n",
              " 'Burger King Thailand': 8,\n",
              " 'Burger Lounge': 9,\n",
              " 'CAKE-BOY': 2,\n",
              " 'Cadillac Bar Houston': 16,\n",
              " 'Cadillac Bar Kemah': 16,\n",
              " 'Camille Becerra': 1,\n",
              " \"Carl's Jr.\": 14,\n",
              " \"Carl's Jr. NZ\": 14,\n",
              " 'Carlos Bertolazzi': 13,\n",
              " \"Carrabba's Italian Grill\": 8,\n",
              " 'Cat Cora': 1,\n",
              " 'Celler de Can Roca': 13,\n",
              " 'Cesare Casella': 1,\n",
              " \"Charley's Crab_1\": 16,\n",
              " \"Charley's Crab_2\": 16,\n",
              " 'Chart House': 16,\n",
              " 'Chef Aaron McCargo Jr': 2,\n",
              " 'Chef Adrianne': 12,\n",
              " 'Chef Alex Levin': 1,\n",
              " 'Chef Ana Paula': 13,\n",
              " 'Chef Andrew Gruel': 2,\n",
              " 'Chef Ben Churchill': 1,\n",
              " 'Chef Ben Ford': 1,\n",
              " 'Chef Billy Parisi': 1,\n",
              " 'Chef Brian Duffy': 16,\n",
              " 'Chef Carla Hall': 1,\n",
              " 'Chef Carlo Cracco': 3,\n",
              " 'Chef Carmen Gonzalez': 1,\n",
              " 'Chef Casey Thompson': 1,\n",
              " 'Chef Charlie Palmer': 1,\n",
              " \"Chef Claudia's Cocina\": 2,\n",
              " 'Chef Clément': 14,\n",
              " 'Chef Cynthia Louise': 1,\n",
              " 'Chef Damaris Phillips': 2,\n",
              " 'Chef Dana Cohen HK': 2,\n",
              " 'Chef Daniel Boulud': 1,\n",
              " 'Chef David Burke': 1,\n",
              " 'Chef Derrick Fox': 2,\n",
              " 'Chef Diego Lozano': 13,\n",
              " 'Chef Elizabeth Falkner': 1,\n",
              " 'Chef Francois Payard': 1,\n",
              " 'Chef G. Garvin': 2,\n",
              " 'Chef Grace Ramirez': 3,\n",
              " 'Chef Guy Martin': 4,\n",
              " 'Chef Hirohiko Shoda': 3,\n",
              " 'Chef Jamie DeRosa': 12,\n",
              " 'Chef Jamie Gwen': 1,\n",
              " 'Chef Jennifer Carroll': 2,\n",
              " 'Chef Jet Tila': 1,\n",
              " 'Chef Jimmy Boswell': 3,\n",
              " 'Chef Kent Graham': 1,\n",
              " 'Chef Kiran Jethwa': 2,\n",
              " 'Chef Lorena Garcia': 13,\n",
              " 'Chef Maeve Rochford': 1,\n",
              " 'Chef Marc Murphy': 1,\n",
              " 'Chef Marcela Valladolid': 1,\n",
              " 'Chef Mark Garcia': 1,\n",
              " 'Chef Mary Sue Milliken': 1,\n",
              " 'Chef Michael Ferraro': 1,\n",
              " 'Chef Michael Smith': 2,\n",
              " 'Chef Michelle Bernstein': 1,\n",
              " 'Chef Natale Giunta': 3,\n",
              " 'Chef Nina Compton': 1,\n",
              " 'Chef Pete Evans': 3,\n",
              " 'Chef Richard Sandoval': 1,\n",
              " 'Chef Rick Moonen': 1,\n",
              " 'Chef Rick Tramonto': 2,\n",
              " 'Chef Robert Irvine': 1,\n",
              " 'Chef Rubio': 2,\n",
              " 'Chef Rusty Hamlin': 2,\n",
              " 'Chef Sam Talbot': 2,\n",
              " 'Chef Sheldon Simeon': 8,\n",
              " 'Chef Shirley Chung': 1,\n",
              " 'Chef Sue Zemanick': 1,\n",
              " 'Chef Todd Mohr': 14,\n",
              " 'ChefAlexander': 2,\n",
              " 'Chetna Makan': 14,\n",
              " 'Chevys Fresh Mex': 6,\n",
              " 'Chick-fil-A': 0,\n",
              " \"Chili's Beirut\": 6,\n",
              " \"Chili's Grill & Bar\": 6,\n",
              " \"Chili's México\": 6,\n",
              " \"Chili's Qatar\": 6,\n",
              " \"Chili's Tunisie\": 6,\n",
              " 'Chope_1': 13,\n",
              " 'Chope_2': 13,\n",
              " 'Christian Bau': 3,\n",
              " 'Christian Le Squer': 4,\n",
              " 'Christina Tosi': 1,\n",
              " 'Christine Ha': 2,\n",
              " 'Christophe Adam': 4,\n",
              " 'Christophe Bacquie': 4,\n",
              " 'Christophe Michalak': 4,\n",
              " 'Chuck Hughes': 2,\n",
              " 'Cindy Pawlcyn': 2,\n",
              " 'Claire Robinson': 2,\n",
              " 'Clodagh McKenna': 2,\n",
              " 'Cocina familiar con Javier Romero': 13,\n",
              " 'Colin Fassnidge': 2,\n",
              " 'Cook with Amber': 2,\n",
              " 'Cook with Chef Duminda': 2,\n",
              " 'Crepes & Waffles': 13,\n",
              " \"Cristian D'Elia\": 3,\n",
              " 'Crystal Jade Palace - JW Marriott Hotel Hanoi': 13,\n",
              " 'Crystal Jade Singapore': 13,\n",
              " 'Cucina by Wolfgang Puck': 2,\n",
              " 'Cuoco Filippo La Mantia': 3,\n",
              " \"D'O - Davide Oldani\": 1,\n",
              " 'Dairy Queen': 11,\n",
              " 'Dale Talde': 1,\n",
              " 'Dan Kluger': 1,\n",
              " 'Dan Steph & Emmy': 3,\n",
              " 'Dani García': 13,\n",
              " 'Daniel Humm': 1,\n",
              " 'Danny Smiles': 2,\n",
              " 'David Chang': 1,\n",
              " 'Dean Fearing': 1,\n",
              " 'Dean Sheremet': 1,\n",
              " 'DedeMed': 1,\n",
              " 'Delverde_1': 13,\n",
              " 'Delverde_2': 13,\n",
              " 'Delverde_3': 13,\n",
              " 'Delverde_4': 13,\n",
              " 'Destino Ibiza': 7,\n",
              " \"Dick's Drive In Restaurant\": 8,\n",
              " 'Diego Guerrero': 13,\n",
              " 'Dina Nikolaou': 1,\n",
              " 'Dining with Flynn': 1,\n",
              " \"Domino's Australia\": 5,\n",
              " \"Domino's Guatemala\": 5,\n",
              " \"Domino's Mx\": 5,\n",
              " \"Domino's Pizza Nigeria\": 5,\n",
              " \"Domino's Pizza Türkiye\": 5,\n",
              " \"Domino's Pizza_1\": 5,\n",
              " \"Domino's Pizza_10\": 5,\n",
              " \"Domino's Pizza_11\": 5,\n",
              " \"Domino's Pizza_12\": 5,\n",
              " \"Domino's Pizza_13\": 5,\n",
              " \"Domino's Pizza_14\": 5,\n",
              " \"Domino's Pizza_15\": 5,\n",
              " \"Domino's Pizza_16\": 5,\n",
              " \"Domino's Pizza_17\": 5,\n",
              " \"Domino's Pizza_18\": 5,\n",
              " \"Domino's Pizza_19\": 5,\n",
              " \"Domino's Pizza_2\": 5,\n",
              " \"Domino's Pizza_20\": 5,\n",
              " \"Domino's Pizza_3\": 5,\n",
              " \"Domino's Pizza_4\": 5,\n",
              " \"Domino's Pizza_5\": 5,\n",
              " \"Domino's Pizza_6\": 5,\n",
              " \"Domino's Pizza_7\": 5,\n",
              " \"Domino's Pizza_8\": 5,\n",
              " \"Domino's Pizza_9\": 5,\n",
              " 'Donal Skehan': 2,\n",
              " 'Donatella Arpaia': 1,\n",
              " 'Donato De Santis': 13,\n",
              " 'Doug Adams': 1,\n",
              " 'Douglas Keane': 2,\n",
              " 'Duff Goldman': 2,\n",
              " \"Dunkin' Coffee\": 16,\n",
              " \"Dunkin' Donuts_1\": 16,\n",
              " \"Dunkin' Donuts_10\": 16,\n",
              " \"Dunkin' Donuts_2\": 16,\n",
              " \"Dunkin' Donuts_3\": 16,\n",
              " \"Dunkin' Donuts_4\": 16,\n",
              " \"Dunkin' Donuts_5\": 16,\n",
              " \"Dunkin' Donuts_6\": 16,\n",
              " \"Dunkin' Donuts_7\": 16,\n",
              " \"Dunkin' Donuts_8\": 16,\n",
              " \"Dunkin' Donuts_9\": 1,\n",
              " 'Eckart Witzigmann': 4,\n",
              " 'Eddie Jackson - FIT CHEF EDDIE': 2,\n",
              " \"Eddie V's Prime Seafood\": 8,\n",
              " 'Eduardo Palazuelos': 13,\n",
              " 'El Torito': 6,\n",
              " 'Elizabeth Karmel': 1,\n",
              " 'Emily Ellyn': 2,\n",
              " 'Emma Frisch': 2,\n",
              " 'Emmi CAFFÈ LATTE_1': 10,\n",
              " 'Emmi CAFFÈ LATTE_2': 10,\n",
              " 'Emmi CAFFÈ LATTE_3': 10,\n",
              " 'Emmi CAFFÈ LATTE_4': 10,\n",
              " 'Emmi CAFFÈ LATTE_5': 10,\n",
              " 'Enrique Olvera': 1,\n",
              " 'Eric Ripert': 1,\n",
              " 'Ernst Knam': 3,\n",
              " 'Eva Arguiñano': 13,\n",
              " 'FONDA MEXICANA': 8,\n",
              " 'Fabio Viviani': 1,\n",
              " \"Famous Dave's Bar-B-Que of America\": 2,\n",
              " 'Fast Ed': 3,\n",
              " 'Felicitas Pizarro': 2,\n",
              " 'Five Guys_1': 1,\n",
              " 'Five Guys_2': 2,\n",
              " 'Food Busker': 2,\n",
              " 'Four Seasons Hotels and Resorts': 16,\n",
              " 'Francesco Sole': 3,\n",
              " 'Francis Mallmann': 13,\n",
              " 'Franklin Barbecue': 2,\n",
              " 'Franklin Becker': 1,\n",
              " 'Frantzén': 1,\n",
              " 'Gandy Dancer': 16,\n",
              " 'Gandy Dancer Saloon/Oyster Bar': 16,\n",
              " 'Gary Mehigan': 3,\n",
              " 'Gaston Acurio': 13,\n",
              " 'Gavin Kaysen': 1,\n",
              " 'Gemma Stafford': 2,\n",
              " 'Geoffrey Zakarian': 1,\n",
              " 'George Pagonis': 2,\n",
              " 'Germán Martitegui': 13,\n",
              " \"Gino D'Acampo\": 2,\n",
              " 'Graham Elliot': 2,\n",
              " 'Grand Concourse': 16,\n",
              " 'Gregory Gourdet': 1,\n",
              " 'Grotto': 16,\n",
              " 'Guga Rocha': 13,\n",
              " 'Guillaume Gomez': 4,\n",
              " 'Guy Savoy': 4,\n",
              " 'Hakim Chajar': 2,\n",
              " 'Hard Rock Cafe Ibiza': 7,\n",
              " \"Hardee's\": 14,\n",
              " \"Hardee's Pakistan\": 6,\n",
              " 'Hari Ghotra': 14,\n",
              " 'Harlem EatUp': 1,\n",
              " 'Harold Dieterle': 2,\n",
              " 'Hearth': 2,\n",
              " 'Hilah Cooking': 2,\n",
              " 'Hubert Keller': 1,\n",
              " 'Hugh Acheson': 1,\n",
              " 'Iginio Massari': 3,\n",
              " 'Ignacio Mattos': 3,\n",
              " 'JW Café - JW Marriott Hotel Hanoi': 5,\n",
              " 'Jacques Pépin': 1,\n",
              " 'James Martin': 2,\n",
              " 'Jean-François Piège     -      Page Officielle': 4,\n",
              " 'Jehangir': 2,\n",
              " \"Jimmy John's\": 2,\n",
              " 'Joanna 劉韋彤': 14,\n",
              " 'Jock Zonfrillo': 3,\n",
              " 'John DeLucie': 1,\n",
              " 'John Whaite': 1,\n",
              " 'Johnny Iuzzini': 1,\n",
              " 'Johnny Prep': 17,\n",
              " 'Jose Garces': 1,\n",
              " 'Josh Elkin': 1,\n",
              " 'Josh Marks': 2,\n",
              " 'José Andrés': 1,\n",
              " 'José Santaella': 2,\n",
              " 'João Alcantara': 13,\n",
              " 'Juan Mari Arzak (Página oficial)': 13,\n",
              " 'Julia Child': 1,\n",
              " 'Juliana Lopez May': 13,\n",
              " 'Jumia Food_1': 6,\n",
              " 'Jumia Food_10': 6,\n",
              " 'Jumia Food_2': 6,\n",
              " 'Jumia Food_3': 6,\n",
              " 'Jumia Food_4': 6,\n",
              " 'Jumia Food_5': 6,\n",
              " 'Jumia Food_6': 6,\n",
              " 'Jumia Food_7': 6,\n",
              " 'Jumia Food_8': 6,\n",
              " 'Jumia Food_9': 6,\n",
              " 'Justin Warner': 2,\n",
              " 'KFC_1': 14,\n",
              " 'KFC_10': 14,\n",
              " 'KFC_11': 14,\n",
              " 'KFC_12': 14,\n",
              " 'KFC_13': 14,\n",
              " 'KFC_14': 14,\n",
              " 'KFC_15': 14,\n",
              " 'KFC_16': 14,\n",
              " 'KFC_17': 5,\n",
              " 'KFC_18': 14,\n",
              " 'KFC_19': 14,\n",
              " 'KFC_2': 4,\n",
              " 'KFC_20': 14,\n",
              " 'KFC_21': 6,\n",
              " 'KFC_22': 14,\n",
              " 'KFC_23': 14,\n",
              " 'KFC_24': 14,\n",
              " 'KFC_25': 14,\n",
              " 'KFC_26': 14,\n",
              " 'KFC_27': 14,\n",
              " 'KFC_3': 14,\n",
              " 'KFC_4': 10,\n",
              " 'KFC_5': 14,\n",
              " 'KFC_6': 14,\n",
              " 'KFC_7': 14,\n",
              " 'KFC_8': 14,\n",
              " 'KFC_9': 14,\n",
              " 'Karen Martini': 3,\n",
              " 'Karlos Arguiñano': 13,\n",
              " 'Katie Pix': 4,\n",
              " 'Ken Oringer': 1,\n",
              " 'Kevin Dundon': 2,\n",
              " 'Kirti Bhoutika': 2,\n",
              " 'Krispy Kreme UK': 2,\n",
              " 'Kristen Kish': 1,\n",
              " 'Kunal Kapur': 2,\n",
              " 'L': 0,\n",
              " 'La Griglia': 16,\n",
              " 'Lee Anne Wong': 14,\n",
              " 'Leslie Gilliams': 2,\n",
              " 'Levi Eirinberg': 2,\n",
              " \"Lillie's Asian Cuisine\": 16,\n",
              " 'Lindsay Ann Bakes': 2,\n",
              " 'Logan Junior Chef': 2,\n",
              " 'Los Petersen Cocineros': 13,\n",
              " 'Ludo Lefebvre': 1,\n",
              " 'Luke Thomas': 1,\n",
              " 'Luna Grill': 9,\n",
              " 'Lío': 7,\n",
              " 'MASAの料理ABC': 14,\n",
              " 'Madison Cowan': 14,\n",
              " 'Magnum_1': 5,\n",
              " 'Magnum_2': 1,\n",
              " 'Magnum_3': 3,\n",
              " 'Magnum_4': 2,\n",
              " 'Magnum_5': 2,\n",
              " 'Magnum_6': 5,\n",
              " 'Magnum_7': 2,\n",
              " 'Maneet Chauhan': 2,\n",
              " \"Manjula's Kitchen - Indian Vegetarian Recipes\": 14,\n",
              " 'Manu Feildel': 3,\n",
              " 'Marc Forgione': 1,\n",
              " 'Marc Veyrat': 4,\n",
              " 'Marcel Vigneron': 1,\n",
              " 'Marcus Samuelsson': 1,\n",
              " 'Maria Loi': 1,\n",
              " 'Martha Collison': 14,\n",
              " 'Martín Berasategui': 13,\n",
              " 'Maru Botana': 13,\n",
              " 'Mary Nolan, Bon Appétit Executive Chef': 13,\n",
              " 'Massimo Mele': 3,\n",
              " 'Mathieu Pacaud': 4,\n",
              " 'Matt Moran': 3,\n",
              " 'Matthew Kenney': 1,\n",
              " \"McDonald's Deutschland Karriere\": 7,\n",
              " \"McDonald's Japan\": 7,\n",
              " \"McDonald's Paraguay\": 7,\n",
              " \"McDonald's República Dominicana\": 7,\n",
              " \"McDonald's Vietnam\": 7,\n",
              " \"McDonald's_1\": 7,\n",
              " \"McDonald's_10\": 7,\n",
              " \"McDonald's_11\": 7,\n",
              " \"McDonald's_12\": 7,\n",
              " \"McDonald's_13\": 7,\n",
              " \"McDonald's_14\": 7,\n",
              " \"McDonald's_15\": 7,\n",
              " \"McDonald's_16\": 7,\n",
              " \"McDonald's_17\": 7,\n",
              " \"McDonald's_18\": 7,\n",
              " \"McDonald's_19\": 7,\n",
              " \"McDonald's_2\": 7,\n",
              " \"McDonald's_20\": 7,\n",
              " \"McDonald's_21\": 7,\n",
              " \"McDonald's_22\": 7,\n",
              " \"McDonald's_23\": 7,\n",
              " \"McDonald's_24\": 7,\n",
              " \"McDonald's_25\": 7,\n",
              " \"McDonald's_26\": 7,\n",
              " \"McDonald's_27\": 7,\n",
              " \"McDonald's_28\": 7,\n",
              " \"McDonald's_29\": 7,\n",
              " \"McDonald's_3\": 7,\n",
              " \"McDonald's_30\": 7,\n",
              " \"McDonald's_31\": 7,\n",
              " \"McDonald's_32\": 7,\n",
              " \"McDonald's_33\": 7,\n",
              " \"McDonald's_34\": 7,\n",
              " \"McDonald's_35\": 7,\n",
              " \"McDonald's_36\": 7,\n",
              " \"McDonald's_37\": 7,\n",
              " \"McDonald's_38\": 7,\n",
              " \"McDonald's_39\": 7,\n",
              " \"McDonald's_4\": 7,\n",
              " \"McDonald's_40\": 7,\n",
              " \"McDonald's_41\": 7,\n",
              " \"McDonald's_42\": 7,\n",
              " \"McDonald's_43\": 7,\n",
              " \"McDonald's_44\": 7,\n",
              " \"McDonald's_45\": 7,\n",
              " \"McDonald's_46\": 7,\n",
              " \"McDonald's_47\": 7,\n",
              " \"McDonald's_48\": 7,\n",
              " \"McDonald's_49\": 7,\n",
              " \"McDonald's_5\": 7,\n",
              " \"McDonald's_50\": 7,\n",
              " \"McDonald's_51\": 7,\n",
              " \"McDonald's_52\": 7,\n",
              " \"McDonald's_53\": 7,\n",
              " \"McDonald's_54\": 7,\n",
              " \"McDonald's_55\": 7,\n",
              " \"McDonald's_56\": 7,\n",
              " \"McDonald's_57\": 7,\n",
              " \"McDonald's_58\": 7,\n",
              " \"McDonald's_59\": 7,\n",
              " \"McDonald's_6\": 7,\n",
              " \"McDonald's_7\": 7,\n",
              " \"McDonald's_8\": 7,\n",
              " \"McDonald's_9\": 7,\n",
              " 'Mei Lin': 1,\n",
              " 'Melissa King': 1,\n",
              " \"Meriwether's\": 16,\n",
              " 'Michael Lomonaco': 1,\n",
              " 'Michael White': 1,\n",
              " 'Michel Nischan': 1,\n",
              " 'Mirko Ronzoni': 3,\n",
              " 'Monti Carlo': 2,\n",
              " \"Morton's The Steakhouse\": 16,\n",
              " 'My Cupcake Addiction': 2,\n",
              " \"Nando's PERi-PERi\": 15,\n",
              " \"Nando's_1\": 15,\n",
              " \"Nando's_10\": 15,\n",
              " \"Nando's_11\": 15,\n",
              " \"Nando's_12\": 15,\n",
              " \"Nando's_13\": 15,\n",
              " \"Nando's_14\": 15,\n",
              " \"Nando's_15\": 15,\n",
              " \"Nando's_2\": 15,\n",
              " \"Nando's_3\": 15,\n",
              " \"Nando's_4\": 15,\n",
              " \"Nando's_5\": 15,\n",
              " \"Nando's_6\": 15,\n",
              " \"Nando's_7\": 15,\n",
              " \"Nando's_8\": 15,\n",
              " \"Nando's_9\": 15,\n",
              " 'Narda Lepes': 13,\n",
              " \"Nicko's Kitchen\": 2,\n",
              " 'Nikki Dinki': 2,\n",
              " 'Niko Romito': 3,\n",
              " 'NishaMadhulika': 2,\n",
              " 'Noma': 1,\n",
              " 'Norbert Tarayre': 4,\n",
              " 'Noëmie Honiat Top Chef': 4,\n",
              " 'Nutella Cafe Chicago': 7,\n",
              " 'Nyesha Arrington': 1,\n",
              " 'Ochikeron': 14,\n",
              " 'Ogro Jimmy': 13,\n",
              " 'Olive Garden': 8,\n",
              " 'Olive Garden México': 8,\n",
              " 'On The Border': 6,\n",
              " 'Opry City Stage': 14,\n",
              " 'Outback Steakhouse': 8,\n",
              " 'Outlander Kitchen': 2,\n",
              " 'PROPERCORN': 4,\n",
              " 'Pablo Massey': 13,\n",
              " \"Papacho's\": 13,\n",
              " 'Pasqualino Barbasso': 3,\n",
              " 'Pat Neely': 2,\n",
              " 'Paul Bocuse': 4,\n",
              " 'Paul Hollywood': 2,\n",
              " 'Paul Qui': 1,\n",
              " 'Pedro Lambertini': 13,\n",
              " \"Peohe's\": 16,\n",
              " 'Per Se': 4,\n",
              " 'Pescaria': 6,\n",
              " 'Peter Kuruvita': 3,\n",
              " 'Pierre Gagnaire': 4,\n",
              " 'Pierre Sang Boyer Officiel': 4,\n",
              " 'Pollo Campero El Salvador': 11,\n",
              " 'Pollo Campero Guatemala': 11,\n",
              " 'Princi': 4,\n",
              " 'Puesto': 9,\n",
              " 'Quique Dacosta': 13,\n",
              " 'RED Sushi and Hibachi Grill': 16,\n",
              " 'RIBS - True American Barbecue': 13,\n",
              " 'Rachel Allen': 2,\n",
              " 'Ranveer Brar': 14,\n",
              " 'Ravintola Salve': 16,\n",
              " 'Raymond Blanc': 1,\n",
              " 'Red Lobster México': 8,\n",
              " 'Red Robin Gourmet Burgers': 1,\n",
              " 'Relais & Châteaux_1': 13,\n",
              " 'Relais & Châteaux_2': 3,\n",
              " 'René Redzepi': 1,\n",
              " 'Ricardo Cuisine': 2,\n",
              " 'River Crab Blue Water Inn': 16,\n",
              " 'Robin Miller': 1,\n",
              " 'Roblé': 0,\n",
              " 'Roxanne Spruance': 4,\n",
              " 'Roy Choi': 1,\n",
              " 'Roy Yamaguchi': 8,\n",
              " \"Roy's Restaurant\": 8,\n",
              " 'Russell Jackson': 2,\n",
              " 'SORTEDfood': 2,\n",
              " 'Sam Choy': 2,\n",
              " 'Samin Nosrat': 1,\n",
              " 'Sang Yoon': 1,\n",
              " 'Sanjeev Kapoor': 2,\n",
              " 'Santiago Giorgini': 13,\n",
              " 'Saransh Goila': 14,\n",
              " 'Scott Conant': 1,\n",
              " 'Seamus Mullen': 1,\n",
              " 'Seasons 52': 8,\n",
              " 'Second Floor Cafe 貳樓餐飲': 6,\n",
              " 'Shane Delia': 3,\n",
              " 'Simon Bryant': 3,\n",
              " 'Simon Gault': 3,\n",
              " 'Skinny Chef': 17,\n",
              " 'Sonia Peronaci': 3,\n",
              " 'Spago Las Vegas': 2,\n",
              " 'Spike Mendelsohn': 2,\n",
              " \"Steak 'n Shake\": 7,\n",
              " 'Stephanie Izard': 1,\n",
              " 'Steve Konopelski': 1,\n",
              " 'Subway': 6,\n",
              " 'Subway, Cayman Islands': 6,\n",
              " 'Susan Feniger': 1,\n",
              " 'Susur Lee': 3,\n",
              " 'Suzanne Goin': 1,\n",
              " 'T-rex Cafe': 16,\n",
              " 'Taco Bell': 11,\n",
              " 'Taco Bell Careers': 11,\n",
              " 'Taco Bell Costa Rica': 11,\n",
              " 'Taco Bell Cyprus': 11,\n",
              " 'Taco Bell El Salvador': 11,\n",
              " 'Taco Bell Guatemala': 11,\n",
              " 'Taco Bell India': 11,\n",
              " 'Taco Bell Kuwait': 11,\n",
              " 'Taco Bell Panamá': 11,\n",
              " 'Taco Bell Rep Dom': 11,\n",
              " 'Taco Bell UK': 11,\n",
              " 'Taste Of Paris Official': 4,\n",
              " 'Taste of London': 4,\n",
              " 'Telepizza Guatemala': 11,\n",
              " 'Texas Roadhouse': 0,\n",
              " 'The Edgy Veg': 2,\n",
              " 'The French Laundry': 4,\n",
              " 'The Habit Burger Grill': 9,\n",
              " 'The Tuscan Gun': 2,\n",
              " 'Thierry Rautureau': 4,\n",
              " 'Thomas Keller': 4,\n",
              " 'Tim Love': 1,\n",
              " 'Tom Aikens': 1,\n",
              " 'Tom Colicchio': 1,\n",
              " 'Tom Douglas Restaurants': 2,\n",
              " \"Tom's Kitchen\": 4,\n",
              " 'UMass Dining': 1,\n",
              " 'Valentin Neraudeau': 4,\n",
              " 'Vegan Black Metal Chef': 1,\n",
              " 'Veggie Grill': 1,\n",
              " 'Vicky Ratnani': 14,\n",
              " 'Virginia Willis': 1,\n",
              " 'W': 0,\n",
              " 'Whataburger': 13,\n",
              " 'Wings': 8,\n",
              " 'Wolfgang Puck': 2,\n",
              " \"Xi'an Famous Foods 西安名吃\": 1,\n",
              " 'YANNICK ALLENO OFFICIEL': 4,\n",
              " 'Yard House': 8,\n",
              " 'Zac Kara': 2,\n",
              " 'Zoёs Kitchen': 9,\n",
              " 'ad hoc & addendum': 4,\n",
              " 'e': 0,\n",
              " 'foodpanda - 空腹熊貓': 6,\n",
              " 'foodpanda / hellofood': 6,\n",
              " 'foodpanda_1': 15,\n",
              " 'foodpanda_2': 15,\n",
              " 'foodpanda_3': 6,\n",
              " 'foodpanda_4': 6,\n",
              " 'foodpanda_5': 6,\n",
              " 'foodpanda_6': 6,\n",
              " 'foodpanda_7': 6,\n",
              " 'foodpanda_8': 6,\n",
              " 'g': 0,\n",
              " 'hellofood': 6,\n",
              " 'n': 0,\n",
              " 'o': 0,\n",
              " 'Éric Frechon': 4,\n",
              " 'משה שגב / Moshe Segev': 1,\n",
              " 'タコベル ジャパン\\u3000Taco Bell Japan': 11,\n",
              " '翠華餐廳 Tsui Wah Restaurant': 6,\n",
              " '達美樂披薩': 5,\n",
              " '麥當勞': 7,\n",
              " '도미노피자(Dominostory)': 5,\n",
              " \"맥도날드 (McDonald's)\": 7}"
            ]
          },
          "metadata": {
            "tags": []
          },
          "execution_count": 66
        }
      ]
    },
    {
      "cell_type": "code",
      "metadata": {
        "colab": {
          "base_uri": "https://localhost:8080/"
        },
        "id": "IRkaWFmJNwjx",
        "outputId": "b6f7eca8-6303-4d38-aebf-514dad5cd49e"
      },
      "source": [
        "print(list(partition_library.items())[0:20])"
      ],
      "execution_count": null,
      "outputs": [
        {
          "output_type": "stream",
          "text": [
            "[('Lee Anne Wong', 14), ('KFC_3', 14), ('Chef Jamie Gwen', 1), ('Madison Cowan', 14), ('Elizabeth Karmel', 1), ('KFC_22', 14), ('KFC_8', 14), ('Pat Neely', 2), ('Logan Junior Chef', 2), ('Robin Miller', 1), ('Ben Sargent & Dr. Klaw', 2), ('Bobby Flay', 1), ('Chuck Hughes', 2), ('Chef Carlo Cracco', 3), ('Pasqualino Barbasso', 3), ('Alessandro Borghese', 3), ('Chef Hirohiko Shoda', 3), ('Alain Ducasse', 4), ('Christian Bau', 3), ('Andy Luotto', 3)]\n"
          ],
          "name": "stdout"
        }
      ]
    },
    {
      "cell_type": "code",
      "metadata": {
        "colab": {
          "base_uri": "https://localhost:8080/",
          "height": 248
        },
        "id": "hGXWvnsXNycE",
        "outputId": "ddf8c87f-bb83-47d0-8e36-8f7e159196a3"
      },
      "source": [
        "# draw the graph\n",
        "pos = nx.spring_layout(G)\n",
        "# color the nodes according to their partition\n",
        "cmap = cm.get_cmap('tab20', max(partition_library.values()) + 1)\n",
        "nx.draw_networkx_nodes(G, pos, partition_library.keys(), node_size=20,\n",
        "                       cmap=cmap, node_color=list(partition_library.values()))\n",
        "nx.draw_networkx_edges(G, pos, alpha=0.5)\n",
        "plt.show()"
      ],
      "execution_count": null,
      "outputs": [
        {
          "output_type": "display_data",
          "data": {
            "image/png": "[encoded data removed]",
            "text/plain": [
              "<Figure size 432x288 with 1 Axes>"
            ]
          },
          "metadata": {
            "tags": []
          }
        }
      ]
    },
    {
      "cell_type": "code",
      "metadata": {
        "colab": {
          "base_uri": "https://localhost:8080/"
        },
        "id": "meOV1QcNODtR",
        "outputId": "91527298-ce5e-4311-f5a9-006229a14716"
      },
      "source": [
        "comms = set(partition_library.values())\n",
        "comms\n",
        "\n"
      ],
      "execution_count": null,
      "outputs": [
        {
          "output_type": "execute_result",
          "data": {
            "text/plain": [
              "{0, 1, 2, 3, 4, 5, 6, 7, 8, 9, 10, 11, 12, 13, 14, 15, 16, 17}"
            ]
          },
          "metadata": {
            "tags": []
          },
          "execution_count": 56
        }
      ]
    },
    {
      "cell_type": "code",
      "metadata": {
        "id": "oK4GKKjDQq8t"
      },
      "source": [
        "list_community_sets_library = [ set() for i in range(len(comms)) ]"
      ],
      "execution_count": null,
      "outputs": []
    },
    {
      "cell_type": "code",
      "metadata": {
        "colab": {
          "base_uri": "https://localhost:8080/"
        },
        "id": "lclKJWLEQrU4",
        "outputId": "1a8c2c2a-80e7-448b-9587-033997138e5b"
      },
      "source": [
        "for n, comm in partition_library.items():\n",
        "    list_community_sets_library[comm].add(n)\n",
        "\n",
        "list_community_sets_library[0:2]"
      ],
      "execution_count": null,
      "outputs": [
        {
          "output_type": "execute_result",
          "data": {
            "text/plain": [
              "[{'Chick-fil-A', 'Roblé', 'Texas Roadhouse'},\n",
              " {\"'Wichcraft\",\n",
              "  'Aarón Sánchez',\n",
              "  'Alex Guarnaschelli',\n",
              "  'Alfred Portale',\n",
              "  'Amy Thielen',\n",
              "  'Angelo Sosa',\n",
              "  'Anne Burrell',\n",
              "  'Blue Ribbon Fried Chicken',\n",
              "  'Blue Ribbon Restaurants',\n",
              "  'Bobby Flay',\n",
              "  'Bradley Ogden',\n",
              "  'Brooke Williamson',\n",
              "  'Bryce Shuman',\n",
              "  'Camille Becerra',\n",
              "  'Cat Cora',\n",
              "  'Cesare Casella',\n",
              "  'Chef Alex Levin',\n",
              "  'Chef Ben Churchill',\n",
              "  'Chef Ben Ford',\n",
              "  'Chef Billy Parisi',\n",
              "  'Chef Carla Hall',\n",
              "  'Chef Carmen Gonzalez',\n",
              "  'Chef Casey Thompson',\n",
              "  'Chef Charlie Palmer',\n",
              "  'Chef Cynthia Louise',\n",
              "  'Chef Daniel Boulud',\n",
              "  'Chef David Burke',\n",
              "  'Chef Elizabeth Falkner',\n",
              "  'Chef Francois Payard',\n",
              "  'Chef Jamie Gwen',\n",
              "  'Chef Jet Tila',\n",
              "  'Chef Kent Graham',\n",
              "  'Chef Maeve Rochford',\n",
              "  'Chef Marc Murphy',\n",
              "  'Chef Marcela Valladolid',\n",
              "  'Chef Mark Garcia',\n",
              "  'Chef Mary Sue Milliken',\n",
              "  'Chef Michael Ferraro',\n",
              "  'Chef Michelle Bernstein',\n",
              "  'Chef Nina Compton',\n",
              "  'Chef Richard Sandoval',\n",
              "  'Chef Rick Moonen',\n",
              "  'Chef Robert Irvine',\n",
              "  'Chef Shirley Chung',\n",
              "  'Chef Sue Zemanick',\n",
              "  'Christina Tosi',\n",
              "  \"D'O - Davide Oldani\",\n",
              "  'Dale Talde',\n",
              "  'Dan Kluger',\n",
              "  'Daniel Humm',\n",
              "  'David Chang',\n",
              "  'Dean Fearing',\n",
              "  'Dean Sheremet',\n",
              "  'DedeMed',\n",
              "  'Dina Nikolaou',\n",
              "  'Dining with Flynn',\n",
              "  'Donatella Arpaia',\n",
              "  'Doug Adams',\n",
              "  \"Dunkin' Donuts_9\",\n",
              "  'Elizabeth Karmel',\n",
              "  'Enrique Olvera',\n",
              "  'Eric Ripert',\n",
              "  'Fabio Viviani',\n",
              "  'Five Guys_1',\n",
              "  'Franklin Becker',\n",
              "  'Frantzén',\n",
              "  'Gavin Kaysen',\n",
              "  'Geoffrey Zakarian',\n",
              "  'Gregory Gourdet',\n",
              "  'Harlem EatUp',\n",
              "  'Hubert Keller',\n",
              "  'Hugh Acheson',\n",
              "  'Jacques Pépin',\n",
              "  'John DeLucie',\n",
              "  'John Whaite',\n",
              "  'Johnny Iuzzini',\n",
              "  'Jose Garces',\n",
              "  'Josh Elkin',\n",
              "  'José Andrés',\n",
              "  'Julia Child',\n",
              "  'Ken Oringer',\n",
              "  'Kristen Kish',\n",
              "  'Ludo Lefebvre',\n",
              "  'Luke Thomas',\n",
              "  'Magnum_2',\n",
              "  'Marc Forgione',\n",
              "  'Marcel Vigneron',\n",
              "  'Marcus Samuelsson',\n",
              "  'Maria Loi',\n",
              "  'Matthew Kenney',\n",
              "  'Mei Lin',\n",
              "  'Melissa King',\n",
              "  'Michael Lomonaco',\n",
              "  'Michael White',\n",
              "  'Michel Nischan',\n",
              "  'Noma',\n",
              "  'Nyesha Arrington',\n",
              "  'Paul Qui',\n",
              "  'Raymond Blanc',\n",
              "  'Red Robin Gourmet Burgers',\n",
              "  'René Redzepi',\n",
              "  'Robin Miller',\n",
              "  'Roy Choi',\n",
              "  'Samin Nosrat',\n",
              "  'Sang Yoon',\n",
              "  'Scott Conant',\n",
              "  'Seamus Mullen',\n",
              "  'Stephanie Izard',\n",
              "  'Steve Konopelski',\n",
              "  'Susan Feniger',\n",
              "  'Suzanne Goin',\n",
              "  'Tim Love',\n",
              "  'Tom Aikens',\n",
              "  'Tom Colicchio',\n",
              "  'UMass Dining',\n",
              "  'Vegan Black Metal Chef',\n",
              "  'Veggie Grill',\n",
              "  'Virginia Willis',\n",
              "  \"Xi'an Famous Foods 西安名吃\",\n",
              "  'משה שגב / Moshe Segev'}]"
            ]
          },
          "metadata": {
            "tags": []
          },
          "execution_count": 58
        }
      ]
    },
    {
      "cell_type": "code",
      "metadata": {
        "colab": {
          "base_uri": "https://localhost:8080/"
        },
        "id": "ce11QS3KQs6i",
        "outputId": "83a69548-8167-4926-f97a-82a91ef05d63"
      },
      "source": [
        "for my_list in [list_community_sets_greedy,  list_community_sets_library]:\n",
        "    \n",
        "    #print(\"Coverage\")\n",
        "    print(\"Coverage\", nx_comm.coverage(G, my_list))\n",
        "    #print(\"Modularity\")\n",
        "    print(\"Modularity\", nx_comm.modularity(G, my_list, weight='weight'))\n",
        "    #print(\"Performance\")\n",
        "    print(\"Performance\", nx_comm.performance(G, my_list))\n",
        "    \n",
        "    print(\"---\")"
      ],
      "execution_count": null,
      "outputs": [
        {
          "output_type": "stream",
          "text": [
            "Coverage 0.8686964795432921\n",
            "Modularity 0.6331957195403588\n",
            "Performance 0.8936682474334254\n",
            "---\n",
            "Coverage 0.845861084681256\n",
            "Modularity 0.655844621723138\n",
            "Performance 0.9072906352597843\n",
            "---\n"
          ],
          "name": "stdout"
        }
      ]
    },
    {
      "cell_type": "code",
      "metadata": {
        "colab": {
          "base_uri": "https://localhost:8080/"
        },
        "id": "_4aPTKeORC2d",
        "outputId": "ba385fed-930e-4f96-99a0-2d404d63491e"
      },
      "source": [
        "\n",
        "\n",
        "pairs = []\n",
        "for i, nod in enumerate(list_community_sets_library):\n",
        "    print(i,len(nod))\n",
        "    comm_size = (i,len(nod))\n",
        "    pairs.append(comm_size)\n",
        "\n"
      ],
      "execution_count": null,
      "outputs": [
        {
          "output_type": "stream",
          "text": [
            "0 3\n",
            "1 120\n",
            "2 92\n",
            "3 38\n",
            "4 36\n",
            "5 31\n",
            "6 37\n",
            "7 71\n",
            "8 17\n",
            "9 5\n",
            "10 6\n",
            "11 17\n",
            "12 2\n",
            "13 46\n",
            "14 42\n",
            "15 21\n",
            "16 34\n",
            "17 2\n"
          ],
          "name": "stdout"
        }
      ]
    },
    {
      "cell_type": "code",
      "metadata": {
        "colab": {
          "base_uri": "https://localhost:8080/"
        },
        "id": "k4xDW9RORELR",
        "outputId": "32ec8c88-b695-408d-d7b3-b404a0bda753"
      },
      "source": [
        "pairs"
      ],
      "execution_count": null,
      "outputs": [
        {
          "output_type": "execute_result",
          "data": {
            "text/plain": [
              "[(0, 3),\n",
              " (1, 120),\n",
              " (2, 92),\n",
              " (3, 38),\n",
              " (4, 36),\n",
              " (5, 31),\n",
              " (6, 37),\n",
              " (7, 71),\n",
              " (8, 17),\n",
              " (9, 5),\n",
              " (10, 6),\n",
              " (11, 17),\n",
              " (12, 2),\n",
              " (13, 46),\n",
              " (14, 42),\n",
              " (15, 21),\n",
              " (16, 34),\n",
              " (17, 2)]"
            ]
          },
          "metadata": {
            "tags": []
          },
          "execution_count": 61
        }
      ]
    },
    {
      "cell_type": "code",
      "metadata": {
        "id": "hNbXN52fREWE"
      },
      "source": [
        "community_index = []\n",
        "number_of_nodes = []\n",
        "\n",
        "for comm, n_nodes in pairs:\n",
        "    community_index.append(str(comm))\n",
        "    number_of_nodes.append(n_nodes)\n",
        "\n"
      ],
      "execution_count": null,
      "outputs": []
    },
    {
      "cell_type": "code",
      "metadata": {
        "colab": {
          "base_uri": "https://localhost:8080/",
          "height": 296
        },
        "id": "83NF1Wn6RJFa",
        "outputId": "60d0aef1-1d1a-45af-ac15-6fc16c6bb2f2"
      },
      "source": [
        "plt.bar(community_index,number_of_nodes)\n",
        "plt.xlabel(\"Community\")\n",
        "plt.ylabel(\"Number of nodes\")"
      ],
      "execution_count": null,
      "outputs": [
        {
          "output_type": "execute_result",
          "data": {
            "text/plain": [
              "Text(0, 0.5, 'Number of nodes')"
            ]
          },
          "metadata": {
            "tags": []
          },
          "execution_count": 63
        },
        {
          "output_type": "display_data",
          "data": {
            "image/png": "[encoded data removed]",
            "text/plain": [
              "<Figure size 432x288 with 1 Axes>"
            ]
          },
          "metadata": {
            "tags": [],
            "needs_background": "light"
          }
        }
      ]
    }
  ]
}