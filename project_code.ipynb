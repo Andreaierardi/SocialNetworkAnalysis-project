{
  "nbformat": 4,
  "nbformat_minor": 0,
  "metadata": {
    "colab": {
      "name": "project_code.ipynb",
      "provenance": [],
      "collapsed_sections": [],
      "authorship_tag": "ABX9TyPoQG1jUkrpwvEYYAaUQLju",
      "include_colab_link": true
    },
    "kernelspec": {
      "name": "python3",
      "display_name": "Python 3"
    }
  },
  "cells": [
    {
      "cell_type": "markdown",
      "metadata": {
        "id": "view-in-github",
        "colab_type": "text"
      },
      "source": [
        "<a href=\"https://colab.research.google.com/github/Andreaierardi/SocialNetworkAnalysis-project/blob/main/project_code.ipynb\" target=\"_parent\"><img src=\"https://colab.research.google.com/assets/colab-badge.svg\" alt=\"Open In Colab\"/></a>"
      ]
    },
    {
      "cell_type": "markdown",
      "metadata": {
        "id": "emEG98GnrQo6"
      },
      "source": [
        "# **Social Network Analysis Project**\n",
        "\n",
        "> ## **University of Milan** - **DataScience and Economics**\n",
        "\n",
        "<br>\n",
        "\n",
        "#### Author : **Andrea Ierardi**\n",
        "\n",
        "<br>\n",
        "\n",
        "\n",
        "---\n",
        "\n"
      ]
    },
    {
      "cell_type": "markdown",
      "metadata": {
        "id": "7dDSzSi-p7f8"
      },
      "source": [
        "\r\n",
        " <br>\r\n",
        "\r\n",
        "\r\n",
        "\r\n",
        "\r\n"
      ]
    },
    {
      "cell_type": "markdown",
      "metadata": {
        "id": "D_1SNIKKje5V"
      },
      "source": [
        "## Dataset\r\n",
        "### Description\r\n",
        "\r\n",
        "Data collected about Facebook pages (November 2017). These datasets represent blue verified Facebook page networks of different categories. Nodes represent the pages and edges are mutual likes among them.\r\n",
        "\r\n",
        "\r\n",
        "\r\n",
        "\r\n",
        "\r\n"
      ]
    },
    {
      "cell_type": "markdown",
      "metadata": {
        "id": "-EnzyahlphFf"
      },
      "source": [
        "\r\n",
        " <br>\r\n",
        "\r\n",
        "\r\n",
        "\r\n",
        "\r\n"
      ]
    },
    {
      "cell_type": "code",
      "metadata": {
        "id": "YKVanDJn21rf"
      },
      "source": [
        "import pandas as pd\n",
        "nodes = pd.read_csv('https://raw.githubusercontent.com/Andreaierardi/SocialNetworkAnalysis-project/main/dataset/fb-pages-food.csv',sep=\";\")\n",
        "\n",
        "edges = pd.read_csv('https://raw.githubusercontent.com/Andreaierardi/SocialNetworkAnalysis-project/main/dataset/fb-pages-food.edges')\n"
      ],
      "execution_count": 608,
      "outputs": []
    },
    {
      "cell_type": "code",
      "metadata": {
        "id": "wdH8yTmE3XG0",
        "colab": {
          "base_uri": "https://localhost:8080/"
        },
        "outputId": "fbdd24d8-2702-4013-d576-90bce52ed02d"
      },
      "source": [
        "print(nodes)\n",
        "print(edges)"
      ],
      "execution_count": 609,
      "outputs": [
        {
          "output_type": "stream",
          "text": [
            "                         name,id\n",
            "0                 Josh Marks,386\n",
            "1    Blue Ribbon Restaurants,473\n",
            "2                    Pat Neely,1\n",
            "3                 La Griglia,542\n",
            "4                Jose Garces,189\n",
            "..                           ...\n",
            "615               Jumia Food,163\n",
            "616              Luke Thomas,381\n",
            "617          Clodagh McKenna,140\n",
            "618  Chef Michelle Bernstein,157\n",
            "619               SORTEDfood,114\n",
            "\n",
            "[620 rows x 1 columns]\n",
            "      source  target\n",
            "0          0     276\n",
            "1          0      58\n",
            "2          0     132\n",
            "3          0     603\n",
            "4          0     398\n",
            "...      ...     ...\n",
            "2097     597     611\n",
            "2098     601     603\n",
            "2099     601     616\n",
            "2100     603     616\n",
            "2101     311     613\n",
            "\n",
            "[2102 rows x 2 columns]\n"
          ],
          "name": "stdout"
        }
      ]
    },
    {
      "cell_type": "code",
      "metadata": {
        "colab": {
          "base_uri": "https://localhost:8080/",
          "height": 424
        },
        "id": "oLNCmyPNI9hM",
        "outputId": "822ea105-80f2-46c4-bfef-0ce1c376e0a8"
      },
      "source": [
        "nodes"
      ],
      "execution_count": 595,
      "outputs": [
        {
          "output_type": "execute_result",
          "data": {
            "text/html": [
              "<div>\n",
              "<style scoped>\n",
              "    .dataframe tbody tr th:only-of-type {\n",
              "        vertical-align: middle;\n",
              "    }\n",
              "\n",
              "    .dataframe tbody tr th {\n",
              "        vertical-align: top;\n",
              "    }\n",
              "\n",
              "    .dataframe thead th {\n",
              "        text-align: right;\n",
              "    }\n",
              "</style>\n",
              "<table border=\"1\" class=\"dataframe\">\n",
              "  <thead>\n",
              "    <tr style=\"text-align: right;\">\n",
              "      <th></th>\n",
              "      <th>name,id</th>\n",
              "    </tr>\n",
              "  </thead>\n",
              "  <tbody>\n",
              "    <tr>\n",
              "      <th>0</th>\n",
              "      <td>Josh Marks,386</td>\n",
              "    </tr>\n",
              "    <tr>\n",
              "      <th>1</th>\n",
              "      <td>Blue Ribbon Restaurants,473</td>\n",
              "    </tr>\n",
              "    <tr>\n",
              "      <th>2</th>\n",
              "      <td>Pat Neely,1</td>\n",
              "    </tr>\n",
              "    <tr>\n",
              "      <th>3</th>\n",
              "      <td>La Griglia,542</td>\n",
              "    </tr>\n",
              "    <tr>\n",
              "      <th>4</th>\n",
              "      <td>Jose Garces,189</td>\n",
              "    </tr>\n",
              "    <tr>\n",
              "      <th>...</th>\n",
              "      <td>...</td>\n",
              "    </tr>\n",
              "    <tr>\n",
              "      <th>615</th>\n",
              "      <td>Jumia Food,163</td>\n",
              "    </tr>\n",
              "    <tr>\n",
              "      <th>616</th>\n",
              "      <td>Luke Thomas,381</td>\n",
              "    </tr>\n",
              "    <tr>\n",
              "      <th>617</th>\n",
              "      <td>Clodagh McKenna,140</td>\n",
              "    </tr>\n",
              "    <tr>\n",
              "      <th>618</th>\n",
              "      <td>Chef Michelle Bernstein,157</td>\n",
              "    </tr>\n",
              "    <tr>\n",
              "      <th>619</th>\n",
              "      <td>SORTEDfood,114</td>\n",
              "    </tr>\n",
              "  </tbody>\n",
              "</table>\n",
              "<p>620 rows × 1 columns</p>\n",
              "</div>"
            ],
            "text/plain": [
              "                         name,id\n",
              "0                 Josh Marks,386\n",
              "1    Blue Ribbon Restaurants,473\n",
              "2                    Pat Neely,1\n",
              "3                 La Griglia,542\n",
              "4                Jose Garces,189\n",
              "..                           ...\n",
              "615               Jumia Food,163\n",
              "616              Luke Thomas,381\n",
              "617          Clodagh McKenna,140\n",
              "618  Chef Michelle Bernstein,157\n",
              "619               SORTEDfood,114\n",
              "\n",
              "[620 rows x 1 columns]"
            ]
          },
          "metadata": {
            "tags": []
          },
          "execution_count": 595
        }
      ]
    },
    {
      "cell_type": "code",
      "metadata": {
        "id": "rWB-XdMBJEx2"
      },
      "source": [
        "from collections import Counter # Counter counts the number of occurrences of each item\r\n",
        "from itertools import tee, count\r\n",
        "def uniquify(seq, suffs = count(1)):\r\n",
        "    \"\"\"Make all the items unique by adding a suffix (1, 2, etc).\r\n",
        "\r\n",
        "    `seq` is mutable sequence of strings.\r\n",
        "    `suffs` is an optional alternative suffix iterable.\r\n",
        "    \"\"\"\r\n",
        "    not_unique = [k for k,v in Counter(seq).items() if v>1] # so we have: ['name', 'zip']\r\n",
        "    # suffix generator dict - e.g., {'name': <my_gen>, 'zip': <my_gen>}\r\n",
        "    suff_gens = dict(zip(not_unique, tee(suffs, len(not_unique))))  \r\n",
        "    for idx,s in enumerate(seq):\r\n",
        "        try:\r\n",
        "            suffix = str(next(suff_gens[s]))\r\n",
        "        except KeyError:\r\n",
        "            # s was unique\r\n",
        "            continue\r\n",
        "        else:\r\n",
        "            seq[idx] += suffix\r\n",
        "    "
      ],
      "execution_count": 596,
      "outputs": []
    },
    {
      "cell_type": "code",
      "metadata": {
        "colab": {
          "base_uri": "https://localhost:8080/",
          "height": 343
        },
        "id": "rUoGw9ldJR8S",
        "outputId": "03a99017-cbbe-4634-ac7a-b4d00b51c50e"
      },
      "source": [
        "names = list(nodes.name)\r\n",
        "uniquify(names, (f'_{x!s}' for x in range(1, 100)))\r\n",
        "names[0:10]"
      ],
      "execution_count": 597,
      "outputs": [
        {
          "output_type": "error",
          "ename": "AttributeError",
          "evalue": "ignored",
          "traceback": [
            "\u001b[0;31m---------------------------------------------------------------------------\u001b[0m",
            "\u001b[0;31mAttributeError\u001b[0m                            Traceback (most recent call last)",
            "\u001b[0;32m<ipython-input-597-3ede39829b57>\u001b[0m in \u001b[0;36m<module>\u001b[0;34m()\u001b[0m\n\u001b[0;32m----> 1\u001b[0;31m \u001b[0mnames\u001b[0m \u001b[0;34m=\u001b[0m \u001b[0mlist\u001b[0m\u001b[0;34m(\u001b[0m\u001b[0mnodes\u001b[0m\u001b[0;34m.\u001b[0m\u001b[0mname\u001b[0m\u001b[0;34m)\u001b[0m\u001b[0;34m\u001b[0m\u001b[0;34m\u001b[0m\u001b[0m\n\u001b[0m\u001b[1;32m      2\u001b[0m \u001b[0muniquify\u001b[0m\u001b[0;34m(\u001b[0m\u001b[0mnames\u001b[0m\u001b[0;34m,\u001b[0m \u001b[0;34m(\u001b[0m\u001b[0;34mf'_{x!s}'\u001b[0m \u001b[0;32mfor\u001b[0m \u001b[0mx\u001b[0m \u001b[0;32min\u001b[0m \u001b[0mrange\u001b[0m\u001b[0;34m(\u001b[0m\u001b[0;36m1\u001b[0m\u001b[0;34m,\u001b[0m \u001b[0;36m100\u001b[0m\u001b[0;34m)\u001b[0m\u001b[0;34m)\u001b[0m\u001b[0;34m)\u001b[0m\u001b[0;34m\u001b[0m\u001b[0;34m\u001b[0m\u001b[0m\n\u001b[1;32m      3\u001b[0m \u001b[0mnames\u001b[0m\u001b[0;34m[\u001b[0m\u001b[0;36m0\u001b[0m\u001b[0;34m:\u001b[0m\u001b[0;36m10\u001b[0m\u001b[0;34m]\u001b[0m\u001b[0;34m\u001b[0m\u001b[0;34m\u001b[0m\u001b[0m\n",
            "\u001b[0;32m/usr/local/lib/python3.6/dist-packages/pandas/core/generic.py\u001b[0m in \u001b[0;36m__getattr__\u001b[0;34m(self, name)\u001b[0m\n\u001b[1;32m   5139\u001b[0m             \u001b[0;32mif\u001b[0m \u001b[0mself\u001b[0m\u001b[0;34m.\u001b[0m\u001b[0m_info_axis\u001b[0m\u001b[0;34m.\u001b[0m\u001b[0m_can_hold_identifiers_and_holds_name\u001b[0m\u001b[0;34m(\u001b[0m\u001b[0mname\u001b[0m\u001b[0;34m)\u001b[0m\u001b[0;34m:\u001b[0m\u001b[0;34m\u001b[0m\u001b[0;34m\u001b[0m\u001b[0m\n\u001b[1;32m   5140\u001b[0m                 \u001b[0;32mreturn\u001b[0m \u001b[0mself\u001b[0m\u001b[0;34m[\u001b[0m\u001b[0mname\u001b[0m\u001b[0;34m]\u001b[0m\u001b[0;34m\u001b[0m\u001b[0;34m\u001b[0m\u001b[0m\n\u001b[0;32m-> 5141\u001b[0;31m             \u001b[0;32mreturn\u001b[0m \u001b[0mobject\u001b[0m\u001b[0;34m.\u001b[0m\u001b[0m__getattribute__\u001b[0m\u001b[0;34m(\u001b[0m\u001b[0mself\u001b[0m\u001b[0;34m,\u001b[0m \u001b[0mname\u001b[0m\u001b[0;34m)\u001b[0m\u001b[0;34m\u001b[0m\u001b[0;34m\u001b[0m\u001b[0m\n\u001b[0m\u001b[1;32m   5142\u001b[0m \u001b[0;34m\u001b[0m\u001b[0m\n\u001b[1;32m   5143\u001b[0m     \u001b[0;32mdef\u001b[0m \u001b[0m__setattr__\u001b[0m\u001b[0;34m(\u001b[0m\u001b[0mself\u001b[0m\u001b[0;34m,\u001b[0m \u001b[0mname\u001b[0m\u001b[0;34m:\u001b[0m \u001b[0mstr\u001b[0m\u001b[0;34m,\u001b[0m \u001b[0mvalue\u001b[0m\u001b[0;34m)\u001b[0m \u001b[0;34m->\u001b[0m \u001b[0;32mNone\u001b[0m\u001b[0;34m:\u001b[0m\u001b[0;34m\u001b[0m\u001b[0;34m\u001b[0m\u001b[0m\n",
            "\u001b[0;31mAttributeError\u001b[0m: 'DataFrame' object has no attribute 'name'"
          ]
        }
      ]
    },
    {
      "cell_type": "code",
      "metadata": {
        "id": "UMZPXM7NK_7V"
      },
      "source": [
        "# Find the name of the column by index\r\n",
        "n = nodes.columns[0]\r\n",
        "\r\n",
        "# Drop that column\r\n",
        "nodes.drop(n, axis = 1, inplace = True)\r\n",
        "\r\n",
        "# Put whatever series you want in its place\r\n",
        "nodes[n] = names\r\n",
        "\r\n",
        "list(nodes.name)[0:20]"
      ],
      "execution_count": null,
      "outputs": []
    },
    {
      "cell_type": "code",
      "metadata": {
        "id": "V433kxvejlcg"
      },
      "source": [
        "# Nodes as dictionary\n",
        "nodes_dict = {}\n",
        "for (n, id) in zip(nodes[\"name\"],nodes[\"id\"]):\n",
        " # print(n, \"+\", id)\n",
        "  nodes_dict[id] = n"
      ],
      "execution_count": null,
      "outputs": []
    },
    {
      "cell_type": "code",
      "metadata": {
        "id": "dMT4PI9vHk_L"
      },
      "source": [
        "nodes_dict.values()"
      ],
      "execution_count": null,
      "outputs": []
    },
    {
      "cell_type": "markdown",
      "metadata": {
        "id": "Hukazbol5IQq"
      },
      "source": [
        "\\\r\n",
        "\r\n",
        "\r\n",
        "\r\n"
      ]
    },
    {
      "cell_type": "markdown",
      "metadata": {
        "id": "KvT9Qpmg4nvI"
      },
      "source": [
        "## Network Building\r\n",
        "\r\n"
      ]
    },
    {
      "cell_type": "code",
      "metadata": {
        "id": "Zn5pk5DSlpTX"
      },
      "source": [
        "import networkx as nx\n",
        "from statsmodels.distributions.empirical_distribution import ECDF\n",
        "import numpy as np\n",
        "import matplotlib.pyplot as plt"
      ],
      "execution_count": null,
      "outputs": []
    },
    {
      "cell_type": "code",
      "metadata": {
        "id": "k9RHnVXFme7a"
      },
      "source": [
        "G = nx.Graph()\n",
        "\n",
        "for e in edges.values.tolist():\n",
        "  G.add_edge(e[0],e[1])"
      ],
      "execution_count": null,
      "outputs": []
    },
    {
      "cell_type": "code",
      "metadata": {
        "id": "0Nzgzmp-kN_d"
      },
      "source": [
        "H = nx.relabel_nodes(G, nodes_dict)\n",
        "len(sorted(H))\n",
        "\n",
        "G = H"
      ],
      "execution_count": null,
      "outputs": []
    },
    {
      "cell_type": "code",
      "metadata": {
        "id": "_75ZAAB6nDDX"
      },
      "source": [
        "print('Number of nodes: {} - Number of links:{}'.format(G.order(),G.size()))\n"
      ],
      "execution_count": null,
      "outputs": []
    },
    {
      "cell_type": "markdown",
      "metadata": {
        "id": "gUSnmQuY5ROb"
      },
      "source": [
        "\\"
      ]
    },
    {
      "cell_type": "markdown",
      "metadata": {
        "id": "AYiLXy-R4wKP"
      },
      "source": [
        "# Degree Analysis"
      ]
    },
    {
      "cell_type": "code",
      "metadata": {
        "id": "XkY4Lqom-jIe"
      },
      "source": [
        "G.nodes()"
      ],
      "execution_count": null,
      "outputs": []
    },
    {
      "cell_type": "code",
      "metadata": {
        "id": "1fSQkejDn22I"
      },
      "source": [
        "density = nx.density(G)\n",
        "print('Density: {}'.format(density))"
      ],
      "execution_count": null,
      "outputs": []
    },
    {
      "cell_type": "code",
      "metadata": {
        "id": "M0mcsMoApMPw"
      },
      "source": [
        ""
      ],
      "execution_count": null,
      "outputs": []
    },
    {
      "cell_type": "code",
      "metadata": {
        "id": "JIXsj69-pShl"
      },
      "source": [
        "degree = list(dict(G.degree()).values())\n",
        "degree[0:20]"
      ],
      "execution_count": null,
      "outputs": []
    },
    {
      "cell_type": "code",
      "metadata": {
        "id": "zsvqwpCEpUEF"
      },
      "source": [
        "print('Standard deviation: {}'.format(np.std(degree)))\n",
        "print('Mean: {}'.format(np.mean(degree)))\n",
        "print('Median: {}'.format(np.median(degree)))\n",
        "print('Min: {}'.format(np.min(degree)))\n",
        "print('Max: {}'.format(np.max(degree)))\n",
        "\n",
        "\n",
        "print(\"Assortativity coefficient: \" + str(nx.degree_assortativity_coefficient(G)))"
      ],
      "execution_count": null,
      "outputs": []
    },
    {
      "cell_type": "markdown",
      "metadata": {
        "id": "XntfvpBl51EN"
      },
      "source": [
        "\\"
      ]
    },
    {
      "cell_type": "markdown",
      "metadata": {
        "id": "ELEr1yqD5veE"
      },
      "source": [
        "### ECDF"
      ]
    },
    {
      "cell_type": "code",
      "metadata": {
        "id": "t6f32IbipWuq"
      },
      "source": [
        "# ECDF linear scale\n",
        "cdf = ECDF(degree)\n",
        "x = np.unique(degree)\n",
        "y = cdf(x)\n",
        "fig_cdf = plt.figure(figsize=(8,4))\n",
        "axes = fig_cdf.gca()\n",
        "axes.plot(x,y,marker='o',ms=6, linestyle='None')\n",
        "axes.set_xlabel('Degree',size=20)\n",
        "axes.set_ylabel('ECDF Food', size = 20)"
      ],
      "execution_count": null,
      "outputs": []
    },
    {
      "cell_type": "code",
      "metadata": {
        "id": "85VdeXRZpbv6"
      },
      "source": [
        "\n",
        "# ECDF loglog scale\n",
        "cdf = ECDF(degree)\n",
        "x = np.unique(degree)\n",
        "y = cdf(x)\n",
        "fig_cdf = plt.figure(figsize=(8,4))\n",
        "axes = fig_cdf.gca()\n",
        "axes.loglog(x,y,marker='o',ms=8, linestyle='--')\n",
        "axes.set_xlabel('Degree',size=20)\n",
        "axes.set_ylabel('ECDF Food', size = 20)\n"
      ],
      "execution_count": null,
      "outputs": []
    },
    {
      "cell_type": "code",
      "metadata": {
        "id": "s9tOUCWqpivi"
      },
      "source": [
        "# ECCDF\n",
        "cdf = ECDF(degree)\n",
        "x = np.unique(degree)\n",
        "y = cdf(x)\n",
        "fig_cdf = plt.figure(figsize=(8,4))\n",
        "axes = fig_cdf.gca()\n",
        "axes.loglog(x,1-y,marker='o',ms=8, linestyle='--')\n",
        "axes.set_xlabel('Degree',size=20)\n",
        "axes.set_ylabel('ECCDF FOOD', size = 20)"
      ],
      "execution_count": null,
      "outputs": []
    },
    {
      "cell_type": "code",
      "metadata": {
        "id": "-NY41H7IppF7"
      },
      "source": [
        "p = density\n",
        "random_graph = nx.fast_gnp_random_graph(G.order(),p)\n"
      ],
      "execution_count": null,
      "outputs": []
    },
    {
      "cell_type": "code",
      "metadata": {
        "id": "TOi6WvTwpvpZ"
      },
      "source": [
        "print('Number of nodes: {}'.format(random_graph.order()))\n",
        "print('Number of links: {}'.format(random_graph.size()))"
      ],
      "execution_count": null,
      "outputs": []
    },
    {
      "cell_type": "code",
      "metadata": {
        "id": "FCiK8TUYpz0W"
      },
      "source": [
        "random_degree = list(dict(random_graph.degree()).values())\n",
        "print('Random Net Standard deviation: {}'.format(np.std(random_degree)))\n",
        "print('Random Net Mean: {}'.format(np.mean(random_degree)))\n",
        "print('Random Net Median: {}'.format(np.median(random_degree)))\n",
        "print('Random Net Min: {}'.format(np.min(random_degree)))\n",
        "print('Random Net Max: {}'.format(np.max(random_degree)))"
      ],
      "execution_count": null,
      "outputs": []
    },
    {
      "cell_type": "code",
      "metadata": {
        "id": "ZLzauKksp2IU"
      },
      "source": [
        "cdf = ECDF(degree)\n",
        "x = np.unique(degree)\n",
        "y = cdf(x)\n",
        "\n",
        "cdf_random = ECDF(random_degree)\n",
        "x_random = np.unique(random_degree)\n",
        "y_random = cdf_random(x_random)\n",
        "\n",
        "fig_cdf_fb = plt.figure(figsize=(8,4))\n",
        "axes = fig_cdf_fb.gca()\n",
        "axes.set_xscale('log')\n",
        "axes.set_yscale('log')\n",
        "axes.loglog(x,1-y,marker='o',ms=8, linestyle='--')\n",
        "axes.loglog(x_random,1-y_random,marker='+',ms=10, linestyle='--')\n",
        "axes.set_xlabel('Degree',size=20)\n",
        "axes.set_ylabel('ECCDF', size = 20)"
      ],
      "execution_count": null,
      "outputs": []
    },
    {
      "cell_type": "markdown",
      "metadata": {
        "id": "KAqS4YcCGaLK"
      },
      "source": [
        "\\"
      ]
    },
    {
      "cell_type": "markdown",
      "metadata": {
        "id": "x8IZWFFHpq9o"
      },
      "source": [
        "## HUBS"
      ]
    },
    {
      "cell_type": "code",
      "metadata": {
        "id": "Sg72v5vSp6tB"
      },
      "source": [
        "percentile_99 = np.percentile(degree,99)\n",
        "print(percentile_99)"
      ],
      "execution_count": null,
      "outputs": []
    },
    {
      "cell_type": "code",
      "metadata": {
        "id": "stn61tlep9e6"
      },
      "source": [
        "hub_nodi = [k for k,v in dict(G.degree()).items() if v>= percentile_99]\n"
      ],
      "execution_count": null,
      "outputs": []
    },
    {
      "cell_type": "code",
      "metadata": {
        "id": "OsfcPT35qCB_"
      },
      "source": [
        "print(len(hub_nodi))\n",
        "print(list(hub_nodi))"
      ],
      "execution_count": null,
      "outputs": []
    },
    {
      "cell_type": "code",
      "metadata": {
        "id": "ZZDQ7UGBqIqX"
      },
      "source": [
        "print(list(nx.isolates(G)))\n"
      ],
      "execution_count": null,
      "outputs": []
    },
    {
      "cell_type": "markdown",
      "metadata": {
        "id": "bYCwbh5GGYoH"
      },
      "source": [
        "\\"
      ]
    },
    {
      "cell_type": "markdown",
      "metadata": {
        "id": "nsHzYEcBp8Cz"
      },
      "source": [
        "## Connectivity"
      ]
    },
    {
      "cell_type": "code",
      "metadata": {
        "id": "uctAbGqKqVSl"
      },
      "source": [
        "print(nx.is_connected(G))\n",
        "print(nx.number_connected_components(G))"
      ],
      "execution_count": null,
      "outputs": []
    },
    {
      "cell_type": "code",
      "metadata": {
        "id": "LDPqKFb6wmB8"
      },
      "source": [
        "import math"
      ],
      "execution_count": null,
      "outputs": []
    },
    {
      "cell_type": "code",
      "metadata": {
        "id": "Ys-22v4sqYmZ"
      },
      "source": [
        "#nx.draw_networkx(H,)\n",
        "\n",
        "# draw the graph\n",
        "pos = nx.spring_layout(G)\n",
        "# color the nodes according to their partition\n",
        "nx.draw_networkx_nodes(G, pos, node_size=20, label = list(G.nodes()))\n",
        "nx.draw_networkx_edges(G, pos, alpha=0.5)\n",
        "plt.show()\n"
      ],
      "execution_count": null,
      "outputs": []
    },
    {
      "cell_type": "code",
      "metadata": {
        "id": "C_uqHiEZPZEb"
      },
      "source": [
        "nx.number_connected_components(G)"
      ],
      "execution_count": null,
      "outputs": []
    },
    {
      "cell_type": "code",
      "metadata": {
        "id": "1wX3cRDduXZe"
      },
      "source": [
        "#dir(G)"
      ],
      "execution_count": null,
      "outputs": []
    },
    {
      "cell_type": "code",
      "metadata": {
        "id": "CtRGTW8MwDWC"
      },
      "source": [
        "nodes"
      ],
      "execution_count": null,
      "outputs": []
    },
    {
      "cell_type": "code",
      "metadata": {
        "id": "b2_O0YjSZMjR"
      },
      "source": [
        "len(nx.triangles(H))"
      ],
      "execution_count": null,
      "outputs": []
    },
    {
      "cell_type": "markdown",
      "metadata": {
        "id": "L1fGte4iEGgu"
      },
      "source": [
        "\\"
      ]
    },
    {
      "cell_type": "markdown",
      "metadata": {
        "id": "SdgfcGZXEI_y"
      },
      "source": [
        "\\"
      ]
    },
    {
      "cell_type": "markdown",
      "metadata": {
        "id": "eMHDFzK2D3Ku"
      },
      "source": [
        "## Clusters"
      ]
    },
    {
      "cell_type": "code",
      "metadata": {
        "id": "UyQ4ciEkaPvh"
      },
      "source": [
        "clusters = nx.average_clustering(G)\n",
        "clusters"
      ],
      "execution_count": null,
      "outputs": []
    },
    {
      "cell_type": "code",
      "metadata": {
        "id": "yLPXd0lx9tTC"
      },
      "source": [
        "type(clusters)"
      ],
      "execution_count": null,
      "outputs": []
    },
    {
      "cell_type": "code",
      "metadata": {
        "id": "C5-1q7SaDtE0"
      },
      "source": [
        ""
      ],
      "execution_count": null,
      "outputs": []
    },
    {
      "cell_type": "code",
      "metadata": {
        "id": "hiPVa4vwZXaP"
      },
      "source": [
        "nx.transitivity(G)\n"
      ],
      "execution_count": null,
      "outputs": []
    },
    {
      "cell_type": "code",
      "metadata": {
        "id": "FPI3sqAdEbFh"
      },
      "source": [
        "local_cluster = nx.clustering(G)\r\n",
        "sorted(local_cluster.items(), key=lambda item: item[1], reverse= True)\r\n"
      ],
      "execution_count": null,
      "outputs": []
    },
    {
      "cell_type": "code",
      "metadata": {
        "id": "CcbtpU04EjyJ"
      },
      "source": [
        "triangle = nx.triangles(G)\r\n",
        "triangle"
      ],
      "execution_count": null,
      "outputs": []
    },
    {
      "cell_type": "markdown",
      "metadata": {
        "id": "5KNFNIWLDt7z"
      },
      "source": [
        "\\"
      ]
    },
    {
      "cell_type": "markdown",
      "metadata": {
        "id": "5GtY7sh6DuFl"
      },
      "source": [
        "## Centrality\r\n",
        "\r\n"
      ]
    },
    {
      "cell_type": "code",
      "metadata": {
        "id": "F3mhnNFPgPhh"
      },
      "source": [
        "deg_centr = nx.degree_centrality(G)\r\n"
      ],
      "execution_count": null,
      "outputs": []
    },
    {
      "cell_type": "code",
      "metadata": {
        "id": "R8x--vrLCPLa"
      },
      "source": [
        "eigen = nx.eigenvector_centrality(G)\r\n",
        "#eigen"
      ],
      "execution_count": null,
      "outputs": []
    },
    {
      "cell_type": "code",
      "metadata": {
        "id": "ZXafFd7cjc9_"
      },
      "source": [
        "pagerank = nx.pagerank(G)\r\n",
        "#pagerank"
      ],
      "execution_count": null,
      "outputs": []
    },
    {
      "cell_type": "code",
      "metadata": {
        "id": "y3QaV4BvDc-p"
      },
      "source": [
        "betweenesCentrality = nx.betweenness_centrality(G)\r\n",
        "#betweenesCentrality"
      ],
      "execution_count": null,
      "outputs": []
    },
    {
      "cell_type": "code",
      "metadata": {
        "id": "wkLyZWZZDldG"
      },
      "source": [
        ""
      ],
      "execution_count": null,
      "outputs": []
    },
    {
      "cell_type": "markdown",
      "metadata": {
        "id": "1VmuowQtE_jJ"
      },
      "source": [
        "\\"
      ]
    },
    {
      "cell_type": "markdown",
      "metadata": {
        "id": "K9YtqVmfFAjk"
      },
      "source": [
        "## Communities\r\n"
      ]
    },
    {
      "cell_type": "code",
      "metadata": {
        "id": "Rs36FKE2FAAz"
      },
      "source": [
        "import networkx.algorithms.community as nx_comm\r\n",
        "list_community_sets_greedy = list(nx_comm.greedy_modularity_communities(G))\r\n",
        "print(list_community_sets_greedy)"
      ],
      "execution_count": null,
      "outputs": []
    },
    {
      "cell_type": "code",
      "metadata": {
        "id": "dpX6TPImFXDd"
      },
      "source": [
        "partition_greedy = {}\r\n",
        "for i, comm in enumerate(list_community_sets_greedy):\r\n",
        "    print(\"Community:\", i)\r\n",
        "    print(i,comm)\r\n",
        "    for n in comm:\r\n",
        "        partition_greedy[n]=i"
      ],
      "execution_count": null,
      "outputs": []
    },
    {
      "cell_type": "code",
      "metadata": {
        "id": "0RmeDUIiFfhd"
      },
      "source": [
        "print(partition_greedy)"
      ],
      "execution_count": null,
      "outputs": []
    },
    {
      "cell_type": "code",
      "metadata": {
        "id": "MeJ1STUKRtc5"
      },
      "source": [
        "# draw the graph\r\n",
        "pos = nx.spring_layout(G)\r\n",
        "# color the nodes according to their partition\r\n",
        "cmap = cm.get_cmap('viridis', max(partition_greedy.values()) + 1)\r\n",
        "nx.draw_networkx_nodes(G, pos, partition_greedy.keys(), node_size=40,\r\n",
        "                       cmap=cmap, node_color=list(partition_greedy.values()))\r\n",
        "nx.draw_networkx_edges(G, pos, alpha=0.5)\r\n",
        "plt.show()"
      ],
      "execution_count": null,
      "outputs": []
    },
    {
      "cell_type": "code",
      "metadata": {
        "id": "lBIznJC6Ni2n"
      },
      "source": [
        "import community as community_louvain\r\n",
        "import matplotlib.cm as cm\r\n",
        "import matplotlib.pyplot as plt\r\n",
        "import networkx as nx"
      ],
      "execution_count": null,
      "outputs": []
    },
    {
      "cell_type": "code",
      "metadata": {
        "id": "4GiwPnExNvhO"
      },
      "source": [
        "partition_library = community_louvain.best_partition(G)"
      ],
      "execution_count": null,
      "outputs": []
    },
    {
      "cell_type": "code",
      "metadata": {
        "id": "IRkaWFmJNwjx"
      },
      "source": [
        "print(partition_library)"
      ],
      "execution_count": null,
      "outputs": []
    },
    {
      "cell_type": "code",
      "metadata": {
        "id": "hGXWvnsXNycE"
      },
      "source": [
        "# draw the graph\r\n",
        "pos = nx.spring_layout(G)\r\n",
        "# color the nodes according to their partition\r\n",
        "cmap = cm.get_cmap('viridis', max(partition_library.values()) + 1)\r\n",
        "nx.draw_networkx_nodes(G, pos, partition_library.keys(), node_size=40,\r\n",
        "                       cmap=cmap, node_color=list(partition_library.values()))\r\n",
        "nx.draw_networkx_edges(G, pos, alpha=0.5)\r\n",
        "plt.show()"
      ],
      "execution_count": null,
      "outputs": []
    },
    {
      "cell_type": "code",
      "metadata": {
        "id": "meOV1QcNODtR"
      },
      "source": [
        "comms = set(partition_library.values())\r\n",
        "comms\r\n",
        "\r\n"
      ],
      "execution_count": null,
      "outputs": []
    },
    {
      "cell_type": "code",
      "metadata": {
        "id": "oK4GKKjDQq8t"
      },
      "source": [
        "list_community_sets_library = [ set() for i in range(len(comms)) ]"
      ],
      "execution_count": null,
      "outputs": []
    },
    {
      "cell_type": "code",
      "metadata": {
        "id": "lclKJWLEQrU4"
      },
      "source": [
        "for n, comm in partition_library.items():\r\n",
        "    list_community_sets_library[comm].add(n)\r\n",
        "\r\n",
        "list_community_sets_library"
      ],
      "execution_count": null,
      "outputs": []
    },
    {
      "cell_type": "code",
      "metadata": {
        "id": "ce11QS3KQs6i"
      },
      "source": [
        "for my_list in [list_community_sets_greedy,  list_community_sets_library]:\r\n",
        "    \r\n",
        "    #print(\"Coverage\")\r\n",
        "    print(\"Coverage\", nx_comm.coverage(G, my_list))\r\n",
        "    #print(\"Modularity\")\r\n",
        "    print(\"Modularity\", nx_comm.modularity(G, my_list, weight='weight'))\r\n",
        "    #print(\"Performance\")\r\n",
        "    print(\"Performance\", nx_comm.performance(G, my_list))\r\n",
        "    \r\n",
        "    print(\"---\")"
      ],
      "execution_count": null,
      "outputs": []
    },
    {
      "cell_type": "code",
      "metadata": {
        "id": "gyJaQIaVRAws"
      },
      "source": [
        "list_community_sets_library"
      ],
      "execution_count": null,
      "outputs": []
    },
    {
      "cell_type": "code",
      "metadata": {
        "id": "_4aPTKeORC2d"
      },
      "source": [
        "\r\n",
        "\r\n",
        "pairs = []\r\n",
        "for i, nodes in enumerate(list_community_sets_library):\r\n",
        "    print(i,len(nodes))\r\n",
        "    comm_size = (i,len(nodes))\r\n",
        "    pairs.append(comm_size)\r\n",
        "\r\n"
      ],
      "execution_count": null,
      "outputs": []
    },
    {
      "cell_type": "code",
      "metadata": {
        "id": "k4xDW9RORELR"
      },
      "source": [
        "pairs"
      ],
      "execution_count": null,
      "outputs": []
    },
    {
      "cell_type": "code",
      "metadata": {
        "id": "hNbXN52fREWE"
      },
      "source": [
        "community_index = []\r\n",
        "number_of_nodes = []\r\n",
        "\r\n",
        "for comm, n_nodes in pairs:\r\n",
        "    community_index.append(str(comm))\r\n",
        "    number_of_nodes.append(n_nodes)\r\n",
        "\r\n"
      ],
      "execution_count": null,
      "outputs": []
    },
    {
      "cell_type": "code",
      "metadata": {
        "id": "83NF1Wn6RJFa"
      },
      "source": [
        "plt.bar(community_index,number_of_nodes)\r\n",
        "plt.xlabel(\"Community\")\r\n",
        "plt.ylabel(\"Number of nodes\")"
      ],
      "execution_count": null,
      "outputs": []
    }
  ]
}