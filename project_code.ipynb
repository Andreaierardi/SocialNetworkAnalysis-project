{
  "nbformat": 4,
  "nbformat_minor": 0,
  "metadata": {
    "colab": {
      "name": "project_code.ipynb",
      "provenance": [],
      "collapsed_sections": [],
      "authorship_tag": "ABX9TyNuCBUM+Cgj/CZAnd8LH1K2",
      "include_colab_link": true
    },
    "kernelspec": {
      "name": "python3",
      "display_name": "Python 3"
    }
  },
  "cells": [
    {
      "cell_type": "markdown",
      "metadata": {
        "id": "view-in-github",
        "colab_type": "text"
      },
      "source": [
        "<a href=\"https://colab.research.google.com/github/Andreaierardi/SocialNetworkAnalysis-project/blob/main/project_code.ipynb\" target=\"_parent\"><img src=\"https://colab.research.google.com/assets/colab-badge.svg\" alt=\"Open In Colab\"/></a>"
      ]
    },
    {
      "cell_type": "markdown",
      "metadata": {
        "id": "emEG98GnrQo6"
      },
      "source": [
        "# **Social Network Analysis Project**\n",
        "\n",
        "> ## **University of Milan** - **DataScience and Economics**\n",
        "\n",
        "<br>\n",
        "\n",
        "#### Author : **Andrea Ierardi**\n",
        "\n",
        "<br>\n",
        "\n",
        "\n",
        "---\n",
        "\n"
      ]
    },
    {
      "cell_type": "markdown",
      "metadata": {
        "id": "7dDSzSi-p7f8"
      },
      "source": [
        "\r\n",
        " <br>\r\n",
        "\r\n",
        "\r\n",
        "\r\n",
        "\r\n"
      ]
    },
    {
      "cell_type": "markdown",
      "metadata": {
        "id": "D_1SNIKKje5V"
      },
      "source": [
        "## Dataset\r\n",
        "### Description\r\n",
        "\r\n",
        "Data collected about Facebook pages (November 2017). These datasets represent blue verified Facebook page networks of different categories. Nodes represent the pages and edges are mutual likes among them.\r\n",
        "\r\n",
        "\r\n",
        "\r\n",
        "\r\n",
        "\r\n"
      ]
    },
    {
      "cell_type": "markdown",
      "metadata": {
        "id": "-EnzyahlphFf"
      },
      "source": [
        "\r\n",
        " <br>\r\n",
        "\r\n",
        "\r\n",
        "\r\n",
        "\r\n"
      ]
    },
    {
      "cell_type": "code",
      "metadata": {
        "id": "YKVanDJn21rf"
      },
      "source": [
        "import pandas as pd\n",
        "nodes = pd.read_csv('https://raw.githubusercontent.com/Andreaierardi/SocialNetworkAnalysis-project/main/dataset/fb-pages-food.csv',sep=\";\")\n",
        "\n",
        "edges = pd.read_csv('https://raw.githubusercontent.com/Andreaierardi/SocialNetworkAnalysis-project/main/dataset/fb-pages-food.edges')\n"
      ],
      "execution_count": 181,
      "outputs": []
    },
    {
      "cell_type": "code",
      "metadata": {
        "id": "wdH8yTmE3XG0",
        "colab": {
          "base_uri": "https://localhost:8080/"
        },
        "outputId": "d7ba6719-07b5-4452-a25d-606b4eb2e1a8"
      },
      "source": [
        "print(nodes)\n",
        "print(edges)"
      ],
      "execution_count": 182,
      "outputs": [
        {
          "output_type": "stream",
          "text": [
            "                        name   id\n",
            "0                 Josh Marks  386\n",
            "1    Blue Ribbon Restaurants  473\n",
            "2                  Pat Neely    1\n",
            "3                 La Griglia  542\n",
            "4                Jose Garces  189\n",
            "..                       ...  ...\n",
            "615               Jumia Food  163\n",
            "616              Luke Thomas  381\n",
            "617          Clodagh McKenna  140\n",
            "618  Chef Michelle Bernstein  157\n",
            "619               SORTEDfood  114\n",
            "\n",
            "[620 rows x 2 columns]\n",
            "      source  target\n",
            "0          0     276\n",
            "1          0      58\n",
            "2          0     132\n",
            "3          0     603\n",
            "4          0     398\n",
            "...      ...     ...\n",
            "2097     597     611\n",
            "2098     601     603\n",
            "2099     601     616\n",
            "2100     603     616\n",
            "2101     311     613\n",
            "\n",
            "[2102 rows x 2 columns]\n"
          ],
          "name": "stdout"
        }
      ]
    },
    {
      "cell_type": "code",
      "metadata": {
        "colab": {
          "base_uri": "https://localhost:8080/",
          "height": 424
        },
        "id": "oLNCmyPNI9hM",
        "outputId": "733b7450-33b2-4474-9538-0bd3f9ce0aca"
      },
      "source": [
        "nodes"
      ],
      "execution_count": 183,
      "outputs": [
        {
          "output_type": "execute_result",
          "data": {
            "text/html": [
              "<div>\n",
              "<style scoped>\n",
              "    .dataframe tbody tr th:only-of-type {\n",
              "        vertical-align: middle;\n",
              "    }\n",
              "\n",
              "    .dataframe tbody tr th {\n",
              "        vertical-align: top;\n",
              "    }\n",
              "\n",
              "    .dataframe thead th {\n",
              "        text-align: right;\n",
              "    }\n",
              "</style>\n",
              "<table border=\"1\" class=\"dataframe\">\n",
              "  <thead>\n",
              "    <tr style=\"text-align: right;\">\n",
              "      <th></th>\n",
              "      <th>name</th>\n",
              "      <th>id</th>\n",
              "    </tr>\n",
              "  </thead>\n",
              "  <tbody>\n",
              "    <tr>\n",
              "      <th>0</th>\n",
              "      <td>Josh Marks</td>\n",
              "      <td>386</td>\n",
              "    </tr>\n",
              "    <tr>\n",
              "      <th>1</th>\n",
              "      <td>Blue Ribbon Restaurants</td>\n",
              "      <td>473</td>\n",
              "    </tr>\n",
              "    <tr>\n",
              "      <th>2</th>\n",
              "      <td>Pat Neely</td>\n",
              "      <td>1</td>\n",
              "    </tr>\n",
              "    <tr>\n",
              "      <th>3</th>\n",
              "      <td>La Griglia</td>\n",
              "      <td>542</td>\n",
              "    </tr>\n",
              "    <tr>\n",
              "      <th>4</th>\n",
              "      <td>Jose Garces</td>\n",
              "      <td>189</td>\n",
              "    </tr>\n",
              "    <tr>\n",
              "      <th>...</th>\n",
              "      <td>...</td>\n",
              "      <td>...</td>\n",
              "    </tr>\n",
              "    <tr>\n",
              "      <th>615</th>\n",
              "      <td>Jumia Food</td>\n",
              "      <td>163</td>\n",
              "    </tr>\n",
              "    <tr>\n",
              "      <th>616</th>\n",
              "      <td>Luke Thomas</td>\n",
              "      <td>381</td>\n",
              "    </tr>\n",
              "    <tr>\n",
              "      <th>617</th>\n",
              "      <td>Clodagh McKenna</td>\n",
              "      <td>140</td>\n",
              "    </tr>\n",
              "    <tr>\n",
              "      <th>618</th>\n",
              "      <td>Chef Michelle Bernstein</td>\n",
              "      <td>157</td>\n",
              "    </tr>\n",
              "    <tr>\n",
              "      <th>619</th>\n",
              "      <td>SORTEDfood</td>\n",
              "      <td>114</td>\n",
              "    </tr>\n",
              "  </tbody>\n",
              "</table>\n",
              "<p>620 rows × 2 columns</p>\n",
              "</div>"
            ],
            "text/plain": [
              "                        name   id\n",
              "0                 Josh Marks  386\n",
              "1    Blue Ribbon Restaurants  473\n",
              "2                  Pat Neely    1\n",
              "3                 La Griglia  542\n",
              "4                Jose Garces  189\n",
              "..                       ...  ...\n",
              "615               Jumia Food  163\n",
              "616              Luke Thomas  381\n",
              "617          Clodagh McKenna  140\n",
              "618  Chef Michelle Bernstein  157\n",
              "619               SORTEDfood  114\n",
              "\n",
              "[620 rows x 2 columns]"
            ]
          },
          "metadata": {
            "tags": []
          },
          "execution_count": 183
        }
      ]
    },
    {
      "cell_type": "code",
      "metadata": {
        "id": "rWB-XdMBJEx2"
      },
      "source": [
        "from collections import Counter # Counter counts the number of occurrences of each item\r\n",
        "from itertools import tee, count\r\n",
        "def uniquify(seq, suffs = count(1)):\r\n",
        "    \"\"\"Make all the items unique by adding a suffix (1, 2, etc).\r\n",
        "\r\n",
        "    `seq` is mutable sequence of strings.\r\n",
        "    `suffs` is an optional alternative suffix iterable.\r\n",
        "    \"\"\"\r\n",
        "    not_unique = [k for k,v in Counter(seq).items() if v>1] # so we have: ['name', 'zip']\r\n",
        "    # suffix generator dict - e.g., {'name': <my_gen>, 'zip': <my_gen>}\r\n",
        "    suff_gens = dict(zip(not_unique, tee(suffs, len(not_unique))))  \r\n",
        "    for idx,s in enumerate(seq):\r\n",
        "        try:\r\n",
        "            suffix = str(next(suff_gens[s]))\r\n",
        "        except KeyError:\r\n",
        "            # s was unique\r\n",
        "            continue\r\n",
        "        else:\r\n",
        "            seq[idx] += suffix\r\n",
        "    "
      ],
      "execution_count": 184,
      "outputs": []
    },
    {
      "cell_type": "code",
      "metadata": {
        "colab": {
          "base_uri": "https://localhost:8080/"
        },
        "id": "rUoGw9ldJR8S",
        "outputId": "e3dfc296-97d2-4a1b-aedf-ebb96a391038"
      },
      "source": [
        "names = list(nodes.name)\r\n",
        "uniquify(names, (f'_{x!s}' for x in range(1, 100)))\r\n",
        "names[0:10]"
      ],
      "execution_count": 185,
      "outputs": [
        {
          "output_type": "execute_result",
          "data": {
            "text/plain": [
              "['Josh Marks',\n",
              " 'Blue Ribbon Restaurants',\n",
              " 'Pat Neely',\n",
              " 'La Griglia',\n",
              " 'Jose Garces',\n",
              " 'Zac Kara',\n",
              " 'Big Fish Seafood Bistro_1',\n",
              " 'Tom Aikens',\n",
              " 'The Habit Burger Grill',\n",
              " 'Chef Sheldon Simeon']"
            ]
          },
          "metadata": {
            "tags": []
          },
          "execution_count": 185
        }
      ]
    },
    {
      "cell_type": "code",
      "metadata": {
        "colab": {
          "base_uri": "https://localhost:8080/"
        },
        "id": "UMZPXM7NK_7V",
        "outputId": "bf0148e3-f309-42a3-8d19-34a93c3745ed"
      },
      "source": [
        "# Find the name of the column by index\r\n",
        "n = nodes.columns[0]\r\n",
        "\r\n",
        "# Drop that column\r\n",
        "nodes.drop(n, axis = 1, inplace = True)\r\n",
        "\r\n",
        "# Put whatever series you want in its place\r\n",
        "nodes[n] = names\r\n",
        "\r\n",
        "list(nodes.name)[0:20]"
      ],
      "execution_count": 186,
      "outputs": [
        {
          "output_type": "execute_result",
          "data": {
            "text/plain": [
              "['Josh Marks',\n",
              " 'Blue Ribbon Restaurants',\n",
              " 'Pat Neely',\n",
              " 'La Griglia',\n",
              " 'Jose Garces',\n",
              " 'Zac Kara',\n",
              " 'Big Fish Seafood Bistro_1',\n",
              " 'Tom Aikens',\n",
              " 'The Habit Burger Grill',\n",
              " 'Chef Sheldon Simeon',\n",
              " 'Ochikeron',\n",
              " 'Taco Bell Cyprus',\n",
              " 'Christophe Michalak',\n",
              " \"Peohe's\",\n",
              " 'Destino Ibiza',\n",
              " 'KFC_1',\n",
              " 'Chef Shirley Chung',\n",
              " 'Doug Adams',\n",
              " 'משה שגב / Moshe Segev',\n",
              " 'Angel Leon Gonzalez']"
            ]
          },
          "metadata": {
            "tags": []
          },
          "execution_count": 186
        }
      ]
    },
    {
      "cell_type": "code",
      "metadata": {
        "id": "V433kxvejlcg"
      },
      "source": [
        "# Nodes as dictionary\n",
        "nodes_dict = {}\n",
        "for (n, id) in zip(nodes[\"name\"],nodes[\"id\"]):\n",
        " # print(n, \"+\", id)\n",
        "  nodes_dict[id] = n"
      ],
      "execution_count": 187,
      "outputs": []
    },
    {
      "cell_type": "code",
      "metadata": {
        "colab": {
          "base_uri": "https://localhost:8080/"
        },
        "id": "dMT4PI9vHk_L",
        "outputId": "0d275735-4a01-449a-b22d-647a90948657"
      },
      "source": [
        "list(nodes_dict.values())[0:20]"
      ],
      "execution_count": 188,
      "outputs": [
        {
          "output_type": "execute_result",
          "data": {
            "text/plain": [
              "['Josh Marks',\n",
              " 'Blue Ribbon Restaurants',\n",
              " 'Pat Neely',\n",
              " 'La Griglia',\n",
              " 'Jose Garces',\n",
              " 'Zac Kara',\n",
              " 'Big Fish Seafood Bistro_1',\n",
              " 'Tom Aikens',\n",
              " 'The Habit Burger Grill',\n",
              " 'Chef Sheldon Simeon',\n",
              " 'Ochikeron',\n",
              " 'Taco Bell Cyprus',\n",
              " 'Christophe Michalak',\n",
              " \"Peohe's\",\n",
              " 'Destino Ibiza',\n",
              " 'KFC_1',\n",
              " 'Chef Shirley Chung',\n",
              " 'Doug Adams',\n",
              " 'משה שגב / Moshe Segev',\n",
              " 'Angel Leon Gonzalez']"
            ]
          },
          "metadata": {
            "tags": []
          },
          "execution_count": 188
        }
      ]
    },
    {
      "cell_type": "markdown",
      "metadata": {
        "id": "Hukazbol5IQq"
      },
      "source": [
        "\r\n",
        " <br>\r\n",
        "\r\n",
        "\r\n",
        "\r\n"
      ]
    },
    {
      "cell_type": "markdown",
      "metadata": {
        "id": "KvT9Qpmg4nvI"
      },
      "source": [
        "## Network Building\r\n",
        "\r\n"
      ]
    },
    {
      "cell_type": "code",
      "metadata": {
        "id": "Zn5pk5DSlpTX"
      },
      "source": [
        "import networkx as nx\n",
        "from statsmodels.distributions.empirical_distribution import ECDF\n",
        "import numpy as np\n",
        "import matplotlib.pyplot as plt"
      ],
      "execution_count": 189,
      "outputs": []
    },
    {
      "cell_type": "code",
      "metadata": {
        "id": "k9RHnVXFme7a"
      },
      "source": [
        "G = nx.Graph()\n",
        "\n",
        "for e in edges.values.tolist():\n",
        "  G.add_edge(e[0],e[1])"
      ],
      "execution_count": 190,
      "outputs": []
    },
    {
      "cell_type": "code",
      "metadata": {
        "id": "0Nzgzmp-kN_d"
      },
      "source": [
        "H = nx.relabel_nodes(G, nodes_dict)\n",
        "len(sorted(H))\n",
        "\n",
        "G = H"
      ],
      "execution_count": 191,
      "outputs": []
    },
    {
      "cell_type": "code",
      "metadata": {
        "colab": {
          "base_uri": "https://localhost:8080/"
        },
        "id": "_75ZAAB6nDDX",
        "outputId": "ac9f4708-250a-4694-b666-a1f6b25b9c20"
      },
      "source": [
        "print('Number of nodes: {} - Number of links:{}'.format(G.order(),G.size()))\n"
      ],
      "execution_count": 192,
      "outputs": [
        {
          "output_type": "stream",
          "text": [
            "Number of nodes: 620 - Number of links:2102\n"
          ],
          "name": "stdout"
        }
      ]
    },
    {
      "cell_type": "markdown",
      "metadata": {
        "id": "gUSnmQuY5ROb"
      },
      "source": [
        "\r\n",
        " <br>"
      ]
    },
    {
      "cell_type": "markdown",
      "metadata": {
        "id": "AYiLXy-R4wKP"
      },
      "source": [
        "# Degree Analysis"
      ]
    },
    {
      "cell_type": "code",
      "metadata": {
        "id": "XkY4Lqom-jIe",
        "colab": {
          "base_uri": "https://localhost:8080/"
        },
        "outputId": "f873dec5-a80e-484a-9da5-eba49ff44f6d"
      },
      "source": [
        "list(G.nodes())[0:20]"
      ],
      "execution_count": 193,
      "outputs": [
        {
          "output_type": "execute_result",
          "data": {
            "text/plain": [
              "['Lee Anne Wong',\n",
              " 'KFC_3',\n",
              " 'Chef Jamie Gwen',\n",
              " 'Madison Cowan',\n",
              " 'Elizabeth Karmel',\n",
              " 'KFC_22',\n",
              " 'KFC_8',\n",
              " 'Pat Neely',\n",
              " 'Logan Junior Chef',\n",
              " 'Robin Miller',\n",
              " 'Ben Sargent & Dr. Klaw',\n",
              " 'Bobby Flay',\n",
              " 'Chuck Hughes',\n",
              " 'Chef Carlo Cracco',\n",
              " 'Pasqualino Barbasso',\n",
              " 'Alessandro Borghese',\n",
              " 'Chef Hirohiko Shoda',\n",
              " 'Alain Ducasse',\n",
              " 'Christian Bau',\n",
              " 'Andy Luotto']"
            ]
          },
          "metadata": {
            "tags": []
          },
          "execution_count": 193
        }
      ]
    },
    {
      "cell_type": "code",
      "metadata": {
        "colab": {
          "base_uri": "https://localhost:8080/"
        },
        "id": "1fSQkejDn22I",
        "outputId": "266c3fd1-08f1-4ad6-93ce-e93949c0d292"
      },
      "source": [
        "density = nx.density(G)\n",
        "print('Density: {}'.format(density))"
      ],
      "execution_count": 194,
      "outputs": [
        {
          "output_type": "stream",
          "text": [
            "Density: 0.0109541925061233\n"
          ],
          "name": "stdout"
        }
      ]
    },
    {
      "cell_type": "code",
      "metadata": {
        "id": "M0mcsMoApMPw"
      },
      "source": [
        ""
      ],
      "execution_count": 194,
      "outputs": []
    },
    {
      "cell_type": "code",
      "metadata": {
        "id": "JIXsj69-pShl",
        "colab": {
          "base_uri": "https://localhost:8080/"
        },
        "outputId": "293fa5b2-eaf0-4565-b421-2770ceed4b1f"
      },
      "source": [
        "degree = list(dict(G.degree()).values())\n",
        "degree[0:20]"
      ],
      "execution_count": 195,
      "outputs": [
        {
          "output_type": "execute_result",
          "data": {
            "text/plain": [
              "[6, 11, 15, 2, 27, 9, 17, 2, 134, 47, 3, 31, 11, 10, 7, 10, 7, 19, 7, 3]"
            ]
          },
          "metadata": {
            "tags": []
          },
          "execution_count": 195
        }
      ]
    },
    {
      "cell_type": "code",
      "metadata": {
        "colab": {
          "base_uri": "https://localhost:8080/"
        },
        "id": "zsvqwpCEpUEF",
        "outputId": "f0d1a01c-3a2c-4c85-e1bf-a831d432c59d"
      },
      "source": [
        "print('Standard deviation: {}'.format(np.std(degree)))\n",
        "print('Mean: {}'.format(np.mean(degree)))\n",
        "print('Median: {}'.format(np.median(degree)))\n",
        "print('Min: {}'.format(np.min(degree)))\n",
        "print('Max: {}'.format(np.max(degree)))\n",
        "\n",
        "\n",
        "print(\"Assortativity coefficient: \" + str(nx.degree_assortativity_coefficient(G)))"
      ],
      "execution_count": 196,
      "outputs": [
        {
          "output_type": "stream",
          "text": [
            "Standard deviation: 9.46914920573866\n",
            "Mean: 6.780645161290322\n",
            "Median: 4.0\n",
            "Min: 1\n",
            "Max: 134\n",
            "Assortativity coefficient: -0.028203795222469928\n"
          ],
          "name": "stdout"
        }
      ]
    },
    {
      "cell_type": "markdown",
      "metadata": {
        "id": "XntfvpBl51EN"
      },
      "source": [
        "\r\n",
        " <br>"
      ]
    },
    {
      "cell_type": "markdown",
      "metadata": {
        "id": "ELEr1yqD5veE"
      },
      "source": [
        "### ECDF"
      ]
    },
    {
      "cell_type": "code",
      "metadata": {
        "colab": {
          "base_uri": "https://localhost:8080/",
          "height": 307
        },
        "id": "t6f32IbipWuq",
        "outputId": "c9c40a27-c86c-46b6-f42b-af5656bcf672"
      },
      "source": [
        "# ECDF linear scale\n",
        "cdf = ECDF(degree)\n",
        "x = np.unique(degree)\n",
        "y = cdf(x)\n",
        "fig_cdf = plt.figure(figsize=(8,4))\n",
        "axes = fig_cdf.gca()\n",
        "axes.plot(x,y,marker='o',ms=6, linestyle='None')\n",
        "axes.set_xlabel('Degree',size=20)\n",
        "axes.set_ylabel('ECDF Food', size = 20)"
      ],
      "execution_count": 197,
      "outputs": [
        {
          "output_type": "execute_result",
          "data": {
            "text/plain": [
              "Text(0, 0.5, 'ECDF Food')"
            ]
          },
          "metadata": {
            "tags": []
          },
          "execution_count": 197
        },
        {
          "output_type": "display_data",
          "data": {
            "image/png": "[encoded data removed]",
            "text/plain": [
              "<Figure size 576x288 with 1 Axes>"
            ]
          },
          "metadata": {
            "tags": [],
            "needs_background": "light"
          }
        }
      ]
    },
    {
      "cell_type": "code",
      "metadata": {
        "colab": {
          "base_uri": "https://localhost:8080/",
          "height": 311
        },
        "id": "85VdeXRZpbv6",
        "outputId": "4df37722-4981-46c9-e0fe-028592a54da6"
      },
      "source": [
        "\n",
        "# ECDF loglog scale\n",
        "cdf = ECDF(degree)\n",
        "x = np.unique(degree)\n",
        "y = cdf(x)\n",
        "fig_cdf = plt.figure(figsize=(8,4))\n",
        "axes = fig_cdf.gca()\n",
        "axes.loglog(x,y,marker='o',ms=8, linestyle='--')\n",
        "axes.set_xlabel('Degree',size=20)\n",
        "axes.set_ylabel('ECDF Food', size = 20)\n"
      ],
      "execution_count": 198,
      "outputs": [
        {
          "output_type": "execute_result",
          "data": {
            "text/plain": [
              "Text(0, 0.5, 'ECDF Food')"
            ]
          },
          "metadata": {
            "tags": []
          },
          "execution_count": 198
        },
        {
          "output_type": "display_data",
          "data": {
            "image/png": "[encoded data removed]",
            "text/plain": [
              "<Figure size 576x288 with 1 Axes>"
            ]
          },
          "metadata": {
            "tags": [],
            "needs_background": "light"
          }
        }
      ]
    },
    {
      "cell_type": "code",
      "metadata": {
        "colab": {
          "base_uri": "https://localhost:8080/",
          "height": 314
        },
        "id": "s9tOUCWqpivi",
        "outputId": "2f7e2257-ae58-41d6-9100-f839b6061563"
      },
      "source": [
        "# ECCDF\n",
        "cdf = ECDF(degree)\n",
        "x = np.unique(degree)\n",
        "y = cdf(x)\n",
        "fig_cdf = plt.figure(figsize=(8,4))\n",
        "axes = fig_cdf.gca()\n",
        "axes.loglog(x,1-y,marker='o',ms=8, linestyle='--')\n",
        "axes.set_xlabel('Degree',size=20)\n",
        "axes.set_ylabel('ECCDF FOOD', size = 20)"
      ],
      "execution_count": 199,
      "outputs": [
        {
          "output_type": "execute_result",
          "data": {
            "text/plain": [
              "Text(0, 0.5, 'ECCDF FOOD')"
            ]
          },
          "metadata": {
            "tags": []
          },
          "execution_count": 199
        },
        {
          "output_type": "display_data",
          "data": {
            "image/png": "[encoded data removed]",
            "text/plain": [
              "<Figure size 576x288 with 1 Axes>"
            ]
          },
          "metadata": {
            "tags": [],
            "needs_background": "light"
          }
        }
      ]
    },
    {
      "cell_type": "code",
      "metadata": {
        "id": "-NY41H7IppF7"
      },
      "source": [
        "p = density\n",
        "random_graph = nx.fast_gnp_random_graph(G.order(),p)\n"
      ],
      "execution_count": 200,
      "outputs": []
    },
    {
      "cell_type": "code",
      "metadata": {
        "colab": {
          "base_uri": "https://localhost:8080/"
        },
        "id": "TOi6WvTwpvpZ",
        "outputId": "52cdd37d-19e4-4521-f11e-3b685acd2502"
      },
      "source": [
        "print('Number of nodes: {}'.format(random_graph.order()))\n",
        "print('Number of links: {}'.format(random_graph.size()))"
      ],
      "execution_count": 201,
      "outputs": [
        {
          "output_type": "stream",
          "text": [
            "Number of nodes: 620\n",
            "Number of links: 2114\n"
          ],
          "name": "stdout"
        }
      ]
    },
    {
      "cell_type": "code",
      "metadata": {
        "id": "FCiK8TUYpz0W",
        "colab": {
          "base_uri": "https://localhost:8080/"
        },
        "outputId": "21c4d46e-e0b9-402d-d318-afc244647640"
      },
      "source": [
        "random_degree = list(dict(random_graph.degree()).values())\n",
        "print('Random Net Standard deviation: {}'.format(np.std(random_degree)))\n",
        "print('Random Net Mean: {}'.format(np.mean(random_degree)))\n",
        "print('Random Net Median: {}'.format(np.median(random_degree)))\n",
        "print('Random Net Min: {}'.format(np.min(random_degree)))\n",
        "print('Random Net Max: {}'.format(np.max(random_degree)))"
      ],
      "execution_count": 202,
      "outputs": [
        {
          "output_type": "stream",
          "text": [
            "Random Net Standard deviation: 2.5626875201050936\n",
            "Random Net Mean: 6.819354838709677\n",
            "Random Net Median: 7.0\n",
            "Random Net Min: 0\n",
            "Random Net Max: 14\n"
          ],
          "name": "stdout"
        }
      ]
    },
    {
      "cell_type": "code",
      "metadata": {
        "colab": {
          "base_uri": "https://localhost:8080/",
          "height": 311
        },
        "id": "ZLzauKksp2IU",
        "outputId": "e157ef33-27b9-4638-ec24-865027a05e99"
      },
      "source": [
        "cdf = ECDF(degree)\n",
        "x = np.unique(degree)\n",
        "y = cdf(x)\n",
        "\n",
        "cdf_random = ECDF(random_degree)\n",
        "x_random = np.unique(random_degree)\n",
        "y_random = cdf_random(x_random)\n",
        "\n",
        "fig_cdf_fb = plt.figure(figsize=(8,4))\n",
        "axes = fig_cdf_fb.gca()\n",
        "axes.set_xscale('log')\n",
        "axes.set_yscale('log')\n",
        "axes.loglog(x,1-y,marker='o',ms=8, linestyle='--')\n",
        "axes.loglog(x_random,1-y_random,marker='+',ms=10, linestyle='--')\n",
        "axes.set_xlabel('Degree',size=20)\n",
        "axes.set_ylabel('ECCDF', size = 20)"
      ],
      "execution_count": 203,
      "outputs": [
        {
          "output_type": "execute_result",
          "data": {
            "text/plain": [
              "Text(0, 0.5, 'ECCDF')"
            ]
          },
          "metadata": {
            "tags": []
          },
          "execution_count": 203
        },
        {
          "output_type": "display_data",
          "data": {
            "image/png": "[encoded data removed]",
            "text/plain": [
              "<Figure size 576x288 with 1 Axes>"
            ]
          },
          "metadata": {
            "tags": [],
            "needs_background": "light"
          }
        }
      ]
    },
    {
      "cell_type": "markdown",
      "metadata": {
        "id": "KAqS4YcCGaLK"
      },
      "source": [
        "\r\n",
        " <br>"
      ]
    },
    {
      "cell_type": "markdown",
      "metadata": {
        "id": "x8IZWFFHpq9o"
      },
      "source": [
        "## HUBS"
      ]
    },
    {
      "cell_type": "code",
      "metadata": {
        "colab": {
          "base_uri": "https://localhost:8080/"
        },
        "id": "Sg72v5vSp6tB",
        "outputId": "75fd763f-0620-46c3-9ab4-ba3408c59a8f"
      },
      "source": [
        "percentile_99 = np.percentile(degree,99)\n",
        "print(percentile_99)"
      ],
      "execution_count": 204,
      "outputs": [
        {
          "output_type": "stream",
          "text": [
            "47.0\n"
          ],
          "name": "stdout"
        }
      ]
    },
    {
      "cell_type": "code",
      "metadata": {
        "id": "stn61tlep9e6"
      },
      "source": [
        "hub_nodi = [k for k,v in dict(G.degree()).items() if v>= percentile_99]\n"
      ],
      "execution_count": 205,
      "outputs": []
    },
    {
      "cell_type": "code",
      "metadata": {
        "colab": {
          "base_uri": "https://localhost:8080/"
        },
        "id": "OsfcPT35qCB_",
        "outputId": "6339f73e-43e1-4c36-f2d7-d47e64c48a92"
      },
      "source": [
        "print(len(hub_nodi))\n",
        "print(list(hub_nodi))"
      ],
      "execution_count": 206,
      "outputs": [
        {
          "output_type": "stream",
          "text": [
            "8\n",
            "['Logan Junior Chef', 'Robin Miller', 'Scott Conant', \"McDonald's_6\", 'Eric Ripert', 'Alex Guarnaschelli', 'David Chang', 'Chef Daniel Boulud']\n"
          ],
          "name": "stdout"
        }
      ]
    },
    {
      "cell_type": "code",
      "metadata": {
        "colab": {
          "base_uri": "https://localhost:8080/"
        },
        "id": "ZZDQ7UGBqIqX",
        "outputId": "a2bd413f-5437-447c-bc6a-5eb917523ec3"
      },
      "source": [
        "print(list(nx.isolates(G)))\n"
      ],
      "execution_count": 207,
      "outputs": [
        {
          "output_type": "stream",
          "text": [
            "[]\n"
          ],
          "name": "stdout"
        }
      ]
    },
    {
      "cell_type": "markdown",
      "metadata": {
        "id": "bYCwbh5GGYoH"
      },
      "source": [
        "\r\n",
        " <br>"
      ]
    },
    {
      "cell_type": "markdown",
      "metadata": {
        "id": "nsHzYEcBp8Cz"
      },
      "source": [
        "## Connectivity"
      ]
    },
    {
      "cell_type": "code",
      "metadata": {
        "colab": {
          "base_uri": "https://localhost:8080/"
        },
        "id": "uctAbGqKqVSl",
        "outputId": "f87310a2-a465-467d-8176-4a17bdb414e0"
      },
      "source": [
        "print(nx.is_connected(G))\n",
        "print(nx.number_connected_components(G))"
      ],
      "execution_count": 208,
      "outputs": [
        {
          "output_type": "stream",
          "text": [
            "True\n",
            "1\n"
          ],
          "name": "stdout"
        }
      ]
    },
    {
      "cell_type": "code",
      "metadata": {
        "id": "LDPqKFb6wmB8"
      },
      "source": [
        "import math"
      ],
      "execution_count": 209,
      "outputs": []
    },
    {
      "cell_type": "code",
      "metadata": {
        "colab": {
          "base_uri": "https://localhost:8080/",
          "height": 248
        },
        "id": "Ys-22v4sqYmZ",
        "outputId": "e8609b5c-a763-4ef7-96d9-1d00542c863e"
      },
      "source": [
        "#nx.draw_networkx(H,)\n",
        "\n",
        "# draw the graph\n",
        "pos = nx.spring_layout(G)\n",
        "# color the nodes according to their partition\n",
        "nx.draw_networkx_nodes(G, pos, node_size=20, label = list(G.nodes()))\n",
        "nx.draw_networkx_edges(G, pos, alpha=0.5)\n",
        "plt.show()\n"
      ],
      "execution_count": 210,
      "outputs": [
        {
          "output_type": "display_data",
          "data": {
            "image/png": "[encoded data removed]",
            "text/plain": [
              "<Figure size 432x288 with 1 Axes>"
            ]
          },
          "metadata": {
            "tags": []
          }
        }
      ]
    },
    {
      "cell_type": "code",
      "metadata": {
        "id": "C_uqHiEZPZEb",
        "colab": {
          "base_uri": "https://localhost:8080/"
        },
        "outputId": "18bbbfe4-0076-4dd7-b4e0-b9ee22b5850c"
      },
      "source": [
        "nx.number_connected_components(G)"
      ],
      "execution_count": 211,
      "outputs": [
        {
          "output_type": "execute_result",
          "data": {
            "text/plain": [
              "1"
            ]
          },
          "metadata": {
            "tags": []
          },
          "execution_count": 211
        }
      ]
    },
    {
      "cell_type": "code",
      "metadata": {
        "id": "1wX3cRDduXZe"
      },
      "source": [
        "#dir(G)"
      ],
      "execution_count": 212,
      "outputs": []
    },
    {
      "cell_type": "code",
      "metadata": {
        "colab": {
          "base_uri": "https://localhost:8080/",
          "height": 424
        },
        "id": "CtRGTW8MwDWC",
        "outputId": "6004ee67-3564-4fba-94df-352c1cb6542d"
      },
      "source": [
        "nodes"
      ],
      "execution_count": 213,
      "outputs": [
        {
          "output_type": "execute_result",
          "data": {
            "text/html": [
              "<div>\n",
              "<style scoped>\n",
              "    .dataframe tbody tr th:only-of-type {\n",
              "        vertical-align: middle;\n",
              "    }\n",
              "\n",
              "    .dataframe tbody tr th {\n",
              "        vertical-align: top;\n",
              "    }\n",
              "\n",
              "    .dataframe thead th {\n",
              "        text-align: right;\n",
              "    }\n",
              "</style>\n",
              "<table border=\"1\" class=\"dataframe\">\n",
              "  <thead>\n",
              "    <tr style=\"text-align: right;\">\n",
              "      <th></th>\n",
              "      <th>id</th>\n",
              "      <th>name</th>\n",
              "    </tr>\n",
              "  </thead>\n",
              "  <tbody>\n",
              "    <tr>\n",
              "      <th>0</th>\n",
              "      <td>386</td>\n",
              "      <td>Josh Marks</td>\n",
              "    </tr>\n",
              "    <tr>\n",
              "      <th>1</th>\n",
              "      <td>473</td>\n",
              "      <td>Blue Ribbon Restaurants</td>\n",
              "    </tr>\n",
              "    <tr>\n",
              "      <th>2</th>\n",
              "      <td>1</td>\n",
              "      <td>Pat Neely</td>\n",
              "    </tr>\n",
              "    <tr>\n",
              "      <th>3</th>\n",
              "      <td>542</td>\n",
              "      <td>La Griglia</td>\n",
              "    </tr>\n",
              "    <tr>\n",
              "      <th>4</th>\n",
              "      <td>189</td>\n",
              "      <td>Jose Garces</td>\n",
              "    </tr>\n",
              "    <tr>\n",
              "      <th>...</th>\n",
              "      <td>...</td>\n",
              "      <td>...</td>\n",
              "    </tr>\n",
              "    <tr>\n",
              "      <th>615</th>\n",
              "      <td>163</td>\n",
              "      <td>Jumia Food_10</td>\n",
              "    </tr>\n",
              "    <tr>\n",
              "      <th>616</th>\n",
              "      <td>381</td>\n",
              "      <td>Luke Thomas</td>\n",
              "    </tr>\n",
              "    <tr>\n",
              "      <th>617</th>\n",
              "      <td>140</td>\n",
              "      <td>Clodagh McKenna</td>\n",
              "    </tr>\n",
              "    <tr>\n",
              "      <th>618</th>\n",
              "      <td>157</td>\n",
              "      <td>Chef Michelle Bernstein</td>\n",
              "    </tr>\n",
              "    <tr>\n",
              "      <th>619</th>\n",
              "      <td>114</td>\n",
              "      <td>SORTEDfood</td>\n",
              "    </tr>\n",
              "  </tbody>\n",
              "</table>\n",
              "<p>620 rows × 2 columns</p>\n",
              "</div>"
            ],
            "text/plain": [
              "      id                     name\n",
              "0    386               Josh Marks\n",
              "1    473  Blue Ribbon Restaurants\n",
              "2      1                Pat Neely\n",
              "3    542               La Griglia\n",
              "4    189              Jose Garces\n",
              "..   ...                      ...\n",
              "615  163            Jumia Food_10\n",
              "616  381              Luke Thomas\n",
              "617  140          Clodagh McKenna\n",
              "618  157  Chef Michelle Bernstein\n",
              "619  114               SORTEDfood\n",
              "\n",
              "[620 rows x 2 columns]"
            ]
          },
          "metadata": {
            "tags": []
          },
          "execution_count": 213
        }
      ]
    },
    {
      "cell_type": "code",
      "metadata": {
        "id": "b2_O0YjSZMjR",
        "colab": {
          "base_uri": "https://localhost:8080/"
        },
        "outputId": "7478fbd4-89f0-4d27-dbe6-b6842654fc04"
      },
      "source": [
        "len(nx.triangles(H))"
      ],
      "execution_count": 214,
      "outputs": [
        {
          "output_type": "execute_result",
          "data": {
            "text/plain": [
              "620"
            ]
          },
          "metadata": {
            "tags": []
          },
          "execution_count": 214
        }
      ]
    },
    {
      "cell_type": "markdown",
      "metadata": {
        "id": "L1fGte4iEGgu"
      },
      "source": [
        "\\"
      ]
    },
    {
      "cell_type": "markdown",
      "metadata": {
        "id": "SdgfcGZXEI_y"
      },
      "source": [
        "\r\n",
        " <br>"
      ]
    },
    {
      "cell_type": "markdown",
      "metadata": {
        "id": "eMHDFzK2D3Ku"
      },
      "source": [
        "## Clusters"
      ]
    },
    {
      "cell_type": "code",
      "metadata": {
        "id": "UyQ4ciEkaPvh",
        "colab": {
          "base_uri": "https://localhost:8080/"
        },
        "outputId": "52e5ba8d-6c46-4d5d-bfab-366c07a9e18b"
      },
      "source": [
        "clusters = nx.average_clustering(G)\n",
        "clusters"
      ],
      "execution_count": 215,
      "outputs": [
        {
          "output_type": "execute_result",
          "data": {
            "text/plain": [
              "0.3308970263553271"
            ]
          },
          "metadata": {
            "tags": []
          },
          "execution_count": 215
        }
      ]
    },
    {
      "cell_type": "code",
      "metadata": {
        "id": "yLPXd0lx9tTC",
        "colab": {
          "base_uri": "https://localhost:8080/"
        },
        "outputId": "e7e9df4c-26b8-49cd-e626-08950b0e62e4"
      },
      "source": [
        "type(clusters)"
      ],
      "execution_count": 216,
      "outputs": [
        {
          "output_type": "execute_result",
          "data": {
            "text/plain": [
              "float"
            ]
          },
          "metadata": {
            "tags": []
          },
          "execution_count": 216
        }
      ]
    },
    {
      "cell_type": "code",
      "metadata": {
        "id": "C5-1q7SaDtE0"
      },
      "source": [
        ""
      ],
      "execution_count": 216,
      "outputs": []
    },
    {
      "cell_type": "code",
      "metadata": {
        "id": "hiPVa4vwZXaP",
        "colab": {
          "base_uri": "https://localhost:8080/"
        },
        "outputId": "55b2ccd6-cfb5-4fa3-9151-1ec6dcd31a56"
      },
      "source": [
        "nx.transitivity(G)\n"
      ],
      "execution_count": 217,
      "outputs": [
        {
          "output_type": "execute_result",
          "data": {
            "text/plain": [
              "0.22264084150905228"
            ]
          },
          "metadata": {
            "tags": []
          },
          "execution_count": 217
        }
      ]
    },
    {
      "cell_type": "code",
      "metadata": {
        "colab": {
          "base_uri": "https://localhost:8080/"
        },
        "id": "FPI3sqAdEbFh",
        "outputId": "07d51604-d24b-4d67-e9cb-90ede2d9b93a"
      },
      "source": [
        "local_cluster = nx.clustering(G)\r\n",
        "sorted(local_cluster.items(), key=lambda item: item[1], reverse= True)[0:20]\r\n"
      ],
      "execution_count": 218,
      "outputs": [
        {
          "output_type": "execute_result",
          "data": {
            "text/plain": [
              "[('Pat Neely', 1.0),\n",
              " ('Ben Sargent & Dr. Klaw', 1.0),\n",
              " ('Jumia Food_6', 1.0),\n",
              " (\"Chili's México\", 1.0),\n",
              " ('Taco Bell El Salvador', 1.0),\n",
              " ('KFC_17', 1.0),\n",
              " (\"Domino's Pizza_11\", 1.0),\n",
              " ('Delverde_1', 1.0),\n",
              " ('Delverde_3', 1.0),\n",
              " (\"Nando's_12\", 1.0),\n",
              " (\"Nando's_8\", 1.0),\n",
              " (\"McDonald's Deutschland Karriere\", 1.0),\n",
              " (\"McDonald's_37\", 1.0),\n",
              " (\"McDonald's_8\", 1.0),\n",
              " (\"McDonald's_11\", 1.0),\n",
              " ('Valentin Neraudeau', 1.0),\n",
              " ('Chef Aaron McCargo Jr', 1.0),\n",
              " ('Al Brown New Zealand Chef', 1.0),\n",
              " ('Princi', 1.0),\n",
              " ('ad hoc & addendum', 1.0)]"
            ]
          },
          "metadata": {
            "tags": []
          },
          "execution_count": 218
        }
      ]
    },
    {
      "cell_type": "code",
      "metadata": {
        "colab": {
          "base_uri": "https://localhost:8080/"
        },
        "id": "CcbtpU04EjyJ",
        "outputId": "a1571d7e-4bbf-4035-a7c9-dffff268e974"
      },
      "source": [
        "triangle = nx.triangles(G)\r\n",
        "list(triangle.items())[0:20]"
      ],
      "execution_count": 219,
      "outputs": [
        {
          "output_type": "execute_result",
          "data": {
            "text/plain": [
              "[('Lee Anne Wong', 4),\n",
              " ('KFC_3', 13),\n",
              " ('Chef Jamie Gwen', 36),\n",
              " ('Madison Cowan', 0),\n",
              " ('Elizabeth Karmel', 88),\n",
              " ('KFC_22', 15),\n",
              " ('KFC_8', 25),\n",
              " ('Pat Neely', 1),\n",
              " ('Logan Junior Chef', 461),\n",
              " ('Robin Miller', 166),\n",
              " ('Ben Sargent & Dr. Klaw', 3),\n",
              " ('Bobby Flay', 94),\n",
              " ('Chuck Hughes', 11),\n",
              " ('Chef Carlo Cracco', 10),\n",
              " ('Pasqualino Barbasso', 6),\n",
              " ('Alessandro Borghese', 15),\n",
              " ('Chef Hirohiko Shoda', 3),\n",
              " ('Alain Ducasse', 28),\n",
              " ('Christian Bau', 6),\n",
              " ('Andy Luotto', 2)]"
            ]
          },
          "metadata": {
            "tags": []
          },
          "execution_count": 219
        }
      ]
    },
    {
      "cell_type": "markdown",
      "metadata": {
        "id": "5KNFNIWLDt7z"
      },
      "source": [
        "\r\n",
        " <br>"
      ]
    },
    {
      "cell_type": "markdown",
      "metadata": {
        "id": "5GtY7sh6DuFl"
      },
      "source": [
        "## Centrality\r\n",
        "\r\n"
      ]
    },
    {
      "cell_type": "code",
      "metadata": {
        "id": "F3mhnNFPgPhh"
      },
      "source": [
        "deg_centr = nx.degree_centrality(G)\r\n"
      ],
      "execution_count": 220,
      "outputs": []
    },
    {
      "cell_type": "code",
      "metadata": {
        "id": "R8x--vrLCPLa"
      },
      "source": [
        "eigen = nx.eigenvector_centrality(G)\r\n",
        "#eigen"
      ],
      "execution_count": 221,
      "outputs": []
    },
    {
      "cell_type": "code",
      "metadata": {
        "id": "ZXafFd7cjc9_"
      },
      "source": [
        "pagerank = nx.pagerank(G)\r\n",
        "#pagerank"
      ],
      "execution_count": 222,
      "outputs": []
    },
    {
      "cell_type": "code",
      "metadata": {
        "id": "y3QaV4BvDc-p"
      },
      "source": [
        "betweenesCentrality = nx.betweenness_centrality(G)\r\n",
        "#betweenesCentrality"
      ],
      "execution_count": 223,
      "outputs": []
    },
    {
      "cell_type": "code",
      "metadata": {
        "id": "wkLyZWZZDldG"
      },
      "source": [
        ""
      ],
      "execution_count": 223,
      "outputs": []
    },
    {
      "cell_type": "markdown",
      "metadata": {
        "id": "1VmuowQtE_jJ"
      },
      "source": [
        "\r\n",
        " <br>"
      ]
    },
    {
      "cell_type": "markdown",
      "metadata": {
        "id": "K9YtqVmfFAjk"
      },
      "source": [
        "## Communities\r\n"
      ]
    },
    {
      "cell_type": "code",
      "metadata": {
        "colab": {
          "base_uri": "https://localhost:8080/"
        },
        "id": "Rs36FKE2FAAz",
        "outputId": "13647232-d93e-476e-9c29-40f94012bbea"
      },
      "source": [
        "import networkx.algorithms.community as nx_comm\r\n",
        "\r\n",
        "import community as community_louvain\r\n",
        "import matplotlib.cm as cm\r\n",
        "import matplotlib.pyplot as plt\r\n",
        "import networkx as nx\r\n",
        "\r\n",
        "list_community_sets_greedy = list(nx_comm.greedy_modularity_communities(G))\r\n",
        "print(list_community_sets_greedy[0:20])"
      ],
      "execution_count": 224,
      "outputs": [
        {
          "output_type": "stream",
          "text": [
            "[frozenset({'Chef Sue Zemanick', 'Guga Rocha', 'Magnum_2', 'Chef Kiran Jethwa', 'Melissa King', 'Jehangir', 'The Tuscan Gun', 'José Andrés', \"Dunkin' Donuts_9\", 'Chef Charlie Palmer', 'Red Robin Gourmet Burgers', 'Marcus Samuelsson', 'Johnny Iuzzini', 'Virginia Willis', 'Camille Becerra', 'Blue Ribbon Restaurants', 'Chef Robert Irvine', 'Kirti Bhoutika', 'Dining with Flynn', 'Michel Nischan', 'Chef Rick Tramonto', 'Hugh Acheson', 'Dean Sheremet', 'Five Guys_1', 'Tim Love', 'Michael Lomonaco', 'Josh Elkin', 'Nyesha Arrington', 'Tom Aikens', 'Douglas Keane', 'Martín Berasategui', 'Fabio Viviani', 'Robin Miller', 'Marc Forgione', 'Harlem EatUp', 'Michael White', 'Marcel Vigneron', 'Pablo Massey', 'Cesare Casella', 'João Alcantara', 'Chef Jennifer Carroll', 'Maneet Chauhan', 'Bradley Ogden', 'Jose Garces', 'Suzanne Goin', 'Chef Mark Garcia', 'Gavin Kaysen', 'Samin Nosrat', \"Bobby's Burger Palace\", 'John DeLucie', 'Narda Lepes', 'Sang Yoon', 'Matthew Kenney', 'Dani García', 'Chef Michael Ferraro', 'Geoffrey Zakarian', 'Dale Talde', 'Enrique Olvera', 'Donato De Santis', 'David Chang', 'Chef Daniel Boulud', 'Brooke Williamson', 'DedeMed', 'Angel Leon Gonzalez', 'Maru Botana', 'Francis Mallmann', 'Tom Colicchio', 'Paul Qui', 'Harold Dieterle', 'Quique Dacosta', 'Veggie Grill', 'Chef Jamie Gwen', 'Elizabeth Karmel', 'Alfred Portale', 'Dan Kluger', 'Juliana Lopez May', 'Donatella Arpaia', 'Chef Aaron McCargo Jr', 'Crepes & Waffles', 'Santiago Giorgini', 'Chef Shirley Chung', 'Hubert Keller', 'Logan Junior Chef', 'Mei Lin', 'Susan Feniger', 'Chef Carmen Gonzalez', 'Cat Cora', \"D'O - Davide Oldani\", 'Frantzén', \"'Wichcraft\", 'Diego Guerrero', 'Dean Fearing', 'Chef Rick Moonen', 'Anne Burrell', 'Eric Ripert', 'Los Petersen Cocineros', 'John Whaite', 'Cook with Chef Duminda', 'Chef Ana Paula', 'NishaMadhulika', 'Chef Michelle Bernstein', 'Chef Brian Duffy', \"Xi'an Famous Foods 西安名吃\", 'Chef Ben Churchill', 'Jacques Pépin', 'Germán Martitegui', 'Pat Neely', 'Vegan Black Metal Chef', 'Chef Diego Lozano', 'Daniel Humm', 'Bobby Flay', 'Eduardo Palazuelos', 'Chef Nina Compton', 'Chef Lorena Garcia', 'Aliya LeeKong', 'Chef Marcela Valladolid', 'Chef Alex Levin', 'Chef Cynthia Louise', 'René Redzepi', 'Blue Ribbon Fried Chicken', 'Gregory Gourdet', 'Chef Carla Hall', 'Chef Jet Tila', 'Claire Robinson', 'Ogro Jimmy', 'Amy Thielen', 'Scott Conant', 'Maria Loi', 'Buddy Valastro', 'Pedro Lambertini', 'Chef Francois Payard', 'UMass Dining', 'Chef David Burke', 'Franklin Becker', 'Aarón Sánchez', 'Doug Adams', 'Chef G. Garvin', 'Chef Elizabeth Falkner', 'Chef Michael Smith', 'Luke Thomas', 'Chef Ben Ford', 'Kristen Kish', 'Ludo Lefebvre', 'Ken Oringer', 'Christina Tosi', 'Stephanie Izard', 'Bryce Shuman', 'Roy Choi', 'Levi Eirinberg', 'Seamus Mullen', 'Carlos Bertolazzi', 'Chef Mary Sue Milliken', 'Dina Nikolaou', 'Cocina familiar con Javier Romero', \"Chef Claudia's Cocina\", 'Angelo Sosa', 'Franklin Barbecue', 'Chef Richard Sandoval', 'Chef Kent Graham', 'Julia Child', 'Chef Marc Murphy', 'Chef Casey Thompson', 'Alex Atala', 'Alex Guarnaschelli'}), frozenset({\"McDonald's_12\", \"McDonald's República Dominicana\", \"McDonald's_51\", \"McDonald's_20\", \"McDonald's_26\", \"McDonald's_30\", \"McDonald's_16\", \"McDonald's_55\", \"McDonald's Deutschland Karriere\", \"McDonald's_57\", \"McDonald's_8\", \"McDonald's_35\", \"McDonald's_31\", \"McDonald's_29\", 'Hard Rock Cafe Ibiza', \"McDonald's_43\", 'Destino Ibiza', \"McDonald's_4\", \"McDonald's_49\", \"McDonald's Japan\", \"McDonald's_37\", \"McDonald's_25\", \"McDonald's_36\", \"McDonald's_44\", \"McDonald's_42\", 'Nutella Cafe Chicago', \"McDonald's_3\", \"McDonald's_1\", \"McDonald's_23\", \"McDonald's_7\", \"McDonald's_53\", \"McDonald's_52\", \"McDonald's_33\", '麥當勞', \"McDonald's_10\", \"맥도날드 (McDonald's)\", \"McDonald's_9\", \"McDonald's_24\", \"McDonald's Paraguay\", \"McDonald's Vietnam\", \"McDonald's_17\", \"McDonald's_50\", \"McDonald's_19\", \"McDonald's_11\", \"McDonald's_22\", \"McDonald's_14\", \"McDonald's_54\", \"McDonald's_48\", \"McDonald's_41\", \"McDonald's_21\", \"McDonald's_13\", \"Steak 'n Shake\", \"McDonald's_45\", \"McDonald's_32\", \"McDonald's_5\", \"McDonald's_6\", \"McDonald's_27\", 'Lío', \"McDonald's_2\", \"McDonald's_38\", \"McDonald's_56\", \"McDonald's_47\", 'Alberto Chicote', \"McDonald's_28\", \"McDonald's_40\", \"McDonald's_46\", \"McDonald's_59\", \"McDonald's_58\", \"McDonald's_39\", \"McDonald's_18\", \"McDonald's_15\", \"McDonald's_34\"}), frozenset({'Eddie Jackson - FIT CHEF EDDIE', 'Chef Todd Mohr', 'Chef Andrew Gruel', 'Ben Sargent & Dr. Klaw', 'Chick-fil-A', 'Chef Damaris Phillips', 'Russell Jackson', 'Leslie Gilliams', 'Chuck Hughes', 'Texas Roadhouse', 'Justin Warner', 'Danny Smiles', 'Sanjeev Kapoor', 'Ricardo Cuisine', 'Ochikeron', 'Saransh Goila', 'Nikki Dinki', 'Chef Clément', 'Barbie Marshall', 'Zac Kara', 'Joanna 劉韋彤', 'Christine Ha', 'Cindy Pawlcyn', 'Five Guys_2', \"Manjula's Kitchen - Indian Vegetarian Recipes\", 'Monti Carlo', 'Vicky Ratnani', 'Chef Billy Parisi', 'Spago Las Vegas', \"Famous Dave's Bar-B-Que of America\", 'Colin Fassnidge', 'Roblé', 'Hakim Chajar', 'Josh Marks', 'Ranveer Brar', \"Nicko's Kitchen\", 'ChefAlexander', \"Jimmy John's\", 'Duff Goldman', 'משה שגב / Moshe Segev', 'Chef Sam Talbot', 'Chef Dana Cohen HK', 'José Santaella', 'MASAの料理ABC', 'Emily Ellyn', 'The Edgy Veg', 'Chef Rusty Hamlin', 'Hearth', 'Hilah Cooking', 'Spike Mendelsohn', 'Graham Elliot', 'Chef Derrick Fox', 'Chef Rubio'}), frozenset({\"Dunkin' Coffee\", 'Burger King Nederland', 'foodpanda_4', 'foodpanda_8', \"Nando's_3\", \"Chili's México\", \"Nando's_13\", 'Acapulco', 'On The Border', 'foodpanda_1', \"Nando's_9\", \"Chili's Tunisie\", 'Big Fernand', 'foodpanda - 空腹熊貓', 'Chevys Fresh Mex', \"Nando's_8\", \"Nando's_4\", \"Nando's_1\", \"Nando's_5\", \"Nando's_2\", 'KFC_21', \"Chili's Beirut\", 'Burger King Malaysia', \"Nando's_7\", 'Subway', \"Nando's_15\", 'Subway, Cayman Islands', \"Nando's PERi-PERi\", 'Burger King México', 'foodpanda_6', \"Nando's_10\", 'Second Floor Cafe 貳樓餐飲', \"Nando's_12\", '翠華餐廳 Tsui Wah Restaurant', \"Nando's_14\", \"Chili's Grill & Bar\", 'El Torito', 'Pescaria', 'foodpanda_2', \"Nando's_11\", 'foodpanda_5', 'foodpanda_3', \"Chili's Qatar\", 'foodpanda_7', \"Dunkin' Donuts_10\", \"Nando's_6\"}), frozenset({'Niko Romito', 'Chef Natale Giunta', 'Relais & Châteaux_2', 'Chef Jimmy Boswell', 'Noma', 'Alessandro Borghese', 'Ernst Knam', 'Iginio Massari', 'Peter Kuruvita', 'Magnum_3', \"Cristian D'Elia\", 'Andy Luotto', 'Chef Pete Evans', 'Pasqualino Barbasso', 'Christian Bau', 'Matt Moran', 'Bruno Barbieri', 'Fast Ed', 'Dan Steph & Emmy', 'Shane Delia', 'Al Brown New Zealand Chef', 'Simon Bryant', 'Chef Carlo Cracco', 'Manu Feildel', 'Cuoco Filippo La Mantia', 'Mirko Ronzoni', 'Simon Gault', 'Ignacio Mattos', 'Karen Martini', 'Antonino Cannavacciuolo', 'Chef Grace Ramirez', 'Raymond Blanc', 'Sonia Peronaci', 'Jock Zonfrillo', 'Massimo Mele', 'Chef Hirohiko Shoda', 'Francesco Sole'}), frozenset({\"Charley's Crab_2\", 'Big Fish Seafood Bistro_1', 'T-rex Cafe', 'Gandy Dancer Saloon/Oyster Bar', 'Bubba Gump Shrimp Co.', \"Dunkin' Donuts_7\", 'Four Seasons Hotels and Resorts', 'Grotto', \"Dunkin' Donuts_3\", \"Dunkin' Donuts_2\", 'Chef Maeve Rochford', 'Aquarium Restaurant - Nashville', \"Dunkin' Donuts_4\", 'Cadillac Bar Houston', 'Chart House', \"Meriwether's\", \"Morton's The Steakhouse\", \"Dunkin' Donuts_6\", \"Lillie's Asian Cuisine\", 'La Griglia', 'Steve Konopelski', 'Grand Concourse', 'River Crab Blue Water Inn', 'Wolfgang Puck', 'Big Fish Seafood Bistro_2', \"Charley's Crab_1\", 'Cucina by Wolfgang Puck', \"Peohe's\", 'Ravintola Salve', 'Gandy Dancer', \"Dunkin' Donuts_5\", \"Dunkin' Donuts_8\", 'Sam Choy', 'Cadillac Bar Kemah', 'RED Sushi and Hibachi Grill', \"Dunkin' Donuts_1\"}), frozenset({'PROPERCORN', \"Tom's Kitchen\", 'Éric Frechon', 'Paul Bocuse', 'Noëmie Honiat Top Chef', 'Christophe Michalak', 'Valentin Neraudeau', 'Gary Mehigan', 'Anne-Sophie Pic', 'Pierre Gagnaire', 'Susur Lee', 'Christophe Adam', 'Taste Of Paris Official', 'YANNICK ALLENO OFFICIEL', 'Taste of London', 'Roxanne Spruance', 'Amandine Chaignot', 'Bruno Ménard', 'Guillaume Gomez', 'Christian Le Squer', 'Christophe Bacquie', 'Norbert Tarayre', 'Jean-François Piège     -      Page Officielle', 'Thierry Rautureau', 'Eckart Witzigmann', 'Pierre Sang Boyer Officiel', 'Mathieu Pacaud', 'KFC_2', 'Alain Ducasse', 'Chef Guy Martin', 'Audra Morrice', 'Guy Savoy', 'Marc Veyrat'}), frozenset({\"Domino's Pizza_2\", \"Domino's Pizza_13\", \"Domino's Australia\", \"Domino's Pizza_6\", \"Domino's Pizza_9\", '도미노피자(Dominostory)', \"Domino's Pizza_20\", \"Domino's Pizza Türkiye\", \"Domino's Pizza_8\", \"Domino's Pizza_16\", \"Domino's Pizza_15\", \"Domino's Pizza_1\", \"Domino's Pizza_5\", 'Magnum_6', \"Domino's Pizza_10\", 'KFC_17', 'Magnum_1', 'JW Café - JW Marriott Hotel Hanoi', \"Domino's Pizza_3\", \"Domino's Pizza_19\", \"Domino's Guatemala\", \"Domino's Pizza_4\", \"Domino's Pizza_18\", \"Domino's Mx\", \"Domino's Pizza_17\", \"Domino's Pizza Nigeria\", \"Domino's Pizza_7\", \"Domino's Pizza_11\", '達美樂披薩', \"Domino's Pizza_14\", \"Domino's Pizza_12\"}), frozenset({'Food Busker', 'Paul Hollywood', 'Emma Frisch', 'Lindsay Ann Bakes', 'Clodagh McKenna', 'Anis Nabilah', 'Felicitas Pizarro', 'Donal Skehan', 'Anjali Pathak', 'Martha Collison', 'James Martin', 'Outlander Kitchen', 'Alex French Guy Cooking', 'SORTEDfood', 'Krispy Kreme UK', 'My Cupcake Addiction', \"Gino D'Acampo\", 'Rachel Allen', 'Kunal Kapur', 'Chetna Makan', 'Magnum_5', 'CAKE-BOY', 'Tom Douglas Restaurants', 'Ben Ebbrell - Sorted Chef', 'George Pagonis', 'Magnum_4', 'Hari Ghotra', 'Gemma Stafford', 'Cook with Amber', 'Kevin Dundon', 'Magnum_7'}), frozenset({'KFC_8', 'KFC_18', 'KFC_7', 'KFC_27', 'KFC_9', 'KFC_19', 'KFC_5', 'KFC_6', 'KFC_1', \"Hardee's\", \"Hardee's Pakistan\", 'KFC_10', 'KFC_12', 'KFC_15', 'Lee Anne Wong', 'KFC_25', 'KFC_13', \"Carl's Jr.\", 'KFC_14', 'KFC_16', 'KFC_20', \"Carl's Jr. NZ\", 'KFC_24', 'KFC_26', 'KFC_22', 'KFC_11', 'KFC_3', 'KFC_23', 'Madison Cowan', 'Opry City Stage'}), frozenset({'Outback Steakhouse', \"Eddie V's Prime Seafood\", 'Yard House', 'Bahama Breeze Island Grille', 'Olive Garden', \"Carrabba's Italian Grill\", 'Red Lobster México', 'Wings', \"Roy's Restaurant\", 'Roy Yamaguchi', 'Bonefish Grill', 'Burger King Thailand', 'FONDA MEXICANA', 'Seasons 52', 'Olive Garden México', \"Dick's Drive In Restaurant\", 'Chef Sheldon Simeon'}), frozenset({'タコベル ジャパン\\u3000Taco Bell Japan', 'Taco Bell Rep Dom', 'Taco Bell Cyprus', 'Taco Bell Guatemala', 'Taco Bell India', 'Boston Market', 'Taco Bell Costa Rica', 'Dairy Queen', 'Telepizza Guatemala', 'Taco Bell El Salvador', 'Pollo Campero El Salvador', 'Taco Bell UK', 'Taco Bell Panamá', 'Taco Bell Kuwait', 'Pollo Campero Guatemala', 'Taco Bell', 'Taco Bell Careers'}), frozenset({'Jumia Food_10', 'Jumia Food_6', 'Jumia Food_3', 'Jumia Food_9', 'foodpanda / hellofood', 'Jumia Food_2', 'Jumia Food_7', 'Jumia Food_1', 'Jumia Food_4', 'Brew Bistro and Lounge', 'hellofood', 'Jumia Food_8', 'Jumia Food_5'}), frozenset({'Emmi CAFFÈ LATTE_5', 'Emmi CAFFÈ LATTE_2', 'Emmi CAFFÈ LATTE_4', 'KFC_4', 'Emmi CAFFÈ LATTE_1', 'Emmi CAFFÈ LATTE_3'}), frozenset({'Thomas Keller', 'ad hoc & addendum', 'The French Laundry', 'Princi', 'Per Se', 'Katie Pix'}), frozenset({'Bruno Oteiza', 'Juan Mari Arzak (Página oficial)', 'Karlos Arguiñano', 'Eva Arguiñano', 'Celler de Can Roca', 'RIBS - True American Barbecue'}), frozenset({'Burger Lounge', 'Puesto', 'Luna Grill', 'Zoёs Kitchen', 'The Habit Burger Grill'}), frozenset({'Delverde_3', 'Mary Nolan, Bon Appétit Executive Chef', 'Delverde_4', 'Delverde_2', 'Delverde_1'}), frozenset({'Chope_1', 'Chope_2', 'Relais & Châteaux_1', 'Crystal Jade Singapore', 'Crystal Jade Palace - JW Marriott Hotel Hanoi'}), frozenset({'Gaston Acurio', \"Papacho's\", 'Whataburger'})]\n"
          ],
          "name": "stdout"
        }
      ]
    },
    {
      "cell_type": "code",
      "metadata": {
        "colab": {
          "base_uri": "https://localhost:8080/"
        },
        "id": "dpX6TPImFXDd",
        "outputId": "0b43220d-bd17-42b9-d8e0-8c9300ad31ad"
      },
      "source": [
        "partition_greedy = {}\r\n",
        "for i, comm in enumerate(list_community_sets_greedy):\r\n",
        "    print(\"Community:\", i)\r\n",
        "    print(\"Number of elems\",len(comm))\r\n",
        "    for n in comm:\r\n",
        "        partition_greedy[n]=i"
      ],
      "execution_count": 225,
      "outputs": [
        {
          "output_type": "stream",
          "text": [
            "Community: 0\n",
            "Number of elems 164\n",
            "Community: 1\n",
            "Number of elems 72\n",
            "Community: 2\n",
            "Number of elems 53\n",
            "Community: 3\n",
            "Number of elems 46\n",
            "Community: 4\n",
            "Number of elems 37\n",
            "Community: 5\n",
            "Number of elems 36\n",
            "Community: 6\n",
            "Number of elems 33\n",
            "Community: 7\n",
            "Number of elems 31\n",
            "Community: 8\n",
            "Number of elems 31\n",
            "Community: 9\n",
            "Number of elems 30\n",
            "Community: 10\n",
            "Number of elems 17\n",
            "Community: 11\n",
            "Number of elems 17\n",
            "Community: 12\n",
            "Number of elems 13\n",
            "Community: 13\n",
            "Number of elems 6\n",
            "Community: 14\n",
            "Number of elems 6\n",
            "Community: 15\n",
            "Number of elems 6\n",
            "Community: 16\n",
            "Number of elems 5\n",
            "Community: 17\n",
            "Number of elems 5\n",
            "Community: 18\n",
            "Number of elems 5\n",
            "Community: 19\n",
            "Number of elems 3\n",
            "Community: 20\n",
            "Number of elems 2\n",
            "Community: 21\n",
            "Number of elems 2\n"
          ],
          "name": "stdout"
        }
      ]
    },
    {
      "cell_type": "code",
      "metadata": {
        "colab": {
          "base_uri": "https://localhost:8080/"
        },
        "id": "0RmeDUIiFfhd",
        "outputId": "bd2daae8-0279-440c-97b9-ce7ad43d10d2"
      },
      "source": [
        "print(list(partition_greedy.items())[0:20])"
      ],
      "execution_count": 226,
      "outputs": [
        {
          "output_type": "stream",
          "text": [
            "[('Chef Sue Zemanick', 0), ('Guga Rocha', 0), ('Magnum_2', 0), ('Chef Kiran Jethwa', 0), ('Melissa King', 0), ('Jehangir', 0), ('The Tuscan Gun', 0), ('José Andrés', 0), (\"Dunkin' Donuts_9\", 0), ('Chef Charlie Palmer', 0), ('Red Robin Gourmet Burgers', 0), ('Marcus Samuelsson', 0), ('Johnny Iuzzini', 0), ('Virginia Willis', 0), ('Camille Becerra', 0), ('Blue Ribbon Restaurants', 0), ('Chef Robert Irvine', 0), ('Kirti Bhoutika', 0), ('Dining with Flynn', 0), ('Michel Nischan', 0)]\n"
          ],
          "name": "stdout"
        }
      ]
    },
    {
      "cell_type": "code",
      "metadata": {
        "colab": {
          "base_uri": "https://localhost:8080/",
          "height": 248
        },
        "id": "MeJ1STUKRtc5",
        "outputId": "1ce063d8-5e27-4633-b068-e30da82618d3"
      },
      "source": [
        "# draw the graph\r\n",
        "pos = nx.spring_layout(G)\r\n",
        "# color the nodes according to their partition\r\n",
        "cmap = cm.get_cmap('viridis', max(partition_greedy.values()) + 1)\r\n",
        "nx.draw_networkx_nodes(G, pos, partition_greedy.keys(), node_size=40,\r\n",
        "                       cmap=cmap, node_color=list(partition_greedy.values()))\r\n",
        "nx.draw_networkx_edges(G, pos, alpha=0.5)\r\n",
        "plt.show()"
      ],
      "execution_count": 227,
      "outputs": [
        {
          "output_type": "display_data",
          "data": {
            "image/png": "[encoded data removed]",
            "text/plain": [
              "<Figure size 432x288 with 1 Axes>"
            ]
          },
          "metadata": {
            "tags": []
          }
        }
      ]
    },
    {
      "cell_type": "code",
      "metadata": {
        "id": "lBIznJC6Ni2n"
      },
      "source": [
        ""
      ],
      "execution_count": 227,
      "outputs": []
    },
    {
      "cell_type": "code",
      "metadata": {
        "id": "4GiwPnExNvhO"
      },
      "source": [
        "partition_library = community_louvain.best_partition(G)"
      ],
      "execution_count": 228,
      "outputs": []
    },
    {
      "cell_type": "code",
      "metadata": {
        "colab": {
          "base_uri": "https://localhost:8080/"
        },
        "id": "IRkaWFmJNwjx",
        "outputId": "c0c5265b-38de-4de2-a6cb-80b1e0aabe24"
      },
      "source": [
        "print(list(partition_library.items())[0:20])"
      ],
      "execution_count": 229,
      "outputs": [
        {
          "output_type": "stream",
          "text": [
            "[('Lee Anne Wong', 0), ('KFC_3', 0), ('Chef Jamie Gwen', 1), ('Madison Cowan', 0), ('Elizabeth Karmel', 1), ('KFC_22', 0), ('KFC_8', 0), ('Pat Neely', 5), ('Logan Junior Chef', 5), ('Robin Miller', 1), ('Ben Sargent & Dr. Klaw', 5), ('Bobby Flay', 1), ('Chuck Hughes', 5), ('Chef Carlo Cracco', 3), ('Pasqualino Barbasso', 3), ('Alessandro Borghese', 3), ('Chef Hirohiko Shoda', 3), ('Alain Ducasse', 4), ('Christian Bau', 3), ('Andy Luotto', 3)]\n"
          ],
          "name": "stdout"
        }
      ]
    },
    {
      "cell_type": "code",
      "metadata": {
        "colab": {
          "base_uri": "https://localhost:8080/",
          "height": 248
        },
        "id": "hGXWvnsXNycE",
        "outputId": "881a5879-ba32-4fcf-c34c-53944176a31a"
      },
      "source": [
        "# draw the graph\r\n",
        "pos = nx.spring_layout(G)\r\n",
        "# color the nodes according to their partition\r\n",
        "cmap = cm.get_cmap('viridis', max(partition_library.values()) + 1)\r\n",
        "nx.draw_networkx_nodes(G, pos, partition_library.keys(), node_size=40,\r\n",
        "                       cmap=cmap, node_color=list(partition_library.values()))\r\n",
        "nx.draw_networkx_edges(G, pos, alpha=0.5)\r\n",
        "plt.show()"
      ],
      "execution_count": 230,
      "outputs": [
        {
          "output_type": "display_data",
          "data": {
            "image/png": "[encoded data removed]",
            "text/plain": [
              "<Figure size 432x288 with 1 Axes>"
            ]
          },
          "metadata": {
            "tags": []
          }
        }
      ]
    },
    {
      "cell_type": "code",
      "metadata": {
        "colab": {
          "base_uri": "https://localhost:8080/"
        },
        "id": "meOV1QcNODtR",
        "outputId": "6c08ac91-3ca2-40f0-e25b-68672e75ea10"
      },
      "source": [
        "comms = set(partition_library.values())\r\n",
        "comms\r\n",
        "\r\n"
      ],
      "execution_count": 231,
      "outputs": [
        {
          "output_type": "execute_result",
          "data": {
            "text/plain": [
              "{0, 1, 2, 3, 4, 5, 6, 7, 8, 9, 10, 11, 12, 13, 14, 15, 16}"
            ]
          },
          "metadata": {
            "tags": []
          },
          "execution_count": 231
        }
      ]
    },
    {
      "cell_type": "code",
      "metadata": {
        "id": "oK4GKKjDQq8t"
      },
      "source": [
        "list_community_sets_library = [ set() for i in range(len(comms)) ]"
      ],
      "execution_count": 232,
      "outputs": []
    },
    {
      "cell_type": "code",
      "metadata": {
        "colab": {
          "base_uri": "https://localhost:8080/"
        },
        "id": "lclKJWLEQrU4",
        "outputId": "7acb0254-2277-4e3f-821e-311e4c05ed85"
      },
      "source": [
        "for n, comm in partition_library.items():\r\n",
        "    list_community_sets_library[comm].add(n)\r\n",
        "\r\n",
        "list_community_sets_library[0:2]"
      ],
      "execution_count": 233,
      "outputs": [
        {
          "output_type": "execute_result",
          "data": {
            "text/plain": [
              "[{\"Carl's Jr.\",\n",
              "  \"Carl's Jr. NZ\",\n",
              "  'Chef Clément',\n",
              "  'Chef Todd Mohr',\n",
              "  \"Hardee's\",\n",
              "  'Joanna 劉韋彤',\n",
              "  'KFC_1',\n",
              "  'KFC_10',\n",
              "  'KFC_11',\n",
              "  'KFC_12',\n",
              "  'KFC_13',\n",
              "  'KFC_14',\n",
              "  'KFC_15',\n",
              "  'KFC_16',\n",
              "  'KFC_18',\n",
              "  'KFC_19',\n",
              "  'KFC_20',\n",
              "  'KFC_22',\n",
              "  'KFC_23',\n",
              "  'KFC_24',\n",
              "  'KFC_25',\n",
              "  'KFC_26',\n",
              "  'KFC_27',\n",
              "  'KFC_3',\n",
              "  'KFC_5',\n",
              "  'KFC_6',\n",
              "  'KFC_7',\n",
              "  'KFC_8',\n",
              "  'KFC_9',\n",
              "  'Lee Anne Wong',\n",
              "  'MASAの料理ABC',\n",
              "  'Madison Cowan',\n",
              "  'Ochikeron',\n",
              "  'Opry City Stage',\n",
              "  'Ranveer Brar',\n",
              "  'Vicky Ratnani'},\n",
              " {\"'Wichcraft\",\n",
              "  'Aarón Sánchez',\n",
              "  'Alex Guarnaschelli',\n",
              "  'Alfred Portale',\n",
              "  'Amy Thielen',\n",
              "  'Angelo Sosa',\n",
              "  'Anne Burrell',\n",
              "  'Blue Ribbon Fried Chicken',\n",
              "  'Blue Ribbon Restaurants',\n",
              "  'Bobby Flay',\n",
              "  'Bradley Ogden',\n",
              "  'Brooke Williamson',\n",
              "  'Bryce Shuman',\n",
              "  'Camille Becerra',\n",
              "  'Cat Cora',\n",
              "  'Cesare Casella',\n",
              "  'Chef Aaron McCargo Jr',\n",
              "  'Chef Alex Levin',\n",
              "  'Chef Ben Churchill',\n",
              "  'Chef Ben Ford',\n",
              "  'Chef Carla Hall',\n",
              "  'Chef Carmen Gonzalez',\n",
              "  'Chef Casey Thompson',\n",
              "  'Chef Charlie Palmer',\n",
              "  'Chef Cynthia Louise',\n",
              "  'Chef Daniel Boulud',\n",
              "  'Chef David Burke',\n",
              "  'Chef Elizabeth Falkner',\n",
              "  'Chef Francois Payard',\n",
              "  'Chef G. Garvin',\n",
              "  'Chef Jamie Gwen',\n",
              "  'Chef Jet Tila',\n",
              "  'Chef Kent Graham',\n",
              "  'Chef Maeve Rochford',\n",
              "  'Chef Marc Murphy',\n",
              "  'Chef Marcela Valladolid',\n",
              "  'Chef Mark Garcia',\n",
              "  'Chef Mary Sue Milliken',\n",
              "  'Chef Michael Ferraro',\n",
              "  'Chef Michelle Bernstein',\n",
              "  'Chef Nina Compton',\n",
              "  'Chef Richard Sandoval',\n",
              "  'Chef Rick Moonen',\n",
              "  'Chef Robert Irvine',\n",
              "  'Chef Shirley Chung',\n",
              "  'Chef Sue Zemanick',\n",
              "  'Christina Tosi',\n",
              "  'Cucina by Wolfgang Puck',\n",
              "  \"D'O - Davide Oldani\",\n",
              "  'Dale Talde',\n",
              "  'Dan Kluger',\n",
              "  'Daniel Humm',\n",
              "  'David Chang',\n",
              "  'Dean Fearing',\n",
              "  'Dean Sheremet',\n",
              "  'DedeMed',\n",
              "  'Dina Nikolaou',\n",
              "  'Dining with Flynn',\n",
              "  'Donatella Arpaia',\n",
              "  'Doug Adams',\n",
              "  \"Dunkin' Donuts_9\",\n",
              "  'Elizabeth Karmel',\n",
              "  'Enrique Olvera',\n",
              "  'Eric Ripert',\n",
              "  'Fabio Viviani',\n",
              "  'Five Guys_1',\n",
              "  'Franklin Becker',\n",
              "  'Frantzén',\n",
              "  'Gavin Kaysen',\n",
              "  'Geoffrey Zakarian',\n",
              "  'Gregory Gourdet',\n",
              "  'Harlem EatUp',\n",
              "  'Hubert Keller',\n",
              "  'Hugh Acheson',\n",
              "  'Jacques Pépin',\n",
              "  'John DeLucie',\n",
              "  'John Whaite',\n",
              "  'Johnny Iuzzini',\n",
              "  'Jose Garces',\n",
              "  'Josh Elkin',\n",
              "  'José Andrés',\n",
              "  'José Santaella',\n",
              "  'Julia Child',\n",
              "  'Ken Oringer',\n",
              "  'Kristen Kish',\n",
              "  'Ludo Lefebvre',\n",
              "  'Luke Thomas',\n",
              "  'Magnum_2',\n",
              "  'Marc Forgione',\n",
              "  'Marcel Vigneron',\n",
              "  'Marcus Samuelsson',\n",
              "  'Maria Loi',\n",
              "  'Matthew Kenney',\n",
              "  'Mei Lin',\n",
              "  'Melissa King',\n",
              "  'Michael Lomonaco',\n",
              "  'Michael White',\n",
              "  'Michel Nischan',\n",
              "  'Noma',\n",
              "  'Nyesha Arrington',\n",
              "  'Paul Qui',\n",
              "  'Raymond Blanc',\n",
              "  'Red Robin Gourmet Burgers',\n",
              "  'René Redzepi',\n",
              "  'Robin Miller',\n",
              "  'Roy Choi',\n",
              "  'Sam Choy',\n",
              "  'Samin Nosrat',\n",
              "  'Sang Yoon',\n",
              "  'Scott Conant',\n",
              "  'Seamus Mullen',\n",
              "  'Stephanie Izard',\n",
              "  'Steve Konopelski',\n",
              "  'Susan Feniger',\n",
              "  'Suzanne Goin',\n",
              "  'Tim Love',\n",
              "  'Tom Aikens',\n",
              "  'Tom Colicchio',\n",
              "  'UMass Dining',\n",
              "  'Vegan Black Metal Chef',\n",
              "  'Veggie Grill',\n",
              "  'Virginia Willis',\n",
              "  'Wolfgang Puck',\n",
              "  \"Xi'an Famous Foods 西安名吃\"}]"
            ]
          },
          "metadata": {
            "tags": []
          },
          "execution_count": 233
        }
      ]
    },
    {
      "cell_type": "code",
      "metadata": {
        "colab": {
          "base_uri": "https://localhost:8080/"
        },
        "id": "ce11QS3KQs6i",
        "outputId": "6fc5f213-bdda-4eb1-b545-aeb839e9c58b"
      },
      "source": [
        "for my_list in [list_community_sets_greedy,  list_community_sets_library]:\r\n",
        "    \r\n",
        "    #print(\"Coverage\")\r\n",
        "    print(\"Coverage\", nx_comm.coverage(G, my_list))\r\n",
        "    #print(\"Modularity\")\r\n",
        "    print(\"Modularity\", nx_comm.modularity(G, my_list, weight='weight'))\r\n",
        "    #print(\"Performance\")\r\n",
        "    print(\"Performance\", nx_comm.performance(G, my_list))\r\n",
        "    \r\n",
        "    print(\"---\")"
      ],
      "execution_count": 234,
      "outputs": [
        {
          "output_type": "stream",
          "text": [
            "Coverage 0.8686964795432921\n",
            "Modularity 0.6331957195403588\n",
            "Performance 0.8936682474334254\n",
            "---\n",
            "Coverage 0.852045670789724\n",
            "Modularity 0.6580348922371063\n",
            "Performance 0.9006462035541195\n",
            "---\n"
          ],
          "name": "stdout"
        }
      ]
    },
    {
      "cell_type": "code",
      "metadata": {
        "colab": {
          "base_uri": "https://localhost:8080/"
        },
        "id": "_4aPTKeORC2d",
        "outputId": "2cf2047d-6a1c-48ff-8d85-f04f6750b5e3"
      },
      "source": [
        "\r\n",
        "\r\n",
        "pairs = []\r\n",
        "for i, nodes in enumerate(list_community_sets_library):\r\n",
        "    print(i,len(nodes))\r\n",
        "    comm_size = (i,len(nodes))\r\n",
        "    pairs.append(comm_size)\r\n",
        "\r\n"
      ],
      "execution_count": 235,
      "outputs": [
        {
          "output_type": "stream",
          "text": [
            "0 36\n",
            "1 124\n",
            "2 34\n",
            "3 35\n",
            "4 33\n",
            "5 103\n",
            "6 31\n",
            "7 13\n",
            "8 71\n",
            "9 5\n",
            "10 17\n",
            "11 45\n",
            "12 6\n",
            "13 46\n",
            "14 17\n",
            "15 2\n",
            "16 2\n"
          ],
          "name": "stdout"
        }
      ]
    },
    {
      "cell_type": "code",
      "metadata": {
        "colab": {
          "base_uri": "https://localhost:8080/"
        },
        "id": "k4xDW9RORELR",
        "outputId": "6ea261ce-e40d-48f2-9306-f2abbd3afa2e"
      },
      "source": [
        "pairs"
      ],
      "execution_count": 236,
      "outputs": [
        {
          "output_type": "execute_result",
          "data": {
            "text/plain": [
              "[(0, 36),\n",
              " (1, 124),\n",
              " (2, 34),\n",
              " (3, 35),\n",
              " (4, 33),\n",
              " (5, 103),\n",
              " (6, 31),\n",
              " (7, 13),\n",
              " (8, 71),\n",
              " (9, 5),\n",
              " (10, 17),\n",
              " (11, 45),\n",
              " (12, 6),\n",
              " (13, 46),\n",
              " (14, 17),\n",
              " (15, 2),\n",
              " (16, 2)]"
            ]
          },
          "metadata": {
            "tags": []
          },
          "execution_count": 236
        }
      ]
    },
    {
      "cell_type": "code",
      "metadata": {
        "id": "hNbXN52fREWE"
      },
      "source": [
        "community_index = []\r\n",
        "number_of_nodes = []\r\n",
        "\r\n",
        "for comm, n_nodes in pairs:\r\n",
        "    community_index.append(str(comm))\r\n",
        "    number_of_nodes.append(n_nodes)\r\n",
        "\r\n"
      ],
      "execution_count": 237,
      "outputs": []
    },
    {
      "cell_type": "code",
      "metadata": {
        "colab": {
          "base_uri": "https://localhost:8080/",
          "height": 298
        },
        "id": "83NF1Wn6RJFa",
        "outputId": "437903cc-08c1-4953-fe00-e52089bb879a"
      },
      "source": [
        "plt.bar(community_index,number_of_nodes)\r\n",
        "plt.xlabel(\"Community\")\r\n",
        "plt.ylabel(\"Number of nodes\")"
      ],
      "execution_count": 238,
      "outputs": [
        {
          "output_type": "execute_result",
          "data": {
            "text/plain": [
              "Text(0, 0.5, 'Number of nodes')"
            ]
          },
          "metadata": {
            "tags": []
          },
          "execution_count": 238
        },
        {
          "output_type": "display_data",
          "data": {
            "image/png": "[encoded data removed]",
            "text/plain": [
              "<Figure size 432x288 with 1 Axes>"
            ]
          },
          "metadata": {
            "tags": [],
            "needs_background": "light"
          }
        }
      ]
    }
  ]
}