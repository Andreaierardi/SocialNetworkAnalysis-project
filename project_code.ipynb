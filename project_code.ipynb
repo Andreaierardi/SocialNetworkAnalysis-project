{
  "nbformat": 4,
  "nbformat_minor": 0,
  "metadata": {
    "colab": {
      "name": "project_code.ipynb",
      "provenance": [],
      "collapsed_sections": [],
      "toc_visible": true,
      "authorship_tag": "ABX9TyNjyaz67Gh1CUkxVjEgewqA",
      "include_colab_link": true
    },
    "kernelspec": {
      "name": "python3",
      "display_name": "Python 3"
    }
  },
  "cells": [
    {
      "cell_type": "markdown",
      "metadata": {
        "id": "view-in-github",
        "colab_type": "text"
      },
      "source": [
        "<a href=\"https://colab.research.google.com/github/Andreaierardi/SocialNetworkAnalysis-project/blob/main/project_code.ipynb\" target=\"_parent\"><img src=\"https://colab.research.google.com/assets/colab-badge.svg\" alt=\"Open In Colab\"/></a>"
      ]
    },
    {
      "cell_type": "markdown",
      "metadata": {
        "id": "emEG98GnrQo6"
      },
      "source": [
        "# **Social Network Analysis Project**\n",
        "\n",
        "> ## **University of Milan** - **DataScience and Economics**\n",
        "\n",
        "<br>\n",
        "\n",
        "#### Author : **Andrea Ierardi**\n",
        "\n",
        "<br>\n",
        "\n",
        "\n",
        "---\n",
        "\n"
      ]
    },
    {
      "cell_type": "markdown",
      "metadata": {
        "id": "7dDSzSi-p7f8"
      },
      "source": [
        "\r\n",
        " <br>\r\n",
        "\r\n",
        "\r\n",
        "\r\n",
        "\r\n"
      ]
    },
    {
      "cell_type": "markdown",
      "metadata": {
        "id": "D_1SNIKKje5V"
      },
      "source": [
        "## Dataset\r\n",
        "### Description\r\n",
        "\r\n",
        "Data collected about Facebook pages (November 2017). These datasets represent blue verified Facebook page networks of different categories. Nodes represent the pages and edges are mutual likes among them.\r\n",
        "\r\n",
        "\r\n",
        "\r\n",
        "\r\n",
        "\r\n"
      ]
    },
    {
      "cell_type": "markdown",
      "metadata": {
        "id": "-EnzyahlphFf"
      },
      "source": [
        "\r\n",
        " <br>\r\n",
        "\r\n",
        "\r\n",
        "\r\n",
        "\r\n"
      ]
    },
    {
      "cell_type": "code",
      "metadata": {
        "id": "YKVanDJn21rf"
      },
      "source": [
        "import pandas as pd\n",
        "nodes = pd.read_csv('https://raw.githubusercontent.com/Andreaierardi/SocialNetworkAnalysis-project/main/dataset/fb-pages-food.csv',sep=\";\")\n",
        "\n",
        "edges = pd.read_csv('https://raw.githubusercontent.com/Andreaierardi/SocialNetworkAnalysis-project/main/dataset/fb-pages-food.edges')\n"
      ],
      "execution_count": 149,
      "outputs": []
    },
    {
      "cell_type": "code",
      "metadata": {
        "id": "wdH8yTmE3XG0",
        "colab": {
          "base_uri": "https://localhost:8080/",
          "height": 424
        },
        "outputId": "f2e595db-c9e8-4405-ef32-f27d68ff7fc0"
      },
      "source": [
        "edges"
      ],
      "execution_count": 150,
      "outputs": [
        {
          "output_type": "execute_result",
          "data": {
            "text/html": [
              "<div>\n",
              "<style scoped>\n",
              "    .dataframe tbody tr th:only-of-type {\n",
              "        vertical-align: middle;\n",
              "    }\n",
              "\n",
              "    .dataframe tbody tr th {\n",
              "        vertical-align: top;\n",
              "    }\n",
              "\n",
              "    .dataframe thead th {\n",
              "        text-align: right;\n",
              "    }\n",
              "</style>\n",
              "<table border=\"1\" class=\"dataframe\">\n",
              "  <thead>\n",
              "    <tr style=\"text-align: right;\">\n",
              "      <th></th>\n",
              "      <th>source</th>\n",
              "      <th>target</th>\n",
              "    </tr>\n",
              "  </thead>\n",
              "  <tbody>\n",
              "    <tr>\n",
              "      <th>0</th>\n",
              "      <td>0</td>\n",
              "      <td>276</td>\n",
              "    </tr>\n",
              "    <tr>\n",
              "      <th>1</th>\n",
              "      <td>0</td>\n",
              "      <td>58</td>\n",
              "    </tr>\n",
              "    <tr>\n",
              "      <th>2</th>\n",
              "      <td>0</td>\n",
              "      <td>132</td>\n",
              "    </tr>\n",
              "    <tr>\n",
              "      <th>3</th>\n",
              "      <td>0</td>\n",
              "      <td>603</td>\n",
              "    </tr>\n",
              "    <tr>\n",
              "      <th>4</th>\n",
              "      <td>0</td>\n",
              "      <td>398</td>\n",
              "    </tr>\n",
              "    <tr>\n",
              "      <th>...</th>\n",
              "      <td>...</td>\n",
              "      <td>...</td>\n",
              "    </tr>\n",
              "    <tr>\n",
              "      <th>2097</th>\n",
              "      <td>597</td>\n",
              "      <td>611</td>\n",
              "    </tr>\n",
              "    <tr>\n",
              "      <th>2098</th>\n",
              "      <td>601</td>\n",
              "      <td>603</td>\n",
              "    </tr>\n",
              "    <tr>\n",
              "      <th>2099</th>\n",
              "      <td>601</td>\n",
              "      <td>616</td>\n",
              "    </tr>\n",
              "    <tr>\n",
              "      <th>2100</th>\n",
              "      <td>603</td>\n",
              "      <td>616</td>\n",
              "    </tr>\n",
              "    <tr>\n",
              "      <th>2101</th>\n",
              "      <td>311</td>\n",
              "      <td>613</td>\n",
              "    </tr>\n",
              "  </tbody>\n",
              "</table>\n",
              "<p>2102 rows × 2 columns</p>\n",
              "</div>"
            ],
            "text/plain": [
              "      source  target\n",
              "0          0     276\n",
              "1          0      58\n",
              "2          0     132\n",
              "3          0     603\n",
              "4          0     398\n",
              "...      ...     ...\n",
              "2097     597     611\n",
              "2098     601     603\n",
              "2099     601     616\n",
              "2100     603     616\n",
              "2101     311     613\n",
              "\n",
              "[2102 rows x 2 columns]"
            ]
          },
          "metadata": {
            "tags": []
          },
          "execution_count": 150
        }
      ]
    },
    {
      "cell_type": "code",
      "metadata": {
        "colab": {
          "base_uri": "https://localhost:8080/",
          "height": 424
        },
        "id": "oLNCmyPNI9hM",
        "outputId": "9bf9caab-ad1d-44af-eead-6f082097ccec"
      },
      "source": [
        "nodes"
      ],
      "execution_count": 151,
      "outputs": [
        {
          "output_type": "execute_result",
          "data": {
            "text/html": [
              "<div>\n",
              "<style scoped>\n",
              "    .dataframe tbody tr th:only-of-type {\n",
              "        vertical-align: middle;\n",
              "    }\n",
              "\n",
              "    .dataframe tbody tr th {\n",
              "        vertical-align: top;\n",
              "    }\n",
              "\n",
              "    .dataframe thead th {\n",
              "        text-align: right;\n",
              "    }\n",
              "</style>\n",
              "<table border=\"1\" class=\"dataframe\">\n",
              "  <thead>\n",
              "    <tr style=\"text-align: right;\">\n",
              "      <th></th>\n",
              "      <th>name</th>\n",
              "      <th>id</th>\n",
              "    </tr>\n",
              "  </thead>\n",
              "  <tbody>\n",
              "    <tr>\n",
              "      <th>0</th>\n",
              "      <td>Josh Marks</td>\n",
              "      <td>386</td>\n",
              "    </tr>\n",
              "    <tr>\n",
              "      <th>1</th>\n",
              "      <td>Blue Ribbon Restaurants</td>\n",
              "      <td>473</td>\n",
              "    </tr>\n",
              "    <tr>\n",
              "      <th>2</th>\n",
              "      <td>Pat Neely</td>\n",
              "      <td>1</td>\n",
              "    </tr>\n",
              "    <tr>\n",
              "      <th>3</th>\n",
              "      <td>La Griglia</td>\n",
              "      <td>542</td>\n",
              "    </tr>\n",
              "    <tr>\n",
              "      <th>4</th>\n",
              "      <td>Jose Garces</td>\n",
              "      <td>189</td>\n",
              "    </tr>\n",
              "    <tr>\n",
              "      <th>...</th>\n",
              "      <td>...</td>\n",
              "      <td>...</td>\n",
              "    </tr>\n",
              "    <tr>\n",
              "      <th>615</th>\n",
              "      <td>Jumia Food</td>\n",
              "      <td>163</td>\n",
              "    </tr>\n",
              "    <tr>\n",
              "      <th>616</th>\n",
              "      <td>Luke Thomas</td>\n",
              "      <td>381</td>\n",
              "    </tr>\n",
              "    <tr>\n",
              "      <th>617</th>\n",
              "      <td>Clodagh McKenna</td>\n",
              "      <td>140</td>\n",
              "    </tr>\n",
              "    <tr>\n",
              "      <th>618</th>\n",
              "      <td>Chef Michelle Bernstein</td>\n",
              "      <td>157</td>\n",
              "    </tr>\n",
              "    <tr>\n",
              "      <th>619</th>\n",
              "      <td>SORTEDfood</td>\n",
              "      <td>114</td>\n",
              "    </tr>\n",
              "  </tbody>\n",
              "</table>\n",
              "<p>620 rows × 2 columns</p>\n",
              "</div>"
            ],
            "text/plain": [
              "                        name   id\n",
              "0                 Josh Marks  386\n",
              "1    Blue Ribbon Restaurants  473\n",
              "2                  Pat Neely    1\n",
              "3                 La Griglia  542\n",
              "4                Jose Garces  189\n",
              "..                       ...  ...\n",
              "615               Jumia Food  163\n",
              "616              Luke Thomas  381\n",
              "617          Clodagh McKenna  140\n",
              "618  Chef Michelle Bernstein  157\n",
              "619               SORTEDfood  114\n",
              "\n",
              "[620 rows x 2 columns]"
            ]
          },
          "metadata": {
            "tags": []
          },
          "execution_count": 151
        }
      ]
    },
    {
      "cell_type": "code",
      "metadata": {
        "id": "rWB-XdMBJEx2"
      },
      "source": [
        "from collections import Counter # Counter counts the number of occurrences of each item\r\n",
        "from itertools import tee, count\r\n",
        "def uniquify(seq, suffs = count(1)):\r\n",
        "    \"\"\"Make all the items unique by adding a suffix (1, 2, etc).\r\n",
        "\r\n",
        "    `seq` is mutable sequence of strings.\r\n",
        "    `suffs` is an optional alternative suffix iterable.\r\n",
        "    \"\"\"\r\n",
        "    not_unique = [k for k,v in Counter(seq).items() if v>1] # so we have: ['name', 'zip']\r\n",
        "    # suffix generator dict - e.g., {'name': <my_gen>, 'zip': <my_gen>}\r\n",
        "    suff_gens = dict(zip(not_unique, tee(suffs, len(not_unique))))  \r\n",
        "    for idx,s in enumerate(seq):\r\n",
        "        try:\r\n",
        "            suffix = str(next(suff_gens[s]))\r\n",
        "        except KeyError:\r\n",
        "            # s was unique\r\n",
        "            continue\r\n",
        "        else:\r\n",
        "            seq[idx] += suffix\r\n",
        "    "
      ],
      "execution_count": 152,
      "outputs": []
    },
    {
      "cell_type": "code",
      "metadata": {
        "colab": {
          "base_uri": "https://localhost:8080/"
        },
        "id": "rUoGw9ldJR8S",
        "outputId": "a1b3ca37-04eb-462c-ec89-e2902a391583"
      },
      "source": [
        "names = list(nodes.name)\r\n",
        "uniquify(names, (f'_{x!s}' for x in range(1, 100)))\r\n",
        "names[0:10]"
      ],
      "execution_count": 153,
      "outputs": [
        {
          "output_type": "execute_result",
          "data": {
            "text/plain": [
              "['Josh Marks',\n",
              " 'Blue Ribbon Restaurants',\n",
              " 'Pat Neely',\n",
              " 'La Griglia',\n",
              " 'Jose Garces',\n",
              " 'Zac Kara',\n",
              " 'Big Fish Seafood Bistro_1',\n",
              " 'Tom Aikens',\n",
              " 'The Habit Burger Grill',\n",
              " 'Chef Sheldon Simeon']"
            ]
          },
          "metadata": {
            "tags": []
          },
          "execution_count": 153
        }
      ]
    },
    {
      "cell_type": "code",
      "metadata": {
        "colab": {
          "base_uri": "https://localhost:8080/"
        },
        "id": "UMZPXM7NK_7V",
        "outputId": "8907bd27-010c-4a48-8e27-1be54d372f23"
      },
      "source": [
        "# Find the name of the column by index\r\n",
        "n = nodes.columns[0]\r\n",
        "\r\n",
        "# Drop that column\r\n",
        "nodes.drop(n, axis = 1, inplace = True)\r\n",
        "\r\n",
        "# Put whatever series you want in its place\r\n",
        "nodes[n] = names\r\n",
        "\r\n",
        "list(nodes.name)[0:20]"
      ],
      "execution_count": 154,
      "outputs": [
        {
          "output_type": "execute_result",
          "data": {
            "text/plain": [
              "['Josh Marks',\n",
              " 'Blue Ribbon Restaurants',\n",
              " 'Pat Neely',\n",
              " 'La Griglia',\n",
              " 'Jose Garces',\n",
              " 'Zac Kara',\n",
              " 'Big Fish Seafood Bistro_1',\n",
              " 'Tom Aikens',\n",
              " 'The Habit Burger Grill',\n",
              " 'Chef Sheldon Simeon',\n",
              " 'Ochikeron',\n",
              " 'Taco Bell Cyprus',\n",
              " 'Christophe Michalak',\n",
              " \"Peohe's\",\n",
              " 'Destino Ibiza',\n",
              " 'KFC_1',\n",
              " 'Chef Shirley Chung',\n",
              " 'Doug Adams',\n",
              " 'משה שגב / Moshe Segev',\n",
              " 'Angel Leon Gonzalez']"
            ]
          },
          "metadata": {
            "tags": []
          },
          "execution_count": 154
        }
      ]
    },
    {
      "cell_type": "code",
      "metadata": {
        "id": "V433kxvejlcg"
      },
      "source": [
        "# Nodes as dictionary\n",
        "nodes_dict = {}\n",
        "for (n, id) in zip(nodes[\"name\"],nodes[\"id\"]):\n",
        " # print(n, \"+\", id)\n",
        "  nodes_dict[id] = n"
      ],
      "execution_count": 155,
      "outputs": []
    },
    {
      "cell_type": "code",
      "metadata": {
        "colab": {
          "base_uri": "https://localhost:8080/"
        },
        "id": "dMT4PI9vHk_L",
        "outputId": "f46378e5-c05c-449c-9749-257c9c1c4b82"
      },
      "source": [
        "list(nodes_dict.values())[0:20]"
      ],
      "execution_count": 156,
      "outputs": [
        {
          "output_type": "execute_result",
          "data": {
            "text/plain": [
              "['Josh Marks',\n",
              " 'Blue Ribbon Restaurants',\n",
              " 'Pat Neely',\n",
              " 'La Griglia',\n",
              " 'Jose Garces',\n",
              " 'Zac Kara',\n",
              " 'Big Fish Seafood Bistro_1',\n",
              " 'Tom Aikens',\n",
              " 'The Habit Burger Grill',\n",
              " 'Chef Sheldon Simeon',\n",
              " 'Ochikeron',\n",
              " 'Taco Bell Cyprus',\n",
              " 'Christophe Michalak',\n",
              " \"Peohe's\",\n",
              " 'Destino Ibiza',\n",
              " 'KFC_1',\n",
              " 'Chef Shirley Chung',\n",
              " 'Doug Adams',\n",
              " 'משה שגב / Moshe Segev',\n",
              " 'Angel Leon Gonzalez']"
            ]
          },
          "metadata": {
            "tags": []
          },
          "execution_count": 156
        }
      ]
    },
    {
      "cell_type": "markdown",
      "metadata": {
        "id": "Hukazbol5IQq"
      },
      "source": [
        "\r\n",
        " <br>\r\n",
        "\r\n",
        "\r\n",
        "\r\n"
      ]
    },
    {
      "cell_type": "markdown",
      "metadata": {
        "id": "KvT9Qpmg4nvI"
      },
      "source": [
        "## Network Building\r\n",
        "\r\n"
      ]
    },
    {
      "cell_type": "code",
      "metadata": {
        "id": "Zn5pk5DSlpTX"
      },
      "source": [
        "import networkx as nx\n",
        "from statsmodels.distributions.empirical_distribution import ECDF\n",
        "import numpy as np\n",
        "import matplotlib.pyplot as plt"
      ],
      "execution_count": 157,
      "outputs": []
    },
    {
      "cell_type": "code",
      "metadata": {
        "id": "k9RHnVXFme7a"
      },
      "source": [
        "G = nx.Graph()\n",
        "\n",
        "for e in edges.values.tolist():\n",
        "  G.add_edge(e[0],e[1])"
      ],
      "execution_count": 158,
      "outputs": []
    },
    {
      "cell_type": "code",
      "metadata": {
        "id": "0Nzgzmp-kN_d"
      },
      "source": [
        "H = nx.relabel_nodes(G, nodes_dict)\n",
        "len(sorted(H))\n",
        "\n",
        "G = H"
      ],
      "execution_count": 159,
      "outputs": []
    },
    {
      "cell_type": "code",
      "metadata": {
        "colab": {
          "base_uri": "https://localhost:8080/"
        },
        "id": "_75ZAAB6nDDX",
        "outputId": "a2cfd80f-4151-4486-e4c7-f66f1bf09592"
      },
      "source": [
        "print('Number of nodes: {} - Number of links:{}'.format(G.order(),G.size()))\n"
      ],
      "execution_count": 160,
      "outputs": [
        {
          "output_type": "stream",
          "text": [
            "Number of nodes: 620 - Number of links:2102\n"
          ],
          "name": "stdout"
        }
      ]
    },
    {
      "cell_type": "code",
      "metadata": {
        "id": "jtD8RPj-m65g",
        "colab": {
          "base_uri": "https://localhost:8080/",
          "height": 248
        },
        "outputId": "c6436e69-a846-4b4f-c4e5-cb3ef87eda27"
      },
      "source": [
        "# draw the graph\r\n",
        "pos = nx.spring_layout(G)\r\n",
        "\r\n",
        "nx.draw_networkx_nodes(G, pos, node_size=20, label = names)\r\n",
        "nx.draw_networkx_edges(G, pos, alpha=0.5)\r\n",
        "plt.show()\r\n"
      ],
      "execution_count": 161,
      "outputs": [
        {
          "output_type": "display_data",
          "data": {
            "image/png": "[encoded data removed]",
            "text/plain": [
              "<Figure size 432x288 with 1 Axes>"
            ]
          },
          "metadata": {
            "tags": []
          }
        }
      ]
    },
    {
      "cell_type": "code",
      "metadata": {
        "id": "opsEWUQ7ps2s",
        "colab": {
          "base_uri": "https://localhost:8080/",
          "height": 248
        },
        "outputId": "c90a4914-2b76-4e1c-b325-ce6ae05cc4c0"
      },
      "source": [
        "import warnings\r\n",
        "warnings.filterwarnings(\"ignore\", category=RuntimeWarning)\r\n",
        "\r\n",
        "# draw the graph with labels\r\n",
        "pos = nx.spring_layout(G)\r\n",
        "\r\n",
        "nx.draw_networkx_nodes(G, pos, node_size=20, label = names)\r\n",
        "nx.draw_networkx_edges(G, pos, alpha=0.5)\r\n",
        "nx.draw_networkx_labels(G,pos,font_size=3,font_color='r')\r\n",
        "plt.show()"
      ],
      "execution_count": 162,
      "outputs": [
        {
          "output_type": "display_data",
          "data": {
            "image/png": "[encoded data removed]",
            "text/plain": [
              "<Figure size 432x288 with 1 Axes>"
            ]
          },
          "metadata": {
            "tags": []
          }
        }
      ]
    },
    {
      "cell_type": "markdown",
      "metadata": {
        "id": "gUSnmQuY5ROb"
      },
      "source": [
        "\r\n",
        " <br>"
      ]
    },
    {
      "cell_type": "markdown",
      "metadata": {
        "id": "AYiLXy-R4wKP"
      },
      "source": [
        "# Degree Analysis"
      ]
    },
    {
      "cell_type": "code",
      "metadata": {
        "id": "XkY4Lqom-jIe",
        "colab": {
          "base_uri": "https://localhost:8080/"
        },
        "outputId": "eae1c8d5-2a32-4dad-bd84-7390da631da8"
      },
      "source": [
        "list(G.nodes())[0:20]"
      ],
      "execution_count": 163,
      "outputs": [
        {
          "output_type": "execute_result",
          "data": {
            "text/plain": [
              "['Lee Anne Wong',\n",
              " 'KFC_3',\n",
              " 'Chef Jamie Gwen',\n",
              " 'Madison Cowan',\n",
              " 'Elizabeth Karmel',\n",
              " 'KFC_22',\n",
              " 'KFC_8',\n",
              " 'Pat Neely',\n",
              " 'Logan Junior Chef',\n",
              " 'Robin Miller',\n",
              " 'Ben Sargent & Dr. Klaw',\n",
              " 'Bobby Flay',\n",
              " 'Chuck Hughes',\n",
              " 'Chef Carlo Cracco',\n",
              " 'Pasqualino Barbasso',\n",
              " 'Alessandro Borghese',\n",
              " 'Chef Hirohiko Shoda',\n",
              " 'Alain Ducasse',\n",
              " 'Christian Bau',\n",
              " 'Andy Luotto']"
            ]
          },
          "metadata": {
            "tags": []
          },
          "execution_count": 163
        }
      ]
    },
    {
      "cell_type": "code",
      "metadata": {
        "colab": {
          "base_uri": "https://localhost:8080/"
        },
        "id": "1fSQkejDn22I",
        "outputId": "c63630bc-d726-4f99-ced8-303cf0eab52d"
      },
      "source": [
        "density = nx.density(G)\n",
        "print('Density: {}'.format(density))"
      ],
      "execution_count": 164,
      "outputs": [
        {
          "output_type": "stream",
          "text": [
            "Density: 0.0109541925061233\n"
          ],
          "name": "stdout"
        }
      ]
    },
    {
      "cell_type": "code",
      "metadata": {
        "id": "M0mcsMoApMPw"
      },
      "source": [
        ""
      ],
      "execution_count": 164,
      "outputs": []
    },
    {
      "cell_type": "code",
      "metadata": {
        "id": "JIXsj69-pShl",
        "colab": {
          "base_uri": "https://localhost:8080/"
        },
        "outputId": "3610bb12-1be0-44fb-f176-93d32a157c9c"
      },
      "source": [
        "degree = list(dict(G.degree()).values())\n",
        "degree[0:20]"
      ],
      "execution_count": 165,
      "outputs": [
        {
          "output_type": "execute_result",
          "data": {
            "text/plain": [
              "[6, 11, 15, 2, 27, 9, 17, 2, 134, 47, 3, 31, 11, 10, 7, 10, 7, 19, 7, 3]"
            ]
          },
          "metadata": {
            "tags": []
          },
          "execution_count": 165
        }
      ]
    },
    {
      "cell_type": "code",
      "metadata": {
        "colab": {
          "base_uri": "https://localhost:8080/"
        },
        "id": "zsvqwpCEpUEF",
        "outputId": "a20f0a89-6a55-4e46-e448-6e2de069ef07"
      },
      "source": [
        "print('Standard deviation: {}'.format(np.std(degree)))\n",
        "print('Mean: {}'.format(np.mean(degree)))\n",
        "print('Median: {}'.format(np.median(degree)))\n",
        "print('Min: {}'.format(np.min(degree)))\n",
        "print('Max: {}'.format(np.max(degree)))\n",
        "\n",
        "\n",
        "print(\"Assortativity coefficient: \" + str(nx.degree_assortativity_coefficient(G)))"
      ],
      "execution_count": 166,
      "outputs": [
        {
          "output_type": "stream",
          "text": [
            "Standard deviation: 9.46914920573866\n",
            "Mean: 6.780645161290322\n",
            "Median: 4.0\n",
            "Min: 1\n",
            "Max: 134\n",
            "Assortativity coefficient: -0.028203795222469928\n"
          ],
          "name": "stdout"
        }
      ]
    },
    {
      "cell_type": "code",
      "metadata": {
        "colab": {
          "base_uri": "https://localhost:8080/",
          "height": 313
        },
        "id": "P0LheZ9uxeAi",
        "outputId": "61a1a97e-f567-44a9-ade1-abfca4a53969"
      },
      "source": [
        "import collections\r\n",
        "\r\n",
        "degree_sequence = sorted([d for n, d in G.degree()], reverse=True)  # degree sequence\r\n",
        "degreeCount = collections.Counter(degree_sequence)\r\n",
        "deg, cnt = zip(*degreeCount.items())\r\n",
        "\r\n",
        "plt.bar(deg, cnt, width=0.8, color=\"b\")\r\n",
        "plt.title(\"Degree Histogram\")\r\n",
        "plt.ylabel(\"Nodes\")\r\n",
        "plt.xlabel(\"Degree\")\r\n",
        "#in_hist= [in_degrees.values().count(x) for x in in_values]"
      ],
      "execution_count": 167,
      "outputs": [
        {
          "output_type": "execute_result",
          "data": {
            "text/plain": [
              "Text(0.5, 0, 'Degree')"
            ]
          },
          "metadata": {
            "tags": []
          },
          "execution_count": 167
        },
        {
          "output_type": "display_data",
          "data": {
            "image/png": "[encoded data removed]",
            "text/plain": [
              "<Figure size 432x288 with 1 Axes>"
            ]
          },
          "metadata": {
            "tags": [],
            "needs_background": "light"
          }
        }
      ]
    },
    {
      "cell_type": "code",
      "metadata": {
        "id": "r1PWzJLgCdQX",
        "outputId": "a0eb4348-df57-4ed2-dc97-dd528400e76d",
        "colab": {
          "base_uri": "https://localhost:8080/",
          "height": 295
        }
      },
      "source": [
        "plt.bar(x =cnt, height= deg)\r\n",
        "plt.axvline(np.array(deg).mean(), color='k', linestyle='dashed', linewidth=2)\r\n",
        "plt.title(\"Histogram of bottlenose dolphin network\")\r\n",
        "plt.xlabel('Number of connections per node')\r\n",
        "plt.ylabel('Frequency')\r\n",
        "plt.show()"
      ],
      "execution_count": 168,
      "outputs": [
        {
          "output_type": "display_data",
          "data": {
            "image/png": "[encoded data removed]",
            "text/plain": [
              "<Figure size 432x288 with 1 Axes>"
            ]
          },
          "metadata": {
            "tags": [],
            "needs_background": "light"
          }
        }
      ]
    },
    {
      "cell_type": "code",
      "metadata": {
        "colab": {
          "base_uri": "https://localhost:8080/",
          "height": 295
        },
        "id": "HUo-9A8Ty-CT",
        "outputId": "3ab57366-a1a6-4fe7-9754-c097a8ae1a6a"
      },
      "source": [
        "plt.figure() # you need to first do 'import pylabas plt'plt.grid(True)\r\n",
        "plt.plot(deg,cnt,\"ro-\") # degree\r\n",
        "plt.legend(['Degree'])\r\n",
        "plt.xlabel('Degree')\r\n",
        "plt.ylabel('Number of nodes')\r\n",
        "plt.title('Network Food')\r\n",
        "plt.show()"
      ],
      "execution_count": 169,
      "outputs": [
        {
          "output_type": "display_data",
          "data": {
            "image/png": "[encoded data removed]",
            "text/plain": [
              "<Figure size 432x288 with 1 Axes>"
            ]
          },
          "metadata": {
            "tags": [],
            "needs_background": "light"
          }
        }
      ]
    },
    {
      "cell_type": "code",
      "metadata": {
        "colab": {
          "base_uri": "https://localhost:8080/",
          "height": 299
        },
        "id": "JN-GAIXuBa6K",
        "outputId": "bea5fdbc-ae12-44ad-a020-09b9040d6326"
      },
      "source": [
        "plt.figure() # you need to first do 'import pylabas plt'plt.grid(True)\r\n",
        "plt.loglog(deg,cnt,\"ro-\") # degree\r\n",
        "plt.legend(['Degree'])\r\n",
        "plt.xlabel('Degree')\r\n",
        "plt.ylabel('Number of nodes')\r\n",
        "plt.title('Log Network Food')\r\n",
        "plt.show()"
      ],
      "execution_count": 170,
      "outputs": [
        {
          "output_type": "display_data",
          "data": {
            "image/png": "[encoded data removed]",
            "text/plain": [
              "<Figure size 432x288 with 1 Axes>"
            ]
          },
          "metadata": {
            "tags": [],
            "needs_background": "light"
          }
        }
      ]
    },
    {
      "cell_type": "markdown",
      "metadata": {
        "id": "XntfvpBl51EN"
      },
      "source": [
        "\r\n",
        " <br>"
      ]
    },
    {
      "cell_type": "markdown",
      "metadata": {
        "id": "ELEr1yqD5veE"
      },
      "source": [
        "### ECDF"
      ]
    },
    {
      "cell_type": "code",
      "metadata": {
        "colab": {
          "base_uri": "https://localhost:8080/",
          "height": 306
        },
        "id": "t6f32IbipWuq",
        "outputId": "fc0015d5-052d-4c2a-9f1d-aa34acc0950e"
      },
      "source": [
        "# ECDF linear scale\n",
        "cdf = ECDF(degree)\n",
        "x = np.unique(degree)\n",
        "y = cdf(x)\n",
        "fig_cdf = plt.figure(figsize=(8,4))\n",
        "axes = fig_cdf.gca()\n",
        "axes.plot(x,y,marker='o',ms=6, linestyle='None')\n",
        "axes.set_xlabel('Degree',size=20)\n",
        "axes.set_ylabel('ECDF Food', size = 20)"
      ],
      "execution_count": 171,
      "outputs": [
        {
          "output_type": "execute_result",
          "data": {
            "text/plain": [
              "Text(0, 0.5, 'ECDF Food')"
            ]
          },
          "metadata": {
            "tags": []
          },
          "execution_count": 171
        },
        {
          "output_type": "display_data",
          "data": {
            "image/png": "[encoded data removed]",
            "text/plain": [
              "<Figure size 576x288 with 1 Axes>"
            ]
          },
          "metadata": {
            "tags": [],
            "needs_background": "light"
          }
        }
      ]
    },
    {
      "cell_type": "code",
      "metadata": {
        "colab": {
          "base_uri": "https://localhost:8080/",
          "height": 310
        },
        "id": "85VdeXRZpbv6",
        "outputId": "acc11fe8-7d28-4848-fb49-6b1d7eda7d5e"
      },
      "source": [
        "\n",
        "# ECDF loglog scale\n",
        "cdf = ECDF(degree)\n",
        "x = np.unique(degree)\n",
        "y = cdf(x)\n",
        "fig_cdf = plt.figure(figsize=(8,4))\n",
        "axes = fig_cdf.gca()\n",
        "axes.loglog(x,y,marker='o',ms=8, linestyle='--')\n",
        "axes.set_xlabel('Degree',size=20)\n",
        "axes.set_ylabel('ECDF Food', size = 20)\n"
      ],
      "execution_count": 172,
      "outputs": [
        {
          "output_type": "execute_result",
          "data": {
            "text/plain": [
              "Text(0, 0.5, 'ECDF Food')"
            ]
          },
          "metadata": {
            "tags": []
          },
          "execution_count": 172
        },
        {
          "output_type": "display_data",
          "data": {
            "image/png": "[encoded data removed]",
            "text/plain": [
              "<Figure size 576x288 with 1 Axes>"
            ]
          },
          "metadata": {
            "tags": [],
            "needs_background": "light"
          }
        }
      ]
    },
    {
      "cell_type": "code",
      "metadata": {
        "colab": {
          "base_uri": "https://localhost:8080/",
          "height": 313
        },
        "id": "s9tOUCWqpivi",
        "outputId": "ae8dada0-7377-4d8a-fcec-bcf63b53d571"
      },
      "source": [
        "# ECCDF\n",
        "cdf = ECDF(degree)\n",
        "x = np.unique(degree)\n",
        "y = cdf(x)\n",
        "fig_cdf = plt.figure(figsize=(8,4))\n",
        "axes = fig_cdf.gca()\n",
        "axes.loglog(x,1-y,marker='o',ms=8, linestyle='--')\n",
        "axes.set_xlabel('Degree',size=20)\n",
        "axes.set_ylabel('ECCDF FOOD', size = 20)"
      ],
      "execution_count": 173,
      "outputs": [
        {
          "output_type": "execute_result",
          "data": {
            "text/plain": [
              "Text(0, 0.5, 'ECCDF FOOD')"
            ]
          },
          "metadata": {
            "tags": []
          },
          "execution_count": 173
        },
        {
          "output_type": "display_data",
          "data": {
            "image/png": "[encoded data removed]",
            "text/plain": [
              "<Figure size 576x288 with 1 Axes>"
            ]
          },
          "metadata": {
            "tags": [],
            "needs_background": "light"
          }
        }
      ]
    },
    {
      "cell_type": "code",
      "metadata": {
        "id": "-NY41H7IppF7"
      },
      "source": [
        "p = density\n",
        "random_graph = nx.fast_gnp_random_graph(G.order(),p)\n"
      ],
      "execution_count": 174,
      "outputs": []
    },
    {
      "cell_type": "code",
      "metadata": {
        "colab": {
          "base_uri": "https://localhost:8080/"
        },
        "id": "TOi6WvTwpvpZ",
        "outputId": "2db6b527-2919-4c27-876c-43632be9ba88"
      },
      "source": [
        "print('Number of nodes: {}'.format(random_graph.order()))\n",
        "print('Number of links: {}'.format(random_graph.size()))"
      ],
      "execution_count": 175,
      "outputs": [
        {
          "output_type": "stream",
          "text": [
            "Number of nodes: 620\n",
            "Number of links: 2117\n"
          ],
          "name": "stdout"
        }
      ]
    },
    {
      "cell_type": "code",
      "metadata": {
        "id": "FCiK8TUYpz0W",
        "colab": {
          "base_uri": "https://localhost:8080/"
        },
        "outputId": "a6432d72-deb4-40c2-da17-62b92e555ca1"
      },
      "source": [
        "random_degree = list(dict(random_graph.degree()).values())\n",
        "print('Random Net Standard deviation: {}'.format(np.std(random_degree)))\n",
        "print('Random Net Mean: {}'.format(np.mean(random_degree)))\n",
        "print('Random Net Median: {}'.format(np.median(random_degree)))\n",
        "print('Random Net Min: {}'.format(np.min(random_degree)))\n",
        "print('Random Net Max: {}'.format(np.max(random_degree)))"
      ],
      "execution_count": 176,
      "outputs": [
        {
          "output_type": "stream",
          "text": [
            "Random Net Standard deviation: 2.5022175388767947\n",
            "Random Net Mean: 6.829032258064516\n",
            "Random Net Median: 7.0\n",
            "Random Net Min: 1\n",
            "Random Net Max: 15\n"
          ],
          "name": "stdout"
        }
      ]
    },
    {
      "cell_type": "code",
      "metadata": {
        "colab": {
          "base_uri": "https://localhost:8080/",
          "height": 310
        },
        "id": "ZLzauKksp2IU",
        "outputId": "c30a143b-50f6-484d-c6c6-e20a3de06d9c"
      },
      "source": [
        "cdf = ECDF(degree)\n",
        "x = np.unique(degree)\n",
        "y = cdf(x)\n",
        "\n",
        "cdf_random = ECDF(random_degree)\n",
        "x_random = np.unique(random_degree)\n",
        "y_random = cdf_random(x_random)\n",
        "\n",
        "fig_cdf_fb = plt.figure(figsize=(8,4))\n",
        "axes = fig_cdf_fb.gca()\n",
        "axes.set_xscale('log')\n",
        "axes.set_yscale('log')\n",
        "axes.loglog(x,1-y,marker='o',ms=8, linestyle='--')\n",
        "axes.loglog(x_random,1-y_random,marker='+',ms=10, linestyle='--')\n",
        "axes.set_xlabel('Degree',size=20)\n",
        "axes.set_ylabel('ECCDF', size = 20)"
      ],
      "execution_count": 177,
      "outputs": [
        {
          "output_type": "execute_result",
          "data": {
            "text/plain": [
              "Text(0, 0.5, 'ECCDF')"
            ]
          },
          "metadata": {
            "tags": []
          },
          "execution_count": 177
        },
        {
          "output_type": "display_data",
          "data": {
            "image/png": "[encoded data removed]",
            "text/plain": [
              "<Figure size 576x288 with 1 Axes>"
            ]
          },
          "metadata": {
            "tags": [],
            "needs_background": "light"
          }
        }
      ]
    },
    {
      "cell_type": "markdown",
      "metadata": {
        "id": "KAqS4YcCGaLK"
      },
      "source": [
        "\r\n",
        " <br>"
      ]
    },
    {
      "cell_type": "markdown",
      "metadata": {
        "id": "x8IZWFFHpq9o"
      },
      "source": [
        "## HUBS"
      ]
    },
    {
      "cell_type": "code",
      "metadata": {
        "colab": {
          "base_uri": "https://localhost:8080/"
        },
        "id": "Sg72v5vSp6tB",
        "outputId": "3dd9636b-ff39-4821-d14e-ec4980aaa250"
      },
      "source": [
        "percentile_99 = np.percentile(degree,99)\n",
        "print(percentile_99)"
      ],
      "execution_count": 178,
      "outputs": [
        {
          "output_type": "stream",
          "text": [
            "47.0\n"
          ],
          "name": "stdout"
        }
      ]
    },
    {
      "cell_type": "code",
      "metadata": {
        "id": "stn61tlep9e6"
      },
      "source": [
        "hub_nodi = [k for k,v in dict(G.degree()).items() if v>= percentile_99]\n"
      ],
      "execution_count": 179,
      "outputs": []
    },
    {
      "cell_type": "code",
      "metadata": {
        "colab": {
          "base_uri": "https://localhost:8080/"
        },
        "id": "OsfcPT35qCB_",
        "outputId": "c68fb2f1-3804-456b-abd6-6fd85cb9d23e"
      },
      "source": [
        "print(len(hub_nodi))\n",
        "print(list(hub_nodi))"
      ],
      "execution_count": 180,
      "outputs": [
        {
          "output_type": "stream",
          "text": [
            "8\n",
            "['Logan Junior Chef', 'Robin Miller', 'Scott Conant', \"McDonald's_6\", 'Eric Ripert', 'Alex Guarnaschelli', 'David Chang', 'Chef Daniel Boulud']\n"
          ],
          "name": "stdout"
        }
      ]
    },
    {
      "cell_type": "code",
      "metadata": {
        "colab": {
          "base_uri": "https://localhost:8080/"
        },
        "id": "ZZDQ7UGBqIqX",
        "outputId": "b91a8f57-ef2d-4d2f-d8a2-0f76297b127d"
      },
      "source": [
        "print(list(nx.isolates(G)))\n"
      ],
      "execution_count": 181,
      "outputs": [
        {
          "output_type": "stream",
          "text": [
            "[]\n"
          ],
          "name": "stdout"
        }
      ]
    },
    {
      "cell_type": "code",
      "metadata": {
        "id": "h0PqsuaPhait",
        "colab": {
          "base_uri": "https://localhost:8080/",
          "height": 248
        },
        "outputId": "c8b861f8-65df-4748-d756-1cc6101e44e5"
      },
      "source": [
        "# draw the graph\r\n",
        "pos = nx.spring_layout(G)\r\n",
        "# color the nodes according to their partition\r\n",
        "color_map = []\r\n",
        "size_map = []\r\n",
        "node_index ={}\r\n",
        "for i in range(0, len(names)):\r\n",
        "    if not (names[i] in hub_nodi) :\r\n",
        "        color_map.append('lightblue')\r\n",
        "        size_map.append(20)\r\n",
        "    else: \r\n",
        "        color_map.append('blue')\r\n",
        "        size_map.append(150)\r\n",
        "        node_index[names[i]] = names[i]\r\n",
        "nx.draw_networkx_nodes(G, pos, node_size=size_map\r\n",
        "                       , node_color=color_map)\r\n",
        "nx.draw_networkx_edges(G, pos, alpha=0.5)\r\n",
        "nx.draw_networkx_labels(G,labels=node_index,pos = pos,font_size=8,font_color='r')\r\n",
        "\r\n",
        "plt.show()"
      ],
      "execution_count": 182,
      "outputs": [
        {
          "output_type": "display_data",
          "data": {
            "image/png": "[encoded data removed]",
            "text/plain": [
              "<Figure size 432x288 with 1 Axes>"
            ]
          },
          "metadata": {
            "tags": []
          }
        }
      ]
    },
    {
      "cell_type": "markdown",
      "metadata": {
        "id": "bYCwbh5GGYoH"
      },
      "source": [
        "\r\n",
        " <br>"
      ]
    },
    {
      "cell_type": "markdown",
      "metadata": {
        "id": "nsHzYEcBp8Cz"
      },
      "source": [
        "## Connectivity"
      ]
    },
    {
      "cell_type": "code",
      "metadata": {
        "colab": {
          "base_uri": "https://localhost:8080/"
        },
        "id": "uctAbGqKqVSl",
        "outputId": "74fda31e-065b-4375-9b08-dff4bd1b88e4"
      },
      "source": [
        "print(nx.is_connected(G))\n",
        "print(nx.number_connected_components(G))"
      ],
      "execution_count": 183,
      "outputs": [
        {
          "output_type": "stream",
          "text": [
            "True\n",
            "1\n"
          ],
          "name": "stdout"
        }
      ]
    },
    {
      "cell_type": "code",
      "metadata": {
        "id": "Ys-22v4sqYmZ"
      },
      "source": [
        ""
      ],
      "execution_count": 183,
      "outputs": []
    },
    {
      "cell_type": "code",
      "metadata": {
        "id": "C_uqHiEZPZEb",
        "colab": {
          "base_uri": "https://localhost:8080/"
        },
        "outputId": "96891468-4f40-45e2-d43a-673a1d20397b"
      },
      "source": [
        "nx.number_connected_components(G)"
      ],
      "execution_count": 184,
      "outputs": [
        {
          "output_type": "execute_result",
          "data": {
            "text/plain": [
              "1"
            ]
          },
          "metadata": {
            "tags": []
          },
          "execution_count": 184
        }
      ]
    },
    {
      "cell_type": "code",
      "metadata": {
        "id": "1wX3cRDduXZe"
      },
      "source": [
        "#dir(G)"
      ],
      "execution_count": 185,
      "outputs": []
    },
    {
      "cell_type": "code",
      "metadata": {
        "id": "b2_O0YjSZMjR",
        "colab": {
          "base_uri": "https://localhost:8080/"
        },
        "outputId": "7c4fa084-29df-4685-991c-b5b26d66e967"
      },
      "source": [
        "len(nx.triangles(G))"
      ],
      "execution_count": 186,
      "outputs": [
        {
          "output_type": "execute_result",
          "data": {
            "text/plain": [
              "620"
            ]
          },
          "metadata": {
            "tags": []
          },
          "execution_count": 186
        }
      ]
    },
    {
      "cell_type": "markdown",
      "metadata": {
        "id": "SdgfcGZXEI_y"
      },
      "source": [
        "\r\n",
        " <br>"
      ]
    },
    {
      "cell_type": "markdown",
      "metadata": {
        "id": "eMHDFzK2D3Ku"
      },
      "source": [
        "## Clusters"
      ]
    },
    {
      "cell_type": "code",
      "metadata": {
        "id": "UyQ4ciEkaPvh",
        "colab": {
          "base_uri": "https://localhost:8080/"
        },
        "outputId": "4587ef64-150b-4b8d-d3f3-8af807e3e892"
      },
      "source": [
        "clusters = nx.average_clustering(G)\n",
        "clusters"
      ],
      "execution_count": 187,
      "outputs": [
        {
          "output_type": "execute_result",
          "data": {
            "text/plain": [
              "0.3308970263553271"
            ]
          },
          "metadata": {
            "tags": []
          },
          "execution_count": 187
        }
      ]
    },
    {
      "cell_type": "code",
      "metadata": {
        "id": "yLPXd0lx9tTC",
        "colab": {
          "base_uri": "https://localhost:8080/"
        },
        "outputId": "2a25741e-f5f8-4234-ec00-de47391db61f"
      },
      "source": [
        "type(clusters)"
      ],
      "execution_count": 188,
      "outputs": [
        {
          "output_type": "execute_result",
          "data": {
            "text/plain": [
              "float"
            ]
          },
          "metadata": {
            "tags": []
          },
          "execution_count": 188
        }
      ]
    },
    {
      "cell_type": "code",
      "metadata": {
        "id": "C5-1q7SaDtE0"
      },
      "source": [
        ""
      ],
      "execution_count": 188,
      "outputs": []
    },
    {
      "cell_type": "code",
      "metadata": {
        "id": "hiPVa4vwZXaP",
        "colab": {
          "base_uri": "https://localhost:8080/"
        },
        "outputId": "e37fe5ca-d062-4b74-b20f-fa843b97666d"
      },
      "source": [
        "nx.transitivity(G)\n"
      ],
      "execution_count": 189,
      "outputs": [
        {
          "output_type": "execute_result",
          "data": {
            "text/plain": [
              "0.22264084150905228"
            ]
          },
          "metadata": {
            "tags": []
          },
          "execution_count": 189
        }
      ]
    },
    {
      "cell_type": "code",
      "metadata": {
        "colab": {
          "base_uri": "https://localhost:8080/"
        },
        "id": "FPI3sqAdEbFh",
        "outputId": "f8e15e44-1d9d-4afd-8e86-da0444c53374"
      },
      "source": [
        "local_cluster = nx.clustering(G)\r\n",
        "sorted(local_cluster.items(), key=lambda item: item[1], reverse= True)[0:20]\r\n"
      ],
      "execution_count": 190,
      "outputs": [
        {
          "output_type": "execute_result",
          "data": {
            "text/plain": [
              "[('Pat Neely', 1.0),\n",
              " ('Ben Sargent & Dr. Klaw', 1.0),\n",
              " ('Jumia Food_6', 1.0),\n",
              " (\"Chili's México\", 1.0),\n",
              " ('Taco Bell El Salvador', 1.0),\n",
              " ('KFC_17', 1.0),\n",
              " (\"Domino's Pizza_11\", 1.0),\n",
              " ('Delverde_1', 1.0),\n",
              " ('Delverde_3', 1.0),\n",
              " (\"Nando's_12\", 1.0),\n",
              " (\"Nando's_8\", 1.0),\n",
              " (\"McDonald's Deutschland Karriere\", 1.0),\n",
              " (\"McDonald's_37\", 1.0),\n",
              " (\"McDonald's_8\", 1.0),\n",
              " (\"McDonald's_11\", 1.0),\n",
              " ('Valentin Neraudeau', 1.0),\n",
              " ('Chef Aaron McCargo Jr', 1.0),\n",
              " ('Al Brown New Zealand Chef', 1.0),\n",
              " ('Princi', 1.0),\n",
              " ('ad hoc & addendum', 1.0)]"
            ]
          },
          "metadata": {
            "tags": []
          },
          "execution_count": 190
        }
      ]
    },
    {
      "cell_type": "code",
      "metadata": {
        "colab": {
          "base_uri": "https://localhost:8080/"
        },
        "id": "CcbtpU04EjyJ",
        "outputId": "f2625fb3-2ea8-4e28-ab34-17ae7cbf7c13"
      },
      "source": [
        "triangle = nx.triangles(G)\r\n",
        "list(triangle.items())[0:20]\r\n",
        "#len(triangle)"
      ],
      "execution_count": 191,
      "outputs": [
        {
          "output_type": "execute_result",
          "data": {
            "text/plain": [
              "[('Lee Anne Wong', 4),\n",
              " ('KFC_3', 13),\n",
              " ('Chef Jamie Gwen', 36),\n",
              " ('Madison Cowan', 0),\n",
              " ('Elizabeth Karmel', 88),\n",
              " ('KFC_22', 15),\n",
              " ('KFC_8', 25),\n",
              " ('Pat Neely', 1),\n",
              " ('Logan Junior Chef', 461),\n",
              " ('Robin Miller', 166),\n",
              " ('Ben Sargent & Dr. Klaw', 3),\n",
              " ('Bobby Flay', 94),\n",
              " ('Chuck Hughes', 11),\n",
              " ('Chef Carlo Cracco', 10),\n",
              " ('Pasqualino Barbasso', 6),\n",
              " ('Alessandro Borghese', 15),\n",
              " ('Chef Hirohiko Shoda', 3),\n",
              " ('Alain Ducasse', 28),\n",
              " ('Christian Bau', 6),\n",
              " ('Andy Luotto', 2)]"
            ]
          },
          "metadata": {
            "tags": []
          },
          "execution_count": 191
        }
      ]
    },
    {
      "cell_type": "code",
      "metadata": {
        "colab": {
          "base_uri": "https://localhost:8080/"
        },
        "id": "5gWiREgwyc3I",
        "outputId": "08f60125-d134-4aa8-a539-61a05e978c65"
      },
      "source": [
        "print(\"TOTAL number of triangles in the graph: \", sum(list(nx.triangles(G).values())))"
      ],
      "execution_count": 192,
      "outputs": [
        {
          "output_type": "stream",
          "text": [
            "TOTAL number of triangles in the graph:  8805\n"
          ],
          "name": "stdout"
        }
      ]
    },
    {
      "cell_type": "markdown",
      "metadata": {
        "id": "5KNFNIWLDt7z"
      },
      "source": [
        "\r\n",
        " <br>"
      ]
    },
    {
      "cell_type": "markdown",
      "metadata": {
        "id": "5GtY7sh6DuFl"
      },
      "source": [
        "## Centrality\r\n",
        "\r\n"
      ]
    },
    {
      "cell_type": "code",
      "metadata": {
        "id": "F3mhnNFPgPhh"
      },
      "source": [
        "deg_centr = nx.degree_centrality(G)\r\n"
      ],
      "execution_count": 193,
      "outputs": []
    },
    {
      "cell_type": "code",
      "metadata": {
        "id": "R8x--vrLCPLa"
      },
      "source": [
        "eigen = nx.eigenvector_centrality(G)\r\n",
        "#eigen"
      ],
      "execution_count": 194,
      "outputs": []
    },
    {
      "cell_type": "code",
      "metadata": {
        "id": "ZXafFd7cjc9_"
      },
      "source": [
        "pagerank = nx.pagerank(G)\r\n",
        "#pagerank"
      ],
      "execution_count": 195,
      "outputs": []
    },
    {
      "cell_type": "code",
      "metadata": {
        "id": "y3QaV4BvDc-p"
      },
      "source": [
        "betweenesCentrality = nx.betweenness_centrality(G)\r\n",
        "#betweenesCentrality"
      ],
      "execution_count": 196,
      "outputs": []
    },
    {
      "cell_type": "code",
      "metadata": {
        "id": "wkLyZWZZDldG"
      },
      "source": [
        ""
      ],
      "execution_count": 196,
      "outputs": []
    },
    {
      "cell_type": "markdown",
      "metadata": {
        "id": "1VmuowQtE_jJ"
      },
      "source": [
        "\r\n",
        " <br>"
      ]
    },
    {
      "cell_type": "markdown",
      "metadata": {
        "id": "K9YtqVmfFAjk"
      },
      "source": [
        "## Communities\r\n"
      ]
    },
    {
      "cell_type": "code",
      "metadata": {
        "colab": {
          "base_uri": "https://localhost:8080/"
        },
        "id": "Rs36FKE2FAAz",
        "outputId": "4cef76b5-eec6-49ce-f586-1a90bf09e8c9"
      },
      "source": [
        "import networkx.algorithms.community as nx_comm\r\n",
        "\r\n",
        "import community as community_louvain\r\n",
        "import matplotlib.cm as cm\r\n",
        "import matplotlib.pyplot as plt\r\n",
        "import networkx as nx\r\n",
        "\r\n",
        "list_community_sets_greedy = list(nx_comm.greedy_modularity_communities(G))\r\n",
        "print(list_community_sets_greedy[0:20])"
      ],
      "execution_count": 197,
      "outputs": [
        {
          "output_type": "stream",
          "text": [
            "[frozenset({'Pat Neely', 'Red Robin Gourmet Burgers', 'The Tuscan Gun', 'Hubert Keller', 'Samin Nosrat', 'Gavin Kaysen', 'Stephanie Izard', 'Chef Marc Murphy', 'Eduardo Palazuelos', 'Harlem EatUp', 'Chef Lorena Garcia', 'Donatella Arpaia', 'Roy Choi', 'Chef Kiran Jethwa', 'Chef Ana Paula', 'Mei Lin', 'Michael Lomonaco', 'Tom Aikens', 'Marc Forgione', 'Chef Marcela Valladolid', 'Jose Garces', 'Harold Dieterle', 'Chef Casey Thompson', 'Virginia Willis', 'Chef Jamie Gwen', 'Elizabeth Karmel', 'Franklin Barbecue', 'Chef Diego Lozano', 'Kirti Bhoutika', 'Dean Fearing', 'Crepes & Waffles', \"Bobby's Burger Palace\", 'Buddy Valastro', 'Seamus Mullen', \"'Wichcraft\", 'Diego Guerrero', 'Chef Carla Hall', 'Pedro Lambertini', 'Juliana Lopez May', 'Chef Alex Levin', 'Chef Elizabeth Falkner', 'Marcus Samuelsson', 'Martín Berasategui', 'Chef Richard Sandoval', 'Bobby Flay', 'Eric Ripert', 'Pablo Massey', 'Alfred Portale', 'Chef Jennifer Carroll', 'Logan Junior Chef', 'Ludo Lefebvre', 'Michel Nischan', 'Maru Botana', 'Dan Kluger', 'Chef Francois Payard', 'Chef David Burke', \"Dunkin' Donuts_9\", 'Enrique Olvera', 'Santiago Giorgini', 'René Redzepi', 'Blue Ribbon Restaurants', 'Dining with Flynn', 'Chef Carmen Gonzalez', 'Veggie Grill', 'Chef Nina Compton', 'Tom Colicchio', 'Angel Leon Gonzalez', 'Frantzén', 'John Whaite', 'Geoffrey Zakarian', 'Los Petersen Cocineros', 'Ogro Jimmy', 'Donato De Santis', 'Paul Qui', 'Chef Michael Smith', 'Sang Yoon', 'Blue Ribbon Fried Chicken', 'Tim Love', 'Chef Mark Garcia', \"Chef Claudia's Cocina\", 'Vegan Black Metal Chef', 'Chef Aaron McCargo Jr', 'Chef Sue Zemanick', 'Chef Mary Sue Milliken', 'Chef Michael Ferraro', 'Chef Charlie Palmer', 'Chef Cynthia Louise', 'Cocina familiar con Javier Romero', 'Anne Burrell', 'David Chang', 'Chef G. Garvin', 'Josh Elkin', \"Xi'an Famous Foods 西安名吃\", 'Claire Robinson', 'Chef Daniel Boulud', 'Amy Thielen', 'Brooke Williamson', 'Five Guys_1', 'Germán Martitegui', 'Alex Guarnaschelli', 'Carlos Bertolazzi', 'Chef Michelle Bernstein', 'Melissa King', 'Gregory Gourdet', 'José Andrés', 'Ken Oringer', 'Robin Miller', 'Douglas Keane', 'Franklin Becker', 'Kristen Kish', 'Dina Nikolaou', 'Chef Kent Graham', 'Alex Atala', 'Susan Feniger', 'Bryce Shuman', 'Dean Sheremet', 'Scott Conant', 'Chef Rick Moonen', 'Levi Eirinberg', 'Chef Ben Churchill', 'Aarón Sánchez', 'Narda Lepes', 'Chef Jet Tila', 'Christina Tosi', 'Angelo Sosa', 'Michael White', 'Matthew Kenney', 'Cat Cora', 'Quique Dacosta', 'Dale Talde', 'Cook with Chef Duminda', 'Maneet Chauhan', 'Camille Becerra', 'Daniel Humm', 'Bradley Ogden', 'Maria Loi', 'UMass Dining', 'Johnny Iuzzini', 'João Alcantara', 'Julia Child', 'Chef Rick Tramonto', 'Doug Adams', 'Fabio Viviani', 'Luke Thomas', 'DedeMed', \"D'O - Davide Oldani\", 'Cesare Casella', 'Aliya LeeKong', 'Chef Robert Irvine', 'Chef Shirley Chung', 'Francis Mallmann', 'Magnum_2', 'Nyesha Arrington', 'Hugh Acheson', 'NishaMadhulika', 'Guga Rocha', 'Suzanne Goin', 'Dani García', 'Jacques Pépin', 'Chef Ben Ford', 'Jehangir', 'Marcel Vigneron', 'John DeLucie', 'Chef Brian Duffy'}), frozenset({\"McDonald's_31\", \"McDonald's_50\", \"McDonald's_29\", 'Destino Ibiza', \"McDonald's_10\", \"McDonald's_59\", \"McDonald's_53\", \"McDonald's_18\", \"McDonald's_37\", 'Hard Rock Cafe Ibiza', \"McDonald's_43\", \"McDonald's Deutschland Karriere\", \"McDonald's_35\", \"McDonald's_41\", 'Alberto Chicote', \"McDonald's_14\", \"McDonald's_8\", \"McDonald's República Dominicana\", \"McDonald's_54\", \"McDonald's_58\", \"McDonald's_42\", \"McDonald's_40\", \"McDonald's_20\", \"McDonald's_22\", \"McDonald's_38\", \"McDonald's_17\", \"Steak 'n Shake\", \"McDonald's_57\", \"McDonald's_47\", \"McDonald's_23\", \"McDonald's_34\", \"McDonald's_30\", \"McDonald's_7\", \"McDonald's_33\", \"McDonald's Paraguay\", 'Lío', \"McDonald's_11\", \"McDonald's_49\", \"McDonald's_6\", \"McDonald's_51\", \"McDonald's_45\", \"McDonald's_26\", \"McDonald's_36\", \"McDonald's_13\", \"McDonald's Vietnam\", \"McDonald's_5\", \"McDonald's_21\", \"McDonald's_19\", 'Nutella Cafe Chicago', \"McDonald's_44\", \"McDonald's_39\", \"McDonald's_12\", \"McDonald's_27\", \"McDonald's_24\", \"McDonald's_15\", \"McDonald's_2\", \"McDonald's_1\", \"McDonald's_28\", \"McDonald's_46\", \"McDonald's_52\", \"McDonald's_55\", \"McDonald's_48\", \"McDonald's_4\", \"McDonald's_25\", '麥當勞', \"McDonald's_16\", \"맥도날드 (McDonald's)\", \"McDonald's_56\", \"McDonald's Japan\", \"McDonald's_32\", \"McDonald's_9\", \"McDonald's_3\"}), frozenset({'Ochikeron', 'Hilah Cooking', 'Barbie Marshall', 'Chef Clément', 'Colin Fassnidge', 'Danny Smiles', \"Nicko's Kitchen\", 'Sanjeev Kapoor', 'Ben Sargent & Dr. Klaw', 'Chef Andrew Gruel', 'Chef Billy Parisi', \"Manjula's Kitchen - Indian Vegetarian Recipes\", 'Five Guys_2', 'Hearth', 'Leslie Gilliams', 'Cindy Pawlcyn', 'Ranveer Brar', 'Joanna 劉韋彤', 'Eddie Jackson - FIT CHEF EDDIE', 'Hakim Chajar', 'ChefAlexander', 'Chef Derrick Fox', 'Chef Rubio', 'Monti Carlo', 'Russell Jackson', 'Texas Roadhouse', 'Nikki Dinki', 'Spago Las Vegas', 'Chef Rusty Hamlin', 'Justin Warner', 'Chuck Hughes', 'Spike Mendelsohn', 'Roblé', 'Zac Kara', 'Christine Ha', 'Josh Marks', 'Saransh Goila', 'Chef Todd Mohr', \"Famous Dave's Bar-B-Que of America\", 'Chick-fil-A', 'משה שגב / Moshe Segev', 'José Santaella', \"Jimmy John's\", 'Chef Dana Cohen HK', 'Vicky Ratnani', 'Duff Goldman', 'Emily Ellyn', 'Chef Damaris Phillips', 'Graham Elliot', 'The Edgy Veg', 'Ricardo Cuisine', 'MASAの料理ABC', 'Chef Sam Talbot'}), frozenset({\"Dunkin' Donuts_10\", 'Subway', \"Nando's_1\", \"Chili's México\", 'Acapulco', \"Nando's_7\", 'foodpanda_7', \"Nando's_8\", \"Chili's Qatar\", 'Pescaria', 'Burger King Malaysia', 'foodpanda - 空腹熊貓', 'Chevys Fresh Mex', \"Dunkin' Coffee\", \"Nando's_15\", 'On The Border', \"Nando's_9\", 'foodpanda_3', \"Nando's PERi-PERi\", \"Chili's Grill & Bar\", \"Nando's_14\", 'Big Fernand', 'foodpanda_6', 'KFC_21', 'foodpanda_8', 'Burger King Nederland', 'Subway, Cayman Islands', 'foodpanda_4', \"Nando's_3\", \"Nando's_5\", 'foodpanda_1', \"Nando's_10\", \"Chili's Beirut\", \"Nando's_2\", \"Nando's_11\", \"Nando's_13\", \"Nando's_12\", \"Chili's Tunisie\", 'Burger King México', '翠華餐廳 Tsui Wah Restaurant', \"Nando's_4\", 'foodpanda_2', 'El Torito', 'Second Floor Cafe 貳樓餐飲', \"Nando's_6\", 'foodpanda_5'}), frozenset({'Antonino Cannavacciuolo', 'Massimo Mele', 'Matt Moran', 'Simon Bryant', 'Noma', 'Chef Pete Evans', 'Chef Jimmy Boswell', 'Chef Carlo Cracco', 'Dan Steph & Emmy', 'Bruno Barbieri', 'Karen Martini', 'Sonia Peronaci', 'Shane Delia', \"Cristian D'Elia\", 'Cuoco Filippo La Mantia', 'Chef Natale Giunta', 'Christian Bau', 'Iginio Massari', 'Niko Romito', 'Ernst Knam', 'Pasqualino Barbasso', 'Manu Feildel', 'Al Brown New Zealand Chef', 'Chef Hirohiko Shoda', 'Relais & Châteaux_2', 'Simon Gault', 'Chef Grace Ramirez', 'Francesco Sole', 'Peter Kuruvita', 'Mirko Ronzoni', 'Magnum_3', 'Jock Zonfrillo', 'Raymond Blanc', 'Ignacio Mattos', 'Andy Luotto', 'Fast Ed', 'Alessandro Borghese'}), frozenset({\"Dunkin' Donuts_3\", \"Charley's Crab_2\", \"Dunkin' Donuts_7\", \"Charley's Crab_1\", 'T-rex Cafe', \"Dunkin' Donuts_5\", \"Dunkin' Donuts_2\", \"Dunkin' Donuts_6\", 'RED Sushi and Hibachi Grill', \"Dunkin' Donuts_8\", 'Chef Maeve Rochford', 'Big Fish Seafood Bistro_2', 'Cadillac Bar Houston', \"Lillie's Asian Cuisine\", 'Wolfgang Puck', 'Grotto', \"Meriwether's\", 'La Griglia', \"Peohe's\", \"Dunkin' Donuts_1\", 'River Crab Blue Water Inn', 'Steve Konopelski', 'Big Fish Seafood Bistro_1', 'Aquarium Restaurant - Nashville', 'Gandy Dancer Saloon/Oyster Bar', 'Grand Concourse', 'Chart House', \"Dunkin' Donuts_4\", 'Gandy Dancer', 'Cucina by Wolfgang Puck', 'Ravintola Salve', 'Cadillac Bar Kemah', 'Bubba Gump Shrimp Co.', 'Sam Choy', 'Four Seasons Hotels and Resorts', \"Morton's The Steakhouse\"}), frozenset({'Taste of London', 'Norbert Tarayre', 'Eckart Witzigmann', 'Taste Of Paris Official', 'Guillaume Gomez', 'PROPERCORN', 'Christophe Michalak', 'Jean-François Piège     -      Page Officielle', 'Paul Bocuse', 'YANNICK ALLENO OFFICIEL', 'Alain Ducasse', 'Mathieu Pacaud', 'Christophe Adam', 'Thierry Rautureau', 'Éric Frechon', \"Tom's Kitchen\", 'Christophe Bacquie', 'Susur Lee', 'Gary Mehigan', 'Audra Morrice', 'Pierre Gagnaire', 'KFC_2', 'Guy Savoy', 'Valentin Neraudeau', 'Marc Veyrat', 'Chef Guy Martin', 'Christian Le Squer', 'Amandine Chaignot', 'Pierre Sang Boyer Officiel', 'Noëmie Honiat Top Chef', 'Bruno Ménard', 'Roxanne Spruance', 'Anne-Sophie Pic'}), frozenset({\"Domino's Pizza_17\", \"Domino's Pizza_1\", \"Domino's Pizza_9\", \"Domino's Pizza_14\", \"Domino's Pizza Nigeria\", '도미노피자(Dominostory)', \"Domino's Pizza_10\", \"Domino's Pizza_12\", 'KFC_17', \"Domino's Pizza_20\", \"Domino's Pizza_5\", \"Domino's Australia\", \"Domino's Pizza_4\", \"Domino's Pizza_11\", \"Domino's Pizza_13\", \"Domino's Pizza_18\", \"Domino's Pizza_2\", 'JW Café - JW Marriott Hotel Hanoi', \"Domino's Pizza_16\", \"Domino's Pizza_6\", \"Domino's Pizza_15\", \"Domino's Pizza_3\", \"Domino's Pizza_8\", 'Magnum_1', \"Domino's Guatemala\", '達美樂披薩', 'Magnum_6', \"Domino's Mx\", \"Domino's Pizza Türkiye\", \"Domino's Pizza_19\", \"Domino's Pizza_7\"}), frozenset({'Gemma Stafford', 'Chetna Makan', 'Hari Ghotra', 'CAKE-BOY', 'Kevin Dundon', 'Clodagh McKenna', 'SORTEDfood', 'Felicitas Pizarro', 'My Cupcake Addiction', 'Magnum_5', 'Krispy Kreme UK', 'Food Busker', 'Anis Nabilah', 'Outlander Kitchen', 'James Martin', 'Kunal Kapur', 'Ben Ebbrell - Sorted Chef', 'Alex French Guy Cooking', 'Rachel Allen', 'Tom Douglas Restaurants', \"Gino D'Acampo\", 'Anjali Pathak', 'Emma Frisch', 'Lindsay Ann Bakes', 'Cook with Amber', 'George Pagonis', 'Paul Hollywood', 'Magnum_4', 'Donal Skehan', 'Martha Collison', 'Magnum_7'}), frozenset({'KFC_5', 'KFC_13', 'KFC_24', 'KFC_8', 'KFC_7', 'Opry City Stage', 'KFC_19', \"Carl's Jr.\", \"Hardee's Pakistan\", 'KFC_16', 'KFC_27', \"Hardee's\", 'KFC_3', 'KFC_20', 'KFC_26', 'KFC_25', 'KFC_18', 'KFC_10', 'Madison Cowan', 'KFC_11', 'KFC_12', 'KFC_23', 'KFC_15', 'KFC_9', 'KFC_14', \"Carl's Jr. NZ\", 'KFC_6', 'Lee Anne Wong', 'KFC_1', 'KFC_22'}), frozenset({'Bahama Breeze Island Grille', 'Wings', 'Olive Garden', \"Dick's Drive In Restaurant\", 'Olive Garden México', 'Seasons 52', 'Red Lobster México', 'Outback Steakhouse', 'Bonefish Grill', 'Roy Yamaguchi', 'FONDA MEXICANA', 'Burger King Thailand', \"Roy's Restaurant\", \"Eddie V's Prime Seafood\", 'Yard House', \"Carrabba's Italian Grill\", 'Chef Sheldon Simeon'}), frozenset({'タコベル ジャパン\\u3000Taco Bell Japan', 'Taco Bell Rep Dom', 'Taco Bell Careers', 'Dairy Queen', 'Taco Bell Panamá', 'Boston Market', 'Taco Bell Cyprus', 'Taco Bell UK', 'Taco Bell India', 'Taco Bell Kuwait', 'Taco Bell', 'Taco Bell Costa Rica', 'Taco Bell El Salvador', 'Pollo Campero El Salvador', 'Taco Bell Guatemala', 'Telepizza Guatemala', 'Pollo Campero Guatemala'}), frozenset({'Jumia Food_8', 'Jumia Food_1', 'Jumia Food_6', 'foodpanda / hellofood', 'Jumia Food_9', 'Jumia Food_5', 'Jumia Food_3', 'Jumia Food_4', 'Jumia Food_7', 'Jumia Food_10', 'Jumia Food_2', 'hellofood', 'Brew Bistro and Lounge'}), frozenset({'Emmi CAFFÈ LATTE_1', 'Emmi CAFFÈ LATTE_5', 'Emmi CAFFÈ LATTE_4', 'Emmi CAFFÈ LATTE_3', 'KFC_4', 'Emmi CAFFÈ LATTE_2'}), frozenset({'Thomas Keller', 'Princi', 'The French Laundry', 'Katie Pix', 'ad hoc & addendum', 'Per Se'}), frozenset({'RIBS - True American Barbecue', 'Bruno Oteiza', 'Celler de Can Roca', 'Karlos Arguiñano', 'Juan Mari Arzak (Página oficial)', 'Eva Arguiñano'}), frozenset({'The Habit Burger Grill', 'Burger Lounge', 'Puesto', 'Zoёs Kitchen', 'Luna Grill'}), frozenset({'Delverde_3', 'Mary Nolan, Bon Appétit Executive Chef', 'Delverde_4', 'Delverde_2', 'Delverde_1'}), frozenset({'Chope_2', 'Crystal Jade Palace - JW Marriott Hotel Hanoi', 'Chope_1', 'Crystal Jade Singapore', 'Relais & Châteaux_1'}), frozenset({'Gaston Acurio', \"Papacho's\", 'Whataburger'})]\n"
          ],
          "name": "stdout"
        }
      ]
    },
    {
      "cell_type": "code",
      "metadata": {
        "colab": {
          "base_uri": "https://localhost:8080/"
        },
        "id": "dpX6TPImFXDd",
        "outputId": "5aaa7144-5daa-4eaf-dfbb-51fac009e1cb"
      },
      "source": [
        "partition_greedy = {}\r\n",
        "for i, comm in enumerate(list_community_sets_greedy):\r\n",
        "    print(\"Community:\", i)\r\n",
        "    print(\"Number of elems\",len(comm))\r\n",
        "    for n in comm:\r\n",
        "        partition_greedy[n]=i"
      ],
      "execution_count": 198,
      "outputs": [
        {
          "output_type": "stream",
          "text": [
            "Community: 0\n",
            "Number of elems 164\n",
            "Community: 1\n",
            "Number of elems 72\n",
            "Community: 2\n",
            "Number of elems 53\n",
            "Community: 3\n",
            "Number of elems 46\n",
            "Community: 4\n",
            "Number of elems 37\n",
            "Community: 5\n",
            "Number of elems 36\n",
            "Community: 6\n",
            "Number of elems 33\n",
            "Community: 7\n",
            "Number of elems 31\n",
            "Community: 8\n",
            "Number of elems 31\n",
            "Community: 9\n",
            "Number of elems 30\n",
            "Community: 10\n",
            "Number of elems 17\n",
            "Community: 11\n",
            "Number of elems 17\n",
            "Community: 12\n",
            "Number of elems 13\n",
            "Community: 13\n",
            "Number of elems 6\n",
            "Community: 14\n",
            "Number of elems 6\n",
            "Community: 15\n",
            "Number of elems 6\n",
            "Community: 16\n",
            "Number of elems 5\n",
            "Community: 17\n",
            "Number of elems 5\n",
            "Community: 18\n",
            "Number of elems 5\n",
            "Community: 19\n",
            "Number of elems 3\n",
            "Community: 20\n",
            "Number of elems 2\n",
            "Community: 21\n",
            "Number of elems 2\n"
          ],
          "name": "stdout"
        }
      ]
    },
    {
      "cell_type": "code",
      "metadata": {
        "colab": {
          "base_uri": "https://localhost:8080/"
        },
        "id": "0RmeDUIiFfhd",
        "outputId": "6c902002-2575-4817-82ad-423b222d7120"
      },
      "source": [
        "print(list(partition_greedy.items())[0:20])"
      ],
      "execution_count": 199,
      "outputs": [
        {
          "output_type": "stream",
          "text": [
            "[('Pat Neely', 0), ('Red Robin Gourmet Burgers', 0), ('The Tuscan Gun', 0), ('Hubert Keller', 0), ('Samin Nosrat', 0), ('Gavin Kaysen', 0), ('Stephanie Izard', 0), ('Chef Marc Murphy', 0), ('Eduardo Palazuelos', 0), ('Harlem EatUp', 0), ('Chef Lorena Garcia', 0), ('Donatella Arpaia', 0), ('Roy Choi', 0), ('Chef Kiran Jethwa', 0), ('Chef Ana Paula', 0), ('Mei Lin', 0), ('Michael Lomonaco', 0), ('Tom Aikens', 0), ('Marc Forgione', 0), ('Chef Marcela Valladolid', 0)]\n"
          ],
          "name": "stdout"
        }
      ]
    },
    {
      "cell_type": "code",
      "metadata": {
        "colab": {
          "base_uri": "https://localhost:8080/",
          "height": 248
        },
        "id": "MeJ1STUKRtc5",
        "outputId": "7bd97b91-58a4-4b1a-8bfe-2f93341b8bc2"
      },
      "source": [
        "# draw the graph\r\n",
        "pos = nx.spring_layout(G)\r\n",
        "# color the nodes according to their partition\r\n",
        "cmap = cm.get_cmap('tab20', max(partition_greedy.values()) + 1)\r\n",
        "nx.draw_networkx_nodes(G, pos, partition_greedy.keys(), node_size=20,\r\n",
        "                       cmap=cmap, node_color=list(partition_greedy.values()))\r\n",
        "nx.draw_networkx_edges(G, pos, alpha=0.5)\r\n",
        "plt.show()"
      ],
      "execution_count": 200,
      "outputs": [
        {
          "output_type": "display_data",
          "data": {
            "image/png": "[encoded data removed]",
            "text/plain": [
              "<Figure size 432x288 with 1 Axes>"
            ]
          },
          "metadata": {
            "tags": []
          }
        }
      ]
    },
    {
      "cell_type": "code",
      "metadata": {
        "id": "lBIznJC6Ni2n"
      },
      "source": [
        ""
      ],
      "execution_count": 200,
      "outputs": []
    },
    {
      "cell_type": "code",
      "metadata": {
        "id": "4GiwPnExNvhO"
      },
      "source": [
        "partition_library = community_louvain.best_partition(G)"
      ],
      "execution_count": 201,
      "outputs": []
    },
    {
      "cell_type": "code",
      "metadata": {
        "colab": {
          "base_uri": "https://localhost:8080/"
        },
        "id": "IRkaWFmJNwjx",
        "outputId": "0c353d4f-0690-4d6d-9e6d-b49b0d63dd79"
      },
      "source": [
        "print(list(partition_library.items())[0:20])"
      ],
      "execution_count": 202,
      "outputs": [
        {
          "output_type": "stream",
          "text": [
            "[('Lee Anne Wong', 0), ('KFC_3', 0), ('Chef Jamie Gwen', 1), ('Madison Cowan', 0), ('Elizabeth Karmel', 1), ('KFC_22', 0), ('KFC_8', 0), ('Pat Neely', 16), ('Logan Junior Chef', 16), ('Robin Miller', 1), ('Ben Sargent & Dr. Klaw', 3), ('Bobby Flay', 1), ('Chuck Hughes', 3), ('Chef Carlo Cracco', 4), ('Pasqualino Barbasso', 4), ('Alessandro Borghese', 4), ('Chef Hirohiko Shoda', 4), ('Alain Ducasse', 5), ('Christian Bau', 4), ('Andy Luotto', 4)]\n"
          ],
          "name": "stdout"
        }
      ]
    },
    {
      "cell_type": "code",
      "metadata": {
        "colab": {
          "base_uri": "https://localhost:8080/",
          "height": 248
        },
        "id": "hGXWvnsXNycE",
        "outputId": "f6a50b16-88f6-40a0-c56f-67dd9512bbe1"
      },
      "source": [
        "# draw the graph\r\n",
        "pos = nx.spring_layout(G)\r\n",
        "# color the nodes according to their partition\r\n",
        "cmap = cm.get_cmap('tab20', max(partition_library.values()) + 1)\r\n",
        "nx.draw_networkx_nodes(G, pos, partition_library.keys(), node_size=20,\r\n",
        "                       cmap=cmap, node_color=list(partition_library.values()))\r\n",
        "nx.draw_networkx_edges(G, pos, alpha=0.5)\r\n",
        "plt.show()"
      ],
      "execution_count": 203,
      "outputs": [
        {
          "output_type": "display_data",
          "data": {
            "image/png": "[encoded data removed]",
            "text/plain": [
              "<Figure size 432x288 with 1 Axes>"
            ]
          },
          "metadata": {
            "tags": []
          }
        }
      ]
    },
    {
      "cell_type": "code",
      "metadata": {
        "colab": {
          "base_uri": "https://localhost:8080/"
        },
        "id": "meOV1QcNODtR",
        "outputId": "2c110747-38c6-4e6e-d9d1-604c10787f5d"
      },
      "source": [
        "comms = set(partition_library.values())\r\n",
        "comms\r\n",
        "\r\n"
      ],
      "execution_count": 204,
      "outputs": [
        {
          "output_type": "execute_result",
          "data": {
            "text/plain": [
              "{0, 1, 2, 3, 4, 5, 6, 7, 8, 9, 10, 11, 12, 13, 14, 15, 16, 17, 18, 19}"
            ]
          },
          "metadata": {
            "tags": []
          },
          "execution_count": 204
        }
      ]
    },
    {
      "cell_type": "code",
      "metadata": {
        "id": "oK4GKKjDQq8t"
      },
      "source": [
        "list_community_sets_library = [ set() for i in range(len(comms)) ]"
      ],
      "execution_count": 205,
      "outputs": []
    },
    {
      "cell_type": "code",
      "metadata": {
        "colab": {
          "base_uri": "https://localhost:8080/"
        },
        "id": "lclKJWLEQrU4",
        "outputId": "9dd3dae0-1c50-4904-9edc-21da64b9f887"
      },
      "source": [
        "for n, comm in partition_library.items():\r\n",
        "    list_community_sets_library[comm].add(n)\r\n",
        "\r\n",
        "list_community_sets_library[0:2]"
      ],
      "execution_count": 206,
      "outputs": [
        {
          "output_type": "execute_result",
          "data": {
            "text/plain": [
              "[{\"Carl's Jr.\",\n",
              "  \"Carl's Jr. NZ\",\n",
              "  \"Hardee's\",\n",
              "  'KFC_1',\n",
              "  'KFC_10',\n",
              "  'KFC_11',\n",
              "  'KFC_12',\n",
              "  'KFC_13',\n",
              "  'KFC_14',\n",
              "  'KFC_15',\n",
              "  'KFC_16',\n",
              "  'KFC_18',\n",
              "  'KFC_19',\n",
              "  'KFC_20',\n",
              "  'KFC_22',\n",
              "  'KFC_23',\n",
              "  'KFC_24',\n",
              "  'KFC_25',\n",
              "  'KFC_26',\n",
              "  'KFC_27',\n",
              "  'KFC_3',\n",
              "  'KFC_5',\n",
              "  'KFC_6',\n",
              "  'KFC_7',\n",
              "  'KFC_8',\n",
              "  'KFC_9',\n",
              "  'Lee Anne Wong',\n",
              "  'Madison Cowan',\n",
              "  'Opry City Stage'},\n",
              " {\"'Wichcraft\",\n",
              "  'Aarón Sánchez',\n",
              "  'Alex Guarnaschelli',\n",
              "  'Alfred Portale',\n",
              "  'Amy Thielen',\n",
              "  'Angelo Sosa',\n",
              "  'Anne Burrell',\n",
              "  'Blue Ribbon Fried Chicken',\n",
              "  'Blue Ribbon Restaurants',\n",
              "  'Bobby Flay',\n",
              "  'Bradley Ogden',\n",
              "  'Brooke Williamson',\n",
              "  'Bryce Shuman',\n",
              "  'Camille Becerra',\n",
              "  'Cat Cora',\n",
              "  'Cesare Casella',\n",
              "  'Chef Alex Levin',\n",
              "  'Chef Ben Churchill',\n",
              "  'Chef Ben Ford',\n",
              "  'Chef Billy Parisi',\n",
              "  'Chef Carla Hall',\n",
              "  'Chef Carmen Gonzalez',\n",
              "  'Chef Casey Thompson',\n",
              "  'Chef Charlie Palmer',\n",
              "  'Chef Clément',\n",
              "  'Chef Cynthia Louise',\n",
              "  'Chef Damaris Phillips',\n",
              "  'Chef Daniel Boulud',\n",
              "  'Chef David Burke',\n",
              "  'Chef Elizabeth Falkner',\n",
              "  'Chef Francois Payard',\n",
              "  'Chef Jamie Gwen',\n",
              "  'Chef Jet Tila',\n",
              "  'Chef Kent Graham',\n",
              "  'Chef Maeve Rochford',\n",
              "  'Chef Marc Murphy',\n",
              "  'Chef Marcela Valladolid',\n",
              "  'Chef Mark Garcia',\n",
              "  'Chef Mary Sue Milliken',\n",
              "  'Chef Michael Ferraro',\n",
              "  'Chef Michelle Bernstein',\n",
              "  'Chef Nina Compton',\n",
              "  'Chef Richard Sandoval',\n",
              "  'Chef Rick Moonen',\n",
              "  'Chef Robert Irvine',\n",
              "  'Chef Rusty Hamlin',\n",
              "  'Chef Sheldon Simeon',\n",
              "  'Chef Shirley Chung',\n",
              "  'Chef Sue Zemanick',\n",
              "  'Chef Todd Mohr',\n",
              "  'Christina Tosi',\n",
              "  'Cucina by Wolfgang Puck',\n",
              "  \"D'O - Davide Oldani\",\n",
              "  'Dale Talde',\n",
              "  'Dan Kluger',\n",
              "  'Daniel Humm',\n",
              "  'David Chang',\n",
              "  'Dean Fearing',\n",
              "  'Dean Sheremet',\n",
              "  'DedeMed',\n",
              "  'Dina Nikolaou',\n",
              "  'Dining with Flynn',\n",
              "  'Donatella Arpaia',\n",
              "  'Doug Adams',\n",
              "  \"Dunkin' Donuts_9\",\n",
              "  'Elizabeth Karmel',\n",
              "  'Emily Ellyn',\n",
              "  'Enrique Olvera',\n",
              "  'Eric Ripert',\n",
              "  'Fabio Viviani',\n",
              "  'Five Guys_1',\n",
              "  'Franklin Becker',\n",
              "  'Frantzén',\n",
              "  'Gavin Kaysen',\n",
              "  'Geoffrey Zakarian',\n",
              "  'Gregory Gourdet',\n",
              "  'Harlem EatUp',\n",
              "  'Hubert Keller',\n",
              "  'Hugh Acheson',\n",
              "  'Jacques Pépin',\n",
              "  'John DeLucie',\n",
              "  'John Whaite',\n",
              "  'Johnny Iuzzini',\n",
              "  'Jose Garces',\n",
              "  'Josh Elkin',\n",
              "  'José Andrés',\n",
              "  'Julia Child',\n",
              "  'Ken Oringer',\n",
              "  'Kristen Kish',\n",
              "  'Ludo Lefebvre',\n",
              "  'Luke Thomas',\n",
              "  'Magnum_2',\n",
              "  \"Manjula's Kitchen - Indian Vegetarian Recipes\",\n",
              "  'Marc Forgione',\n",
              "  'Marcel Vigneron',\n",
              "  'Marcus Samuelsson',\n",
              "  'Maria Loi',\n",
              "  'Matthew Kenney',\n",
              "  'Mei Lin',\n",
              "  'Melissa King',\n",
              "  'Michael Lomonaco',\n",
              "  'Michael White',\n",
              "  'Michel Nischan',\n",
              "  'Noma',\n",
              "  'Nyesha Arrington',\n",
              "  'Ochikeron',\n",
              "  'Paul Qui',\n",
              "  'Ranveer Brar',\n",
              "  'Raymond Blanc',\n",
              "  'Red Robin Gourmet Burgers',\n",
              "  'René Redzepi',\n",
              "  'Robin Miller',\n",
              "  'Roy Choi',\n",
              "  'Russell Jackson',\n",
              "  'Sam Choy',\n",
              "  'Samin Nosrat',\n",
              "  'Sang Yoon',\n",
              "  'Saransh Goila',\n",
              "  'Scott Conant',\n",
              "  'Seamus Mullen',\n",
              "  'Stephanie Izard',\n",
              "  'Steve Konopelski',\n",
              "  'Susan Feniger',\n",
              "  'Suzanne Goin',\n",
              "  'Tim Love',\n",
              "  'Tom Aikens',\n",
              "  'Tom Colicchio',\n",
              "  'UMass Dining',\n",
              "  'Vegan Black Metal Chef',\n",
              "  'Veggie Grill',\n",
              "  'Vicky Ratnani',\n",
              "  'Virginia Willis',\n",
              "  'Wolfgang Puck',\n",
              "  \"Xi'an Famous Foods 西安名吃\",\n",
              "  'משה שגב / Moshe Segev'}]"
            ]
          },
          "metadata": {
            "tags": []
          },
          "execution_count": 206
        }
      ]
    },
    {
      "cell_type": "code",
      "metadata": {
        "colab": {
          "base_uri": "https://localhost:8080/"
        },
        "id": "ce11QS3KQs6i",
        "outputId": "69b04a45-cd04-4fa3-c5ac-000338c51a0d"
      },
      "source": [
        "for my_list in [list_community_sets_greedy,  list_community_sets_library]:\r\n",
        "    \r\n",
        "    #print(\"Coverage\")\r\n",
        "    print(\"Coverage\", nx_comm.coverage(G, my_list))\r\n",
        "    #print(\"Modularity\")\r\n",
        "    print(\"Modularity\", nx_comm.modularity(G, my_list, weight='weight'))\r\n",
        "    #print(\"Performance\")\r\n",
        "    print(\"Performance\", nx_comm.performance(G, my_list))\r\n",
        "    \r\n",
        "    print(\"---\")"
      ],
      "execution_count": 207,
      "outputs": [
        {
          "output_type": "stream",
          "text": [
            "Coverage 0.8686964795432921\n",
            "Modularity 0.6331957195403588\n",
            "Performance 0.8936682474334254\n",
            "---\n",
            "Coverage 0.8582302568981922\n",
            "Modularity 0.6524731554651859\n",
            "Performance 0.9000104226379697\n",
            "---\n"
          ],
          "name": "stdout"
        }
      ]
    },
    {
      "cell_type": "code",
      "metadata": {
        "colab": {
          "base_uri": "https://localhost:8080/"
        },
        "id": "_4aPTKeORC2d",
        "outputId": "b39b7675-4bd4-456c-bfe0-fad7fd5e06d6"
      },
      "source": [
        "\r\n",
        "\r\n",
        "pairs = []\r\n",
        "for i, nod in enumerate(list_community_sets_library):\r\n",
        "    print(i,len(nod))\r\n",
        "    comm_size = (i,len(nod))\r\n",
        "    pairs.append(comm_size)\r\n",
        "\r\n"
      ],
      "execution_count": 208,
      "outputs": [
        {
          "output_type": "stream",
          "text": [
            "0 29\n",
            "1 135\n",
            "2 34\n",
            "3 15\n",
            "4 18\n",
            "5 36\n",
            "6 73\n",
            "7 31\n",
            "8 13\n",
            "9 3\n",
            "10 6\n",
            "11 5\n",
            "12 45\n",
            "13 6\n",
            "14 17\n",
            "15 2\n",
            "16 94\n",
            "17 46\n",
            "18 10\n",
            "19 2\n"
          ],
          "name": "stdout"
        }
      ]
    },
    {
      "cell_type": "code",
      "metadata": {
        "colab": {
          "base_uri": "https://localhost:8080/"
        },
        "id": "k4xDW9RORELR",
        "outputId": "a9e9c1da-1594-4a66-9c97-a8523a390e26"
      },
      "source": [
        "pairs"
      ],
      "execution_count": 209,
      "outputs": [
        {
          "output_type": "execute_result",
          "data": {
            "text/plain": [
              "[(0, 29),\n",
              " (1, 135),\n",
              " (2, 34),\n",
              " (3, 15),\n",
              " (4, 18),\n",
              " (5, 36),\n",
              " (6, 73),\n",
              " (7, 31),\n",
              " (8, 13),\n",
              " (9, 3),\n",
              " (10, 6),\n",
              " (11, 5),\n",
              " (12, 45),\n",
              " (13, 6),\n",
              " (14, 17),\n",
              " (15, 2),\n",
              " (16, 94),\n",
              " (17, 46),\n",
              " (18, 10),\n",
              " (19, 2)]"
            ]
          },
          "metadata": {
            "tags": []
          },
          "execution_count": 209
        }
      ]
    },
    {
      "cell_type": "code",
      "metadata": {
        "id": "hNbXN52fREWE"
      },
      "source": [
        "community_index = []\r\n",
        "number_of_nodes = []\r\n",
        "\r\n",
        "for comm, n_nodes in pairs:\r\n",
        "    community_index.append(str(comm))\r\n",
        "    number_of_nodes.append(n_nodes)\r\n",
        "\r\n"
      ],
      "execution_count": 210,
      "outputs": []
    },
    {
      "cell_type": "code",
      "metadata": {
        "colab": {
          "base_uri": "https://localhost:8080/",
          "height": 299
        },
        "id": "83NF1Wn6RJFa",
        "outputId": "7e14339e-f1c1-4dc8-dfd0-b08c41d14b66"
      },
      "source": [
        "plt.bar(community_index,number_of_nodes)\r\n",
        "plt.xlabel(\"Community\")\r\n",
        "plt.ylabel(\"Number of nodes\")"
      ],
      "execution_count": 211,
      "outputs": [
        {
          "output_type": "execute_result",
          "data": {
            "text/plain": [
              "Text(0, 0.5, 'Number of nodes')"
            ]
          },
          "metadata": {
            "tags": []
          },
          "execution_count": 211
        },
        {
          "output_type": "display_data",
          "data": {
            "image/png": "[encoded data removed]",
            "text/plain": [
              "<Figure size 432x288 with 1 Axes>"
            ]
          },
          "metadata": {
            "tags": [],
            "needs_background": "light"
          }
        }
      ]
    }
  ]
}