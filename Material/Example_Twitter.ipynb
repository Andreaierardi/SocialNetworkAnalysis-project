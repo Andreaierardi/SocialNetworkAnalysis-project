{
 "cells": [
  {
   "cell_type": "markdown",
   "metadata": {},
   "source": [
    "# A dataset from Twitter: undirected graph\n",
    "\n",
    "http://networkrepository.com/rt-pol.php\n",
    "\n",
    "An undirected graph\n"
   ]
  },
  {
   "cell_type": "code",
   "execution_count": 1,
   "metadata": {},
   "outputs": [],
   "source": [
    "from statsmodels.distributions.empirical_distribution import ECDF\n",
    "import networkx as nx\n",
    "from statsmodels.distributions.empirical_distribution import ECDF\n",
    "import numpy as np\n",
    "import matplotlib.pyplot as plt"
   ]
  },
  {
   "cell_type": "code",
   "execution_count": 9,
   "metadata": {
    "scrolled": true
   },
   "outputs": [
    {
     "name": "stdout",
     "output_type": "stream",
     "text": [
      "Numero di nodi: 18470\n",
      "Numero di archi: 48053\n",
      "7349\n",
      "{'12464': {'time': 1286836003.0}, '17337': {'time': 1286126973.0}, '7635': {'time': 1286836347.0}, '8888': {'time': 1285529280.0}, '9691': {'time': 1286814408.0}, '10363': {'time': 1286124914.0}, '9198': {'time': 1286130476.0}, '16907': {'time': 1284563918.0}, '11107': {'time': 1286814297.0}, '10722': {'time': 1286815124.0}, '17890': {'time': 1287729948.0}, '770': {'time': 1284828036.0}, '1247': {'time': 1286124703.0}, '15011': {'time': 1286810255.0}, '6550': {'time': 1288578714.0}, '4724': {'time': 1284564085.0}, '4544': {'time': 1286810979.0}, '5770': {'time': 1284739718.0}, '1213': {'time': 1286087683.0}, '7446': {'time': 1286747346.0}, '9463': {'time': 1286814346.0}, '7733': {'time': 1287276983.0}, '2695': {'time': 1286130165.0}, '2506': {'time': 1286292851.0}, '3128': {'time': 1286896227.0}, '12241': {'time': 1284886258.0}, '12252': {'time': 1284827973.0}, '675': {'time': 1287376383.0}, '4224': {'time': 1288578217.0}, '14392': {'time': 1284886358.0}, '15592': {'time': 1286814691.0}, '7434': {'time': 1286811329.0}}\n"
     ]
    }
   ],
   "source": [
    "twitter=nx.read_edgelist('data/rt-pol.txt',delimiter=',',data=[('time',float)])\n",
    "print('Numero di nodi: {}'.format(twitter.order()))\n",
    "print('Numero di archi: {}'.format(twitter.size()))\n",
    "nodes=list(twitter.nodes())\n",
    "print(nodes[1])\n",
    "print(twitter[nodes[1]])"
   ]
  },
  {
   "cell_type": "code",
   "execution_count": 10,
   "metadata": {},
   "outputs": [
    {
     "name": "stdout",
     "output_type": "stream",
     "text": [
      "12464 7349 4 4\n",
      "12464 7349 4\n",
      "12464 7349\n",
      "6820 12569 5 5\n",
      "6820 12569 5\n",
      "6820 12569\n"
     ]
    }
   ],
   "source": [
    "# underscore. It is used to ignore values, given not using that in future code.\n",
    "with open('data/example_underscore.txt') as f:\n",
    "    #il file è:\n",
    "    #12464,7349,1286901355,4\n",
    "    #6820,12569,1287988962,5\n",
    "    for line in f:\n",
    "        source, destination, _, _= line.strip().split(',')\n",
    "        print(source,destination,_,_)\n",
    "        print(source,destination,_)\n",
    "        print(source,destination)"
   ]
  },
  {
   "cell_type": "code",
   "execution_count": 11,
   "metadata": {},
   "outputs": [
    {
     "name": "stdout",
     "output_type": "stream",
     "text": [
      "Numero di nodi: 18470\n",
      "Numero di archi: 48053\n",
      "{7349: {}, 9864: {}, 5776: {}, 8096: {}, 7340: {}, 3648: {}, 18099: {}, 8719: {}, 4682: {}, 13445: {}, 13780: {}, 3348: {}, 9742: {}, 2103: {}, 16723: {}, 1616: {}, 15289: {}, 12108: {}, 9279: {}, 12149: {}, 6412: {}, 11590: {}, 5641: {}, 3278: {}, 14108: {}, 12710: {}, 3033: {}, 6940: {}, 17586: {}, 17527: {}, 1544: {}, 9891: {}, 11837: {}, 1857: {}, 17319: {}, 14396: {}, 15966: {}, 7720: {}, 14759: {}, 14636: {}, 13053: {}, 11488: {}, 6289: {}, 5010: {}, 5879: {}, 5416: {}, 7287: {}, 6514: {}, 6072: {}, 17799: {}, 2196: {}, 13794: {}, 4899: {}, 16281: {}, 17504: {}, 15389: {}, 12051: {}, 15407: {}, 4644: {}, 9659: {}, 5643: {}, 17338: {}, 10216: {}, 10488: {}, 16738: {}, 12749: {}, 8614: {}, 15315: {}, 6920: {}, 4141: {}, 7871: {}, 8936: {}, 4696: {}, 3137: {}, 716: {}, 17206: {}, 16890: {}, 18062: {}, 9017: {}, 18466: {}, 17861: {}, 1363: {}, 3247: {}, 17744: {}, 7994: {}, 15714: {}, 4481: {}, 16010: {}, 6865: {}, 17960: {}, 152: {}, 14619: {}, 17738: {}, 8873: {}, 5825: {}, 17865: {}, 7305: {}, 7691: {}, 15743: {}, 8213: {}, 10292: {}, 10522: {}, 8710: {}, 13544: {}, 5100: {}, 6294: {}, 7770: {}, 2886: {}, 15865: {}, 10663: {}, 11678: {}, 12531: {}, 17149: {}, 14556: {}, 6755: {}, 9133: {}, 17895: {}, 885: {}, 8569: {}, 18198: {}, 14358: {}, 13014: {}, 4245: {}, 6558: {}, 14978: {}, 13730: {}, 13159: {}, 2449: {}, 16310: {}, 10167: {}, 7811: {}, 10490: {}, 10234: {}, 11528: {}, 3078: {}, 15394: {}, 17407: {}, 4566: {}, 2476: {}, 16791: {}, 8538: {}, 4211: {}, 3731: {}, 13368: {}, 5329: {}, 14419: {}, 2187: {}, 2782: {}, 17380: {}, 1309: {}, 476: {}, 6801: {}, 13925: {}, 17687: {}, 7207: {}, 17521: {}, 14749: {}, 5057: {}, 10284: {}, 1748: {}, 7708: {}, 8770: {}, 3483: {}, 3422: {}, 931: {}, 7119: {}, 2464: {}, 17395: {}, 27: {}, 12090: {}, 2902: {}, 16498: {}, 6271: {}, 13985: {}, 5631: {}, 14721: {}, 14595: {}, 5372: {}, 12977: {}, 8515: {}, 2526: {}, 17650: {}, 15500: {}, 2779: {}, 12865: {}, 3337: {}, 15356: {}, 10554: {}, 5866: {}, 8888: {}, 16861: {}, 8345: {}, 4690: {}, 1694: {}, 1653: {}, 13432: {}, 1266: {}, 7136: {}, 15141: {}, 12172: {}}\n"
     ]
    }
   ],
   "source": [
    "twitter = nx.Graph()\n",
    "with open('data/rt-pol.txt') as f:\n",
    "    for line in f:\n",
    "        source, destination, _= line.strip().split(',') #nodes are strings\n",
    "        source, destination, _ = list(map(int,line.strip().split(','))) \n",
    "        # map (function, iterator) applies the function to each item of an iterable  \n",
    "        #nodes are int \n",
    "        twitter.add_edge(int(source), int(destination))\n",
    "print('Numero di nodi: {}'.format(twitter.order()))\n",
    "print('Numero di archi: {}'.format(twitter.size()))\n",
    "print(twitter[12464])\n",
    "#print(twitter['12464'])\n"
   ]
  },
  {
   "cell_type": "code",
   "execution_count": 12,
   "metadata": {},
   "outputs": [
    {
     "name": "stdout",
     "output_type": "stream",
     "text": [
      "Density: 0.00028173462530740065\n"
     ]
    }
   ],
   "source": [
    "density = nx.density(twitter)\n",
    "print('Density: {}'.format(density))"
   ]
  },
  {
   "cell_type": "markdown",
   "metadata": {},
   "source": [
    "## Degree analysis"
   ]
  },
  {
   "cell_type": "code",
   "execution_count": 13,
   "metadata": {},
   "outputs": [],
   "source": [
    "degree = list(dict(twitter.degree()).values())"
   ]
  },
  {
   "cell_type": "code",
   "execution_count": 14,
   "metadata": {},
   "outputs": [
    {
     "name": "stdout",
     "output_type": "stream",
     "text": [
      "Mean degree: 5.2033567948023824\n",
      "Standard deviation: 16.700531508711194\n",
      "Median: 1.0\n",
      "Min: 1\n",
      "Max: 786\n"
     ]
    }
   ],
   "source": [
    "print('Mean degree: {}'.format(np.mean(degree)))\n",
    "print('Standard deviation: {}'.format(np.std(degree)))\n",
    "print('Median: {}'.format(np.median(degree)))\n",
    "print('Min: {}'.format(np.min(degree)))\n",
    "print('Max: {}'.format(np.max(degree)))"
   ]
  },
  {
   "cell_type": "markdown",
   "metadata": {},
   "source": [
    "### ECDF in linear e logscale"
   ]
  },
  {
   "cell_type": "code",
   "execution_count": 15,
   "metadata": {},
   "outputs": [
    {
     "data": {
      "text/plain": [
       "Text(0,0.5,'ECDF Facebook')"
      ]
     },
     "execution_count": 15,
     "metadata": {},
     "output_type": "execute_result"
    },
    {
     "data": {
      "image/png": "[encoded data removed]",
      "text/plain": [
       "<Figure size 576x288 with 1 Axes>"
      ]
     },
     "metadata": {},
     "output_type": "display_data"
    }
   ],
   "source": [
    "# ECDF linear scale\n",
    "cdf = ECDF(degree)\n",
    "x = np.unique(degree)\n",
    "y = cdf(x)\n",
    "fig_cdf = plt.figure(figsize=(8,4))\n",
    "axes = fig_cdf.gca()\n",
    "axes.plot(x,y,marker='o',ms=6, linestyle='None')\n",
    "axes.set_xlabel('Degree',size=20)\n",
    "axes.set_ylabel('ECDF Facebook', size = 20)"
   ]
  },
  {
   "cell_type": "code",
   "execution_count": 16,
   "metadata": {},
   "outputs": [
    {
     "data": {
      "text/plain": [
       "Text(0,0.5,'ECDF Facebook')"
      ]
     },
     "execution_count": 16,
     "metadata": {},
     "output_type": "execute_result"
    },
    {
     "data": {
      "image/png": "[encoded data removed]",
      "text/plain": [
       "<Figure size 576x288 with 1 Axes>"
      ]
     },
     "metadata": {},
     "output_type": "display_data"
    }
   ],
   "source": [
    "# ECDF loglog scale\n",
    "cdf = ECDF(degree)\n",
    "x = np.unique(degree)\n",
    "y = cdf(x)\n",
    "fig_cdf = plt.figure(figsize=(8,4))\n",
    "axes = fig_cdf.gca()\n",
    "axes.loglog(x,y,marker='o',ms=8, linestyle='--')\n",
    "axes.set_xlabel('Degree',size=20)\n",
    "axes.set_ylabel('ECDF Facebook', size = 20)"
   ]
  },
  {
   "cell_type": "code",
   "execution_count": 17,
   "metadata": {},
   "outputs": [
    {
     "data": {
      "text/plain": [
       "Text(0,0.5,'ECCDF Facebook')"
      ]
     },
     "execution_count": 17,
     "metadata": {},
     "output_type": "execute_result"
    },
    {
     "data": {
      "image/png": "[encoded data removed]",
      "text/plain": [
       "<Figure size 576x288 with 1 Axes>"
      ]
     },
     "metadata": {},
     "output_type": "display_data"
    }
   ],
   "source": [
    "# ECCDF\n",
    "cdf = ECDF(degree)\n",
    "x = np.unique(degree)\n",
    "y = cdf(x)\n",
    "fig_cdf = plt.figure(figsize=(8,4))\n",
    "axes = fig_cdf.gca()\n",
    "axes.loglog(x,1-y,marker='o',ms=8, linestyle='--')\n",
    "axes.set_xlabel('Degree',size=20)\n",
    "axes.set_ylabel('ECCDF Facebook', size = 20)"
   ]
  },
  {
   "cell_type": "code",
   "execution_count": 27,
   "metadata": {},
   "outputs": [],
   "source": [
    "p = density"
   ]
  },
  {
   "cell_type": "code",
   "execution_count": 29,
   "metadata": {},
   "outputs": [],
   "source": [
    "random_graph = nx.fast_gnp_random_graph(twitter.order(),p)"
   ]
  },
  {
   "cell_type": "code",
   "execution_count": 20,
   "metadata": {},
   "outputs": [
    {
     "name": "stdout",
     "output_type": "stream",
     "text": [
      "Number of nodes: 18470\n",
      "Number of links: 48204\n"
     ]
    }
   ],
   "source": [
    "print('Number of nodes: {}'.format(random_graph.order()))\n",
    "print('Number of links: {}'.format(random_graph.size()))"
   ]
  },
  {
   "cell_type": "code",
   "execution_count": 21,
   "metadata": {},
   "outputs": [],
   "source": [
    "random_degree = list(dict(random_graph.degree()).values())"
   ]
  },
  {
   "cell_type": "code",
   "execution_count": 22,
   "metadata": {},
   "outputs": [
    {
     "data": {
      "text/plain": [
       "Text(0,0.5,'ECCDF')"
      ]
     },
     "execution_count": 22,
     "metadata": {},
     "output_type": "execute_result"
    },
    {
     "data": {
      "image/png": "[encoded data removed]",
      "text/plain": [
       "<Figure size 576x288 with 1 Axes>"
      ]
     },
     "metadata": {},
     "output_type": "display_data"
    }
   ],
   "source": [
    "cdf = ECDF(degree)\n",
    "x = np.unique(degree)\n",
    "y = cdf(x)\n",
    "\n",
    "cdf_random = ECDF(random_degree)\n",
    "x_random = np.unique(random_degree)\n",
    "y_random = cdf_random(x_random)\n",
    "\n",
    "fig_cdf_fb = plt.figure(figsize=(8,4))\n",
    "axes = fig_cdf_fb.gca()\n",
    "axes.set_xscale('log')\n",
    "axes.set_yscale('log')\n",
    "axes.loglog(x,1-y,marker='o',ms=8, linestyle='--')\n",
    "axes.loglog(x_random,1-y_random,marker='+',ms=10, linestyle='--')\n",
    "axes.set_xlabel('Degree',size=20)\n",
    "axes.set_ylabel('ECCDF', size = 20)\n"
   ]
  },
  {
   "cell_type": "markdown",
   "metadata": {},
   "source": [
    "# Hubs\n"
   ]
  },
  {
   "cell_type": "code",
   "execution_count": 23,
   "metadata": {},
   "outputs": [
    {
     "name": "stdout",
     "output_type": "stream",
     "text": [
      "67.0\n"
     ]
    }
   ],
   "source": [
    "percentile_99 = np.percentile(degree,99)\n",
    "print(percentile_99)"
   ]
  },
  {
   "cell_type": "code",
   "execution_count": 24,
   "metadata": {},
   "outputs": [],
   "source": [
    "hub_nodi = [k for k,v in dict(twitter.degree()).items() if v>= percentile_99]"
   ]
  },
  {
   "cell_type": "code",
   "execution_count": 25,
   "metadata": {},
   "outputs": [
    {
     "name": "stdout",
     "output_type": "stream",
     "text": [
      "190\n",
      "[12464, 6820, 4336, 16397, 17673, 5153, 9864, 5425, 1195, 12800, 17936, 13256, 14498, 17521, 9108, 4682, 790, 654, 9691, 13300, 1126, 11837, 18099, 1888, 701, 6558, 5372, 13643, 5677, 13652, 7635, 4949, 10078, 2624, 13775, 1379, 3076, 8691, 1490, 13014, 12619, 7036, 4075, 10255, 6864, 18215, 12750, 9868, 10391, 14393, 17445, 3630, 9392, 8208, 4319, 3313, 5461, 12339, 12033, 15727, 7458, 7720, 1473, 3551, 7406, 18416, 11211, 11833, 11827, 13794, 10790, 11594, 12280, 11805, 9419, 1438, 14025, 10854, 1247, 11342, 5770, 5008, 5776, 16143, 10990, 15011, 6213, 8435, 8675, 15966, 5509, 3167, 6105, 8556, 300, 14555, 3337, 15078, 3731, 7827, 13111, 6683, 7916, 3339, 9581, 2982, 12937, 11330, 7632, 15377, 3081, 2759, 7367, 2280, 8190, 7456, 3059, 16281, 3109, 14786, 4601, 18139, 11804, 12356, 675, 14584, 17798, 4066, 10005, 9463, 8796, 9811, 16261, 12602, 11865, 1141, 7770, 4544, 14729, 14749, 6129, 7854, 9310, 764, 11776, 2402, 5010, 15592, 9942, 6222, 10349, 14358, 8888, 11674, 4998, 2188, 16260, 17149, 14984, 2506, 1583, 2657, 13340, 8447, 6174, 2154, 6582, 1263, 9198, 4924, 7578, 8123, 6049, 11150, 17960, 2480, 18114, 16233, 5879, 3176, 2864, 5996, 12105, 4224, 10722, 12032, 3258, 8322, 12179, 5643]\n"
     ]
    }
   ],
   "source": [
    "print(len(hub_nodi))\n",
    "print(list(hub_nodi))"
   ]
  },
  {
   "cell_type": "code",
   "execution_count": 34,
   "metadata": {},
   "outputs": [
    {
     "name": "stdout",
     "output_type": "stream",
     "text": [
      "True\n",
      "1\n"
     ]
    }
   ],
   "source": [
    "# connectivity\n",
    "print(nx.is_connected(twitter))\n",
    "print(nx.number_connected_components(twitter))"
   ]
  },
  {
   "cell_type": "code",
   "execution_count": 36,
   "metadata": {},
   "outputs": [
    {
     "name": "stdout",
     "output_type": "stream",
     "text": [
      "0.026800979372480153\n"
     ]
    }
   ],
   "source": [
    "#transitivity\n",
    "transitivity=nx.transitivity(twitter)\n",
    "print(transitivity)\n"
   ]
  },
  {
   "cell_type": "markdown",
   "metadata": {},
   "source": []
  }
 ],
 "metadata": {
  "kernelspec": {
   "display_name": "Python 3",
   "language": "python",
   "name": "python3"
  },
  "language_info": {
   "codemirror_mode": {
    "name": "ipython",
    "version": 3
   },
   "file_extension": ".py",
   "mimetype": "text/x-python",
   "name": "python",
   "nbconvert_exporter": "python",
   "pygments_lexer": "ipython3",
   "version": "3.6.5"
  }
 },
 "nbformat": 4,
 "nbformat_minor": 2
}
